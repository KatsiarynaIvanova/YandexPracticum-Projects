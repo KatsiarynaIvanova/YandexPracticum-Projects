{
 "cells": [
  {
   "cell_type": "markdown",
   "metadata": {},
   "source": [
    "# Исследование надёжности заёмщиков\n",
    "\n",
    "Заказчик — кредитный отдел банка. Нужно разобраться, влияет ли семейное положение и количество детей клиента на факт погашения кредита в срок. \n",
    "\n",
    "Результаты исследования будут учтены при построении модели **кредитного скоринга** — специальной системы, которая оценивает способность потенциального заёмщика вернуть кредит банку.\n",
    "\n",
    "**Ход исследования**\n",
    "1. Обзор данных.\n",
    "2. Предобработка данных.\n",
    "3. Проверка гипотез. Выводы"
   ]
  },
  {
   "cell_type": "markdown",
   "metadata": {},
   "source": [
    "## Обзор данных"
   ]
  },
  {
   "cell_type": "code",
   "execution_count": 1,
   "metadata": {},
   "outputs": [
    {
     "name": "stdout",
     "output_type": "stream",
     "text": [
      "Requirement already satisfied: pymystem3 in /Users/daivanov/opt/anaconda3/envs/ds_practicum_env/lib/python3.9/site-packages (0.2.0)\n",
      "Requirement already satisfied: requests in /Users/daivanov/opt/anaconda3/envs/ds_practicum_env/lib/python3.9/site-packages (from pymystem3) (2.27.1)\n",
      "Requirement already satisfied: charset-normalizer~=2.0.0 in /Users/daivanov/opt/anaconda3/envs/ds_practicum_env/lib/python3.9/site-packages (from requests->pymystem3) (2.0.12)\n",
      "Requirement already satisfied: urllib3<1.27,>=1.21.1 in /Users/daivanov/opt/anaconda3/envs/ds_practicum_env/lib/python3.9/site-packages (from requests->pymystem3) (1.26.9)\n",
      "Requirement already satisfied: certifi>=2017.4.17 in /Users/daivanov/opt/anaconda3/envs/ds_practicum_env/lib/python3.9/site-packages (from requests->pymystem3) (2022.6.15)\n",
      "Requirement already satisfied: idna<4,>=2.5 in /Users/daivanov/opt/anaconda3/envs/ds_practicum_env/lib/python3.9/site-packages (from requests->pymystem3) (3.3)\n",
      "Note: you may need to restart the kernel to use updated packages.\n"
     ]
    }
   ],
   "source": [
    "pip install pymystem3"
   ]
  },
  {
   "cell_type": "code",
   "execution_count": 2,
   "metadata": {},
   "outputs": [],
   "source": [
    "# импортируем все необходимые для работы библиотеки\n",
    "from collections import Counter\n",
    "\n",
    "import pandas as pd\n",
    "from pymystem3 import Mystem\n",
    "\n",
    "m = Mystem()"
   ]
  },
  {
   "cell_type": "code",
   "execution_count": 3,
   "metadata": {},
   "outputs": [],
   "source": [
    "# чтение файла с данными и сохранение в переменную\n",
    "try:\n",
    "    data = pd.read_csv('/datasets/data.csv')\n",
    "except:\n",
    "    data = pd.read_csv('data.csv')"
   ]
  },
  {
   "cell_type": "code",
   "execution_count": 4,
   "metadata": {},
   "outputs": [
    {
     "data": {
      "text/html": [
       "<div>\n",
       "<style scoped>\n",
       "    .dataframe tbody tr th:only-of-type {\n",
       "        vertical-align: middle;\n",
       "    }\n",
       "\n",
       "    .dataframe tbody tr th {\n",
       "        vertical-align: top;\n",
       "    }\n",
       "\n",
       "    .dataframe thead th {\n",
       "        text-align: right;\n",
       "    }\n",
       "</style>\n",
       "<table border=\"1\" class=\"dataframe\">\n",
       "  <thead>\n",
       "    <tr style=\"text-align: right;\">\n",
       "      <th></th>\n",
       "      <th>children</th>\n",
       "      <th>days_employed</th>\n",
       "      <th>dob_years</th>\n",
       "      <th>education</th>\n",
       "      <th>education_id</th>\n",
       "      <th>family_status</th>\n",
       "      <th>family_status_id</th>\n",
       "      <th>gender</th>\n",
       "      <th>income_type</th>\n",
       "      <th>debt</th>\n",
       "      <th>total_income</th>\n",
       "      <th>purpose</th>\n",
       "    </tr>\n",
       "  </thead>\n",
       "  <tbody>\n",
       "    <tr>\n",
       "      <th>0</th>\n",
       "      <td>1</td>\n",
       "      <td>-8437.673028</td>\n",
       "      <td>42</td>\n",
       "      <td>высшее</td>\n",
       "      <td>0</td>\n",
       "      <td>женат / замужем</td>\n",
       "      <td>0</td>\n",
       "      <td>F</td>\n",
       "      <td>сотрудник</td>\n",
       "      <td>0</td>\n",
       "      <td>253875.639453</td>\n",
       "      <td>покупка жилья</td>\n",
       "    </tr>\n",
       "    <tr>\n",
       "      <th>1</th>\n",
       "      <td>1</td>\n",
       "      <td>-4024.803754</td>\n",
       "      <td>36</td>\n",
       "      <td>среднее</td>\n",
       "      <td>1</td>\n",
       "      <td>женат / замужем</td>\n",
       "      <td>0</td>\n",
       "      <td>F</td>\n",
       "      <td>сотрудник</td>\n",
       "      <td>0</td>\n",
       "      <td>112080.014102</td>\n",
       "      <td>приобретение автомобиля</td>\n",
       "    </tr>\n",
       "    <tr>\n",
       "      <th>2</th>\n",
       "      <td>0</td>\n",
       "      <td>-5623.422610</td>\n",
       "      <td>33</td>\n",
       "      <td>Среднее</td>\n",
       "      <td>1</td>\n",
       "      <td>женат / замужем</td>\n",
       "      <td>0</td>\n",
       "      <td>M</td>\n",
       "      <td>сотрудник</td>\n",
       "      <td>0</td>\n",
       "      <td>145885.952297</td>\n",
       "      <td>покупка жилья</td>\n",
       "    </tr>\n",
       "    <tr>\n",
       "      <th>3</th>\n",
       "      <td>3</td>\n",
       "      <td>-4124.747207</td>\n",
       "      <td>32</td>\n",
       "      <td>среднее</td>\n",
       "      <td>1</td>\n",
       "      <td>женат / замужем</td>\n",
       "      <td>0</td>\n",
       "      <td>M</td>\n",
       "      <td>сотрудник</td>\n",
       "      <td>0</td>\n",
       "      <td>267628.550329</td>\n",
       "      <td>дополнительное образование</td>\n",
       "    </tr>\n",
       "    <tr>\n",
       "      <th>4</th>\n",
       "      <td>0</td>\n",
       "      <td>340266.072047</td>\n",
       "      <td>53</td>\n",
       "      <td>среднее</td>\n",
       "      <td>1</td>\n",
       "      <td>гражданский брак</td>\n",
       "      <td>1</td>\n",
       "      <td>F</td>\n",
       "      <td>пенсионер</td>\n",
       "      <td>0</td>\n",
       "      <td>158616.077870</td>\n",
       "      <td>сыграть свадьбу</td>\n",
       "    </tr>\n",
       "    <tr>\n",
       "      <th>5</th>\n",
       "      <td>0</td>\n",
       "      <td>-926.185831</td>\n",
       "      <td>27</td>\n",
       "      <td>высшее</td>\n",
       "      <td>0</td>\n",
       "      <td>гражданский брак</td>\n",
       "      <td>1</td>\n",
       "      <td>M</td>\n",
       "      <td>компаньон</td>\n",
       "      <td>0</td>\n",
       "      <td>255763.565419</td>\n",
       "      <td>покупка жилья</td>\n",
       "    </tr>\n",
       "    <tr>\n",
       "      <th>6</th>\n",
       "      <td>0</td>\n",
       "      <td>-2879.202052</td>\n",
       "      <td>43</td>\n",
       "      <td>высшее</td>\n",
       "      <td>0</td>\n",
       "      <td>женат / замужем</td>\n",
       "      <td>0</td>\n",
       "      <td>F</td>\n",
       "      <td>компаньон</td>\n",
       "      <td>0</td>\n",
       "      <td>240525.971920</td>\n",
       "      <td>операции с жильем</td>\n",
       "    </tr>\n",
       "    <tr>\n",
       "      <th>7</th>\n",
       "      <td>0</td>\n",
       "      <td>-152.779569</td>\n",
       "      <td>50</td>\n",
       "      <td>СРЕДНЕЕ</td>\n",
       "      <td>1</td>\n",
       "      <td>женат / замужем</td>\n",
       "      <td>0</td>\n",
       "      <td>M</td>\n",
       "      <td>сотрудник</td>\n",
       "      <td>0</td>\n",
       "      <td>135823.934197</td>\n",
       "      <td>образование</td>\n",
       "    </tr>\n",
       "    <tr>\n",
       "      <th>8</th>\n",
       "      <td>2</td>\n",
       "      <td>-6929.865299</td>\n",
       "      <td>35</td>\n",
       "      <td>ВЫСШЕЕ</td>\n",
       "      <td>0</td>\n",
       "      <td>гражданский брак</td>\n",
       "      <td>1</td>\n",
       "      <td>F</td>\n",
       "      <td>сотрудник</td>\n",
       "      <td>0</td>\n",
       "      <td>95856.832424</td>\n",
       "      <td>на проведение свадьбы</td>\n",
       "    </tr>\n",
       "    <tr>\n",
       "      <th>9</th>\n",
       "      <td>0</td>\n",
       "      <td>-2188.756445</td>\n",
       "      <td>41</td>\n",
       "      <td>среднее</td>\n",
       "      <td>1</td>\n",
       "      <td>женат / замужем</td>\n",
       "      <td>0</td>\n",
       "      <td>M</td>\n",
       "      <td>сотрудник</td>\n",
       "      <td>0</td>\n",
       "      <td>144425.938277</td>\n",
       "      <td>покупка жилья для семьи</td>\n",
       "    </tr>\n",
       "  </tbody>\n",
       "</table>\n",
       "</div>"
      ],
      "text/plain": [
       "   children  days_employed  dob_years education  education_id  \\\n",
       "0         1   -8437.673028         42    высшее             0   \n",
       "1         1   -4024.803754         36   среднее             1   \n",
       "2         0   -5623.422610         33   Среднее             1   \n",
       "3         3   -4124.747207         32   среднее             1   \n",
       "4         0  340266.072047         53   среднее             1   \n",
       "5         0    -926.185831         27    высшее             0   \n",
       "6         0   -2879.202052         43    высшее             0   \n",
       "7         0    -152.779569         50   СРЕДНЕЕ             1   \n",
       "8         2   -6929.865299         35    ВЫСШЕЕ             0   \n",
       "9         0   -2188.756445         41   среднее             1   \n",
       "\n",
       "      family_status  family_status_id gender income_type  debt   total_income  \\\n",
       "0   женат / замужем                 0      F   сотрудник     0  253875.639453   \n",
       "1   женат / замужем                 0      F   сотрудник     0  112080.014102   \n",
       "2   женат / замужем                 0      M   сотрудник     0  145885.952297   \n",
       "3   женат / замужем                 0      M   сотрудник     0  267628.550329   \n",
       "4  гражданский брак                 1      F   пенсионер     0  158616.077870   \n",
       "5  гражданский брак                 1      M   компаньон     0  255763.565419   \n",
       "6   женат / замужем                 0      F   компаньон     0  240525.971920   \n",
       "7   женат / замужем                 0      M   сотрудник     0  135823.934197   \n",
       "8  гражданский брак                 1      F   сотрудник     0   95856.832424   \n",
       "9   женат / замужем                 0      M   сотрудник     0  144425.938277   \n",
       "\n",
       "                      purpose  \n",
       "0               покупка жилья  \n",
       "1     приобретение автомобиля  \n",
       "2               покупка жилья  \n",
       "3  дополнительное образование  \n",
       "4             сыграть свадьбу  \n",
       "5               покупка жилья  \n",
       "6           операции с жильем  \n",
       "7                 образование  \n",
       "8       на проведение свадьбы  \n",
       "9     покупка жилья для семьи  "
      ]
     },
     "execution_count": 4,
     "metadata": {},
     "output_type": "execute_result"
    }
   ],
   "source": [
    "data.head(10)"
   ]
  },
  {
   "cell_type": "code",
   "execution_count": 5,
   "metadata": {},
   "outputs": [
    {
     "name": "stdout",
     "output_type": "stream",
     "text": [
      "<class 'pandas.core.frame.DataFrame'>\n",
      "RangeIndex: 21525 entries, 0 to 21524\n",
      "Data columns (total 12 columns):\n",
      " #   Column            Non-Null Count  Dtype  \n",
      "---  ------            --------------  -----  \n",
      " 0   children          21525 non-null  int64  \n",
      " 1   days_employed     19351 non-null  float64\n",
      " 2   dob_years         21525 non-null  int64  \n",
      " 3   education         21525 non-null  object \n",
      " 4   education_id      21525 non-null  int64  \n",
      " 5   family_status     21525 non-null  object \n",
      " 6   family_status_id  21525 non-null  int64  \n",
      " 7   gender            21525 non-null  object \n",
      " 8   income_type       21525 non-null  object \n",
      " 9   debt              21525 non-null  int64  \n",
      " 10  total_income      19351 non-null  float64\n",
      " 11  purpose           21525 non-null  object \n",
      "dtypes: float64(2), int64(5), object(5)\n",
      "memory usage: 2.0+ MB\n"
     ]
    }
   ],
   "source": [
    "# ознакомились с типом данных в датасете и количеством ненулевых значений\n",
    "data.info()"
   ]
  },
  {
   "cell_type": "code",
   "execution_count": 6,
   "metadata": {},
   "outputs": [
    {
     "data": {
      "text/plain": [
       "array([ 1,  0,  3,  2, -1,  4, 20,  5])"
      ]
     },
     "execution_count": 6,
     "metadata": {},
     "output_type": "execute_result"
    }
   ],
   "source": [
    "# уникальные значения в колонке 'children'\n",
    "data['children'].unique()"
   ]
  },
  {
   "cell_type": "code",
   "execution_count": 7,
   "metadata": {},
   "outputs": [
    {
     "data": {
      "text/plain": [
       " 0     14149\n",
       " 1      4818\n",
       " 2      2055\n",
       " 3       330\n",
       " 20       76\n",
       "-1        47\n",
       " 4        41\n",
       " 5         9\n",
       "Name: children, dtype: int64"
      ]
     },
     "execution_count": 7,
     "metadata": {},
     "output_type": "execute_result"
    }
   ],
   "source": [
    "# подсчет уникальных значений\n",
    "data['children'].value_counts()"
   ]
  },
  {
   "cell_type": "code",
   "execution_count": 8,
   "metadata": {},
   "outputs": [
    {
     "data": {
      "text/plain": [
       "array(['женат / замужем', 'гражданский брак', 'вдовец / вдова',\n",
       "       'в разводе', 'Не женат / не замужем'], dtype=object)"
      ]
     },
     "execution_count": 8,
     "metadata": {},
     "output_type": "execute_result"
    }
   ],
   "source": [
    "# уникальные значения в колонке family_status\n",
    "data['family_status'].unique()"
   ]
  },
  {
   "cell_type": "markdown",
   "metadata": {},
   "source": [
    "**Вывод**  \n",
    "1. В столбце 'days_employed' много отрицательных вещественных значений. Следовательно, данные в столбце являются некорректными. Есть и положительные вещественные значения, которые не соответствуют адекватному стажу человека за всю его жизнь. Отрицательные значения могли возникнуть если данные заполнялись путем вычитания даты окончания (или настоящего момента) работы из даты (года) начала работы и умножения на 365. \n",
    "2. В столбце 'children' есть значения -1 и 20. Количество таких значений равно 47 и 76 соответственно. Строки с такими значениями не единичны, следовательно произошла ошибка при сборе данных. Возможно при обработке данных люди заполняли поле и поставили в графе количество детей дефис 1. А 20, наиболее вероятно, означает количество детей 2.\n",
    "3. В столбце 'education' используются разные регистры при заполнении данных. Возможны неявные дубликаты.\n",
    "4. В колонках 'days_employed' и 'total_income' количество ненулевых значений 19351, а строк всего 21525. В колонках 'days_employed' и 'total_income' есть значения NaN."
   ]
  },
  {
   "cell_type": "markdown",
   "metadata": {},
   "source": [
    "## Предобработка данных"
   ]
  },
  {
   "cell_type": "markdown",
   "metadata": {},
   "source": [
    "### Обработка пропусков и некоректных значений"
   ]
  },
  {
   "cell_type": "code",
   "execution_count": 9,
   "metadata": {},
   "outputs": [
    {
     "data": {
      "text/plain": [
       "children               0\n",
       "days_employed       2174\n",
       "dob_years              0\n",
       "education              0\n",
       "education_id           0\n",
       "family_status          0\n",
       "family_status_id       0\n",
       "gender                 0\n",
       "income_type            0\n",
       "debt                   0\n",
       "total_income        2174\n",
       "purpose                0\n",
       "dtype: int64"
      ]
     },
     "execution_count": 9,
     "metadata": {},
     "output_type": "execute_result"
    }
   ],
   "source": [
    "#подсчет пропусков в колонках\n",
    "data.isna().sum()"
   ]
  },
  {
   "cell_type": "code",
   "execution_count": 10,
   "metadata": {
    "scrolled": false
   },
   "outputs": [
    {
     "data": {
      "text/html": [
       "<div>\n",
       "<style scoped>\n",
       "    .dataframe tbody tr th:only-of-type {\n",
       "        vertical-align: middle;\n",
       "    }\n",
       "\n",
       "    .dataframe tbody tr th {\n",
       "        vertical-align: top;\n",
       "    }\n",
       "\n",
       "    .dataframe thead th {\n",
       "        text-align: right;\n",
       "    }\n",
       "</style>\n",
       "<table border=\"1\" class=\"dataframe\">\n",
       "  <thead>\n",
       "    <tr style=\"text-align: right;\">\n",
       "      <th></th>\n",
       "      <th>children</th>\n",
       "      <th>days_employed</th>\n",
       "      <th>dob_years</th>\n",
       "      <th>education</th>\n",
       "      <th>education_id</th>\n",
       "      <th>family_status</th>\n",
       "      <th>family_status_id</th>\n",
       "      <th>gender</th>\n",
       "      <th>income_type</th>\n",
       "      <th>debt</th>\n",
       "      <th>total_income</th>\n",
       "      <th>purpose</th>\n",
       "    </tr>\n",
       "  </thead>\n",
       "  <tbody>\n",
       "    <tr>\n",
       "      <th>12</th>\n",
       "      <td>0</td>\n",
       "      <td>NaN</td>\n",
       "      <td>65</td>\n",
       "      <td>среднее</td>\n",
       "      <td>1</td>\n",
       "      <td>гражданский брак</td>\n",
       "      <td>1</td>\n",
       "      <td>M</td>\n",
       "      <td>пенсионер</td>\n",
       "      <td>0</td>\n",
       "      <td>NaN</td>\n",
       "      <td>сыграть свадьбу</td>\n",
       "    </tr>\n",
       "    <tr>\n",
       "      <th>26</th>\n",
       "      <td>0</td>\n",
       "      <td>NaN</td>\n",
       "      <td>41</td>\n",
       "      <td>среднее</td>\n",
       "      <td>1</td>\n",
       "      <td>женат / замужем</td>\n",
       "      <td>0</td>\n",
       "      <td>M</td>\n",
       "      <td>госслужащий</td>\n",
       "      <td>0</td>\n",
       "      <td>NaN</td>\n",
       "      <td>образование</td>\n",
       "    </tr>\n",
       "    <tr>\n",
       "      <th>29</th>\n",
       "      <td>0</td>\n",
       "      <td>NaN</td>\n",
       "      <td>63</td>\n",
       "      <td>среднее</td>\n",
       "      <td>1</td>\n",
       "      <td>Не женат / не замужем</td>\n",
       "      <td>4</td>\n",
       "      <td>F</td>\n",
       "      <td>пенсионер</td>\n",
       "      <td>0</td>\n",
       "      <td>NaN</td>\n",
       "      <td>строительство жилой недвижимости</td>\n",
       "    </tr>\n",
       "    <tr>\n",
       "      <th>41</th>\n",
       "      <td>0</td>\n",
       "      <td>NaN</td>\n",
       "      <td>50</td>\n",
       "      <td>среднее</td>\n",
       "      <td>1</td>\n",
       "      <td>женат / замужем</td>\n",
       "      <td>0</td>\n",
       "      <td>F</td>\n",
       "      <td>госслужащий</td>\n",
       "      <td>0</td>\n",
       "      <td>NaN</td>\n",
       "      <td>сделка с подержанным автомобилем</td>\n",
       "    </tr>\n",
       "    <tr>\n",
       "      <th>55</th>\n",
       "      <td>0</td>\n",
       "      <td>NaN</td>\n",
       "      <td>54</td>\n",
       "      <td>среднее</td>\n",
       "      <td>1</td>\n",
       "      <td>гражданский брак</td>\n",
       "      <td>1</td>\n",
       "      <td>F</td>\n",
       "      <td>пенсионер</td>\n",
       "      <td>1</td>\n",
       "      <td>NaN</td>\n",
       "      <td>сыграть свадьбу</td>\n",
       "    </tr>\n",
       "    <tr>\n",
       "      <th>...</th>\n",
       "      <td>...</td>\n",
       "      <td>...</td>\n",
       "      <td>...</td>\n",
       "      <td>...</td>\n",
       "      <td>...</td>\n",
       "      <td>...</td>\n",
       "      <td>...</td>\n",
       "      <td>...</td>\n",
       "      <td>...</td>\n",
       "      <td>...</td>\n",
       "      <td>...</td>\n",
       "      <td>...</td>\n",
       "    </tr>\n",
       "    <tr>\n",
       "      <th>21489</th>\n",
       "      <td>2</td>\n",
       "      <td>NaN</td>\n",
       "      <td>47</td>\n",
       "      <td>Среднее</td>\n",
       "      <td>1</td>\n",
       "      <td>женат / замужем</td>\n",
       "      <td>0</td>\n",
       "      <td>M</td>\n",
       "      <td>компаньон</td>\n",
       "      <td>0</td>\n",
       "      <td>NaN</td>\n",
       "      <td>сделка с автомобилем</td>\n",
       "    </tr>\n",
       "    <tr>\n",
       "      <th>21495</th>\n",
       "      <td>1</td>\n",
       "      <td>NaN</td>\n",
       "      <td>50</td>\n",
       "      <td>среднее</td>\n",
       "      <td>1</td>\n",
       "      <td>гражданский брак</td>\n",
       "      <td>1</td>\n",
       "      <td>F</td>\n",
       "      <td>сотрудник</td>\n",
       "      <td>0</td>\n",
       "      <td>NaN</td>\n",
       "      <td>свадьба</td>\n",
       "    </tr>\n",
       "    <tr>\n",
       "      <th>21497</th>\n",
       "      <td>0</td>\n",
       "      <td>NaN</td>\n",
       "      <td>48</td>\n",
       "      <td>ВЫСШЕЕ</td>\n",
       "      <td>0</td>\n",
       "      <td>женат / замужем</td>\n",
       "      <td>0</td>\n",
       "      <td>F</td>\n",
       "      <td>компаньон</td>\n",
       "      <td>0</td>\n",
       "      <td>NaN</td>\n",
       "      <td>строительство недвижимости</td>\n",
       "    </tr>\n",
       "    <tr>\n",
       "      <th>21502</th>\n",
       "      <td>1</td>\n",
       "      <td>NaN</td>\n",
       "      <td>42</td>\n",
       "      <td>среднее</td>\n",
       "      <td>1</td>\n",
       "      <td>женат / замужем</td>\n",
       "      <td>0</td>\n",
       "      <td>F</td>\n",
       "      <td>сотрудник</td>\n",
       "      <td>0</td>\n",
       "      <td>NaN</td>\n",
       "      <td>строительство жилой недвижимости</td>\n",
       "    </tr>\n",
       "    <tr>\n",
       "      <th>21510</th>\n",
       "      <td>2</td>\n",
       "      <td>NaN</td>\n",
       "      <td>28</td>\n",
       "      <td>среднее</td>\n",
       "      <td>1</td>\n",
       "      <td>женат / замужем</td>\n",
       "      <td>0</td>\n",
       "      <td>F</td>\n",
       "      <td>сотрудник</td>\n",
       "      <td>0</td>\n",
       "      <td>NaN</td>\n",
       "      <td>приобретение автомобиля</td>\n",
       "    </tr>\n",
       "  </tbody>\n",
       "</table>\n",
       "<p>2174 rows × 12 columns</p>\n",
       "</div>"
      ],
      "text/plain": [
       "       children  days_employed  dob_years education  education_id  \\\n",
       "12            0            NaN         65   среднее             1   \n",
       "26            0            NaN         41   среднее             1   \n",
       "29            0            NaN         63   среднее             1   \n",
       "41            0            NaN         50   среднее             1   \n",
       "55            0            NaN         54   среднее             1   \n",
       "...         ...            ...        ...       ...           ...   \n",
       "21489         2            NaN         47   Среднее             1   \n",
       "21495         1            NaN         50   среднее             1   \n",
       "21497         0            NaN         48    ВЫСШЕЕ             0   \n",
       "21502         1            NaN         42   среднее             1   \n",
       "21510         2            NaN         28   среднее             1   \n",
       "\n",
       "               family_status  family_status_id gender  income_type  debt  \\\n",
       "12          гражданский брак                 1      M    пенсионер     0   \n",
       "26           женат / замужем                 0      M  госслужащий     0   \n",
       "29     Не женат / не замужем                 4      F    пенсионер     0   \n",
       "41           женат / замужем                 0      F  госслужащий     0   \n",
       "55          гражданский брак                 1      F    пенсионер     1   \n",
       "...                      ...               ...    ...          ...   ...   \n",
       "21489        женат / замужем                 0      M    компаньон     0   \n",
       "21495       гражданский брак                 1      F    сотрудник     0   \n",
       "21497        женат / замужем                 0      F    компаньон     0   \n",
       "21502        женат / замужем                 0      F    сотрудник     0   \n",
       "21510        женат / замужем                 0      F    сотрудник     0   \n",
       "\n",
       "       total_income                           purpose  \n",
       "12              NaN                   сыграть свадьбу  \n",
       "26              NaN                       образование  \n",
       "29              NaN  строительство жилой недвижимости  \n",
       "41              NaN  сделка с подержанным автомобилем  \n",
       "55              NaN                   сыграть свадьбу  \n",
       "...             ...                               ...  \n",
       "21489           NaN              сделка с автомобилем  \n",
       "21495           NaN                           свадьба  \n",
       "21497           NaN        строительство недвижимости  \n",
       "21502           NaN  строительство жилой недвижимости  \n",
       "21510           NaN           приобретение автомобиля  \n",
       "\n",
       "[2174 rows x 12 columns]"
      ]
     },
     "execution_count": 10,
     "metadata": {},
     "output_type": "execute_result"
    }
   ],
   "source": [
    "data[data.isnull().any(1)]"
   ]
  },
  {
   "cell_type": "markdown",
   "metadata": {},
   "source": [
    "**Note**\n",
    "\n",
    "Пропуски в колонке 'total_income' важны, так как необходимо узнать зависит ли доход человека от выплаты кредита в срок, поэтому удалить строки с пропущеными значениями мы не можем и их стоит заполнить. Интересно отметить, что пропуски в колонках 'days_employed' и 'total_income' в одних и тех же строках. Пропуски приходятся на разные группы 'income_type'.                               \n",
    "\n",
    "Пропуски могли возникнуть, напрмер, если человек, по каким-либо причинам, не иммеет официального дохода или стажа работы. Заполнить пропуски нулями нельзя, так как это повлияет на зависимость дохода от выплаты кредита в срок. Среднее значение так же не очень подойдет, так как при заполнении пропущенных значений средним измениться общее среднее для всех группы ('income_type'). Для заполнения используем медианное значение дохода, найденное по типу занятости людей.\n",
    "\n",
    "Так как стаж работы очень индивидуален для каждого человека, то сложно заполнить пропуски в этой колонке. Поскольку колонка далее не будет использоваться при проверке гипотез, пропущенные значения заменим на 0."
   ]
  },
  {
   "cell_type": "code",
   "execution_count": 11,
   "metadata": {},
   "outputs": [],
   "source": [
    "def dob_group(row):\n",
    "    if 18 <= row.dob_years <= 25:\n",
    "        return '0-25'\n",
    "    elif 25<row.dob_years<=35:\n",
    "        return '25-35'\n",
    "    elif 35<row.dob_years<=45:\n",
    "        return '36-45'\n",
    "    elif 45<row.dob_years<=55:\n",
    "        return '46-55'\n",
    "    elif 55<row.dob_years<=65:\n",
    "        return '56-65'\n",
    "    elif row.dob_years>65:\n",
    "        return '65+'\n",
    "    elif row.dob_years==0:\n",
    "        return '0'\n",
    "    return\n",
    "data['dob_group'] = data.apply(dob_group, axis=1)"
   ]
  },
  {
   "cell_type": "code",
   "execution_count": 12,
   "metadata": {
    "code_folding": []
   },
   "outputs": [
    {
     "data": {
      "text/html": [
       "<div>\n",
       "<style scoped>\n",
       "    .dataframe tbody tr th:only-of-type {\n",
       "        vertical-align: middle;\n",
       "    }\n",
       "\n",
       "    .dataframe tbody tr th {\n",
       "        vertical-align: top;\n",
       "    }\n",
       "\n",
       "    .dataframe thead th {\n",
       "        text-align: right;\n",
       "    }\n",
       "</style>\n",
       "<table border=\"1\" class=\"dataframe\">\n",
       "  <thead>\n",
       "    <tr style=\"text-align: right;\">\n",
       "      <th></th>\n",
       "      <th>income_type</th>\n",
       "      <th>education</th>\n",
       "      <th>dob_group</th>\n",
       "      <th>total_income</th>\n",
       "    </tr>\n",
       "  </thead>\n",
       "  <tbody>\n",
       "    <tr>\n",
       "      <th>0</th>\n",
       "      <td>безработный</td>\n",
       "      <td>Высшее</td>\n",
       "      <td>36-45</td>\n",
       "      <td>202722.511368</td>\n",
       "    </tr>\n",
       "    <tr>\n",
       "      <th>1</th>\n",
       "      <td>безработный</td>\n",
       "      <td>среднее</td>\n",
       "      <td>25-35</td>\n",
       "      <td>59956.991984</td>\n",
       "    </tr>\n",
       "    <tr>\n",
       "      <th>2</th>\n",
       "      <td>в декрете</td>\n",
       "      <td>СРЕДНЕЕ</td>\n",
       "      <td>36-45</td>\n",
       "      <td>53829.130729</td>\n",
       "    </tr>\n",
       "    <tr>\n",
       "      <th>3</th>\n",
       "      <td>госслужащий</td>\n",
       "      <td>ВЫСШЕЕ</td>\n",
       "      <td>0-25</td>\n",
       "      <td>262212.588221</td>\n",
       "    </tr>\n",
       "    <tr>\n",
       "      <th>4</th>\n",
       "      <td>госслужащий</td>\n",
       "      <td>ВЫСШЕЕ</td>\n",
       "      <td>25-35</td>\n",
       "      <td>193544.775495</td>\n",
       "    </tr>\n",
       "    <tr>\n",
       "      <th>...</th>\n",
       "      <td>...</td>\n",
       "      <td>...</td>\n",
       "      <td>...</td>\n",
       "      <td>...</td>\n",
       "    </tr>\n",
       "    <tr>\n",
       "      <th>235</th>\n",
       "      <td>сотрудник</td>\n",
       "      <td>среднее</td>\n",
       "      <td>56-65</td>\n",
       "      <td>141685.195480</td>\n",
       "    </tr>\n",
       "    <tr>\n",
       "      <th>236</th>\n",
       "      <td>сотрудник</td>\n",
       "      <td>среднее</td>\n",
       "      <td>65+</td>\n",
       "      <td>153651.057841</td>\n",
       "    </tr>\n",
       "    <tr>\n",
       "      <th>237</th>\n",
       "      <td>сотрудник</td>\n",
       "      <td>ученая степень</td>\n",
       "      <td>36-45</td>\n",
       "      <td>115949.039788</td>\n",
       "    </tr>\n",
       "    <tr>\n",
       "      <th>238</th>\n",
       "      <td>сотрудник</td>\n",
       "      <td>ученая степень</td>\n",
       "      <td>56-65</td>\n",
       "      <td>268411.214536</td>\n",
       "    </tr>\n",
       "    <tr>\n",
       "      <th>239</th>\n",
       "      <td>студент</td>\n",
       "      <td>высшее</td>\n",
       "      <td>0-25</td>\n",
       "      <td>98201.625314</td>\n",
       "    </tr>\n",
       "  </tbody>\n",
       "</table>\n",
       "<p>240 rows × 4 columns</p>\n",
       "</div>"
      ],
      "text/plain": [
       "     income_type       education dob_group   total_income\n",
       "0    безработный          Высшее     36-45  202722.511368\n",
       "1    безработный         среднее     25-35   59956.991984\n",
       "2      в декрете         СРЕДНЕЕ     36-45   53829.130729\n",
       "3    госслужащий          ВЫСШЕЕ      0-25  262212.588221\n",
       "4    госслужащий          ВЫСШЕЕ     25-35  193544.775495\n",
       "..           ...             ...       ...            ...\n",
       "235    сотрудник         среднее     56-65  141685.195480\n",
       "236    сотрудник         среднее       65+  153651.057841\n",
       "237    сотрудник  ученая степень     36-45  115949.039788\n",
       "238    сотрудник  ученая степень     56-65  268411.214536\n",
       "239      студент          высшее      0-25   98201.625314\n",
       "\n",
       "[240 rows x 4 columns]"
      ]
     },
     "execution_count": 12,
     "metadata": {},
     "output_type": "execute_result"
    }
   ],
   "source": [
    "# группируем данные и находим медианное значение дохода для каждой группы\n",
    "median_total_income = data.groupby(['income_type', 'education', 'dob_group'], as_index=False)['total_income'].median()\n",
    "median_total_income"
   ]
  },
  {
   "cell_type": "code",
   "execution_count": 13,
   "metadata": {},
   "outputs": [],
   "source": [
    "data.education = data.education.str.lower()\n",
    "\n",
    "median_income = data.pivot_table(index=['income_type', 'gender'],\n",
    "                               columns='education', values='total_income', aggfunc='median')"
   ]
  },
  {
   "cell_type": "code",
   "execution_count": 14,
   "metadata": {},
   "outputs": [
    {
     "data": {
      "text/html": [
       "<div>\n",
       "<style scoped>\n",
       "    .dataframe tbody tr th:only-of-type {\n",
       "        vertical-align: middle;\n",
       "    }\n",
       "\n",
       "    .dataframe tbody tr th {\n",
       "        vertical-align: top;\n",
       "    }\n",
       "\n",
       "    .dataframe thead th {\n",
       "        text-align: right;\n",
       "    }\n",
       "</style>\n",
       "<table border=\"1\" class=\"dataframe\">\n",
       "  <thead>\n",
       "    <tr style=\"text-align: right;\">\n",
       "      <th></th>\n",
       "      <th>education</th>\n",
       "      <th>высшее</th>\n",
       "      <th>начальное</th>\n",
       "      <th>неоконченное высшее</th>\n",
       "      <th>среднее</th>\n",
       "      <th>ученая степень</th>\n",
       "    </tr>\n",
       "    <tr>\n",
       "      <th>income_type</th>\n",
       "      <th>gender</th>\n",
       "      <th></th>\n",
       "      <th></th>\n",
       "      <th></th>\n",
       "      <th></th>\n",
       "      <th></th>\n",
       "    </tr>\n",
       "  </thead>\n",
       "  <tbody>\n",
       "    <tr>\n",
       "      <th rowspan=\"2\" valign=\"top\">безработный</th>\n",
       "      <th>F</th>\n",
       "      <td>202722.511368</td>\n",
       "      <td>NaN</td>\n",
       "      <td>NaN</td>\n",
       "      <td>NaN</td>\n",
       "      <td>NaN</td>\n",
       "    </tr>\n",
       "    <tr>\n",
       "      <th>M</th>\n",
       "      <td>NaN</td>\n",
       "      <td>NaN</td>\n",
       "      <td>NaN</td>\n",
       "      <td>59956.991984</td>\n",
       "      <td>NaN</td>\n",
       "    </tr>\n",
       "    <tr>\n",
       "      <th>в декрете</th>\n",
       "      <th>F</th>\n",
       "      <td>NaN</td>\n",
       "      <td>NaN</td>\n",
       "      <td>NaN</td>\n",
       "      <td>53829.130729</td>\n",
       "      <td>NaN</td>\n",
       "    </tr>\n",
       "    <tr>\n",
       "      <th rowspan=\"2\" valign=\"top\">госслужащий</th>\n",
       "      <th>F</th>\n",
       "      <td>157841.438279</td>\n",
       "      <td>89618.962330</td>\n",
       "      <td>136599.129610</td>\n",
       "      <td>125831.806597</td>\n",
       "      <td>111392.231107</td>\n",
       "    </tr>\n",
       "    <tr>\n",
       "      <th>M</th>\n",
       "      <td>214706.640963</td>\n",
       "      <td>190966.659534</td>\n",
       "      <td>177320.628254</td>\n",
       "      <td>169651.956756</td>\n",
       "      <td>NaN</td>\n",
       "    </tr>\n",
       "  </tbody>\n",
       "</table>\n",
       "</div>"
      ],
      "text/plain": [
       "education                  высшее      начальное  неоконченное высшее  \\\n",
       "income_type gender                                                      \n",
       "безработный F       202722.511368            NaN                  NaN   \n",
       "            M                 NaN            NaN                  NaN   \n",
       "в декрете   F                 NaN            NaN                  NaN   \n",
       "госслужащий F       157841.438279   89618.962330        136599.129610   \n",
       "            M       214706.640963  190966.659534        177320.628254   \n",
       "\n",
       "education                 среднее  ученая степень  \n",
       "income_type gender                                 \n",
       "безработный F                 NaN             NaN  \n",
       "            M        59956.991984             NaN  \n",
       "в декрете   F        53829.130729             NaN  \n",
       "госслужащий F       125831.806597   111392.231107  \n",
       "            M       169651.956756             NaN  "
      ]
     },
     "execution_count": 14,
     "metadata": {},
     "output_type": "execute_result"
    }
   ],
   "source": [
    "median_income.head()"
   ]
  },
  {
   "cell_type": "code",
   "execution_count": 15,
   "metadata": {},
   "outputs": [
    {
     "data": {
      "text/plain": [
       "98201.62531401133"
      ]
     },
     "execution_count": 15,
     "metadata": {},
     "output_type": "execute_result"
    }
   ],
   "source": [
    "# получим значение медианы\n",
    "median_income.loc[('студент', 'M')]['высшее']"
   ]
  },
  {
   "cell_type": "markdown",
   "metadata": {},
   "source": [
    "Напишем функцию, которая позволит извлекать нужное значение медианы"
   ]
  },
  {
   "cell_type": "code",
   "execution_count": 16,
   "metadata": {},
   "outputs": [
    {
     "name": "stdout",
     "output_type": "stream",
     "text": [
      "98201.62531401133\n"
     ]
    }
   ],
   "source": [
    "def super_fillna_func(income_type, gender, education):\n",
    "    '''\n",
    "    Находит в таблице median_income нужную медиану.\n",
    "    '''\n",
    "    try:\n",
    "        return median_income.loc[(income_type, gender)][education]\n",
    "    except:\n",
    "        return 0\n",
    "    \n",
    "print(super_fillna_func('студент', 'M','высшее') ) "
   ]
  },
  {
   "cell_type": "markdown",
   "metadata": {},
   "source": [
    "Заполним пропуски:"
   ]
  },
  {
   "cell_type": "code",
   "execution_count": 21,
   "metadata": {},
   "outputs": [],
   "source": [
    "# Запишем в новый столбец.\n",
    "data['new_income'] = data.apply(lambda row: super_fillna_func(row['income_type'],\n",
    "                                                                                row['gender'], row['education']),\n",
    "                                                  axis=1)\n",
    "\n",
    "# Пандас сам заменит пропуски значениями из нового столбца в той же строке.\n",
    "data['total_income'] = data['total_income'].fillna(data['new_income'])"
   ]
  },
  {
   "cell_type": "raw",
   "metadata": {},
   "source": [
    "#Заменить пропуски можно также:\n",
    "\n",
    "data['total_income'] = data.groupby(['income_type','gender', 'education'])['total_income'].apply(lambda x: x.fillna(x.median()))\n",
    "   \n",
    "# Оно же, но без лямбды (работает быстрее):\n",
    "data['total_income'] = data['total_income'].fillna(df.groupby(['income_type','gender',\n",
    "                                                               'education'])['total_income'].transform('median'))"
   ]
  },
  {
   "cell_type": "code",
   "execution_count": 22,
   "metadata": {},
   "outputs": [
    {
     "data": {
      "text/plain": [
       "array([1, 0, 3, 2, 4, 5])"
      ]
     },
     "execution_count": 22,
     "metadata": {},
     "output_type": "execute_result"
    }
   ],
   "source": [
    "# замена отрицательного значения в столбце 'children' и замена значения 20 на 2\n",
    "data.loc[data.children < 0, 'children'] = data.children * -1\n",
    "data['children'] = data['children'].replace(20, 2)\n",
    "data['children'].unique()"
   ]
  },
  {
   "cell_type": "code",
   "execution_count": 23,
   "metadata": {},
   "outputs": [
    {
     "data": {
      "text/plain": [
       "0          8437.673028\n",
       "1          4024.803754\n",
       "2          5623.422610\n",
       "3          4124.747207\n",
       "4        340266.072047\n",
       "             ...      \n",
       "21520      4529.316663\n",
       "21521    343937.404131\n",
       "21522      2113.346888\n",
       "21523      3112.481705\n",
       "21524      1984.507589\n",
       "Name: days_employed, Length: 21525, dtype: float64"
      ]
     },
     "execution_count": 23,
     "metadata": {},
     "output_type": "execute_result"
    }
   ],
   "source": [
    "# замена отрицательных значений в столбце 'days_employed'\n",
    "data['days_employed'] = data['days_employed'].abs()\n",
    "data['days_employed']"
   ]
  },
  {
   "cell_type": "code",
   "execution_count": 24,
   "metadata": {},
   "outputs": [
    {
     "data": {
      "text/plain": [
       "0        8437.673028\n",
       "1        4024.803754\n",
       "2        5623.422610\n",
       "3        4124.747207\n",
       "4        3402.660720\n",
       "            ...     \n",
       "21520    4529.316663\n",
       "21521    3439.374041\n",
       "21522    2113.346888\n",
       "21523    3112.481705\n",
       "21524    1984.507589\n",
       "Name: days_employed, Length: 21525, dtype: float64"
      ]
     },
     "execution_count": 24,
     "metadata": {},
     "output_type": "execute_result"
    }
   ],
   "source": [
    "# Если возрост выхода на пенсию 65, то приблизительно возможный стаж работы (65-18)*365 = 17155.\n",
    "data.loc[data.days_employed > 20000, 'days_employed'] = data.days_employed / 100\n",
    "data['days_employed']"
   ]
  },
  {
   "cell_type": "markdown",
   "metadata": {},
   "source": [
    "**Вывод**\n",
    "1. Пропуски в столбце total_income заполнены медианным значением дохода исходя из типа деятельности человека, образования, возрастной группы;\n",
    "2. Исправлены некорректные значения в столбцах days_employed и children;\n",
    "3. Заменены некорректные значния в столбце children. (почему такие значения могли возникнуть, я попыталась объяснить в выводе, в теме \"Обзор данных\").\n",
    "\n"
   ]
  },
  {
   "cell_type": "markdown",
   "metadata": {},
   "source": [
    "### Замена типа данных"
   ]
  },
  {
   "cell_type": "code",
   "execution_count": 25,
   "metadata": {},
   "outputs": [
    {
     "name": "stdout",
     "output_type": "stream",
     "text": [
      "Возникла ошибка с приведением типов\n",
      "<class 'pandas.core.frame.DataFrame'>\n",
      "RangeIndex: 21525 entries, 0 to 21524\n",
      "Data columns (total 14 columns):\n",
      " #   Column            Non-Null Count  Dtype  \n",
      "---  ------            --------------  -----  \n",
      " 0   children          21525 non-null  int64  \n",
      " 1   days_employed     19351 non-null  float64\n",
      " 2   dob_years         21525 non-null  int64  \n",
      " 3   education         21525 non-null  object \n",
      " 4   education_id      21525 non-null  int64  \n",
      " 5   family_status     21525 non-null  object \n",
      " 6   family_status_id  21525 non-null  int64  \n",
      " 7   gender            21525 non-null  object \n",
      " 8   income_type       21525 non-null  object \n",
      " 9   debt              21525 non-null  int64  \n",
      " 10  total_income      21525 non-null  float64\n",
      " 11  purpose           21525 non-null  object \n",
      " 12  dob_group         21525 non-null  object \n",
      " 13  new_income        21525 non-null  float64\n",
      "dtypes: float64(3), int64(5), object(6)\n",
      "memory usage: 2.3+ MB\n"
     ]
    }
   ],
   "source": [
    "# замена типа данных в колонке \n",
    "try:\n",
    "    data[['days_employed',\n",
    "          'education_id',\n",
    "          'children', \n",
    "          'family_status_id',\n",
    "          'debt']] = data[['days_employed',\n",
    "                           'education_id',\n",
    "                           'children', \n",
    "                           'family_status_id',\n",
    "                           'debt']].astype('int')\n",
    "except:\n",
    "    print('Возникла ошибка с приведением типов')\n",
    "data.info()"
   ]
  },
  {
   "cell_type": "markdown",
   "metadata": {},
   "source": [
    "**Вывод**\n",
    "\n",
    "Для замены типа данных использовали метод `astype()`. Метод `to_numeric()` в данном случает не подходит, так как он больше применим для преобразования типа `object` в один из типов `float` или `int`. "
   ]
  },
  {
   "cell_type": "markdown",
   "metadata": {},
   "source": [
    "### Обработка дубликатов"
   ]
  },
  {
   "cell_type": "code",
   "execution_count": 26,
   "metadata": {},
   "outputs": [
    {
     "data": {
      "text/plain": [
       "array(['высшее', 'среднее', 'неоконченное высшее', 'начальное',\n",
       "       'ученая степень'], dtype=object)"
      ]
     },
     "execution_count": 26,
     "metadata": {},
     "output_type": "execute_result"
    }
   ],
   "source": [
    "#обработка неявных дубликатов. Смотрим уникальные значения столбца\n",
    "data['education'].unique()"
   ]
  },
  {
   "cell_type": "code",
   "execution_count": 27,
   "metadata": {},
   "outputs": [
    {
     "data": {
      "text/plain": [
       "array(['высшее', 'среднее', 'неоконченное высшее', 'начальное',\n",
       "       'ученая степень'], dtype=object)"
      ]
     },
     "execution_count": 27,
     "metadata": {},
     "output_type": "execute_result"
    }
   ],
   "source": [
    "# приводим все значения в столбце к нижнему регистру\n",
    "data['education'] = data['education'].str.lower()\n",
    "data['education'].unique()"
   ]
  },
  {
   "cell_type": "code",
   "execution_count": 28,
   "metadata": {},
   "outputs": [
    {
     "data": {
      "text/plain": [
       "71"
      ]
     },
     "execution_count": 28,
     "metadata": {},
     "output_type": "execute_result"
    }
   ],
   "source": [
    "#считаем количество дубликотов\n",
    "data.duplicated().sum()"
   ]
  },
  {
   "cell_type": "markdown",
   "metadata": {},
   "source": [
    "Удалять не нужно, так как нет уникальных идентификаторов пользователей"
   ]
  },
  {
   "cell_type": "markdown",
   "metadata": {},
   "source": [
    "**Вывод**\n",
    "\n",
    "1. Проверили наличие дубликатов, но из-за отсутствия уникального идентификатора пользователя, невозможно сказать полные это дубликаты или нет.\n",
    "\n",
    "Дубликаты могли возникнуть в следующей ситуации: при внесении данных была потеряна связь с сервером, данные сохранились в базу данных, но программа не получила ответ подтверждающий сохранение данных и эти же данные были внесены еще раз."
   ]
  },
  {
   "cell_type": "markdown",
   "metadata": {},
   "source": [
    "### Лемматизация"
   ]
  },
  {
   "cell_type": "code",
   "execution_count": 29,
   "metadata": {},
   "outputs": [
    {
     "data": {
      "text/plain": [
       "Counter({'покупка': 5912,\n",
       "         ' ': 55201,\n",
       "         'жилье': 4473,\n",
       "         'приобретение': 462,\n",
       "         'автомобиль': 4315,\n",
       "         'дополнительный': 909,\n",
       "         'образование': 4022,\n",
       "         'сыграть': 774,\n",
       "         'свадьба': 2348,\n",
       "         'операция': 2610,\n",
       "         'с': 2924,\n",
       "         'на': 2233,\n",
       "         'проведение': 777,\n",
       "         'для': 1294,\n",
       "         'семья': 641,\n",
       "         'недвижимость': 6367,\n",
       "         'коммерческий': 1315,\n",
       "         'жилой': 1233,\n",
       "         'строительство': 1881,\n",
       "         'собственный': 635,\n",
       "         'подержать': 858,\n",
       "         'свой': 2235,\n",
       "         'со': 630,\n",
       "         'заниматься': 908,\n",
       "         'сделка': 944,\n",
       "         'получение': 1316,\n",
       "         'высокий': 1375,\n",
       "         'подержанный': 110,\n",
       "         'профильный': 436,\n",
       "         'сдача': 653,\n",
       "         'ремонт': 612,\n",
       "         '\\n': 1})"
      ]
     },
     "execution_count": 29,
     "metadata": {},
     "output_type": "execute_result"
    }
   ],
   "source": [
    "#лематизация целей кредита и подсчет лемм\n",
    "purpose_group = data['purpose'].tolist()\n",
    "purpose_group_str = ' '.join(purpose_group)\n",
    "purpose_group_lem = m.lemmatize(purpose_group_str)\n",
    "purpose_group_lem_count = Counter(purpose_group_lem)\n",
    "purpose_group_lem_count"
   ]
  },
  {
   "cell_type": "markdown",
   "metadata": {},
   "source": [
    "**Вывод**\n",
    "\n",
    "С помощью лемматизации определили ключевые слова для последующей категоризации данных. Выделили следующие категории: недвижимость, свадьба, автомобиль, образование, ремонт."
   ]
  },
  {
   "cell_type": "markdown",
   "metadata": {},
   "source": [
    "### Категоризация данных"
   ]
  },
  {
   "cell_type": "code",
   "execution_count": 30,
   "metadata": {},
   "outputs": [
    {
     "data": {
      "text/html": [
       "<div>\n",
       "<style scoped>\n",
       "    .dataframe tbody tr th:only-of-type {\n",
       "        vertical-align: middle;\n",
       "    }\n",
       "\n",
       "    .dataframe tbody tr th {\n",
       "        vertical-align: top;\n",
       "    }\n",
       "\n",
       "    .dataframe thead th {\n",
       "        text-align: right;\n",
       "    }\n",
       "</style>\n",
       "<table border=\"1\" class=\"dataframe\">\n",
       "  <thead>\n",
       "    <tr style=\"text-align: right;\">\n",
       "      <th></th>\n",
       "      <th>children</th>\n",
       "      <th>days_employed</th>\n",
       "      <th>dob_years</th>\n",
       "      <th>education</th>\n",
       "      <th>education_id</th>\n",
       "      <th>family_status</th>\n",
       "      <th>family_status_id</th>\n",
       "      <th>gender</th>\n",
       "      <th>income_type</th>\n",
       "      <th>debt</th>\n",
       "      <th>total_income</th>\n",
       "      <th>purpose</th>\n",
       "      <th>dob_group</th>\n",
       "      <th>new_income</th>\n",
       "      <th>goal_credit</th>\n",
       "    </tr>\n",
       "  </thead>\n",
       "  <tbody>\n",
       "    <tr>\n",
       "      <th>0</th>\n",
       "      <td>1</td>\n",
       "      <td>8437.673028</td>\n",
       "      <td>42</td>\n",
       "      <td>высшее</td>\n",
       "      <td>0</td>\n",
       "      <td>женат / замужем</td>\n",
       "      <td>0</td>\n",
       "      <td>F</td>\n",
       "      <td>сотрудник</td>\n",
       "      <td>0</td>\n",
       "      <td>253875.639453</td>\n",
       "      <td>покупка жилья</td>\n",
       "      <td>36-45</td>\n",
       "      <td>153691.851098</td>\n",
       "      <td>недвижимость</td>\n",
       "    </tr>\n",
       "    <tr>\n",
       "      <th>1</th>\n",
       "      <td>1</td>\n",
       "      <td>4024.803754</td>\n",
       "      <td>36</td>\n",
       "      <td>среднее</td>\n",
       "      <td>1</td>\n",
       "      <td>женат / замужем</td>\n",
       "      <td>0</td>\n",
       "      <td>F</td>\n",
       "      <td>сотрудник</td>\n",
       "      <td>0</td>\n",
       "      <td>112080.014102</td>\n",
       "      <td>приобретение автомобиля</td>\n",
       "      <td>36-45</td>\n",
       "      <td>124127.090016</td>\n",
       "      <td>автомобиль</td>\n",
       "    </tr>\n",
       "    <tr>\n",
       "      <th>2</th>\n",
       "      <td>0</td>\n",
       "      <td>5623.422610</td>\n",
       "      <td>33</td>\n",
       "      <td>среднее</td>\n",
       "      <td>1</td>\n",
       "      <td>женат / замужем</td>\n",
       "      <td>0</td>\n",
       "      <td>M</td>\n",
       "      <td>сотрудник</td>\n",
       "      <td>0</td>\n",
       "      <td>145885.952297</td>\n",
       "      <td>покупка жилья</td>\n",
       "      <td>25-35</td>\n",
       "      <td>156286.402929</td>\n",
       "      <td>недвижимость</td>\n",
       "    </tr>\n",
       "    <tr>\n",
       "      <th>3</th>\n",
       "      <td>3</td>\n",
       "      <td>4124.747207</td>\n",
       "      <td>32</td>\n",
       "      <td>среднее</td>\n",
       "      <td>1</td>\n",
       "      <td>женат / замужем</td>\n",
       "      <td>0</td>\n",
       "      <td>M</td>\n",
       "      <td>сотрудник</td>\n",
       "      <td>0</td>\n",
       "      <td>267628.550329</td>\n",
       "      <td>дополнительное образование</td>\n",
       "      <td>25-35</td>\n",
       "      <td>156286.402929</td>\n",
       "      <td>образование</td>\n",
       "    </tr>\n",
       "    <tr>\n",
       "      <th>4</th>\n",
       "      <td>0</td>\n",
       "      <td>3402.660720</td>\n",
       "      <td>53</td>\n",
       "      <td>среднее</td>\n",
       "      <td>1</td>\n",
       "      <td>гражданский брак</td>\n",
       "      <td>1</td>\n",
       "      <td>F</td>\n",
       "      <td>пенсионер</td>\n",
       "      <td>0</td>\n",
       "      <td>158616.077870</td>\n",
       "      <td>сыграть свадьбу</td>\n",
       "      <td>46-55</td>\n",
       "      <td>112790.975121</td>\n",
       "      <td>свадьба</td>\n",
       "    </tr>\n",
       "    <tr>\n",
       "      <th>5</th>\n",
       "      <td>0</td>\n",
       "      <td>926.185831</td>\n",
       "      <td>27</td>\n",
       "      <td>высшее</td>\n",
       "      <td>0</td>\n",
       "      <td>гражданский брак</td>\n",
       "      <td>1</td>\n",
       "      <td>M</td>\n",
       "      <td>компаньон</td>\n",
       "      <td>0</td>\n",
       "      <td>255763.565419</td>\n",
       "      <td>покупка жилья</td>\n",
       "      <td>25-35</td>\n",
       "      <td>233064.883613</td>\n",
       "      <td>недвижимость</td>\n",
       "    </tr>\n",
       "    <tr>\n",
       "      <th>6</th>\n",
       "      <td>0</td>\n",
       "      <td>2879.202052</td>\n",
       "      <td>43</td>\n",
       "      <td>высшее</td>\n",
       "      <td>0</td>\n",
       "      <td>женат / замужем</td>\n",
       "      <td>0</td>\n",
       "      <td>F</td>\n",
       "      <td>компаньон</td>\n",
       "      <td>0</td>\n",
       "      <td>240525.971920</td>\n",
       "      <td>операции с жильем</td>\n",
       "      <td>36-45</td>\n",
       "      <td>189893.464621</td>\n",
       "      <td>недвижимость</td>\n",
       "    </tr>\n",
       "    <tr>\n",
       "      <th>7</th>\n",
       "      <td>0</td>\n",
       "      <td>152.779569</td>\n",
       "      <td>50</td>\n",
       "      <td>среднее</td>\n",
       "      <td>1</td>\n",
       "      <td>женат / замужем</td>\n",
       "      <td>0</td>\n",
       "      <td>M</td>\n",
       "      <td>сотрудник</td>\n",
       "      <td>0</td>\n",
       "      <td>135823.934197</td>\n",
       "      <td>образование</td>\n",
       "      <td>46-55</td>\n",
       "      <td>156286.402929</td>\n",
       "      <td>образование</td>\n",
       "    </tr>\n",
       "    <tr>\n",
       "      <th>8</th>\n",
       "      <td>2</td>\n",
       "      <td>6929.865299</td>\n",
       "      <td>35</td>\n",
       "      <td>высшее</td>\n",
       "      <td>0</td>\n",
       "      <td>гражданский брак</td>\n",
       "      <td>1</td>\n",
       "      <td>F</td>\n",
       "      <td>сотрудник</td>\n",
       "      <td>0</td>\n",
       "      <td>95856.832424</td>\n",
       "      <td>на проведение свадьбы</td>\n",
       "      <td>25-35</td>\n",
       "      <td>153691.851098</td>\n",
       "      <td>свадьба</td>\n",
       "    </tr>\n",
       "    <tr>\n",
       "      <th>9</th>\n",
       "      <td>0</td>\n",
       "      <td>2188.756445</td>\n",
       "      <td>41</td>\n",
       "      <td>среднее</td>\n",
       "      <td>1</td>\n",
       "      <td>женат / замужем</td>\n",
       "      <td>0</td>\n",
       "      <td>M</td>\n",
       "      <td>сотрудник</td>\n",
       "      <td>0</td>\n",
       "      <td>144425.938277</td>\n",
       "      <td>покупка жилья для семьи</td>\n",
       "      <td>36-45</td>\n",
       "      <td>156286.402929</td>\n",
       "      <td>недвижимость</td>\n",
       "    </tr>\n",
       "  </tbody>\n",
       "</table>\n",
       "</div>"
      ],
      "text/plain": [
       "   children  days_employed  dob_years education  education_id  \\\n",
       "0         1    8437.673028         42    высшее             0   \n",
       "1         1    4024.803754         36   среднее             1   \n",
       "2         0    5623.422610         33   среднее             1   \n",
       "3         3    4124.747207         32   среднее             1   \n",
       "4         0    3402.660720         53   среднее             1   \n",
       "5         0     926.185831         27    высшее             0   \n",
       "6         0    2879.202052         43    высшее             0   \n",
       "7         0     152.779569         50   среднее             1   \n",
       "8         2    6929.865299         35    высшее             0   \n",
       "9         0    2188.756445         41   среднее             1   \n",
       "\n",
       "      family_status  family_status_id gender income_type  debt   total_income  \\\n",
       "0   женат / замужем                 0      F   сотрудник     0  253875.639453   \n",
       "1   женат / замужем                 0      F   сотрудник     0  112080.014102   \n",
       "2   женат / замужем                 0      M   сотрудник     0  145885.952297   \n",
       "3   женат / замужем                 0      M   сотрудник     0  267628.550329   \n",
       "4  гражданский брак                 1      F   пенсионер     0  158616.077870   \n",
       "5  гражданский брак                 1      M   компаньон     0  255763.565419   \n",
       "6   женат / замужем                 0      F   компаньон     0  240525.971920   \n",
       "7   женат / замужем                 0      M   сотрудник     0  135823.934197   \n",
       "8  гражданский брак                 1      F   сотрудник     0   95856.832424   \n",
       "9   женат / замужем                 0      M   сотрудник     0  144425.938277   \n",
       "\n",
       "                      purpose dob_group     new_income   goal_credit  \n",
       "0               покупка жилья     36-45  153691.851098  недвижимость  \n",
       "1     приобретение автомобиля     36-45  124127.090016    автомобиль  \n",
       "2               покупка жилья     25-35  156286.402929  недвижимость  \n",
       "3  дополнительное образование     25-35  156286.402929   образование  \n",
       "4             сыграть свадьбу     46-55  112790.975121       свадьба  \n",
       "5               покупка жилья     25-35  233064.883613  недвижимость  \n",
       "6           операции с жильем     36-45  189893.464621  недвижимость  \n",
       "7                 образование     46-55  156286.402929   образование  \n",
       "8       на проведение свадьбы     25-35  153691.851098       свадьба  \n",
       "9     покупка жилья для семьи     36-45  156286.402929  недвижимость  "
      ]
     },
     "execution_count": 30,
     "metadata": {},
     "output_type": "execute_result"
    }
   ],
   "source": [
    "#функция одной строки, категоризация целей кредита\n",
    "def goal_credit(row):\n",
    "    lem = m.lemmatize(row.purpose)\n",
    "    if ('ремонт' in lem) and ('жилье' in lem):\n",
    "        return 'ремонт'\n",
    "    elif ('жилье' in lem) or ('жилой'in lem) or ('недвижимость'in lem) or ('строительство' in lem):\n",
    "        return 'недвижимость'\n",
    "    elif 'свадьба' in lem:\n",
    "        return 'свадьба'\n",
    "    elif ('автомобиль' in lem):\n",
    "        return 'автомобиль'\n",
    "    elif ('образование' in lem):\n",
    "        return 'образование'\n",
    "    \n",
    "    return\n",
    "data['goal_credit'] = data.apply(goal_credit, axis=1)\n",
    "data.head(10)"
   ]
  },
  {
   "cell_type": "code",
   "execution_count": 31,
   "metadata": {},
   "outputs": [],
   "source": [
    "# категоризация людей по количеству детей\n",
    "def children_group(row):\n",
    "    if row.children == 0:\n",
    "        return 'бездетный'\n",
    "    elif (row.children == 1) or (row.children == 2):\n",
    "        return 'малодетный'\n",
    "    elif row.children > 2:\n",
    "        return 'многодетный'\n",
    "    return\n",
    "data['children_group'] = data.apply(children_group, axis=1)\n",
    "#data['children_group'].isna().sum() проверили нет ли NaN"
   ]
  },
  {
   "cell_type": "markdown",
   "metadata": {},
   "source": [
    "**Note**\n",
    "\n",
    "Исходя из информации, предоставленной интернет ресурсами: В Москве для причисления к среднему классу необходимо получать от 121 тыс. рублей. Для регионов минимальная зарплата для причисления к среднему классу составляет 60 тыс. рублей."
   ]
  },
  {
   "cell_type": "code",
   "execution_count": 32,
   "metadata": {},
   "outputs": [],
   "source": [
    "# категоризация по уровню дохода\n",
    "data['total_income'].value_counts(bins=6)\n",
    "def total_income_group(row):\n",
    "    if row.total_income <= 40000:\n",
    "        return 'низкий уровень дохода'\n",
    "    elif 40000 < row.total_income <= 60000:\n",
    "        return 'средний доход кат.1'\n",
    "    elif 60000< row.total_income <= 100000:\n",
    "        return 'средний доход кат.2'\n",
    "    elif 100000< row.total_income <= 140000:\n",
    "        return 'средний доход кат.3'\n",
    "    elif 140000< row.total_income <= 200000:\n",
    "        return 'средний доход кат.4'\n",
    "    else:\n",
    "        return 'высокий уровень дохода'\n",
    "    return\n",
    "data['total_income_group'] = data.apply(total_income_group, axis=1)\n",
    "#data['total_income_group'].isna().sum() проверили нет ли NaN"
   ]
  },
  {
   "cell_type": "code",
   "execution_count": 33,
   "metadata": {},
   "outputs": [
    {
     "data": {
      "text/plain": [
       "средний доход кат.4       6314\n",
       "средний доход кат.3       5601\n",
       "высокий уровень дохода    5144\n",
       "средний доход кат.2       3659\n",
       "средний доход кат.1        681\n",
       "низкий уровень дохода      126\n",
       "Name: total_income_group, dtype: int64"
      ]
     },
     "execution_count": 33,
     "metadata": {},
     "output_type": "execute_result"
    }
   ],
   "source": [
    "data['total_income_group'].value_counts()"
   ]
  },
  {
   "cell_type": "markdown",
   "metadata": {},
   "source": [
    "**Вывод**\n",
    "\n",
    "Используя метод `apply()` и функцию одной строки выполнили следующее:\n",
    "1. Добавили столбец `goal_credit`. В данном столбце, в зависимости от цели кредита в сторке, назначена одна из пяти категорий: недвижимость, свадьба, ремонт, автомобиль, образование.\n",
    "2. Выделено три категории людей в зависимости от количества детей: малодетные, бездетные, многодетные. Создан новый столбец `children_group` отражающий принадлежность людей к той или иной группе.\n",
    "3. Выделено три категории людей в зависимости от их дохода в месяц: низкий уровень дохода, средний уровень дохода, высокий уровень дохода. Создан новый столбец `total_income_group` отрожающий принадлежность людей к той или иной группе."
   ]
  },
  {
   "cell_type": "markdown",
   "metadata": {},
   "source": [
    "## Шаг 3. Итоги"
   ]
  },
  {
   "cell_type": "markdown",
   "metadata": {},
   "source": [
    "- Есть ли зависимость между наличием детей и возвратом кредита в срок?"
   ]
  },
  {
   "cell_type": "code",
   "execution_count": 37,
   "metadata": {},
   "outputs": [
    {
     "data": {
      "text/html": [
       "<div>\n",
       "<style scoped>\n",
       "    .dataframe tbody tr th:only-of-type {\n",
       "        vertical-align: middle;\n",
       "    }\n",
       "\n",
       "    .dataframe tbody tr th {\n",
       "        vertical-align: top;\n",
       "    }\n",
       "\n",
       "    .dataframe thead th {\n",
       "        text-align: right;\n",
       "    }\n",
       "</style>\n",
       "<table border=\"1\" class=\"dataframe\">\n",
       "  <thead>\n",
       "    <tr style=\"text-align: right;\">\n",
       "      <th></th>\n",
       "      <th>count</th>\n",
       "      <th>sum</th>\n",
       "      <th>my_mean</th>\n",
       "    </tr>\n",
       "    <tr>\n",
       "      <th>children_group</th>\n",
       "      <th></th>\n",
       "      <th></th>\n",
       "      <th></th>\n",
       "    </tr>\n",
       "  </thead>\n",
       "  <tbody>\n",
       "    <tr>\n",
       "      <th>бездетный</th>\n",
       "      <td>14149</td>\n",
       "      <td>1063</td>\n",
       "      <td>7.51%</td>\n",
       "    </tr>\n",
       "    <tr>\n",
       "      <th>малодетный</th>\n",
       "      <td>6996</td>\n",
       "      <td>647</td>\n",
       "      <td>9.25%</td>\n",
       "    </tr>\n",
       "    <tr>\n",
       "      <th>многодетный</th>\n",
       "      <td>380</td>\n",
       "      <td>31</td>\n",
       "      <td>8.16%</td>\n",
       "    </tr>\n",
       "  </tbody>\n",
       "</table>\n",
       "</div>"
      ],
      "text/plain": [
       "                count   sum my_mean\n",
       "children_group                     \n",
       "бездетный       14149  1063  7.51% \n",
       "малодетный       6996   647  9.25% \n",
       "многодетный       380    31  8.16% "
      ]
     },
     "execution_count": 37,
     "metadata": {},
     "output_type": "execute_result"
    }
   ],
   "source": [
    "def my_mean(x): return '{:.2%} '.format(x.mean())\n",
    "\n",
    "data.groupby('children_group')['debt'].agg(['count', 'sum', my_mean])"
   ]
  },
  {
   "cell_type": "markdown",
   "metadata": {},
   "source": [
    "**Вывод**\n",
    "\n",
    "Около 7,5% людей не имеющих детей имеют долг по кредиту. 9,3% малодетных и 8,2% многодетных людей имеют долг по кредиту. Люди имеющие 1-2 ребенка чаще имеют задолженость по кредиту.\n"
   ]
  },
  {
   "cell_type": "markdown",
   "metadata": {},
   "source": [
    "- Есть ли зависимость между семейным положением и возвратом кредита в срок?"
   ]
  },
  {
   "cell_type": "code",
   "execution_count": 38,
   "metadata": {},
   "outputs": [
    {
     "data": {
      "text/html": [
       "<div>\n",
       "<style scoped>\n",
       "    .dataframe tbody tr th:only-of-type {\n",
       "        vertical-align: middle;\n",
       "    }\n",
       "\n",
       "    .dataframe tbody tr th {\n",
       "        vertical-align: top;\n",
       "    }\n",
       "\n",
       "    .dataframe thead th {\n",
       "        text-align: right;\n",
       "    }\n",
       "</style>\n",
       "<table border=\"1\" class=\"dataframe\">\n",
       "  <thead>\n",
       "    <tr style=\"text-align: right;\">\n",
       "      <th></th>\n",
       "      <th>count</th>\n",
       "      <th>sum</th>\n",
       "      <th>my_mean</th>\n",
       "    </tr>\n",
       "    <tr>\n",
       "      <th>family_status</th>\n",
       "      <th></th>\n",
       "      <th></th>\n",
       "      <th></th>\n",
       "    </tr>\n",
       "  </thead>\n",
       "  <tbody>\n",
       "    <tr>\n",
       "      <th>Не женат / не замужем</th>\n",
       "      <td>2813</td>\n",
       "      <td>274</td>\n",
       "      <td>9.74%</td>\n",
       "    </tr>\n",
       "    <tr>\n",
       "      <th>в разводе</th>\n",
       "      <td>1195</td>\n",
       "      <td>85</td>\n",
       "      <td>7.11%</td>\n",
       "    </tr>\n",
       "    <tr>\n",
       "      <th>вдовец / вдова</th>\n",
       "      <td>960</td>\n",
       "      <td>63</td>\n",
       "      <td>6.56%</td>\n",
       "    </tr>\n",
       "    <tr>\n",
       "      <th>гражданский брак</th>\n",
       "      <td>4177</td>\n",
       "      <td>388</td>\n",
       "      <td>9.29%</td>\n",
       "    </tr>\n",
       "    <tr>\n",
       "      <th>женат / замужем</th>\n",
       "      <td>12380</td>\n",
       "      <td>931</td>\n",
       "      <td>7.52%</td>\n",
       "    </tr>\n",
       "  </tbody>\n",
       "</table>\n",
       "</div>"
      ],
      "text/plain": [
       "                       count  sum my_mean\n",
       "family_status                            \n",
       "Не женат / не замужем   2813  274  9.74% \n",
       "в разводе               1195   85  7.11% \n",
       "вдовец / вдова           960   63  6.56% \n",
       "гражданский брак        4177  388  9.29% \n",
       "женат / замужем        12380  931  7.52% "
      ]
     },
     "execution_count": 38,
     "metadata": {},
     "output_type": "execute_result"
    }
   ],
   "source": [
    "data.groupby('family_status')['debt'].agg(['count', 'sum', my_mean])"
   ]
  },
  {
   "cell_type": "markdown",
   "metadata": {},
   "source": [
    "**Вывод** \n",
    "\n",
    "Люди из групп 'не женат / не замужем' и 'гражданский брак' имеют больше задолженостей по кредитам."
   ]
  },
  {
   "cell_type": "code",
   "execution_count": 39,
   "metadata": {},
   "outputs": [
    {
     "data": {
      "text/html": [
       "<div>\n",
       "<style scoped>\n",
       "    .dataframe tbody tr th:only-of-type {\n",
       "        vertical-align: middle;\n",
       "    }\n",
       "\n",
       "    .dataframe tbody tr th {\n",
       "        vertical-align: top;\n",
       "    }\n",
       "\n",
       "    .dataframe thead th {\n",
       "        text-align: right;\n",
       "    }\n",
       "</style>\n",
       "<table border=\"1\" class=\"dataframe\">\n",
       "  <thead>\n",
       "    <tr style=\"text-align: right;\">\n",
       "      <th></th>\n",
       "      <th></th>\n",
       "      <th>debt</th>\n",
       "    </tr>\n",
       "    <tr>\n",
       "      <th>children_group</th>\n",
       "      <th>family_status</th>\n",
       "      <th></th>\n",
       "    </tr>\n",
       "  </thead>\n",
       "  <tbody>\n",
       "    <tr>\n",
       "      <th rowspan=\"5\" valign=\"top\">бездетный</th>\n",
       "      <th>Не женат / не замужем</th>\n",
       "      <td>9.27%</td>\n",
       "    </tr>\n",
       "    <tr>\n",
       "      <th>в разводе</th>\n",
       "      <td>7.02%</td>\n",
       "    </tr>\n",
       "    <tr>\n",
       "      <th>вдовец / вдова</th>\n",
       "      <td>6.25%</td>\n",
       "    </tr>\n",
       "    <tr>\n",
       "      <th>гражданский брак</th>\n",
       "      <td>8.32%</td>\n",
       "    </tr>\n",
       "    <tr>\n",
       "      <th>женат / замужем</th>\n",
       "      <td>6.88%</td>\n",
       "    </tr>\n",
       "    <tr>\n",
       "      <th rowspan=\"5\" valign=\"top\">малодетный</th>\n",
       "      <th>Не женат / не замужем</th>\n",
       "      <td>11.52%</td>\n",
       "    </tr>\n",
       "    <tr>\n",
       "      <th>в разводе</th>\n",
       "      <td>7.27%</td>\n",
       "    </tr>\n",
       "    <tr>\n",
       "      <th>вдовец / вдова</th>\n",
       "      <td>9.52%</td>\n",
       "    </tr>\n",
       "    <tr>\n",
       "      <th>гражданский брак</th>\n",
       "      <td>11.11%</td>\n",
       "    </tr>\n",
       "    <tr>\n",
       "      <th>женат / замужем</th>\n",
       "      <td>8.60%</td>\n",
       "    </tr>\n",
       "    <tr>\n",
       "      <th rowspan=\"5\" valign=\"top\">многодетный</th>\n",
       "      <th>Не женат / не замужем</th>\n",
       "      <td>20.00%</td>\n",
       "    </tr>\n",
       "    <tr>\n",
       "      <th>в разводе</th>\n",
       "      <td>8.33%</td>\n",
       "    </tr>\n",
       "    <tr>\n",
       "      <th>вдовец / вдова</th>\n",
       "      <td>0.00%</td>\n",
       "    </tr>\n",
       "    <tr>\n",
       "      <th>гражданский брак</th>\n",
       "      <td>12.12%</td>\n",
       "    </tr>\n",
       "    <tr>\n",
       "      <th>женат / замужем</th>\n",
       "      <td>7.02%</td>\n",
       "    </tr>\n",
       "  </tbody>\n",
       "</table>\n",
       "</div>"
      ],
      "text/plain": [
       "                                         debt\n",
       "children_group family_status                 \n",
       "бездетный      Не женат / не замужем   9.27% \n",
       "               в разводе               7.02% \n",
       "               вдовец / вдова          6.25% \n",
       "               гражданский брак        8.32% \n",
       "               женат / замужем         6.88% \n",
       "малодетный     Не женат / не замужем  11.52% \n",
       "               в разводе               7.27% \n",
       "               вдовец / вдова          9.52% \n",
       "               гражданский брак       11.11% \n",
       "               женат / замужем         8.60% \n",
       "многодетный    Не женат / не замужем  20.00% \n",
       "               в разводе               8.33% \n",
       "               вдовец / вдова          0.00% \n",
       "               гражданский брак       12.12% \n",
       "               женат / замужем         7.02% "
      ]
     },
     "execution_count": 39,
     "metadata": {},
     "output_type": "execute_result"
    }
   ],
   "source": [
    "data_pivot_children_family = data.pivot_table(index=['children_group','family_status'], values='debt',\n",
    "                                              aggfunc= my_mean)\n",
    "data_pivot_children_family"
   ]
  },
  {
   "cell_type": "markdown",
   "metadata": {},
   "source": [
    "**Вывод** \n",
    "\n",
    "Люди в группах 'Не женат / не замужем' и 'гражданский брак' с различным количеством детей имееют наибольший процент задолженостей по кредиту. Самый большой процент задолженостей по кредиту (20%) в группе 'Не женат / не замужем' и количество детей 3 и более. "
   ]
  },
  {
   "cell_type": "markdown",
   "metadata": {},
   "source": [
    "- Есть ли зависимость между уровнем дохода и возвратом кредита в срок?"
   ]
  },
  {
   "cell_type": "code",
   "execution_count": 40,
   "metadata": {},
   "outputs": [
    {
     "data": {
      "text/html": [
       "<div>\n",
       "<style scoped>\n",
       "    .dataframe tbody tr th:only-of-type {\n",
       "        vertical-align: middle;\n",
       "    }\n",
       "\n",
       "    .dataframe tbody tr th {\n",
       "        vertical-align: top;\n",
       "    }\n",
       "\n",
       "    .dataframe thead th {\n",
       "        text-align: right;\n",
       "    }\n",
       "</style>\n",
       "<table border=\"1\" class=\"dataframe\">\n",
       "  <thead>\n",
       "    <tr style=\"text-align: right;\">\n",
       "      <th></th>\n",
       "      <th>count</th>\n",
       "      <th>sum</th>\n",
       "      <th>my_mean</th>\n",
       "    </tr>\n",
       "    <tr>\n",
       "      <th>total_income_group</th>\n",
       "      <th></th>\n",
       "      <th></th>\n",
       "      <th></th>\n",
       "    </tr>\n",
       "  </thead>\n",
       "  <tbody>\n",
       "    <tr>\n",
       "      <th>высокий уровень дохода</th>\n",
       "      <td>5144</td>\n",
       "      <td>361</td>\n",
       "      <td>7.02%</td>\n",
       "    </tr>\n",
       "    <tr>\n",
       "      <th>низкий уровень дохода</th>\n",
       "      <td>126</td>\n",
       "      <td>10</td>\n",
       "      <td>7.94%</td>\n",
       "    </tr>\n",
       "    <tr>\n",
       "      <th>средний доход кат.1</th>\n",
       "      <td>681</td>\n",
       "      <td>39</td>\n",
       "      <td>5.73%</td>\n",
       "    </tr>\n",
       "    <tr>\n",
       "      <th>средний доход кат.2</th>\n",
       "      <td>3659</td>\n",
       "      <td>305</td>\n",
       "      <td>8.34%</td>\n",
       "    </tr>\n",
       "    <tr>\n",
       "      <th>средний доход кат.3</th>\n",
       "      <td>5601</td>\n",
       "      <td>469</td>\n",
       "      <td>8.37%</td>\n",
       "    </tr>\n",
       "    <tr>\n",
       "      <th>средний доход кат.4</th>\n",
       "      <td>6314</td>\n",
       "      <td>557</td>\n",
       "      <td>8.82%</td>\n",
       "    </tr>\n",
       "  </tbody>\n",
       "</table>\n",
       "</div>"
      ],
      "text/plain": [
       "                        count  sum my_mean\n",
       "total_income_group                        \n",
       "высокий уровень дохода   5144  361  7.02% \n",
       "низкий уровень дохода     126   10  7.94% \n",
       "средний доход кат.1       681   39  5.73% \n",
       "средний доход кат.2      3659  305  8.34% \n",
       "средний доход кат.3      5601  469  8.37% \n",
       "средний доход кат.4      6314  557  8.82% "
      ]
     },
     "execution_count": 40,
     "metadata": {},
     "output_type": "execute_result"
    }
   ],
   "source": [
    "data.groupby('total_income_group')['debt'].agg(['count', 'sum', my_mean])"
   ]
  },
  {
   "cell_type": "markdown",
   "metadata": {},
   "source": [
    "**Вывод**\n",
    "\n",
    "Интересно, что люди с доходом от 40000-60000 имееют наименьший процент задолженостей по кредиту (5,73%). Наибольший люди с доходом 140000-200000 - 9,02%"
   ]
  },
  {
   "cell_type": "code",
   "execution_count": 48,
   "metadata": {},
   "outputs": [
    {
     "name": "stdout",
     "output_type": "stream",
     "text": [
      "0.5\n"
     ]
    },
    {
     "data": {
      "text/html": [
       "<div>\n",
       "<style scoped>\n",
       "    .dataframe tbody tr th:only-of-type {\n",
       "        vertical-align: middle;\n",
       "    }\n",
       "\n",
       "    .dataframe tbody tr th {\n",
       "        vertical-align: top;\n",
       "    }\n",
       "\n",
       "    .dataframe thead th {\n",
       "        text-align: right;\n",
       "    }\n",
       "</style>\n",
       "<table border=\"1\" class=\"dataframe\">\n",
       "  <thead>\n",
       "    <tr style=\"text-align: right;\">\n",
       "      <th></th>\n",
       "      <th></th>\n",
       "      <th></th>\n",
       "      <th>debt</th>\n",
       "    </tr>\n",
       "    <tr>\n",
       "      <th>family_status</th>\n",
       "      <th>total_income_group</th>\n",
       "      <th>children_group</th>\n",
       "      <th></th>\n",
       "    </tr>\n",
       "  </thead>\n",
       "  <tbody>\n",
       "    <tr>\n",
       "      <th rowspan=\"2\" valign=\"top\">Не женат / не замужем</th>\n",
       "      <th>средний доход кат.2</th>\n",
       "      <th>многодетный</th>\n",
       "      <td>0.5</td>\n",
       "    </tr>\n",
       "    <tr>\n",
       "      <th>средний доход кат.4</th>\n",
       "      <th>многодетный</th>\n",
       "      <td>0.5</td>\n",
       "    </tr>\n",
       "    <tr>\n",
       "      <th>гражданский брак</th>\n",
       "      <th>средний доход кат.1</th>\n",
       "      <th>многодетный</th>\n",
       "      <td>0.5</td>\n",
       "    </tr>\n",
       "  </tbody>\n",
       "</table>\n",
       "</div>"
      ],
      "text/plain": [
       "                                                          debt\n",
       "family_status         total_income_group  children_group      \n",
       "Не женат / не замужем средний доход кат.2 многодетный      0.5\n",
       "                      средний доход кат.4 многодетный      0.5\n",
       "гражданский брак      средний доход кат.1 многодетный      0.5"
      ]
     },
     "metadata": {},
     "output_type": "display_data"
    },
    {
     "data": {
      "text/html": [
       "<div>\n",
       "<style scoped>\n",
       "    .dataframe tbody tr th:only-of-type {\n",
       "        vertical-align: middle;\n",
       "    }\n",
       "\n",
       "    .dataframe tbody tr th {\n",
       "        vertical-align: top;\n",
       "    }\n",
       "\n",
       "    .dataframe thead th {\n",
       "        text-align: right;\n",
       "    }\n",
       "</style>\n",
       "<table border=\"1\" class=\"dataframe\">\n",
       "  <thead>\n",
       "    <tr style=\"text-align: right;\">\n",
       "      <th></th>\n",
       "      <th></th>\n",
       "      <th></th>\n",
       "      <th>debt</th>\n",
       "    </tr>\n",
       "    <tr>\n",
       "      <th>family_status</th>\n",
       "      <th>total_income_group</th>\n",
       "      <th>children_group</th>\n",
       "      <th></th>\n",
       "    </tr>\n",
       "  </thead>\n",
       "  <tbody>\n",
       "    <tr>\n",
       "      <th rowspan=\"5\" valign=\"top\">Не женат / не замужем</th>\n",
       "      <th rowspan=\"3\" valign=\"top\">высокий уровень дохода</th>\n",
       "      <th>бездетный</th>\n",
       "      <td>0.088652</td>\n",
       "    </tr>\n",
       "    <tr>\n",
       "      <th>малодетный</th>\n",
       "      <td>0.097561</td>\n",
       "    </tr>\n",
       "    <tr>\n",
       "      <th>многодетный</th>\n",
       "      <td>0.000000</td>\n",
       "    </tr>\n",
       "    <tr>\n",
       "      <th>низкий уровень дохода</th>\n",
       "      <th>бездетный</th>\n",
       "      <td>0.285714</td>\n",
       "    </tr>\n",
       "    <tr>\n",
       "      <th>средний доход кат.1</th>\n",
       "      <th>бездетный</th>\n",
       "      <td>0.033333</td>\n",
       "    </tr>\n",
       "    <tr>\n",
       "      <th>...</th>\n",
       "      <th>...</th>\n",
       "      <th>...</th>\n",
       "      <td>...</td>\n",
       "    </tr>\n",
       "    <tr>\n",
       "      <th rowspan=\"5\" valign=\"top\">женат / замужем</th>\n",
       "      <th rowspan=\"2\" valign=\"top\">средний доход кат.3</th>\n",
       "      <th>малодетный</th>\n",
       "      <td>0.101164</td>\n",
       "    </tr>\n",
       "    <tr>\n",
       "      <th>многодетный</th>\n",
       "      <td>0.045455</td>\n",
       "    </tr>\n",
       "    <tr>\n",
       "      <th rowspan=\"3\" valign=\"top\">средний доход кат.4</th>\n",
       "      <th>бездетный</th>\n",
       "      <td>0.075219</td>\n",
       "    </tr>\n",
       "    <tr>\n",
       "      <th>малодетный</th>\n",
       "      <td>0.080444</td>\n",
       "    </tr>\n",
       "    <tr>\n",
       "      <th>многодетный</th>\n",
       "      <td>0.100000</td>\n",
       "    </tr>\n",
       "  </tbody>\n",
       "</table>\n",
       "<p>81 rows × 1 columns</p>\n",
       "</div>"
      ],
      "text/plain": [
       "                                                                 debt\n",
       "family_status         total_income_group     children_group          \n",
       "Не женат / не замужем высокий уровень дохода бездетный       0.088652\n",
       "                                             малодетный      0.097561\n",
       "                                             многодетный     0.000000\n",
       "                      низкий уровень дохода  бездетный       0.285714\n",
       "                      средний доход кат.1    бездетный       0.033333\n",
       "...                                                               ...\n",
       "женат / замужем       средний доход кат.3    малодетный      0.101164\n",
       "                                             многодетный     0.045455\n",
       "                      средний доход кат.4    бездетный       0.075219\n",
       "                                             малодетный      0.080444\n",
       "                                             многодетный     0.100000\n",
       "\n",
       "[81 rows x 1 columns]"
      ]
     },
     "metadata": {},
     "output_type": "display_data"
    }
   ],
   "source": [
    "data_pivot_common_status = data.pivot_table(index=['family_status','total_income_group', 'children_group'],\n",
    "                                            values='debt', aggfunc='mean')\n",
    "print(data_pivot_common_status['debt'].max())\n",
    "display(data_pivot_common_status[data_pivot_common_status['debt'] == 0.5])\n",
    "#display(data_pivot_common_status[data_pivot_common_status['debt'] == 0])\n",
    "display(data_pivot_common_status)"
   ]
  },
  {
   "cell_type": "markdown",
   "metadata": {},
   "source": [
    "**Вывод**\n",
    "\n",
    "Наиболее интересными оказались люди из группы 'Не женат / не замужем' с количеством детей более 3 и доходом 60000-10000 и доходом 140000-20000, люди в гражданском браке с количеством детей больше 3 и доходом 40000-60000. Процент задолженности по кредиту среди таких людей составляет 50%. Наиболее надежными платтельщиками являются люди из категории вдовец / вдова."
   ]
  },
  {
   "cell_type": "markdown",
   "metadata": {},
   "source": [
    "- Как разные цели кредита влияют на его возврат в срок?"
   ]
  },
  {
   "cell_type": "code",
   "execution_count": 49,
   "metadata": {},
   "outputs": [
    {
     "data": {
      "text/html": [
       "<div>\n",
       "<style scoped>\n",
       "    .dataframe tbody tr th:only-of-type {\n",
       "        vertical-align: middle;\n",
       "    }\n",
       "\n",
       "    .dataframe tbody tr th {\n",
       "        vertical-align: top;\n",
       "    }\n",
       "\n",
       "    .dataframe thead th {\n",
       "        text-align: right;\n",
       "    }\n",
       "</style>\n",
       "<table border=\"1\" class=\"dataframe\">\n",
       "  <thead>\n",
       "    <tr style=\"text-align: right;\">\n",
       "      <th></th>\n",
       "      <th>count</th>\n",
       "      <th>sum</th>\n",
       "      <th>my_mean</th>\n",
       "    </tr>\n",
       "    <tr>\n",
       "      <th>goal_credit</th>\n",
       "      <th></th>\n",
       "      <th></th>\n",
       "      <th></th>\n",
       "    </tr>\n",
       "  </thead>\n",
       "  <tbody>\n",
       "    <tr>\n",
       "      <th>автомобиль</th>\n",
       "      <td>4315</td>\n",
       "      <td>403</td>\n",
       "      <td>9.34%</td>\n",
       "    </tr>\n",
       "    <tr>\n",
       "      <th>недвижимость</th>\n",
       "      <td>10228</td>\n",
       "      <td>747</td>\n",
       "      <td>7.30%</td>\n",
       "    </tr>\n",
       "    <tr>\n",
       "      <th>образование</th>\n",
       "      <td>4022</td>\n",
       "      <td>370</td>\n",
       "      <td>9.20%</td>\n",
       "    </tr>\n",
       "    <tr>\n",
       "      <th>ремонт</th>\n",
       "      <td>612</td>\n",
       "      <td>35</td>\n",
       "      <td>5.72%</td>\n",
       "    </tr>\n",
       "    <tr>\n",
       "      <th>свадьба</th>\n",
       "      <td>2348</td>\n",
       "      <td>186</td>\n",
       "      <td>7.92%</td>\n",
       "    </tr>\n",
       "  </tbody>\n",
       "</table>\n",
       "</div>"
      ],
      "text/plain": [
       "              count  sum my_mean\n",
       "goal_credit                     \n",
       "автомобиль     4315  403  9.34% \n",
       "недвижимость  10228  747  7.30% \n",
       "образование    4022  370  9.20% \n",
       "ремонт          612   35  5.72% \n",
       "свадьба        2348  186  7.92% "
      ]
     },
     "execution_count": 49,
     "metadata": {},
     "output_type": "execute_result"
    }
   ],
   "source": [
    "data.groupby('goal_credit')['debt'].agg(['count', 'sum', my_mean])"
   ]
  },
  {
   "cell_type": "markdown",
   "metadata": {},
   "source": [
    "**Вывод**\n",
    "\n",
    "Наибольший процент задолженостей по кредиту имеют люди взявшие его на образование."
   ]
  },
  {
   "cell_type": "markdown",
   "metadata": {},
   "source": [
    "## Общий вывод"
   ]
  },
  {
   "cell_type": "markdown",
   "metadata": {},
   "source": [
    "* Больший процент задолженности по кредиту имеют люди с 1-2 детьми.\n",
    "* Люди из группы `вдова/вдовец` имееют наименьший процент задолжености по кредиту. Люди из группы `женат/замужем` имеют практически такой же процент задолжености по кредиту как и люди из группы `в разводе`.\n",
    "* Люди с низким уровнем дохода имееют наименьший процент задолженостей по кредиту (6,1%). \n",
    "\n",
    "Категорий самых безответственных людей:\n",
    "1. Малодетные. Процент невозврата - 9,27%\n",
    "2. Не женат/ не замужем. Процент невозврата - 9,75%\n",
    "3. Люди с доходом 140000-200000. Процент невозврата - 9,02%\n",
    "4. Люди, берущие кредит на образование. Процент невозврата - 9,22%\n",
    "\n",
    "\n",
    "Надежные клиенты:\n",
    "1. Бездетные. Процент невозврата - 7,54%\n",
    "2. Вдова/вдовец. Процент невозврата - 6,57%\n",
    "3. Люди с доходом 40000-60000. Процент невозврата - 5,73%\n",
    "4. Люди, берущие кредит на ремонт. Процент невозврата - 5,77%"
   ]
  }
 ],
 "metadata": {
  "ExecuteTimeLog": [
   {
    "duration": 275,
    "start_time": "2022-01-16T07:14:11.931Z"
   },
   {
    "duration": 578,
    "start_time": "2022-01-16T07:14:17.007Z"
   },
   {
    "duration": 50,
    "start_time": "2022-01-16T07:14:18.413Z"
   },
   {
    "duration": 12,
    "start_time": "2022-01-16T07:16:36.903Z"
   },
   {
    "duration": 18,
    "start_time": "2022-01-16T07:17:34.373Z"
   },
   {
    "duration": 4,
    "start_time": "2022-01-16T07:37:28.828Z"
   },
   {
    "duration": 5,
    "start_time": "2022-01-16T07:39:47.780Z"
   },
   {
    "duration": 6,
    "start_time": "2022-01-16T07:40:21.013Z"
   },
   {
    "duration": 5,
    "start_time": "2022-01-16T07:40:27.496Z"
   },
   {
    "duration": 5,
    "start_time": "2022-01-16T07:40:28.996Z"
   },
   {
    "duration": 5,
    "start_time": "2022-01-16T07:40:42.821Z"
   },
   {
    "duration": 5,
    "start_time": "2022-01-16T07:40:46.227Z"
   },
   {
    "duration": 4,
    "start_time": "2022-01-16T07:40:48.483Z"
   },
   {
    "duration": 10,
    "start_time": "2022-01-16T07:44:48.797Z"
   },
   {
    "duration": 10,
    "start_time": "2022-01-16T07:53:16.729Z"
   },
   {
    "duration": 251,
    "start_time": "2022-01-16T08:08:54.396Z"
   },
   {
    "duration": 260,
    "start_time": "2022-01-16T08:09:35.423Z"
   },
   {
    "duration": 229,
    "start_time": "2022-01-16T08:09:56.277Z"
   },
   {
    "duration": 232,
    "start_time": "2022-01-16T08:10:45.796Z"
   },
   {
    "duration": 7,
    "start_time": "2022-01-16T08:10:51.879Z"
   },
   {
    "duration": 9,
    "start_time": "2022-01-16T08:11:03.998Z"
   },
   {
    "duration": 8,
    "start_time": "2022-01-16T08:14:01.992Z"
   },
   {
    "duration": 5,
    "start_time": "2022-01-16T08:15:17.375Z"
   },
   {
    "duration": 8,
    "start_time": "2022-01-16T08:19:29.178Z"
   },
   {
    "duration": 231,
    "start_time": "2022-01-16T08:21:56.322Z"
   },
   {
    "duration": 21,
    "start_time": "2022-01-16T08:25:47.753Z"
   },
   {
    "duration": 3,
    "start_time": "2022-01-16T08:28:52.452Z"
   },
   {
    "duration": 2,
    "start_time": "2022-01-16T08:28:55.968Z"
   },
   {
    "duration": 5,
    "start_time": "2022-01-16T08:29:31.003Z"
   },
   {
    "duration": 250,
    "start_time": "2022-01-16T08:31:04.812Z"
   },
   {
    "duration": 234,
    "start_time": "2022-01-16T08:31:12.591Z"
   },
   {
    "duration": 8,
    "start_time": "2022-01-16T08:31:38.224Z"
   },
   {
    "duration": 243,
    "start_time": "2022-01-16T08:31:50.589Z"
   },
   {
    "duration": 232,
    "start_time": "2022-01-16T08:32:00.840Z"
   },
   {
    "duration": 24,
    "start_time": "2022-01-16T08:32:07.951Z"
   },
   {
    "duration": 2,
    "start_time": "2022-01-16T08:32:22.407Z"
   },
   {
    "duration": 239,
    "start_time": "2022-01-16T08:32:36.641Z"
   },
   {
    "duration": 9,
    "start_time": "2022-01-16T08:33:07.726Z"
   },
   {
    "duration": 23,
    "start_time": "2022-01-16T08:37:16.157Z"
   },
   {
    "duration": 245,
    "start_time": "2022-01-16T08:48:27.525Z"
   },
   {
    "duration": 9,
    "start_time": "2022-01-16T08:48:37.804Z"
   },
   {
    "duration": 7,
    "start_time": "2022-01-16T08:49:23.012Z"
   },
   {
    "duration": 8,
    "start_time": "2022-01-16T08:50:36.230Z"
   },
   {
    "duration": 7,
    "start_time": "2022-01-16T08:51:01.878Z"
   },
   {
    "duration": 7,
    "start_time": "2022-01-16T08:51:51.152Z"
   },
   {
    "duration": 22,
    "start_time": "2022-01-16T09:03:51.750Z"
   },
   {
    "duration": 23,
    "start_time": "2022-01-16T09:04:01.964Z"
   },
   {
    "duration": 23,
    "start_time": "2022-01-16T09:04:18.784Z"
   },
   {
    "duration": 22,
    "start_time": "2022-01-16T09:05:24.716Z"
   },
   {
    "duration": 8,
    "start_time": "2022-01-16T09:06:05.218Z"
   },
   {
    "duration": 3,
    "start_time": "2022-01-16T09:06:51.513Z"
   },
   {
    "duration": 269,
    "start_time": "2022-01-16T09:13:01.130Z"
   },
   {
    "duration": 5,
    "start_time": "2022-01-16T09:13:45.001Z"
   },
   {
    "duration": 5,
    "start_time": "2022-01-16T09:19:33.017Z"
   },
   {
    "duration": 6,
    "start_time": "2022-01-16T09:48:31.454Z"
   },
   {
    "duration": 5,
    "start_time": "2022-01-16T09:49:24.910Z"
   },
   {
    "duration": 7,
    "start_time": "2022-01-16T09:50:31.443Z"
   },
   {
    "duration": 4,
    "start_time": "2022-01-16T09:51:48.381Z"
   },
   {
    "duration": 428,
    "start_time": "2022-01-16T17:47:10.192Z"
   },
   {
    "duration": 742,
    "start_time": "2022-01-16T17:47:21.613Z"
   },
   {
    "duration": 74,
    "start_time": "2022-01-16T17:47:22.360Z"
   },
   {
    "duration": 30,
    "start_time": "2022-01-16T17:47:22.436Z"
   },
   {
    "duration": 25,
    "start_time": "2022-01-16T17:47:22.469Z"
   },
   {
    "duration": 6,
    "start_time": "2022-01-16T17:47:22.496Z"
   },
   {
    "duration": 8,
    "start_time": "2022-01-16T17:47:22.505Z"
   },
   {
    "duration": 6,
    "start_time": "2022-01-16T17:47:22.515Z"
   },
   {
    "duration": 16,
    "start_time": "2022-01-16T17:47:22.565Z"
   },
   {
    "duration": 8,
    "start_time": "2022-01-16T17:47:22.584Z"
   },
   {
    "duration": 13,
    "start_time": "2022-01-16T17:47:22.594Z"
   },
   {
    "duration": 3,
    "start_time": "2022-01-16T17:47:22.609Z"
   },
   {
    "duration": 81,
    "start_time": "2022-01-16T17:47:22.615Z"
   },
   {
    "duration": 2,
    "start_time": "2022-01-16T17:47:22.699Z"
   },
   {
    "duration": 32,
    "start_time": "2022-01-16T17:47:22.704Z"
   },
   {
    "duration": 6,
    "start_time": "2022-01-16T17:47:22.759Z"
   },
   {
    "duration": 39,
    "start_time": "2022-01-16T17:49:13.752Z"
   },
   {
    "duration": 25,
    "start_time": "2022-01-16T17:50:59.276Z"
   },
   {
    "duration": 10,
    "start_time": "2022-01-16T17:51:22.781Z"
   },
   {
    "duration": 127,
    "start_time": "2022-01-16T18:03:41.102Z"
   },
   {
    "duration": 6,
    "start_time": "2022-01-16T18:03:47.091Z"
   },
   {
    "duration": 9,
    "start_time": "2022-01-16T18:03:56.978Z"
   },
   {
    "duration": 6,
    "start_time": "2022-01-16T18:04:18.993Z"
   },
   {
    "duration": 9,
    "start_time": "2022-01-16T18:05:58.380Z"
   },
   {
    "duration": 7,
    "start_time": "2022-01-16T18:06:02.374Z"
   },
   {
    "duration": 350714,
    "start_time": "2022-01-16T18:00:36.030Z"
   },
   {
    "duration": 4,
    "start_time": "2022-01-16T18:06:52.821Z"
   },
   {
    "duration": 345,
    "start_time": "2022-01-16T18:06:53.792Z"
   },
   {
    "duration": 346,
    "start_time": "2022-01-16T18:07:04.245Z"
   },
   {
    "duration": 9,
    "start_time": "2022-01-16T18:08:43.721Z"
   },
   {
    "duration": 405,
    "start_time": "2022-01-16T18:09:28.482Z"
   },
   {
    "duration": 1251,
    "start_time": "2022-01-16T18:10:20.085Z"
   },
   {
    "duration": 5,
    "start_time": "2022-01-16T18:10:31.807Z"
   },
   {
    "duration": 10,
    "start_time": "2022-01-16T18:12:23.993Z"
   },
   {
    "duration": 119,
    "start_time": "2022-01-16T18:17:12.277Z"
   },
   {
    "duration": 360,
    "start_time": "2022-01-16T18:21:18.117Z"
   },
   {
    "duration": 329,
    "start_time": "2022-01-16T18:21:31.915Z"
   },
   {
    "duration": 8,
    "start_time": "2022-01-16T18:21:46.322Z"
   },
   {
    "duration": 8,
    "start_time": "2022-01-16T18:21:53.936Z"
   },
   {
    "duration": 6,
    "start_time": "2022-01-16T18:21:55.008Z"
   },
   {
    "duration": 382,
    "start_time": "2022-01-16T18:21:56.870Z"
   },
   {
    "duration": 356,
    "start_time": "2022-01-16T18:23:06.221Z"
   },
   {
    "duration": 7,
    "start_time": "2022-01-16T18:23:24.398Z"
   },
   {
    "duration": 6,
    "start_time": "2022-01-16T18:23:57.205Z"
   },
   {
    "duration": 393,
    "start_time": "2022-01-16T18:25:41.072Z"
   },
   {
    "duration": 14,
    "start_time": "2022-01-16T18:26:01.206Z"
   },
   {
    "duration": 349,
    "start_time": "2022-01-16T18:27:01.285Z"
   },
   {
    "duration": 345,
    "start_time": "2022-01-16T18:27:48.336Z"
   },
   {
    "duration": 16,
    "start_time": "2022-01-16T18:28:37.090Z"
   },
   {
    "duration": 5,
    "start_time": "2022-01-16T18:29:55.530Z"
   },
   {
    "duration": 362,
    "start_time": "2022-01-16T18:30:10.892Z"
   },
   {
    "duration": 403,
    "start_time": "2022-01-16T18:32:27.711Z"
   },
   {
    "duration": 5,
    "start_time": "2022-01-16T18:32:45.130Z"
   },
   {
    "duration": 5,
    "start_time": "2022-01-16T18:32:57.425Z"
   },
   {
    "duration": 395,
    "start_time": "2022-01-16T18:33:15.051Z"
   },
   {
    "duration": 7,
    "start_time": "2022-01-16T18:33:39.913Z"
   },
   {
    "duration": 6,
    "start_time": "2022-01-16T18:34:23.376Z"
   },
   {
    "duration": 4,
    "start_time": "2022-01-16T18:34:40.704Z"
   },
   {
    "duration": 7,
    "start_time": "2022-01-16T18:34:45.208Z"
   },
   {
    "duration": 7,
    "start_time": "2022-01-16T18:35:13.915Z"
   },
   {
    "duration": 365,
    "start_time": "2022-01-16T18:37:16.096Z"
   },
   {
    "duration": 11,
    "start_time": "2022-01-16T18:41:12.531Z"
   },
   {
    "duration": 461,
    "start_time": "2022-01-16T18:41:18.777Z"
   },
   {
    "duration": 355,
    "start_time": "2022-01-16T18:41:30.590Z"
   },
   {
    "duration": 17,
    "start_time": "2022-01-16T18:41:47.921Z"
   },
   {
    "duration": 355,
    "start_time": "2022-01-16T18:41:50.190Z"
   },
   {
    "duration": 10,
    "start_time": "2022-01-16T18:53:53.272Z"
   },
   {
    "duration": 13,
    "start_time": "2022-01-16T18:54:41.432Z"
   },
   {
    "duration": 43,
    "start_time": "2022-01-16T18:55:28.528Z"
   },
   {
    "duration": 832,
    "start_time": "2022-01-16T18:56:56.237Z"
   },
   {
    "duration": 68,
    "start_time": "2022-01-16T18:56:57.072Z"
   },
   {
    "duration": 28,
    "start_time": "2022-01-16T18:56:57.144Z"
   },
   {
    "duration": 26,
    "start_time": "2022-01-16T18:56:57.175Z"
   },
   {
    "duration": 6,
    "start_time": "2022-01-16T18:56:57.203Z"
   },
   {
    "duration": 12,
    "start_time": "2022-01-16T18:56:57.211Z"
   },
   {
    "duration": 34,
    "start_time": "2022-01-16T18:56:57.225Z"
   },
   {
    "duration": 13,
    "start_time": "2022-01-16T18:56:57.263Z"
   },
   {
    "duration": 12,
    "start_time": "2022-01-16T18:56:57.280Z"
   },
   {
    "duration": 10,
    "start_time": "2022-01-16T18:56:57.294Z"
   },
   {
    "duration": 3,
    "start_time": "2022-01-16T18:56:57.308Z"
   },
   {
    "duration": 82,
    "start_time": "2022-01-16T18:56:57.315Z"
   },
   {
    "duration": 3,
    "start_time": "2022-01-16T18:56:57.401Z"
   },
   {
    "duration": 52,
    "start_time": "2022-01-16T18:56:57.408Z"
   },
   {
    "duration": 11,
    "start_time": "2022-01-16T18:56:57.463Z"
   },
   {
    "duration": 30,
    "start_time": "2022-01-16T19:18:11.372Z"
   },
   {
    "duration": 919,
    "start_time": "2022-01-16T19:19:15.398Z"
   },
   {
    "duration": 71,
    "start_time": "2022-01-16T19:19:16.320Z"
   },
   {
    "duration": 33,
    "start_time": "2022-01-16T19:19:16.394Z"
   },
   {
    "duration": 32,
    "start_time": "2022-01-16T19:19:16.430Z"
   },
   {
    "duration": 7,
    "start_time": "2022-01-16T19:19:16.466Z"
   },
   {
    "duration": 10,
    "start_time": "2022-01-16T19:19:16.476Z"
   },
   {
    "duration": 7,
    "start_time": "2022-01-16T19:19:16.489Z"
   },
   {
    "duration": 68,
    "start_time": "2022-01-16T19:19:16.499Z"
   },
   {
    "duration": 9,
    "start_time": "2022-01-16T19:19:16.570Z"
   },
   {
    "duration": 14,
    "start_time": "2022-01-16T19:19:16.582Z"
   },
   {
    "duration": 4,
    "start_time": "2022-01-16T19:19:16.599Z"
   },
   {
    "duration": 93,
    "start_time": "2022-01-16T19:19:16.606Z"
   },
   {
    "duration": 3,
    "start_time": "2022-01-16T19:19:16.702Z"
   },
   {
    "duration": 24,
    "start_time": "2022-01-16T19:19:16.707Z"
   },
   {
    "duration": 4,
    "start_time": "2022-01-16T19:19:16.733Z"
   },
   {
    "duration": 28,
    "start_time": "2022-01-16T19:19:16.759Z"
   },
   {
    "duration": 19,
    "start_time": "2022-01-16T19:19:23.047Z"
   },
   {
    "duration": 14,
    "start_time": "2022-01-16T19:32:39.934Z"
   },
   {
    "duration": 528,
    "start_time": "2022-01-16T19:33:13.013Z"
   },
   {
    "duration": 377,
    "start_time": "2022-01-16T19:33:19.808Z"
   },
   {
    "duration": 9,
    "start_time": "2022-01-16T19:33:23.068Z"
   },
   {
    "duration": 4192,
    "start_time": "2022-01-16T19:35:27.353Z"
   },
   {
    "duration": 62,
    "start_time": "2022-01-16T19:35:40.658Z"
   },
   {
    "duration": 41,
    "start_time": "2022-01-16T19:36:53.975Z"
   },
   {
    "duration": 34,
    "start_time": "2022-01-16T19:37:23.563Z"
   },
   {
    "duration": 37,
    "start_time": "2022-01-16T19:37:37.961Z"
   },
   {
    "duration": 79,
    "start_time": "2022-01-16T19:38:26.146Z"
   },
   {
    "duration": 11,
    "start_time": "2022-01-16T19:49:18.928Z"
   },
   {
    "duration": 19,
    "start_time": "2022-01-16T19:50:01.579Z"
   },
   {
    "duration": 12,
    "start_time": "2022-01-16T19:50:14.628Z"
   },
   {
    "duration": 16,
    "start_time": "2022-01-16T19:50:38.662Z"
   },
   {
    "duration": 19,
    "start_time": "2022-01-16T19:50:57.342Z"
   },
   {
    "duration": 18,
    "start_time": "2022-01-16T19:51:46.605Z"
   },
   {
    "duration": 20,
    "start_time": "2022-01-16T19:51:54.323Z"
   },
   {
    "duration": 22,
    "start_time": "2022-01-16T19:52:23.755Z"
   },
   {
    "duration": 701,
    "start_time": "2022-01-16T19:53:01.711Z"
   },
   {
    "duration": 64,
    "start_time": "2022-01-16T19:53:02.414Z"
   },
   {
    "duration": 28,
    "start_time": "2022-01-16T19:53:02.481Z"
   },
   {
    "duration": 18,
    "start_time": "2022-01-16T19:53:02.512Z"
   },
   {
    "duration": 26,
    "start_time": "2022-01-16T19:53:02.532Z"
   },
   {
    "duration": 8,
    "start_time": "2022-01-16T19:53:02.561Z"
   },
   {
    "duration": 8,
    "start_time": "2022-01-16T19:53:02.571Z"
   },
   {
    "duration": 13,
    "start_time": "2022-01-16T19:53:02.582Z"
   },
   {
    "duration": 8,
    "start_time": "2022-01-16T19:53:02.597Z"
   },
   {
    "duration": 8,
    "start_time": "2022-01-16T19:53:02.607Z"
   },
   {
    "duration": 3,
    "start_time": "2022-01-16T19:53:02.660Z"
   },
   {
    "duration": 40,
    "start_time": "2022-01-16T19:53:02.665Z"
   },
   {
    "duration": 3,
    "start_time": "2022-01-16T19:53:02.707Z"
   },
   {
    "duration": 53,
    "start_time": "2022-01-16T19:53:02.712Z"
   },
   {
    "duration": 20,
    "start_time": "2022-01-16T19:53:02.767Z"
   },
   {
    "duration": 17,
    "start_time": "2022-01-16T19:53:02.790Z"
   },
   {
    "duration": 36,
    "start_time": "2022-01-16T19:54:09.273Z"
   },
   {
    "duration": 19,
    "start_time": "2022-01-16T19:56:06.913Z"
   },
   {
    "duration": 11,
    "start_time": "2022-01-16T19:56:28.689Z"
   },
   {
    "duration": 12,
    "start_time": "2022-01-16T19:59:49.366Z"
   },
   {
    "duration": 18,
    "start_time": "2022-01-16T20:00:09.959Z"
   },
   {
    "duration": 18,
    "start_time": "2022-01-16T20:00:22.250Z"
   },
   {
    "duration": 127,
    "start_time": "2022-01-16T20:03:06.529Z"
   },
   {
    "duration": 20,
    "start_time": "2022-01-16T20:03:16.130Z"
   },
   {
    "duration": 23,
    "start_time": "2022-01-16T20:03:46.942Z"
   },
   {
    "duration": 959,
    "start_time": "2022-01-16T20:04:13.162Z"
   },
   {
    "duration": 65,
    "start_time": "2022-01-16T20:04:14.124Z"
   },
   {
    "duration": 30,
    "start_time": "2022-01-16T20:04:14.192Z"
   },
   {
    "duration": 36,
    "start_time": "2022-01-16T20:04:14.225Z"
   },
   {
    "duration": 5,
    "start_time": "2022-01-16T20:04:14.263Z"
   },
   {
    "duration": 8,
    "start_time": "2022-01-16T20:04:14.270Z"
   },
   {
    "duration": 6,
    "start_time": "2022-01-16T20:04:14.280Z"
   },
   {
    "duration": 14,
    "start_time": "2022-01-16T20:04:14.292Z"
   },
   {
    "duration": 56,
    "start_time": "2022-01-16T20:04:14.309Z"
   },
   {
    "duration": 10,
    "start_time": "2022-01-16T20:04:14.369Z"
   },
   {
    "duration": 4,
    "start_time": "2022-01-16T20:04:14.382Z"
   },
   {
    "duration": 77,
    "start_time": "2022-01-16T20:04:14.388Z"
   },
   {
    "duration": 3,
    "start_time": "2022-01-16T20:04:14.467Z"
   },
   {
    "duration": 20,
    "start_time": "2022-01-16T20:04:14.472Z"
   },
   {
    "duration": 13,
    "start_time": "2022-01-16T20:04:14.494Z"
   },
   {
    "duration": 51,
    "start_time": "2022-01-16T20:04:14.510Z"
   },
   {
    "duration": 50,
    "start_time": "2022-01-16T20:05:41.474Z"
   },
   {
    "duration": 22,
    "start_time": "2022-01-16T20:06:01.363Z"
   },
   {
    "duration": 25,
    "start_time": "2022-01-16T20:06:33.717Z"
   },
   {
    "duration": 18,
    "start_time": "2022-01-16T20:07:25.666Z"
   },
   {
    "duration": 40,
    "start_time": "2022-01-16T20:07:38.977Z"
   },
   {
    "duration": 158,
    "start_time": "2022-01-16T20:10:57.566Z"
   },
   {
    "duration": 426,
    "start_time": "2022-01-17T15:37:53.491Z"
   },
   {
    "duration": 816,
    "start_time": "2022-01-17T15:38:03.753Z"
   },
   {
    "duration": 65,
    "start_time": "2022-01-17T15:38:04.571Z"
   },
   {
    "duration": 30,
    "start_time": "2022-01-17T15:38:04.639Z"
   },
   {
    "duration": 15,
    "start_time": "2022-01-17T15:38:04.672Z"
   },
   {
    "duration": 6,
    "start_time": "2022-01-17T15:38:04.689Z"
   },
   {
    "duration": 7,
    "start_time": "2022-01-17T15:38:04.698Z"
   },
   {
    "duration": 8,
    "start_time": "2022-01-17T15:38:04.707Z"
   },
   {
    "duration": 53,
    "start_time": "2022-01-17T15:38:04.718Z"
   },
   {
    "duration": 8,
    "start_time": "2022-01-17T15:38:04.774Z"
   },
   {
    "duration": 8,
    "start_time": "2022-01-17T15:38:04.784Z"
   },
   {
    "duration": 3,
    "start_time": "2022-01-17T15:38:04.794Z"
   },
   {
    "duration": 84,
    "start_time": "2022-01-17T15:38:04.799Z"
   },
   {
    "duration": 3,
    "start_time": "2022-01-17T15:38:04.885Z"
   },
   {
    "duration": 19,
    "start_time": "2022-01-17T15:38:04.890Z"
   },
   {
    "duration": 200,
    "start_time": "2022-01-17T15:38:04.911Z"
   },
   {
    "duration": 21,
    "start_time": "2022-01-17T15:38:05.114Z"
   },
   {
    "duration": 7,
    "start_time": "2022-01-17T15:40:00.862Z"
   },
   {
    "duration": 4,
    "start_time": "2022-01-17T15:44:13.737Z"
   },
   {
    "duration": 16,
    "start_time": "2022-01-17T15:44:24.885Z"
   },
   {
    "duration": 7,
    "start_time": "2022-01-17T16:21:31.202Z"
   },
   {
    "duration": 23,
    "start_time": "2022-01-17T16:21:42.022Z"
   },
   {
    "duration": 30,
    "start_time": "2022-01-17T16:21:54.696Z"
   },
   {
    "duration": 22,
    "start_time": "2022-01-17T16:25:26.009Z"
   },
   {
    "duration": 17,
    "start_time": "2022-01-17T16:25:40.957Z"
   },
   {
    "duration": 22,
    "start_time": "2022-01-17T16:28:36.857Z"
   },
   {
    "duration": 20,
    "start_time": "2022-01-17T16:29:17.967Z"
   },
   {
    "duration": 21,
    "start_time": "2022-01-17T16:29:34.651Z"
   },
   {
    "duration": 19,
    "start_time": "2022-01-17T16:29:49.900Z"
   },
   {
    "duration": 25,
    "start_time": "2022-01-17T16:43:45.842Z"
   },
   {
    "duration": 24,
    "start_time": "2022-01-17T16:44:21.122Z"
   },
   {
    "duration": 620,
    "start_time": "2022-01-17T16:48:42.237Z"
   },
   {
    "duration": 26,
    "start_time": "2022-01-17T16:49:27.291Z"
   },
   {
    "duration": 47,
    "start_time": "2022-01-17T16:49:41.215Z"
   },
   {
    "duration": 43,
    "start_time": "2022-01-17T16:49:47.680Z"
   },
   {
    "duration": 482,
    "start_time": "2022-01-17T16:51:08.931Z"
   },
   {
    "duration": 8,
    "start_time": "2022-01-17T16:51:12.498Z"
   },
   {
    "duration": 38,
    "start_time": "2022-01-17T16:52:40.890Z"
   },
   {
    "duration": 21,
    "start_time": "2022-01-17T16:55:59.640Z"
   },
   {
    "duration": 35,
    "start_time": "2022-01-17T16:56:12.405Z"
   },
   {
    "duration": 6,
    "start_time": "2022-01-17T17:00:28.944Z"
   },
   {
    "duration": 4,
    "start_time": "2022-01-17T17:07:33.136Z"
   },
   {
    "duration": 866,
    "start_time": "2022-01-17T17:20:03.397Z"
   },
   {
    "duration": 15,
    "start_time": "2022-01-17T17:20:21.204Z"
   },
   {
    "duration": 22,
    "start_time": "2022-01-17T17:20:29.635Z"
   },
   {
    "duration": 7,
    "start_time": "2022-01-17T17:21:51.261Z"
   },
   {
    "duration": 24,
    "start_time": "2022-01-17T17:21:55.270Z"
   },
   {
    "duration": 860,
    "start_time": "2022-01-17T17:22:05.822Z"
   },
   {
    "duration": 66,
    "start_time": "2022-01-17T17:22:06.685Z"
   },
   {
    "duration": 32,
    "start_time": "2022-01-17T17:22:06.754Z"
   },
   {
    "duration": 17,
    "start_time": "2022-01-17T17:22:06.789Z"
   },
   {
    "duration": 6,
    "start_time": "2022-01-17T17:22:06.809Z"
   },
   {
    "duration": 13,
    "start_time": "2022-01-17T17:22:06.817Z"
   },
   {
    "duration": 35,
    "start_time": "2022-01-17T17:22:06.832Z"
   },
   {
    "duration": 19,
    "start_time": "2022-01-17T17:22:06.870Z"
   },
   {
    "duration": 66,
    "start_time": "2022-01-17T17:22:06.895Z"
   },
   {
    "duration": 444,
    "start_time": "2022-01-17T17:22:06.964Z"
   },
   {
    "duration": 354632,
    "start_time": "2022-01-17T17:16:12.779Z"
   },
   {
    "duration": 354631,
    "start_time": "2022-01-17T17:16:12.781Z"
   },
   {
    "duration": 354627,
    "start_time": "2022-01-17T17:16:12.787Z"
   },
   {
    "duration": 354626,
    "start_time": "2022-01-17T17:16:12.789Z"
   },
   {
    "duration": 354626,
    "start_time": "2022-01-17T17:16:12.791Z"
   },
   {
    "duration": 354625,
    "start_time": "2022-01-17T17:16:12.793Z"
   },
   {
    "duration": 354621,
    "start_time": "2022-01-17T17:16:12.799Z"
   },
   {
    "duration": 354620,
    "start_time": "2022-01-17T17:16:12.801Z"
   },
   {
    "duration": 354613,
    "start_time": "2022-01-17T17:16:12.809Z"
   },
   {
    "duration": 354611,
    "start_time": "2022-01-17T17:16:12.812Z"
   },
   {
    "duration": 9,
    "start_time": "2022-01-17T17:25:13.307Z"
   },
   {
    "duration": 638,
    "start_time": "2022-01-17T17:25:14.033Z"
   },
   {
    "duration": 8,
    "start_time": "2022-01-17T17:31:39.855Z"
   },
   {
    "duration": 403,
    "start_time": "2022-01-17T17:31:43.491Z"
   },
   {
    "duration": 10,
    "start_time": "2022-01-17T17:31:54.228Z"
   },
   {
    "duration": 171,
    "start_time": "2022-01-17T17:31:55.378Z"
   },
   {
    "duration": 890,
    "start_time": "2022-01-17T17:32:20.540Z"
   },
   {
    "duration": 85,
    "start_time": "2022-01-17T17:32:21.432Z"
   },
   {
    "duration": 31,
    "start_time": "2022-01-17T17:32:21.520Z"
   },
   {
    "duration": 16,
    "start_time": "2022-01-17T17:32:21.559Z"
   },
   {
    "duration": 6,
    "start_time": "2022-01-17T17:32:21.578Z"
   },
   {
    "duration": 9,
    "start_time": "2022-01-17T17:32:21.587Z"
   },
   {
    "duration": 11,
    "start_time": "2022-01-17T17:32:21.599Z"
   },
   {
    "duration": 54,
    "start_time": "2022-01-17T17:32:21.612Z"
   },
   {
    "duration": 38,
    "start_time": "2022-01-17T17:32:21.670Z"
   },
   {
    "duration": 16,
    "start_time": "2022-01-17T17:32:21.712Z"
   },
   {
    "duration": 225,
    "start_time": "2022-01-17T17:32:21.761Z"
   },
   {
    "duration": 19,
    "start_time": "2022-01-17T17:32:21.988Z"
   },
   {
    "duration": 9,
    "start_time": "2022-01-17T17:32:22.009Z"
   },
   {
    "duration": 66,
    "start_time": "2022-01-17T17:32:22.020Z"
   },
   {
    "duration": 24,
    "start_time": "2022-01-17T17:32:22.089Z"
   },
   {
    "duration": 7,
    "start_time": "2022-01-17T17:32:22.116Z"
   },
   {
    "duration": 25,
    "start_time": "2022-01-17T17:32:22.160Z"
   },
   {
    "duration": 25,
    "start_time": "2022-01-17T17:32:22.187Z"
   },
   {
    "duration": 79,
    "start_time": "2022-01-17T17:32:22.214Z"
   },
   {
    "duration": 4,
    "start_time": "2022-01-17T17:32:22.296Z"
   },
   {
    "duration": 528,
    "start_time": "2022-01-17T17:32:22.303Z"
   },
   {
    "duration": 10,
    "start_time": "2022-01-17T17:39:31.493Z"
   },
   {
    "duration": 4,
    "start_time": "2022-01-17T18:00:53.523Z"
   },
   {
    "duration": 25,
    "start_time": "2022-01-17T18:01:01.754Z"
   },
   {
    "duration": 4,
    "start_time": "2022-01-17T18:01:37.834Z"
   },
   {
    "duration": 4,
    "start_time": "2022-01-17T18:02:49.223Z"
   },
   {
    "duration": 615,
    "start_time": "2022-01-17T18:03:27.353Z"
   },
   {
    "duration": 375,
    "start_time": "2022-01-17T18:08:39.522Z"
   },
   {
    "duration": 26,
    "start_time": "2022-01-17T18:09:11.101Z"
   },
   {
    "duration": 3255,
    "start_time": "2022-01-17T18:11:33.468Z"
   },
   {
    "duration": 2254,
    "start_time": "2022-01-17T18:11:42.407Z"
   },
   {
    "duration": 2080,
    "start_time": "2022-01-17T18:17:45.742Z"
   },
   {
    "duration": 2176,
    "start_time": "2022-01-17T18:21:45.387Z"
   },
   {
    "duration": 2280,
    "start_time": "2022-01-17T18:21:51.537Z"
   },
   {
    "duration": 2236,
    "start_time": "2022-01-17T18:22:27.613Z"
   },
   {
    "duration": 2432,
    "start_time": "2022-01-17T18:27:32.770Z"
   },
   {
    "duration": 2230,
    "start_time": "2022-01-17T18:32:26.336Z"
   },
   {
    "duration": 2534,
    "start_time": "2022-01-17T18:37:19.074Z"
   },
   {
    "duration": 2483,
    "start_time": "2022-01-17T18:37:33.299Z"
   },
   {
    "duration": 2273,
    "start_time": "2022-01-17T18:43:42.436Z"
   },
   {
    "duration": 6382,
    "start_time": "2022-01-17T18:59:04.044Z"
   },
   {
    "duration": 17,
    "start_time": "2022-01-17T18:59:58.138Z"
   },
   {
    "duration": 5958,
    "start_time": "2022-01-17T19:00:55.960Z"
   },
   {
    "duration": 15,
    "start_time": "2022-01-17T19:01:05.404Z"
   },
   {
    "duration": 5559,
    "start_time": "2022-01-17T19:01:19.554Z"
   },
   {
    "duration": 16,
    "start_time": "2022-01-17T19:01:28.443Z"
   },
   {
    "duration": 5,
    "start_time": "2022-01-17T19:12:58.072Z"
   },
   {
    "duration": 354,
    "start_time": "2022-01-17T19:17:01.491Z"
   },
   {
    "duration": 13,
    "start_time": "2022-01-17T19:17:29.531Z"
   },
   {
    "duration": 14,
    "start_time": "2022-01-17T19:17:52.439Z"
   },
   {
    "duration": 9,
    "start_time": "2022-01-17T19:18:45.990Z"
   },
   {
    "duration": 10121,
    "start_time": "2022-01-17T19:19:27.441Z"
   },
   {
    "duration": 15,
    "start_time": "2022-01-17T19:20:39.184Z"
   },
   {
    "duration": 10,
    "start_time": "2022-01-17T19:20:50.772Z"
   },
   {
    "duration": 844,
    "start_time": "2022-01-17T19:21:27.767Z"
   },
   {
    "duration": 67,
    "start_time": "2022-01-17T19:21:28.613Z"
   },
   {
    "duration": 32,
    "start_time": "2022-01-17T19:21:28.684Z"
   },
   {
    "duration": 42,
    "start_time": "2022-01-17T19:21:28.719Z"
   },
   {
    "duration": 7,
    "start_time": "2022-01-17T19:21:28.764Z"
   },
   {
    "duration": 8,
    "start_time": "2022-01-17T19:21:28.774Z"
   },
   {
    "duration": 9,
    "start_time": "2022-01-17T19:21:28.785Z"
   },
   {
    "duration": 14,
    "start_time": "2022-01-17T19:21:28.798Z"
   },
   {
    "duration": 81,
    "start_time": "2022-01-17T19:21:28.815Z"
   },
   {
    "duration": 10,
    "start_time": "2022-01-17T19:21:28.898Z"
   },
   {
    "duration": 208,
    "start_time": "2022-01-17T19:21:28.911Z"
   },
   {
    "duration": 15,
    "start_time": "2022-01-17T19:21:29.121Z"
   },
   {
    "duration": 26,
    "start_time": "2022-01-17T19:21:29.139Z"
   },
   {
    "duration": 35,
    "start_time": "2022-01-17T19:21:29.168Z"
   },
   {
    "duration": 9,
    "start_time": "2022-01-17T19:21:29.205Z"
   },
   {
    "duration": 506,
    "start_time": "2022-01-17T19:21:29.217Z"
   },
   {
    "duration": 354799,
    "start_time": "2022-01-17T19:15:34.927Z"
   },
   {
    "duration": 354797,
    "start_time": "2022-01-17T19:15:34.930Z"
   },
   {
    "duration": 354797,
    "start_time": "2022-01-17T19:15:34.932Z"
   },
   {
    "duration": 354796,
    "start_time": "2022-01-17T19:15:34.934Z"
   },
   {
    "duration": 354795,
    "start_time": "2022-01-17T19:15:34.936Z"
   },
   {
    "duration": 354794,
    "start_time": "2022-01-17T19:15:34.938Z"
   },
   {
    "duration": 354794,
    "start_time": "2022-01-17T19:15:34.940Z"
   },
   {
    "duration": 716,
    "start_time": "2022-01-17T19:22:18.897Z"
   },
   {
    "duration": 1254,
    "start_time": "2022-01-17T19:22:32.588Z"
   },
   {
    "duration": 65,
    "start_time": "2022-01-17T19:22:33.845Z"
   },
   {
    "duration": 29,
    "start_time": "2022-01-17T19:22:33.913Z"
   },
   {
    "duration": 15,
    "start_time": "2022-01-17T19:22:33.945Z"
   },
   {
    "duration": 8,
    "start_time": "2022-01-17T19:22:33.963Z"
   },
   {
    "duration": 9,
    "start_time": "2022-01-17T19:22:33.975Z"
   },
   {
    "duration": 8,
    "start_time": "2022-01-17T19:22:33.987Z"
   },
   {
    "duration": 12,
    "start_time": "2022-01-17T19:22:33.998Z"
   },
   {
    "duration": 49,
    "start_time": "2022-01-17T19:22:34.013Z"
   },
   {
    "duration": 11,
    "start_time": "2022-01-17T19:22:34.065Z"
   },
   {
    "duration": 171,
    "start_time": "2022-01-17T19:22:34.079Z"
   },
   {
    "duration": 20,
    "start_time": "2022-01-17T19:22:34.252Z"
   },
   {
    "duration": 7,
    "start_time": "2022-01-17T19:22:34.274Z"
   },
   {
    "duration": 35,
    "start_time": "2022-01-17T19:22:34.283Z"
   },
   {
    "duration": 23,
    "start_time": "2022-01-17T19:22:34.320Z"
   },
   {
    "duration": 19,
    "start_time": "2022-01-17T19:22:34.345Z"
   },
   {
    "duration": 21,
    "start_time": "2022-01-17T19:22:34.366Z"
   },
   {
    "duration": 27,
    "start_time": "2022-01-17T19:22:34.390Z"
   },
   {
    "duration": 52,
    "start_time": "2022-01-17T19:22:34.419Z"
   },
   {
    "duration": 3855,
    "start_time": "2022-01-17T19:22:34.474Z"
   },
   {
    "duration": 6647,
    "start_time": "2022-01-17T19:22:38.332Z"
   },
   {
    "duration": 15,
    "start_time": "2022-01-17T19:22:44.982Z"
   },
   {
    "duration": 10,
    "start_time": "2022-01-17T19:23:07.967Z"
   },
   {
    "duration": 12,
    "start_time": "2022-01-17T19:23:11.369Z"
   },
   {
    "duration": 8,
    "start_time": "2022-01-17T19:23:26.871Z"
   },
   {
    "duration": 9,
    "start_time": "2022-01-17T19:23:32.727Z"
   },
   {
    "duration": 786,
    "start_time": "2022-01-17T19:23:47.544Z"
   },
   {
    "duration": 67,
    "start_time": "2022-01-17T19:23:48.333Z"
   },
   {
    "duration": 29,
    "start_time": "2022-01-17T19:23:48.403Z"
   },
   {
    "duration": 24,
    "start_time": "2022-01-17T19:23:48.435Z"
   },
   {
    "duration": 6,
    "start_time": "2022-01-17T19:23:48.462Z"
   },
   {
    "duration": 21,
    "start_time": "2022-01-17T19:23:48.470Z"
   },
   {
    "duration": 15,
    "start_time": "2022-01-17T19:23:48.493Z"
   },
   {
    "duration": 21,
    "start_time": "2022-01-17T19:23:48.510Z"
   },
   {
    "duration": 59,
    "start_time": "2022-01-17T19:23:48.535Z"
   },
   {
    "duration": 9,
    "start_time": "2022-01-17T19:23:48.597Z"
   },
   {
    "duration": 208,
    "start_time": "2022-01-17T19:23:48.608Z"
   },
   {
    "duration": 16,
    "start_time": "2022-01-17T19:23:48.818Z"
   },
   {
    "duration": 24,
    "start_time": "2022-01-17T19:23:48.836Z"
   },
   {
    "duration": 37,
    "start_time": "2022-01-17T19:23:48.863Z"
   },
   {
    "duration": 32,
    "start_time": "2022-01-17T19:23:48.902Z"
   },
   {
    "duration": 10,
    "start_time": "2022-01-17T19:23:48.961Z"
   },
   {
    "duration": 15,
    "start_time": "2022-01-17T19:23:48.975Z"
   },
   {
    "duration": 31,
    "start_time": "2022-01-17T19:23:48.993Z"
   },
   {
    "duration": 46,
    "start_time": "2022-01-17T19:23:49.027Z"
   },
   {
    "duration": 44,
    "start_time": "2022-01-17T19:23:49.075Z"
   },
   {
    "duration": 3256,
    "start_time": "2022-01-17T19:23:49.121Z"
   },
   {
    "duration": 5732,
    "start_time": "2022-01-17T19:23:52.380Z"
   },
   {
    "duration": 19,
    "start_time": "2022-01-17T19:23:58.115Z"
   },
   {
    "duration": 11,
    "start_time": "2022-01-17T19:28:07.818Z"
   },
   {
    "duration": 760,
    "start_time": "2022-01-17T19:28:17.262Z"
   },
   {
    "duration": 67,
    "start_time": "2022-01-17T19:28:18.025Z"
   },
   {
    "duration": 31,
    "start_time": "2022-01-17T19:28:18.095Z"
   },
   {
    "duration": 35,
    "start_time": "2022-01-17T19:28:18.129Z"
   },
   {
    "duration": 5,
    "start_time": "2022-01-17T19:28:18.167Z"
   },
   {
    "duration": 6,
    "start_time": "2022-01-17T19:28:18.175Z"
   },
   {
    "duration": 7,
    "start_time": "2022-01-17T19:28:18.184Z"
   },
   {
    "duration": 12,
    "start_time": "2022-01-17T19:28:18.195Z"
   },
   {
    "duration": 79,
    "start_time": "2022-01-17T19:28:18.210Z"
   },
   {
    "duration": 10,
    "start_time": "2022-01-17T19:28:18.292Z"
   },
   {
    "duration": 193,
    "start_time": "2022-01-17T19:28:18.304Z"
   },
   {
    "duration": 15,
    "start_time": "2022-01-17T19:28:18.499Z"
   },
   {
    "duration": 7,
    "start_time": "2022-01-17T19:28:18.517Z"
   },
   {
    "duration": 59,
    "start_time": "2022-01-17T19:28:18.527Z"
   },
   {
    "duration": 23,
    "start_time": "2022-01-17T19:28:18.588Z"
   },
   {
    "duration": 10,
    "start_time": "2022-01-17T19:28:18.613Z"
   },
   {
    "duration": 36,
    "start_time": "2022-01-17T19:28:18.625Z"
   },
   {
    "duration": 23,
    "start_time": "2022-01-17T19:28:18.664Z"
   },
   {
    "duration": 23,
    "start_time": "2022-01-17T19:28:18.690Z"
   },
   {
    "duration": 88,
    "start_time": "2022-01-17T19:28:18.715Z"
   },
   {
    "duration": 3357,
    "start_time": "2022-01-17T19:28:18.805Z"
   },
   {
    "duration": 5529,
    "start_time": "2022-01-17T19:28:22.164Z"
   },
   {
    "duration": 17,
    "start_time": "2022-01-17T19:28:27.699Z"
   },
   {
    "duration": 11,
    "start_time": "2022-01-17T19:32:09.367Z"
   },
   {
    "duration": 780,
    "start_time": "2022-01-17T19:32:15.062Z"
   },
   {
    "duration": 66,
    "start_time": "2022-01-17T19:32:15.845Z"
   },
   {
    "duration": 45,
    "start_time": "2022-01-17T19:32:15.914Z"
   },
   {
    "duration": 16,
    "start_time": "2022-01-17T19:32:15.962Z"
   },
   {
    "duration": 7,
    "start_time": "2022-01-17T19:32:15.981Z"
   },
   {
    "duration": 14,
    "start_time": "2022-01-17T19:32:15.991Z"
   },
   {
    "duration": 8,
    "start_time": "2022-01-17T19:32:16.007Z"
   },
   {
    "duration": 51,
    "start_time": "2022-01-17T19:32:16.019Z"
   },
   {
    "duration": 42,
    "start_time": "2022-01-17T19:32:16.074Z"
   },
   {
    "duration": 41,
    "start_time": "2022-01-17T19:32:16.118Z"
   },
   {
    "duration": 184,
    "start_time": "2022-01-17T19:32:16.162Z"
   },
   {
    "duration": 20,
    "start_time": "2022-01-17T19:32:16.348Z"
   },
   {
    "duration": 8,
    "start_time": "2022-01-17T19:32:16.371Z"
   },
   {
    "duration": 34,
    "start_time": "2022-01-17T19:32:16.381Z"
   },
   {
    "duration": 62,
    "start_time": "2022-01-17T19:32:16.418Z"
   },
   {
    "duration": 13,
    "start_time": "2022-01-17T19:32:16.483Z"
   },
   {
    "duration": 7,
    "start_time": "2022-01-17T19:32:16.499Z"
   },
   {
    "duration": 59,
    "start_time": "2022-01-17T19:32:16.508Z"
   },
   {
    "duration": 26,
    "start_time": "2022-01-17T19:32:16.570Z"
   },
   {
    "duration": 78,
    "start_time": "2022-01-17T19:32:16.598Z"
   },
   {
    "duration": 3365,
    "start_time": "2022-01-17T19:32:16.679Z"
   },
   {
    "duration": 5603,
    "start_time": "2022-01-17T19:32:20.047Z"
   },
   {
    "duration": 16,
    "start_time": "2022-01-17T19:32:25.663Z"
   },
   {
    "duration": 14,
    "start_time": "2022-01-17T19:32:43.302Z"
   },
   {
    "duration": 848,
    "start_time": "2022-01-17T19:33:27.056Z"
   },
   {
    "duration": 67,
    "start_time": "2022-01-17T19:33:27.907Z"
   },
   {
    "duration": 33,
    "start_time": "2022-01-17T19:33:27.977Z"
   },
   {
    "duration": 15,
    "start_time": "2022-01-17T19:33:28.013Z"
   },
   {
    "duration": 30,
    "start_time": "2022-01-17T19:33:28.030Z"
   },
   {
    "duration": 7,
    "start_time": "2022-01-17T19:33:28.063Z"
   },
   {
    "duration": 9,
    "start_time": "2022-01-17T19:33:28.073Z"
   },
   {
    "duration": 14,
    "start_time": "2022-01-17T19:33:28.084Z"
   },
   {
    "duration": 82,
    "start_time": "2022-01-17T19:33:28.104Z"
   },
   {
    "duration": 11,
    "start_time": "2022-01-17T19:33:28.190Z"
   },
   {
    "duration": 213,
    "start_time": "2022-01-17T19:33:28.204Z"
   },
   {
    "duration": 15,
    "start_time": "2022-01-17T19:33:28.419Z"
   },
   {
    "duration": 25,
    "start_time": "2022-01-17T19:33:28.437Z"
   },
   {
    "duration": 37,
    "start_time": "2022-01-17T19:33:28.464Z"
   },
   {
    "duration": 56,
    "start_time": "2022-01-17T19:33:28.503Z"
   },
   {
    "duration": 14,
    "start_time": "2022-01-17T19:33:28.562Z"
   },
   {
    "duration": 7,
    "start_time": "2022-01-17T19:33:28.578Z"
   },
   {
    "duration": 23,
    "start_time": "2022-01-17T19:33:28.587Z"
   },
   {
    "duration": 66,
    "start_time": "2022-01-17T19:33:28.613Z"
   },
   {
    "duration": 48,
    "start_time": "2022-01-17T19:33:28.682Z"
   },
   {
    "duration": 3401,
    "start_time": "2022-01-17T19:33:28.733Z"
   },
   {
    "duration": 5482,
    "start_time": "2022-01-17T19:33:32.137Z"
   },
   {
    "duration": 15,
    "start_time": "2022-01-17T19:33:37.621Z"
   },
   {
    "duration": 11,
    "start_time": "2022-01-17T19:40:56.515Z"
   },
   {
    "duration": 10,
    "start_time": "2022-01-17T19:48:56.162Z"
   },
   {
    "duration": 1154,
    "start_time": "2022-01-17T20:14:10.390Z"
   },
   {
    "duration": 652,
    "start_time": "2022-01-17T20:14:54.283Z"
   },
   {
    "duration": 671,
    "start_time": "2022-01-17T20:15:10.235Z"
   },
   {
    "duration": 665,
    "start_time": "2022-01-17T20:17:56.052Z"
   },
   {
    "duration": 655,
    "start_time": "2022-01-17T20:18:06.005Z"
   },
   {
    "duration": 15,
    "start_time": "2022-01-17T20:19:44.121Z"
   },
   {
    "duration": 20,
    "start_time": "2022-01-17T20:19:54.187Z"
   },
   {
    "duration": 24,
    "start_time": "2022-01-17T20:20:41.522Z"
   },
   {
    "duration": 9,
    "start_time": "2022-01-17T20:20:53.088Z"
   },
   {
    "duration": 10,
    "start_time": "2022-01-17T20:21:16.248Z"
   },
   {
    "duration": 21,
    "start_time": "2022-01-17T20:21:36.273Z"
   },
   {
    "duration": 359,
    "start_time": "2022-01-17T20:23:38.204Z"
   },
   {
    "duration": 16,
    "start_time": "2022-01-17T20:23:48.051Z"
   },
   {
    "duration": 23,
    "start_time": "2022-01-17T20:23:55.093Z"
   },
   {
    "duration": 1311,
    "start_time": "2022-01-18T18:35:22.712Z"
   },
   {
    "duration": 2453,
    "start_time": "2022-01-18T18:35:29.020Z"
   },
   {
    "duration": 51,
    "start_time": "2022-01-18T18:35:33.661Z"
   },
   {
    "duration": 17,
    "start_time": "2022-01-18T18:35:36.608Z"
   },
   {
    "duration": 14,
    "start_time": "2022-01-18T18:35:39.968Z"
   },
   {
    "duration": 4,
    "start_time": "2022-01-18T18:43:57.989Z"
   },
   {
    "duration": 306,
    "start_time": "2022-01-18T18:44:18.936Z"
   },
   {
    "duration": 303,
    "start_time": "2022-01-18T18:44:24.481Z"
   },
   {
    "duration": 7,
    "start_time": "2022-01-18T18:44:28.368Z"
   },
   {
    "duration": 5,
    "start_time": "2022-01-18T18:48:33.191Z"
   },
   {
    "duration": 656,
    "start_time": "2022-01-18T18:57:12.903Z"
   },
   {
    "duration": 50,
    "start_time": "2022-01-18T18:57:13.561Z"
   },
   {
    "duration": 18,
    "start_time": "2022-01-18T18:57:13.612Z"
   },
   {
    "duration": 10,
    "start_time": "2022-01-18T18:57:13.632Z"
   },
   {
    "duration": 4,
    "start_time": "2022-01-18T18:57:13.644Z"
   },
   {
    "duration": 5,
    "start_time": "2022-01-18T18:57:13.649Z"
   },
   {
    "duration": 6,
    "start_time": "2022-01-18T18:57:13.656Z"
   },
   {
    "duration": 8,
    "start_time": "2022-01-18T18:57:13.664Z"
   },
   {
    "duration": 22,
    "start_time": "2022-01-18T18:57:13.673Z"
   },
   {
    "duration": 6,
    "start_time": "2022-01-18T18:57:13.696Z"
   },
   {
    "duration": 104,
    "start_time": "2022-01-18T18:57:13.704Z"
   },
   {
    "duration": 10,
    "start_time": "2022-01-18T18:57:13.809Z"
   },
   {
    "duration": 5,
    "start_time": "2022-01-18T18:57:13.821Z"
   },
   {
    "duration": 21,
    "start_time": "2022-01-18T18:57:13.828Z"
   },
   {
    "duration": 27,
    "start_time": "2022-01-18T18:57:13.851Z"
   },
   {
    "duration": 8,
    "start_time": "2022-01-18T18:57:13.880Z"
   },
   {
    "duration": 10,
    "start_time": "2022-01-18T18:57:13.890Z"
   },
   {
    "duration": 15,
    "start_time": "2022-01-18T18:57:13.902Z"
   },
   {
    "duration": 19,
    "start_time": "2022-01-18T18:57:13.918Z"
   },
   {
    "duration": 29,
    "start_time": "2022-01-18T18:57:13.939Z"
   },
   {
    "duration": 2408,
    "start_time": "2022-01-18T18:57:13.970Z"
   },
   {
    "duration": 3429,
    "start_time": "2022-01-18T18:57:16.379Z"
   },
   {
    "duration": 10,
    "start_time": "2022-01-18T18:57:19.811Z"
   },
   {
    "duration": 361,
    "start_time": "2022-01-18T18:57:19.823Z"
   },
   {
    "duration": 12,
    "start_time": "2022-01-18T18:57:20.186Z"
   },
   {
    "duration": 2,
    "start_time": "2022-01-18T18:57:20.199Z"
   },
   {
    "duration": 12,
    "start_time": "2022-01-18T18:57:20.203Z"
   },
   {
    "duration": 11,
    "start_time": "2022-01-18T19:33:10.961Z"
   },
   {
    "duration": 107,
    "start_time": "2022-01-18T19:44:05.532Z"
   },
   {
    "duration": 10,
    "start_time": "2022-01-18T19:47:50.247Z"
   },
   {
    "duration": 122,
    "start_time": "2022-01-18T19:49:44.021Z"
   },
   {
    "duration": 9,
    "start_time": "2022-01-18T19:57:46.680Z"
   },
   {
    "duration": 9,
    "start_time": "2022-01-18T20:00:53.806Z"
   },
   {
    "duration": 8,
    "start_time": "2022-01-18T20:05:54.824Z"
   },
   {
    "duration": 9,
    "start_time": "2022-01-18T20:08:09.775Z"
   },
   {
    "duration": 15,
    "start_time": "2022-01-18T20:14:07.252Z"
   },
   {
    "duration": 116,
    "start_time": "2022-01-18T20:15:58.589Z"
   },
   {
    "duration": 158,
    "start_time": "2022-01-18T20:16:31.099Z"
   },
   {
    "duration": 16,
    "start_time": "2022-01-18T20:17:20.382Z"
   },
   {
    "duration": 118,
    "start_time": "2022-01-18T20:17:55.359Z"
   },
   {
    "duration": 545,
    "start_time": "2022-01-18T20:22:00.911Z"
   },
   {
    "duration": 49,
    "start_time": "2022-01-18T20:22:01.458Z"
   },
   {
    "duration": 18,
    "start_time": "2022-01-18T20:22:01.508Z"
   },
   {
    "duration": 12,
    "start_time": "2022-01-18T20:22:01.528Z"
   },
   {
    "duration": 5,
    "start_time": "2022-01-18T20:22:01.542Z"
   },
   {
    "duration": 25,
    "start_time": "2022-01-18T20:22:01.548Z"
   },
   {
    "duration": 4,
    "start_time": "2022-01-18T20:22:01.575Z"
   },
   {
    "duration": 12,
    "start_time": "2022-01-18T20:22:01.581Z"
   },
   {
    "duration": 29,
    "start_time": "2022-01-18T20:22:01.595Z"
   },
   {
    "duration": 10,
    "start_time": "2022-01-18T20:22:01.627Z"
   },
   {
    "duration": 121,
    "start_time": "2022-01-18T20:22:01.638Z"
   },
   {
    "duration": 18,
    "start_time": "2022-01-18T20:22:01.761Z"
   },
   {
    "duration": 8,
    "start_time": "2022-01-18T20:22:01.781Z"
   },
   {
    "duration": 7,
    "start_time": "2022-01-18T20:22:01.791Z"
   },
   {
    "duration": 8,
    "start_time": "2022-01-18T20:22:01.800Z"
   },
   {
    "duration": 17,
    "start_time": "2022-01-18T20:22:01.810Z"
   },
   {
    "duration": 4,
    "start_time": "2022-01-18T20:22:01.828Z"
   },
   {
    "duration": 46,
    "start_time": "2022-01-18T20:22:01.834Z"
   },
   {
    "duration": 14,
    "start_time": "2022-01-18T20:22:01.882Z"
   },
   {
    "duration": 27,
    "start_time": "2022-01-18T20:22:01.898Z"
   },
   {
    "duration": 2298,
    "start_time": "2022-01-18T20:22:01.926Z"
   },
   {
    "duration": 3624,
    "start_time": "2022-01-18T20:22:04.226Z"
   },
   {
    "duration": 27,
    "start_time": "2022-01-18T20:22:07.851Z"
   },
   {
    "duration": 354,
    "start_time": "2022-01-18T20:22:07.879Z"
   },
   {
    "duration": 11,
    "start_time": "2022-01-18T20:22:08.234Z"
   },
   {
    "duration": 12,
    "start_time": "2022-01-18T20:22:08.247Z"
   },
   {
    "duration": 19,
    "start_time": "2022-01-18T20:22:08.261Z"
   },
   {
    "duration": 8,
    "start_time": "2022-01-19T15:44:00.102Z"
   },
   {
    "duration": 99,
    "start_time": "2022-01-19T15:52:23.952Z"
   },
   {
    "duration": 767,
    "start_time": "2022-01-19T15:52:29.890Z"
   },
   {
    "duration": 65,
    "start_time": "2022-01-19T15:52:30.660Z"
   },
   {
    "duration": 31,
    "start_time": "2022-01-19T15:52:30.728Z"
   },
   {
    "duration": 15,
    "start_time": "2022-01-19T15:52:30.770Z"
   },
   {
    "duration": 6,
    "start_time": "2022-01-19T15:52:30.787Z"
   },
   {
    "duration": 9,
    "start_time": "2022-01-19T15:52:30.796Z"
   },
   {
    "duration": 11,
    "start_time": "2022-01-19T15:52:30.808Z"
   },
   {
    "duration": 52,
    "start_time": "2022-01-19T15:52:30.823Z"
   },
   {
    "duration": 44,
    "start_time": "2022-01-19T15:52:30.878Z"
   },
   {
    "duration": 16,
    "start_time": "2022-01-19T15:52:30.924Z"
   },
   {
    "duration": 194,
    "start_time": "2022-01-19T15:52:30.969Z"
   },
   {
    "duration": 15,
    "start_time": "2022-01-19T15:52:31.169Z"
   },
   {
    "duration": 14,
    "start_time": "2022-01-19T15:52:31.187Z"
   },
   {
    "duration": 13,
    "start_time": "2022-01-19T15:52:31.203Z"
   },
   {
    "duration": 18,
    "start_time": "2022-01-19T15:52:31.218Z"
   },
   {
    "duration": 122,
    "start_time": "2022-01-19T15:52:31.239Z"
   },
   {
    "duration": 357896,
    "start_time": "2022-01-19T15:46:33.469Z"
   },
   {
    "duration": 357893,
    "start_time": "2022-01-19T15:46:33.473Z"
   },
   {
    "duration": 357890,
    "start_time": "2022-01-19T15:46:33.478Z"
   },
   {
    "duration": 357888,
    "start_time": "2022-01-19T15:46:33.481Z"
   },
   {
    "duration": 357887,
    "start_time": "2022-01-19T15:46:33.484Z"
   },
   {
    "duration": 357887,
    "start_time": "2022-01-19T15:46:33.485Z"
   },
   {
    "duration": 357885,
    "start_time": "2022-01-19T15:46:33.488Z"
   },
   {
    "duration": 357885,
    "start_time": "2022-01-19T15:46:33.490Z"
   },
   {
    "duration": 357883,
    "start_time": "2022-01-19T15:46:33.493Z"
   },
   {
    "duration": 357880,
    "start_time": "2022-01-19T15:46:33.497Z"
   },
   {
    "duration": 357879,
    "start_time": "2022-01-19T15:46:33.500Z"
   },
   {
    "duration": 21,
    "start_time": "2022-01-19T15:53:52.173Z"
   },
   {
    "duration": 6,
    "start_time": "2022-01-19T15:57:48.625Z"
   },
   {
    "duration": 22,
    "start_time": "2022-01-19T15:57:58.732Z"
   },
   {
    "duration": 30,
    "start_time": "2022-01-19T15:58:01.536Z"
   },
   {
    "duration": 47,
    "start_time": "2022-01-19T15:58:03.451Z"
   },
   {
    "duration": 4,
    "start_time": "2022-01-19T16:02:13.273Z"
   },
   {
    "duration": 3522,
    "start_time": "2022-01-19T16:03:33.133Z"
   },
   {
    "duration": 2381,
    "start_time": "2022-01-19T16:07:42.994Z"
   },
   {
    "duration": 6123,
    "start_time": "2022-01-19T16:16:06.705Z"
   },
   {
    "duration": 671,
    "start_time": "2022-01-19T16:28:08.175Z"
   },
   {
    "duration": 650,
    "start_time": "2022-01-19T16:30:56.356Z"
   },
   {
    "duration": 21,
    "start_time": "2022-01-19T16:31:09.741Z"
   },
   {
    "duration": 21,
    "start_time": "2022-01-19T16:31:22.034Z"
   },
   {
    "duration": 20,
    "start_time": "2022-01-19T16:31:35.935Z"
   },
   {
    "duration": 360,
    "start_time": "2022-01-19T16:37:26.009Z"
   },
   {
    "duration": 26,
    "start_time": "2022-01-19T16:38:02.814Z"
   },
   {
    "duration": 19,
    "start_time": "2022-01-19T16:38:49.984Z"
   },
   {
    "duration": 91,
    "start_time": "2022-01-19T17:04:22.459Z"
   },
   {
    "duration": 107,
    "start_time": "2022-01-19T17:04:39.185Z"
   },
   {
    "duration": 819,
    "start_time": "2022-01-19T17:04:45.356Z"
   },
   {
    "duration": 866,
    "start_time": "2022-01-19T17:05:04.323Z"
   },
   {
    "duration": 827,
    "start_time": "2022-01-19T17:06:06.325Z"
   },
   {
    "duration": 830,
    "start_time": "2022-01-19T17:06:48.342Z"
   },
   {
    "duration": 754,
    "start_time": "2022-01-19T17:07:26.109Z"
   },
   {
    "duration": 907,
    "start_time": "2022-01-19T17:08:25.618Z"
   },
   {
    "duration": 651,
    "start_time": "2022-01-19T17:08:34.422Z"
   },
   {
    "duration": 642,
    "start_time": "2022-01-19T17:09:43.041Z"
   },
   {
    "duration": 1106,
    "start_time": "2022-01-19T17:09:52.869Z"
   },
   {
    "duration": 20,
    "start_time": "2022-01-19T17:18:47.449Z"
   },
   {
    "duration": 29,
    "start_time": "2022-01-19T17:27:05.767Z"
   },
   {
    "duration": 27,
    "start_time": "2022-01-19T17:29:04.655Z"
   },
   {
    "duration": 320,
    "start_time": "2022-01-19T17:51:50.747Z"
   },
   {
    "duration": 278,
    "start_time": "2022-01-19T17:51:55.618Z"
   },
   {
    "duration": 21,
    "start_time": "2022-01-19T17:53:57.288Z"
   },
   {
    "duration": 23,
    "start_time": "2022-01-19T17:54:57.528Z"
   },
   {
    "duration": 284,
    "start_time": "2022-01-19T17:55:26.850Z"
   },
   {
    "duration": 22,
    "start_time": "2022-01-19T17:55:36.501Z"
   },
   {
    "duration": 24,
    "start_time": "2022-01-19T17:55:55.362Z"
   },
   {
    "duration": 27,
    "start_time": "2022-01-19T17:56:30.331Z"
   },
   {
    "duration": 316,
    "start_time": "2022-01-19T17:58:39.217Z"
   },
   {
    "duration": 29,
    "start_time": "2022-01-19T17:58:56.103Z"
   },
   {
    "duration": 38,
    "start_time": "2022-01-19T17:59:33.767Z"
   },
   {
    "duration": 17,
    "start_time": "2022-01-19T18:06:24.544Z"
   },
   {
    "duration": 31,
    "start_time": "2022-01-19T18:06:31.652Z"
   },
   {
    "duration": 34,
    "start_time": "2022-01-19T18:10:23.697Z"
   },
   {
    "duration": 874,
    "start_time": "2022-01-19T18:51:13.691Z"
   },
   {
    "duration": 22,
    "start_time": "2022-01-19T18:51:17.731Z"
   },
   {
    "duration": 905,
    "start_time": "2022-01-19T18:52:37.931Z"
   },
   {
    "duration": 24,
    "start_time": "2022-01-19T18:52:41.582Z"
   },
   {
    "duration": 32,
    "start_time": "2022-01-19T18:53:37.668Z"
   },
   {
    "duration": 29,
    "start_time": "2022-01-19T18:54:01.131Z"
   },
   {
    "duration": 8,
    "start_time": "2022-01-19T19:52:38.547Z"
   },
   {
    "duration": 25,
    "start_time": "2022-01-19T19:53:21.483Z"
   },
   {
    "duration": 9,
    "start_time": "2022-01-19T19:56:30.163Z"
   },
   {
    "duration": 5524,
    "start_time": "2022-01-19T19:58:39.924Z"
   },
   {
    "duration": 709,
    "start_time": "2022-01-19T19:58:50.925Z"
   },
   {
    "duration": 817,
    "start_time": "2022-01-19T19:59:46.888Z"
   },
   {
    "duration": 22,
    "start_time": "2022-01-19T20:00:29.621Z"
   },
   {
    "duration": 22,
    "start_time": "2022-01-19T20:00:39.987Z"
   },
   {
    "duration": 29,
    "start_time": "2022-01-19T20:00:45.192Z"
   },
   {
    "duration": 22,
    "start_time": "2022-01-19T20:03:47.021Z"
   },
   {
    "duration": 22,
    "start_time": "2022-01-19T20:03:51.433Z"
   },
   {
    "duration": 6439,
    "start_time": "2022-01-19T20:05:36.579Z"
   },
   {
    "duration": 22,
    "start_time": "2022-01-19T20:06:18.467Z"
   },
   {
    "duration": 779,
    "start_time": "2022-01-19T20:43:59.739Z"
   },
   {
    "duration": 65,
    "start_time": "2022-01-19T20:44:00.521Z"
   },
   {
    "duration": 30,
    "start_time": "2022-01-19T20:44:00.589Z"
   },
   {
    "duration": 23,
    "start_time": "2022-01-19T20:44:00.622Z"
   },
   {
    "duration": 27,
    "start_time": "2022-01-19T20:44:00.647Z"
   },
   {
    "duration": 21,
    "start_time": "2022-01-19T20:44:00.676Z"
   },
   {
    "duration": 17,
    "start_time": "2022-01-19T20:44:00.700Z"
   },
   {
    "duration": 18,
    "start_time": "2022-01-19T20:44:00.719Z"
   },
   {
    "duration": 58,
    "start_time": "2022-01-19T20:44:00.741Z"
   },
   {
    "duration": 17,
    "start_time": "2022-01-19T20:44:00.802Z"
   },
   {
    "duration": 201,
    "start_time": "2022-01-19T20:44:00.822Z"
   },
   {
    "duration": 21,
    "start_time": "2022-01-19T20:44:01.025Z"
   },
   {
    "duration": 33,
    "start_time": "2022-01-19T20:44:01.050Z"
   },
   {
    "duration": 17,
    "start_time": "2022-01-19T20:44:01.086Z"
   },
   {
    "duration": 16,
    "start_time": "2022-01-19T20:44:01.106Z"
   },
   {
    "duration": 65,
    "start_time": "2022-01-19T20:44:01.126Z"
   },
   {
    "duration": 7,
    "start_time": "2022-01-19T20:44:01.194Z"
   },
   {
    "duration": 23,
    "start_time": "2022-01-19T20:44:01.203Z"
   },
   {
    "duration": 57,
    "start_time": "2022-01-19T20:44:01.228Z"
   },
   {
    "duration": 49,
    "start_time": "2022-01-19T20:44:01.287Z"
   },
   {
    "duration": 3326,
    "start_time": "2022-01-19T20:44:01.338Z"
   },
   {
    "duration": 6113,
    "start_time": "2022-01-19T20:44:04.670Z"
   },
   {
    "duration": 721,
    "start_time": "2022-01-19T20:44:10.786Z"
   },
   {
    "duration": 823,
    "start_time": "2022-01-19T20:44:11.510Z"
   },
   {
    "duration": 35,
    "start_time": "2022-01-19T20:44:12.335Z"
   },
   {
    "duration": 22,
    "start_time": "2022-01-19T20:44:12.372Z"
   },
   {
    "duration": 27,
    "start_time": "2022-01-19T20:44:12.398Z"
   },
   {
    "duration": 53,
    "start_time": "2022-01-19T20:44:12.428Z"
   },
   {
    "duration": 34,
    "start_time": "2022-01-19T20:44:12.483Z"
   },
   {
    "duration": 21,
    "start_time": "2022-01-19T20:44:12.519Z"
   },
   {
    "duration": 556,
    "start_time": "2022-01-24T07:05:21.220Z"
   },
   {
    "duration": 51,
    "start_time": "2022-01-24T07:05:21.778Z"
   },
   {
    "duration": 21,
    "start_time": "2022-01-24T07:05:21.832Z"
   },
   {
    "duration": 10,
    "start_time": "2022-01-24T07:05:21.855Z"
   },
   {
    "duration": 4,
    "start_time": "2022-01-24T07:05:21.867Z"
   },
   {
    "duration": 27,
    "start_time": "2022-01-24T07:05:21.873Z"
   },
   {
    "duration": 7,
    "start_time": "2022-01-24T07:05:21.901Z"
   },
   {
    "duration": 10,
    "start_time": "2022-01-24T07:05:21.910Z"
   },
   {
    "duration": 26,
    "start_time": "2022-01-24T07:05:21.923Z"
   },
   {
    "duration": 11,
    "start_time": "2022-01-24T07:05:21.951Z"
   },
   {
    "duration": 145,
    "start_time": "2022-01-24T07:05:21.964Z"
   },
   {
    "duration": 11,
    "start_time": "2022-01-24T07:05:22.111Z"
   },
   {
    "duration": 12,
    "start_time": "2022-01-24T07:05:22.124Z"
   },
   {
    "duration": 18,
    "start_time": "2022-01-24T07:05:22.138Z"
   },
   {
    "duration": 7,
    "start_time": "2022-01-24T07:05:22.158Z"
   },
   {
    "duration": 45,
    "start_time": "2022-01-24T07:05:22.167Z"
   },
   {
    "duration": 5,
    "start_time": "2022-01-24T07:05:22.214Z"
   },
   {
    "duration": 20,
    "start_time": "2022-01-24T07:05:22.221Z"
   },
   {
    "duration": 18,
    "start_time": "2022-01-24T07:05:22.243Z"
   },
   {
    "duration": 69,
    "start_time": "2022-01-24T07:05:22.263Z"
   },
   {
    "duration": 2487,
    "start_time": "2022-01-24T07:05:22.333Z"
   },
   {
    "duration": 3539,
    "start_time": "2022-01-24T07:05:24.822Z"
   },
   {
    "duration": 391,
    "start_time": "2022-01-24T07:05:28.363Z"
   },
   {
    "duration": 472,
    "start_time": "2022-01-24T07:05:28.755Z"
   },
   {
    "duration": 17,
    "start_time": "2022-01-24T07:05:29.229Z"
   },
   {
    "duration": 14,
    "start_time": "2022-01-24T07:05:29.247Z"
   },
   {
    "duration": 40,
    "start_time": "2022-01-24T07:05:29.265Z"
   },
   {
    "duration": 15,
    "start_time": "2022-01-24T07:05:29.307Z"
   },
   {
    "duration": 21,
    "start_time": "2022-01-24T07:05:29.324Z"
   },
   {
    "duration": 13,
    "start_time": "2022-01-24T07:05:29.347Z"
   },
   {
    "duration": -4477,
    "start_time": "2022-01-24T07:13:29.475Z"
   },
   {
    "duration": 3938,
    "start_time": "2022-01-24T07:13:34.099Z"
   },
   {
    "duration": 6310,
    "start_time": "2022-01-24T07:13:44.539Z"
   },
   {
    "duration": 7,
    "start_time": "2022-01-24T07:13:55.350Z"
   },
   {
    "duration": 182,
    "start_time": "2022-01-24T07:13:59.714Z"
   },
   {
    "duration": 4,
    "start_time": "2022-01-24T07:14:02.409Z"
   },
   {
    "duration": 8,
    "start_time": "2022-01-24T07:14:15.542Z"
   },
   {
    "duration": 7,
    "start_time": "2022-01-24T07:14:20.916Z"
   },
   {
    "duration": 5131,
    "start_time": "2022-01-24T07:14:33.769Z"
   },
   {
    "duration": 6,
    "start_time": "2022-01-24T07:14:39.581Z"
   },
   {
    "duration": 5,
    "start_time": "2022-01-24T07:14:52.031Z"
   },
   {
    "duration": 6,
    "start_time": "2022-01-24T07:14:56.570Z"
   },
   {
    "duration": 5,
    "start_time": "2022-01-24T07:15:05.079Z"
   },
   {
    "duration": 8,
    "start_time": "2022-01-24T07:27:01.055Z"
   },
   {
    "duration": 12,
    "start_time": "2022-01-24T07:28:52.267Z"
   },
   {
    "duration": 14,
    "start_time": "2022-01-24T07:28:58.181Z"
   },
   {
    "duration": 13,
    "start_time": "2022-01-24T07:29:13.239Z"
   },
   {
    "duration": 13,
    "start_time": "2022-01-24T07:29:13.577Z"
   },
   {
    "duration": 14,
    "start_time": "2022-01-24T07:29:13.995Z"
   },
   {
    "duration": 613,
    "start_time": "2022-01-24T16:09:59.494Z"
   },
   {
    "duration": 51,
    "start_time": "2022-01-24T16:10:00.109Z"
   },
   {
    "duration": 26,
    "start_time": "2022-01-24T16:10:00.162Z"
   },
   {
    "duration": 10,
    "start_time": "2022-01-24T16:10:00.190Z"
   },
   {
    "duration": 19,
    "start_time": "2022-01-24T16:10:00.201Z"
   },
   {
    "duration": 12,
    "start_time": "2022-01-24T16:10:00.221Z"
   },
   {
    "duration": 6,
    "start_time": "2022-01-24T16:10:00.235Z"
   },
   {
    "duration": 10,
    "start_time": "2022-01-24T16:10:00.243Z"
   },
   {
    "duration": 42,
    "start_time": "2022-01-24T16:10:00.256Z"
   },
   {
    "duration": 5,
    "start_time": "2022-01-24T16:10:00.300Z"
   },
   {
    "duration": 7,
    "start_time": "2022-01-24T16:10:00.307Z"
   },
   {
    "duration": 119,
    "start_time": "2022-01-24T16:10:00.315Z"
   },
   {
    "duration": 370832,
    "start_time": "2022-01-24T16:03:49.604Z"
   },
   {
    "duration": 370829,
    "start_time": "2022-01-24T16:03:49.609Z"
   },
   {
    "duration": 370827,
    "start_time": "2022-01-24T16:03:49.612Z"
   },
   {
    "duration": 370824,
    "start_time": "2022-01-24T16:03:49.616Z"
   },
   {
    "duration": 370823,
    "start_time": "2022-01-24T16:03:49.619Z"
   },
   {
    "duration": 370820,
    "start_time": "2022-01-24T16:03:49.623Z"
   },
   {
    "duration": 370818,
    "start_time": "2022-01-24T16:03:49.626Z"
   },
   {
    "duration": 370817,
    "start_time": "2022-01-24T16:03:49.629Z"
   },
   {
    "duration": 370813,
    "start_time": "2022-01-24T16:03:49.634Z"
   },
   {
    "duration": 370811,
    "start_time": "2022-01-24T16:03:49.637Z"
   },
   {
    "duration": 370810,
    "start_time": "2022-01-24T16:03:49.640Z"
   },
   {
    "duration": 370808,
    "start_time": "2022-01-24T16:03:49.643Z"
   },
   {
    "duration": 370807,
    "start_time": "2022-01-24T16:03:49.646Z"
   },
   {
    "duration": 370805,
    "start_time": "2022-01-24T16:03:49.649Z"
   },
   {
    "duration": 370802,
    "start_time": "2022-01-24T16:03:49.653Z"
   },
   {
    "duration": 370802,
    "start_time": "2022-01-24T16:03:49.655Z"
   },
   {
    "duration": 370800,
    "start_time": "2022-01-24T16:03:49.658Z"
   },
   {
    "duration": 370798,
    "start_time": "2022-01-24T16:03:49.661Z"
   },
   {
    "duration": 370796,
    "start_time": "2022-01-24T16:03:49.664Z"
   },
   {
    "duration": 370795,
    "start_time": "2022-01-24T16:03:49.667Z"
   },
   {
    "duration": 370793,
    "start_time": "2022-01-24T16:03:49.670Z"
   },
   {
    "duration": 370790,
    "start_time": "2022-01-24T16:03:49.674Z"
   },
   {
    "duration": 370787,
    "start_time": "2022-01-24T16:03:49.678Z"
   },
   {
    "duration": 4,
    "start_time": "2022-01-24T16:10:32.326Z"
   },
   {
    "duration": 411,
    "start_time": "2022-01-24T16:12:25.096Z"
   },
   {
    "duration": 311,
    "start_time": "2022-01-24T16:12:39.891Z"
   },
   {
    "duration": 12,
    "start_time": "2022-01-24T16:13:28.956Z"
   },
   {
    "duration": 9,
    "start_time": "2022-01-24T16:15:13.337Z"
   },
   {
    "duration": 13,
    "start_time": "2022-01-24T16:17:19.323Z"
   },
   {
    "duration": 11,
    "start_time": "2022-01-24T16:17:27.541Z"
   },
   {
    "duration": 10,
    "start_time": "2022-01-24T16:17:48.309Z"
   },
   {
    "duration": 340,
    "start_time": "2022-01-24T16:20:01.046Z"
   },
   {
    "duration": 1561,
    "start_time": "2022-01-24T16:20:13.639Z"
   },
   {
    "duration": 10,
    "start_time": "2022-01-24T16:20:57.864Z"
   },
   {
    "duration": 8,
    "start_time": "2022-01-24T16:21:27.706Z"
   },
   {
    "duration": 11,
    "start_time": "2022-01-24T16:21:40.279Z"
   },
   {
    "duration": 98,
    "start_time": "2022-01-24T16:26:27.200Z"
   },
   {
    "duration": 309,
    "start_time": "2022-01-24T16:26:33.862Z"
   },
   {
    "duration": 316,
    "start_time": "2022-01-24T16:28:20.405Z"
   },
   {
    "duration": 20,
    "start_time": "2022-01-24T16:31:34.816Z"
   },
   {
    "duration": 19,
    "start_time": "2022-01-24T16:38:22.330Z"
   },
   {
    "duration": 26,
    "start_time": "2022-01-24T16:38:51.564Z"
   },
   {
    "duration": 17068,
    "start_time": "2022-01-24T16:42:09.271Z"
   },
   {
    "duration": 14,
    "start_time": "2022-01-24T16:50:49.600Z"
   },
   {
    "duration": 19,
    "start_time": "2022-01-24T16:54:39.068Z"
   },
   {
    "duration": 8,
    "start_time": "2022-01-24T16:54:44.509Z"
   },
   {
    "duration": 14,
    "start_time": "2022-01-24T16:55:03.138Z"
   },
   {
    "duration": 697,
    "start_time": "2022-01-24T17:02:36.899Z"
   },
   {
    "duration": 19,
    "start_time": "2022-01-24T17:02:52.527Z"
   },
   {
    "duration": 709,
    "start_time": "2022-01-24T17:04:40.243Z"
   },
   {
    "duration": 97,
    "start_time": "2022-01-24T17:09:11.773Z"
   },
   {
    "duration": 106,
    "start_time": "2022-01-24T17:09:56.917Z"
   },
   {
    "duration": 110,
    "start_time": "2022-01-24T17:12:25.760Z"
   },
   {
    "duration": 439,
    "start_time": "2022-01-24T17:12:47.010Z"
   },
   {
    "duration": 18,
    "start_time": "2022-01-24T17:13:33.779Z"
   },
   {
    "duration": 394,
    "start_time": "2022-01-24T17:14:26.983Z"
   },
   {
    "duration": 382,
    "start_time": "2022-01-24T17:14:31.094Z"
   },
   {
    "duration": 552,
    "start_time": "2022-01-24T17:15:32.248Z"
   },
   {
    "duration": 584,
    "start_time": "2022-01-24T17:15:49.271Z"
   },
   {
    "duration": 48,
    "start_time": "2022-01-24T17:15:49.857Z"
   },
   {
    "duration": 17,
    "start_time": "2022-01-24T17:15:49.907Z"
   },
   {
    "duration": 9,
    "start_time": "2022-01-24T17:15:49.926Z"
   },
   {
    "duration": 4,
    "start_time": "2022-01-24T17:15:49.936Z"
   },
   {
    "duration": 8,
    "start_time": "2022-01-24T17:15:49.941Z"
   },
   {
    "duration": 21,
    "start_time": "2022-01-24T17:15:49.951Z"
   },
   {
    "duration": 8,
    "start_time": "2022-01-24T17:15:49.974Z"
   },
   {
    "duration": 25,
    "start_time": "2022-01-24T17:15:49.984Z"
   },
   {
    "duration": 707,
    "start_time": "2022-01-24T17:15:50.010Z"
   },
   {
    "duration": 19,
    "start_time": "2022-01-24T17:15:50.719Z"
   },
   {
    "duration": 2,
    "start_time": "2022-01-24T17:15:50.739Z"
   },
   {
    "duration": 3187,
    "start_time": "2022-01-24T17:15:50.743Z"
   },
   {
    "duration": 11,
    "start_time": "2022-01-24T17:15:53.932Z"
   },
   {
    "duration": 8,
    "start_time": "2022-01-24T17:15:53.945Z"
   },
   {
    "duration": 7,
    "start_time": "2022-01-24T17:15:53.972Z"
   },
   {
    "duration": 7,
    "start_time": "2022-01-24T17:15:53.981Z"
   },
   {
    "duration": 14,
    "start_time": "2022-01-24T17:15:53.989Z"
   },
   {
    "duration": 4,
    "start_time": "2022-01-24T17:15:54.004Z"
   },
   {
    "duration": 15,
    "start_time": "2022-01-24T17:15:54.009Z"
   },
   {
    "duration": 53,
    "start_time": "2022-01-24T17:15:54.025Z"
   },
   {
    "duration": 34,
    "start_time": "2022-01-24T17:15:54.080Z"
   },
   {
    "duration": 2406,
    "start_time": "2022-01-24T17:15:54.117Z"
   },
   {
    "duration": 3382,
    "start_time": "2022-01-24T17:15:56.525Z"
   },
   {
    "duration": 369,
    "start_time": "2022-01-24T17:15:59.908Z"
   },
   {
    "duration": 466,
    "start_time": "2022-01-24T17:16:00.279Z"
   },
   {
    "duration": 7,
    "start_time": "2022-01-24T17:16:00.748Z"
   },
   {
    "duration": 26,
    "start_time": "2022-01-24T17:16:00.756Z"
   },
   {
    "duration": 24,
    "start_time": "2022-01-24T17:16:00.783Z"
   },
   {
    "duration": 12,
    "start_time": "2022-01-24T17:16:00.809Z"
   },
   {
    "duration": 12,
    "start_time": "2022-01-24T17:16:00.823Z"
   },
   {
    "duration": 15,
    "start_time": "2022-01-24T17:16:00.837Z"
   },
   {
    "duration": 34,
    "start_time": "2022-01-24T17:16:00.854Z"
   },
   {
    "duration": 18,
    "start_time": "2022-01-24T17:16:00.890Z"
   },
   {
    "duration": 23,
    "start_time": "2022-01-24T17:16:00.910Z"
   },
   {
    "duration": 13,
    "start_time": "2022-01-24T17:16:00.935Z"
   },
   {
    "duration": 6,
    "start_time": "2022-01-24T17:17:40.332Z"
   },
   {
    "duration": 6,
    "start_time": "2022-01-24T17:18:29.284Z"
   },
   {
    "duration": 358,
    "start_time": "2022-01-24T17:19:16.774Z"
   },
   {
    "duration": 34,
    "start_time": "2022-01-24T17:19:22.022Z"
   },
   {
    "duration": 675,
    "start_time": "2022-01-24T17:21:00.252Z"
   },
   {
    "duration": 21,
    "start_time": "2022-01-24T17:21:03.881Z"
   },
   {
    "duration": 1819,
    "start_time": "2022-01-24T17:21:08.799Z"
   },
   {
    "duration": 668,
    "start_time": "2022-01-24T17:21:27.603Z"
   },
   {
    "duration": 680,
    "start_time": "2022-01-24T17:21:39.492Z"
   },
   {
    "duration": 2297,
    "start_time": "2022-01-24T17:22:11.596Z"
   },
   {
    "duration": 20,
    "start_time": "2022-01-24T17:22:14.102Z"
   },
   {
    "duration": 1887,
    "start_time": "2022-01-24T17:22:25.051Z"
   },
   {
    "duration": 14,
    "start_time": "2022-01-24T17:28:27.770Z"
   },
   {
    "duration": 106,
    "start_time": "2022-01-24T17:28:56.171Z"
   },
   {
    "duration": 164,
    "start_time": "2022-01-24T17:29:32.473Z"
   },
   {
    "duration": 271,
    "start_time": "2022-01-24T17:34:22.818Z"
   },
   {
    "duration": 567,
    "start_time": "2022-01-24T17:34:32.001Z"
   },
   {
    "duration": 48,
    "start_time": "2022-01-24T17:34:32.570Z"
   },
   {
    "duration": 19,
    "start_time": "2022-01-24T17:34:32.620Z"
   },
   {
    "duration": 9,
    "start_time": "2022-01-24T17:34:32.641Z"
   },
   {
    "duration": 3,
    "start_time": "2022-01-24T17:34:32.652Z"
   },
   {
    "duration": 16,
    "start_time": "2022-01-24T17:34:32.656Z"
   },
   {
    "duration": 5,
    "start_time": "2022-01-24T17:34:32.673Z"
   },
   {
    "duration": 9,
    "start_time": "2022-01-24T17:34:32.680Z"
   },
   {
    "duration": 22,
    "start_time": "2022-01-24T17:34:32.693Z"
   },
   {
    "duration": 597,
    "start_time": "2022-01-24T17:34:32.717Z"
   },
   {
    "duration": 370874,
    "start_time": "2022-01-24T17:28:22.442Z"
   },
   {
    "duration": 370860,
    "start_time": "2022-01-24T17:28:22.456Z"
   },
   {
    "duration": 370857,
    "start_time": "2022-01-24T17:28:22.460Z"
   },
   {
    "duration": 370853,
    "start_time": "2022-01-24T17:28:22.465Z"
   },
   {
    "duration": 370684,
    "start_time": "2022-01-24T17:28:22.635Z"
   },
   {
    "duration": 370680,
    "start_time": "2022-01-24T17:28:22.639Z"
   },
   {
    "duration": 370678,
    "start_time": "2022-01-24T17:28:22.642Z"
   },
   {
    "duration": 370676,
    "start_time": "2022-01-24T17:28:22.645Z"
   },
   {
    "duration": 370674,
    "start_time": "2022-01-24T17:28:22.648Z"
   },
   {
    "duration": 370672,
    "start_time": "2022-01-24T17:28:22.651Z"
   },
   {
    "duration": 370671,
    "start_time": "2022-01-24T17:28:22.653Z"
   },
   {
    "duration": 370668,
    "start_time": "2022-01-24T17:28:22.656Z"
   },
   {
    "duration": 370666,
    "start_time": "2022-01-24T17:28:22.659Z"
   },
   {
    "duration": 370664,
    "start_time": "2022-01-24T17:28:22.663Z"
   },
   {
    "duration": 370662,
    "start_time": "2022-01-24T17:28:22.666Z"
   },
   {
    "duration": 370660,
    "start_time": "2022-01-24T17:28:22.668Z"
   },
   {
    "duration": 370658,
    "start_time": "2022-01-24T17:28:22.671Z"
   },
   {
    "duration": 370656,
    "start_time": "2022-01-24T17:28:22.674Z"
   },
   {
    "duration": 370654,
    "start_time": "2022-01-24T17:28:22.677Z"
   },
   {
    "duration": 370652,
    "start_time": "2022-01-24T17:28:22.680Z"
   },
   {
    "duration": 370650,
    "start_time": "2022-01-24T17:28:22.683Z"
   },
   {
    "duration": 370648,
    "start_time": "2022-01-24T17:28:22.686Z"
   },
   {
    "duration": 370646,
    "start_time": "2022-01-24T17:28:22.689Z"
   },
   {
    "duration": 370645,
    "start_time": "2022-01-24T17:28:22.691Z"
   },
   {
    "duration": 370643,
    "start_time": "2022-01-24T17:28:22.694Z"
   },
   {
    "duration": 370641,
    "start_time": "2022-01-24T17:28:22.697Z"
   },
   {
    "duration": 370638,
    "start_time": "2022-01-24T17:28:22.701Z"
   },
   {
    "duration": 686,
    "start_time": "2022-01-24T17:35:42.498Z"
   },
   {
    "duration": 796,
    "start_time": "2022-01-24T17:37:11.310Z"
   },
   {
    "duration": 25,
    "start_time": "2022-01-24T17:37:15.655Z"
   },
   {
    "duration": 4621,
    "start_time": "2022-01-24T17:37:21.356Z"
   },
   {
    "duration": 473,
    "start_time": "2022-01-24T17:37:38.573Z"
   },
   {
    "duration": 719,
    "start_time": "2022-01-24T17:37:51.812Z"
   },
   {
    "duration": 639,
    "start_time": "2022-01-24T17:37:59.152Z"
   },
   {
    "duration": 55,
    "start_time": "2022-01-24T17:37:59.793Z"
   },
   {
    "duration": 19,
    "start_time": "2022-01-24T17:37:59.850Z"
   },
   {
    "duration": 10,
    "start_time": "2022-01-24T17:37:59.871Z"
   },
   {
    "duration": 4,
    "start_time": "2022-01-24T17:37:59.883Z"
   },
   {
    "duration": 7,
    "start_time": "2022-01-24T17:37:59.888Z"
   },
   {
    "duration": 5,
    "start_time": "2022-01-24T17:37:59.897Z"
   },
   {
    "duration": 9,
    "start_time": "2022-01-24T17:37:59.904Z"
   },
   {
    "duration": 22,
    "start_time": "2022-01-24T17:37:59.916Z"
   },
   {
    "duration": 730,
    "start_time": "2022-01-24T17:37:59.972Z"
   },
   {
    "duration": 24,
    "start_time": "2022-01-24T17:38:00.704Z"
   },
   {
    "duration": 2,
    "start_time": "2022-01-24T17:38:00.730Z"
   },
   {
    "duration": 3990,
    "start_time": "2022-01-24T17:38:00.734Z"
   },
   {
    "duration": 103,
    "start_time": "2022-01-24T17:38:04.726Z"
   },
   {
    "duration": 370984,
    "start_time": "2022-01-24T17:31:53.847Z"
   },
   {
    "duration": 370977,
    "start_time": "2022-01-24T17:31:53.856Z"
   },
   {
    "duration": 370973,
    "start_time": "2022-01-24T17:31:53.861Z"
   },
   {
    "duration": 370970,
    "start_time": "2022-01-24T17:31:53.865Z"
   },
   {
    "duration": 370967,
    "start_time": "2022-01-24T17:31:53.869Z"
   },
   {
    "duration": 370965,
    "start_time": "2022-01-24T17:31:53.872Z"
   },
   {
    "duration": 370962,
    "start_time": "2022-01-24T17:31:53.876Z"
   },
   {
    "duration": 370960,
    "start_time": "2022-01-24T17:31:53.879Z"
   },
   {
    "duration": 370958,
    "start_time": "2022-01-24T17:31:53.883Z"
   },
   {
    "duration": 370952,
    "start_time": "2022-01-24T17:31:53.890Z"
   },
   {
    "duration": 370949,
    "start_time": "2022-01-24T17:31:53.894Z"
   },
   {
    "duration": 370948,
    "start_time": "2022-01-24T17:31:53.897Z"
   },
   {
    "duration": 370939,
    "start_time": "2022-01-24T17:31:53.907Z"
   },
   {
    "duration": 370936,
    "start_time": "2022-01-24T17:31:53.911Z"
   },
   {
    "duration": 370934,
    "start_time": "2022-01-24T17:31:53.914Z"
   },
   {
    "duration": 370932,
    "start_time": "2022-01-24T17:31:53.916Z"
   },
   {
    "duration": 370930,
    "start_time": "2022-01-24T17:31:53.919Z"
   },
   {
    "duration": 370928,
    "start_time": "2022-01-24T17:31:53.921Z"
   },
   {
    "duration": 370926,
    "start_time": "2022-01-24T17:31:53.924Z"
   },
   {
    "duration": 370923,
    "start_time": "2022-01-24T17:31:53.927Z"
   },
   {
    "duration": 370921,
    "start_time": "2022-01-24T17:31:53.930Z"
   },
   {
    "duration": 370918,
    "start_time": "2022-01-24T17:31:53.933Z"
   },
   {
    "duration": 370915,
    "start_time": "2022-01-24T17:31:53.937Z"
   },
   {
    "duration": 111,
    "start_time": "2022-01-24T17:42:57.512Z"
   },
   {
    "duration": 2,
    "start_time": "2022-01-24T17:46:01.900Z"
   },
   {
    "duration": 12,
    "start_time": "2022-01-24T17:46:03.276Z"
   },
   {
    "duration": 7,
    "start_time": "2022-01-24T17:47:45.307Z"
   },
   {
    "duration": 8,
    "start_time": "2022-01-24T17:48:37.910Z"
   },
   {
    "duration": 100,
    "start_time": "2022-01-24T17:54:27.828Z"
   },
   {
    "duration": 101,
    "start_time": "2022-01-24T17:54:42.383Z"
   },
   {
    "duration": 23,
    "start_time": "2022-01-24T17:55:23.963Z"
   },
   {
    "duration": 8,
    "start_time": "2022-01-24T17:55:48.775Z"
   },
   {
    "duration": 17,
    "start_time": "2022-01-24T17:55:50.809Z"
   },
   {
    "duration": 17,
    "start_time": "2022-01-24T17:55:53.692Z"
   },
   {
    "duration": 40,
    "start_time": "2022-01-24T17:56:12.760Z"
   },
   {
    "duration": 5,
    "start_time": "2022-01-24T17:58:06.988Z"
   },
   {
    "duration": 95,
    "start_time": "2022-01-24T18:05:26.863Z"
   },
   {
    "duration": 1273,
    "start_time": "2022-01-24T18:05:43.719Z"
   },
   {
    "duration": 14,
    "start_time": "2022-01-24T18:05:48.385Z"
   },
   {
    "duration": 379,
    "start_time": "2022-01-24T18:06:09.242Z"
   },
   {
    "duration": 4949,
    "start_time": "2022-01-24T18:06:30.945Z"
   },
   {
    "duration": 414,
    "start_time": "2022-01-24T18:06:40.581Z"
   },
   {
    "duration": 27,
    "start_time": "2022-01-24T18:06:46.965Z"
   },
   {
    "duration": 24,
    "start_time": "2022-01-24T18:09:21.975Z"
   },
   {
    "duration": 22,
    "start_time": "2022-01-24T18:09:46.187Z"
   },
   {
    "duration": 12,
    "start_time": "2022-01-24T18:11:36.391Z"
   },
   {
    "duration": 14,
    "start_time": "2022-01-24T18:12:03.527Z"
   },
   {
    "duration": 14,
    "start_time": "2022-01-24T18:13:26.497Z"
   },
   {
    "duration": 17,
    "start_time": "2022-01-24T18:15:57.819Z"
   },
   {
    "duration": 624,
    "start_time": "2022-01-24T18:16:30.074Z"
   },
   {
    "duration": 20,
    "start_time": "2022-01-24T18:16:39.078Z"
   },
   {
    "duration": 14,
    "start_time": "2022-01-24T18:17:08.798Z"
   },
   {
    "duration": 19,
    "start_time": "2022-01-24T18:17:40.407Z"
   },
   {
    "duration": 810,
    "start_time": "2022-01-24T18:18:21.180Z"
   },
   {
    "duration": 111,
    "start_time": "2022-01-24T18:19:37.778Z"
   },
   {
    "duration": 31,
    "start_time": "2022-01-24T18:20:30.240Z"
   },
   {
    "duration": 19,
    "start_time": "2022-01-24T18:20:57.683Z"
   },
   {
    "duration": 15,
    "start_time": "2022-01-24T18:21:40.170Z"
   },
   {
    "duration": 15,
    "start_time": "2022-01-24T18:22:32.139Z"
   },
   {
    "duration": 24,
    "start_time": "2022-01-24T18:23:11.013Z"
   },
   {
    "duration": 14,
    "start_time": "2022-01-24T18:24:05.851Z"
   },
   {
    "duration": 27,
    "start_time": "2022-01-24T18:25:01.761Z"
   },
   {
    "duration": 21,
    "start_time": "2022-01-24T18:29:33.389Z"
   },
   {
    "duration": 28,
    "start_time": "2022-01-24T18:29:38.987Z"
   },
   {
    "duration": 1033,
    "start_time": "2022-01-24T18:31:16.057Z"
   },
   {
    "duration": 14,
    "start_time": "2022-01-24T18:31:37.544Z"
   },
   {
    "duration": 35,
    "start_time": "2022-01-24T18:34:50.161Z"
   },
   {
    "duration": 37,
    "start_time": "2022-01-24T18:34:58.871Z"
   },
   {
    "duration": 25,
    "start_time": "2022-01-24T18:45:17.966Z"
   },
   {
    "duration": 36,
    "start_time": "2022-01-24T18:45:24.466Z"
   },
   {
    "duration": 23,
    "start_time": "2022-01-24T18:45:53.311Z"
   },
   {
    "duration": 19,
    "start_time": "2022-01-24T18:46:45.017Z"
   },
   {
    "duration": 38,
    "start_time": "2022-01-24T18:47:01.670Z"
   },
   {
    "duration": 19,
    "start_time": "2022-01-24T18:47:16.394Z"
   },
   {
    "duration": 20,
    "start_time": "2022-01-24T18:47:28.282Z"
   },
   {
    "duration": 25,
    "start_time": "2022-01-24T18:48:43.057Z"
   },
   {
    "duration": 25,
    "start_time": "2022-01-24T18:49:42.183Z"
   },
   {
    "duration": 22,
    "start_time": "2022-01-24T18:54:16.223Z"
   },
   {
    "duration": 597,
    "start_time": "2022-01-24T19:17:11.210Z"
   },
   {
    "duration": 2062,
    "start_time": "2022-01-24T19:17:11.810Z"
   },
   {
    "duration": 1235,
    "start_time": "2022-01-24T19:17:13.875Z"
   },
   {
    "duration": 7598,
    "start_time": "2022-01-24T19:17:15.112Z"
   },
   {
    "duration": 686,
    "start_time": "2022-01-24T19:17:22.712Z"
   },
   {
    "duration": 964,
    "start_time": "2022-01-24T19:17:23.400Z"
   },
   {
    "duration": 910,
    "start_time": "2022-01-24T19:17:24.366Z"
   },
   {
    "duration": 749,
    "start_time": "2022-01-24T19:17:25.278Z"
   },
   {
    "duration": 1232,
    "start_time": "2022-01-24T19:17:26.030Z"
   },
   {
    "duration": 2300,
    "start_time": "2022-01-24T19:17:27.263Z"
   },
   {
    "duration": 1383,
    "start_time": "2022-01-24T19:17:29.564Z"
   },
   {
    "duration": 4865,
    "start_time": "2022-01-24T19:17:30.948Z"
   },
   {
    "duration": 7895,
    "start_time": "2022-01-24T19:17:35.815Z"
   },
   {
    "duration": 2,
    "start_time": "2022-01-24T19:17:43.712Z"
   },
   {
    "duration": 1476,
    "start_time": "2022-01-24T19:17:43.715Z"
   },
   {
    "duration": 1573,
    "start_time": "2022-01-24T19:17:45.193Z"
   },
   {
    "duration": 3050,
    "start_time": "2022-01-24T19:17:46.767Z"
   },
   {
    "duration": 2127,
    "start_time": "2022-01-24T19:17:49.819Z"
   },
   {
    "duration": 6720,
    "start_time": "2022-01-24T19:17:51.947Z"
   },
   {
    "duration": 2423,
    "start_time": "2022-01-24T19:17:58.668Z"
   },
   {
    "duration": 1670,
    "start_time": "2022-01-24T19:18:01.093Z"
   },
   {
    "duration": 1512,
    "start_time": "2022-01-24T19:18:02.765Z"
   },
   {
    "duration": 4084,
    "start_time": "2022-01-24T19:18:04.281Z"
   },
   {
    "duration": 3767,
    "start_time": "2022-01-24T19:18:08.367Z"
   },
   {
    "duration": 400,
    "start_time": "2022-01-24T19:18:12.136Z"
   },
   {
    "duration": 9658,
    "start_time": "2022-01-24T19:18:12.538Z"
   },
   {
    "duration": 5121,
    "start_time": "2022-01-24T19:18:22.198Z"
   },
   {
    "duration": 3932,
    "start_time": "2022-01-24T19:18:27.321Z"
   },
   {
    "duration": 2695,
    "start_time": "2022-01-24T19:18:31.255Z"
   },
   {
    "duration": 5213,
    "start_time": "2022-01-24T19:18:33.951Z"
   },
   {
    "duration": 4027,
    "start_time": "2022-01-24T19:18:39.165Z"
   },
   {
    "duration": 4316,
    "start_time": "2022-01-24T19:18:43.194Z"
   },
   {
    "duration": 3248,
    "start_time": "2022-01-24T19:18:47.512Z"
   },
   {
    "duration": 1965,
    "start_time": "2022-01-24T19:18:50.762Z"
   },
   {
    "duration": 1695,
    "start_time": "2022-01-24T19:18:52.729Z"
   },
   {
    "duration": 1143,
    "start_time": "2022-01-24T19:18:54.426Z"
   },
   {
    "duration": 1895,
    "start_time": "2022-01-24T19:20:18.337Z"
   },
   {
    "duration": 620,
    "start_time": "2022-01-24T19:20:46.133Z"
   },
   {
    "duration": 1728,
    "start_time": "2022-01-24T19:20:46.756Z"
   },
   {
    "duration": 1481,
    "start_time": "2022-01-24T19:20:48.486Z"
   },
   {
    "duration": 1584,
    "start_time": "2022-01-24T19:20:49.969Z"
   },
   {
    "duration": 2197,
    "start_time": "2022-01-24T19:20:51.555Z"
   },
   {
    "duration": 3992,
    "start_time": "2022-01-24T19:20:53.754Z"
   },
   {
    "duration": 2657,
    "start_time": "2022-01-24T19:20:57.747Z"
   },
   {
    "duration": 1853,
    "start_time": "2022-01-24T19:21:00.408Z"
   },
   {
    "duration": 2169,
    "start_time": "2022-01-24T19:21:02.263Z"
   },
   {
    "duration": 2840,
    "start_time": "2022-01-24T19:21:04.434Z"
   },
   {
    "duration": 550,
    "start_time": "2022-01-24T19:21:07.276Z"
   },
   {
    "duration": 1178,
    "start_time": "2022-01-24T19:21:07.828Z"
   },
   {
    "duration": 5402,
    "start_time": "2022-01-24T19:21:09.009Z"
   },
   {
    "duration": 3,
    "start_time": "2022-01-24T19:21:14.412Z"
   },
   {
    "duration": 383,
    "start_time": "2022-01-24T19:21:14.417Z"
   },
   {
    "duration": 1019,
    "start_time": "2022-01-24T19:21:14.802Z"
   },
   {
    "duration": 1161,
    "start_time": "2022-01-24T19:21:15.823Z"
   },
   {
    "duration": 1390,
    "start_time": "2022-01-24T19:21:16.985Z"
   },
   {
    "duration": 2686,
    "start_time": "2022-01-24T19:21:18.378Z"
   },
   {
    "duration": 1427,
    "start_time": "2022-01-24T19:21:21.065Z"
   },
   {
    "duration": 1311,
    "start_time": "2022-01-24T19:21:22.494Z"
   },
   {
    "duration": 1558,
    "start_time": "2022-01-24T19:21:23.806Z"
   },
   {
    "duration": 3281,
    "start_time": "2022-01-24T19:21:25.367Z"
   },
   {
    "duration": 4234,
    "start_time": "2022-01-24T19:21:28.651Z"
   },
   {
    "duration": 651,
    "start_time": "2022-01-24T19:21:32.888Z"
   },
   {
    "duration": 1483,
    "start_time": "2022-01-24T19:21:33.540Z"
   },
   {
    "duration": 9,
    "start_time": "2022-01-24T19:21:35.025Z"
   },
   {
    "duration": 920,
    "start_time": "2022-01-24T19:21:35.036Z"
   },
   {
    "duration": 1049,
    "start_time": "2022-01-24T19:21:35.959Z"
   },
   {
    "duration": 609,
    "start_time": "2022-01-24T19:21:37.011Z"
   },
   {
    "duration": 477,
    "start_time": "2022-01-24T19:21:37.622Z"
   },
   {
    "duration": 1199,
    "start_time": "2022-01-24T19:21:38.101Z"
   },
   {
    "duration": 191,
    "start_time": "2022-01-24T19:21:39.301Z"
   },
   {
    "duration": 737,
    "start_time": "2022-01-24T19:21:39.494Z"
   },
   {
    "duration": 383,
    "start_time": "2022-01-24T19:21:40.232Z"
   },
   {
    "duration": 930,
    "start_time": "2022-01-24T19:21:40.616Z"
   },
   {
    "duration": 887,
    "start_time": "2022-01-25T10:23:02.719Z"
   },
   {
    "duration": 72,
    "start_time": "2022-01-25T10:23:03.610Z"
   },
   {
    "duration": 31,
    "start_time": "2022-01-25T10:23:03.686Z"
   },
   {
    "duration": 14,
    "start_time": "2022-01-25T10:23:03.720Z"
   },
   {
    "duration": 27,
    "start_time": "2022-01-25T10:23:03.736Z"
   },
   {
    "duration": 14,
    "start_time": "2022-01-25T10:23:03.766Z"
   },
   {
    "duration": 11,
    "start_time": "2022-01-25T10:23:03.783Z"
   },
   {
    "duration": 20,
    "start_time": "2022-01-25T10:23:03.797Z"
   },
   {
    "duration": 78,
    "start_time": "2022-01-25T10:23:03.822Z"
   },
   {
    "duration": 1435,
    "start_time": "2022-01-25T10:23:03.904Z"
   },
   {
    "duration": 51,
    "start_time": "2022-01-25T10:23:05.342Z"
   },
   {
    "duration": 58,
    "start_time": "2022-01-25T10:24:19.912Z"
   },
   {
    "duration": 60,
    "start_time": "2022-01-25T10:24:22.615Z"
   },
   {
    "duration": 29,
    "start_time": "2022-01-25T10:25:31.495Z"
   },
   {
    "duration": 6,
    "start_time": "2022-01-25T10:25:36.686Z"
   },
   {
    "duration": 5,
    "start_time": "2022-01-25T10:25:41.304Z"
   },
   {
    "duration": 8001,
    "start_time": "2022-01-25T10:25:46.215Z"
   }
  ],
  "kernelspec": {
   "display_name": "Python 3 (ipykernel)",
   "language": "python",
   "name": "python3"
  },
  "language_info": {
   "codemirror_mode": {
    "name": "ipython",
    "version": 3
   },
   "file_extension": ".py",
   "mimetype": "text/x-python",
   "name": "python",
   "nbconvert_exporter": "python",
   "pygments_lexer": "ipython3",
   "version": "3.9.12"
  },
  "toc": {
   "base_numbering": 1,
   "nav_menu": {},
   "number_sections": true,
   "sideBar": true,
   "skip_h1_title": true,
   "title_cell": "Table of Contents",
   "title_sidebar": "Contents",
   "toc_cell": false,
   "toc_position": {
    "height": "calc(100% - 180px)",
    "left": "10px",
    "top": "150px",
    "width": "292px"
   },
   "toc_section_display": true,
   "toc_window_display": false
  }
 },
 "nbformat": 4,
 "nbformat_minor": 2
}

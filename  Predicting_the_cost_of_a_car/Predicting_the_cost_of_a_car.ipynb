{
 "cells": [
  {
   "cell_type": "markdown",
   "metadata": {},
   "source": [
    "# Определение стоимости автомобилей"
   ]
  },
  {
   "cell_type": "markdown",
   "metadata": {},
   "source": [
    "Сервис по продаже автомобилей разрабатывает приложение для привлечения новых клиентов. В нём можно быстро узнать рыночную стоимость своего автомобиля. В вашем распоряжении исторические данные: технические характеристики, комплектации и цены автомобилей.\n",
    "\n",
    "**Цель**\n",
    "Построить модель для определения стоимости. \n",
    "\n",
    "Заказчику важны:\n",
    "\n",
    "- качество предсказания;\n",
    "- скорость предсказания;\n",
    "- время обучения."
   ]
  },
  {
   "cell_type": "markdown",
   "metadata": {},
   "source": [
    "## Подготовка данных"
   ]
  },
  {
   "cell_type": "markdown",
   "metadata": {},
   "source": [
    "### Изучение данных"
   ]
  },
  {
   "cell_type": "code",
   "execution_count": 1,
   "metadata": {},
   "outputs": [],
   "source": [
    "# импортируем необходимые библиотеки\n",
    "import pandas as pd \n",
    "import numpy as np\n",
    "import seaborn as sns\n",
    "import lightgbm\n",
    "import time\n",
    "\n",
    "from sklearn.model_selection import train_test_split\n",
    "from sklearn.preprocessing import StandardScaler\n",
    "from lightgbm import LGBMRegressor\n",
    "from sklearn.model_selection import RepeatedKFold\n",
    "from sklearn.metrics import mean_squared_error\n",
    "from sklearn.model_selection import RandomizedSearchCV\n",
    "from sklearn.linear_model import LinearRegression\n",
    "from sklearn.model_selection import cross_val_score\n",
    "from sklearn.model_selection import cross_validate\n",
    "from catboost import CatBoostRegressor\n",
    "from sklearn.ensemble import ExtraTreesRegressor\n",
    "from sklearn.tree import DecisionTreeRegressor\n",
    "from sklearn.ensemble import RandomForestRegressor\n",
    "from sklearn.preprocessing import OrdinalEncoder"
   ]
  },
  {
   "cell_type": "code",
   "execution_count": 2,
   "metadata": {},
   "outputs": [
    {
     "name": "stdout",
     "output_type": "stream",
     "text": [
      "<class 'pandas.core.frame.DataFrame'>\n",
      "RangeIndex: 354369 entries, 0 to 354368\n",
      "Data columns (total 16 columns):\n",
      " #   Column             Non-Null Count   Dtype \n",
      "---  ------             --------------   ----- \n",
      " 0   DateCrawled        354369 non-null  object\n",
      " 1   Price              354369 non-null  int64 \n",
      " 2   VehicleType        316879 non-null  object\n",
      " 3   RegistrationYear   354369 non-null  int64 \n",
      " 4   Gearbox            334536 non-null  object\n",
      " 5   Power              354369 non-null  int64 \n",
      " 6   Model              334664 non-null  object\n",
      " 7   Kilometer          354369 non-null  int64 \n",
      " 8   RegistrationMonth  354369 non-null  int64 \n",
      " 9   FuelType           321474 non-null  object\n",
      " 10  Brand              354369 non-null  object\n",
      " 11  NotRepaired        283215 non-null  object\n",
      " 12  DateCreated        354369 non-null  object\n",
      " 13  NumberOfPictures   354369 non-null  int64 \n",
      " 14  PostalCode         354369 non-null  int64 \n",
      " 15  LastSeen           354369 non-null  object\n",
      "dtypes: int64(7), object(9)\n",
      "memory usage: 43.3+ MB\n"
     ]
    }
   ],
   "source": [
    "# сохраняем датасет в переменную data\n",
    "data = pd.read_csv('autos.csv')\n",
    "data.info()"
   ]
  },
  {
   "cell_type": "code",
   "execution_count": 3,
   "metadata": {},
   "outputs": [
    {
     "data": {
      "text/html": [
       "<div>\n",
       "<style scoped>\n",
       "    .dataframe tbody tr th:only-of-type {\n",
       "        vertical-align: middle;\n",
       "    }\n",
       "\n",
       "    .dataframe tbody tr th {\n",
       "        vertical-align: top;\n",
       "    }\n",
       "\n",
       "    .dataframe thead th {\n",
       "        text-align: right;\n",
       "    }\n",
       "</style>\n",
       "<table border=\"1\" class=\"dataframe\">\n",
       "  <thead>\n",
       "    <tr style=\"text-align: right;\">\n",
       "      <th></th>\n",
       "      <th>DateCrawled</th>\n",
       "      <th>Price</th>\n",
       "      <th>VehicleType</th>\n",
       "      <th>RegistrationYear</th>\n",
       "      <th>Gearbox</th>\n",
       "      <th>Power</th>\n",
       "      <th>Model</th>\n",
       "      <th>Kilometer</th>\n",
       "      <th>RegistrationMonth</th>\n",
       "      <th>FuelType</th>\n",
       "      <th>Brand</th>\n",
       "      <th>NotRepaired</th>\n",
       "      <th>DateCreated</th>\n",
       "      <th>NumberOfPictures</th>\n",
       "      <th>PostalCode</th>\n",
       "      <th>LastSeen</th>\n",
       "    </tr>\n",
       "  </thead>\n",
       "  <tbody>\n",
       "    <tr>\n",
       "      <th>0</th>\n",
       "      <td>2016-03-24 11:52:17</td>\n",
       "      <td>480</td>\n",
       "      <td>NaN</td>\n",
       "      <td>1993</td>\n",
       "      <td>manual</td>\n",
       "      <td>0</td>\n",
       "      <td>golf</td>\n",
       "      <td>150000</td>\n",
       "      <td>0</td>\n",
       "      <td>petrol</td>\n",
       "      <td>volkswagen</td>\n",
       "      <td>NaN</td>\n",
       "      <td>2016-03-24 00:00:00</td>\n",
       "      <td>0</td>\n",
       "      <td>70435</td>\n",
       "      <td>2016-04-07 03:16:57</td>\n",
       "    </tr>\n",
       "    <tr>\n",
       "      <th>1</th>\n",
       "      <td>2016-03-24 10:58:45</td>\n",
       "      <td>18300</td>\n",
       "      <td>coupe</td>\n",
       "      <td>2011</td>\n",
       "      <td>manual</td>\n",
       "      <td>190</td>\n",
       "      <td>NaN</td>\n",
       "      <td>125000</td>\n",
       "      <td>5</td>\n",
       "      <td>gasoline</td>\n",
       "      <td>audi</td>\n",
       "      <td>yes</td>\n",
       "      <td>2016-03-24 00:00:00</td>\n",
       "      <td>0</td>\n",
       "      <td>66954</td>\n",
       "      <td>2016-04-07 01:46:50</td>\n",
       "    </tr>\n",
       "    <tr>\n",
       "      <th>2</th>\n",
       "      <td>2016-03-14 12:52:21</td>\n",
       "      <td>9800</td>\n",
       "      <td>suv</td>\n",
       "      <td>2004</td>\n",
       "      <td>auto</td>\n",
       "      <td>163</td>\n",
       "      <td>grand</td>\n",
       "      <td>125000</td>\n",
       "      <td>8</td>\n",
       "      <td>gasoline</td>\n",
       "      <td>jeep</td>\n",
       "      <td>NaN</td>\n",
       "      <td>2016-03-14 00:00:00</td>\n",
       "      <td>0</td>\n",
       "      <td>90480</td>\n",
       "      <td>2016-04-05 12:47:46</td>\n",
       "    </tr>\n",
       "    <tr>\n",
       "      <th>3</th>\n",
       "      <td>2016-03-17 16:54:04</td>\n",
       "      <td>1500</td>\n",
       "      <td>small</td>\n",
       "      <td>2001</td>\n",
       "      <td>manual</td>\n",
       "      <td>75</td>\n",
       "      <td>golf</td>\n",
       "      <td>150000</td>\n",
       "      <td>6</td>\n",
       "      <td>petrol</td>\n",
       "      <td>volkswagen</td>\n",
       "      <td>no</td>\n",
       "      <td>2016-03-17 00:00:00</td>\n",
       "      <td>0</td>\n",
       "      <td>91074</td>\n",
       "      <td>2016-03-17 17:40:17</td>\n",
       "    </tr>\n",
       "    <tr>\n",
       "      <th>4</th>\n",
       "      <td>2016-03-31 17:25:20</td>\n",
       "      <td>3600</td>\n",
       "      <td>small</td>\n",
       "      <td>2008</td>\n",
       "      <td>manual</td>\n",
       "      <td>69</td>\n",
       "      <td>fabia</td>\n",
       "      <td>90000</td>\n",
       "      <td>7</td>\n",
       "      <td>gasoline</td>\n",
       "      <td>skoda</td>\n",
       "      <td>no</td>\n",
       "      <td>2016-03-31 00:00:00</td>\n",
       "      <td>0</td>\n",
       "      <td>60437</td>\n",
       "      <td>2016-04-06 10:17:21</td>\n",
       "    </tr>\n",
       "  </tbody>\n",
       "</table>\n",
       "</div>"
      ],
      "text/plain": [
       "           DateCrawled  Price VehicleType  RegistrationYear Gearbox  Power  \\\n",
       "0  2016-03-24 11:52:17    480         NaN              1993  manual      0   \n",
       "1  2016-03-24 10:58:45  18300       coupe              2011  manual    190   \n",
       "2  2016-03-14 12:52:21   9800         suv              2004    auto    163   \n",
       "3  2016-03-17 16:54:04   1500       small              2001  manual     75   \n",
       "4  2016-03-31 17:25:20   3600       small              2008  manual     69   \n",
       "\n",
       "   Model  Kilometer  RegistrationMonth  FuelType       Brand NotRepaired  \\\n",
       "0   golf     150000                  0    petrol  volkswagen         NaN   \n",
       "1    NaN     125000                  5  gasoline        audi         yes   \n",
       "2  grand     125000                  8  gasoline        jeep         NaN   \n",
       "3   golf     150000                  6    petrol  volkswagen          no   \n",
       "4  fabia      90000                  7  gasoline       skoda          no   \n",
       "\n",
       "           DateCreated  NumberOfPictures  PostalCode             LastSeen  \n",
       "0  2016-03-24 00:00:00                 0       70435  2016-04-07 03:16:57  \n",
       "1  2016-03-24 00:00:00                 0       66954  2016-04-07 01:46:50  \n",
       "2  2016-03-14 00:00:00                 0       90480  2016-04-05 12:47:46  \n",
       "3  2016-03-17 00:00:00                 0       91074  2016-03-17 17:40:17  \n",
       "4  2016-03-31 00:00:00                 0       60437  2016-04-06 10:17:21  "
      ]
     },
     "execution_count": 3,
     "metadata": {},
     "output_type": "execute_result"
    }
   ],
   "source": [
    "data.head(5)"
   ]
  },
  {
   "cell_type": "markdown",
   "metadata": {},
   "source": [
    "**Признаки**\n",
    "\n",
    "* `DateCrawled` — дата скачивания анкеты из базы\n",
    "* `VehicleType` — тип автомобильного кузова\n",
    "* `RegistrationYear` — год регистрации автомобиля\n",
    "* `Gearbox` — тип коробки передач\n",
    "* `Power` — мощность (л. с.)\n",
    "* `Model` — модель автомобиля\n",
    "* `Kilometer` — пробег (км)\n",
    "* `RegistrationMonth` — месяц регистрации автомобиля\n",
    "* `FuelType` — тип топлива\n",
    "* `Brand` — марка автомобиля\n",
    "* `NotRepaired` — была машина в ремонте или нет\n",
    "* `DateCreated` — дата создания анкеты\n",
    "* `NumberOfPictures` — количество фотографий автомобиля\n",
    "* `PostalCode` — почтовый индекс владельца анкеты (пользователя)\n",
    "* `LastSeen` — дата последней активности пользователя\n",
    "\n",
    "**Целевой признак**\n",
    "\n",
    "* `Price` — цена (евро)"
   ]
  },
  {
   "cell_type": "code",
   "execution_count": 4,
   "metadata": {},
   "outputs": [
    {
     "data": {
      "text/plain": [
       "DateCrawled              0\n",
       "Price                    0\n",
       "VehicleType          37490\n",
       "RegistrationYear         0\n",
       "Gearbox              19833\n",
       "Power                    0\n",
       "Model                19705\n",
       "Kilometer                0\n",
       "RegistrationMonth        0\n",
       "FuelType             32895\n",
       "Brand                    0\n",
       "NotRepaired          71154\n",
       "DateCreated              0\n",
       "NumberOfPictures         0\n",
       "PostalCode               0\n",
       "LastSeen                 0\n",
       "dtype: int64"
      ]
     },
     "execution_count": 4,
     "metadata": {},
     "output_type": "execute_result"
    }
   ],
   "source": [
    "# посмотрим количество пропусков\n",
    "data.isna().sum()"
   ]
  },
  {
   "cell_type": "markdown",
   "metadata": {},
   "source": [
    "Есть пропуски в следующих колонках: тип автомобильного кузова (`VehicleType`), тип коробки передач (`Gearbox`), модель автомобиля (`Model`), тип топлива (`FuelType`), была ли в ремонте или нет (`NotRepaired`)"
   ]
  },
  {
   "cell_type": "markdown",
   "metadata": {},
   "source": [
    "### Заполнение пропусков"
   ]
  },
  {
   "cell_type": "code",
   "execution_count": 5,
   "metadata": {},
   "outputs": [
    {
     "name": "stdout",
     "output_type": "stream",
     "text": [
      "['petrol' 'gasoline' nan 'lpg' 'other' 'hybrid' 'cng' 'electric']\n",
      "[nan 'coupe' 'suv' 'small' 'sedan' 'convertible' 'bus' 'wagon' 'other']\n"
     ]
    }
   ],
   "source": [
    "# уникальные значения колонки тип топлива\n",
    "print(data.FuelType.unique())\n",
    "print(data.VehicleType.unique())"
   ]
  },
  {
   "cell_type": "markdown",
   "metadata": {},
   "source": [
    "Пропущенные значения в данной колонках можно заполнить значением other."
   ]
  },
  {
   "cell_type": "code",
   "execution_count": 6,
   "metadata": {},
   "outputs": [
    {
     "name": "stdout",
     "output_type": "stream",
     "text": [
      "['petrol' 'gasoline' 'other' 'lpg' 'hybrid' 'cng' 'electric']\n",
      "['other' 'coupe' 'suv' 'small' 'sedan' 'convertible' 'bus' 'wagon']\n"
     ]
    },
    {
     "data": {
      "text/plain": [
       "DateCrawled              0\n",
       "Price                    0\n",
       "VehicleType              0\n",
       "RegistrationYear         0\n",
       "Gearbox              19833\n",
       "Power                    0\n",
       "Model                19705\n",
       "Kilometer                0\n",
       "RegistrationMonth        0\n",
       "FuelType                 0\n",
       "Brand                    0\n",
       "NotRepaired          71154\n",
       "DateCreated              0\n",
       "NumberOfPictures         0\n",
       "PostalCode               0\n",
       "LastSeen                 0\n",
       "dtype: int64"
      ]
     },
     "execution_count": 6,
     "metadata": {},
     "output_type": "execute_result"
    }
   ],
   "source": [
    "# заполнение пропусков в колонке FuelType и VehicleType\n",
    "data['FuelType'] = data['FuelType'].fillna('other')\n",
    "data['VehicleType'] = data['VehicleType'].fillna('other')     \n",
    "print(data.FuelType.unique(), data.VehicleType.unique(), sep='\\n')\n",
    "data.isna().sum()"
   ]
  },
  {
   "cell_type": "code",
   "execution_count": 7,
   "metadata": {},
   "outputs": [
    {
     "data": {
      "text/plain": [
       "array(['manual', 'auto', nan], dtype=object)"
      ]
     },
     "execution_count": 7,
     "metadata": {},
     "output_type": "execute_result"
    }
   ],
   "source": [
    "# уникальное значение Gearbox\n",
    "data.Gearbox.unique()"
   ]
  },
  {
   "cell_type": "markdown",
   "metadata": {},
   "source": [
    "Сложно сказать машина автомат или механика, так как одна и таже модель и бред машины может иметь разные коробки передач. Пропуски заменим на 'unkown'"
   ]
  },
  {
   "cell_type": "code",
   "execution_count": 8,
   "metadata": {},
   "outputs": [
    {
     "data": {
      "text/plain": [
       "array(['manual', 'auto', 'unknown'], dtype=object)"
      ]
     },
     "execution_count": 8,
     "metadata": {},
     "output_type": "execute_result"
    }
   ],
   "source": [
    "# заполнение пропусков в колонке Gearbox\n",
    "data['Gearbox'] = data['Gearbox'].fillna('unknown')\n",
    "data.Gearbox.unique()"
   ]
  },
  {
   "cell_type": "code",
   "execution_count": 9,
   "metadata": {},
   "outputs": [
    {
     "data": {
      "text/plain": [
       "0"
      ]
     },
     "execution_count": 9,
     "metadata": {},
     "output_type": "execute_result"
    }
   ],
   "source": [
    "# заполнение пропусков в колонке Model\n",
    "data['Model'] = data['Model'].fillna('unknown')\n",
    "data.Model.isna().sum()"
   ]
  },
  {
   "cell_type": "code",
   "execution_count": 10,
   "metadata": {},
   "outputs": [
    {
     "data": {
      "text/plain": [
       "0"
      ]
     },
     "execution_count": 10,
     "metadata": {},
     "output_type": "execute_result"
    }
   ],
   "source": [
    "# заполнение пропусков в колонке NotRepaired\n",
    "data['NotRepaired'] = data['NotRepaired'].fillna('unknown')\n",
    "data.NotRepaired.isna().sum()"
   ]
  },
  {
   "cell_type": "markdown",
   "metadata": {},
   "source": [
    "### Работа с выборосами"
   ]
  },
  {
   "cell_type": "code",
   "execution_count": 11,
   "metadata": {},
   "outputs": [
    {
     "data": {
      "text/plain": [
       "array([0])"
      ]
     },
     "execution_count": 11,
     "metadata": {},
     "output_type": "execute_result"
    }
   ],
   "source": [
    "# Уникальные значения колонки NumberOfPictures\n",
    "data['NumberOfPictures'].unique()"
   ]
  },
  {
   "cell_type": "markdown",
   "metadata": {},
   "source": [
    "Удалим колонки, которые не могут влиять на стоимость автомобиля. Например дата скачивания анкеты из базы, месяц регистрации автомобиля, дата создания анкеты, почтовый индекс владельца анкеты (пользователя) и дата последней активности пользователя. Так как в колонке c количество фото автомобиля все значения равны 0, то так же удалим эту колонку."
   ]
  },
  {
   "cell_type": "code",
   "execution_count": 12,
   "metadata": {},
   "outputs": [],
   "source": [
    "data_new = data.drop(['DateCrawled', \n",
    "                      'RegistrationMonth',\n",
    "                      'DateCreated', \n",
    "                      'PostalCode', \n",
    "                      'LastSeen',\n",
    "                      'NumberOfPictures'], \n",
    "                     axis=1).copy()"
   ]
  },
  {
   "cell_type": "markdown",
   "metadata": {},
   "source": [
    "В уникальных значениях колонки Power есть 0, мощность автомобиля равняться 0 не может, следовательно это некоректные данные. Их число 40225."
   ]
  },
  {
   "cell_type": "code",
   "execution_count": 13,
   "metadata": {},
   "outputs": [
    {
     "data": {
      "text/plain": [
       "40225"
      ]
     },
     "execution_count": 13,
     "metadata": {},
     "output_type": "execute_result"
    }
   ],
   "source": [
    "data_new['Power'][data_new['Power'] == 0].count()"
   ]
  },
  {
   "cell_type": "code",
   "execution_count": 14,
   "metadata": {},
   "outputs": [
    {
     "data": {
      "image/png": "[encoded data removed]",
      "text/plain": [
       "<Figure size 432x288 with 1 Axes>"
      ]
     },
     "metadata": {},
     "output_type": "display_data"
    }
   ],
   "source": [
    "# ящик с усами для значений из колонки мощность автомобиля \n",
    "sns.set_theme(style=\"whitegrid\")\n",
    "ax = sns.boxplot(x=data_new[\"Power\"]).set(title='Диаграмма размаха для мощности автомобиля')"
   ]
  },
  {
   "cell_type": "markdown",
   "metadata": {},
   "source": [
    "Самый мощный автомобиль имеет окло 2000 л.с., следовательно все значение превышающие 2000 л.с. некорректны. Возможно при заполнении анкеты человек указал неверное число. Мы выяснили, что все анкеты заполнялись в 1970 году. Следовательно мощность автомобилей до 1970 года не могла превышать 1000 л.с."
   ]
  },
  {
   "cell_type": "code",
   "execution_count": 15,
   "metadata": {},
   "outputs": [
    {
     "data": {
      "text/plain": [
       "120"
      ]
     },
     "execution_count": 15,
     "metadata": {},
     "output_type": "execute_result"
    }
   ],
   "source": [
    "data_new['Power'][data_new['Power'] > 2000].count()"
   ]
  },
  {
   "cell_type": "markdown",
   "metadata": {},
   "source": [
    "Сумма некорректных значений составляет 40345. Это составляет около 11%. Избавимся от этих значений."
   ]
  },
  {
   "cell_type": "code",
   "execution_count": 16,
   "metadata": {},
   "outputs": [],
   "source": [
    "data_new = data_new.query('0 < Power < 2000').copy()"
   ]
  },
  {
   "cell_type": "code",
   "execution_count": 17,
   "metadata": {},
   "outputs": [
    {
     "data": {
      "image/png": "[encoded data removed]",
      "text/plain": [
       "<Figure size 432x288 with 1 Axes>"
      ]
     },
     "metadata": {},
     "output_type": "display_data"
    }
   ],
   "source": [
    "sns.set_theme(style=\"whitegrid\")\n",
    "ax = sns.boxplot(x=data_new[\"Power\"]).set(title='Диаграмма размаха для мощности автомобиля')"
   ]
  },
  {
   "cell_type": "markdown",
   "metadata": {},
   "source": [
    "* Избавились от явных выбросов в колонке с мощность автомобиля, одноко судя по графику, автомобилей с мощностью больше 250 л.с. немного. Оставим значения превышающие 250 л.с. ориентируясь на максимальную мощность автомобиля."
   ]
  },
  {
   "cell_type": "markdown",
   "metadata": {},
   "source": [
    "Посмотрим на значения в колонке целевого признака. Стоимость выше 17000 встречается очень редко. Также есть владельцы не указавшие стоимость автомобиля и тогда значение в данной колонке равняется 0. Избавимся от выбросов в целевом признаке."
   ]
  },
  {
   "cell_type": "code",
   "execution_count": 18,
   "metadata": {},
   "outputs": [
    {
     "data": {
      "image/png": "[encoded data removed]",
      "text/plain": [
       "<Figure size 432x288 with 1 Axes>"
      ]
     },
     "metadata": {},
     "output_type": "display_data"
    }
   ],
   "source": [
    "sns.set_theme(style=\"whitegrid\")\n",
    "ax = sns.boxplot(x=data_new[\"Price\"]).set(title='Диаграмма размаха для стоимости автомобиля')"
   ]
  },
  {
   "cell_type": "code",
   "execution_count": 19,
   "metadata": {},
   "outputs": [],
   "source": [
    "# сделаем срез по данным без учета выбросов\n",
    "data_new = data_new.query('0 < Price < 17000').copy()"
   ]
  },
  {
   "cell_type": "markdown",
   "metadata": {},
   "source": [
    "* Интересная ситуация с годом регистрации автомобиля, год регистрации автомобиля не может превышать значение 2016 и не может быть меньше 1900. Избавимся от этих выбросов."
   ]
  },
  {
   "cell_type": "code",
   "execution_count": 20,
   "metadata": {},
   "outputs": [
    {
     "data": {
      "image/png": "[encoded data removed]",
      "text/plain": [
       "<Figure size 432x288 with 1 Axes>"
      ]
     },
     "metadata": {},
     "output_type": "display_data"
    }
   ],
   "source": [
    "sns.set_theme(style=\"whitegrid\")\n",
    "ax = sns.boxplot(x=data_new[\"RegistrationYear\"]).set(title='Диаграмма размаха для года регистрации автомобиля')"
   ]
  },
  {
   "cell_type": "markdown",
   "metadata": {},
   "source": [
    "Посмотрим на дату создания анкет. Для этого изменим тип данных в колонке DateCrawled."
   ]
  },
  {
   "cell_type": "code",
   "execution_count": 21,
   "metadata": {},
   "outputs": [
    {
     "data": {
      "text/plain": [
       "array([2016])"
      ]
     },
     "execution_count": 21,
     "metadata": {},
     "output_type": "execute_result"
    }
   ],
   "source": [
    "data['DateCrawled'] = pd.to_datetime(data['DateCrawled'], format='%Y-%m-%dT%H:%M:%S')\n",
    "data['DateCrawled'] = data['DateCrawled'].dt.year\n",
    "data['DateCrawled'].unique()"
   ]
  },
  {
   "cell_type": "markdown",
   "metadata": {},
   "source": [
    "Все анкеты были созданы в 2016 году. На момент заполнения пользователями анкеты, год регистрации автомобиля не может превышать 2016."
   ]
  },
  {
   "cell_type": "code",
   "execution_count": 22,
   "metadata": {},
   "outputs": [
    {
     "data": {
      "image/png": "[encoded data removed]",
      "text/plain": [
       "<Figure size 432x288 with 1 Axes>"
      ]
     },
     "metadata": {},
     "output_type": "display_data"
    }
   ],
   "source": [
    "# сделаем срез по данным без учета выбросов\n",
    "data_new = data_new.query('1900 < RegistrationYear < 2016').copy()\n",
    "sns.set_theme(style=\"whitegrid\")\n",
    "ax = sns.boxplot(x=data_new[\"RegistrationYear\"]).set(title='Диаграмма размаха для даты заполнения анкеты')"
   ]
  },
  {
   "cell_type": "markdown",
   "metadata": {},
   "source": [
    "## Обучение моделей"
   ]
  },
  {
   "cell_type": "markdown",
   "metadata": {},
   "source": [
    "### Изучение зависимостей между признаками"
   ]
  },
  {
   "cell_type": "code",
   "execution_count": 23,
   "metadata": {},
   "outputs": [
    {
     "name": "stdout",
     "output_type": "stream",
     "text": [
      "<seaborn.axisgrid.PairGrid object at 0x7f3adae0db80>\n"
     ]
    },
    {
     "data": {
      "image/png": "[encoded data removed]",
      "text/plain": [
       "<Figure size 720x720 with 20 Axes>"
      ]
     },
     "metadata": {},
     "output_type": "display_data"
    }
   ],
   "source": [
    "# Посмотрим есть ли корреляция в данных \n",
    "print(sns.pairplot(data_new))"
   ]
  },
  {
   "cell_type": "code",
   "execution_count": 24,
   "metadata": {},
   "outputs": [
    {
     "name": "stdout",
     "output_type": "stream",
     "text": [
      "AxesSubplot(0.125,0.125;0.62x0.755)\n"
     ]
    },
    {
     "data": {
      "image/png": "[encoded data removed]",
      "text/plain": [
       "<Figure size 432x288 with 2 Axes>"
      ]
     },
     "metadata": {},
     "output_type": "display_data"
    }
   ],
   "source": [
    "print(sns.heatmap(data_new.corr(),annot = True, fmt = '.1g'))"
   ]
  },
  {
   "cell_type": "markdown",
   "metadata": {},
   "source": [
    "Зависимость между признаками и целевым признаком отсутствует. Однако, очень слабая корреляция наблюдается между ценой и пробегом автомобиля. Чем больше пробег, тем ниже стоимость автомобиля."
   ]
  },
  {
   "cell_type": "markdown",
   "metadata": {},
   "source": [
    "### Подготовка данных для обучения модели"
   ]
  },
  {
   "cell_type": "markdown",
   "metadata": {},
   "source": [
    "Для преобразования категориальных переменных в численные используем метод One-Hot Encoding."
   ]
  },
  {
   "cell_type": "code",
   "execution_count": 25,
   "metadata": {},
   "outputs": [
    {
     "data": {
      "text/html": [
       "<div>\n",
       "<style scoped>\n",
       "    .dataframe tbody tr th:only-of-type {\n",
       "        vertical-align: middle;\n",
       "    }\n",
       "\n",
       "    .dataframe tbody tr th {\n",
       "        vertical-align: top;\n",
       "    }\n",
       "\n",
       "    .dataframe thead th {\n",
       "        text-align: right;\n",
       "    }\n",
       "</style>\n",
       "<table border=\"1\" class=\"dataframe\">\n",
       "  <thead>\n",
       "    <tr style=\"text-align: right;\">\n",
       "      <th></th>\n",
       "      <th>Price</th>\n",
       "      <th>RegistrationYear</th>\n",
       "      <th>Power</th>\n",
       "      <th>Kilometer</th>\n",
       "      <th>VehicleType_convertible</th>\n",
       "      <th>VehicleType_coupe</th>\n",
       "      <th>VehicleType_other</th>\n",
       "      <th>VehicleType_sedan</th>\n",
       "      <th>VehicleType_small</th>\n",
       "      <th>VehicleType_suv</th>\n",
       "      <th>...</th>\n",
       "      <th>Brand_smart</th>\n",
       "      <th>Brand_sonstige_autos</th>\n",
       "      <th>Brand_subaru</th>\n",
       "      <th>Brand_suzuki</th>\n",
       "      <th>Brand_toyota</th>\n",
       "      <th>Brand_trabant</th>\n",
       "      <th>Brand_volkswagen</th>\n",
       "      <th>Brand_volvo</th>\n",
       "      <th>NotRepaired_unknown</th>\n",
       "      <th>NotRepaired_yes</th>\n",
       "    </tr>\n",
       "  </thead>\n",
       "  <tbody>\n",
       "    <tr>\n",
       "      <th>2</th>\n",
       "      <td>9800</td>\n",
       "      <td>2004</td>\n",
       "      <td>163</td>\n",
       "      <td>125000</td>\n",
       "      <td>0</td>\n",
       "      <td>0</td>\n",
       "      <td>0</td>\n",
       "      <td>0</td>\n",
       "      <td>0</td>\n",
       "      <td>1</td>\n",
       "      <td>...</td>\n",
       "      <td>0</td>\n",
       "      <td>0</td>\n",
       "      <td>0</td>\n",
       "      <td>0</td>\n",
       "      <td>0</td>\n",
       "      <td>0</td>\n",
       "      <td>0</td>\n",
       "      <td>0</td>\n",
       "      <td>1</td>\n",
       "      <td>0</td>\n",
       "    </tr>\n",
       "    <tr>\n",
       "      <th>3</th>\n",
       "      <td>1500</td>\n",
       "      <td>2001</td>\n",
       "      <td>75</td>\n",
       "      <td>150000</td>\n",
       "      <td>0</td>\n",
       "      <td>0</td>\n",
       "      <td>0</td>\n",
       "      <td>0</td>\n",
       "      <td>1</td>\n",
       "      <td>0</td>\n",
       "      <td>...</td>\n",
       "      <td>0</td>\n",
       "      <td>0</td>\n",
       "      <td>0</td>\n",
       "      <td>0</td>\n",
       "      <td>0</td>\n",
       "      <td>0</td>\n",
       "      <td>1</td>\n",
       "      <td>0</td>\n",
       "      <td>0</td>\n",
       "      <td>0</td>\n",
       "    </tr>\n",
       "    <tr>\n",
       "      <th>4</th>\n",
       "      <td>3600</td>\n",
       "      <td>2008</td>\n",
       "      <td>69</td>\n",
       "      <td>90000</td>\n",
       "      <td>0</td>\n",
       "      <td>0</td>\n",
       "      <td>0</td>\n",
       "      <td>0</td>\n",
       "      <td>1</td>\n",
       "      <td>0</td>\n",
       "      <td>...</td>\n",
       "      <td>0</td>\n",
       "      <td>0</td>\n",
       "      <td>0</td>\n",
       "      <td>0</td>\n",
       "      <td>0</td>\n",
       "      <td>0</td>\n",
       "      <td>0</td>\n",
       "      <td>0</td>\n",
       "      <td>0</td>\n",
       "      <td>0</td>\n",
       "    </tr>\n",
       "    <tr>\n",
       "      <th>5</th>\n",
       "      <td>650</td>\n",
       "      <td>1995</td>\n",
       "      <td>102</td>\n",
       "      <td>150000</td>\n",
       "      <td>0</td>\n",
       "      <td>0</td>\n",
       "      <td>0</td>\n",
       "      <td>1</td>\n",
       "      <td>0</td>\n",
       "      <td>0</td>\n",
       "      <td>...</td>\n",
       "      <td>0</td>\n",
       "      <td>0</td>\n",
       "      <td>0</td>\n",
       "      <td>0</td>\n",
       "      <td>0</td>\n",
       "      <td>0</td>\n",
       "      <td>0</td>\n",
       "      <td>0</td>\n",
       "      <td>0</td>\n",
       "      <td>1</td>\n",
       "    </tr>\n",
       "    <tr>\n",
       "      <th>6</th>\n",
       "      <td>2200</td>\n",
       "      <td>2004</td>\n",
       "      <td>109</td>\n",
       "      <td>150000</td>\n",
       "      <td>1</td>\n",
       "      <td>0</td>\n",
       "      <td>0</td>\n",
       "      <td>0</td>\n",
       "      <td>0</td>\n",
       "      <td>0</td>\n",
       "      <td>...</td>\n",
       "      <td>0</td>\n",
       "      <td>0</td>\n",
       "      <td>0</td>\n",
       "      <td>0</td>\n",
       "      <td>0</td>\n",
       "      <td>0</td>\n",
       "      <td>0</td>\n",
       "      <td>0</td>\n",
       "      <td>0</td>\n",
       "      <td>0</td>\n",
       "    </tr>\n",
       "  </tbody>\n",
       "</table>\n",
       "<p>5 rows × 309 columns</p>\n",
       "</div>"
      ],
      "text/plain": [
       "   Price  RegistrationYear  Power  Kilometer  VehicleType_convertible  \\\n",
       "2   9800              2004    163     125000                        0   \n",
       "3   1500              2001     75     150000                        0   \n",
       "4   3600              2008     69      90000                        0   \n",
       "5    650              1995    102     150000                        0   \n",
       "6   2200              2004    109     150000                        1   \n",
       "\n",
       "   VehicleType_coupe  VehicleType_other  VehicleType_sedan  VehicleType_small  \\\n",
       "2                  0                  0                  0                  0   \n",
       "3                  0                  0                  0                  1   \n",
       "4                  0                  0                  0                  1   \n",
       "5                  0                  0                  1                  0   \n",
       "6                  0                  0                  0                  0   \n",
       "\n",
       "   VehicleType_suv  ...  Brand_smart  Brand_sonstige_autos  Brand_subaru  \\\n",
       "2                1  ...            0                     0             0   \n",
       "3                0  ...            0                     0             0   \n",
       "4                0  ...            0                     0             0   \n",
       "5                0  ...            0                     0             0   \n",
       "6                0  ...            0                     0             0   \n",
       "\n",
       "   Brand_suzuki  Brand_toyota  Brand_trabant  Brand_volkswagen  Brand_volvo  \\\n",
       "2             0             0              0                 0            0   \n",
       "3             0             0              0                 1            0   \n",
       "4             0             0              0                 0            0   \n",
       "5             0             0              0                 0            0   \n",
       "6             0             0              0                 0            0   \n",
       "\n",
       "   NotRepaired_unknown  NotRepaired_yes  \n",
       "2                    1                0  \n",
       "3                    0                0  \n",
       "4                    0                0  \n",
       "5                    0                1  \n",
       "6                    0                0  \n",
       "\n",
       "[5 rows x 309 columns]"
      ]
     },
     "execution_count": 25,
     "metadata": {},
     "output_type": "execute_result"
    }
   ],
   "source": [
    "# воспользуемся техникой OHE для преобразования категориальных переменных\n",
    "data_new_ohe = pd.get_dummies(data_new, drop_first=True)\n",
    "data_new_ohe.head(5)"
   ]
  },
  {
   "cell_type": "code",
   "execution_count": 26,
   "metadata": {},
   "outputs": [],
   "source": [
    "# делим датасет на общие признаки и целевой\n",
    "features = data_new_ohe.drop('Price', axis=1)\n",
    "target = data_new_ohe['Price']"
   ]
  },
  {
   "cell_type": "markdown",
   "metadata": {},
   "source": [
    "Изначально разделим исходный датасет на три выборки обучающую, валидационную, тестовую. В соотношении 3:1:1."
   ]
  },
  {
   "cell_type": "code",
   "execution_count": 27,
   "metadata": {},
   "outputs": [
    {
     "name": "stdout",
     "output_type": "stream",
     "text": [
      "Тренировочная выборка: (169672, 308)\n",
      "Валидационная выборка: (56557, 308)\n",
      "Тестовая выборка: (56558, 308)\n"
     ]
    }
   ],
   "source": [
    "features_train, features_vt, target_train, target_vt  = train_test_split(\n",
    "    features, target, test_size=0.4, random_state=12345)\n",
    "features_valid, features_test, target_valid, target_test  = train_test_split(\n",
    "    features_vt, target_vt, test_size=0.5, random_state=12345)\n",
    "    \n",
    "print(f'Тренировочная выборка: {features_train.shape}')\n",
    "print(f'Валидационная выборка: {features_valid.shape}')\n",
    "print(f'Тестовая выборка: {features_test.shape}')    "
   ]
  },
  {
   "cell_type": "markdown",
   "metadata": {},
   "source": [
    "Произведем маштабирование численных признаков."
   ]
  },
  {
   "cell_type": "code",
   "execution_count": 28,
   "metadata": {},
   "outputs": [],
   "source": [
    "# маштабирование признаков \n",
    "pd.options.mode.chained_assignment = None\n",
    "numeric = ['RegistrationYear',\n",
    "           'Power',\n",
    "           'Kilometer',\n",
    "           'VehicleType_convertible',\n",
    "          ]\n",
    "scaler = StandardScaler()\n",
    "scaler.fit(features_train[numeric])\n",
    "features_train[numeric] = scaler.transform(features_train[numeric])\n",
    "features_valid[numeric] = scaler.transform(features_valid[numeric])\n",
    "features_test[numeric] = scaler.transform(features_test[numeric])"
   ]
  },
  {
   "cell_type": "markdown",
   "metadata": {},
   "source": [
    "Проведем обучение и подбор параметров для следующих моделей:\n",
    "\n",
    "* LinearRegression\n",
    "* ExtraTreesRegressor\n",
    "* RandomForestRegressor\n",
    "* CatBoostRegressor \n",
    "* LGBMRegressor"
   ]
  },
  {
   "cell_type": "markdown",
   "metadata": {},
   "source": [
    "### Модель CatBoostRegressor"
   ]
  },
  {
   "cell_type": "code",
   "execution_count": 29,
   "metadata": {},
   "outputs": [
    {
     "name": "stdout",
     "output_type": "stream",
     "text": [
      "0:\tlearn: 3968.6916250\ttotal: 60.5ms\tremaining: 36.2s\n",
      "100:\tlearn: 2053.6375615\ttotal: 1.09s\tremaining: 5.37s\n",
      "200:\tlearn: 1888.1368307\ttotal: 2.09s\tremaining: 4.15s\n",
      "300:\tlearn: 1814.3450992\ttotal: 3.1s\tremaining: 3.06s\n",
      "400:\tlearn: 1773.2739693\ttotal: 4.08s\tremaining: 2.02s\n",
      "500:\tlearn: 1746.5288515\ttotal: 5.16s\tremaining: 1.01s\n",
      "598:\tlearn: 1726.5259339\ttotal: 6.18s\tremaining: 0us\n",
      "0:\tlearn: 3985.6083384\ttotal: 9.46ms\tremaining: 5.66s\n",
      "100:\tlearn: 2065.0054591\ttotal: 1.01s\tremaining: 4.99s\n",
      "200:\tlearn: 1900.7057334\ttotal: 2.01s\tremaining: 3.98s\n",
      "300:\tlearn: 1826.6379504\ttotal: 3.01s\tremaining: 2.98s\n",
      "400:\tlearn: 1784.7307672\ttotal: 4s\tremaining: 1.98s\n",
      "500:\tlearn: 1757.4756428\ttotal: 4.98s\tremaining: 975ms\n",
      "598:\tlearn: 1735.3356409\ttotal: 5.9s\tremaining: 0us\n",
      "0:\tlearn: 3977.5469998\ttotal: 9.68ms\tremaining: 5.79s\n",
      "100:\tlearn: 2058.7139039\ttotal: 1.11s\tremaining: 5.46s\n",
      "200:\tlearn: 1896.3064272\ttotal: 2.2s\tremaining: 4.36s\n",
      "300:\tlearn: 1822.4154529\ttotal: 3.26s\tremaining: 3.22s\n",
      "400:\tlearn: 1779.7584016\ttotal: 4.26s\tremaining: 2.1s\n",
      "500:\tlearn: 1750.7510213\ttotal: 5.26s\tremaining: 1.03s\n",
      "598:\tlearn: 1731.6357571\ttotal: 6.21s\tremaining: 0us\n",
      "0:\tlearn: 3947.7239999\ttotal: 11ms\tremaining: 7.33s\n",
      "100:\tlearn: 2005.4606239\ttotal: 1.03s\tremaining: 5.81s\n",
      "200:\tlearn: 1853.9421939\ttotal: 2.05s\tremaining: 4.76s\n",
      "300:\tlearn: 1787.5070157\ttotal: 3.13s\tremaining: 3.82s\n",
      "400:\tlearn: 1750.3137799\ttotal: 4.16s\tremaining: 2.77s\n",
      "500:\tlearn: 1724.8503531\ttotal: 5.25s\tremaining: 1.75s\n",
      "600:\tlearn: 1707.1207639\ttotal: 6.33s\tremaining: 705ms\n",
      "667:\tlearn: 1696.3461822\ttotal: 7.09s\tremaining: 0us\n",
      "0:\tlearn: 3964.5601612\ttotal: 10.5ms\tremaining: 7.03s\n",
      "100:\tlearn: 2019.1625860\ttotal: 1.09s\tremaining: 6.14s\n",
      "200:\tlearn: 1869.0748322\ttotal: 2.18s\tremaining: 5.08s\n",
      "300:\tlearn: 1801.7748784\ttotal: 3.29s\tremaining: 4.01s\n",
      "400:\tlearn: 1764.5263980\ttotal: 4.43s\tremaining: 2.95s\n",
      "500:\tlearn: 1738.2814461\ttotal: 5.5s\tremaining: 1.83s\n",
      "600:\tlearn: 1718.7522006\ttotal: 6.59s\tremaining: 735ms\n",
      "667:\tlearn: 1708.6557756\ttotal: 7.29s\tremaining: 0us\n",
      "0:\tlearn: 3956.5233228\ttotal: 10.1ms\tremaining: 6.75s\n",
      "100:\tlearn: 2010.5809617\ttotal: 1.14s\tremaining: 6.41s\n",
      "200:\tlearn: 1861.6682499\ttotal: 2.29s\tremaining: 5.32s\n",
      "300:\tlearn: 1794.0728517\ttotal: 3.35s\tremaining: 4.09s\n",
      "400:\tlearn: 1755.9361304\ttotal: 4.43s\tremaining: 2.95s\n",
      "500:\tlearn: 1731.4600637\ttotal: 5.52s\tremaining: 1.84s\n",
      "600:\tlearn: 1712.0780497\ttotal: 6.5s\tremaining: 724ms\n",
      "667:\tlearn: 1701.2163251\ttotal: 7.15s\tremaining: 0us\n",
      "0:\tlearn: 3824.9211605\ttotal: 17.6ms\tremaining: 12s\n",
      "100:\tlearn: 1595.2848674\ttotal: 1.69s\tremaining: 9.73s\n",
      "200:\tlearn: 1508.2242737\ttotal: 3.51s\tremaining: 8.38s\n",
      "300:\tlearn: 1459.9208210\ttotal: 5.17s\tremaining: 6.53s\n",
      "400:\tlearn: 1429.8856032\ttotal: 6.95s\tremaining: 4.85s\n",
      "500:\tlearn: 1406.3053002\ttotal: 8.64s\tremaining: 3.1s\n",
      "600:\tlearn: 1387.2251293\ttotal: 10.4s\tremaining: 1.39s\n",
      "680:\tlearn: 1374.9394829\ttotal: 11.8s\tremaining: 0us\n",
      "0:\tlearn: 3843.5282128\ttotal: 18.2ms\tremaining: 12.4s\n",
      "100:\tlearn: 1612.4797063\ttotal: 1.69s\tremaining: 9.73s\n",
      "200:\tlearn: 1522.2117172\ttotal: 3.39s\tremaining: 8.09s\n",
      "300:\tlearn: 1477.1740948\ttotal: 5.13s\tremaining: 6.47s\n",
      "400:\tlearn: 1447.6724968\ttotal: 6.78s\tremaining: 4.74s\n",
      "500:\tlearn: 1424.3601348\ttotal: 8.41s\tremaining: 3.02s\n",
      "600:\tlearn: 1405.2658850\ttotal: 10s\tremaining: 1.33s\n",
      "680:\tlearn: 1392.0457438\ttotal: 11.3s\tremaining: 0us\n",
      "0:\tlearn: 3833.0170519\ttotal: 21.7ms\tremaining: 14.7s\n",
      "100:\tlearn: 1603.1756956\ttotal: 1.86s\tremaining: 10.7s\n",
      "200:\tlearn: 1516.6295159\ttotal: 3.77s\tremaining: 9.01s\n",
      "300:\tlearn: 1469.6326837\ttotal: 5.35s\tremaining: 6.76s\n",
      "400:\tlearn: 1440.4880179\ttotal: 7.07s\tremaining: 4.94s\n",
      "500:\tlearn: 1416.8317399\ttotal: 8.65s\tremaining: 3.11s\n",
      "600:\tlearn: 1398.1958547\ttotal: 10.3s\tremaining: 1.38s\n",
      "680:\tlearn: 1385.1517945\ttotal: 11.7s\tremaining: 0us\n",
      "0:\tlearn: 3836.2545470\ttotal: 15.1ms\tremaining: 573ms\n",
      "38:\tlearn: 1860.9220414\ttotal: 575ms\tremaining: 0us\n",
      "0:\tlearn: 3857.9275791\ttotal: 18.3ms\tremaining: 696ms\n",
      "38:\tlearn: 1875.7580936\ttotal: 548ms\tremaining: 0us\n",
      "0:\tlearn: 3843.2682829\ttotal: 14.6ms\tremaining: 554ms\n",
      "38:\tlearn: 1874.1052884\ttotal: 546ms\tremaining: 0us\n",
      "0:\tlearn: 3848.3765418\ttotal: 11.7ms\tremaining: 949ms\n",
      "81:\tlearn: 1758.5674451\ttotal: 1.02s\tremaining: 0us\n",
      "0:\tlearn: 3866.8141582\ttotal: 14.9ms\tremaining: 1.21s\n",
      "81:\tlearn: 1769.4771622\ttotal: 1.13s\tremaining: 0us\n",
      "0:\tlearn: 3855.5815963\ttotal: 12.4ms\tremaining: 1s\n",
      "81:\tlearn: 1759.6054054\ttotal: 1.02s\tremaining: 0us\n",
      "0:\tlearn: 3976.6315568\ttotal: 8.85ms\tremaining: 2.88s\n",
      "100:\tlearn: 2284.2562368\ttotal: 935ms\tremaining: 2.08s\n",
      "200:\tlearn: 2100.5068720\ttotal: 1.87s\tremaining: 1.16s\n",
      "300:\tlearn: 2021.7328474\ttotal: 2.83s\tremaining: 235ms\n",
      "325:\tlearn: 2008.5141092\ttotal: 3.09s\tremaining: 0us\n",
      "0:\tlearn: 3993.7157918\ttotal: 9.27ms\tremaining: 3.01s\n",
      "100:\tlearn: 2298.9169139\ttotal: 991ms\tremaining: 2.21s\n",
      "200:\tlearn: 2113.3998502\ttotal: 1.96s\tremaining: 1.22s\n",
      "300:\tlearn: 2034.3724388\ttotal: 2.87s\tremaining: 238ms\n",
      "325:\tlearn: 2021.1475410\ttotal: 3.08s\tremaining: 0us\n",
      "0:\tlearn: 3986.4503312\ttotal: 10ms\tremaining: 3.25s\n",
      "100:\tlearn: 2290.6103193\ttotal: 918ms\tremaining: 2.04s\n",
      "200:\tlearn: 2104.5942364\ttotal: 1.84s\tremaining: 1.15s\n",
      "300:\tlearn: 2026.3515962\ttotal: 2.77s\tremaining: 230ms\n",
      "325:\tlearn: 2013.0636488\ttotal: 3s\tremaining: 0us\n",
      "0:\tlearn: 3681.8178949\ttotal: 13.8ms\tremaining: 788ms\n",
      "57:\tlearn: 1668.2985136\ttotal: 825ms\tremaining: 0us\n",
      "0:\tlearn: 3706.4853277\ttotal: 13.5ms\tremaining: 768ms\n",
      "57:\tlearn: 1688.0358501\ttotal: 809ms\tremaining: 0us\n",
      "0:\tlearn: 3687.4004468\ttotal: 15.4ms\tremaining: 878ms\n",
      "57:\tlearn: 1684.5952098\ttotal: 862ms\tremaining: 0us\n",
      "0:\tlearn: 3662.7256346\ttotal: 18.5ms\tremaining: 12s\n",
      "100:\tlearn: 1531.2195564\ttotal: 1.82s\tremaining: 9.87s\n",
      "200:\tlearn: 1452.1571716\ttotal: 3.49s\tremaining: 7.76s\n",
      "300:\tlearn: 1406.8645836\ttotal: 5.13s\tremaining: 5.92s\n",
      "400:\tlearn: 1376.7562013\ttotal: 6.78s\tremaining: 4.18s\n",
      "500:\tlearn: 1351.8151825\ttotal: 8.52s\tremaining: 2.5s\n",
      "600:\tlearn: 1332.6955785\ttotal: 10.1s\tremaining: 792ms\n",
      "647:\tlearn: 1325.0967998\ttotal: 10.9s\tremaining: 0us\n",
      "0:\tlearn: 3682.2454687\ttotal: 18.2ms\tremaining: 11.8s\n",
      "100:\tlearn: 1544.8933340\ttotal: 1.75s\tremaining: 9.49s\n",
      "200:\tlearn: 1464.3600665\ttotal: 3.43s\tremaining: 7.63s\n",
      "300:\tlearn: 1420.7526583\ttotal: 5.17s\tremaining: 5.96s\n",
      "400:\tlearn: 1391.6076335\ttotal: 6.84s\tremaining: 4.21s\n",
      "500:\tlearn: 1367.8266612\ttotal: 8.47s\tremaining: 2.48s\n",
      "600:\tlearn: 1349.2520335\ttotal: 10.1s\tremaining: 791ms\n",
      "647:\tlearn: 1340.0852033\ttotal: 10.9s\tremaining: 0us\n",
      "0:\tlearn: 3670.1243395\ttotal: 18.3ms\tremaining: 11.8s\n",
      "100:\tlearn: 1538.7137890\ttotal: 1.68s\tremaining: 9.12s\n",
      "200:\tlearn: 1458.5900634\ttotal: 3.61s\tremaining: 8.02s\n",
      "300:\tlearn: 1415.3232625\ttotal: 5.3s\tremaining: 6.11s\n",
      "400:\tlearn: 1386.0498029\ttotal: 7s\tremaining: 4.31s\n",
      "500:\tlearn: 1361.5929658\ttotal: 8.65s\tremaining: 2.54s\n",
      "600:\tlearn: 1341.9374986\ttotal: 10.2s\tremaining: 801ms\n",
      "647:\tlearn: 1333.7929570\ttotal: 11s\tremaining: 0us\n",
      "0:\tlearn: 3641.3301578\ttotal: 11.1ms\tremaining: 6.67s\n",
      "100:\tlearn: 1670.9738645\ttotal: 1.13s\tremaining: 5.59s\n",
      "200:\tlearn: 1588.7188990\ttotal: 2.22s\tremaining: 4.4s\n",
      "300:\tlearn: 1549.9578792\ttotal: 3.31s\tremaining: 3.27s\n",
      "400:\tlearn: 1524.6527005\ttotal: 4.47s\tremaining: 2.21s\n",
      "500:\tlearn: 1504.5184620\ttotal: 5.59s\tremaining: 1.09s\n",
      "598:\tlearn: 1488.0104357\ttotal: 6.72s\tremaining: 0us\n",
      "0:\tlearn: 3657.8840877\ttotal: 11.1ms\tremaining: 6.64s\n",
      "100:\tlearn: 1688.6694781\ttotal: 1.08s\tremaining: 5.34s\n",
      "200:\tlearn: 1606.4513341\ttotal: 2.24s\tremaining: 4.44s\n",
      "300:\tlearn: 1564.5116155\ttotal: 3.3s\tremaining: 3.27s\n",
      "400:\tlearn: 1538.5574677\ttotal: 4.36s\tremaining: 2.15s\n",
      "500:\tlearn: 1519.3430644\ttotal: 5.47s\tremaining: 1.07s\n",
      "598:\tlearn: 1503.8028008\ttotal: 6.53s\tremaining: 0us\n",
      "0:\tlearn: 3649.3866231\ttotal: 11.6ms\tremaining: 6.92s\n",
      "100:\tlearn: 1677.4593642\ttotal: 1.18s\tremaining: 5.82s\n",
      "200:\tlearn: 1596.6314919\ttotal: 2.32s\tremaining: 4.59s\n",
      "300:\tlearn: 1554.4562856\ttotal: 3.55s\tremaining: 3.52s\n",
      "400:\tlearn: 1527.0215196\ttotal: 4.73s\tremaining: 2.33s\n",
      "500:\tlearn: 1507.0821573\ttotal: 5.86s\tremaining: 1.15s\n",
      "598:\tlearn: 1491.4942926\ttotal: 7.02s\tremaining: 0us\n",
      "0:\tlearn: 4017.0352033\ttotal: 24.7ms\tremaining: 4.07s\n",
      "100:\tlearn: 1888.9868483\ttotal: 2.47s\tremaining: 1.59s\n",
      "165:\tlearn: 1698.8961492\ttotal: 4.02s\tremaining: 0us\n",
      "0:\tlearn: 4035.0425989\ttotal: 25.1ms\tremaining: 4.15s\n",
      "100:\tlearn: 1905.5265380\ttotal: 2.67s\tremaining: 1.72s\n",
      "165:\tlearn: 1714.7071582\ttotal: 4.24s\tremaining: 0us\n",
      "0:\tlearn: 4025.6192074\ttotal: 23.3ms\tremaining: 3.84s\n",
      "100:\tlearn: 1898.8841819\ttotal: 2.69s\tremaining: 1.73s\n",
      "165:\tlearn: 1708.0718559\ttotal: 4.44s\tremaining: 0us\n",
      "0:\tlearn: 3670.3539604\ttotal: 30ms\tremaining: 19.4s\n",
      "100:\tlearn: 1538.7559397\ttotal: 2.48s\tremaining: 13.4s\n",
      "200:\tlearn: 1463.8032431\ttotal: 4.84s\tremaining: 10.8s\n",
      "300:\tlearn: 1424.2683142\ttotal: 7.25s\tremaining: 8.36s\n",
      "400:\tlearn: 1397.0688361\ttotal: 9.72s\tremaining: 5.99s\n",
      "500:\tlearn: 1376.2473071\ttotal: 12s\tremaining: 3.53s\n",
      "600:\tlearn: 1357.9765008\ttotal: 14.4s\tremaining: 1.12s\n",
      "647:\tlearn: 1350.5952217\ttotal: 15.6s\tremaining: 0us\n",
      "{'max_depth': 7, 'learning_rate': 0.15000000000000002, 'iterations': 648}\n",
      "1420.7177307862673\n"
     ]
    }
   ],
   "source": [
    "model_cat = CatBoostRegressor(loss_function='RMSE')\n",
    "parametrs = {'iterations': range(10, 1200),\n",
    "            'learning_rate': np.arange(0.01, 0.2, 0.01),\n",
    "            'max_depth': range(1, 10)}\n",
    "\n",
    "model_cat = RandomizedSearchCV(model_cat, parametrs, cv=3)\n",
    "model_cat.fit(features_train, target_train, verbose=100)\n",
    "print(model_cat.best_params_)\n",
    "\n",
    "predictions = model_cat.predict(features_valid)\n",
    "RMSE_cat = mean_squared_error(target_valid, predictions, squared=False)\n",
    "print(RMSE_cat)"
   ]
  },
  {
   "cell_type": "markdown",
   "metadata": {},
   "source": [
    "### Модели ExtraTreesRegressor, RandomForestRegressor"
   ]
  },
  {
   "cell_type": "code",
   "execution_count": 30,
   "metadata": {},
   "outputs": [
    {
     "name": "stdout",
     "output_type": "stream",
     "text": [
      "{'n_estimators': 27, 'max_depth': 9}\n",
      "1754.1034728784184\n",
      "{'n_estimators': 12, 'max_depth': 9}\n",
      "1989.9944416661097\n"
     ]
    }
   ],
   "source": [
    "models = [RandomForestRegressor(random_state=12345), \n",
    "          ExtraTreesRegressor(random_state=12345)]\n",
    "RMSE_tree_list = []\n",
    "\n",
    "for i in models:\n",
    "    params = {'n_estimators': range (1, 50),\n",
    "          'max_depth': range (1, 10)}\n",
    "    model_tree = RandomizedSearchCV(i, params)\n",
    "    model_tree.fit(features_train, target_train)\n",
    "    print(model_tree.best_params_)\n",
    "\n",
    "    predictions = model_tree.predict(features_valid)\n",
    "    RMSE_tree = mean_squared_error(target_valid, predictions, squared=False)\n",
    "    RMSE_tree_list.append(RMSE_tree)\n",
    "    print(RMSE_tree)"
   ]
  },
  {
   "cell_type": "markdown",
   "metadata": {},
   "source": [
    "### Модель LinearRegression"
   ]
  },
  {
   "cell_type": "code",
   "execution_count": 31,
   "metadata": {},
   "outputs": [
    {
     "name": "stdout",
     "output_type": "stream",
     "text": [
      "-2398.253088266987\n"
     ]
    }
   ],
   "source": [
    "# используем кросс-валидацию\n",
    "model_lr = LinearRegression()\n",
    "cross_val_score = cross_val_score(model_lr, \n",
    "                                  features_train, \n",
    "                                  target_train, \n",
    "                                  scoring = ('neg_root_mean_squared_error'),\n",
    "                                  cv=5).mean()\n",
    "print(cross_val_score)"
   ]
  },
  {
   "cell_type": "markdown",
   "metadata": {},
   "source": [
    "### Модель LGBMRegressor"
   ]
  },
  {
   "cell_type": "code",
   "execution_count": 33,
   "metadata": {},
   "outputs": [
    {
     "name": "stdout",
     "output_type": "stream",
     "text": [
      "[LightGBM] [Warning] Unknown parameter: 21\n",
      "[LightGBM] [Warning] num_iterations is set=100, n_estimators= will be ignored. Current value: num_iterations=100\n",
      "[LightGBM] [Warning] Unknown parameter: 21\n",
      "[LightGBM] [Warning] num_iterations is set=100, n_estimators= will be ignored. Current value: num_iterations=100\n",
      "[LightGBM] [Warning] Unknown parameter: 21\n",
      "[LightGBM] [Warning] num_iterations is set=100, n_estimators= will be ignored. Current value: num_iterations=100\n",
      "[LightGBM] [Warning] Unknown parameter: 81\n",
      "[LightGBM] [Warning] num_iterations is set=100, n_estimators= will be ignored. Current value: num_iterations=100\n",
      "[LightGBM] [Warning] Unknown parameter: 81\n",
      "[LightGBM] [Warning] num_iterations is set=100, n_estimators= will be ignored. Current value: num_iterations=100\n",
      "[LightGBM] [Warning] Unknown parameter: 81\n",
      "[LightGBM] [Warning] num_iterations is set=100, n_estimators= will be ignored. Current value: num_iterations=100\n",
      "[LightGBM] [Warning] Unknown parameter: 61\n",
      "[LightGBM] [Warning] num_iterations is set=100, n_estimators= will be ignored. Current value: num_iterations=100\n",
      "[LightGBM] [Warning] Unknown parameter: 61\n",
      "[LightGBM] [Warning] num_iterations is set=100, n_estimators= will be ignored. Current value: num_iterations=100\n",
      "[LightGBM] [Warning] Unknown parameter: 61\n",
      "[LightGBM] [Warning] num_iterations is set=100, n_estimators= will be ignored. Current value: num_iterations=100\n",
      "[LightGBM] [Warning] Unknown parameter: 41\n",
      "[LightGBM] [Warning] num_iterations is set=100, n_estimators= will be ignored. Current value: num_iterations=100\n",
      "[LightGBM] [Warning] Unknown parameter: 41\n",
      "[LightGBM] [Warning] num_iterations is set=100, n_estimators= will be ignored. Current value: num_iterations=100\n",
      "[LightGBM] [Warning] Unknown parameter: 41\n",
      "[LightGBM] [Warning] num_iterations is set=100, n_estimators= will be ignored. Current value: num_iterations=100\n",
      "[LightGBM] [Warning] Unknown parameter: 89\n",
      "[LightGBM] [Warning] num_iterations is set=100, n_estimators= will be ignored. Current value: num_iterations=100\n",
      "[LightGBM] [Warning] Unknown parameter: 89\n",
      "[LightGBM] [Warning] num_iterations is set=100, n_estimators= will be ignored. Current value: num_iterations=100\n",
      "[LightGBM] [Warning] Unknown parameter: 89\n",
      "[LightGBM] [Warning] num_iterations is set=100, n_estimators= will be ignored. Current value: num_iterations=100\n",
      "[LightGBM] [Warning] Unknown parameter: 87\n",
      "[LightGBM] [Warning] num_iterations is set=100, n_estimators= will be ignored. Current value: num_iterations=100\n",
      "[LightGBM] [Warning] Unknown parameter: 87\n",
      "[LightGBM] [Warning] num_iterations is set=100, n_estimators= will be ignored. Current value: num_iterations=100\n",
      "[LightGBM] [Warning] Unknown parameter: 87\n",
      "[LightGBM] [Warning] num_iterations is set=100, n_estimators= will be ignored. Current value: num_iterations=100\n",
      "[LightGBM] [Warning] Unknown parameter: 29\n",
      "[LightGBM] [Warning] num_iterations is set=100, n_estimators= will be ignored. Current value: num_iterations=100\n",
      "[LightGBM] [Warning] Unknown parameter: 29\n",
      "[LightGBM] [Warning] num_iterations is set=100, n_estimators= will be ignored. Current value: num_iterations=100\n",
      "[LightGBM] [Warning] Unknown parameter: 29\n",
      "[LightGBM] [Warning] num_iterations is set=100, n_estimators= will be ignored. Current value: num_iterations=100\n",
      "[LightGBM] [Warning] Unknown parameter: 7\n",
      "[LightGBM] [Warning] num_iterations is set=100, n_estimators= will be ignored. Current value: num_iterations=100\n",
      "[LightGBM] [Warning] Unknown parameter: 7\n",
      "[LightGBM] [Warning] num_iterations is set=100, n_estimators= will be ignored. Current value: num_iterations=100\n",
      "[LightGBM] [Warning] Unknown parameter: 7\n",
      "[LightGBM] [Warning] num_iterations is set=100, n_estimators= will be ignored. Current value: num_iterations=100\n",
      "[LightGBM] [Warning] Unknown parameter: 89\n",
      "[LightGBM] [Warning] num_iterations is set=100, n_estimators= will be ignored. Current value: num_iterations=100\n",
      "[LightGBM] [Warning] Unknown parameter: 89\n",
      "[LightGBM] [Warning] num_iterations is set=100, n_estimators= will be ignored. Current value: num_iterations=100\n",
      "[LightGBM] [Warning] Unknown parameter: 89\n",
      "[LightGBM] [Warning] num_iterations is set=100, n_estimators= will be ignored. Current value: num_iterations=100\n",
      "[LightGBM] [Warning] Unknown parameter: 41\n",
      "[LightGBM] [Warning] num_iterations is set=100, n_estimators= will be ignored. Current value: num_iterations=100\n",
      "[LightGBM] [Warning] Unknown parameter: 41\n",
      "[LightGBM] [Warning] num_iterations is set=100, n_estimators= will be ignored. Current value: num_iterations=100\n",
      "[LightGBM] [Warning] Unknown parameter: 41\n",
      "[LightGBM] [Warning] num_iterations is set=100, n_estimators= will be ignored. Current value: num_iterations=100\n",
      "[LightGBM] [Warning] Unknown parameter: 41\n",
      "[LightGBM] [Warning] num_iterations is set=100, n_estimators= will be ignored. Current value: num_iterations=100\n",
      "{'n_estimators ': 41, 'max_depth': 8, 'learning_rate': 0.01}\n",
      "2381.5638214190312\n"
     ]
    }
   ],
   "source": [
    "model = LGBMRegressor()\n",
    "parametrs = {'max_depth': range (1,15),\n",
    "             'n_estimators ': range (1, 100, 2),\n",
    "             'learning_rate': np.arange (0.01,0.2)}\n",
    "model = RandomizedSearchCV(model, parametrs, cv=3)\n",
    "model.fit(features_train, target_train)\n",
    "print(model.best_params_)\n",
    "\n",
    "predictions = model.predict(features_valid)\n",
    "RMSE_lgbmr = mean_squared_error(target_valid, predictions, squared=False)\n",
    "print(RMSE_lgbmr)"
   ]
  },
  {
   "cell_type": "markdown",
   "metadata": {},
   "source": [
    "### Проверка моделей на тестовой выборке"
   ]
  },
  {
   "cell_type": "markdown",
   "metadata": {},
   "source": [
    "Объединим валидационную и обучающую выборку."
   ]
  },
  {
   "cell_type": "code",
   "execution_count": 34,
   "metadata": {},
   "outputs": [],
   "source": [
    "feature_train_wider = pd.concat([features_train, features_valid])\n",
    "target_train_wider = pd.concat([target_train, target_valid])"
   ]
  },
  {
   "cell_type": "code",
   "execution_count": 35,
   "metadata": {},
   "outputs": [],
   "source": [
    "results = pd.DataFrame({'Regresson' : [],\n",
    "                        'Train RMSE score' : [], \n",
    "                        'Test RMSE score' : [], \n",
    "                        'Time_study' : [],\n",
    "                        'Time_prediction' : []})"
   ]
  },
  {
   "cell_type": "code",
   "execution_count": 36,
   "metadata": {},
   "outputs": [
    {
     "name": "stdout",
     "output_type": "stream",
     "text": [
      "2421.838100945135\n"
     ]
    }
   ],
   "source": [
    "# Модель линейной регрессии \n",
    "start = time.time()\n",
    "model_lr_2 = LinearRegression()\n",
    "model_lr_2.fit(feature_train_wider, target_train_wider)\n",
    "\n",
    "end_study = time.time() - start\n",
    "start = time.time()\n",
    "\n",
    "prediction = model_lr_2.predict(features_test)\n",
    "\n",
    "RMSE_test = mean_squared_error(target_test, prediction, squared=False)\n",
    "\n",
    "\n",
    "finish = time.time() - start\n",
    "print(RMSE_test)\n",
    "results = results.append({'Regresson' : 'LinearRegression', \n",
    "                       'Train RMSE score' : cross_val_score, \n",
    "                       'Test RMSE score' : RMSE_test, \n",
    "                       'Time_study' : end_study,\n",
    "                       'Time_prediction' : finish}, ignore_index=True)"
   ]
  },
  {
   "cell_type": "code",
   "execution_count": 37,
   "metadata": {},
   "outputs": [
    {
     "name": "stdout",
     "output_type": "stream",
     "text": [
      "2618.9845271314675\n"
     ]
    }
   ],
   "source": [
    "# градиентный бустинг\n",
    "start = time.time()\n",
    "\n",
    "model = LGBMRegressor(n_estimators = 77, max_depth = 13, learning_rate = 0.01)\n",
    "model.fit(feature_train_wider, target_train_wider)\n",
    "\n",
    "end_study = time.time() - start\n",
    "start = time.time()\n",
    "\n",
    "predictions = model.predict(features_test)\n",
    "\n",
    "RMSE_test_lgbmr = mean_squared_error(target_test, predictions, squared=False)\n",
    "finish = time.time()-start\n",
    "\n",
    "print(RMSE_test_lgbmr)\n",
    "results = results.append({'Regresson' : 'LGBMRegressor', \n",
    "                       'Train RMSE score' : RMSE_lgbmr, \n",
    "                       'Test RMSE score' : RMSE_test_lgbmr, \n",
    "                       'Time_study' : end_study,\n",
    "                       'Time_prediction' : finish}, ignore_index=True)"
   ]
  },
  {
   "cell_type": "code",
   "execution_count": 38,
   "metadata": {},
   "outputs": [
    {
     "name": "stdout",
     "output_type": "stream",
     "text": [
      "1784.9777682497481\n"
     ]
    }
   ],
   "source": [
    "# модель случаного леса\n",
    "start = time.time()\n",
    "\n",
    "model = RandomForestRegressor(n_estimators = 15, max_depth = 9)\n",
    "model.fit(feature_train_wider, target_train_wider)\n",
    "\n",
    "end_study = time.time() - start\n",
    "start = time.time()\n",
    "\n",
    "predictions = model.predict(features_test)\n",
    "\n",
    "RMSE_test_tree = mean_squared_error(target_test, predictions, squared=False)\n",
    "finish = time.time() - start\n",
    "\n",
    "print(RMSE_test_tree)\n",
    "results = results.append({'Regresson' : 'RandomForestRegressor', \n",
    "                       'Train RMSE score' : RMSE_tree_list[0], \n",
    "                       'Test RMSE score' : RMSE_test_tree, \n",
    "                       'Time_study' : end_study,\n",
    "                       'Time_prediction' : finish}, ignore_index=True)"
   ]
  },
  {
   "cell_type": "code",
   "execution_count": 39,
   "metadata": {},
   "outputs": [
    {
     "name": "stdout",
     "output_type": "stream",
     "text": [
      "2056.8935853542407\n"
     ]
    }
   ],
   "source": [
    "# модель ExtraTreesRegressor\n",
    "start = time.time()\n",
    "\n",
    "model = ExtraTreesRegressor(n_estimators = 12, max_depth = 9)\n",
    "model.fit(feature_train_wider, target_train_wider)\n",
    "\n",
    "end_study = time.time() - start\n",
    "start = time.time()\n",
    "\n",
    "predictions = model.predict(features_test)\n",
    "\n",
    "RMSE_test_tree_2 = mean_squared_error(target_test, predictions, squared=False)\n",
    "finish = time.time() - start\n",
    "\n",
    "print(RMSE_test_tree_2)\n",
    "results = results.append({'Regresson' : 'ExtraTreesRegressor', \n",
    "                       'Train RMSE score' : RMSE_tree_list[1], \n",
    "                       'Test RMSE score' : RMSE_test_tree_2, \n",
    "                       'Time_study' : end_study,\n",
    "                       'Time_prediction' : finish}, ignore_index=True)"
   ]
  },
  {
   "cell_type": "code",
   "execution_count": 40,
   "metadata": {},
   "outputs": [
    {
     "name": "stdout",
     "output_type": "stream",
     "text": [
      "0:\tlearn: 3603.4198981\ttotal: 33.1ms\tremaining: 34.6s\n",
      "100:\tlearn: 1548.3627100\ttotal: 3.12s\tremaining: 29.2s\n",
      "200:\tlearn: 1478.0428368\ttotal: 5.98s\tremaining: 25.1s\n",
      "300:\tlearn: 1439.4056654\ttotal: 9.12s\tremaining: 22.5s\n",
      "400:\tlearn: 1414.3935031\ttotal: 11.8s\tremaining: 18.9s\n",
      "500:\tlearn: 1394.5067564\ttotal: 14.6s\tremaining: 15.9s\n",
      "600:\tlearn: 1378.5565132\ttotal: 17.4s\tremaining: 12.9s\n",
      "700:\tlearn: 1365.1987592\ttotal: 20.4s\tremaining: 10s\n",
      "800:\tlearn: 1353.4138388\ttotal: 23.2s\tremaining: 7.06s\n",
      "900:\tlearn: 1343.4161107\ttotal: 25.9s\tremaining: 4.14s\n",
      "1000:\tlearn: 1334.4512894\ttotal: 28.8s\tremaining: 1.27s\n",
      "1044:\tlearn: 1330.8501231\ttotal: 30s\tremaining: 0us\n",
      "1438.2628910719554\n"
     ]
    }
   ],
   "source": [
    "# градиентный бустинг\n",
    "start = time.time()\n",
    "model_cat = CatBoostRegressor(loss_function='RMSE', iterations =648, learning_rate =0.15, max_depth= 7)\n",
    "\n",
    "model_cat.fit(feature_train_wider, target_train_wider, verbose=100)\n",
    "\n",
    "end_study = time.time() - start\n",
    "start = time.time()\n",
    "\n",
    "predictions = model_cat.predict(features_test)\n",
    "RMSE_test_cat = mean_squared_error(target_test, predictions, squared=False)\n",
    "\n",
    "finish = time.time() - start\n",
    "print(RMSE_test_cat)\n",
    "\n",
    "\n",
    "results = results.append({'Regresson' : 'CatBoostRegressor', \n",
    "                       'Train RMSE score' : RMSE_cat, \n",
    "                       'Test RMSE score' : RMSE_test_cat, \n",
    "                       'Time_study' : end_study,\n",
    "                       'Time_prediction' : finish}, ignore_index=True )"
   ]
  },
  {
   "cell_type": "markdown",
   "metadata": {},
   "source": [
    "## Анализ моделей"
   ]
  },
  {
   "cell_type": "markdown",
   "metadata": {},
   "source": [
    "Выведем итоговую таблицу с характеристиками моделей."
   ]
  },
  {
   "cell_type": "code",
   "execution_count": 41,
   "metadata": {},
   "outputs": [
    {
     "data": {
      "text/html": [
       "<div>\n",
       "<style scoped>\n",
       "    .dataframe tbody tr th:only-of-type {\n",
       "        vertical-align: middle;\n",
       "    }\n",
       "\n",
       "    .dataframe tbody tr th {\n",
       "        vertical-align: top;\n",
       "    }\n",
       "\n",
       "    .dataframe thead th {\n",
       "        text-align: right;\n",
       "    }\n",
       "</style>\n",
       "<table border=\"1\" class=\"dataframe\">\n",
       "  <thead>\n",
       "    <tr style=\"text-align: right;\">\n",
       "      <th></th>\n",
       "      <th>Regresson</th>\n",
       "      <th>Train RMSE score</th>\n",
       "      <th>Test RMSE score</th>\n",
       "      <th>Time_study</th>\n",
       "      <th>Time_prediction</th>\n",
       "    </tr>\n",
       "  </thead>\n",
       "  <tbody>\n",
       "    <tr>\n",
       "      <th>0</th>\n",
       "      <td>LinearRegression</td>\n",
       "      <td>-2398.253088</td>\n",
       "      <td>2421.838101</td>\n",
       "      <td>18.257565</td>\n",
       "      <td>0.194064</td>\n",
       "    </tr>\n",
       "    <tr>\n",
       "      <th>1</th>\n",
       "      <td>LGBMRegressor</td>\n",
       "      <td>2381.563821</td>\n",
       "      <td>2618.984527</td>\n",
       "      <td>6.706796</td>\n",
       "      <td>0.501117</td>\n",
       "    </tr>\n",
       "    <tr>\n",
       "      <th>2</th>\n",
       "      <td>RandomForestRegressor</td>\n",
       "      <td>1754.103473</td>\n",
       "      <td>1784.977768</td>\n",
       "      <td>36.082308</td>\n",
       "      <td>0.168516</td>\n",
       "    </tr>\n",
       "    <tr>\n",
       "      <th>3</th>\n",
       "      <td>ExtraTreesRegressor</td>\n",
       "      <td>1989.994442</td>\n",
       "      <td>2056.893585</td>\n",
       "      <td>43.933745</td>\n",
       "      <td>0.146245</td>\n",
       "    </tr>\n",
       "    <tr>\n",
       "      <th>4</th>\n",
       "      <td>CatBoostRegressor</td>\n",
       "      <td>1420.717731</td>\n",
       "      <td>1438.262891</td>\n",
       "      <td>32.507842</td>\n",
       "      <td>0.116138</td>\n",
       "    </tr>\n",
       "  </tbody>\n",
       "</table>\n",
       "</div>"
      ],
      "text/plain": [
       "               Regresson  Train RMSE score  Test RMSE score  Time_study  \\\n",
       "0       LinearRegression      -2398.253088      2421.838101   18.257565   \n",
       "1          LGBMRegressor       2381.563821      2618.984527    6.706796   \n",
       "2  RandomForestRegressor       1754.103473      1784.977768   36.082308   \n",
       "3    ExtraTreesRegressor       1989.994442      2056.893585   43.933745   \n",
       "4      CatBoostRegressor       1420.717731      1438.262891   32.507842   \n",
       "\n",
       "   Time_prediction  \n",
       "0         0.194064  \n",
       "1         0.501117  \n",
       "2         0.168516  \n",
       "3         0.146245  \n",
       "4         0.116138  "
      ]
     },
     "execution_count": 41,
     "metadata": {},
     "output_type": "execute_result"
    }
   ],
   "source": [
    "results"
   ]
  },
  {
   "cell_type": "markdown",
   "metadata": {},
   "source": [
    "# Вывод "
   ]
  },
  {
   "cell_type": "markdown",
   "metadata": {},
   "source": [
    "На тестовой выборке лучшего значения метрики RMSE удалось достичь с использованием градиентного бустинга CatBoostRegressor - 1438.27. А время обчуния модели - 32.5 с., время предсказания - 0.12 с.\n",
    "Наилучшее время обучения модели у модели с градиентным бустингом библиотеки LightGBM - 6.71 с. Но у данной модели самое большое время предсказания - 0.5 с.\n",
    "\n",
    "Из предложенных моделей CatBoostRegressor модель обладает лучшим соотношением скорости обучения, предасказания и качеством метрики. \n",
    "\n",
    "Данные модели хорошо подходят для предсказания стоимости автомобиля."
   ]
  }
 ],
 "metadata": {
  "ExecuteTimeLog": [
   {
    "duration": 714,
    "start_time": "2022-05-26T09:32:22.053Z"
   },
   {
    "duration": 1191,
    "start_time": "2022-05-26T09:32:52.430Z"
   },
   {
    "duration": 967,
    "start_time": "2022-05-26T09:33:02.028Z"
   },
   {
    "duration": 71,
    "start_time": "2022-05-26T09:36:20.950Z"
   },
   {
    "duration": 127,
    "start_time": "2022-05-26T09:36:24.392Z"
   },
   {
    "duration": 120,
    "start_time": "2022-05-26T09:38:12.728Z"
   },
   {
    "duration": 30,
    "start_time": "2022-05-26T09:38:36.747Z"
   },
   {
    "duration": 14,
    "start_time": "2022-05-26T09:38:46.720Z"
   },
   {
    "duration": 5,
    "start_time": "2022-05-26T09:39:45.733Z"
   },
   {
    "duration": 21,
    "start_time": "2022-05-26T09:50:22.454Z"
   },
   {
    "duration": 2,
    "start_time": "2022-05-26T09:51:38.235Z"
   },
   {
    "duration": 3,
    "start_time": "2022-05-26T09:52:17.356Z"
   },
   {
    "duration": 22,
    "start_time": "2022-05-26T09:57:08.088Z"
   },
   {
    "duration": 20,
    "start_time": "2022-05-26T09:57:21.726Z"
   },
   {
    "duration": 145,
    "start_time": "2022-05-26T09:57:42.134Z"
   },
   {
    "duration": 142,
    "start_time": "2022-05-26T09:57:48.292Z"
   },
   {
    "duration": 20,
    "start_time": "2022-05-26T09:58:50.558Z"
   },
   {
    "duration": 28,
    "start_time": "2022-05-26T10:26:58.469Z"
   },
   {
    "duration": 7,
    "start_time": "2022-05-26T10:27:05.768Z"
   },
   {
    "duration": 12,
    "start_time": "2022-05-26T10:30:08.416Z"
   },
   {
    "duration": 10,
    "start_time": "2022-05-26T10:32:58.970Z"
   },
   {
    "duration": 13,
    "start_time": "2022-05-26T10:33:06.363Z"
   },
   {
    "duration": 3,
    "start_time": "2022-05-26T10:33:35.564Z"
   },
   {
    "duration": 366,
    "start_time": "2022-05-26T10:34:29.496Z"
   },
   {
    "duration": 4,
    "start_time": "2022-05-26T10:44:53.168Z"
   },
   {
    "duration": 11,
    "start_time": "2022-05-26T11:03:00.796Z"
   },
   {
    "duration": 3,
    "start_time": "2022-05-26T11:03:12.225Z"
   },
   {
    "duration": 4,
    "start_time": "2022-05-26T11:03:16.515Z"
   },
   {
    "duration": 88,
    "start_time": "2022-05-26T11:05:23.747Z"
   },
   {
    "duration": 143,
    "start_time": "2022-05-26T11:09:08.978Z"
   },
   {
    "duration": 19,
    "start_time": "2022-05-26T11:09:30.823Z"
   },
   {
    "duration": 37,
    "start_time": "2022-05-26T11:14:50.541Z"
   },
   {
    "duration": 36,
    "start_time": "2022-05-26T11:15:17.301Z"
   },
   {
    "duration": 22,
    "start_time": "2022-05-26T11:21:09.613Z"
   },
   {
    "duration": 40,
    "start_time": "2022-05-26T11:21:54.378Z"
   },
   {
    "duration": 47,
    "start_time": "2022-05-26T11:22:37.554Z"
   },
   {
    "duration": 36,
    "start_time": "2022-05-26T11:22:41.054Z"
   },
   {
    "duration": 30,
    "start_time": "2022-05-26T11:22:56.754Z"
   },
   {
    "duration": 6,
    "start_time": "2022-05-26T11:23:28.395Z"
   },
   {
    "duration": 18,
    "start_time": "2022-05-26T11:23:38.510Z"
   },
   {
    "duration": 33,
    "start_time": "2022-05-26T11:24:14.173Z"
   },
   {
    "duration": 24,
    "start_time": "2022-05-26T11:29:59.325Z"
   },
   {
    "duration": 63,
    "start_time": "2022-05-26T11:30:04.365Z"
   },
   {
    "duration": 450,
    "start_time": "2022-05-26T11:30:09.907Z"
   },
   {
    "duration": 930,
    "start_time": "2022-05-26T11:30:10.360Z"
   },
   {
    "duration": 20,
    "start_time": "2022-05-26T11:30:11.292Z"
   },
   {
    "duration": 124,
    "start_time": "2022-05-26T11:30:11.314Z"
   },
   {
    "duration": 20,
    "start_time": "2022-05-26T11:30:11.440Z"
   },
   {
    "duration": 167,
    "start_time": "2022-05-26T11:30:11.462Z"
   },
   {
    "duration": 19,
    "start_time": "2022-05-26T11:30:11.630Z"
   },
   {
    "duration": 163,
    "start_time": "2022-05-26T11:30:11.651Z"
   },
   {
    "duration": 21,
    "start_time": "2022-05-26T11:30:11.815Z"
   },
   {
    "duration": 37,
    "start_time": "2022-05-26T11:30:11.838Z"
   },
   {
    "duration": 55,
    "start_time": "2022-05-26T11:30:11.876Z"
   },
   {
    "duration": 36,
    "start_time": "2022-05-26T11:30:11.932Z"
   },
   {
    "duration": 83,
    "start_time": "2022-05-26T11:30:11.969Z"
   },
   {
    "duration": 70,
    "start_time": "2022-05-26T11:32:45.851Z"
   },
   {
    "duration": 5,
    "start_time": "2022-05-26T11:32:49.502Z"
   },
   {
    "duration": 7,
    "start_time": "2022-05-26T11:32:58.156Z"
   },
   {
    "duration": 392,
    "start_time": "2022-05-26T11:33:36.846Z"
   },
   {
    "duration": 513,
    "start_time": "2022-05-26T11:34:05.019Z"
   },
   {
    "duration": 519,
    "start_time": "2022-05-26T11:34:15.635Z"
   },
   {
    "duration": 194,
    "start_time": "2022-05-26T11:34:49.222Z"
   },
   {
    "duration": 5,
    "start_time": "2022-05-26T11:35:07.533Z"
   },
   {
    "duration": 6,
    "start_time": "2022-05-26T11:35:24.016Z"
   },
   {
    "duration": 8,
    "start_time": "2022-05-26T11:35:33.400Z"
   },
   {
    "duration": 8,
    "start_time": "2022-05-26T11:35:38.817Z"
   },
   {
    "duration": 2,
    "start_time": "2022-05-26T11:40:38.960Z"
   },
   {
    "duration": 8,
    "start_time": "2022-05-26T11:40:59.431Z"
   },
   {
    "duration": 9,
    "start_time": "2022-05-26T11:41:10.932Z"
   },
   {
    "duration": 873,
    "start_time": "2022-05-26T11:42:02.802Z"
   },
   {
    "duration": 284,
    "start_time": "2022-05-26T11:42:12.517Z"
   },
   {
    "duration": 687,
    "start_time": "2022-05-26T11:43:49.940Z"
   },
   {
    "duration": 0,
    "start_time": "2022-05-26T11:48:07.068Z"
   },
   {
    "duration": 8,
    "start_time": "2022-05-26T11:51:22.032Z"
   },
   {
    "duration": 830,
    "start_time": "2022-05-26T11:51:29.957Z"
   },
   {
    "duration": 181,
    "start_time": "2022-05-26T11:51:37.337Z"
   },
   {
    "duration": 162,
    "start_time": "2022-05-26T11:53:48.635Z"
   },
   {
    "duration": 185,
    "start_time": "2022-05-26T11:53:55.799Z"
   },
   {
    "duration": 33,
    "start_time": "2022-05-26T12:03:40.036Z"
   },
   {
    "duration": 5,
    "start_time": "2022-05-26T12:06:00.074Z"
   },
   {
    "duration": 62,
    "start_time": "2022-05-26T12:06:09.388Z"
   },
   {
    "duration": 11,
    "start_time": "2022-05-26T12:06:26.161Z"
   },
   {
    "duration": 1158,
    "start_time": "2022-05-26T12:08:12.127Z"
   },
   {
    "duration": 1001,
    "start_time": "2022-05-26T12:08:13.287Z"
   },
   {
    "duration": 16,
    "start_time": "2022-05-26T12:08:14.290Z"
   },
   {
    "duration": 131,
    "start_time": "2022-05-26T12:08:14.308Z"
   },
   {
    "duration": 21,
    "start_time": "2022-05-26T12:08:14.441Z"
   },
   {
    "duration": 172,
    "start_time": "2022-05-26T12:08:14.463Z"
   },
   {
    "duration": 21,
    "start_time": "2022-05-26T12:08:14.637Z"
   },
   {
    "duration": 160,
    "start_time": "2022-05-26T12:08:14.659Z"
   },
   {
    "duration": 19,
    "start_time": "2022-05-26T12:08:14.821Z"
   },
   {
    "duration": 53,
    "start_time": "2022-05-26T12:08:14.841Z"
   },
   {
    "duration": 50,
    "start_time": "2022-05-26T12:08:14.896Z"
   },
   {
    "duration": 33,
    "start_time": "2022-05-26T12:08:14.947Z"
   },
   {
    "duration": 81,
    "start_time": "2022-05-26T12:08:14.982Z"
   },
   {
    "duration": 11,
    "start_time": "2022-05-26T12:08:15.066Z"
   },
   {
    "duration": 1328,
    "start_time": "2022-05-27T08:45:10.050Z"
   },
   {
    "duration": 3000,
    "start_time": "2022-05-27T08:45:11.381Z"
   },
   {
    "duration": 21,
    "start_time": "2022-05-27T08:45:14.383Z"
   },
   {
    "duration": 133,
    "start_time": "2022-05-27T08:45:14.406Z"
   },
   {
    "duration": 21,
    "start_time": "2022-05-27T08:45:14.541Z"
   },
   {
    "duration": 174,
    "start_time": "2022-05-27T08:45:14.564Z"
   },
   {
    "duration": 22,
    "start_time": "2022-05-27T08:45:14.740Z"
   },
   {
    "duration": 178,
    "start_time": "2022-05-27T08:45:14.764Z"
   },
   {
    "duration": 21,
    "start_time": "2022-05-27T08:45:14.943Z"
   },
   {
    "duration": 70,
    "start_time": "2022-05-27T08:45:14.966Z"
   },
   {
    "duration": 35,
    "start_time": "2022-05-27T08:45:15.037Z"
   },
   {
    "duration": 73,
    "start_time": "2022-05-27T08:45:15.074Z"
   },
   {
    "duration": 68,
    "start_time": "2022-05-27T08:45:15.149Z"
   },
   {
    "duration": 10,
    "start_time": "2022-05-27T08:45:15.220Z"
   },
   {
    "duration": 188,
    "start_time": "2022-05-27T08:45:15.232Z"
   },
   {
    "duration": 289,
    "start_time": "2022-05-27T08:45:15.422Z"
   },
   {
    "duration": 121,
    "start_time": "2022-05-27T09:08:34.972Z"
   },
   {
    "duration": 9,
    "start_time": "2022-05-27T09:08:47.589Z"
   },
   {
    "duration": 36,
    "start_time": "2022-05-27T09:09:00.233Z"
   },
   {
    "duration": 7,
    "start_time": "2022-05-27T09:09:14.369Z"
   },
   {
    "duration": 6,
    "start_time": "2022-05-27T09:09:24.364Z"
   },
   {
    "duration": 36,
    "start_time": "2022-05-27T09:15:21.360Z"
   },
   {
    "duration": 67,
    "start_time": "2022-05-27T09:15:27.689Z"
   },
   {
    "duration": 148,
    "start_time": "2022-05-27T09:15:39.912Z"
   },
   {
    "duration": 37,
    "start_time": "2022-05-27T09:15:52.173Z"
   },
   {
    "duration": 174,
    "start_time": "2022-05-27T09:15:52.982Z"
   },
   {
    "duration": 6,
    "start_time": "2022-05-27T09:18:42.084Z"
   },
   {
    "duration": 7,
    "start_time": "2022-05-27T09:18:46.613Z"
   },
   {
    "duration": 7,
    "start_time": "2022-05-27T09:18:52.659Z"
   },
   {
    "duration": 6,
    "start_time": "2022-05-27T09:18:57.998Z"
   },
   {
    "duration": 6,
    "start_time": "2022-05-27T09:19:02.823Z"
   },
   {
    "duration": 8,
    "start_time": "2022-05-27T09:19:10.839Z"
   },
   {
    "duration": 6,
    "start_time": "2022-05-27T09:19:15.396Z"
   },
   {
    "duration": 75,
    "start_time": "2022-05-27T09:20:10.386Z"
   },
   {
    "duration": 35,
    "start_time": "2022-05-27T09:22:20.532Z"
   },
   {
    "duration": 48,
    "start_time": "2022-05-27T09:22:28.258Z"
   },
   {
    "duration": 1410,
    "start_time": "2022-05-27T09:22:33.264Z"
   },
   {
    "duration": 1070,
    "start_time": "2022-05-27T09:22:34.677Z"
   },
   {
    "duration": 26,
    "start_time": "2022-05-27T09:22:35.749Z"
   },
   {
    "duration": 153,
    "start_time": "2022-05-27T09:22:35.777Z"
   },
   {
    "duration": 23,
    "start_time": "2022-05-27T09:22:35.932Z"
   },
   {
    "duration": 188,
    "start_time": "2022-05-27T09:22:35.957Z"
   },
   {
    "duration": 35,
    "start_time": "2022-05-27T09:22:36.148Z"
   },
   {
    "duration": 184,
    "start_time": "2022-05-27T09:22:36.185Z"
   },
   {
    "duration": 31,
    "start_time": "2022-05-27T09:22:36.371Z"
   },
   {
    "duration": 41,
    "start_time": "2022-05-27T09:22:36.404Z"
   },
   {
    "duration": 77,
    "start_time": "2022-05-27T09:22:36.447Z"
   },
   {
    "duration": 76,
    "start_time": "2022-05-27T09:22:36.526Z"
   },
   {
    "duration": 65,
    "start_time": "2022-05-27T09:22:36.604Z"
   },
   {
    "duration": 12,
    "start_time": "2022-05-27T09:22:36.672Z"
   },
   {
    "duration": 215,
    "start_time": "2022-05-27T09:22:36.686Z"
   },
   {
    "duration": 7,
    "start_time": "2022-05-27T09:22:36.903Z"
   },
   {
    "duration": 70,
    "start_time": "2022-05-27T09:22:36.912Z"
   },
   {
    "duration": 251,
    "start_time": "2022-05-27T09:22:37.003Z"
   },
   {
    "duration": 194,
    "start_time": "2022-05-27T09:22:37.256Z"
   },
   {
    "duration": 68,
    "start_time": "2022-05-27T09:22:37.452Z"
   },
   {
    "duration": 85296,
    "start_time": "2022-05-27T09:26:28.277Z"
   },
   {
    "duration": 6,
    "start_time": "2022-05-27T09:29:31.447Z"
   },
   {
    "duration": 52,
    "start_time": "2022-05-27T09:29:57.397Z"
   },
   {
    "duration": 95165,
    "start_time": "2022-05-27T09:30:06.596Z"
   },
   {
    "duration": 338,
    "start_time": "2022-05-27T09:33:01.413Z"
   },
   {
    "duration": 30,
    "start_time": "2022-05-27T09:51:14.356Z"
   },
   {
    "duration": 1006,
    "start_time": "2022-05-27T09:52:42.276Z"
   },
   {
    "duration": 963,
    "start_time": "2022-05-27T09:52:59.852Z"
   },
   {
    "duration": 215,
    "start_time": "2022-05-27T09:54:37.868Z"
   },
   {
    "duration": 477,
    "start_time": "2022-05-27T09:55:53.637Z"
   },
   {
    "duration": 535,
    "start_time": "2022-05-27T09:56:00.130Z"
   },
   {
    "duration": 163,
    "start_time": "2022-05-27T09:56:59.614Z"
   },
   {
    "duration": 5,
    "start_time": "2022-05-27T09:57:21.900Z"
   },
   {
    "duration": 16,
    "start_time": "2022-05-27T09:57:26.460Z"
   },
   {
    "duration": 1267,
    "start_time": "2022-05-27T09:58:56.043Z"
   },
   {
    "duration": 3358,
    "start_time": "2022-05-27T09:58:57.313Z"
   },
   {
    "duration": 18,
    "start_time": "2022-05-27T09:59:00.673Z"
   },
   {
    "duration": 155,
    "start_time": "2022-05-27T09:59:00.693Z"
   },
   {
    "duration": 28,
    "start_time": "2022-05-27T09:59:00.851Z"
   },
   {
    "duration": 195,
    "start_time": "2022-05-27T09:59:00.902Z"
   },
   {
    "duration": 40,
    "start_time": "2022-05-27T09:59:01.099Z"
   },
   {
    "duration": 244,
    "start_time": "2022-05-27T09:59:01.141Z"
   },
   {
    "duration": 43,
    "start_time": "2022-05-27T09:59:01.386Z"
   },
   {
    "duration": 70,
    "start_time": "2022-05-27T09:59:01.431Z"
   },
   {
    "duration": 39,
    "start_time": "2022-05-27T09:59:01.507Z"
   },
   {
    "duration": 38,
    "start_time": "2022-05-27T09:59:01.547Z"
   },
   {
    "duration": 29,
    "start_time": "2022-05-27T09:59:01.586Z"
   },
   {
    "duration": 64,
    "start_time": "2022-05-27T09:59:01.618Z"
   },
   {
    "duration": 25,
    "start_time": "2022-05-27T09:59:01.685Z"
   },
   {
    "duration": 229,
    "start_time": "2022-05-27T09:59:01.718Z"
   },
   {
    "duration": 8,
    "start_time": "2022-05-27T09:59:01.949Z"
   },
   {
    "duration": 104,
    "start_time": "2022-05-27T09:59:01.959Z"
   },
   {
    "duration": 173,
    "start_time": "2022-05-27T09:59:02.065Z"
   },
   {
    "duration": 190,
    "start_time": "2022-05-27T09:59:02.240Z"
   },
   {
    "duration": 57,
    "start_time": "2022-05-27T09:59:02.432Z"
   },
   {
    "duration": 81850,
    "start_time": "2022-05-27T09:59:02.491Z"
   },
   {
    "duration": 423,
    "start_time": "2022-05-27T10:00:24.343Z"
   },
   {
    "duration": 725,
    "start_time": "2022-05-27T10:00:24.768Z"
   },
   {
    "duration": 192,
    "start_time": "2022-05-27T10:00:25.496Z"
   },
   {
    "duration": 469,
    "start_time": "2022-05-27T10:00:25.690Z"
   },
   {
    "duration": 62,
    "start_time": "2022-05-27T10:02:07.430Z"
   },
   {
    "duration": 1294,
    "start_time": "2022-05-27T10:03:11.439Z"
   },
   {
    "duration": 3082,
    "start_time": "2022-05-27T10:03:12.735Z"
   },
   {
    "duration": 17,
    "start_time": "2022-05-27T10:03:15.819Z"
   },
   {
    "duration": 150,
    "start_time": "2022-05-27T10:03:15.839Z"
   },
   {
    "duration": 28,
    "start_time": "2022-05-27T10:03:15.991Z"
   },
   {
    "duration": 188,
    "start_time": "2022-05-27T10:03:16.021Z"
   },
   {
    "duration": 27,
    "start_time": "2022-05-27T10:03:16.211Z"
   },
   {
    "duration": 197,
    "start_time": "2022-05-27T10:03:16.240Z"
   },
   {
    "duration": 21,
    "start_time": "2022-05-27T10:03:16.439Z"
   },
   {
    "duration": 59,
    "start_time": "2022-05-27T10:03:16.462Z"
   },
   {
    "duration": 43,
    "start_time": "2022-05-27T10:03:16.523Z"
   },
   {
    "duration": 56,
    "start_time": "2022-05-27T10:03:16.568Z"
   },
   {
    "duration": 8,
    "start_time": "2022-05-27T10:03:16.626Z"
   },
   {
    "duration": 82,
    "start_time": "2022-05-27T10:03:16.636Z"
   },
   {
    "duration": 12,
    "start_time": "2022-05-27T10:03:16.719Z"
   },
   {
    "duration": 209,
    "start_time": "2022-05-27T10:03:16.733Z"
   },
   {
    "duration": 6,
    "start_time": "2022-05-27T10:03:16.944Z"
   },
   {
    "duration": 74,
    "start_time": "2022-05-27T10:03:16.952Z"
   },
   {
    "duration": 182,
    "start_time": "2022-05-27T10:03:17.028Z"
   },
   {
    "duration": 193,
    "start_time": "2022-05-27T10:03:17.212Z"
   },
   {
    "duration": 54,
    "start_time": "2022-05-27T10:03:17.408Z"
   },
   {
    "duration": 3,
    "start_time": "2022-05-27T10:03:17.463Z"
   },
   {
    "duration": 403,
    "start_time": "2022-05-27T10:03:17.468Z"
   },
   {
    "duration": 671,
    "start_time": "2022-05-27T10:03:17.872Z"
   },
   {
    "duration": 194,
    "start_time": "2022-05-27T10:03:18.545Z"
   },
   {
    "duration": 422,
    "start_time": "2022-05-27T10:03:18.741Z"
   },
   {
    "duration": 156,
    "start_time": "2022-05-27T10:03:19.165Z"
   },
   {
    "duration": 257,
    "start_time": "2022-05-27T10:04:34.726Z"
   },
   {
    "duration": 26,
    "start_time": "2022-05-27T10:08:24.760Z"
   },
   {
    "duration": 4,
    "start_time": "2022-05-27T10:17:16.769Z"
   },
   {
    "duration": 3,
    "start_time": "2022-05-27T10:19:39.051Z"
   },
   {
    "duration": 14,
    "start_time": "2022-05-27T10:36:10.694Z"
   },
   {
    "duration": 10,
    "start_time": "2022-05-27T10:37:54.276Z"
   },
   {
    "duration": 10,
    "start_time": "2022-05-27T10:38:07.249Z"
   },
   {
    "duration": 4,
    "start_time": "2022-05-27T10:38:42.402Z"
   },
   {
    "duration": 286261,
    "start_time": "2022-05-27T10:38:47.148Z"
   },
   {
    "duration": 0,
    "start_time": "2022-05-27T11:10:12.130Z"
   },
   {
    "duration": 492903,
    "start_time": "2022-05-27T11:10:32.201Z"
   },
   {
    "duration": 9,
    "start_time": "2022-05-27T11:31:48.333Z"
   },
   {
    "duration": 24,
    "start_time": "2022-05-27T11:32:20.346Z"
   },
   {
    "duration": 13,
    "start_time": "2022-05-27T11:32:27.043Z"
   },
   {
    "duration": 4,
    "start_time": "2022-05-27T11:32:47.057Z"
   },
   {
    "duration": 15,
    "start_time": "2022-05-27T11:32:53.522Z"
   },
   {
    "duration": 4,
    "start_time": "2022-05-27T11:34:42.713Z"
   },
   {
    "duration": 14,
    "start_time": "2022-05-27T11:35:19.730Z"
   },
   {
    "duration": 9,
    "start_time": "2022-05-27T11:35:37.975Z"
   },
   {
    "duration": 15,
    "start_time": "2022-05-27T11:35:45.086Z"
   },
   {
    "duration": 0,
    "start_time": "2022-05-27T11:37:14.803Z"
   },
   {
    "duration": 18233,
    "start_time": "2022-05-27T11:37:22.077Z"
   },
   {
    "duration": 16962,
    "start_time": "2022-05-27T11:38:16.654Z"
   },
   {
    "duration": 39,
    "start_time": "2022-05-27T11:42:56.954Z"
   },
   {
    "duration": 16,
    "start_time": "2022-05-27T11:43:05.643Z"
   },
   {
    "duration": 19052,
    "start_time": "2022-05-27T11:43:56.085Z"
   },
   {
    "duration": 0,
    "start_time": "2022-05-27T11:49:36.934Z"
   },
   {
    "duration": 10,
    "start_time": "2022-05-27T11:52:17.662Z"
   },
   {
    "duration": 423,
    "start_time": "2022-05-27T11:52:38.226Z"
   },
   {
    "duration": 1025,
    "start_time": "2022-05-27T11:52:44.406Z"
   },
   {
    "duration": 6,
    "start_time": "2022-05-27T11:54:38.237Z"
   },
   {
    "duration": 16,
    "start_time": "2022-05-27T11:54:47.050Z"
   },
   {
    "duration": 25755,
    "start_time": "2022-05-27T11:55:20.877Z"
   },
   {
    "duration": 25181,
    "start_time": "2022-05-27T11:56:28.782Z"
   },
   {
    "duration": 26294,
    "start_time": "2022-05-27T11:57:15.357Z"
   },
   {
    "duration": 25205,
    "start_time": "2022-05-27T11:58:01.697Z"
   },
   {
    "duration": 119768,
    "start_time": "2022-05-27T12:03:20.861Z"
   },
   {
    "duration": 43,
    "start_time": "2022-05-27T12:33:01.641Z"
   },
   {
    "duration": 15,
    "start_time": "2022-05-27T12:38:19.661Z"
   },
   {
    "duration": 16,
    "start_time": "2022-05-27T12:40:16.555Z"
   },
   {
    "duration": 12,
    "start_time": "2022-05-27T12:42:03.630Z"
   },
   {
    "duration": 5,
    "start_time": "2022-05-27T12:43:21.880Z"
   },
   {
    "duration": 17,
    "start_time": "2022-05-27T12:43:33.748Z"
   },
   {
    "duration": 16,
    "start_time": "2022-05-27T12:44:12.480Z"
   },
   {
    "duration": 11,
    "start_time": "2022-05-27T12:44:47.391Z"
   },
   {
    "duration": 5,
    "start_time": "2022-05-27T12:44:53.549Z"
   },
   {
    "duration": 20,
    "start_time": "2022-05-27T12:45:12.234Z"
   },
   {
    "duration": 15,
    "start_time": "2022-05-27T12:47:09.265Z"
   },
   {
    "duration": 10,
    "start_time": "2022-05-27T12:51:12.700Z"
   },
   {
    "duration": 58,
    "start_time": "2022-05-27T12:53:40.734Z"
   },
   {
    "duration": 8,
    "start_time": "2022-05-27T12:53:54.715Z"
   },
   {
    "duration": 4,
    "start_time": "2022-05-27T12:54:00.182Z"
   },
   {
    "duration": 25,
    "start_time": "2022-05-27T12:55:04.497Z"
   },
   {
    "duration": 5,
    "start_time": "2022-05-27T12:55:31.329Z"
   },
   {
    "duration": 28,
    "start_time": "2022-05-27T12:55:33.510Z"
   },
   {
    "duration": 394556,
    "start_time": "2022-05-27T12:58:10.258Z"
   },
   {
    "duration": 36,
    "start_time": "2022-05-27T13:05:33.786Z"
   },
   {
    "duration": 18,
    "start_time": "2022-05-27T13:05:41.539Z"
   },
   {
    "duration": 14460,
    "start_time": "2022-05-27T13:13:42.759Z"
   },
   {
    "duration": 1747,
    "start_time": "2022-05-27T13:15:15.846Z"
   },
   {
    "duration": 2952,
    "start_time": "2022-05-27T13:15:17.595Z"
   },
   {
    "duration": 19,
    "start_time": "2022-05-27T13:15:20.549Z"
   },
   {
    "duration": 126,
    "start_time": "2022-05-27T13:15:20.575Z"
   },
   {
    "duration": 21,
    "start_time": "2022-05-27T13:15:20.703Z"
   },
   {
    "duration": 157,
    "start_time": "2022-05-27T13:15:20.726Z"
   },
   {
    "duration": 26,
    "start_time": "2022-05-27T13:15:20.884Z"
   },
   {
    "duration": 151,
    "start_time": "2022-05-27T13:15:20.911Z"
   },
   {
    "duration": 18,
    "start_time": "2022-05-27T13:15:21.064Z"
   },
   {
    "duration": 64,
    "start_time": "2022-05-27T13:15:21.085Z"
   },
   {
    "duration": 61,
    "start_time": "2022-05-27T13:15:21.152Z"
   },
   {
    "duration": 40,
    "start_time": "2022-05-27T13:15:21.215Z"
   },
   {
    "duration": 7,
    "start_time": "2022-05-27T13:15:21.258Z"
   },
   {
    "duration": 81,
    "start_time": "2022-05-27T13:15:21.266Z"
   },
   {
    "duration": 12,
    "start_time": "2022-05-27T13:15:21.349Z"
   },
   {
    "duration": 178,
    "start_time": "2022-05-27T13:15:21.363Z"
   },
   {
    "duration": 6,
    "start_time": "2022-05-27T13:15:21.542Z"
   },
   {
    "duration": 69,
    "start_time": "2022-05-27T13:15:21.549Z"
   },
   {
    "duration": 169,
    "start_time": "2022-05-27T13:15:21.620Z"
   },
   {
    "duration": 193,
    "start_time": "2022-05-27T13:15:21.791Z"
   },
   {
    "duration": 61,
    "start_time": "2022-05-27T13:15:21.986Z"
   },
   {
    "duration": 2,
    "start_time": "2022-05-27T13:15:22.049Z"
   },
   {
    "duration": 369,
    "start_time": "2022-05-27T13:15:22.053Z"
   },
   {
    "duration": 589,
    "start_time": "2022-05-27T13:15:22.424Z"
   },
   {
    "duration": 188,
    "start_time": "2022-05-27T13:15:23.015Z"
   },
   {
    "duration": 382,
    "start_time": "2022-05-27T13:15:23.205Z"
   },
   {
    "duration": 216,
    "start_time": "2022-05-27T13:15:23.588Z"
   },
   {
    "duration": 2,
    "start_time": "2022-05-27T13:15:23.808Z"
   },
   {
    "duration": 9,
    "start_time": "2022-05-27T13:15:23.811Z"
   },
   {
    "duration": 131,
    "start_time": "2022-05-27T13:15:23.821Z"
   },
   {
    "duration": 0,
    "start_time": "2022-05-27T13:15:23.954Z"
   },
   {
    "duration": 0,
    "start_time": "2022-05-27T13:15:23.956Z"
   },
   {
    "duration": 540460,
    "start_time": "2022-05-27T13:15:38.647Z"
   },
   {
    "duration": 591042,
    "start_time": "2022-05-27T13:28:10.886Z"
   },
   {
    "duration": 10,
    "start_time": "2022-05-27T13:41:48.818Z"
   },
   {
    "duration": 67508,
    "start_time": "2022-05-27T13:42:59.900Z"
   },
   {
    "duration": 9,
    "start_time": "2022-05-27T13:44:40.474Z"
   },
   {
    "duration": 1231,
    "start_time": "2022-05-27T13:44:53.458Z"
   },
   {
    "duration": 860,
    "start_time": "2022-05-27T13:44:54.691Z"
   },
   {
    "duration": 14,
    "start_time": "2022-05-27T13:44:55.553Z"
   },
   {
    "duration": 119,
    "start_time": "2022-05-27T13:44:55.568Z"
   },
   {
    "duration": 25,
    "start_time": "2022-05-27T13:44:55.689Z"
   },
   {
    "duration": 156,
    "start_time": "2022-05-27T13:44:55.715Z"
   },
   {
    "duration": 20,
    "start_time": "2022-05-27T13:44:55.873Z"
   },
   {
    "duration": 151,
    "start_time": "2022-05-27T13:44:55.902Z"
   },
   {
    "duration": 18,
    "start_time": "2022-05-27T13:44:56.055Z"
   },
   {
    "duration": 49,
    "start_time": "2022-05-27T13:44:56.075Z"
   },
   {
    "duration": 29,
    "start_time": "2022-05-27T13:44:56.125Z"
   },
   {
    "duration": 36,
    "start_time": "2022-05-27T13:44:56.156Z"
   },
   {
    "duration": 5,
    "start_time": "2022-05-27T13:44:56.202Z"
   },
   {
    "duration": 67,
    "start_time": "2022-05-27T13:44:56.210Z"
   },
   {
    "duration": 9,
    "start_time": "2022-05-27T13:44:56.278Z"
   },
   {
    "duration": 158,
    "start_time": "2022-05-27T13:44:56.289Z"
   },
   {
    "duration": 5,
    "start_time": "2022-05-27T13:44:56.448Z"
   },
   {
    "duration": 68,
    "start_time": "2022-05-27T13:44:56.454Z"
   },
   {
    "duration": 149,
    "start_time": "2022-05-27T13:44:56.524Z"
   },
   {
    "duration": 160,
    "start_time": "2022-05-27T13:44:56.674Z"
   },
   {
    "duration": 50,
    "start_time": "2022-05-27T13:44:56.835Z"
   },
   {
    "duration": 16,
    "start_time": "2022-05-27T13:44:56.886Z"
   },
   {
    "duration": 345,
    "start_time": "2022-05-27T13:44:56.904Z"
   },
   {
    "duration": 557,
    "start_time": "2022-05-27T13:44:57.250Z"
   },
   {
    "duration": 179,
    "start_time": "2022-05-27T13:44:57.809Z"
   },
   {
    "duration": 399,
    "start_time": "2022-05-27T13:44:57.989Z"
   },
   {
    "duration": 229,
    "start_time": "2022-05-27T13:44:58.389Z"
   },
   {
    "duration": 2,
    "start_time": "2022-05-27T13:44:58.620Z"
   },
   {
    "duration": 7,
    "start_time": "2022-05-27T13:44:58.623Z"
   },
   {
    "duration": 62474,
    "start_time": "2022-05-27T13:44:58.631Z"
   },
   {
    "duration": 13,
    "start_time": "2022-05-27T13:49:58.368Z"
   },
   {
    "duration": 1296,
    "start_time": "2022-05-27T13:56:42.851Z"
   },
   {
    "duration": 985,
    "start_time": "2022-05-27T13:56:44.149Z"
   },
   {
    "duration": 16,
    "start_time": "2022-05-27T13:56:45.135Z"
   },
   {
    "duration": 154,
    "start_time": "2022-05-27T13:56:45.153Z"
   },
   {
    "duration": 29,
    "start_time": "2022-05-27T13:56:45.309Z"
   },
   {
    "duration": 195,
    "start_time": "2022-05-27T13:56:45.340Z"
   },
   {
    "duration": 19,
    "start_time": "2022-05-27T13:56:45.537Z"
   },
   {
    "duration": 169,
    "start_time": "2022-05-27T13:56:45.558Z"
   },
   {
    "duration": 19,
    "start_time": "2022-05-27T13:56:45.729Z"
   },
   {
    "duration": 52,
    "start_time": "2022-05-27T13:56:45.751Z"
   },
   {
    "duration": 39,
    "start_time": "2022-05-27T13:56:45.804Z"
   },
   {
    "duration": 67,
    "start_time": "2022-05-27T13:56:45.845Z"
   },
   {
    "duration": 7,
    "start_time": "2022-05-27T13:56:45.914Z"
   },
   {
    "duration": 55,
    "start_time": "2022-05-27T13:56:45.922Z"
   },
   {
    "duration": 9,
    "start_time": "2022-05-27T13:56:45.978Z"
   },
   {
    "duration": 189,
    "start_time": "2022-05-27T13:56:45.988Z"
   },
   {
    "duration": 5,
    "start_time": "2022-05-27T13:56:46.179Z"
   },
   {
    "duration": 69,
    "start_time": "2022-05-27T13:56:46.186Z"
   },
   {
    "duration": 169,
    "start_time": "2022-05-27T13:56:46.257Z"
   },
   {
    "duration": 189,
    "start_time": "2022-05-27T13:56:46.427Z"
   },
   {
    "duration": 52,
    "start_time": "2022-05-27T13:56:46.618Z"
   },
   {
    "duration": 3,
    "start_time": "2022-05-27T13:56:46.671Z"
   },
   {
    "duration": 380,
    "start_time": "2022-05-27T13:56:46.675Z"
   },
   {
    "duration": 627,
    "start_time": "2022-05-27T13:56:47.057Z"
   },
   {
    "duration": 182,
    "start_time": "2022-05-27T13:56:47.686Z"
   },
   {
    "duration": 414,
    "start_time": "2022-05-27T13:56:47.870Z"
   },
   {
    "duration": 268,
    "start_time": "2022-05-27T13:56:48.286Z"
   },
   {
    "duration": 3,
    "start_time": "2022-05-27T13:56:48.556Z"
   },
   {
    "duration": 6,
    "start_time": "2022-05-27T13:56:48.560Z"
   },
   {
    "duration": 119248,
    "start_time": "2022-05-27T13:56:48.567Z"
   },
   {
    "duration": 4,
    "start_time": "2022-05-27T13:58:47.902Z"
   },
   {
    "duration": 39,
    "start_time": "2022-05-27T13:58:47.908Z"
   },
   {
    "duration": 36,
    "start_time": "2022-05-27T14:04:18.852Z"
   },
   {
    "duration": 2179216,
    "start_time": "2022-05-27T14:04:26.708Z"
   },
   {
    "duration": 170,
    "start_time": "2022-05-27T14:40:45.926Z"
   },
   {
    "duration": 77896,
    "start_time": "2022-05-27T14:59:56.506Z"
   },
   {
    "duration": 14,
    "start_time": "2022-05-27T15:04:40.057Z"
   },
   {
    "duration": 29,
    "start_time": "2022-05-27T15:05:02.438Z"
   },
   {
    "duration": 9,
    "start_time": "2022-05-27T15:05:23.727Z"
   },
   {
    "duration": 66,
    "start_time": "2022-05-30T09:36:49.240Z"
   },
   {
    "duration": 1751,
    "start_time": "2022-05-30T09:37:15.703Z"
   },
   {
    "duration": 1482,
    "start_time": "2022-05-30T09:37:17.457Z"
   },
   {
    "duration": 20,
    "start_time": "2022-05-30T09:37:18.941Z"
   },
   {
    "duration": 289,
    "start_time": "2022-05-30T09:37:18.963Z"
   },
   {
    "duration": 46,
    "start_time": "2022-05-30T09:37:19.256Z"
   },
   {
    "duration": 275,
    "start_time": "2022-05-30T09:37:19.303Z"
   },
   {
    "duration": 19,
    "start_time": "2022-05-30T09:37:19.579Z"
   },
   {
    "duration": 61,
    "start_time": "2022-05-30T09:37:19.600Z"
   },
   {
    "duration": 41,
    "start_time": "2022-05-30T09:37:19.663Z"
   },
   {
    "duration": 51,
    "start_time": "2022-05-30T09:37:19.705Z"
   },
   {
    "duration": 11,
    "start_time": "2022-05-30T09:37:19.759Z"
   },
   {
    "duration": 81,
    "start_time": "2022-05-30T09:37:19.772Z"
   },
   {
    "duration": 11,
    "start_time": "2022-05-30T09:37:19.855Z"
   },
   {
    "duration": 338,
    "start_time": "2022-05-30T09:37:19.871Z"
   },
   {
    "duration": 0,
    "start_time": "2022-05-30T09:37:20.212Z"
   },
   {
    "duration": 0,
    "start_time": "2022-05-30T09:37:20.213Z"
   },
   {
    "duration": 0,
    "start_time": "2022-05-30T09:37:20.215Z"
   },
   {
    "duration": 0,
    "start_time": "2022-05-30T09:37:20.217Z"
   },
   {
    "duration": 0,
    "start_time": "2022-05-30T09:37:20.234Z"
   },
   {
    "duration": 0,
    "start_time": "2022-05-30T09:37:20.235Z"
   },
   {
    "duration": 0,
    "start_time": "2022-05-30T09:37:20.238Z"
   },
   {
    "duration": 1,
    "start_time": "2022-05-30T09:37:20.239Z"
   },
   {
    "duration": 0,
    "start_time": "2022-05-30T09:37:20.241Z"
   },
   {
    "duration": 0,
    "start_time": "2022-05-30T09:37:20.242Z"
   },
   {
    "duration": 0,
    "start_time": "2022-05-30T09:37:20.244Z"
   },
   {
    "duration": 0,
    "start_time": "2022-05-30T09:37:20.245Z"
   },
   {
    "duration": 0,
    "start_time": "2022-05-30T09:37:20.247Z"
   },
   {
    "duration": 0,
    "start_time": "2022-05-30T09:37:20.248Z"
   },
   {
    "duration": 0,
    "start_time": "2022-05-30T09:37:20.250Z"
   },
   {
    "duration": 0,
    "start_time": "2022-05-30T09:37:20.251Z"
   },
   {
    "duration": 0,
    "start_time": "2022-05-30T09:37:20.252Z"
   },
   {
    "duration": 0,
    "start_time": "2022-05-30T09:37:20.253Z"
   },
   {
    "duration": 0,
    "start_time": "2022-05-30T09:37:20.255Z"
   },
   {
    "duration": 0,
    "start_time": "2022-05-30T09:37:20.256Z"
   },
   {
    "duration": 0,
    "start_time": "2022-05-30T09:37:20.257Z"
   },
   {
    "duration": 0,
    "start_time": "2022-05-30T09:37:20.258Z"
   },
   {
    "duration": 0,
    "start_time": "2022-05-30T09:37:20.259Z"
   },
   {
    "duration": 0,
    "start_time": "2022-05-30T09:37:20.261Z"
   },
   {
    "duration": 0,
    "start_time": "2022-05-30T09:37:20.262Z"
   },
   {
    "duration": 0,
    "start_time": "2022-05-30T09:37:20.263Z"
   },
   {
    "duration": 15,
    "start_time": "2022-05-30T09:48:53.120Z"
   },
   {
    "duration": 19,
    "start_time": "2022-05-30T09:49:54.691Z"
   },
   {
    "duration": 184,
    "start_time": "2022-05-30T09:49:58.694Z"
   },
   {
    "duration": 6,
    "start_time": "2022-05-30T09:50:15.153Z"
   },
   {
    "duration": 77,
    "start_time": "2022-05-30T09:50:17.119Z"
   },
   {
    "duration": 196,
    "start_time": "2022-05-30T09:50:39.278Z"
   },
   {
    "duration": 202,
    "start_time": "2022-05-30T09:51:06.659Z"
   },
   {
    "duration": 63,
    "start_time": "2022-05-30T09:51:11.879Z"
   },
   {
    "duration": 140,
    "start_time": "2022-05-30T09:52:26.556Z"
   },
   {
    "duration": 58,
    "start_time": "2022-05-30T09:53:08.341Z"
   },
   {
    "duration": 3,
    "start_time": "2022-05-30T09:53:38.282Z"
   },
   {
    "duration": 7,
    "start_time": "2022-05-30T09:54:01.684Z"
   },
   {
    "duration": 38,
    "start_time": "2022-05-30T09:58:57.326Z"
   },
   {
    "duration": 14,
    "start_time": "2022-05-30T09:59:10.482Z"
   },
   {
    "duration": 298,
    "start_time": "2022-05-30T10:00:03.675Z"
   },
   {
    "duration": 234,
    "start_time": "2022-05-30T10:00:28.316Z"
   },
   {
    "duration": 93,
    "start_time": "2022-05-30T10:00:42.696Z"
   },
   {
    "duration": 15,
    "start_time": "2022-05-30T10:00:50.341Z"
   },
   {
    "duration": 19,
    "start_time": "2022-05-30T10:01:08.520Z"
   },
   {
    "duration": 109,
    "start_time": "2022-05-30T10:01:15.162Z"
   },
   {
    "duration": 238,
    "start_time": "2022-05-30T10:03:50.385Z"
   },
   {
    "duration": 39,
    "start_time": "2022-05-30T10:07:39.707Z"
   },
   {
    "duration": 43,
    "start_time": "2022-05-30T10:07:47.096Z"
   },
   {
    "duration": 175,
    "start_time": "2022-05-30T10:08:13.919Z"
   },
   {
    "duration": 288,
    "start_time": "2022-05-30T10:09:36.322Z"
   },
   {
    "duration": 46,
    "start_time": "2022-05-30T10:10:00.797Z"
   },
   {
    "duration": 11,
    "start_time": "2022-05-30T10:19:44.651Z"
   },
   {
    "duration": 160,
    "start_time": "2022-05-30T10:19:47.266Z"
   },
   {
    "duration": 153,
    "start_time": "2022-05-30T10:20:06.715Z"
   },
   {
    "duration": 28,
    "start_time": "2022-05-30T10:24:21.113Z"
   },
   {
    "duration": 7,
    "start_time": "2022-05-30T10:31:04.565Z"
   },
   {
    "duration": 136,
    "start_time": "2022-05-30T10:31:06.917Z"
   },
   {
    "duration": 6,
    "start_time": "2022-05-30T10:32:41.052Z"
   },
   {
    "duration": 29,
    "start_time": "2022-05-30T10:34:23.040Z"
   },
   {
    "duration": 4,
    "start_time": "2022-05-30T10:41:16.765Z"
   },
   {
    "duration": 18,
    "start_time": "2022-05-30T10:42:41.440Z"
   },
   {
    "duration": 23,
    "start_time": "2022-05-30T10:52:11.516Z"
   },
   {
    "duration": 17,
    "start_time": "2022-05-30T10:56:43.234Z"
   },
   {
    "duration": 14,
    "start_time": "2022-05-30T10:56:51.901Z"
   },
   {
    "duration": 8,
    "start_time": "2022-05-30T10:57:25.095Z"
   },
   {
    "duration": 8,
    "start_time": "2022-05-30T10:58:21.628Z"
   },
   {
    "duration": 10,
    "start_time": "2022-05-30T10:58:28.673Z"
   },
   {
    "duration": 24,
    "start_time": "2022-05-30T11:00:23.978Z"
   },
   {
    "duration": 19,
    "start_time": "2022-05-30T11:13:59.455Z"
   },
   {
    "duration": 19,
    "start_time": "2022-05-30T11:15:15.051Z"
   },
   {
    "duration": 13,
    "start_time": "2022-05-30T11:15:58.478Z"
   },
   {
    "duration": 31,
    "start_time": "2022-05-30T11:16:05.840Z"
   },
   {
    "duration": 38,
    "start_time": "2022-05-30T11:17:29.914Z"
   },
   {
    "duration": 18,
    "start_time": "2022-05-30T11:21:38.115Z"
   },
   {
    "duration": 44,
    "start_time": "2022-05-30T11:22:00.395Z"
   },
   {
    "duration": 30,
    "start_time": "2022-05-30T11:22:18.709Z"
   },
   {
    "duration": 4,
    "start_time": "2022-05-30T11:23:57.356Z"
   },
   {
    "duration": 11,
    "start_time": "2022-05-30T11:25:00.872Z"
   },
   {
    "duration": 1853,
    "start_time": "2022-05-30T11:25:06.560Z"
   },
   {
    "duration": 1309,
    "start_time": "2022-05-30T11:25:08.415Z"
   },
   {
    "duration": 29,
    "start_time": "2022-05-30T11:25:09.727Z"
   },
   {
    "duration": 158,
    "start_time": "2022-05-30T11:25:09.758Z"
   },
   {
    "duration": 57,
    "start_time": "2022-05-30T11:25:09.919Z"
   },
   {
    "duration": 300,
    "start_time": "2022-05-30T11:25:09.978Z"
   },
   {
    "duration": 23,
    "start_time": "2022-05-30T11:25:10.280Z"
   },
   {
    "duration": 108,
    "start_time": "2022-05-30T11:25:10.304Z"
   },
   {
    "duration": 58,
    "start_time": "2022-05-30T11:25:10.414Z"
   },
   {
    "duration": 39,
    "start_time": "2022-05-30T11:25:10.474Z"
   },
   {
    "duration": 25,
    "start_time": "2022-05-30T11:25:10.515Z"
   },
   {
    "duration": 81,
    "start_time": "2022-05-30T11:25:10.544Z"
   },
   {
    "duration": 11,
    "start_time": "2022-05-30T11:25:10.627Z"
   },
   {
    "duration": 308,
    "start_time": "2022-05-30T11:25:10.643Z"
   },
   {
    "duration": 7,
    "start_time": "2022-05-30T11:25:10.954Z"
   },
   {
    "duration": 73,
    "start_time": "2022-05-30T11:25:10.963Z"
   },
   {
    "duration": 164,
    "start_time": "2022-05-30T11:25:11.038Z"
   },
   {
    "duration": 223,
    "start_time": "2022-05-30T11:25:11.204Z"
   },
   {
    "duration": 57,
    "start_time": "2022-05-30T11:25:11.439Z"
   },
   {
    "duration": 163,
    "start_time": "2022-05-30T11:25:11.498Z"
   },
   {
    "duration": 121,
    "start_time": "2022-05-30T11:25:11.663Z"
   },
   {
    "duration": 187,
    "start_time": "2022-05-30T11:25:11.786Z"
   },
   {
    "duration": 3008,
    "start_time": "2022-05-30T11:25:11.975Z"
   },
   {
    "duration": 364,
    "start_time": "2022-05-30T11:25:14.985Z"
   },
   {
    "duration": 26,
    "start_time": "2022-05-30T11:25:15.351Z"
   },
   {
    "duration": 18,
    "start_time": "2022-05-30T11:25:15.379Z"
   },
   {
    "duration": 47,
    "start_time": "2022-05-30T11:25:15.398Z"
   },
   {
    "duration": 19,
    "start_time": "2022-05-30T11:25:15.447Z"
   },
   {
    "duration": 14,
    "start_time": "2022-05-30T11:25:15.468Z"
   },
   {
    "duration": 28,
    "start_time": "2022-05-30T11:25:15.484Z"
   },
   {
    "duration": 34277,
    "start_time": "2022-05-30T11:25:15.514Z"
   },
   {
    "duration": 2,
    "start_time": "2022-05-30T11:25:49.793Z"
   },
   {
    "duration": 1051,
    "start_time": "2022-05-30T11:25:49.798Z"
   },
   {
    "duration": 200,
    "start_time": "2022-05-30T11:25:50.851Z"
   },
   {
    "duration": 1738,
    "start_time": "2022-05-30T11:27:16.227Z"
   },
   {
    "duration": 1199,
    "start_time": "2022-05-30T11:27:17.967Z"
   },
   {
    "duration": 22,
    "start_time": "2022-05-30T11:27:19.168Z"
   },
   {
    "duration": 213,
    "start_time": "2022-05-30T11:27:19.192Z"
   },
   {
    "duration": 64,
    "start_time": "2022-05-30T11:27:19.407Z"
   },
   {
    "duration": 291,
    "start_time": "2022-05-30T11:27:19.473Z"
   },
   {
    "duration": 20,
    "start_time": "2022-05-30T11:27:19.767Z"
   },
   {
    "duration": 83,
    "start_time": "2022-05-30T11:27:19.788Z"
   },
   {
    "duration": 44,
    "start_time": "2022-05-30T11:27:19.873Z"
   },
   {
    "duration": 60,
    "start_time": "2022-05-30T11:27:19.919Z"
   },
   {
    "duration": 5,
    "start_time": "2022-05-30T11:27:19.981Z"
   },
   {
    "duration": 105,
    "start_time": "2022-05-30T11:27:19.988Z"
   },
   {
    "duration": 11,
    "start_time": "2022-05-30T11:27:20.095Z"
   },
   {
    "duration": 266,
    "start_time": "2022-05-30T11:27:20.110Z"
   },
   {
    "duration": 9,
    "start_time": "2022-05-30T11:27:20.378Z"
   },
   {
    "duration": 104,
    "start_time": "2022-05-30T11:27:20.389Z"
   },
   {
    "duration": 206,
    "start_time": "2022-05-30T11:27:20.495Z"
   },
   {
    "duration": 224,
    "start_time": "2022-05-30T11:27:20.704Z"
   },
   {
    "duration": 67,
    "start_time": "2022-05-30T11:27:20.930Z"
   },
   {
    "duration": 186,
    "start_time": "2022-05-30T11:27:20.999Z"
   },
   {
    "duration": 161,
    "start_time": "2022-05-30T11:27:21.187Z"
   },
   {
    "duration": 243,
    "start_time": "2022-05-30T11:27:21.350Z"
   },
   {
    "duration": 12140,
    "start_time": "2022-05-30T11:27:21.594Z"
   },
   {
    "duration": 650,
    "start_time": "2022-05-30T11:27:33.736Z"
   },
   {
    "duration": 632,
    "start_time": "2022-05-30T11:27:34.388Z"
   },
   {
    "duration": 25,
    "start_time": "2022-05-30T11:27:35.021Z"
   },
   {
    "duration": 635,
    "start_time": "2022-05-30T11:27:35.047Z"
   },
   {
    "duration": 187,
    "start_time": "2022-05-30T11:27:35.683Z"
   },
   {
    "duration": 447,
    "start_time": "2022-05-30T11:27:35.872Z"
   },
   {
    "duration": 275,
    "start_time": "2022-05-30T11:27:36.322Z"
   },
   {
    "duration": 338211,
    "start_time": "2022-05-30T11:27:36.599Z"
   },
   {
    "duration": 12,
    "start_time": "2022-05-30T11:33:14.811Z"
   },
   {
    "duration": 167817,
    "start_time": "2022-05-30T11:33:14.826Z"
   },
   {
    "duration": 52385,
    "start_time": "2022-05-30T11:36:02.645Z"
   },
   {
    "duration": 1486618,
    "start_time": "2022-05-30T11:36:55.032Z"
   },
   {
    "duration": 37,
    "start_time": "2022-05-30T12:01:41.652Z"
   },
   {
    "duration": 4,
    "start_time": "2022-05-30T12:01:41.690Z"
   },
   {
    "duration": 41163,
    "start_time": "2022-05-30T12:01:41.695Z"
   },
   {
    "duration": 0,
    "start_time": "2022-05-30T12:02:22.860Z"
   },
   {
    "duration": 0,
    "start_time": "2022-05-30T12:02:22.861Z"
   },
   {
    "duration": 0,
    "start_time": "2022-05-30T12:02:22.862Z"
   },
   {
    "duration": 0,
    "start_time": "2022-05-30T12:02:22.863Z"
   },
   {
    "duration": 0,
    "start_time": "2022-05-30T12:02:22.864Z"
   },
   {
    "duration": 13,
    "start_time": "2022-05-30T12:21:57.230Z"
   },
   {
    "duration": 5,
    "start_time": "2022-05-30T12:22:03.358Z"
   },
   {
    "duration": 3,
    "start_time": "2022-05-30T12:22:17.317Z"
   },
   {
    "duration": 47651,
    "start_time": "2022-05-30T12:23:34.682Z"
   },
   {
    "duration": 48890,
    "start_time": "2022-05-30T12:25:29.941Z"
   },
   {
    "duration": 548,
    "start_time": "2022-05-30T12:31:14.877Z"
   },
   {
    "duration": 499,
    "start_time": "2022-05-30T12:31:41.680Z"
   },
   {
    "duration": 22,
    "start_time": "2022-05-30T12:40:21.615Z"
   },
   {
    "duration": 11,
    "start_time": "2022-05-30T12:40:41.183Z"
   },
   {
    "duration": 537,
    "start_time": "2022-05-30T12:40:54.885Z"
   },
   {
    "duration": 583,
    "start_time": "2022-05-30T12:41:04.643Z"
   },
   {
    "duration": 568,
    "start_time": "2022-05-30T12:41:54.520Z"
   },
   {
    "duration": 586,
    "start_time": "2022-05-30T12:42:00.856Z"
   },
   {
    "duration": 553,
    "start_time": "2022-05-30T12:42:58.262Z"
   },
   {
    "duration": 634,
    "start_time": "2022-05-30T12:43:03.173Z"
   },
   {
    "duration": 12,
    "start_time": "2022-05-30T12:45:26.664Z"
   },
   {
    "duration": 10,
    "start_time": "2022-05-30T12:48:30.379Z"
   },
   {
    "duration": 3,
    "start_time": "2022-05-30T12:49:47.715Z"
   },
   {
    "duration": 57,
    "start_time": "2022-05-30T16:08:50.545Z"
   },
   {
    "duration": 1491,
    "start_time": "2022-05-30T16:10:16.220Z"
   },
   {
    "duration": 1103,
    "start_time": "2022-05-30T16:10:17.713Z"
   },
   {
    "duration": 15,
    "start_time": "2022-05-30T16:10:18.817Z"
   },
   {
    "duration": 101,
    "start_time": "2022-05-30T16:10:18.834Z"
   },
   {
    "duration": 36,
    "start_time": "2022-05-30T16:10:18.937Z"
   },
   {
    "duration": 164,
    "start_time": "2022-05-30T16:10:18.975Z"
   },
   {
    "duration": 22,
    "start_time": "2022-05-30T16:10:19.141Z"
   },
   {
    "duration": 37,
    "start_time": "2022-05-30T16:10:19.165Z"
   },
   {
    "duration": 28,
    "start_time": "2022-05-30T16:10:19.204Z"
   },
   {
    "duration": 29,
    "start_time": "2022-05-30T16:10:19.253Z"
   },
   {
    "duration": 5,
    "start_time": "2022-05-30T16:10:19.284Z"
   },
   {
    "duration": 74,
    "start_time": "2022-05-30T16:10:19.290Z"
   },
   {
    "duration": 12,
    "start_time": "2022-05-30T16:10:19.366Z"
   },
   {
    "duration": 183,
    "start_time": "2022-05-30T16:10:19.380Z"
   },
   {
    "duration": 6,
    "start_time": "2022-05-30T16:10:19.564Z"
   },
   {
    "duration": 70,
    "start_time": "2022-05-30T16:10:19.571Z"
   },
   {
    "duration": 166,
    "start_time": "2022-05-30T16:10:19.643Z"
   },
   {
    "duration": 187,
    "start_time": "2022-05-30T16:10:19.811Z"
   },
   {
    "duration": 60,
    "start_time": "2022-05-30T16:10:19.999Z"
   },
   {
    "duration": 156,
    "start_time": "2022-05-30T16:10:20.061Z"
   },
   {
    "duration": 110,
    "start_time": "2022-05-30T16:10:20.218Z"
   },
   {
    "duration": 194,
    "start_time": "2022-05-30T16:10:20.330Z"
   },
   {
    "duration": 10315,
    "start_time": "2022-05-30T16:10:20.525Z"
   },
   {
    "duration": 547,
    "start_time": "2022-05-30T16:10:30.841Z"
   },
   {
    "duration": 589,
    "start_time": "2022-05-30T16:10:31.390Z"
   },
   {
    "duration": 180,
    "start_time": "2022-05-30T16:10:31.981Z"
   },
   {
    "duration": 366,
    "start_time": "2022-05-30T16:10:32.163Z"
   },
   {
    "duration": 208,
    "start_time": "2022-05-30T16:10:32.533Z"
   },
   {
    "duration": 318002,
    "start_time": "2022-05-30T16:10:32.743Z"
   },
   {
    "duration": 5,
    "start_time": "2022-05-30T16:15:50.747Z"
   },
   {
    "duration": 56900,
    "start_time": "2022-05-30T16:15:50.753Z"
   },
   {
    "duration": 13704,
    "start_time": "2022-05-30T16:16:47.655Z"
   },
   {
    "duration": 153817,
    "start_time": "2022-05-30T16:17:01.451Z"
   },
   {
    "duration": 94,
    "start_time": "2022-05-30T16:19:35.270Z"
   },
   {
    "duration": 4,
    "start_time": "2022-05-30T16:19:35.367Z"
   },
   {
    "duration": 10,
    "start_time": "2022-05-30T16:19:35.373Z"
   },
   {
    "duration": 21779,
    "start_time": "2022-05-30T16:19:35.385Z"
   },
   {
    "duration": 8799,
    "start_time": "2022-05-30T16:19:57.253Z"
   },
   {
    "duration": 19701,
    "start_time": "2022-05-30T16:20:06.054Z"
   },
   {
    "duration": 0,
    "start_time": "2022-05-30T16:20:25.756Z"
   },
   {
    "duration": 0,
    "start_time": "2022-05-30T16:20:25.757Z"
   },
   {
    "duration": 0,
    "start_time": "2022-05-30T16:20:25.758Z"
   },
   {
    "duration": 3685,
    "start_time": "2022-05-30T16:21:10.579Z"
   },
   {
    "duration": 282912,
    "start_time": "2022-05-30T16:21:51.956Z"
   },
   {
    "duration": 37224,
    "start_time": "2022-05-30T16:27:57.735Z"
   },
   {
    "duration": 2444778,
    "start_time": "2022-05-30T16:28:46.607Z"
   },
   {
    "duration": 176823,
    "start_time": "2022-05-30T17:12:30.440Z"
   },
   {
    "duration": 39013,
    "start_time": "2022-05-30T17:18:03.001Z"
   },
   {
    "duration": 392080,
    "start_time": "2022-05-30T17:18:42.016Z"
   },
   {
    "duration": 2227155,
    "start_time": "2022-05-30T17:28:18.578Z"
   },
   {
    "duration": 40257,
    "start_time": "2022-05-30T18:06:00.907Z"
   },
   {
    "duration": 52735,
    "start_time": "2022-05-30T18:06:46.225Z"
   },
   {
    "duration": 12,
    "start_time": "2022-05-30T18:07:45.686Z"
   },
   {
    "duration": 1339,
    "start_time": "2022-05-30T18:08:32.324Z"
   },
   {
    "duration": 1108,
    "start_time": "2022-05-30T18:08:33.665Z"
   },
   {
    "duration": 18,
    "start_time": "2022-05-30T18:08:34.775Z"
   },
   {
    "duration": 134,
    "start_time": "2022-05-30T18:08:34.796Z"
   },
   {
    "duration": 37,
    "start_time": "2022-05-30T18:08:34.932Z"
   },
   {
    "duration": 228,
    "start_time": "2022-05-30T18:08:34.971Z"
   },
   {
    "duration": 35,
    "start_time": "2022-05-30T18:08:35.202Z"
   },
   {
    "duration": 74,
    "start_time": "2022-05-30T18:08:35.251Z"
   },
   {
    "duration": 54,
    "start_time": "2022-05-30T18:08:35.329Z"
   },
   {
    "duration": 52,
    "start_time": "2022-05-30T18:08:35.386Z"
   },
   {
    "duration": 17,
    "start_time": "2022-05-30T18:08:35.440Z"
   },
   {
    "duration": 80,
    "start_time": "2022-05-30T18:08:35.459Z"
   },
   {
    "duration": 12,
    "start_time": "2022-05-30T18:08:35.540Z"
   },
   {
    "duration": 203,
    "start_time": "2022-05-30T18:08:35.553Z"
   },
   {
    "duration": 6,
    "start_time": "2022-05-30T18:08:35.759Z"
   },
   {
    "duration": 89,
    "start_time": "2022-05-30T18:08:35.767Z"
   },
   {
    "duration": 175,
    "start_time": "2022-05-30T18:08:35.858Z"
   },
   {
    "duration": 185,
    "start_time": "2022-05-30T18:08:36.035Z"
   },
   {
    "duration": 59,
    "start_time": "2022-05-30T18:08:36.222Z"
   },
   {
    "duration": 131,
    "start_time": "2022-05-30T18:08:36.285Z"
   },
   {
    "duration": 99,
    "start_time": "2022-05-30T18:08:36.418Z"
   },
   {
    "duration": 197,
    "start_time": "2022-05-30T18:08:36.518Z"
   },
   {
    "duration": 10464,
    "start_time": "2022-05-30T18:08:36.716Z"
   },
   {
    "duration": 595,
    "start_time": "2022-05-30T18:08:47.181Z"
   },
   {
    "duration": 622,
    "start_time": "2022-05-30T18:08:47.778Z"
   },
   {
    "duration": 179,
    "start_time": "2022-05-30T18:08:48.402Z"
   },
   {
    "duration": 369,
    "start_time": "2022-05-30T18:08:48.583Z"
   },
   {
    "duration": 201,
    "start_time": "2022-05-30T18:08:48.956Z"
   },
   {
    "duration": 214559,
    "start_time": "2022-05-30T18:08:49.159Z"
   },
   {
    "duration": 2156883,
    "start_time": "2022-05-30T18:12:23.720Z"
   },
   {
    "duration": 211865,
    "start_time": "2022-05-30T18:48:20.605Z"
   },
   {
    "duration": 58799,
    "start_time": "2022-05-30T18:51:52.472Z"
   },
   {
    "duration": 309113,
    "start_time": "2022-05-30T18:52:51.354Z"
   },
   {
    "duration": 35,
    "start_time": "2022-05-30T18:58:00.553Z"
   },
   {
    "duration": 4,
    "start_time": "2022-05-30T18:58:00.589Z"
   },
   {
    "duration": 18465,
    "start_time": "2022-05-30T18:58:00.594Z"
   },
   {
    "duration": 7305,
    "start_time": "2022-05-30T18:58:19.061Z"
   },
   {
    "duration": 36259,
    "start_time": "2022-05-30T18:58:26.368Z"
   },
   {
    "duration": 44088,
    "start_time": "2022-05-30T18:59:02.628Z"
   },
   {
    "duration": 32632,
    "start_time": "2022-05-30T18:59:46.717Z"
   },
   {
    "duration": 10,
    "start_time": "2022-05-30T19:00:19.351Z"
   }
  ],
  "kernelspec": {
   "display_name": "Python 3 (ipykernel)",
   "language": "python",
   "name": "python3"
  },
  "language_info": {
   "codemirror_mode": {
    "name": "ipython",
    "version": 3
   },
   "file_extension": ".py",
   "mimetype": "text/x-python",
   "name": "python",
   "nbconvert_exporter": "python",
   "pygments_lexer": "ipython3",
   "version": "3.9.12"
  },
  "toc": {
   "base_numbering": 1,
   "nav_menu": {},
   "number_sections": true,
   "sideBar": true,
   "skip_h1_title": true,
   "title_cell": "Table of Contents",
   "title_sidebar": "Contents",
   "toc_cell": false,
   "toc_position": {
    "height": "calc(100% - 180px)",
    "left": "10px",
    "top": "150px",
    "width": "270.391px"
   },
   "toc_section_display": true,
   "toc_window_display": true
  }
 },
 "nbformat": 4,
 "nbformat_minor": 2
}

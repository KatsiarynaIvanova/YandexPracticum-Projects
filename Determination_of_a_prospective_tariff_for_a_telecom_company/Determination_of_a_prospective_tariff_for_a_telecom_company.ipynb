{
 "cells": [
  {
   "cell_type": "markdown",
   "metadata": {},
   "source": [
    "# Определение перспективного тарифа для телеком-компании"
   ]
  },
  {
   "cell_type": "markdown",
   "metadata": {},
   "source": [
    "## Описание проекта"
   ]
  },
  {
   "cell_type": "markdown",
   "metadata": {},
   "source": [
    "Заказчик - федеральный оператор сотовой связи. Клиентам предлагают два тарифных плана: «Смарт» и «Ультра».\n",
    "\n",
    "**Цель**\n",
    "* Cделать предварительный анализ тарифов и определить какой тариф лучше.\n",
    "\n",
    " **Описание тарифов:**\n",
    " \n",
    "Тариф «Смарт»\n",
    "* Ежемесячная плата: 550 рублей\n",
    "* Включено 500 минут разговора, 50 сообщений и 15 Гб интернет-трафика\n",
    "* Стоимость услуг сверх тарифного пакета:\n",
    "    минута разговора: 3 рубля\n",
    "    сообщение: 3 рубля\n",
    "    1 Гб интернет-трафика: 200 рублей\n",
    "    \n",
    "    \n",
    "Тариф «Ультра»\n",
    "* Ежемесячная плата: 1950 рублей\n",
    "* Включено 3000 минут разговора, 1000 сообщений и 30 Гб интернет-трафика\n",
    "* Стоимость услуг сверх тарифного пакета:\n",
    "  минута разговора: 1 рубль\n",
    "  сообщение: 1 рубль\n",
    "  1 Гб интернет-трафика: 150 рублей\n",
    " \n",
    "Описание данных\n",
    "\n",
    "Таблица users (информация о пользователях):\n",
    "\n",
    "* `user_id` — уникальный идентификатор пользователя\n",
    "* `first_name` — имя пользователя\n",
    "* `last_name` — фамилия пользователя\n",
    "* `age` — возраст пользователя (годы)\n",
    "* `reg_date` — дата подключения тарифа (день, месяц, год)\n",
    "* `churn_date` — дата прекращения пользования тарифом (если значение пропущено, то тариф ещё действовал на момент выгрузки данных)\n",
    "* `city` — город проживания пользователя\n",
    "* `tarif` — название тарифного плана\n",
    "\n",
    "Таблица calls (информация о звонках):\n",
    "\n",
    "* `id` — уникальный номер звонка\n",
    "* `call_date` — дата звонка\n",
    "* `duration` — длительность звонка в минутах\n",
    "* `user_id` — идентификатор пользователя, сделавшего звонок\n",
    "\n",
    "Таблица messages (информация о сообщениях):\n",
    "\n",
    "* `id` — уникальный номер сообщения\n",
    "* `message_date` — дата сообщения\n",
    "* `user_id` — идентификатор пользователя, отправившего сообщение\n",
    "\n",
    "Таблица internet (информация об интернет-сессиях):\n",
    "\n",
    "* `id` — уникальный номер сессии\n",
    "* `mb_used` — объём потраченного за сессию интернет-трафика (в мегабайтах)\n",
    "* `session_date` — дата интернет-сессии\n",
    "* `user_id` — идентификатор пользователя\n",
    "\n",
    "Таблица tariffs (информация о тарифах):\n",
    "\n",
    "* `tariff_name` — название тарифа\n",
    "* `rub_monthly_fee` — ежемесячная абонентская плата в рублях\n",
    "* `minutes_included` — количество минут разговора в месяц, включённых в абонентскую плату\n",
    "* `messages_included` — количество сообщений в месяц, включённых в абонентскую плату\n",
    "* `mb_per_month_included` — объём интернет-трафика, включённого в абонентскую плату (в мегабайтах)\n",
    "* `rub_per_minute` — стоимость минуты разговора сверх тарифного пакета (например, если в тарифе 100 минут разговора в месяц, то со 101 минуты будет взиматься плата)\n",
    "* `rub_per_message` — стоимость отправки сообщения сверх тарифного пакета\n",
    "* `rub_per_gb` — стоимость дополнительного гигабайта интернет-трафика сверх тарифного пакета (1 гигабайт = 1024 мегабайта)"
   ]
  },
  {
   "cell_type": "markdown",
   "metadata": {},
   "source": [
    "## Общая информация"
   ]
  },
  {
   "cell_type": "code",
   "execution_count": 1,
   "metadata": {},
   "outputs": [],
   "source": [
    "# импортируем все необходимые для работы библиотеки\n",
    "import pandas as pd\n",
    "import numpy as np\n",
    "import scipy\n",
    "from scipy import stats as st\n",
    "import matplotlib.pyplot as plt\n",
    "import seaborn as sns"
   ]
  },
  {
   "cell_type": "code",
   "execution_count": 2,
   "metadata": {},
   "outputs": [
    {
     "data": {
      "text/html": [
       "<div>\n",
       "<style scoped>\n",
       "    .dataframe tbody tr th:only-of-type {\n",
       "        vertical-align: middle;\n",
       "    }\n",
       "\n",
       "    .dataframe tbody tr th {\n",
       "        vertical-align: top;\n",
       "    }\n",
       "\n",
       "    .dataframe thead th {\n",
       "        text-align: right;\n",
       "    }\n",
       "</style>\n",
       "<table border=\"1\" class=\"dataframe\">\n",
       "  <thead>\n",
       "    <tr style=\"text-align: right;\">\n",
       "      <th></th>\n",
       "      <th>id</th>\n",
       "      <th>call_date</th>\n",
       "      <th>duration</th>\n",
       "      <th>user_id</th>\n",
       "    </tr>\n",
       "  </thead>\n",
       "  <tbody>\n",
       "    <tr>\n",
       "      <th>0</th>\n",
       "      <td>1000_0</td>\n",
       "      <td>2018-07-25</td>\n",
       "      <td>0.00</td>\n",
       "      <td>1000</td>\n",
       "    </tr>\n",
       "    <tr>\n",
       "      <th>1</th>\n",
       "      <td>1000_1</td>\n",
       "      <td>2018-08-17</td>\n",
       "      <td>0.00</td>\n",
       "      <td>1000</td>\n",
       "    </tr>\n",
       "    <tr>\n",
       "      <th>2</th>\n",
       "      <td>1000_2</td>\n",
       "      <td>2018-06-11</td>\n",
       "      <td>2.85</td>\n",
       "      <td>1000</td>\n",
       "    </tr>\n",
       "    <tr>\n",
       "      <th>3</th>\n",
       "      <td>1000_3</td>\n",
       "      <td>2018-09-21</td>\n",
       "      <td>13.80</td>\n",
       "      <td>1000</td>\n",
       "    </tr>\n",
       "    <tr>\n",
       "      <th>4</th>\n",
       "      <td>1000_4</td>\n",
       "      <td>2018-12-15</td>\n",
       "      <td>5.18</td>\n",
       "      <td>1000</td>\n",
       "    </tr>\n",
       "    <tr>\n",
       "      <th>5</th>\n",
       "      <td>1000_5</td>\n",
       "      <td>2018-11-02</td>\n",
       "      <td>0.00</td>\n",
       "      <td>1000</td>\n",
       "    </tr>\n",
       "    <tr>\n",
       "      <th>6</th>\n",
       "      <td>1000_6</td>\n",
       "      <td>2018-10-18</td>\n",
       "      <td>0.00</td>\n",
       "      <td>1000</td>\n",
       "    </tr>\n",
       "    <tr>\n",
       "      <th>7</th>\n",
       "      <td>1000_7</td>\n",
       "      <td>2018-08-22</td>\n",
       "      <td>18.31</td>\n",
       "      <td>1000</td>\n",
       "    </tr>\n",
       "    <tr>\n",
       "      <th>8</th>\n",
       "      <td>1000_8</td>\n",
       "      <td>2018-09-15</td>\n",
       "      <td>18.44</td>\n",
       "      <td>1000</td>\n",
       "    </tr>\n",
       "    <tr>\n",
       "      <th>9</th>\n",
       "      <td>1000_9</td>\n",
       "      <td>2018-08-15</td>\n",
       "      <td>0.00</td>\n",
       "      <td>1000</td>\n",
       "    </tr>\n",
       "  </tbody>\n",
       "</table>\n",
       "</div>"
      ],
      "text/plain": [
       "       id   call_date  duration  user_id\n",
       "0  1000_0  2018-07-25      0.00     1000\n",
       "1  1000_1  2018-08-17      0.00     1000\n",
       "2  1000_2  2018-06-11      2.85     1000\n",
       "3  1000_3  2018-09-21     13.80     1000\n",
       "4  1000_4  2018-12-15      5.18     1000\n",
       "5  1000_5  2018-11-02      0.00     1000\n",
       "6  1000_6  2018-10-18      0.00     1000\n",
       "7  1000_7  2018-08-22     18.31     1000\n",
       "8  1000_8  2018-09-15     18.44     1000\n",
       "9  1000_9  2018-08-15      0.00     1000"
      ]
     },
     "metadata": {},
     "output_type": "display_data"
    },
    {
     "name": "stdout",
     "output_type": "stream",
     "text": [
      "<class 'pandas.core.frame.DataFrame'>\n",
      "RangeIndex: 202607 entries, 0 to 202606\n",
      "Data columns (total 4 columns):\n",
      " #   Column     Non-Null Count   Dtype  \n",
      "---  ------     --------------   -----  \n",
      " 0   id         202607 non-null  object \n",
      " 1   call_date  202607 non-null  object \n",
      " 2   duration   202607 non-null  float64\n",
      " 3   user_id    202607 non-null  int64  \n",
      "dtypes: float64(1), int64(1), object(2)\n",
      "memory usage: 6.2+ MB\n"
     ]
    }
   ],
   "source": [
    "# чтение файла с данными и сохранение в переменную\n",
    "calls = pd.read_csv('calls.csv')\n",
    "display(calls.head(10))\n",
    "calls.info()"
   ]
  },
  {
   "cell_type": "code",
   "execution_count": 3,
   "metadata": {},
   "outputs": [
    {
     "data": {
      "text/plain": [
       "count    202607.000000\n",
       "mean          6.755887\n",
       "std           5.843365\n",
       "min           0.000000\n",
       "25%           1.300000\n",
       "50%           6.000000\n",
       "75%          10.700000\n",
       "max          38.000000\n",
       "Name: duration, dtype: float64"
      ]
     },
     "execution_count": 3,
     "metadata": {},
     "output_type": "execute_result"
    }
   ],
   "source": [
    "# Описание столбца продолжительности звонков\n",
    "calls['duration'].describe()"
   ]
  },
  {
   "cell_type": "markdown",
   "metadata": {},
   "source": [
    " <div style=\"border:solid green 1px; padding: 20px\"> \n",
    " Нулями обозначены пропущенные звонки, поэтому их не нужно удалять. Максимальное время звонка (38 минут) является адекватным значением.\n",
    "</div>"
   ]
  },
  {
   "cell_type": "code",
   "execution_count": 3,
   "metadata": {},
   "outputs": [
    {
     "data": {
      "text/html": [
       "<div>\n",
       "<style scoped>\n",
       "    .dataframe tbody tr th:only-of-type {\n",
       "        vertical-align: middle;\n",
       "    }\n",
       "\n",
       "    .dataframe tbody tr th {\n",
       "        vertical-align: top;\n",
       "    }\n",
       "\n",
       "    .dataframe thead th {\n",
       "        text-align: right;\n",
       "    }\n",
       "</style>\n",
       "<table border=\"1\" class=\"dataframe\">\n",
       "  <thead>\n",
       "    <tr style=\"text-align: right;\">\n",
       "      <th></th>\n",
       "      <th>id</th>\n",
       "      <th>mb_used</th>\n",
       "      <th>session_date</th>\n",
       "      <th>user_id</th>\n",
       "    </tr>\n",
       "  </thead>\n",
       "  <tbody>\n",
       "    <tr>\n",
       "      <th>0</th>\n",
       "      <td>1000_0</td>\n",
       "      <td>112.95</td>\n",
       "      <td>2018-11-25</td>\n",
       "      <td>1000</td>\n",
       "    </tr>\n",
       "    <tr>\n",
       "      <th>1</th>\n",
       "      <td>1000_1</td>\n",
       "      <td>1052.81</td>\n",
       "      <td>2018-09-07</td>\n",
       "      <td>1000</td>\n",
       "    </tr>\n",
       "    <tr>\n",
       "      <th>2</th>\n",
       "      <td>1000_2</td>\n",
       "      <td>1197.26</td>\n",
       "      <td>2018-06-25</td>\n",
       "      <td>1000</td>\n",
       "    </tr>\n",
       "    <tr>\n",
       "      <th>3</th>\n",
       "      <td>1000_3</td>\n",
       "      <td>550.27</td>\n",
       "      <td>2018-08-22</td>\n",
       "      <td>1000</td>\n",
       "    </tr>\n",
       "    <tr>\n",
       "      <th>4</th>\n",
       "      <td>1000_4</td>\n",
       "      <td>302.56</td>\n",
       "      <td>2018-09-24</td>\n",
       "      <td>1000</td>\n",
       "    </tr>\n",
       "    <tr>\n",
       "      <th>5</th>\n",
       "      <td>1000_5</td>\n",
       "      <td>399.97</td>\n",
       "      <td>2018-10-02</td>\n",
       "      <td>1000</td>\n",
       "    </tr>\n",
       "    <tr>\n",
       "      <th>6</th>\n",
       "      <td>1000_6</td>\n",
       "      <td>540.08</td>\n",
       "      <td>2018-09-07</td>\n",
       "      <td>1000</td>\n",
       "    </tr>\n",
       "    <tr>\n",
       "      <th>7</th>\n",
       "      <td>1000_7</td>\n",
       "      <td>415.70</td>\n",
       "      <td>2018-07-11</td>\n",
       "      <td>1000</td>\n",
       "    </tr>\n",
       "    <tr>\n",
       "      <th>8</th>\n",
       "      <td>1000_8</td>\n",
       "      <td>505.40</td>\n",
       "      <td>2018-10-08</td>\n",
       "      <td>1000</td>\n",
       "    </tr>\n",
       "    <tr>\n",
       "      <th>9</th>\n",
       "      <td>1000_9</td>\n",
       "      <td>345.54</td>\n",
       "      <td>2018-09-03</td>\n",
       "      <td>1000</td>\n",
       "    </tr>\n",
       "  </tbody>\n",
       "</table>\n",
       "</div>"
      ],
      "text/plain": [
       "       id  mb_used session_date  user_id\n",
       "0  1000_0   112.95   2018-11-25     1000\n",
       "1  1000_1  1052.81   2018-09-07     1000\n",
       "2  1000_2  1197.26   2018-06-25     1000\n",
       "3  1000_3   550.27   2018-08-22     1000\n",
       "4  1000_4   302.56   2018-09-24     1000\n",
       "5  1000_5   399.97   2018-10-02     1000\n",
       "6  1000_6   540.08   2018-09-07     1000\n",
       "7  1000_7   415.70   2018-07-11     1000\n",
       "8  1000_8   505.40   2018-10-08     1000\n",
       "9  1000_9   345.54   2018-09-03     1000"
      ]
     },
     "metadata": {},
     "output_type": "display_data"
    },
    {
     "name": "stdout",
     "output_type": "stream",
     "text": [
      "<class 'pandas.core.frame.DataFrame'>\n",
      "Int64Index: 149396 entries, 0 to 149395\n",
      "Data columns (total 4 columns):\n",
      " #   Column        Non-Null Count   Dtype  \n",
      "---  ------        --------------   -----  \n",
      " 0   id            149396 non-null  object \n",
      " 1   mb_used       149396 non-null  float64\n",
      " 2   session_date  149396 non-null  object \n",
      " 3   user_id       149396 non-null  int64  \n",
      "dtypes: float64(1), int64(1), object(2)\n",
      "memory usage: 5.7+ MB\n"
     ]
    }
   ],
   "source": [
    "# чтение файла с данными и сохранение в переменную\n",
    "internet = pd.read_csv('internet.csv', index_col=0)\n",
    "display(internet.head(10))\n",
    "internet.info()"
   ]
  },
  {
   "cell_type": "code",
   "execution_count": 4,
   "metadata": {},
   "outputs": [
    {
     "data": {
      "text/plain": [
       "count    149396.000000\n",
       "mean        370.192426\n",
       "std         278.300951\n",
       "min           0.000000\n",
       "25%         138.187500\n",
       "50%         348.015000\n",
       "75%         559.552500\n",
       "max        1724.830000\n",
       "Name: mb_used, dtype: float64"
      ]
     },
     "execution_count": 4,
     "metadata": {},
     "output_type": "execute_result"
    }
   ],
   "source": [
    "# Описательная статистика для столбца mb_used\n",
    "internet['mb_used'].describe()"
   ]
  },
  {
   "cell_type": "code",
   "execution_count": 5,
   "metadata": {},
   "outputs": [
    {
     "data": {
      "text/plain": [
       "id              19598\n",
       "mb_used         19598\n",
       "session_date    19598\n",
       "user_id         19598\n",
       "dtype: int64"
      ]
     },
     "execution_count": 5,
     "metadata": {},
     "output_type": "execute_result"
    }
   ],
   "source": [
    "# Находим количество строк со значением mb_used равным 0\n",
    "internet[internet.mb_used == 0].count()"
   ]
  },
  {
   "cell_type": "markdown",
   "metadata": {},
   "source": [
    "<div style=\"border:solid green 1px; padding: 20px\"> \n",
    " Считаем, что значение 0 в столбце mb_used не ошибка. Возможно при подключени к интернету, что-то пошло не так и не удалось подключиться, поэтому запись есть, а трафика нет, либо в определенном месяце человек не использовал интернет трафик.\n",
    "</div>"
   ]
  },
  {
   "cell_type": "code",
   "execution_count": 6,
   "metadata": {},
   "outputs": [
    {
     "data": {
      "text/html": [
       "<div>\n",
       "<style scoped>\n",
       "    .dataframe tbody tr th:only-of-type {\n",
       "        vertical-align: middle;\n",
       "    }\n",
       "\n",
       "    .dataframe tbody tr th {\n",
       "        vertical-align: top;\n",
       "    }\n",
       "\n",
       "    .dataframe thead th {\n",
       "        text-align: right;\n",
       "    }\n",
       "</style>\n",
       "<table border=\"1\" class=\"dataframe\">\n",
       "  <thead>\n",
       "    <tr style=\"text-align: right;\">\n",
       "      <th></th>\n",
       "      <th>id</th>\n",
       "      <th>message_date</th>\n",
       "      <th>user_id</th>\n",
       "    </tr>\n",
       "  </thead>\n",
       "  <tbody>\n",
       "    <tr>\n",
       "      <th>0</th>\n",
       "      <td>1000_0</td>\n",
       "      <td>2018-06-27</td>\n",
       "      <td>1000</td>\n",
       "    </tr>\n",
       "    <tr>\n",
       "      <th>1</th>\n",
       "      <td>1000_1</td>\n",
       "      <td>2018-10-08</td>\n",
       "      <td>1000</td>\n",
       "    </tr>\n",
       "    <tr>\n",
       "      <th>2</th>\n",
       "      <td>1000_2</td>\n",
       "      <td>2018-08-04</td>\n",
       "      <td>1000</td>\n",
       "    </tr>\n",
       "    <tr>\n",
       "      <th>3</th>\n",
       "      <td>1000_3</td>\n",
       "      <td>2018-06-16</td>\n",
       "      <td>1000</td>\n",
       "    </tr>\n",
       "    <tr>\n",
       "      <th>4</th>\n",
       "      <td>1000_4</td>\n",
       "      <td>2018-12-05</td>\n",
       "      <td>1000</td>\n",
       "    </tr>\n",
       "    <tr>\n",
       "      <th>5</th>\n",
       "      <td>1000_5</td>\n",
       "      <td>2018-06-20</td>\n",
       "      <td>1000</td>\n",
       "    </tr>\n",
       "    <tr>\n",
       "      <th>6</th>\n",
       "      <td>1000_6</td>\n",
       "      <td>2018-11-19</td>\n",
       "      <td>1000</td>\n",
       "    </tr>\n",
       "    <tr>\n",
       "      <th>7</th>\n",
       "      <td>1000_7</td>\n",
       "      <td>2018-10-29</td>\n",
       "      <td>1000</td>\n",
       "    </tr>\n",
       "    <tr>\n",
       "      <th>8</th>\n",
       "      <td>1000_8</td>\n",
       "      <td>2018-06-25</td>\n",
       "      <td>1000</td>\n",
       "    </tr>\n",
       "    <tr>\n",
       "      <th>9</th>\n",
       "      <td>1000_9</td>\n",
       "      <td>2018-12-18</td>\n",
       "      <td>1000</td>\n",
       "    </tr>\n",
       "  </tbody>\n",
       "</table>\n",
       "</div>"
      ],
      "text/plain": [
       "       id message_date  user_id\n",
       "0  1000_0   2018-06-27     1000\n",
       "1  1000_1   2018-10-08     1000\n",
       "2  1000_2   2018-08-04     1000\n",
       "3  1000_3   2018-06-16     1000\n",
       "4  1000_4   2018-12-05     1000\n",
       "5  1000_5   2018-06-20     1000\n",
       "6  1000_6   2018-11-19     1000\n",
       "7  1000_7   2018-10-29     1000\n",
       "8  1000_8   2018-06-25     1000\n",
       "9  1000_9   2018-12-18     1000"
      ]
     },
     "metadata": {},
     "output_type": "display_data"
    },
    {
     "name": "stdout",
     "output_type": "stream",
     "text": [
      "<class 'pandas.core.frame.DataFrame'>\n",
      "RangeIndex: 123036 entries, 0 to 123035\n",
      "Data columns (total 3 columns):\n",
      " #   Column        Non-Null Count   Dtype \n",
      "---  ------        --------------   ----- \n",
      " 0   id            123036 non-null  object\n",
      " 1   message_date  123036 non-null  object\n",
      " 2   user_id       123036 non-null  int64 \n",
      "dtypes: int64(1), object(2)\n",
      "memory usage: 2.8+ MB\n"
     ]
    }
   ],
   "source": [
    "# чтение файла с данными и сохранение в переменную\n",
    "messages = pd.read_csv('messages.csv')\n",
    "display(messages.head(10))\n",
    "messages.info()"
   ]
  },
  {
   "cell_type": "code",
   "execution_count": 8,
   "metadata": {},
   "outputs": [
    {
     "data": {
      "text/html": [
       "<div>\n",
       "<style scoped>\n",
       "    .dataframe tbody tr th:only-of-type {\n",
       "        vertical-align: middle;\n",
       "    }\n",
       "\n",
       "    .dataframe tbody tr th {\n",
       "        vertical-align: top;\n",
       "    }\n",
       "\n",
       "    .dataframe thead th {\n",
       "        text-align: right;\n",
       "    }\n",
       "</style>\n",
       "<table border=\"1\" class=\"dataframe\">\n",
       "  <thead>\n",
       "    <tr style=\"text-align: right;\">\n",
       "      <th></th>\n",
       "      <th>messages_included</th>\n",
       "      <th>mb_per_month_included</th>\n",
       "      <th>minutes_included</th>\n",
       "      <th>rub_monthly_fee</th>\n",
       "      <th>rub_per_gb</th>\n",
       "      <th>rub_per_message</th>\n",
       "      <th>rub_per_minute</th>\n",
       "      <th>tariff_name</th>\n",
       "    </tr>\n",
       "  </thead>\n",
       "  <tbody>\n",
       "    <tr>\n",
       "      <th>0</th>\n",
       "      <td>50</td>\n",
       "      <td>15360</td>\n",
       "      <td>500</td>\n",
       "      <td>550</td>\n",
       "      <td>200</td>\n",
       "      <td>3</td>\n",
       "      <td>3</td>\n",
       "      <td>smart</td>\n",
       "    </tr>\n",
       "    <tr>\n",
       "      <th>1</th>\n",
       "      <td>1000</td>\n",
       "      <td>30720</td>\n",
       "      <td>3000</td>\n",
       "      <td>1950</td>\n",
       "      <td>150</td>\n",
       "      <td>1</td>\n",
       "      <td>1</td>\n",
       "      <td>ultra</td>\n",
       "    </tr>\n",
       "  </tbody>\n",
       "</table>\n",
       "</div>"
      ],
      "text/plain": [
       "   messages_included  mb_per_month_included  minutes_included  \\\n",
       "0                 50                  15360               500   \n",
       "1               1000                  30720              3000   \n",
       "\n",
       "   rub_monthly_fee  rub_per_gb  rub_per_message  rub_per_minute tariff_name  \n",
       "0              550         200                3               3       smart  \n",
       "1             1950         150                1               1       ultra  "
      ]
     },
     "execution_count": 8,
     "metadata": {},
     "output_type": "execute_result"
    }
   ],
   "source": [
    "# чтение файла с данными и сохранение в переменную\n",
    "tariffs = pd.read_csv('tariffs.csv')\n",
    "tariffs.head()"
   ]
  },
  {
   "cell_type": "code",
   "execution_count": 10,
   "metadata": {},
   "outputs": [
    {
     "data": {
      "text/html": [
       "<div>\n",
       "<style scoped>\n",
       "    .dataframe tbody tr th:only-of-type {\n",
       "        vertical-align: middle;\n",
       "    }\n",
       "\n",
       "    .dataframe tbody tr th {\n",
       "        vertical-align: top;\n",
       "    }\n",
       "\n",
       "    .dataframe thead th {\n",
       "        text-align: right;\n",
       "    }\n",
       "</style>\n",
       "<table border=\"1\" class=\"dataframe\">\n",
       "  <thead>\n",
       "    <tr style=\"text-align: right;\">\n",
       "      <th></th>\n",
       "      <th>user_id</th>\n",
       "      <th>age</th>\n",
       "      <th>churn_date</th>\n",
       "      <th>city</th>\n",
       "      <th>first_name</th>\n",
       "      <th>last_name</th>\n",
       "      <th>reg_date</th>\n",
       "      <th>tariff</th>\n",
       "    </tr>\n",
       "  </thead>\n",
       "  <tbody>\n",
       "    <tr>\n",
       "      <th>0</th>\n",
       "      <td>1000</td>\n",
       "      <td>52</td>\n",
       "      <td>NaN</td>\n",
       "      <td>Краснодар</td>\n",
       "      <td>Рафаил</td>\n",
       "      <td>Верещагин</td>\n",
       "      <td>2018-05-25</td>\n",
       "      <td>ultra</td>\n",
       "    </tr>\n",
       "    <tr>\n",
       "      <th>1</th>\n",
       "      <td>1001</td>\n",
       "      <td>41</td>\n",
       "      <td>NaN</td>\n",
       "      <td>Москва</td>\n",
       "      <td>Иван</td>\n",
       "      <td>Ежов</td>\n",
       "      <td>2018-11-01</td>\n",
       "      <td>smart</td>\n",
       "    </tr>\n",
       "    <tr>\n",
       "      <th>2</th>\n",
       "      <td>1002</td>\n",
       "      <td>59</td>\n",
       "      <td>NaN</td>\n",
       "      <td>Стерлитамак</td>\n",
       "      <td>Евгений</td>\n",
       "      <td>Абрамович</td>\n",
       "      <td>2018-06-17</td>\n",
       "      <td>smart</td>\n",
       "    </tr>\n",
       "    <tr>\n",
       "      <th>3</th>\n",
       "      <td>1003</td>\n",
       "      <td>23</td>\n",
       "      <td>NaN</td>\n",
       "      <td>Москва</td>\n",
       "      <td>Белла</td>\n",
       "      <td>Белякова</td>\n",
       "      <td>2018-08-17</td>\n",
       "      <td>ultra</td>\n",
       "    </tr>\n",
       "    <tr>\n",
       "      <th>4</th>\n",
       "      <td>1004</td>\n",
       "      <td>68</td>\n",
       "      <td>NaN</td>\n",
       "      <td>Новокузнецк</td>\n",
       "      <td>Татьяна</td>\n",
       "      <td>Авдеенко</td>\n",
       "      <td>2018-05-14</td>\n",
       "      <td>ultra</td>\n",
       "    </tr>\n",
       "    <tr>\n",
       "      <th>5</th>\n",
       "      <td>1005</td>\n",
       "      <td>67</td>\n",
       "      <td>NaN</td>\n",
       "      <td>Набережные Челны</td>\n",
       "      <td>Афанасий</td>\n",
       "      <td>Горлов</td>\n",
       "      <td>2018-01-25</td>\n",
       "      <td>smart</td>\n",
       "    </tr>\n",
       "    <tr>\n",
       "      <th>6</th>\n",
       "      <td>1006</td>\n",
       "      <td>21</td>\n",
       "      <td>NaN</td>\n",
       "      <td>Ульяновск</td>\n",
       "      <td>Леонид</td>\n",
       "      <td>Ермолаев</td>\n",
       "      <td>2018-02-26</td>\n",
       "      <td>smart</td>\n",
       "    </tr>\n",
       "    <tr>\n",
       "      <th>7</th>\n",
       "      <td>1007</td>\n",
       "      <td>65</td>\n",
       "      <td>NaN</td>\n",
       "      <td>Москва</td>\n",
       "      <td>Юна</td>\n",
       "      <td>Березина</td>\n",
       "      <td>2018-04-19</td>\n",
       "      <td>smart</td>\n",
       "    </tr>\n",
       "    <tr>\n",
       "      <th>8</th>\n",
       "      <td>1008</td>\n",
       "      <td>63</td>\n",
       "      <td>NaN</td>\n",
       "      <td>Челябинск</td>\n",
       "      <td>Рустэм</td>\n",
       "      <td>Пономарёв</td>\n",
       "      <td>2018-12-19</td>\n",
       "      <td>smart</td>\n",
       "    </tr>\n",
       "    <tr>\n",
       "      <th>9</th>\n",
       "      <td>1009</td>\n",
       "      <td>24</td>\n",
       "      <td>NaN</td>\n",
       "      <td>Пермь</td>\n",
       "      <td>Василиса</td>\n",
       "      <td>Блинова</td>\n",
       "      <td>2018-03-22</td>\n",
       "      <td>smart</td>\n",
       "    </tr>\n",
       "  </tbody>\n",
       "</table>\n",
       "</div>"
      ],
      "text/plain": [
       "   user_id  age churn_date              city first_name  last_name  \\\n",
       "0     1000   52        NaN         Краснодар     Рафаил  Верещагин   \n",
       "1     1001   41        NaN            Москва       Иван       Ежов   \n",
       "2     1002   59        NaN       Стерлитамак    Евгений  Абрамович   \n",
       "3     1003   23        NaN            Москва      Белла   Белякова   \n",
       "4     1004   68        NaN       Новокузнецк    Татьяна   Авдеенко   \n",
       "5     1005   67        NaN  Набережные Челны   Афанасий     Горлов   \n",
       "6     1006   21        NaN         Ульяновск     Леонид   Ермолаев   \n",
       "7     1007   65        NaN            Москва        Юна   Березина   \n",
       "8     1008   63        NaN         Челябинск     Рустэм  Пономарёв   \n",
       "9     1009   24        NaN             Пермь   Василиса    Блинова   \n",
       "\n",
       "     reg_date tariff  \n",
       "0  2018-05-25  ultra  \n",
       "1  2018-11-01  smart  \n",
       "2  2018-06-17  smart  \n",
       "3  2018-08-17  ultra  \n",
       "4  2018-05-14  ultra  \n",
       "5  2018-01-25  smart  \n",
       "6  2018-02-26  smart  \n",
       "7  2018-04-19  smart  \n",
       "8  2018-12-19  smart  \n",
       "9  2018-03-22  smart  "
      ]
     },
     "metadata": {},
     "output_type": "display_data"
    },
    {
     "name": "stdout",
     "output_type": "stream",
     "text": [
      "<class 'pandas.core.frame.DataFrame'>\n",
      "RangeIndex: 500 entries, 0 to 499\n",
      "Data columns (total 8 columns):\n",
      " #   Column      Non-Null Count  Dtype \n",
      "---  ------      --------------  ----- \n",
      " 0   user_id     500 non-null    int64 \n",
      " 1   age         500 non-null    int64 \n",
      " 2   churn_date  38 non-null     object\n",
      " 3   city        500 non-null    object\n",
      " 4   first_name  500 non-null    object\n",
      " 5   last_name   500 non-null    object\n",
      " 6   reg_date    500 non-null    object\n",
      " 7   tariff      500 non-null    object\n",
      "dtypes: int64(2), object(6)\n",
      "memory usage: 31.4+ KB\n"
     ]
    }
   ],
   "source": [
    "# чтение файла с данными и сохранение в переменную\n",
    "users = pd.read_csv('users.csv')\n",
    "display(users.head(10))\n",
    "users.info()"
   ]
  },
  {
   "cell_type": "code",
   "execution_count": 11,
   "metadata": {},
   "outputs": [
    {
     "data": {
      "text/plain": [
       "count    500.00000\n",
       "mean      46.58800\n",
       "std       16.66763\n",
       "min       18.00000\n",
       "25%       32.00000\n",
       "50%       46.00000\n",
       "75%       62.00000\n",
       "max       75.00000\n",
       "Name: age, dtype: float64"
      ]
     },
     "execution_count": 11,
     "metadata": {},
     "output_type": "execute_result"
    }
   ],
   "source": [
    "users['age'].describe()"
   ]
  },
  {
   "cell_type": "markdown",
   "metadata": {},
   "source": [
    "<div style=\"border:solid green 1px; padding: 20px\"> \n",
    " Значния в столбце age адекватны. Минимальное - 18 лет, максимальное - 75 лет.\n",
    "</div>"
   ]
  },
  {
   "cell_type": "code",
   "execution_count": 12,
   "metadata": {},
   "outputs": [
    {
     "data": {
      "text/plain": [
       "array(['архангельск', 'астрахань', 'балашиха', 'барнаул', 'белгород',\n",
       "       'брянск', 'владивосток', 'владикавказ', 'владимир', 'волгоград',\n",
       "       'волжский', 'вологда', 'воронеж', 'грозный', 'екатеринбург',\n",
       "       'иваново', 'ижевск', 'иркутск', 'казань', 'калининград', 'калуга',\n",
       "       'кемерово', 'киров', 'кострома', 'краснодар', 'красноярск',\n",
       "       'курган', 'курск', 'липецк', 'магнитогорск', 'махачкала', 'москва',\n",
       "       'мурманск', 'набережные челны', 'нижневартовск', 'нижний новгород',\n",
       "       'нижний тагил', 'новокузнецк', 'новороссийск', 'новосибирск',\n",
       "       'омск', 'оренбург', 'орёл', 'пенза', 'пермь', 'петрозаводск',\n",
       "       'подольск', 'ростов-на-дону', 'рязань', 'самара',\n",
       "       'санкт-петербург', 'саранск', 'саратов', 'севастополь', 'смоленск',\n",
       "       'сочи', 'ставрополь', 'стерлитамак', 'сургут', 'тамбов', 'тверь',\n",
       "       'тольятти', 'томск', 'тула', 'тюмень', 'улан-удэ', 'ульяновск',\n",
       "       'уфа', 'хабаровск', 'химки', 'чебоксары', 'челябинск', 'череповец',\n",
       "       'чита', 'якутск', 'ярославль'], dtype=object)"
      ]
     },
     "execution_count": 12,
     "metadata": {},
     "output_type": "execute_result"
    }
   ],
   "source": [
    "# Проверяем различное написание одного и того же города, что бы исключить дубликатты\n",
    "users['city'] = users['city'].str.lower()\n",
    "users.sort_values(by='city')['city'].unique()"
   ]
  },
  {
   "cell_type": "code",
   "execution_count": 13,
   "metadata": {},
   "outputs": [
    {
     "data": {
      "text/plain": [
       "0"
      ]
     },
     "execution_count": 13,
     "metadata": {},
     "output_type": "execute_result"
    }
   ],
   "source": [
    "# Проверяем наличие дубликатов \n",
    "users.duplicated().sum()"
   ]
  },
  {
   "cell_type": "markdown",
   "metadata": {},
   "source": [
    "#### **Вывод**\n",
    "\n",
    "1. Пропуски отсутствуют\n",
    "2. Явных ошибок в данных и дубликатов не обнаружено"
   ]
  },
  {
   "cell_type": "markdown",
   "metadata": {},
   "source": [
    "## Предобработка данных"
   ]
  },
  {
   "cell_type": "markdown",
   "metadata": {},
   "source": [
    "### Приведите данных к нужным типам"
   ]
  },
  {
   "cell_type": "code",
   "execution_count": 14,
   "metadata": {},
   "outputs": [],
   "source": [
    "# Изменяем тип данных в столбце call_date в датасете calls c object на datetime64\n",
    "calls['call_date'] = pd.to_datetime(calls['call_date'], format = '%Y.%m.%d')"
   ]
  },
  {
   "cell_type": "code",
   "execution_count": 15,
   "metadata": {},
   "outputs": [
    {
     "data": {
      "text/plain": [
       "0     0.0\n",
       "1     0.0\n",
       "2     3.0\n",
       "3    14.0\n",
       "4     6.0\n",
       "Name: duration, dtype: float64"
      ]
     },
     "execution_count": 15,
     "metadata": {},
     "output_type": "execute_result"
    }
   ],
   "source": [
    "# Огруглим значения в столбце duration в большую сторону\n",
    "calls['duration'] = np.ceil(calls['duration'])\n",
    "calls['duration'].head()"
   ]
  },
  {
   "cell_type": "code",
   "execution_count": 16,
   "metadata": {},
   "outputs": [
    {
     "name": "stdout",
     "output_type": "stream",
     "text": [
      "<class 'pandas.core.frame.DataFrame'>\n",
      "RangeIndex: 202607 entries, 0 to 202606\n",
      "Data columns (total 4 columns):\n",
      " #   Column     Non-Null Count   Dtype         \n",
      "---  ------     --------------   -----         \n",
      " 0   id         202607 non-null  object        \n",
      " 1   call_date  202607 non-null  datetime64[ns]\n",
      " 2   duration   202607 non-null  int64         \n",
      " 3   user_id    202607 non-null  int64         \n",
      "dtypes: datetime64[ns](1), int64(2), object(1)\n",
      "memory usage: 6.2+ MB\n"
     ]
    }
   ],
   "source": [
    "# Изменим тип данных в столбце duration с float на int\n",
    "calls['duration'] = calls['duration'].astype('int')\n",
    "calls.info()"
   ]
  },
  {
   "cell_type": "code",
   "execution_count": 17,
   "metadata": {},
   "outputs": [],
   "source": [
    "# Изменяем тип данных в столбце session_date в датасете internet\n",
    "internet['session_date'] = pd.to_datetime(internet['session_date'], format = '%Y.%m.%d')"
   ]
  },
  {
   "cell_type": "code",
   "execution_count": 18,
   "metadata": {},
   "outputs": [
    {
     "name": "stdout",
     "output_type": "stream",
     "text": [
      "<class 'pandas.core.frame.DataFrame'>\n",
      "RangeIndex: 123036 entries, 0 to 123035\n",
      "Data columns (total 3 columns):\n",
      " #   Column        Non-Null Count   Dtype         \n",
      "---  ------        --------------   -----         \n",
      " 0   id            123036 non-null  object        \n",
      " 1   message_date  123036 non-null  datetime64[ns]\n",
      " 2   user_id       123036 non-null  int64         \n",
      "dtypes: datetime64[ns](1), int64(1), object(1)\n",
      "memory usage: 2.8+ MB\n"
     ]
    }
   ],
   "source": [
    "# Изменяем тип данных в столбце message_date в датасете messages\n",
    "messages['message_date'] = pd.to_datetime(messages['message_date'], format = '%Y.%m.%d')\n",
    "messages.info()"
   ]
  },
  {
   "cell_type": "code",
   "execution_count": 19,
   "metadata": {},
   "outputs": [
    {
     "name": "stdout",
     "output_type": "stream",
     "text": [
      "<class 'pandas.core.frame.DataFrame'>\n",
      "RangeIndex: 500 entries, 0 to 499\n",
      "Data columns (total 8 columns):\n",
      " #   Column      Non-Null Count  Dtype         \n",
      "---  ------      --------------  -----         \n",
      " 0   user_id     500 non-null    int64         \n",
      " 1   age         500 non-null    int64         \n",
      " 2   churn_date  38 non-null     object        \n",
      " 3   city        500 non-null    object        \n",
      " 4   first_name  500 non-null    object        \n",
      " 5   last_name   500 non-null    object        \n",
      " 6   reg_date    500 non-null    datetime64[ns]\n",
      " 7   tariff      500 non-null    object        \n",
      "dtypes: datetime64[ns](1), int64(2), object(5)\n",
      "memory usage: 31.4+ KB\n"
     ]
    }
   ],
   "source": [
    "# Изменяем тип данных в столбце reg_date в датасете users\n",
    "users['reg_date'] = pd.to_datetime(users['reg_date'], format = '%Y.%m.%d')\n",
    "users.info()"
   ]
  },
  {
   "cell_type": "markdown",
   "metadata": {},
   "source": [
    "#### **Вывод**\n",
    "\n",
    "1. В столбцах со значением даты тип данных с object изменен на datetime64;\n",
    "2. В столбцаx со значениями использованных минут разговора тип данных изменен с float на int"
   ]
  },
  {
   "cell_type": "markdown",
   "metadata": {},
   "source": [
    "### Объем израсходованного интернет-трафика по месяцам"
   ]
  },
  {
   "cell_type": "code",
   "execution_count": 20,
   "metadata": {},
   "outputs": [],
   "source": [
    "internet['internet_date_month'] = internet['session_date'].dt.month_name()"
   ]
  },
  {
   "cell_type": "code",
   "execution_count": 21,
   "metadata": {},
   "outputs": [
    {
     "data": {
      "text/html": [
       "<div>\n",
       "<style scoped>\n",
       "    .dataframe tbody tr th:only-of-type {\n",
       "        vertical-align: middle;\n",
       "    }\n",
       "\n",
       "    .dataframe tbody tr th {\n",
       "        vertical-align: top;\n",
       "    }\n",
       "\n",
       "    .dataframe thead th {\n",
       "        text-align: right;\n",
       "    }\n",
       "</style>\n",
       "<table border=\"1\" class=\"dataframe\">\n",
       "  <thead>\n",
       "    <tr style=\"text-align: right;\">\n",
       "      <th></th>\n",
       "      <th>id</th>\n",
       "      <th>mb_used</th>\n",
       "      <th>session_date</th>\n",
       "      <th>user_id</th>\n",
       "      <th>internet_date_month</th>\n",
       "      <th>age</th>\n",
       "      <th>churn_date</th>\n",
       "      <th>city</th>\n",
       "      <th>first_name</th>\n",
       "      <th>last_name</th>\n",
       "      <th>reg_date</th>\n",
       "      <th>tariff</th>\n",
       "    </tr>\n",
       "  </thead>\n",
       "  <tbody>\n",
       "    <tr>\n",
       "      <th>0</th>\n",
       "      <td>1000_0</td>\n",
       "      <td>112.95</td>\n",
       "      <td>2018-11-25</td>\n",
       "      <td>1000</td>\n",
       "      <td>November</td>\n",
       "      <td>52</td>\n",
       "      <td>NaN</td>\n",
       "      <td>краснодар</td>\n",
       "      <td>Рафаил</td>\n",
       "      <td>Верещагин</td>\n",
       "      <td>2018-05-25</td>\n",
       "      <td>ultra</td>\n",
       "    </tr>\n",
       "    <tr>\n",
       "      <th>1</th>\n",
       "      <td>1000_1</td>\n",
       "      <td>1052.81</td>\n",
       "      <td>2018-09-07</td>\n",
       "      <td>1000</td>\n",
       "      <td>September</td>\n",
       "      <td>52</td>\n",
       "      <td>NaN</td>\n",
       "      <td>краснодар</td>\n",
       "      <td>Рафаил</td>\n",
       "      <td>Верещагин</td>\n",
       "      <td>2018-05-25</td>\n",
       "      <td>ultra</td>\n",
       "    </tr>\n",
       "    <tr>\n",
       "      <th>2</th>\n",
       "      <td>1000_2</td>\n",
       "      <td>1197.26</td>\n",
       "      <td>2018-06-25</td>\n",
       "      <td>1000</td>\n",
       "      <td>June</td>\n",
       "      <td>52</td>\n",
       "      <td>NaN</td>\n",
       "      <td>краснодар</td>\n",
       "      <td>Рафаил</td>\n",
       "      <td>Верещагин</td>\n",
       "      <td>2018-05-25</td>\n",
       "      <td>ultra</td>\n",
       "    </tr>\n",
       "    <tr>\n",
       "      <th>3</th>\n",
       "      <td>1000_3</td>\n",
       "      <td>550.27</td>\n",
       "      <td>2018-08-22</td>\n",
       "      <td>1000</td>\n",
       "      <td>August</td>\n",
       "      <td>52</td>\n",
       "      <td>NaN</td>\n",
       "      <td>краснодар</td>\n",
       "      <td>Рафаил</td>\n",
       "      <td>Верещагин</td>\n",
       "      <td>2018-05-25</td>\n",
       "      <td>ultra</td>\n",
       "    </tr>\n",
       "    <tr>\n",
       "      <th>4</th>\n",
       "      <td>1000_4</td>\n",
       "      <td>302.56</td>\n",
       "      <td>2018-09-24</td>\n",
       "      <td>1000</td>\n",
       "      <td>September</td>\n",
       "      <td>52</td>\n",
       "      <td>NaN</td>\n",
       "      <td>краснодар</td>\n",
       "      <td>Рафаил</td>\n",
       "      <td>Верещагин</td>\n",
       "      <td>2018-05-25</td>\n",
       "      <td>ultra</td>\n",
       "    </tr>\n",
       "  </tbody>\n",
       "</table>\n",
       "</div>"
      ],
      "text/plain": [
       "       id  mb_used session_date  user_id internet_date_month  age churn_date  \\\n",
       "0  1000_0   112.95   2018-11-25     1000            November   52        NaN   \n",
       "1  1000_1  1052.81   2018-09-07     1000           September   52        NaN   \n",
       "2  1000_2  1197.26   2018-06-25     1000                June   52        NaN   \n",
       "3  1000_3   550.27   2018-08-22     1000              August   52        NaN   \n",
       "4  1000_4   302.56   2018-09-24     1000           September   52        NaN   \n",
       "\n",
       "        city first_name  last_name   reg_date tariff  \n",
       "0  краснодар     Рафаил  Верещагин 2018-05-25  ultra  \n",
       "1  краснодар     Рафаил  Верещагин 2018-05-25  ultra  \n",
       "2  краснодар     Рафаил  Верещагин 2018-05-25  ultra  \n",
       "3  краснодар     Рафаил  Верещагин 2018-05-25  ultra  \n",
       "4  краснодар     Рафаил  Верещагин 2018-05-25  ultra  "
      ]
     },
     "execution_count": 21,
     "metadata": {},
     "output_type": "execute_result"
    }
   ],
   "source": [
    "# Группируем данные из датасета internet_income с данными из датасета users\n",
    "internet_income = internet.merge(users, on ='user_id', how='outer')\n",
    "internet_income.head()"
   ]
  },
  {
   "cell_type": "code",
   "execution_count": 22,
   "metadata": {},
   "outputs": [
    {
     "data": {
      "text/html": [
       "<div>\n",
       "<style scoped>\n",
       "    .dataframe tbody tr th:only-of-type {\n",
       "        vertical-align: middle;\n",
       "    }\n",
       "\n",
       "    .dataframe tbody tr th {\n",
       "        vertical-align: top;\n",
       "    }\n",
       "\n",
       "    .dataframe thead th {\n",
       "        text-align: right;\n",
       "    }\n",
       "</style>\n",
       "<table border=\"1\" class=\"dataframe\">\n",
       "  <thead>\n",
       "    <tr style=\"text-align: right;\">\n",
       "      <th></th>\n",
       "      <th>user_id</th>\n",
       "      <th>internet_date_month</th>\n",
       "      <th>tariff</th>\n",
       "      <th>mb_used</th>\n",
       "    </tr>\n",
       "  </thead>\n",
       "  <tbody>\n",
       "    <tr>\n",
       "      <th>0</th>\n",
       "      <td>1000</td>\n",
       "      <td>August</td>\n",
       "      <td>ultra</td>\n",
       "      <td>14055.93</td>\n",
       "    </tr>\n",
       "    <tr>\n",
       "      <th>1</th>\n",
       "      <td>1000</td>\n",
       "      <td>December</td>\n",
       "      <td>ultra</td>\n",
       "      <td>9817.61</td>\n",
       "    </tr>\n",
       "    <tr>\n",
       "      <th>2</th>\n",
       "      <td>1000</td>\n",
       "      <td>July</td>\n",
       "      <td>ultra</td>\n",
       "      <td>14003.64</td>\n",
       "    </tr>\n",
       "    <tr>\n",
       "      <th>3</th>\n",
       "      <td>1000</td>\n",
       "      <td>June</td>\n",
       "      <td>ultra</td>\n",
       "      <td>23233.77</td>\n",
       "    </tr>\n",
       "    <tr>\n",
       "      <th>4</th>\n",
       "      <td>1000</td>\n",
       "      <td>May</td>\n",
       "      <td>ultra</td>\n",
       "      <td>2253.49</td>\n",
       "    </tr>\n",
       "    <tr>\n",
       "      <th>...</th>\n",
       "      <td>...</td>\n",
       "      <td>...</td>\n",
       "      <td>...</td>\n",
       "      <td>...</td>\n",
       "    </tr>\n",
       "    <tr>\n",
       "      <th>3198</th>\n",
       "      <td>1498</td>\n",
       "      <td>September</td>\n",
       "      <td>smart</td>\n",
       "      <td>22134.41</td>\n",
       "    </tr>\n",
       "    <tr>\n",
       "      <th>3199</th>\n",
       "      <td>1499</td>\n",
       "      <td>December</td>\n",
       "      <td>smart</td>\n",
       "      <td>13055.58</td>\n",
       "    </tr>\n",
       "    <tr>\n",
       "      <th>3200</th>\n",
       "      <td>1499</td>\n",
       "      <td>November</td>\n",
       "      <td>smart</td>\n",
       "      <td>17963.31</td>\n",
       "    </tr>\n",
       "    <tr>\n",
       "      <th>3201</th>\n",
       "      <td>1499</td>\n",
       "      <td>October</td>\n",
       "      <td>smart</td>\n",
       "      <td>17788.51</td>\n",
       "    </tr>\n",
       "    <tr>\n",
       "      <th>3202</th>\n",
       "      <td>1499</td>\n",
       "      <td>September</td>\n",
       "      <td>smart</td>\n",
       "      <td>1845.75</td>\n",
       "    </tr>\n",
       "  </tbody>\n",
       "</table>\n",
       "<p>3203 rows × 4 columns</p>\n",
       "</div>"
      ],
      "text/plain": [
       "      user_id internet_date_month tariff   mb_used\n",
       "0        1000              August  ultra  14055.93\n",
       "1        1000            December  ultra   9817.61\n",
       "2        1000                July  ultra  14003.64\n",
       "3        1000                June  ultra  23233.77\n",
       "4        1000                 May  ultra   2253.49\n",
       "...       ...                 ...    ...       ...\n",
       "3198     1498           September  smart  22134.41\n",
       "3199     1499            December  smart  13055.58\n",
       "3200     1499            November  smart  17963.31\n",
       "3201     1499             October  smart  17788.51\n",
       "3202     1499           September  smart   1845.75\n",
       "\n",
       "[3203 rows x 4 columns]"
      ]
     },
     "execution_count": 22,
     "metadata": {},
     "output_type": "execute_result"
    }
   ],
   "source": [
    "# Находим объем израсходованного интернет-трафика по месяцам\n",
    "internet_income_group = internet_income.groupby(['user_id','internet_date_month','tariff'],\n",
    "                                      as_index=False)['mb_used'].sum()\n",
    "internet_income_group"
   ]
  },
  {
   "cell_type": "code",
   "execution_count": 28,
   "metadata": {},
   "outputs": [
    {
     "name": "stderr",
     "output_type": "stream",
     "text": [
      "/Users/daivanov/opt/anaconda3/envs/ds_practicum_env/lib/python3.9/site-packages/seaborn/_decorators.py:36: FutureWarning: Pass the following variables as keyword args: x, y. From version 0.12, the only valid positional argument will be `data`, and passing other arguments without an explicit keyword will result in an error or misinterpretation.\n",
      "  warnings.warn(\n"
     ]
    },
    {
     "data": {
      "text/plain": [
       "Text(0.5, 1.0, 'Consumption mb per month')"
      ]
     },
     "execution_count": 28,
     "metadata": {},
     "output_type": "execute_result"
    },
    {
     "data": {
      "image/png": "[encoded data removed]",
      "text/plain": [
       "<Figure size 864x360 with 1 Axes>"
      ]
     },
     "metadata": {
      "needs_background": "light"
     },
     "output_type": "display_data"
    }
   ],
   "source": [
    "figure = plt.figure(figsize=(12,5))\n",
    "sns.barplot(internet_income_group['internet_date_month'],internet_income_group['mb_used'])\n",
    "plt.title('Consumption mb per month')"
   ]
  },
  {
   "cell_type": "markdown",
   "metadata": {},
   "source": [
    "### Количество сделанных звонков и израсходованных минут разговора по месяцам"
   ]
  },
  {
   "cell_type": "code",
   "execution_count": 29,
   "metadata": {},
   "outputs": [],
   "source": [
    "calls['call_date_month'] = calls['call_date'].dt.month_name()"
   ]
  },
  {
   "cell_type": "code",
   "execution_count": 30,
   "metadata": {},
   "outputs": [
    {
     "data": {
      "text/html": [
       "<div>\n",
       "<style scoped>\n",
       "    .dataframe tbody tr th:only-of-type {\n",
       "        vertical-align: middle;\n",
       "    }\n",
       "\n",
       "    .dataframe tbody tr th {\n",
       "        vertical-align: top;\n",
       "    }\n",
       "\n",
       "    .dataframe thead th {\n",
       "        text-align: right;\n",
       "    }\n",
       "</style>\n",
       "<table border=\"1\" class=\"dataframe\">\n",
       "  <thead>\n",
       "    <tr style=\"text-align: right;\">\n",
       "      <th></th>\n",
       "      <th>id</th>\n",
       "      <th>call_date</th>\n",
       "      <th>duration</th>\n",
       "      <th>user_id</th>\n",
       "      <th>call_date_month</th>\n",
       "      <th>age</th>\n",
       "      <th>churn_date</th>\n",
       "      <th>city</th>\n",
       "      <th>first_name</th>\n",
       "      <th>last_name</th>\n",
       "      <th>reg_date</th>\n",
       "      <th>tariff</th>\n",
       "    </tr>\n",
       "  </thead>\n",
       "  <tbody>\n",
       "    <tr>\n",
       "      <th>0</th>\n",
       "      <td>1000_0</td>\n",
       "      <td>2018-07-25</td>\n",
       "      <td>0.0</td>\n",
       "      <td>1000</td>\n",
       "      <td>July</td>\n",
       "      <td>52</td>\n",
       "      <td>NaN</td>\n",
       "      <td>краснодар</td>\n",
       "      <td>Рафаил</td>\n",
       "      <td>Верещагин</td>\n",
       "      <td>2018-05-25</td>\n",
       "      <td>ultra</td>\n",
       "    </tr>\n",
       "    <tr>\n",
       "      <th>1</th>\n",
       "      <td>1000_1</td>\n",
       "      <td>2018-08-17</td>\n",
       "      <td>0.0</td>\n",
       "      <td>1000</td>\n",
       "      <td>August</td>\n",
       "      <td>52</td>\n",
       "      <td>NaN</td>\n",
       "      <td>краснодар</td>\n",
       "      <td>Рафаил</td>\n",
       "      <td>Верещагин</td>\n",
       "      <td>2018-05-25</td>\n",
       "      <td>ultra</td>\n",
       "    </tr>\n",
       "    <tr>\n",
       "      <th>2</th>\n",
       "      <td>1000_2</td>\n",
       "      <td>2018-06-11</td>\n",
       "      <td>3.0</td>\n",
       "      <td>1000</td>\n",
       "      <td>June</td>\n",
       "      <td>52</td>\n",
       "      <td>NaN</td>\n",
       "      <td>краснодар</td>\n",
       "      <td>Рафаил</td>\n",
       "      <td>Верещагин</td>\n",
       "      <td>2018-05-25</td>\n",
       "      <td>ultra</td>\n",
       "    </tr>\n",
       "    <tr>\n",
       "      <th>3</th>\n",
       "      <td>1000_3</td>\n",
       "      <td>2018-09-21</td>\n",
       "      <td>14.0</td>\n",
       "      <td>1000</td>\n",
       "      <td>September</td>\n",
       "      <td>52</td>\n",
       "      <td>NaN</td>\n",
       "      <td>краснодар</td>\n",
       "      <td>Рафаил</td>\n",
       "      <td>Верещагин</td>\n",
       "      <td>2018-05-25</td>\n",
       "      <td>ultra</td>\n",
       "    </tr>\n",
       "    <tr>\n",
       "      <th>4</th>\n",
       "      <td>1000_4</td>\n",
       "      <td>2018-12-15</td>\n",
       "      <td>6.0</td>\n",
       "      <td>1000</td>\n",
       "      <td>December</td>\n",
       "      <td>52</td>\n",
       "      <td>NaN</td>\n",
       "      <td>краснодар</td>\n",
       "      <td>Рафаил</td>\n",
       "      <td>Верещагин</td>\n",
       "      <td>2018-05-25</td>\n",
       "      <td>ultra</td>\n",
       "    </tr>\n",
       "  </tbody>\n",
       "</table>\n",
       "</div>"
      ],
      "text/plain": [
       "       id  call_date  duration  user_id call_date_month  age churn_date  \\\n",
       "0  1000_0 2018-07-25       0.0     1000            July   52        NaN   \n",
       "1  1000_1 2018-08-17       0.0     1000          August   52        NaN   \n",
       "2  1000_2 2018-06-11       3.0     1000            June   52        NaN   \n",
       "3  1000_3 2018-09-21      14.0     1000       September   52        NaN   \n",
       "4  1000_4 2018-12-15       6.0     1000        December   52        NaN   \n",
       "\n",
       "        city first_name  last_name   reg_date tariff  \n",
       "0  краснодар     Рафаил  Верещагин 2018-05-25  ultra  \n",
       "1  краснодар     Рафаил  Верещагин 2018-05-25  ultra  \n",
       "2  краснодар     Рафаил  Верещагин 2018-05-25  ultra  \n",
       "3  краснодар     Рафаил  Верещагин 2018-05-25  ultra  \n",
       "4  краснодар     Рафаил  Верещагин 2018-05-25  ultra  "
      ]
     },
     "execution_count": 30,
     "metadata": {},
     "output_type": "execute_result"
    }
   ],
   "source": [
    "# Группируем данные из датасета call_income с данными из датасета users\n",
    "call_income = calls.merge(users, on ='user_id', how='outer')\n",
    "call_income.head()"
   ]
  },
  {
   "cell_type": "code",
   "execution_count": 31,
   "metadata": {},
   "outputs": [
    {
     "data": {
      "text/html": [
       "<div>\n",
       "<style scoped>\n",
       "    .dataframe tbody tr th:only-of-type {\n",
       "        vertical-align: middle;\n",
       "    }\n",
       "\n",
       "    .dataframe tbody tr th {\n",
       "        vertical-align: top;\n",
       "    }\n",
       "\n",
       "    .dataframe thead tr th {\n",
       "        text-align: left;\n",
       "    }\n",
       "\n",
       "    .dataframe thead tr:last-of-type th {\n",
       "        text-align: right;\n",
       "    }\n",
       "</style>\n",
       "<table border=\"1\" class=\"dataframe\">\n",
       "  <thead>\n",
       "    <tr>\n",
       "      <th></th>\n",
       "      <th></th>\n",
       "      <th></th>\n",
       "      <th colspan=\"2\" halign=\"left\">duration</th>\n",
       "    </tr>\n",
       "    <tr>\n",
       "      <th></th>\n",
       "      <th></th>\n",
       "      <th></th>\n",
       "      <th>sum</th>\n",
       "      <th>count</th>\n",
       "    </tr>\n",
       "    <tr>\n",
       "      <th>user_id</th>\n",
       "      <th>call_date_month</th>\n",
       "      <th>tariff</th>\n",
       "      <th></th>\n",
       "      <th></th>\n",
       "    </tr>\n",
       "  </thead>\n",
       "  <tbody>\n",
       "    <tr>\n",
       "      <th rowspan=\"5\" valign=\"top\">1000</th>\n",
       "      <th>August</th>\n",
       "      <th>ultra</th>\n",
       "      <td>408.0</td>\n",
       "      <td>52</td>\n",
       "    </tr>\n",
       "    <tr>\n",
       "      <th>December</th>\n",
       "      <th>ultra</th>\n",
       "      <td>333.0</td>\n",
       "      <td>46</td>\n",
       "    </tr>\n",
       "    <tr>\n",
       "      <th>July</th>\n",
       "      <th>ultra</th>\n",
       "      <td>340.0</td>\n",
       "      <td>47</td>\n",
       "    </tr>\n",
       "    <tr>\n",
       "      <th>June</th>\n",
       "      <th>ultra</th>\n",
       "      <td>172.0</td>\n",
       "      <td>43</td>\n",
       "    </tr>\n",
       "    <tr>\n",
       "      <th>May</th>\n",
       "      <th>ultra</th>\n",
       "      <td>159.0</td>\n",
       "      <td>22</td>\n",
       "    </tr>\n",
       "    <tr>\n",
       "      <th>...</th>\n",
       "      <th>...</th>\n",
       "      <th>...</th>\n",
       "      <td>...</td>\n",
       "      <td>...</td>\n",
       "    </tr>\n",
       "    <tr>\n",
       "      <th>1498</th>\n",
       "      <th>September</th>\n",
       "      <th>smart</th>\n",
       "      <td>471.0</td>\n",
       "      <td>59</td>\n",
       "    </tr>\n",
       "    <tr>\n",
       "      <th rowspan=\"4\" valign=\"top\">1499</th>\n",
       "      <th>December</th>\n",
       "      <th>smart</th>\n",
       "      <td>492.0</td>\n",
       "      <td>69</td>\n",
       "    </tr>\n",
       "    <tr>\n",
       "      <th>November</th>\n",
       "      <th>smart</th>\n",
       "      <td>612.0</td>\n",
       "      <td>74</td>\n",
       "    </tr>\n",
       "    <tr>\n",
       "      <th>October</th>\n",
       "      <th>smart</th>\n",
       "      <td>449.0</td>\n",
       "      <td>68</td>\n",
       "    </tr>\n",
       "    <tr>\n",
       "      <th>September</th>\n",
       "      <th>smart</th>\n",
       "      <td>70.0</td>\n",
       "      <td>9</td>\n",
       "    </tr>\n",
       "  </tbody>\n",
       "</table>\n",
       "<p>3174 rows × 2 columns</p>\n",
       "</div>"
      ],
      "text/plain": [
       "                               duration      \n",
       "                                    sum count\n",
       "user_id call_date_month tariff               \n",
       "1000    August          ultra     408.0    52\n",
       "        December        ultra     333.0    46\n",
       "        July            ultra     340.0    47\n",
       "        June            ultra     172.0    43\n",
       "        May             ultra     159.0    22\n",
       "...                                 ...   ...\n",
       "1498    September       smart     471.0    59\n",
       "1499    December        smart     492.0    69\n",
       "        November        smart     612.0    74\n",
       "        October         smart     449.0    68\n",
       "        September       smart      70.0     9\n",
       "\n",
       "[3174 rows x 2 columns]"
      ]
     },
     "execution_count": 31,
     "metadata": {},
     "output_type": "execute_result"
    }
   ],
   "source": [
    "# Находим количество сделанных звонков и израсходованных минут разговора по месяцам\n",
    "call_group = call_income.groupby(['user_id','call_date_month','tariff'],\n",
    "                                        as_index=False)[['duration']].agg(['sum','count'])\n",
    "call_group"
   ]
  },
  {
   "cell_type": "code",
   "execution_count": 32,
   "metadata": {},
   "outputs": [],
   "source": [
    "# Таблица такого ввида понадобится при группировке датасеттов для вычесления выручки\n",
    "call_income_group = call_income.groupby(['user_id','call_date_month','tariff'],\n",
    "                                        as_index=False)[['duration']].sum()"
   ]
  },
  {
   "cell_type": "markdown",
   "metadata": {},
   "source": [
    "### Количество отправленных сообщений по месяцам"
   ]
  },
  {
   "cell_type": "code",
   "execution_count": 33,
   "metadata": {},
   "outputs": [],
   "source": [
    "messages['message_date_month'] = messages['message_date'].dt.month_name()"
   ]
  },
  {
   "cell_type": "code",
   "execution_count": 34,
   "metadata": {},
   "outputs": [
    {
     "data": {
      "text/html": [
       "<div>\n",
       "<style scoped>\n",
       "    .dataframe tbody tr th:only-of-type {\n",
       "        vertical-align: middle;\n",
       "    }\n",
       "\n",
       "    .dataframe tbody tr th {\n",
       "        vertical-align: top;\n",
       "    }\n",
       "\n",
       "    .dataframe thead th {\n",
       "        text-align: right;\n",
       "    }\n",
       "</style>\n",
       "<table border=\"1\" class=\"dataframe\">\n",
       "  <thead>\n",
       "    <tr style=\"text-align: right;\">\n",
       "      <th></th>\n",
       "      <th>id</th>\n",
       "      <th>message_date</th>\n",
       "      <th>user_id</th>\n",
       "      <th>message_date_month</th>\n",
       "      <th>age</th>\n",
       "      <th>churn_date</th>\n",
       "      <th>city</th>\n",
       "      <th>first_name</th>\n",
       "      <th>last_name</th>\n",
       "      <th>reg_date</th>\n",
       "      <th>tariff</th>\n",
       "    </tr>\n",
       "  </thead>\n",
       "  <tbody>\n",
       "    <tr>\n",
       "      <th>0</th>\n",
       "      <td>1000_0</td>\n",
       "      <td>2018-06-27</td>\n",
       "      <td>1000</td>\n",
       "      <td>June</td>\n",
       "      <td>52</td>\n",
       "      <td>NaN</td>\n",
       "      <td>краснодар</td>\n",
       "      <td>Рафаил</td>\n",
       "      <td>Верещагин</td>\n",
       "      <td>2018-05-25</td>\n",
       "      <td>ultra</td>\n",
       "    </tr>\n",
       "    <tr>\n",
       "      <th>1</th>\n",
       "      <td>1000_1</td>\n",
       "      <td>2018-10-08</td>\n",
       "      <td>1000</td>\n",
       "      <td>October</td>\n",
       "      <td>52</td>\n",
       "      <td>NaN</td>\n",
       "      <td>краснодар</td>\n",
       "      <td>Рафаил</td>\n",
       "      <td>Верещагин</td>\n",
       "      <td>2018-05-25</td>\n",
       "      <td>ultra</td>\n",
       "    </tr>\n",
       "    <tr>\n",
       "      <th>2</th>\n",
       "      <td>1000_2</td>\n",
       "      <td>2018-08-04</td>\n",
       "      <td>1000</td>\n",
       "      <td>August</td>\n",
       "      <td>52</td>\n",
       "      <td>NaN</td>\n",
       "      <td>краснодар</td>\n",
       "      <td>Рафаил</td>\n",
       "      <td>Верещагин</td>\n",
       "      <td>2018-05-25</td>\n",
       "      <td>ultra</td>\n",
       "    </tr>\n",
       "    <tr>\n",
       "      <th>3</th>\n",
       "      <td>1000_3</td>\n",
       "      <td>2018-06-16</td>\n",
       "      <td>1000</td>\n",
       "      <td>June</td>\n",
       "      <td>52</td>\n",
       "      <td>NaN</td>\n",
       "      <td>краснодар</td>\n",
       "      <td>Рафаил</td>\n",
       "      <td>Верещагин</td>\n",
       "      <td>2018-05-25</td>\n",
       "      <td>ultra</td>\n",
       "    </tr>\n",
       "    <tr>\n",
       "      <th>4</th>\n",
       "      <td>1000_4</td>\n",
       "      <td>2018-12-05</td>\n",
       "      <td>1000</td>\n",
       "      <td>December</td>\n",
       "      <td>52</td>\n",
       "      <td>NaN</td>\n",
       "      <td>краснодар</td>\n",
       "      <td>Рафаил</td>\n",
       "      <td>Верещагин</td>\n",
       "      <td>2018-05-25</td>\n",
       "      <td>ultra</td>\n",
       "    </tr>\n",
       "  </tbody>\n",
       "</table>\n",
       "</div>"
      ],
      "text/plain": [
       "       id message_date  user_id message_date_month  age churn_date       city  \\\n",
       "0  1000_0   2018-06-27     1000               June   52        NaN  краснодар   \n",
       "1  1000_1   2018-10-08     1000            October   52        NaN  краснодар   \n",
       "2  1000_2   2018-08-04     1000             August   52        NaN  краснодар   \n",
       "3  1000_3   2018-06-16     1000               June   52        NaN  краснодар   \n",
       "4  1000_4   2018-12-05     1000           December   52        NaN  краснодар   \n",
       "\n",
       "  first_name  last_name   reg_date tariff  \n",
       "0     Рафаил  Верещагин 2018-05-25  ultra  \n",
       "1     Рафаил  Верещагин 2018-05-25  ultra  \n",
       "2     Рафаил  Верещагин 2018-05-25  ultra  \n",
       "3     Рафаил  Верещагин 2018-05-25  ultra  \n",
       "4     Рафаил  Верещагин 2018-05-25  ultra  "
      ]
     },
     "execution_count": 34,
     "metadata": {},
     "output_type": "execute_result"
    }
   ],
   "source": [
    "# Группируем данные из датасета messages с данными из датасета users\n",
    "messages_income = messages.merge(users, on ='user_id', how='outer')\n",
    "messages_income.head()"
   ]
  },
  {
   "cell_type": "code",
   "execution_count": 35,
   "metadata": {},
   "outputs": [
    {
     "data": {
      "text/html": [
       "<div>\n",
       "<style scoped>\n",
       "    .dataframe tbody tr th:only-of-type {\n",
       "        vertical-align: middle;\n",
       "    }\n",
       "\n",
       "    .dataframe tbody tr th {\n",
       "        vertical-align: top;\n",
       "    }\n",
       "\n",
       "    .dataframe thead th {\n",
       "        text-align: right;\n",
       "    }\n",
       "</style>\n",
       "<table border=\"1\" class=\"dataframe\">\n",
       "  <thead>\n",
       "    <tr style=\"text-align: right;\">\n",
       "      <th></th>\n",
       "      <th>user_id</th>\n",
       "      <th>message_date_month</th>\n",
       "      <th>tariff</th>\n",
       "      <th>id</th>\n",
       "    </tr>\n",
       "  </thead>\n",
       "  <tbody>\n",
       "    <tr>\n",
       "      <th>0</th>\n",
       "      <td>1000</td>\n",
       "      <td>August</td>\n",
       "      <td>ultra</td>\n",
       "      <td>81</td>\n",
       "    </tr>\n",
       "    <tr>\n",
       "      <th>1</th>\n",
       "      <td>1000</td>\n",
       "      <td>December</td>\n",
       "      <td>ultra</td>\n",
       "      <td>70</td>\n",
       "    </tr>\n",
       "    <tr>\n",
       "      <th>2</th>\n",
       "      <td>1000</td>\n",
       "      <td>July</td>\n",
       "      <td>ultra</td>\n",
       "      <td>75</td>\n",
       "    </tr>\n",
       "    <tr>\n",
       "      <th>3</th>\n",
       "      <td>1000</td>\n",
       "      <td>June</td>\n",
       "      <td>ultra</td>\n",
       "      <td>60</td>\n",
       "    </tr>\n",
       "    <tr>\n",
       "      <th>4</th>\n",
       "      <td>1000</td>\n",
       "      <td>May</td>\n",
       "      <td>ultra</td>\n",
       "      <td>22</td>\n",
       "    </tr>\n",
       "    <tr>\n",
       "      <th>...</th>\n",
       "      <td>...</td>\n",
       "      <td>...</td>\n",
       "      <td>...</td>\n",
       "      <td>...</td>\n",
       "    </tr>\n",
       "    <tr>\n",
       "      <th>2712</th>\n",
       "      <td>1498</td>\n",
       "      <td>September</td>\n",
       "      <td>smart</td>\n",
       "      <td>44</td>\n",
       "    </tr>\n",
       "    <tr>\n",
       "      <th>2713</th>\n",
       "      <td>1499</td>\n",
       "      <td>December</td>\n",
       "      <td>smart</td>\n",
       "      <td>66</td>\n",
       "    </tr>\n",
       "    <tr>\n",
       "      <th>2714</th>\n",
       "      <td>1499</td>\n",
       "      <td>November</td>\n",
       "      <td>smart</td>\n",
       "      <td>59</td>\n",
       "    </tr>\n",
       "    <tr>\n",
       "      <th>2715</th>\n",
       "      <td>1499</td>\n",
       "      <td>October</td>\n",
       "      <td>smart</td>\n",
       "      <td>48</td>\n",
       "    </tr>\n",
       "    <tr>\n",
       "      <th>2716</th>\n",
       "      <td>1499</td>\n",
       "      <td>September</td>\n",
       "      <td>smart</td>\n",
       "      <td>11</td>\n",
       "    </tr>\n",
       "  </tbody>\n",
       "</table>\n",
       "<p>2717 rows × 4 columns</p>\n",
       "</div>"
      ],
      "text/plain": [
       "      user_id message_date_month tariff  id\n",
       "0        1000             August  ultra  81\n",
       "1        1000           December  ultra  70\n",
       "2        1000               July  ultra  75\n",
       "3        1000               June  ultra  60\n",
       "4        1000                May  ultra  22\n",
       "...       ...                ...    ...  ..\n",
       "2712     1498          September  smart  44\n",
       "2713     1499           December  smart  66\n",
       "2714     1499           November  smart  59\n",
       "2715     1499            October  smart  48\n",
       "2716     1499          September  smart  11\n",
       "\n",
       "[2717 rows x 4 columns]"
      ]
     },
     "execution_count": 35,
     "metadata": {},
     "output_type": "execute_result"
    }
   ],
   "source": [
    "# Находим количество отправленных сообщений по месяцам\n",
    "messages_income_group = messages_income.groupby(['user_id', 'message_date_month','tariff'],\n",
    "                                                as_index=False)['id'].agg('count')\n",
    "messages_income_group"
   ]
  },
  {
   "cell_type": "markdown",
   "metadata": {},
   "source": [
    "### Помесячную выручку с каждого пользователя"
   ]
  },
  {
   "cell_type": "code",
   "execution_count": 36,
   "metadata": {},
   "outputs": [
    {
     "data": {
      "text/html": [
       "<div>\n",
       "<style scoped>\n",
       "    .dataframe tbody tr th:only-of-type {\n",
       "        vertical-align: middle;\n",
       "    }\n",
       "\n",
       "    .dataframe tbody tr th {\n",
       "        vertical-align: top;\n",
       "    }\n",
       "\n",
       "    .dataframe thead th {\n",
       "        text-align: right;\n",
       "    }\n",
       "</style>\n",
       "<table border=\"1\" class=\"dataframe\">\n",
       "  <thead>\n",
       "    <tr style=\"text-align: right;\">\n",
       "      <th></th>\n",
       "      <th>user_id</th>\n",
       "      <th>month</th>\n",
       "      <th>tariff_name</th>\n",
       "      <th>messages_count</th>\n",
       "      <th>call_duration</th>\n",
       "      <th>mb_used</th>\n",
       "    </tr>\n",
       "  </thead>\n",
       "  <tbody>\n",
       "    <tr>\n",
       "      <th>0</th>\n",
       "      <td>1000</td>\n",
       "      <td>August</td>\n",
       "      <td>ultra</td>\n",
       "      <td>81.0</td>\n",
       "      <td>408.0</td>\n",
       "      <td>14055.93</td>\n",
       "    </tr>\n",
       "    <tr>\n",
       "      <th>1</th>\n",
       "      <td>1000</td>\n",
       "      <td>December</td>\n",
       "      <td>ultra</td>\n",
       "      <td>70.0</td>\n",
       "      <td>333.0</td>\n",
       "      <td>9817.61</td>\n",
       "    </tr>\n",
       "    <tr>\n",
       "      <th>2</th>\n",
       "      <td>1000</td>\n",
       "      <td>July</td>\n",
       "      <td>ultra</td>\n",
       "      <td>75.0</td>\n",
       "      <td>340.0</td>\n",
       "      <td>14003.64</td>\n",
       "    </tr>\n",
       "    <tr>\n",
       "      <th>3</th>\n",
       "      <td>1000</td>\n",
       "      <td>June</td>\n",
       "      <td>ultra</td>\n",
       "      <td>60.0</td>\n",
       "      <td>172.0</td>\n",
       "      <td>23233.77</td>\n",
       "    </tr>\n",
       "    <tr>\n",
       "      <th>4</th>\n",
       "      <td>1000</td>\n",
       "      <td>May</td>\n",
       "      <td>ultra</td>\n",
       "      <td>22.0</td>\n",
       "      <td>159.0</td>\n",
       "      <td>2253.49</td>\n",
       "    </tr>\n",
       "    <tr>\n",
       "      <th>...</th>\n",
       "      <td>...</td>\n",
       "      <td>...</td>\n",
       "      <td>...</td>\n",
       "      <td>...</td>\n",
       "      <td>...</td>\n",
       "      <td>...</td>\n",
       "    </tr>\n",
       "    <tr>\n",
       "      <th>3209</th>\n",
       "      <td>1494</td>\n",
       "      <td>December</td>\n",
       "      <td>smart</td>\n",
       "      <td>NaN</td>\n",
       "      <td>418.0</td>\n",
       "      <td>17621.21</td>\n",
       "    </tr>\n",
       "    <tr>\n",
       "      <th>3210</th>\n",
       "      <td>1494</td>\n",
       "      <td>November</td>\n",
       "      <td>smart</td>\n",
       "      <td>NaN</td>\n",
       "      <td>411.0</td>\n",
       "      <td>18052.45</td>\n",
       "    </tr>\n",
       "    <tr>\n",
       "      <th>3211</th>\n",
       "      <td>1494</td>\n",
       "      <td>October</td>\n",
       "      <td>smart</td>\n",
       "      <td>NaN</td>\n",
       "      <td>354.0</td>\n",
       "      <td>17767.24</td>\n",
       "    </tr>\n",
       "    <tr>\n",
       "      <th>3212</th>\n",
       "      <td>1494</td>\n",
       "      <td>September</td>\n",
       "      <td>smart</td>\n",
       "      <td>NaN</td>\n",
       "      <td>501.0</td>\n",
       "      <td>16962.51</td>\n",
       "    </tr>\n",
       "    <tr>\n",
       "      <th>3213</th>\n",
       "      <td>1476</td>\n",
       "      <td>April</td>\n",
       "      <td>ultra</td>\n",
       "      <td>NaN</td>\n",
       "      <td>NaN</td>\n",
       "      <td>530.78</td>\n",
       "    </tr>\n",
       "  </tbody>\n",
       "</table>\n",
       "<p>3214 rows × 6 columns</p>\n",
       "</div>"
      ],
      "text/plain": [
       "      user_id      month tariff_name  messages_count  call_duration   mb_used\n",
       "0        1000     August       ultra            81.0          408.0  14055.93\n",
       "1        1000   December       ultra            70.0          333.0   9817.61\n",
       "2        1000       July       ultra            75.0          340.0  14003.64\n",
       "3        1000       June       ultra            60.0          172.0  23233.77\n",
       "4        1000        May       ultra            22.0          159.0   2253.49\n",
       "...       ...        ...         ...             ...            ...       ...\n",
       "3209     1494   December       smart             NaN          418.0  17621.21\n",
       "3210     1494   November       smart             NaN          411.0  18052.45\n",
       "3211     1494    October       smart             NaN          354.0  17767.24\n",
       "3212     1494  September       smart             NaN          501.0  16962.51\n",
       "3213     1476      April       ultra             NaN            NaN    530.78\n",
       "\n",
       "[3214 rows x 6 columns]"
      ]
     },
     "execution_count": 36,
     "metadata": {},
     "output_type": "execute_result"
    }
   ],
   "source": [
    "# Группируем датасеты messages_income_group, call_income_group, internet_income_group\n",
    "messages_income_group = messages_income_group.rename(\n",
    "    columns={'message_date_month':'month', 'tariff':'tariff_name'}\n",
    ")\n",
    "call_income_group = call_income_group.rename(\n",
    "    columns={'call_date_month':'month',  'tariff':'tariff_name'}\n",
    ")\n",
    "internet_income_group = internet_income_group.rename(\n",
    "    columns={'internet_date_month':'month',  'tariff':'tariff_name'}\n",
    ")\n",
    "\n",
    "incom_per_month = (\n",
    "    messages_income_group.merge(\n",
    "        call_income_group,\n",
    "        how='outer',\n",
    "        on=['user_id', 'month', 'tariff_name']\n",
    "    ).merge(\n",
    "        internet_income_group, \n",
    "        how='outer',\n",
    "        on=['user_id', 'month', 'tariff_name']\n",
    "    )\n",
    ")\n",
    "\n",
    "incom_per_month = incom_per_month.rename(columns={'id':'messages_count', 'duration':'call_duration'})\n",
    "incom_per_month"
   ]
  },
  {
   "cell_type": "code",
   "execution_count": 37,
   "metadata": {},
   "outputs": [
    {
     "data": {
      "text/plain": [
       "{1128, 1371}"
      ]
     },
     "execution_count": 37,
     "metadata": {},
     "output_type": "execute_result"
    }
   ],
   "source": [
    "# Найдем id пользователей, которые 'потеряшки'\n",
    "(\n",
    "    set(users['user_id'].unique())\n",
    "     - set(messages['user_id'].unique())\n",
    "    .union(set(calls['user_id'].unique()))\n",
    "    .union(set(internet['user_id'].unique()))\n",
    ")"
   ]
  },
  {
   "cell_type": "code",
   "execution_count": 38,
   "metadata": {},
   "outputs": [
    {
     "data": {
      "text/html": [
       "<div>\n",
       "<style scoped>\n",
       "    .dataframe tbody tr th:only-of-type {\n",
       "        vertical-align: middle;\n",
       "    }\n",
       "\n",
       "    .dataframe tbody tr th {\n",
       "        vertical-align: top;\n",
       "    }\n",
       "\n",
       "    .dataframe thead th {\n",
       "        text-align: right;\n",
       "    }\n",
       "</style>\n",
       "<table border=\"1\" class=\"dataframe\">\n",
       "  <thead>\n",
       "    <tr style=\"text-align: right;\">\n",
       "      <th></th>\n",
       "      <th>user_id</th>\n",
       "      <th>age</th>\n",
       "      <th>churn_date</th>\n",
       "      <th>city</th>\n",
       "      <th>first_name</th>\n",
       "      <th>last_name</th>\n",
       "      <th>reg_date</th>\n",
       "      <th>tariff</th>\n",
       "    </tr>\n",
       "  </thead>\n",
       "  <tbody>\n",
       "    <tr>\n",
       "      <th>128</th>\n",
       "      <td>1128</td>\n",
       "      <td>51</td>\n",
       "      <td>2018-12-23</td>\n",
       "      <td>волжский</td>\n",
       "      <td>Ксения</td>\n",
       "      <td>Агаева</td>\n",
       "      <td>2018-12-15</td>\n",
       "      <td>ultra</td>\n",
       "    </tr>\n",
       "    <tr>\n",
       "      <th>371</th>\n",
       "      <td>1371</td>\n",
       "      <td>50</td>\n",
       "      <td>2018-12-30</td>\n",
       "      <td>омск</td>\n",
       "      <td>Ириней</td>\n",
       "      <td>Трофимов</td>\n",
       "      <td>2018-12-25</td>\n",
       "      <td>smart</td>\n",
       "    </tr>\n",
       "  </tbody>\n",
       "</table>\n",
       "</div>"
      ],
      "text/plain": [
       "     user_id  age  churn_date      city first_name last_name   reg_date tariff\n",
       "128     1128   51  2018-12-23  волжский     Ксения    Агаева 2018-12-15  ultra\n",
       "371     1371   50  2018-12-30      омск     Ириней  Трофимов 2018-12-25  smart"
      ]
     },
     "execution_count": 38,
     "metadata": {},
     "output_type": "execute_result"
    }
   ],
   "source": [
    "users.query('user_id == 1128 | user_id == 1371')"
   ]
  },
  {
   "cell_type": "code",
   "execution_count": 39,
   "metadata": {},
   "outputs": [
    {
     "name": "stderr",
     "output_type": "stream",
     "text": [
      "/var/folders/vf/z1gk_tyn2zsf73w6bspmxgjm0000gn/T/ipykernel_36027/1050653143.py:6: FutureWarning: The frame.append method is deprecated and will be removed from pandas in a future version. Use pandas.concat instead.\n",
      "  incom_per_month = incom_per_month.append([add_row_1,add_row_2], ignore_index=True)\n"
     ]
    },
    {
     "data": {
      "text/html": [
       "<div>\n",
       "<style scoped>\n",
       "    .dataframe tbody tr th:only-of-type {\n",
       "        vertical-align: middle;\n",
       "    }\n",
       "\n",
       "    .dataframe tbody tr th {\n",
       "        vertical-align: top;\n",
       "    }\n",
       "\n",
       "    .dataframe thead th {\n",
       "        text-align: right;\n",
       "    }\n",
       "</style>\n",
       "<table border=\"1\" class=\"dataframe\">\n",
       "  <thead>\n",
       "    <tr style=\"text-align: right;\">\n",
       "      <th></th>\n",
       "      <th>user_id</th>\n",
       "      <th>month</th>\n",
       "      <th>tariff_name</th>\n",
       "      <th>messages_count</th>\n",
       "      <th>call_duration</th>\n",
       "      <th>mb_used</th>\n",
       "    </tr>\n",
       "  </thead>\n",
       "  <tbody>\n",
       "    <tr>\n",
       "      <th>0</th>\n",
       "      <td>1000</td>\n",
       "      <td>August</td>\n",
       "      <td>ultra</td>\n",
       "      <td>81.0</td>\n",
       "      <td>408.0</td>\n",
       "      <td>14055.93</td>\n",
       "    </tr>\n",
       "    <tr>\n",
       "      <th>1</th>\n",
       "      <td>1000</td>\n",
       "      <td>December</td>\n",
       "      <td>ultra</td>\n",
       "      <td>70.0</td>\n",
       "      <td>333.0</td>\n",
       "      <td>9817.61</td>\n",
       "    </tr>\n",
       "    <tr>\n",
       "      <th>2</th>\n",
       "      <td>1000</td>\n",
       "      <td>July</td>\n",
       "      <td>ultra</td>\n",
       "      <td>75.0</td>\n",
       "      <td>340.0</td>\n",
       "      <td>14003.64</td>\n",
       "    </tr>\n",
       "    <tr>\n",
       "      <th>3</th>\n",
       "      <td>1000</td>\n",
       "      <td>June</td>\n",
       "      <td>ultra</td>\n",
       "      <td>60.0</td>\n",
       "      <td>172.0</td>\n",
       "      <td>23233.77</td>\n",
       "    </tr>\n",
       "    <tr>\n",
       "      <th>4</th>\n",
       "      <td>1000</td>\n",
       "      <td>May</td>\n",
       "      <td>ultra</td>\n",
       "      <td>22.0</td>\n",
       "      <td>159.0</td>\n",
       "      <td>2253.49</td>\n",
       "    </tr>\n",
       "    <tr>\n",
       "      <th>...</th>\n",
       "      <td>...</td>\n",
       "      <td>...</td>\n",
       "      <td>...</td>\n",
       "      <td>...</td>\n",
       "      <td>...</td>\n",
       "      <td>...</td>\n",
       "    </tr>\n",
       "    <tr>\n",
       "      <th>3211</th>\n",
       "      <td>1494</td>\n",
       "      <td>October</td>\n",
       "      <td>smart</td>\n",
       "      <td>NaN</td>\n",
       "      <td>354.0</td>\n",
       "      <td>17767.24</td>\n",
       "    </tr>\n",
       "    <tr>\n",
       "      <th>3212</th>\n",
       "      <td>1494</td>\n",
       "      <td>September</td>\n",
       "      <td>smart</td>\n",
       "      <td>NaN</td>\n",
       "      <td>501.0</td>\n",
       "      <td>16962.51</td>\n",
       "    </tr>\n",
       "    <tr>\n",
       "      <th>3213</th>\n",
       "      <td>1476</td>\n",
       "      <td>April</td>\n",
       "      <td>ultra</td>\n",
       "      <td>NaN</td>\n",
       "      <td>NaN</td>\n",
       "      <td>530.78</td>\n",
       "    </tr>\n",
       "    <tr>\n",
       "      <th>3214</th>\n",
       "      <td>1128</td>\n",
       "      <td>December</td>\n",
       "      <td>ultra</td>\n",
       "      <td>0.0</td>\n",
       "      <td>0.0</td>\n",
       "      <td>0.00</td>\n",
       "    </tr>\n",
       "    <tr>\n",
       "      <th>3215</th>\n",
       "      <td>1371</td>\n",
       "      <td>December</td>\n",
       "      <td>smart</td>\n",
       "      <td>0.0</td>\n",
       "      <td>0.0</td>\n",
       "      <td>0.00</td>\n",
       "    </tr>\n",
       "  </tbody>\n",
       "</table>\n",
       "<p>3216 rows × 6 columns</p>\n",
       "</div>"
      ],
      "text/plain": [
       "     user_id      month tariff_name  messages_count  call_duration   mb_used\n",
       "0       1000     August       ultra            81.0          408.0  14055.93\n",
       "1       1000   December       ultra            70.0          333.0   9817.61\n",
       "2       1000       July       ultra            75.0          340.0  14003.64\n",
       "3       1000       June       ultra            60.0          172.0  23233.77\n",
       "4       1000        May       ultra            22.0          159.0   2253.49\n",
       "...      ...        ...         ...             ...            ...       ...\n",
       "3211    1494    October       smart             NaN          354.0  17767.24\n",
       "3212    1494  September       smart             NaN          501.0  16962.51\n",
       "3213    1476      April       ultra             NaN            NaN    530.78\n",
       "3214    1128   December       ultra             0.0            0.0      0.00\n",
       "3215    1371   December       smart             0.0            0.0      0.00\n",
       "\n",
       "[3216 rows x 6 columns]"
      ]
     },
     "execution_count": 39,
     "metadata": {},
     "output_type": "execute_result"
    }
   ],
   "source": [
    "# Добавляем две строки с потерянными пользователями\n",
    "add_row_1 = {'user_id':'1128', 'month':'December', 'tariff_name': 'ultra', 'messages_count': 0, 'call_duration' :0, \n",
    "          'mb_used':0}\n",
    "add_row_2 = {'user_id':'1371', 'month':'December', 'tariff_name': 'smart', 'messages_count': 0, 'call_duration' :0, \n",
    "          'mb_used':0}\n",
    "incom_per_month = incom_per_month.append([add_row_1,add_row_2], ignore_index=True)\n",
    "incom_per_month"
   ]
  },
  {
   "cell_type": "code",
   "execution_count": 40,
   "metadata": {},
   "outputs": [
    {
     "data": {
      "text/html": [
       "<div>\n",
       "<style scoped>\n",
       "    .dataframe tbody tr th:only-of-type {\n",
       "        vertical-align: middle;\n",
       "    }\n",
       "\n",
       "    .dataframe tbody tr th {\n",
       "        vertical-align: top;\n",
       "    }\n",
       "\n",
       "    .dataframe thead th {\n",
       "        text-align: right;\n",
       "    }\n",
       "</style>\n",
       "<table border=\"1\" class=\"dataframe\">\n",
       "  <thead>\n",
       "    <tr style=\"text-align: right;\">\n",
       "      <th></th>\n",
       "      <th>user_id</th>\n",
       "      <th>month</th>\n",
       "      <th>tariff_name</th>\n",
       "      <th>messages_count</th>\n",
       "      <th>call_duration</th>\n",
       "      <th>mb_used</th>\n",
       "      <th>messages_included</th>\n",
       "      <th>mb_per_month_included</th>\n",
       "      <th>minutes_included</th>\n",
       "      <th>rub_monthly_fee</th>\n",
       "      <th>rub_per_gb</th>\n",
       "      <th>rub_per_message</th>\n",
       "      <th>rub_per_minute</th>\n",
       "    </tr>\n",
       "  </thead>\n",
       "  <tbody>\n",
       "    <tr>\n",
       "      <th>0</th>\n",
       "      <td>1000</td>\n",
       "      <td>August</td>\n",
       "      <td>ultra</td>\n",
       "      <td>81.0</td>\n",
       "      <td>408.0</td>\n",
       "      <td>14055.93</td>\n",
       "      <td>1000</td>\n",
       "      <td>30720</td>\n",
       "      <td>3000</td>\n",
       "      <td>1950</td>\n",
       "      <td>150</td>\n",
       "      <td>1</td>\n",
       "      <td>1</td>\n",
       "    </tr>\n",
       "    <tr>\n",
       "      <th>1</th>\n",
       "      <td>1000</td>\n",
       "      <td>December</td>\n",
       "      <td>ultra</td>\n",
       "      <td>70.0</td>\n",
       "      <td>333.0</td>\n",
       "      <td>9817.61</td>\n",
       "      <td>1000</td>\n",
       "      <td>30720</td>\n",
       "      <td>3000</td>\n",
       "      <td>1950</td>\n",
       "      <td>150</td>\n",
       "      <td>1</td>\n",
       "      <td>1</td>\n",
       "    </tr>\n",
       "    <tr>\n",
       "      <th>2</th>\n",
       "      <td>1000</td>\n",
       "      <td>July</td>\n",
       "      <td>ultra</td>\n",
       "      <td>75.0</td>\n",
       "      <td>340.0</td>\n",
       "      <td>14003.64</td>\n",
       "      <td>1000</td>\n",
       "      <td>30720</td>\n",
       "      <td>3000</td>\n",
       "      <td>1950</td>\n",
       "      <td>150</td>\n",
       "      <td>1</td>\n",
       "      <td>1</td>\n",
       "    </tr>\n",
       "    <tr>\n",
       "      <th>3</th>\n",
       "      <td>1000</td>\n",
       "      <td>June</td>\n",
       "      <td>ultra</td>\n",
       "      <td>60.0</td>\n",
       "      <td>172.0</td>\n",
       "      <td>23233.77</td>\n",
       "      <td>1000</td>\n",
       "      <td>30720</td>\n",
       "      <td>3000</td>\n",
       "      <td>1950</td>\n",
       "      <td>150</td>\n",
       "      <td>1</td>\n",
       "      <td>1</td>\n",
       "    </tr>\n",
       "    <tr>\n",
       "      <th>4</th>\n",
       "      <td>1000</td>\n",
       "      <td>May</td>\n",
       "      <td>ultra</td>\n",
       "      <td>22.0</td>\n",
       "      <td>159.0</td>\n",
       "      <td>2253.49</td>\n",
       "      <td>1000</td>\n",
       "      <td>30720</td>\n",
       "      <td>3000</td>\n",
       "      <td>1950</td>\n",
       "      <td>150</td>\n",
       "      <td>1</td>\n",
       "      <td>1</td>\n",
       "    </tr>\n",
       "    <tr>\n",
       "      <th>...</th>\n",
       "      <td>...</td>\n",
       "      <td>...</td>\n",
       "      <td>...</td>\n",
       "      <td>...</td>\n",
       "      <td>...</td>\n",
       "      <td>...</td>\n",
       "      <td>...</td>\n",
       "      <td>...</td>\n",
       "      <td>...</td>\n",
       "      <td>...</td>\n",
       "      <td>...</td>\n",
       "      <td>...</td>\n",
       "      <td>...</td>\n",
       "    </tr>\n",
       "    <tr>\n",
       "      <th>3211</th>\n",
       "      <td>1494</td>\n",
       "      <td>December</td>\n",
       "      <td>smart</td>\n",
       "      <td>NaN</td>\n",
       "      <td>418.0</td>\n",
       "      <td>17621.21</td>\n",
       "      <td>50</td>\n",
       "      <td>15360</td>\n",
       "      <td>500</td>\n",
       "      <td>550</td>\n",
       "      <td>200</td>\n",
       "      <td>3</td>\n",
       "      <td>3</td>\n",
       "    </tr>\n",
       "    <tr>\n",
       "      <th>3212</th>\n",
       "      <td>1494</td>\n",
       "      <td>November</td>\n",
       "      <td>smart</td>\n",
       "      <td>NaN</td>\n",
       "      <td>411.0</td>\n",
       "      <td>18052.45</td>\n",
       "      <td>50</td>\n",
       "      <td>15360</td>\n",
       "      <td>500</td>\n",
       "      <td>550</td>\n",
       "      <td>200</td>\n",
       "      <td>3</td>\n",
       "      <td>3</td>\n",
       "    </tr>\n",
       "    <tr>\n",
       "      <th>3213</th>\n",
       "      <td>1494</td>\n",
       "      <td>October</td>\n",
       "      <td>smart</td>\n",
       "      <td>NaN</td>\n",
       "      <td>354.0</td>\n",
       "      <td>17767.24</td>\n",
       "      <td>50</td>\n",
       "      <td>15360</td>\n",
       "      <td>500</td>\n",
       "      <td>550</td>\n",
       "      <td>200</td>\n",
       "      <td>3</td>\n",
       "      <td>3</td>\n",
       "    </tr>\n",
       "    <tr>\n",
       "      <th>3214</th>\n",
       "      <td>1494</td>\n",
       "      <td>September</td>\n",
       "      <td>smart</td>\n",
       "      <td>NaN</td>\n",
       "      <td>501.0</td>\n",
       "      <td>16962.51</td>\n",
       "      <td>50</td>\n",
       "      <td>15360</td>\n",
       "      <td>500</td>\n",
       "      <td>550</td>\n",
       "      <td>200</td>\n",
       "      <td>3</td>\n",
       "      <td>3</td>\n",
       "    </tr>\n",
       "    <tr>\n",
       "      <th>3215</th>\n",
       "      <td>1371</td>\n",
       "      <td>December</td>\n",
       "      <td>smart</td>\n",
       "      <td>0.0</td>\n",
       "      <td>0.0</td>\n",
       "      <td>0.00</td>\n",
       "      <td>50</td>\n",
       "      <td>15360</td>\n",
       "      <td>500</td>\n",
       "      <td>550</td>\n",
       "      <td>200</td>\n",
       "      <td>3</td>\n",
       "      <td>3</td>\n",
       "    </tr>\n",
       "  </tbody>\n",
       "</table>\n",
       "<p>3216 rows × 13 columns</p>\n",
       "</div>"
      ],
      "text/plain": [
       "     user_id      month tariff_name  messages_count  call_duration   mb_used  \\\n",
       "0       1000     August       ultra            81.0          408.0  14055.93   \n",
       "1       1000   December       ultra            70.0          333.0   9817.61   \n",
       "2       1000       July       ultra            75.0          340.0  14003.64   \n",
       "3       1000       June       ultra            60.0          172.0  23233.77   \n",
       "4       1000        May       ultra            22.0          159.0   2253.49   \n",
       "...      ...        ...         ...             ...            ...       ...   \n",
       "3211    1494   December       smart             NaN          418.0  17621.21   \n",
       "3212    1494   November       smart             NaN          411.0  18052.45   \n",
       "3213    1494    October       smart             NaN          354.0  17767.24   \n",
       "3214    1494  September       smart             NaN          501.0  16962.51   \n",
       "3215    1371   December       smart             0.0            0.0      0.00   \n",
       "\n",
       "      messages_included  mb_per_month_included  minutes_included  \\\n",
       "0                  1000                  30720              3000   \n",
       "1                  1000                  30720              3000   \n",
       "2                  1000                  30720              3000   \n",
       "3                  1000                  30720              3000   \n",
       "4                  1000                  30720              3000   \n",
       "...                 ...                    ...               ...   \n",
       "3211                 50                  15360               500   \n",
       "3212                 50                  15360               500   \n",
       "3213                 50                  15360               500   \n",
       "3214                 50                  15360               500   \n",
       "3215                 50                  15360               500   \n",
       "\n",
       "      rub_monthly_fee  rub_per_gb  rub_per_message  rub_per_minute  \n",
       "0                1950         150                1               1  \n",
       "1                1950         150                1               1  \n",
       "2                1950         150                1               1  \n",
       "3                1950         150                1               1  \n",
       "4                1950         150                1               1  \n",
       "...               ...         ...              ...             ...  \n",
       "3211              550         200                3               3  \n",
       "3212              550         200                3               3  \n",
       "3213              550         200                3               3  \n",
       "3214              550         200                3               3  \n",
       "3215              550         200                3               3  \n",
       "\n",
       "[3216 rows x 13 columns]"
      ]
     },
     "execution_count": 40,
     "metadata": {},
     "output_type": "execute_result"
    }
   ],
   "source": [
    "# Объединим датасет incom_per_mounth с датасетом tariffs \n",
    "incom_per_month = incom_per_month.merge(tariffs, on='tariff_name').copy()\n",
    "incom_per_month"
   ]
  },
  {
   "cell_type": "code",
   "execution_count": 41,
   "metadata": {},
   "outputs": [],
   "source": [
    "# В столбце появились NaN, это говорит о том, что определенный пользователь в определенный месяц или вообще\n",
    "# не использовал звонки или смс или интернет трафик, следовательно можно заменить на 0\n",
    "incom_per_month = incom_per_month.fillna(0)"
   ]
  },
  {
   "cell_type": "code",
   "execution_count": 42,
   "metadata": {},
   "outputs": [
    {
     "data": {
      "text/html": [
       "<div>\n",
       "<style scoped>\n",
       "    .dataframe tbody tr th:only-of-type {\n",
       "        vertical-align: middle;\n",
       "    }\n",
       "\n",
       "    .dataframe tbody tr th {\n",
       "        vertical-align: top;\n",
       "    }\n",
       "\n",
       "    .dataframe thead th {\n",
       "        text-align: right;\n",
       "    }\n",
       "</style>\n",
       "<table border=\"1\" class=\"dataframe\">\n",
       "  <thead>\n",
       "    <tr style=\"text-align: right;\">\n",
       "      <th></th>\n",
       "      <th>user_id</th>\n",
       "      <th>month</th>\n",
       "      <th>tariff_name</th>\n",
       "      <th>messages_count</th>\n",
       "      <th>call_duration</th>\n",
       "      <th>mb_used</th>\n",
       "      <th>messages_included</th>\n",
       "      <th>mb_per_month_included</th>\n",
       "      <th>minutes_included</th>\n",
       "      <th>rub_monthly_fee</th>\n",
       "      <th>rub_per_gb</th>\n",
       "      <th>rub_per_message</th>\n",
       "      <th>rub_per_minute</th>\n",
       "    </tr>\n",
       "  </thead>\n",
       "  <tbody>\n",
       "    <tr>\n",
       "      <th>0</th>\n",
       "      <td>1000</td>\n",
       "      <td>August</td>\n",
       "      <td>ultra</td>\n",
       "      <td>81</td>\n",
       "      <td>408</td>\n",
       "      <td>14055</td>\n",
       "      <td>1000</td>\n",
       "      <td>30720</td>\n",
       "      <td>3000</td>\n",
       "      <td>1950</td>\n",
       "      <td>150</td>\n",
       "      <td>1</td>\n",
       "      <td>1</td>\n",
       "    </tr>\n",
       "    <tr>\n",
       "      <th>1</th>\n",
       "      <td>1000</td>\n",
       "      <td>December</td>\n",
       "      <td>ultra</td>\n",
       "      <td>70</td>\n",
       "      <td>333</td>\n",
       "      <td>9817</td>\n",
       "      <td>1000</td>\n",
       "      <td>30720</td>\n",
       "      <td>3000</td>\n",
       "      <td>1950</td>\n",
       "      <td>150</td>\n",
       "      <td>1</td>\n",
       "      <td>1</td>\n",
       "    </tr>\n",
       "    <tr>\n",
       "      <th>2</th>\n",
       "      <td>1000</td>\n",
       "      <td>July</td>\n",
       "      <td>ultra</td>\n",
       "      <td>75</td>\n",
       "      <td>340</td>\n",
       "      <td>14003</td>\n",
       "      <td>1000</td>\n",
       "      <td>30720</td>\n",
       "      <td>3000</td>\n",
       "      <td>1950</td>\n",
       "      <td>150</td>\n",
       "      <td>1</td>\n",
       "      <td>1</td>\n",
       "    </tr>\n",
       "    <tr>\n",
       "      <th>3</th>\n",
       "      <td>1000</td>\n",
       "      <td>June</td>\n",
       "      <td>ultra</td>\n",
       "      <td>60</td>\n",
       "      <td>172</td>\n",
       "      <td>23233</td>\n",
       "      <td>1000</td>\n",
       "      <td>30720</td>\n",
       "      <td>3000</td>\n",
       "      <td>1950</td>\n",
       "      <td>150</td>\n",
       "      <td>1</td>\n",
       "      <td>1</td>\n",
       "    </tr>\n",
       "    <tr>\n",
       "      <th>4</th>\n",
       "      <td>1000</td>\n",
       "      <td>May</td>\n",
       "      <td>ultra</td>\n",
       "      <td>22</td>\n",
       "      <td>159</td>\n",
       "      <td>2253</td>\n",
       "      <td>1000</td>\n",
       "      <td>30720</td>\n",
       "      <td>3000</td>\n",
       "      <td>1950</td>\n",
       "      <td>150</td>\n",
       "      <td>1</td>\n",
       "      <td>1</td>\n",
       "    </tr>\n",
       "    <tr>\n",
       "      <th>...</th>\n",
       "      <td>...</td>\n",
       "      <td>...</td>\n",
       "      <td>...</td>\n",
       "      <td>...</td>\n",
       "      <td>...</td>\n",
       "      <td>...</td>\n",
       "      <td>...</td>\n",
       "      <td>...</td>\n",
       "      <td>...</td>\n",
       "      <td>...</td>\n",
       "      <td>...</td>\n",
       "      <td>...</td>\n",
       "      <td>...</td>\n",
       "    </tr>\n",
       "    <tr>\n",
       "      <th>3211</th>\n",
       "      <td>1494</td>\n",
       "      <td>December</td>\n",
       "      <td>smart</td>\n",
       "      <td>0</td>\n",
       "      <td>418</td>\n",
       "      <td>17621</td>\n",
       "      <td>50</td>\n",
       "      <td>15360</td>\n",
       "      <td>500</td>\n",
       "      <td>550</td>\n",
       "      <td>200</td>\n",
       "      <td>3</td>\n",
       "      <td>3</td>\n",
       "    </tr>\n",
       "    <tr>\n",
       "      <th>3212</th>\n",
       "      <td>1494</td>\n",
       "      <td>November</td>\n",
       "      <td>smart</td>\n",
       "      <td>0</td>\n",
       "      <td>411</td>\n",
       "      <td>18052</td>\n",
       "      <td>50</td>\n",
       "      <td>15360</td>\n",
       "      <td>500</td>\n",
       "      <td>550</td>\n",
       "      <td>200</td>\n",
       "      <td>3</td>\n",
       "      <td>3</td>\n",
       "    </tr>\n",
       "    <tr>\n",
       "      <th>3213</th>\n",
       "      <td>1494</td>\n",
       "      <td>October</td>\n",
       "      <td>smart</td>\n",
       "      <td>0</td>\n",
       "      <td>354</td>\n",
       "      <td>17767</td>\n",
       "      <td>50</td>\n",
       "      <td>15360</td>\n",
       "      <td>500</td>\n",
       "      <td>550</td>\n",
       "      <td>200</td>\n",
       "      <td>3</td>\n",
       "      <td>3</td>\n",
       "    </tr>\n",
       "    <tr>\n",
       "      <th>3214</th>\n",
       "      <td>1494</td>\n",
       "      <td>September</td>\n",
       "      <td>smart</td>\n",
       "      <td>0</td>\n",
       "      <td>501</td>\n",
       "      <td>16962</td>\n",
       "      <td>50</td>\n",
       "      <td>15360</td>\n",
       "      <td>500</td>\n",
       "      <td>550</td>\n",
       "      <td>200</td>\n",
       "      <td>3</td>\n",
       "      <td>3</td>\n",
       "    </tr>\n",
       "    <tr>\n",
       "      <th>3215</th>\n",
       "      <td>1371</td>\n",
       "      <td>December</td>\n",
       "      <td>smart</td>\n",
       "      <td>0</td>\n",
       "      <td>0</td>\n",
       "      <td>0</td>\n",
       "      <td>50</td>\n",
       "      <td>15360</td>\n",
       "      <td>500</td>\n",
       "      <td>550</td>\n",
       "      <td>200</td>\n",
       "      <td>3</td>\n",
       "      <td>3</td>\n",
       "    </tr>\n",
       "  </tbody>\n",
       "</table>\n",
       "<p>3216 rows × 13 columns</p>\n",
       "</div>"
      ],
      "text/plain": [
       "     user_id      month tariff_name  messages_count  call_duration  mb_used  \\\n",
       "0       1000     August       ultra              81            408    14055   \n",
       "1       1000   December       ultra              70            333     9817   \n",
       "2       1000       July       ultra              75            340    14003   \n",
       "3       1000       June       ultra              60            172    23233   \n",
       "4       1000        May       ultra              22            159     2253   \n",
       "...      ...        ...         ...             ...            ...      ...   \n",
       "3211    1494   December       smart               0            418    17621   \n",
       "3212    1494   November       smart               0            411    18052   \n",
       "3213    1494    October       smart               0            354    17767   \n",
       "3214    1494  September       smart               0            501    16962   \n",
       "3215    1371   December       smart               0              0        0   \n",
       "\n",
       "      messages_included  mb_per_month_included  minutes_included  \\\n",
       "0                  1000                  30720              3000   \n",
       "1                  1000                  30720              3000   \n",
       "2                  1000                  30720              3000   \n",
       "3                  1000                  30720              3000   \n",
       "4                  1000                  30720              3000   \n",
       "...                 ...                    ...               ...   \n",
       "3211                 50                  15360               500   \n",
       "3212                 50                  15360               500   \n",
       "3213                 50                  15360               500   \n",
       "3214                 50                  15360               500   \n",
       "3215                 50                  15360               500   \n",
       "\n",
       "      rub_monthly_fee  rub_per_gb  rub_per_message  rub_per_minute  \n",
       "0                1950         150                1               1  \n",
       "1                1950         150                1               1  \n",
       "2                1950         150                1               1  \n",
       "3                1950         150                1               1  \n",
       "4                1950         150                1               1  \n",
       "...               ...         ...              ...             ...  \n",
       "3211              550         200                3               3  \n",
       "3212              550         200                3               3  \n",
       "3213              550         200                3               3  \n",
       "3214              550         200                3               3  \n",
       "3215              550         200                3               3  \n",
       "\n",
       "[3216 rows x 13 columns]"
      ]
     },
     "execution_count": 42,
     "metadata": {},
     "output_type": "execute_result"
    }
   ],
   "source": [
    "# В столбцах 'call_duration', 'mb_used', 'messages_count' изменяем тип данных на int\n",
    "incom_per_month[['call_duration', 'mb_used', 'messages_count']] =(\n",
    "    incom_per_month[['call_duration', 'mb_used', 'messages_count']].astype('int')\n",
    ") \n",
    "incom_per_month"
   ]
  },
  {
   "cell_type": "code",
   "execution_count": 43,
   "metadata": {},
   "outputs": [],
   "source": [
    "# Функция для вычисления израсходованных минут\n",
    "def count_message(row):\n",
    "    a = row.messages_count - row.messages_included\n",
    "    if a < 0:\n",
    "        return(0)\n",
    "    \n",
    "    return(a*row.rub_per_message)\n",
    "    \n",
    "incom_per_month['message_price'] = incom_per_month.apply(count_message, axis=1)  "
   ]
  },
  {
   "cell_type": "code",
   "execution_count": 44,
   "metadata": {},
   "outputs": [],
   "source": [
    "# Функция для вычисления израсходованных минут на звонки\n",
    "def count_call_duration(row):\n",
    "    a = row.call_duration - row.minutes_included\n",
    "    if a < 0:\n",
    "        return(0)   \n",
    "    return(a*row.rub_per_minute)\n",
    "    \n",
    "incom_per_month['call_price'] = incom_per_month.apply(count_call_duration, axis=1)"
   ]
  },
  {
   "cell_type": "code",
   "execution_count": 45,
   "metadata": {},
   "outputs": [],
   "source": [
    "# Функция для вычисления израсходованного интернет трафика\n",
    "def count_internet(row):\n",
    "    a = row.mb_used - row.mb_per_month_included\n",
    "    if a < 0:\n",
    "        return(0)\n",
    "    return(a)\n",
    "    \n",
    "incom_per_month['internet_price_mb'] = incom_per_month.apply(count_internet, axis=1)"
   ]
  },
  {
   "cell_type": "code",
   "execution_count": 46,
   "metadata": {},
   "outputs": [
    {
     "data": {
      "text/html": [
       "<div>\n",
       "<style scoped>\n",
       "    .dataframe tbody tr th:only-of-type {\n",
       "        vertical-align: middle;\n",
       "    }\n",
       "\n",
       "    .dataframe tbody tr th {\n",
       "        vertical-align: top;\n",
       "    }\n",
       "\n",
       "    .dataframe thead th {\n",
       "        text-align: right;\n",
       "    }\n",
       "</style>\n",
       "<table border=\"1\" class=\"dataframe\">\n",
       "  <thead>\n",
       "    <tr style=\"text-align: right;\">\n",
       "      <th></th>\n",
       "      <th>user_id</th>\n",
       "      <th>month</th>\n",
       "      <th>tariff_name</th>\n",
       "      <th>messages_count</th>\n",
       "      <th>call_duration</th>\n",
       "      <th>mb_used</th>\n",
       "      <th>messages_included</th>\n",
       "      <th>mb_per_month_included</th>\n",
       "      <th>minutes_included</th>\n",
       "      <th>rub_monthly_fee</th>\n",
       "      <th>rub_per_gb</th>\n",
       "      <th>rub_per_message</th>\n",
       "      <th>rub_per_minute</th>\n",
       "      <th>message_price</th>\n",
       "      <th>call_price</th>\n",
       "      <th>internet_price_mb</th>\n",
       "      <th>internet_price_GB</th>\n",
       "    </tr>\n",
       "  </thead>\n",
       "  <tbody>\n",
       "    <tr>\n",
       "      <th>0</th>\n",
       "      <td>1000</td>\n",
       "      <td>August</td>\n",
       "      <td>ultra</td>\n",
       "      <td>81</td>\n",
       "      <td>408</td>\n",
       "      <td>14055</td>\n",
       "      <td>1000</td>\n",
       "      <td>30720</td>\n",
       "      <td>3000</td>\n",
       "      <td>1950</td>\n",
       "      <td>150</td>\n",
       "      <td>1</td>\n",
       "      <td>1</td>\n",
       "      <td>0</td>\n",
       "      <td>0</td>\n",
       "      <td>0</td>\n",
       "      <td>0</td>\n",
       "    </tr>\n",
       "    <tr>\n",
       "      <th>1</th>\n",
       "      <td>1000</td>\n",
       "      <td>December</td>\n",
       "      <td>ultra</td>\n",
       "      <td>70</td>\n",
       "      <td>333</td>\n",
       "      <td>9817</td>\n",
       "      <td>1000</td>\n",
       "      <td>30720</td>\n",
       "      <td>3000</td>\n",
       "      <td>1950</td>\n",
       "      <td>150</td>\n",
       "      <td>1</td>\n",
       "      <td>1</td>\n",
       "      <td>0</td>\n",
       "      <td>0</td>\n",
       "      <td>0</td>\n",
       "      <td>0</td>\n",
       "    </tr>\n",
       "    <tr>\n",
       "      <th>2</th>\n",
       "      <td>1000</td>\n",
       "      <td>July</td>\n",
       "      <td>ultra</td>\n",
       "      <td>75</td>\n",
       "      <td>340</td>\n",
       "      <td>14003</td>\n",
       "      <td>1000</td>\n",
       "      <td>30720</td>\n",
       "      <td>3000</td>\n",
       "      <td>1950</td>\n",
       "      <td>150</td>\n",
       "      <td>1</td>\n",
       "      <td>1</td>\n",
       "      <td>0</td>\n",
       "      <td>0</td>\n",
       "      <td>0</td>\n",
       "      <td>0</td>\n",
       "    </tr>\n",
       "    <tr>\n",
       "      <th>3</th>\n",
       "      <td>1000</td>\n",
       "      <td>June</td>\n",
       "      <td>ultra</td>\n",
       "      <td>60</td>\n",
       "      <td>172</td>\n",
       "      <td>23233</td>\n",
       "      <td>1000</td>\n",
       "      <td>30720</td>\n",
       "      <td>3000</td>\n",
       "      <td>1950</td>\n",
       "      <td>150</td>\n",
       "      <td>1</td>\n",
       "      <td>1</td>\n",
       "      <td>0</td>\n",
       "      <td>0</td>\n",
       "      <td>0</td>\n",
       "      <td>0</td>\n",
       "    </tr>\n",
       "    <tr>\n",
       "      <th>4</th>\n",
       "      <td>1000</td>\n",
       "      <td>May</td>\n",
       "      <td>ultra</td>\n",
       "      <td>22</td>\n",
       "      <td>159</td>\n",
       "      <td>2253</td>\n",
       "      <td>1000</td>\n",
       "      <td>30720</td>\n",
       "      <td>3000</td>\n",
       "      <td>1950</td>\n",
       "      <td>150</td>\n",
       "      <td>1</td>\n",
       "      <td>1</td>\n",
       "      <td>0</td>\n",
       "      <td>0</td>\n",
       "      <td>0</td>\n",
       "      <td>0</td>\n",
       "    </tr>\n",
       "    <tr>\n",
       "      <th>...</th>\n",
       "      <td>...</td>\n",
       "      <td>...</td>\n",
       "      <td>...</td>\n",
       "      <td>...</td>\n",
       "      <td>...</td>\n",
       "      <td>...</td>\n",
       "      <td>...</td>\n",
       "      <td>...</td>\n",
       "      <td>...</td>\n",
       "      <td>...</td>\n",
       "      <td>...</td>\n",
       "      <td>...</td>\n",
       "      <td>...</td>\n",
       "      <td>...</td>\n",
       "      <td>...</td>\n",
       "      <td>...</td>\n",
       "      <td>...</td>\n",
       "    </tr>\n",
       "    <tr>\n",
       "      <th>3211</th>\n",
       "      <td>1494</td>\n",
       "      <td>December</td>\n",
       "      <td>smart</td>\n",
       "      <td>0</td>\n",
       "      <td>418</td>\n",
       "      <td>17621</td>\n",
       "      <td>50</td>\n",
       "      <td>15360</td>\n",
       "      <td>500</td>\n",
       "      <td>550</td>\n",
       "      <td>200</td>\n",
       "      <td>3</td>\n",
       "      <td>3</td>\n",
       "      <td>0</td>\n",
       "      <td>0</td>\n",
       "      <td>2261</td>\n",
       "      <td>600</td>\n",
       "    </tr>\n",
       "    <tr>\n",
       "      <th>3212</th>\n",
       "      <td>1494</td>\n",
       "      <td>November</td>\n",
       "      <td>smart</td>\n",
       "      <td>0</td>\n",
       "      <td>411</td>\n",
       "      <td>18052</td>\n",
       "      <td>50</td>\n",
       "      <td>15360</td>\n",
       "      <td>500</td>\n",
       "      <td>550</td>\n",
       "      <td>200</td>\n",
       "      <td>3</td>\n",
       "      <td>3</td>\n",
       "      <td>0</td>\n",
       "      <td>0</td>\n",
       "      <td>2692</td>\n",
       "      <td>600</td>\n",
       "    </tr>\n",
       "    <tr>\n",
       "      <th>3213</th>\n",
       "      <td>1494</td>\n",
       "      <td>October</td>\n",
       "      <td>smart</td>\n",
       "      <td>0</td>\n",
       "      <td>354</td>\n",
       "      <td>17767</td>\n",
       "      <td>50</td>\n",
       "      <td>15360</td>\n",
       "      <td>500</td>\n",
       "      <td>550</td>\n",
       "      <td>200</td>\n",
       "      <td>3</td>\n",
       "      <td>3</td>\n",
       "      <td>0</td>\n",
       "      <td>0</td>\n",
       "      <td>2407</td>\n",
       "      <td>600</td>\n",
       "    </tr>\n",
       "    <tr>\n",
       "      <th>3214</th>\n",
       "      <td>1494</td>\n",
       "      <td>September</td>\n",
       "      <td>smart</td>\n",
       "      <td>0</td>\n",
       "      <td>501</td>\n",
       "      <td>16962</td>\n",
       "      <td>50</td>\n",
       "      <td>15360</td>\n",
       "      <td>500</td>\n",
       "      <td>550</td>\n",
       "      <td>200</td>\n",
       "      <td>3</td>\n",
       "      <td>3</td>\n",
       "      <td>0</td>\n",
       "      <td>3</td>\n",
       "      <td>1602</td>\n",
       "      <td>400</td>\n",
       "    </tr>\n",
       "    <tr>\n",
       "      <th>3215</th>\n",
       "      <td>1371</td>\n",
       "      <td>December</td>\n",
       "      <td>smart</td>\n",
       "      <td>0</td>\n",
       "      <td>0</td>\n",
       "      <td>0</td>\n",
       "      <td>50</td>\n",
       "      <td>15360</td>\n",
       "      <td>500</td>\n",
       "      <td>550</td>\n",
       "      <td>200</td>\n",
       "      <td>3</td>\n",
       "      <td>3</td>\n",
       "      <td>0</td>\n",
       "      <td>0</td>\n",
       "      <td>0</td>\n",
       "      <td>0</td>\n",
       "    </tr>\n",
       "  </tbody>\n",
       "</table>\n",
       "<p>3216 rows × 17 columns</p>\n",
       "</div>"
      ],
      "text/plain": [
       "     user_id      month tariff_name  messages_count  call_duration  mb_used  \\\n",
       "0       1000     August       ultra              81            408    14055   \n",
       "1       1000   December       ultra              70            333     9817   \n",
       "2       1000       July       ultra              75            340    14003   \n",
       "3       1000       June       ultra              60            172    23233   \n",
       "4       1000        May       ultra              22            159     2253   \n",
       "...      ...        ...         ...             ...            ...      ...   \n",
       "3211    1494   December       smart               0            418    17621   \n",
       "3212    1494   November       smart               0            411    18052   \n",
       "3213    1494    October       smart               0            354    17767   \n",
       "3214    1494  September       smart               0            501    16962   \n",
       "3215    1371   December       smart               0              0        0   \n",
       "\n",
       "      messages_included  mb_per_month_included  minutes_included  \\\n",
       "0                  1000                  30720              3000   \n",
       "1                  1000                  30720              3000   \n",
       "2                  1000                  30720              3000   \n",
       "3                  1000                  30720              3000   \n",
       "4                  1000                  30720              3000   \n",
       "...                 ...                    ...               ...   \n",
       "3211                 50                  15360               500   \n",
       "3212                 50                  15360               500   \n",
       "3213                 50                  15360               500   \n",
       "3214                 50                  15360               500   \n",
       "3215                 50                  15360               500   \n",
       "\n",
       "      rub_monthly_fee  rub_per_gb  rub_per_message  rub_per_minute  \\\n",
       "0                1950         150                1               1   \n",
       "1                1950         150                1               1   \n",
       "2                1950         150                1               1   \n",
       "3                1950         150                1               1   \n",
       "4                1950         150                1               1   \n",
       "...               ...         ...              ...             ...   \n",
       "3211              550         200                3               3   \n",
       "3212              550         200                3               3   \n",
       "3213              550         200                3               3   \n",
       "3214              550         200                3               3   \n",
       "3215              550         200                3               3   \n",
       "\n",
       "      message_price  call_price  internet_price_mb  internet_price_GB  \n",
       "0                 0           0                  0                  0  \n",
       "1                 0           0                  0                  0  \n",
       "2                 0           0                  0                  0  \n",
       "3                 0           0                  0                  0  \n",
       "4                 0           0                  0                  0  \n",
       "...             ...         ...                ...                ...  \n",
       "3211              0           0               2261                600  \n",
       "3212              0           0               2692                600  \n",
       "3213              0           0               2407                600  \n",
       "3214              0           3               1602                400  \n",
       "3215              0           0                  0                  0  \n",
       "\n",
       "[3216 rows x 17 columns]"
      ]
     },
     "execution_count": 46,
     "metadata": {},
     "output_type": "execute_result"
    }
   ],
   "source": [
    "# Рассчитаем стоимость интернет трафика, превышающего норму предусмотренную тарифом\n",
    "incom_per_month['internet_price_GB'] = (\n",
    "    np.ceil((incom_per_month['internet_price_mb'] / 1024)).astype('int')\n",
    ")\n",
    "incom_per_month['internet_price_GB'] = incom_per_month['internet_price_GB']*incom_per_month['rub_per_gb']\n",
    "incom_per_month"
   ]
  },
  {
   "cell_type": "code",
   "execution_count": 48,
   "metadata": {},
   "outputs": [
    {
     "data": {
      "text/html": [
       "<div>\n",
       "<style scoped>\n",
       "    .dataframe tbody tr th:only-of-type {\n",
       "        vertical-align: middle;\n",
       "    }\n",
       "\n",
       "    .dataframe tbody tr th {\n",
       "        vertical-align: top;\n",
       "    }\n",
       "\n",
       "    .dataframe thead th {\n",
       "        text-align: right;\n",
       "    }\n",
       "</style>\n",
       "<table border=\"1\" class=\"dataframe\">\n",
       "  <thead>\n",
       "    <tr style=\"text-align: right;\">\n",
       "      <th></th>\n",
       "      <th>user_id</th>\n",
       "      <th>month</th>\n",
       "      <th>tariff_name</th>\n",
       "      <th>messages_count</th>\n",
       "      <th>call_duration</th>\n",
       "      <th>mb_used</th>\n",
       "      <th>messages_included</th>\n",
       "      <th>mb_per_month_included</th>\n",
       "      <th>minutes_included</th>\n",
       "      <th>rub_monthly_fee</th>\n",
       "      <th>rub_per_gb</th>\n",
       "      <th>rub_per_message</th>\n",
       "      <th>rub_per_minute</th>\n",
       "      <th>message_price</th>\n",
       "      <th>call_price</th>\n",
       "      <th>internet_price_mb</th>\n",
       "      <th>internet_price_GB</th>\n",
       "      <th>full_fee</th>\n",
       "    </tr>\n",
       "  </thead>\n",
       "  <tbody>\n",
       "    <tr>\n",
       "      <th>0</th>\n",
       "      <td>1000</td>\n",
       "      <td>August</td>\n",
       "      <td>ultra</td>\n",
       "      <td>81</td>\n",
       "      <td>408</td>\n",
       "      <td>14055</td>\n",
       "      <td>1000</td>\n",
       "      <td>30720</td>\n",
       "      <td>3000</td>\n",
       "      <td>1950</td>\n",
       "      <td>150</td>\n",
       "      <td>1</td>\n",
       "      <td>1</td>\n",
       "      <td>0</td>\n",
       "      <td>0</td>\n",
       "      <td>0</td>\n",
       "      <td>0</td>\n",
       "      <td>1950</td>\n",
       "    </tr>\n",
       "    <tr>\n",
       "      <th>1</th>\n",
       "      <td>1000</td>\n",
       "      <td>December</td>\n",
       "      <td>ultra</td>\n",
       "      <td>70</td>\n",
       "      <td>333</td>\n",
       "      <td>9817</td>\n",
       "      <td>1000</td>\n",
       "      <td>30720</td>\n",
       "      <td>3000</td>\n",
       "      <td>1950</td>\n",
       "      <td>150</td>\n",
       "      <td>1</td>\n",
       "      <td>1</td>\n",
       "      <td>0</td>\n",
       "      <td>0</td>\n",
       "      <td>0</td>\n",
       "      <td>0</td>\n",
       "      <td>1950</td>\n",
       "    </tr>\n",
       "    <tr>\n",
       "      <th>2</th>\n",
       "      <td>1000</td>\n",
       "      <td>July</td>\n",
       "      <td>ultra</td>\n",
       "      <td>75</td>\n",
       "      <td>340</td>\n",
       "      <td>14003</td>\n",
       "      <td>1000</td>\n",
       "      <td>30720</td>\n",
       "      <td>3000</td>\n",
       "      <td>1950</td>\n",
       "      <td>150</td>\n",
       "      <td>1</td>\n",
       "      <td>1</td>\n",
       "      <td>0</td>\n",
       "      <td>0</td>\n",
       "      <td>0</td>\n",
       "      <td>0</td>\n",
       "      <td>1950</td>\n",
       "    </tr>\n",
       "    <tr>\n",
       "      <th>3</th>\n",
       "      <td>1000</td>\n",
       "      <td>June</td>\n",
       "      <td>ultra</td>\n",
       "      <td>60</td>\n",
       "      <td>172</td>\n",
       "      <td>23233</td>\n",
       "      <td>1000</td>\n",
       "      <td>30720</td>\n",
       "      <td>3000</td>\n",
       "      <td>1950</td>\n",
       "      <td>150</td>\n",
       "      <td>1</td>\n",
       "      <td>1</td>\n",
       "      <td>0</td>\n",
       "      <td>0</td>\n",
       "      <td>0</td>\n",
       "      <td>0</td>\n",
       "      <td>1950</td>\n",
       "    </tr>\n",
       "    <tr>\n",
       "      <th>4</th>\n",
       "      <td>1000</td>\n",
       "      <td>May</td>\n",
       "      <td>ultra</td>\n",
       "      <td>22</td>\n",
       "      <td>159</td>\n",
       "      <td>2253</td>\n",
       "      <td>1000</td>\n",
       "      <td>30720</td>\n",
       "      <td>3000</td>\n",
       "      <td>1950</td>\n",
       "      <td>150</td>\n",
       "      <td>1</td>\n",
       "      <td>1</td>\n",
       "      <td>0</td>\n",
       "      <td>0</td>\n",
       "      <td>0</td>\n",
       "      <td>0</td>\n",
       "      <td>1950</td>\n",
       "    </tr>\n",
       "    <tr>\n",
       "      <th>...</th>\n",
       "      <td>...</td>\n",
       "      <td>...</td>\n",
       "      <td>...</td>\n",
       "      <td>...</td>\n",
       "      <td>...</td>\n",
       "      <td>...</td>\n",
       "      <td>...</td>\n",
       "      <td>...</td>\n",
       "      <td>...</td>\n",
       "      <td>...</td>\n",
       "      <td>...</td>\n",
       "      <td>...</td>\n",
       "      <td>...</td>\n",
       "      <td>...</td>\n",
       "      <td>...</td>\n",
       "      <td>...</td>\n",
       "      <td>...</td>\n",
       "      <td>...</td>\n",
       "    </tr>\n",
       "    <tr>\n",
       "      <th>3211</th>\n",
       "      <td>1494</td>\n",
       "      <td>December</td>\n",
       "      <td>smart</td>\n",
       "      <td>0</td>\n",
       "      <td>418</td>\n",
       "      <td>17621</td>\n",
       "      <td>50</td>\n",
       "      <td>15360</td>\n",
       "      <td>500</td>\n",
       "      <td>550</td>\n",
       "      <td>200</td>\n",
       "      <td>3</td>\n",
       "      <td>3</td>\n",
       "      <td>0</td>\n",
       "      <td>0</td>\n",
       "      <td>2261</td>\n",
       "      <td>600</td>\n",
       "      <td>1150</td>\n",
       "    </tr>\n",
       "    <tr>\n",
       "      <th>3212</th>\n",
       "      <td>1494</td>\n",
       "      <td>November</td>\n",
       "      <td>smart</td>\n",
       "      <td>0</td>\n",
       "      <td>411</td>\n",
       "      <td>18052</td>\n",
       "      <td>50</td>\n",
       "      <td>15360</td>\n",
       "      <td>500</td>\n",
       "      <td>550</td>\n",
       "      <td>200</td>\n",
       "      <td>3</td>\n",
       "      <td>3</td>\n",
       "      <td>0</td>\n",
       "      <td>0</td>\n",
       "      <td>2692</td>\n",
       "      <td>600</td>\n",
       "      <td>1150</td>\n",
       "    </tr>\n",
       "    <tr>\n",
       "      <th>3213</th>\n",
       "      <td>1494</td>\n",
       "      <td>October</td>\n",
       "      <td>smart</td>\n",
       "      <td>0</td>\n",
       "      <td>354</td>\n",
       "      <td>17767</td>\n",
       "      <td>50</td>\n",
       "      <td>15360</td>\n",
       "      <td>500</td>\n",
       "      <td>550</td>\n",
       "      <td>200</td>\n",
       "      <td>3</td>\n",
       "      <td>3</td>\n",
       "      <td>0</td>\n",
       "      <td>0</td>\n",
       "      <td>2407</td>\n",
       "      <td>600</td>\n",
       "      <td>1150</td>\n",
       "    </tr>\n",
       "    <tr>\n",
       "      <th>3214</th>\n",
       "      <td>1494</td>\n",
       "      <td>September</td>\n",
       "      <td>smart</td>\n",
       "      <td>0</td>\n",
       "      <td>501</td>\n",
       "      <td>16962</td>\n",
       "      <td>50</td>\n",
       "      <td>15360</td>\n",
       "      <td>500</td>\n",
       "      <td>550</td>\n",
       "      <td>200</td>\n",
       "      <td>3</td>\n",
       "      <td>3</td>\n",
       "      <td>0</td>\n",
       "      <td>3</td>\n",
       "      <td>1602</td>\n",
       "      <td>400</td>\n",
       "      <td>953</td>\n",
       "    </tr>\n",
       "    <tr>\n",
       "      <th>3215</th>\n",
       "      <td>1371</td>\n",
       "      <td>December</td>\n",
       "      <td>smart</td>\n",
       "      <td>0</td>\n",
       "      <td>0</td>\n",
       "      <td>0</td>\n",
       "      <td>50</td>\n",
       "      <td>15360</td>\n",
       "      <td>500</td>\n",
       "      <td>550</td>\n",
       "      <td>200</td>\n",
       "      <td>3</td>\n",
       "      <td>3</td>\n",
       "      <td>0</td>\n",
       "      <td>0</td>\n",
       "      <td>0</td>\n",
       "      <td>0</td>\n",
       "      <td>550</td>\n",
       "    </tr>\n",
       "  </tbody>\n",
       "</table>\n",
       "<p>3216 rows × 18 columns</p>\n",
       "</div>"
      ],
      "text/plain": [
       "     user_id      month tariff_name  messages_count  call_duration  mb_used  \\\n",
       "0       1000     August       ultra              81            408    14055   \n",
       "1       1000   December       ultra              70            333     9817   \n",
       "2       1000       July       ultra              75            340    14003   \n",
       "3       1000       June       ultra              60            172    23233   \n",
       "4       1000        May       ultra              22            159     2253   \n",
       "...      ...        ...         ...             ...            ...      ...   \n",
       "3211    1494   December       smart               0            418    17621   \n",
       "3212    1494   November       smart               0            411    18052   \n",
       "3213    1494    October       smart               0            354    17767   \n",
       "3214    1494  September       smart               0            501    16962   \n",
       "3215    1371   December       smart               0              0        0   \n",
       "\n",
       "      messages_included  mb_per_month_included  minutes_included  \\\n",
       "0                  1000                  30720              3000   \n",
       "1                  1000                  30720              3000   \n",
       "2                  1000                  30720              3000   \n",
       "3                  1000                  30720              3000   \n",
       "4                  1000                  30720              3000   \n",
       "...                 ...                    ...               ...   \n",
       "3211                 50                  15360               500   \n",
       "3212                 50                  15360               500   \n",
       "3213                 50                  15360               500   \n",
       "3214                 50                  15360               500   \n",
       "3215                 50                  15360               500   \n",
       "\n",
       "      rub_monthly_fee  rub_per_gb  rub_per_message  rub_per_minute  \\\n",
       "0                1950         150                1               1   \n",
       "1                1950         150                1               1   \n",
       "2                1950         150                1               1   \n",
       "3                1950         150                1               1   \n",
       "4                1950         150                1               1   \n",
       "...               ...         ...              ...             ...   \n",
       "3211              550         200                3               3   \n",
       "3212              550         200                3               3   \n",
       "3213              550         200                3               3   \n",
       "3214              550         200                3               3   \n",
       "3215              550         200                3               3   \n",
       "\n",
       "      message_price  call_price  internet_price_mb  internet_price_GB  \\\n",
       "0                 0           0                  0                  0   \n",
       "1                 0           0                  0                  0   \n",
       "2                 0           0                  0                  0   \n",
       "3                 0           0                  0                  0   \n",
       "4                 0           0                  0                  0   \n",
       "...             ...         ...                ...                ...   \n",
       "3211              0           0               2261                600   \n",
       "3212              0           0               2692                600   \n",
       "3213              0           0               2407                600   \n",
       "3214              0           3               1602                400   \n",
       "3215              0           0                  0                  0   \n",
       "\n",
       "      full_fee  \n",
       "0         1950  \n",
       "1         1950  \n",
       "2         1950  \n",
       "3         1950  \n",
       "4         1950  \n",
       "...        ...  \n",
       "3211      1150  \n",
       "3212      1150  \n",
       "3213      1150  \n",
       "3214       953  \n",
       "3215       550  \n",
       "\n",
       "[3216 rows x 18 columns]"
      ]
     },
     "execution_count": 48,
     "metadata": {},
     "output_type": "execute_result"
    }
   ],
   "source": [
    "# Найдем помесячеую выручку с каждого пользователя\n",
    "incom_per_month['full_fee'] = (\n",
    "    (incom_per_month['call_price']+\n",
    "    incom_per_month['message_price']+\n",
    "    incom_per_month['internet_price_GB']+\n",
    "    incom_per_month['rub_monthly_fee']) \n",
    ")\n",
    "incom_per_month"
   ]
  },
  {
   "cell_type": "markdown",
   "metadata": {},
   "source": [
    "#### **Вывод**:\n",
    "Нашли:\n",
    "1. Объем израсходованного интернет трафика трафика для пользователей по месяцам\n",
    "2. Количество и продолжительность звонков для пользователей по месяцам\n",
    "3. Количество отправленных сообщений для пользователей по месяцам\n",
    "4. Рассчитали выручку с каждого пользователя с учетом его тарифного плана и израсходованных минут, звонков и интернет трафика в месяц. "
   ]
  },
  {
   "cell_type": "markdown",
   "metadata": {},
   "source": [
    "## Анализ данных"
   ]
  },
  {
   "cell_type": "markdown",
   "metadata": {},
   "source": [
    "<div style=\"border:solid green 1px; padding: 20px\"> \n",
    " Поскольку выборки пользователей разных тарифов не зависят друг от друга, то их объем может отличаться. Следовательно у нас 149 пользователей тарифа smart и 309 пользователя тарифа ultra. 2 пользователя из предоставленной выборки не использовали смс, звонки и интернет трафик, поэтому при группировки данных в один датасет они не учитывались.\n",
    "</div>\n"
   ]
  },
  {
   "cell_type": "code",
   "execution_count": 49,
   "metadata": {},
   "outputs": [
    {
     "data": {
      "text/html": [
       "<div>\n",
       "<style scoped>\n",
       "    .dataframe tbody tr th:only-of-type {\n",
       "        vertical-align: middle;\n",
       "    }\n",
       "\n",
       "    .dataframe tbody tr th {\n",
       "        vertical-align: top;\n",
       "    }\n",
       "\n",
       "    .dataframe thead th {\n",
       "        text-align: right;\n",
       "    }\n",
       "</style>\n",
       "<table border=\"1\" class=\"dataframe\">\n",
       "  <thead>\n",
       "    <tr style=\"text-align: right;\">\n",
       "      <th></th>\n",
       "      <th>user_id</th>\n",
       "      <th>month</th>\n",
       "      <th>tariff_name</th>\n",
       "      <th>messages_count</th>\n",
       "      <th>call_duration</th>\n",
       "      <th>mb_used</th>\n",
       "      <th>messages_included</th>\n",
       "      <th>mb_per_month_included</th>\n",
       "      <th>minutes_included</th>\n",
       "      <th>rub_monthly_fee</th>\n",
       "      <th>rub_per_gb</th>\n",
       "      <th>rub_per_message</th>\n",
       "      <th>rub_per_minute</th>\n",
       "      <th>message_price</th>\n",
       "      <th>call_price</th>\n",
       "      <th>internet_price_mb</th>\n",
       "      <th>internet_price_GB</th>\n",
       "      <th>full_fee</th>\n",
       "    </tr>\n",
       "  </thead>\n",
       "  <tbody>\n",
       "    <tr>\n",
       "      <th>986</th>\n",
       "      <td>1002</td>\n",
       "      <td>August</td>\n",
       "      <td>smart</td>\n",
       "      <td>13</td>\n",
       "      <td>289</td>\n",
       "      <td>20319</td>\n",
       "      <td>50</td>\n",
       "      <td>15360</td>\n",
       "      <td>500</td>\n",
       "      <td>550</td>\n",
       "      <td>200</td>\n",
       "      <td>3</td>\n",
       "      <td>3</td>\n",
       "      <td>0</td>\n",
       "      <td>0</td>\n",
       "      <td>4959</td>\n",
       "      <td>1000</td>\n",
       "      <td>1550</td>\n",
       "    </tr>\n",
       "    <tr>\n",
       "      <th>987</th>\n",
       "      <td>1002</td>\n",
       "      <td>December</td>\n",
       "      <td>smart</td>\n",
       "      <td>12</td>\n",
       "      <td>236</td>\n",
       "      <td>18113</td>\n",
       "      <td>50</td>\n",
       "      <td>15360</td>\n",
       "      <td>500</td>\n",
       "      <td>550</td>\n",
       "      <td>200</td>\n",
       "      <td>3</td>\n",
       "      <td>3</td>\n",
       "      <td>0</td>\n",
       "      <td>0</td>\n",
       "      <td>2753</td>\n",
       "      <td>600</td>\n",
       "      <td>1150</td>\n",
       "    </tr>\n",
       "    <tr>\n",
       "      <th>988</th>\n",
       "      <td>1002</td>\n",
       "      <td>July</td>\n",
       "      <td>smart</td>\n",
       "      <td>11</td>\n",
       "      <td>214</td>\n",
       "      <td>17580</td>\n",
       "      <td>50</td>\n",
       "      <td>15360</td>\n",
       "      <td>500</td>\n",
       "      <td>550</td>\n",
       "      <td>200</td>\n",
       "      <td>3</td>\n",
       "      <td>3</td>\n",
       "      <td>0</td>\n",
       "      <td>0</td>\n",
       "      <td>2220</td>\n",
       "      <td>600</td>\n",
       "      <td>1150</td>\n",
       "    </tr>\n",
       "    <tr>\n",
       "      <th>989</th>\n",
       "      <td>1002</td>\n",
       "      <td>June</td>\n",
       "      <td>smart</td>\n",
       "      <td>4</td>\n",
       "      <td>117</td>\n",
       "      <td>10856</td>\n",
       "      <td>50</td>\n",
       "      <td>15360</td>\n",
       "      <td>500</td>\n",
       "      <td>550</td>\n",
       "      <td>200</td>\n",
       "      <td>3</td>\n",
       "      <td>3</td>\n",
       "      <td>0</td>\n",
       "      <td>0</td>\n",
       "      <td>0</td>\n",
       "      <td>0</td>\n",
       "      <td>550</td>\n",
       "    </tr>\n",
       "    <tr>\n",
       "      <th>990</th>\n",
       "      <td>1002</td>\n",
       "      <td>November</td>\n",
       "      <td>smart</td>\n",
       "      <td>16</td>\n",
       "      <td>243</td>\n",
       "      <td>18587</td>\n",
       "      <td>50</td>\n",
       "      <td>15360</td>\n",
       "      <td>500</td>\n",
       "      <td>550</td>\n",
       "      <td>200</td>\n",
       "      <td>3</td>\n",
       "      <td>3</td>\n",
       "      <td>0</td>\n",
       "      <td>0</td>\n",
       "      <td>3227</td>\n",
       "      <td>800</td>\n",
       "      <td>1350</td>\n",
       "    </tr>\n",
       "    <tr>\n",
       "      <th>...</th>\n",
       "      <td>...</td>\n",
       "      <td>...</td>\n",
       "      <td>...</td>\n",
       "      <td>...</td>\n",
       "      <td>...</td>\n",
       "      <td>...</td>\n",
       "      <td>...</td>\n",
       "      <td>...</td>\n",
       "      <td>...</td>\n",
       "      <td>...</td>\n",
       "      <td>...</td>\n",
       "      <td>...</td>\n",
       "      <td>...</td>\n",
       "      <td>...</td>\n",
       "      <td>...</td>\n",
       "      <td>...</td>\n",
       "      <td>...</td>\n",
       "      <td>...</td>\n",
       "    </tr>\n",
       "    <tr>\n",
       "      <th>3211</th>\n",
       "      <td>1494</td>\n",
       "      <td>December</td>\n",
       "      <td>smart</td>\n",
       "      <td>0</td>\n",
       "      <td>418</td>\n",
       "      <td>17621</td>\n",
       "      <td>50</td>\n",
       "      <td>15360</td>\n",
       "      <td>500</td>\n",
       "      <td>550</td>\n",
       "      <td>200</td>\n",
       "      <td>3</td>\n",
       "      <td>3</td>\n",
       "      <td>0</td>\n",
       "      <td>0</td>\n",
       "      <td>2261</td>\n",
       "      <td>600</td>\n",
       "      <td>1150</td>\n",
       "    </tr>\n",
       "    <tr>\n",
       "      <th>3212</th>\n",
       "      <td>1494</td>\n",
       "      <td>November</td>\n",
       "      <td>smart</td>\n",
       "      <td>0</td>\n",
       "      <td>411</td>\n",
       "      <td>18052</td>\n",
       "      <td>50</td>\n",
       "      <td>15360</td>\n",
       "      <td>500</td>\n",
       "      <td>550</td>\n",
       "      <td>200</td>\n",
       "      <td>3</td>\n",
       "      <td>3</td>\n",
       "      <td>0</td>\n",
       "      <td>0</td>\n",
       "      <td>2692</td>\n",
       "      <td>600</td>\n",
       "      <td>1150</td>\n",
       "    </tr>\n",
       "    <tr>\n",
       "      <th>3213</th>\n",
       "      <td>1494</td>\n",
       "      <td>October</td>\n",
       "      <td>smart</td>\n",
       "      <td>0</td>\n",
       "      <td>354</td>\n",
       "      <td>17767</td>\n",
       "      <td>50</td>\n",
       "      <td>15360</td>\n",
       "      <td>500</td>\n",
       "      <td>550</td>\n",
       "      <td>200</td>\n",
       "      <td>3</td>\n",
       "      <td>3</td>\n",
       "      <td>0</td>\n",
       "      <td>0</td>\n",
       "      <td>2407</td>\n",
       "      <td>600</td>\n",
       "      <td>1150</td>\n",
       "    </tr>\n",
       "    <tr>\n",
       "      <th>3214</th>\n",
       "      <td>1494</td>\n",
       "      <td>September</td>\n",
       "      <td>smart</td>\n",
       "      <td>0</td>\n",
       "      <td>501</td>\n",
       "      <td>16962</td>\n",
       "      <td>50</td>\n",
       "      <td>15360</td>\n",
       "      <td>500</td>\n",
       "      <td>550</td>\n",
       "      <td>200</td>\n",
       "      <td>3</td>\n",
       "      <td>3</td>\n",
       "      <td>0</td>\n",
       "      <td>3</td>\n",
       "      <td>1602</td>\n",
       "      <td>400</td>\n",
       "      <td>953</td>\n",
       "    </tr>\n",
       "    <tr>\n",
       "      <th>3215</th>\n",
       "      <td>1371</td>\n",
       "      <td>December</td>\n",
       "      <td>smart</td>\n",
       "      <td>0</td>\n",
       "      <td>0</td>\n",
       "      <td>0</td>\n",
       "      <td>50</td>\n",
       "      <td>15360</td>\n",
       "      <td>500</td>\n",
       "      <td>550</td>\n",
       "      <td>200</td>\n",
       "      <td>3</td>\n",
       "      <td>3</td>\n",
       "      <td>0</td>\n",
       "      <td>0</td>\n",
       "      <td>0</td>\n",
       "      <td>0</td>\n",
       "      <td>550</td>\n",
       "    </tr>\n",
       "  </tbody>\n",
       "</table>\n",
       "<p>2230 rows × 18 columns</p>\n",
       "</div>"
      ],
      "text/plain": [
       "     user_id      month tariff_name  messages_count  call_duration  mb_used  \\\n",
       "986     1002     August       smart              13            289    20319   \n",
       "987     1002   December       smart              12            236    18113   \n",
       "988     1002       July       smart              11            214    17580   \n",
       "989     1002       June       smart               4            117    10856   \n",
       "990     1002   November       smart              16            243    18587   \n",
       "...      ...        ...         ...             ...            ...      ...   \n",
       "3211    1494   December       smart               0            418    17621   \n",
       "3212    1494   November       smart               0            411    18052   \n",
       "3213    1494    October       smart               0            354    17767   \n",
       "3214    1494  September       smart               0            501    16962   \n",
       "3215    1371   December       smart               0              0        0   \n",
       "\n",
       "      messages_included  mb_per_month_included  minutes_included  \\\n",
       "986                  50                  15360               500   \n",
       "987                  50                  15360               500   \n",
       "988                  50                  15360               500   \n",
       "989                  50                  15360               500   \n",
       "990                  50                  15360               500   \n",
       "...                 ...                    ...               ...   \n",
       "3211                 50                  15360               500   \n",
       "3212                 50                  15360               500   \n",
       "3213                 50                  15360               500   \n",
       "3214                 50                  15360               500   \n",
       "3215                 50                  15360               500   \n",
       "\n",
       "      rub_monthly_fee  rub_per_gb  rub_per_message  rub_per_minute  \\\n",
       "986               550         200                3               3   \n",
       "987               550         200                3               3   \n",
       "988               550         200                3               3   \n",
       "989               550         200                3               3   \n",
       "990               550         200                3               3   \n",
       "...               ...         ...              ...             ...   \n",
       "3211              550         200                3               3   \n",
       "3212              550         200                3               3   \n",
       "3213              550         200                3               3   \n",
       "3214              550         200                3               3   \n",
       "3215              550         200                3               3   \n",
       "\n",
       "      message_price  call_price  internet_price_mb  internet_price_GB  \\\n",
       "986               0           0               4959               1000   \n",
       "987               0           0               2753                600   \n",
       "988               0           0               2220                600   \n",
       "989               0           0                  0                  0   \n",
       "990               0           0               3227                800   \n",
       "...             ...         ...                ...                ...   \n",
       "3211              0           0               2261                600   \n",
       "3212              0           0               2692                600   \n",
       "3213              0           0               2407                600   \n",
       "3214              0           3               1602                400   \n",
       "3215              0           0                  0                  0   \n",
       "\n",
       "      full_fee  \n",
       "986       1550  \n",
       "987       1150  \n",
       "988       1150  \n",
       "989        550  \n",
       "990       1350  \n",
       "...        ...  \n",
       "3211      1150  \n",
       "3212      1150  \n",
       "3213      1150  \n",
       "3214       953  \n",
       "3215       550  \n",
       "\n",
       "[2230 rows x 18 columns]"
      ]
     },
     "execution_count": 49,
     "metadata": {},
     "output_type": "execute_result"
    }
   ],
   "source": [
    "# Выбираем клиентов оператора с тарифным планом smart\n",
    "incom_per_month_smart = incom_per_month.query('tariff_name == \"smart\"')\n",
    "incom_per_month_smart"
   ]
  },
  {
   "cell_type": "code",
   "execution_count": 50,
   "metadata": {},
   "outputs": [
    {
     "data": {
      "text/plain": [
       "messages_count       33.369058\n",
       "call_duration       417.747534\n",
       "mb_used           16200.613004\n",
       "dtype: float64"
      ]
     },
     "execution_count": 50,
     "metadata": {},
     "output_type": "execute_result"
    }
   ],
   "source": [
    "# Находим среднеее количество сообщений, минут звонком и интернет трафика необходимое клиентам smart в месяц\n",
    "incom_per_month_smart[['messages_count', 'call_duration','mb_used']].mean()"
   ]
  },
  {
   "cell_type": "markdown",
   "metadata": {},
   "source": [
    "Клиентам тарифа smart в среднем необходимо 33 сообщения, 417 минуты звонков и 16230 мб интернет трафика в месяц."
   ]
  },
  {
   "cell_type": "code",
   "execution_count": 57,
   "metadata": {},
   "outputs": [
    {
     "data": {
      "image/png": "[encoded data removed]",
      "text/plain": [
       "<Figure size 432x288 with 1 Axes>"
      ]
     },
     "metadata": {
      "needs_background": "light"
     },
     "output_type": "display_data"
    }
   ],
   "source": [
    "# Строим гистограмму распределения количества сообщений \n",
    "ax = incom_per_month_smart['messages_count'].hist(bins=80)\n",
    "plt.title('Quantity of messages per month')\n",
    "ax.set_xlabel('Quantity of messages')\n",
    "ax.set_ylabel('Frequency');"
   ]
  },
  {
   "cell_type": "markdown",
   "metadata": {},
   "source": [
    "Распределение количества сообщений не является нормальным."
   ]
  },
  {
   "cell_type": "code",
   "execution_count": 58,
   "metadata": {},
   "outputs": [
    {
     "data": {
      "image/png": "[encoded data removed]",
      "text/plain": [
       "<Figure size 432x288 with 1 Axes>"
      ]
     },
     "metadata": {
      "needs_background": "light"
     },
     "output_type": "display_data"
    }
   ],
   "source": [
    "# Строим гистограмму распределения для продолжительности звонков \n",
    "ax = incom_per_month_smart['call_duration'].hist(bins=100)\n",
    "incom_per_month_smart['call_duration'].describe()\n",
    "plt.title('Duration of call')\n",
    "ax.set_xlabel('Duration of call')\n",
    "ax.set_ylabel('Frequency');"
   ]
  },
  {
   "cell_type": "markdown",
   "metadata": {},
   "source": [
    "Распределение продолжительности звонков по месяцам близко к нормальному. Поскольку медиана немного больше среднего, то можно сказать, что датасет скошен немного влево."
   ]
  },
  {
   "cell_type": "code",
   "execution_count": 59,
   "metadata": {},
   "outputs": [
    {
     "data": {
      "image/png": "[encoded data removed]",
      "text/plain": [
       "<Figure size 432x288 with 1 Axes>"
      ]
     },
     "metadata": {
      "needs_background": "light"
     },
     "output_type": "display_data"
    }
   ],
   "source": [
    "# Строим гистограмму распределения для использованного интернет трафика \n",
    "incom_per_month_smart['mb_used'].hist(bins=100);\n",
    "incom_per_month_smart['mb_used'].describe()\n",
    "plt.title('Consumption of internet traffic')\n",
    "ax.set_xlabel('Internet traffic')\n",
    "ax.set_ylabel('Frequency');"
   ]
  },
  {
   "cell_type": "markdown",
   "metadata": {},
   "source": [
    "Распределение продолжительности звонков близко к нормальному. Поскольку медиана немного больше среднего, то можно сказать, что датасет скошен немного влево."
   ]
  },
  {
   "cell_type": "code",
   "execution_count": 60,
   "metadata": {},
   "outputs": [
    {
     "name": "stdout",
     "output_type": "stream",
     "text": [
      "Дисперсия по количеству сообщений: 796.9552557301,\n",
      "Десперсия по продолжительности звонков: 36281.393836444564,\n",
      "Деспервия по количеству использованного интернет трафика: 34564879.073585846\n"
     ]
    }
   ],
   "source": [
    "# Рассчитаем дисперсию для клиентов smart\n",
    "variance_smart_messages = np.var(incom_per_month_smart['messages_count'], ddof=1)\n",
    "variance_smart_call = np.var(incom_per_month_smart['call_duration'], ddof=1)\n",
    "variance_smart_mb = np.var(incom_per_month_smart['mb_used'], ddof=1)\n",
    "print(f'''Дисперсия по количеству сообщений: {variance_smart_messages},\n",
    "Десперсия по продолжительности звонков: {variance_smart_call},\n",
    "Деспервия по количеству использованного интернет трафика: {variance_smart_mb}''')"
   ]
  },
  {
   "cell_type": "code",
   "execution_count": 61,
   "metadata": {},
   "outputs": [
    {
     "name": "stdout",
     "output_type": "stream",
     "text": [
      "Стандартное отклонение для количества сообщений: 28.230395954185624,\n",
      "Стандартное отклонение для продолжительности звонков: 190.47675405792845,\n",
      "Стандартное отклонение для использованного интернет трафика: 5879.190341670002\n"
     ]
    }
   ],
   "source": [
    "# Рассчитаем стандартное отклонение для клиентов smart\n",
    "std_smart_messages = np.std(incom_per_month_smart['messages_count'], ddof=1)\n",
    "std_smart_call = np.std(incom_per_month_smart['call_duration'], ddof=1)\n",
    "std_smart_mb = np.std(incom_per_month_smart['mb_used'], ddof=1)\n",
    "print(f'''Стандартное отклонение для количества сообщений: {std_smart_messages},\n",
    "Стандартное отклонение для продолжительности звонков: {std_smart_call},\n",
    "Стандартное отклонение для использованного интернет трафика: {std_smart_mb}''')"
   ]
  },
  {
   "cell_type": "markdown",
   "metadata": {},
   "source": [
    "На величину стандартного отклонения отличаются все индивидуальные значения от среднего значения в выборке."
   ]
  },
  {
   "cell_type": "code",
   "execution_count": 62,
   "metadata": {
    "scrolled": true
   },
   "outputs": [
    {
     "data": {
      "text/plain": [
       "'messages_count'"
      ]
     },
     "metadata": {},
     "output_type": "display_data"
    },
    {
     "data": {
      "text/plain": [
       "mean     33.369058\n",
       "std      28.230396\n",
       "var     796.955256\n",
       "Name: messages_count, dtype: float64"
      ]
     },
     "metadata": {},
     "output_type": "display_data"
    },
    {
     "data": {
      "text/plain": [
       "'call_duration'"
      ]
     },
     "metadata": {},
     "output_type": "display_data"
    },
    {
     "data": {
      "text/plain": [
       "mean      417.747534\n",
       "std       190.476754\n",
       "var     36281.393836\n",
       "Name: call_duration, dtype: float64"
      ]
     },
     "metadata": {},
     "output_type": "display_data"
    },
    {
     "data": {
      "text/plain": [
       "'mb_used'"
      ]
     },
     "metadata": {},
     "output_type": "display_data"
    },
    {
     "data": {
      "text/plain": [
       "mean    1.620061e+04\n",
       "std     5.879190e+03\n",
       "var     3.456488e+07\n",
       "Name: mb_used, dtype: float64"
      ]
     },
     "metadata": {},
     "output_type": "display_data"
    }
   ],
   "source": [
    "column = ['messages_count', 'call_duration', 'mb_used']\n",
    "for i in incom_per_month_smart.columns:\n",
    "    if i in column:\n",
    "         display (i, incom_per_month_smart[i].agg(['mean','std','var']))"
   ]
  },
  {
   "cell_type": "code",
   "execution_count": 63,
   "metadata": {},
   "outputs": [],
   "source": [
    "# Выбрали клиентов оператора с тарифным планом ultra\n",
    "incom_per_month_ultra = incom_per_month.query('tariff_name == \"ultra\"')"
   ]
  },
  {
   "cell_type": "code",
   "execution_count": 64,
   "metadata": {},
   "outputs": [
    {
     "data": {
      "text/plain": [
       "messages_count       49.313387\n",
       "call_duration       526.089249\n",
       "mb_used           19448.582150\n",
       "dtype: float64"
      ]
     },
     "execution_count": 64,
     "metadata": {},
     "output_type": "execute_result"
    }
   ],
   "source": [
    "# Находим среднеее количество сообщений, минут звонком и интернет трафика необходимое клиентам ultra в месяц\n",
    "incom_per_month_ultra[['messages_count', 'call_duration','mb_used']].mean()"
   ]
  },
  {
   "cell_type": "markdown",
   "metadata": {},
   "source": [
    "Клиентам тарифа ultra в среднем необходимо 49 сообщение, 527 минут звонков и 19487 мб интернет трафика в месяц"
   ]
  },
  {
   "cell_type": "code",
   "execution_count": 69,
   "metadata": {},
   "outputs": [
    {
     "data": {
      "text/plain": [
       "count    986.000000\n",
       "mean      49.313387\n",
       "std       47.806040\n",
       "min        0.000000\n",
       "25%        6.000000\n",
       "50%       38.000000\n",
       "75%       78.750000\n",
       "max      224.000000\n",
       "Name: messages_count, dtype: float64"
      ]
     },
     "execution_count": 69,
     "metadata": {},
     "output_type": "execute_result"
    },
    {
     "data": {
      "image/png": "[encoded data removed]",
      "text/plain": [
       "<Figure size 576x360 with 1 Axes>"
      ]
     },
     "metadata": {
      "needs_background": "light"
     },
     "output_type": "display_data"
    }
   ],
   "source": [
    "plt.figure(figsize=(8,5))\n",
    "ax = incom_per_month_ultra['messages_count'].hist(bins=80)\n",
    "plt.title('Quantity of messages per month')\n",
    "ax.set_xlabel('Quantity of messages')\n",
    "ax.set_ylabel('Frequency');\n",
    "incom_per_month_ultra['messages_count'].describe()"
   ]
  },
  {
   "cell_type": "markdown",
   "metadata": {},
   "source": [
    "Распределение количества сообщений для пользователей тарифа \"Ультра\" не является нормальным."
   ]
  },
  {
   "cell_type": "code",
   "execution_count": 70,
   "metadata": {},
   "outputs": [
    {
     "data": {
      "image/png": "[encoded data removed]",
      "text/plain": [
       "<Figure size 576x360 with 1 Axes>"
      ]
     },
     "metadata": {
      "needs_background": "light"
     },
     "output_type": "display_data"
    }
   ],
   "source": [
    "plt.figure(figsize=(8,5))\n",
    "ax = incom_per_month_ultra['call_duration'].hist(bins=100)\n",
    "incom_per_month_ultra['call_duration'].describe()\n",
    "incom_per_month_smart['call_duration'].describe()\n",
    "plt.title('Duration of call')\n",
    "ax.set_xlabel('Duration of call')\n",
    "ax.set_ylabel('Frequency');"
   ]
  },
  {
   "cell_type": "markdown",
   "metadata": {},
   "source": [
    "Медианное значение меньше среднего значения, датасет скошен влево. Распределение похоже на нормальное."
   ]
  },
  {
   "cell_type": "code",
   "execution_count": 71,
   "metadata": {},
   "outputs": [
    {
     "data": {
      "image/png": "[encoded data removed]",
      "text/plain": [
       "<Figure size 576x360 with 1 Axes>"
      ]
     },
     "metadata": {
      "needs_background": "light"
     },
     "output_type": "display_data"
    }
   ],
   "source": [
    "plt.figure(figsize=(8,5))\n",
    "incom_per_month_ultra['mb_used'].hist(bins=100)\n",
    "incom_per_month_ultra['mb_used'].describe()\n",
    "plt.title('Consumption of internet traffic')\n",
    "ax.set_xlabel('Internet traffic')\n",
    "ax.set_ylabel('Frequency');"
   ]
  },
  {
   "cell_type": "markdown",
   "metadata": {},
   "source": [
    "Медианное значение меньше среднего, датасет скошен вправо. Распределение нормальное."
   ]
  },
  {
   "cell_type": "code",
   "execution_count": 72,
   "metadata": {},
   "outputs": [
    {
     "data": {
      "text/plain": [
       "'messages_count'"
      ]
     },
     "metadata": {},
     "output_type": "display_data"
    },
    {
     "data": {
      "text/plain": [
       "mean     33.369058\n",
       "std      28.230396\n",
       "var     796.955256\n",
       "Name: messages_count, dtype: float64"
      ]
     },
     "metadata": {},
     "output_type": "display_data"
    },
    {
     "data": {
      "text/plain": [
       "'call_duration'"
      ]
     },
     "metadata": {},
     "output_type": "display_data"
    },
    {
     "data": {
      "text/plain": [
       "mean      417.747534\n",
       "std       190.476754\n",
       "var     36281.393836\n",
       "Name: call_duration, dtype: float64"
      ]
     },
     "metadata": {},
     "output_type": "display_data"
    },
    {
     "data": {
      "text/plain": [
       "'mb_used'"
      ]
     },
     "metadata": {},
     "output_type": "display_data"
    },
    {
     "data": {
      "text/plain": [
       "mean    1.620061e+04\n",
       "std     5.879190e+03\n",
       "var     3.456488e+07\n",
       "Name: mb_used, dtype: float64"
      ]
     },
     "metadata": {},
     "output_type": "display_data"
    }
   ],
   "source": [
    "column = ['messages_count', 'call_duration', 'mb_used']\n",
    "for i in incom_per_month_ultra.columns:\n",
    "    if i in column:\n",
    "         display (i, incom_per_month_smart[i].agg(['mean','std','var']))"
   ]
  },
  {
   "cell_type": "markdown",
   "metadata": {},
   "source": [
    "На величину стандартного отклонения отличаются все индивидуальные значения от среднего значения в выборке."
   ]
  },
  {
   "cell_type": "code",
   "execution_count": 77,
   "metadata": {},
   "outputs": [
    {
     "data": {
      "text/plain": [
       "array(['August', 'December', 'July', 'June', 'May', 'November', 'October',\n",
       "       'September', 'April', 'March', 'February', 'January'], dtype=object)"
      ]
     },
     "execution_count": 77,
     "metadata": {},
     "output_type": "execute_result"
    }
   ],
   "source": [
    "incom_per_month['month'].unique()"
   ]
  },
  {
   "cell_type": "code",
   "execution_count": 83,
   "metadata": {},
   "outputs": [],
   "source": [
    "list=['January', 'February', 'March', 'April', 'May', 'June', 'July', 'August', 'September',\n",
    "     'October', 'November', 'December']"
   ]
  },
  {
   "cell_type": "code",
   "execution_count": 84,
   "metadata": {},
   "outputs": [
    {
     "data": {
      "image/png": "[encoded data removed]",
      "text/plain": [
       "<Figure size 2160x720 with 1 Axes>"
      ]
     },
     "metadata": {
      "needs_background": "light"
     },
     "output_type": "display_data"
    }
   ],
   "source": [
    "fig = plt.figure(figsize=(30, 10))\n",
    "sns.barplot(x='month', y ='full_fee', hue=\"tariff_name\",\n",
    "           data=incom_per_month, ci=0, order=list), \n",
    "plt.title('Profit per month', fontsize = 30)\n",
    "plt.xlabel('Month', fontsize = 20)\n",
    "plt.ylabel('Profit', fontsize = 20)\n",
    "plt.show()"
   ]
  },
  {
   "cell_type": "code",
   "execution_count": 86,
   "metadata": {},
   "outputs": [
    {
     "data": {
      "image/png": "[encoded data removed]",
      "text/plain": [
       "<Figure size 864x360 with 1 Axes>"
      ]
     },
     "metadata": {
      "needs_background": "light"
     },
     "output_type": "display_data"
    },
    {
     "data": {
      "image/png": "[encoded data removed]",
      "text/plain": [
       "<Figure size 864x360 with 1 Axes>"
      ]
     },
     "metadata": {
      "needs_background": "light"
     },
     "output_type": "display_data"
    },
    {
     "data": {
      "image/png": "[encoded data removed]",
      "text/plain": [
       "<Figure size 864x360 with 1 Axes>"
      ]
     },
     "metadata": {
      "needs_background": "light"
     },
     "output_type": "display_data"
    }
   ],
   "source": [
    "y_name = ['messages_count', 'call_duration', 'mb_used']\n",
    "for i in y_name:\n",
    "    fig = plt.figure(figsize=(12, 5))\n",
    "    sns.barplot(x='month', y =i, hue=\"tariff_name\",\n",
    "           data=incom_per_month, ci=0, order=list)\n",
    "    if i == 'messages_count':\n",
    "        plt.title('Quantity of messages per month', fontsize = 8)\n",
    "        plt.xlabel('Month', fontsize = 10)\n",
    "        plt.ylabel('Quantity of messages', fontsize = 10)\n",
    "        plt.show()\n",
    "    if i == 'call_duration':\n",
    "        plt.title('Consumption of minutes of calls per month', fontsize = 8)\n",
    "        plt.xlabel('Month', fontsize = 10)\n",
    "        plt.ylabel('Duration of call', fontsize = 10)\n",
    "        plt.show()\n",
    "    if i == 'mb_used':\n",
    "        plt.title('Consumption of internet traffic per month', fontsize = 8)\n",
    "        plt.xlabel('Internet traffic', fontsize = 10)\n",
    "        plt.show()"
   ]
  },
  {
   "cell_type": "markdown",
   "metadata": {},
   "source": [
    "#### **Вывод**\n",
    "\n",
    "Для пользователей тарифа \"Ультра\" значение дисперсий и стандартного отклонения превышают те же значения для пользователей тарифа \"Смарт\". Это отражается на гистограммах. Для пользователей двух тарифов распределение количества сообщений не является нормальным, а распределение использованного интернет трафика и звонков близко к нормальному.\n",
    "\n",
    "Пользователи тарифа \"Ультра\" тратят больший объем каждой услуги в месяц, что отражено на графиках. Выручка с пользователей тарифа \"Ультра\" превышают выручку с пользователей тарифа \"Смарт\" по всем месяцам в течение года."
   ]
  },
  {
   "cell_type": "markdown",
   "metadata": {},
   "source": [
    "## Проверка гипотез"
   ]
  },
  {
   "cell_type": "markdown",
   "metadata": {},
   "source": [
    "### Средняя выручка пользователей тарифов «Ультра» и «Смарт» различаются"
   ]
  },
  {
   "cell_type": "code",
   "execution_count": 108,
   "metadata": {},
   "outputs": [
    {
     "data": {
      "image/png": "[encoded data removed]",
      "text/plain": [
       "<Figure size 432x288 with 1 Axes>"
      ]
     },
     "metadata": {
      "needs_background": "light"
     },
     "output_type": "display_data"
    },
    {
     "data": {
      "text/plain": [
       "<Figure size 864x720 with 0 Axes>"
      ]
     },
     "metadata": {},
     "output_type": "display_data"
    }
   ],
   "source": [
    "ax = incom_per_month_smart['full_fee'].hist(bins=100);\n",
    "plt.figure(figsize=(12,10));\n",
    "ax.set_title('Full fee', fontsize=20);\n",
    "ax.set_xlabel('Full_fee');\n",
    "ax.set_ylabel('Frequency');"
   ]
  },
  {
   "cell_type": "markdown",
   "metadata": {},
   "source": [
    "**Формулируем нулевую гипотезу**\n",
    "\n",
    "(Н0): средняя выручка от пользователей тарифа «Ультра» и \"Смарт\" равны между собой.\n",
    "\n",
    "**Соответственно альтернативная гипотеза**\n",
    "\n",
    "(Н1): средняя выручка от пользователей тарифа «Ультра» и \"Смарт\" не равны между собой.\n",
    " \n",
    "Проверяем первую гипотезу."
   ]
  },
  {
   "cell_type": "code",
   "execution_count": 96,
   "metadata": {},
   "outputs": [
    {
     "name": "stdout",
     "output_type": "stream",
     "text": [
      "p-значение:  1.927011394420941e-250\n",
      "Отвергаем нулевую гипотезу\n"
     ]
    }
   ],
   "source": [
    "sample_1 = incom_per_month_smart['full_fee']\n",
    "sample_2 = incom_per_month_ultra['full_fee']\n",
    "alpha = .05\n",
    "results = st.ttest_ind(\n",
    "    sample_1, \n",
    "    sample_2,\n",
    "    equal_var = False)\n",
    "print('p-значение: ', results.pvalue)\n",
    "\n",
    "if results.pvalue < alpha:\n",
    "    print(\"Отвергаем нулевую гипотезу\")\n",
    "else:\n",
    "    print(\"Не получилось отвергнуть нулевую гипотезу\") "
   ]
  },
  {
   "cell_type": "markdown",
   "metadata": {},
   "source": [
    "Вывод: средняя выручка пользователей тарифов «Ультра» и «Смарт» различаются."
   ]
  },
  {
   "cell_type": "markdown",
   "metadata": {},
   "source": [
    "Что бы ответить на вопрос какой тариф лучше, посмотрим выборочное среднее дохода от пользователей разных тарифов и найдем медианное значение."
   ]
  },
  {
   "cell_type": "code",
   "execution_count": 97,
   "metadata": {},
   "outputs": [
    {
     "name": "stdout",
     "output_type": "stream",
     "text": [
      "1289.6417040358745 2070.030425963489\n"
     ]
    }
   ],
   "source": [
    "mean_income_smart = incom_per_month_smart['full_fee'].mean()\n",
    "mean_income_ultra = incom_per_month_ultra['full_fee'].mean()\n",
    "print(mean_income_smart, mean_income_ultra)"
   ]
  },
  {
   "cell_type": "code",
   "execution_count": 98,
   "metadata": {},
   "outputs": [
    {
     "name": "stdout",
     "output_type": "stream",
     "text": [
      "1021.0 1950.0\n"
     ]
    }
   ],
   "source": [
    "mean_income_smart = incom_per_month_smart['full_fee'].median()\n",
    "mean_income_ultra = incom_per_month_ultra['full_fee'].median()\n",
    "print(mean_income_smart, mean_income_ultra)"
   ]
  },
  {
   "cell_type": "markdown",
   "metadata": {},
   "source": [
    "Исходя из полученного выборочного среднего дохода (если можно делать выводы основываясь только на этих данных)\n",
    "для оператора более выгодным является тариф \"Ультра\", так как данный тариф приносит больше дохода."
   ]
  },
  {
   "cell_type": "markdown",
   "metadata": {},
   "source": [
    "### Cредняя выручка пользователей из Москвы отличается от выручки пользователей из других регионов."
   ]
  },
  {
   "cell_type": "markdown",
   "metadata": {},
   "source": [
    "Но - средняя выручка для пользоваттелей из Москвы равна средней выручке для пользователей из других регионов.\n",
    "\n",
    "Н1 - средняя выручка для пользоваттелей из Москвы отличается от средней выручки для пользователей из других регионов."
   ]
  },
  {
   "cell_type": "code",
   "execution_count": 99,
   "metadata": {},
   "outputs": [
    {
     "data": {
      "text/html": [
       "<div>\n",
       "<style scoped>\n",
       "    .dataframe tbody tr th:only-of-type {\n",
       "        vertical-align: middle;\n",
       "    }\n",
       "\n",
       "    .dataframe tbody tr th {\n",
       "        vertical-align: top;\n",
       "    }\n",
       "\n",
       "    .dataframe thead th {\n",
       "        text-align: right;\n",
       "    }\n",
       "</style>\n",
       "<table border=\"1\" class=\"dataframe\">\n",
       "  <thead>\n",
       "    <tr style=\"text-align: right;\">\n",
       "      <th></th>\n",
       "      <th>user_id</th>\n",
       "      <th>month</th>\n",
       "      <th>tariff_name</th>\n",
       "      <th>messages_count</th>\n",
       "      <th>call_duration</th>\n",
       "      <th>mb_used</th>\n",
       "      <th>messages_included</th>\n",
       "      <th>mb_per_month_included</th>\n",
       "      <th>minutes_included</th>\n",
       "      <th>rub_monthly_fee</th>\n",
       "      <th>...</th>\n",
       "      <th>internet_price_mb</th>\n",
       "      <th>internet_price_GB</th>\n",
       "      <th>full_fee</th>\n",
       "      <th>age</th>\n",
       "      <th>churn_date</th>\n",
       "      <th>city</th>\n",
       "      <th>first_name</th>\n",
       "      <th>last_name</th>\n",
       "      <th>reg_date</th>\n",
       "      <th>tariff</th>\n",
       "    </tr>\n",
       "  </thead>\n",
       "  <tbody>\n",
       "    <tr>\n",
       "      <th>0</th>\n",
       "      <td>1000</td>\n",
       "      <td>August</td>\n",
       "      <td>ultra</td>\n",
       "      <td>81</td>\n",
       "      <td>408</td>\n",
       "      <td>14055</td>\n",
       "      <td>1000</td>\n",
       "      <td>30720</td>\n",
       "      <td>3000</td>\n",
       "      <td>1950</td>\n",
       "      <td>...</td>\n",
       "      <td>0</td>\n",
       "      <td>0</td>\n",
       "      <td>1950</td>\n",
       "      <td>52</td>\n",
       "      <td>NaN</td>\n",
       "      <td>краснодар</td>\n",
       "      <td>Рафаил</td>\n",
       "      <td>Верещагин</td>\n",
       "      <td>2018-05-25</td>\n",
       "      <td>ultra</td>\n",
       "    </tr>\n",
       "    <tr>\n",
       "      <th>1</th>\n",
       "      <td>1000</td>\n",
       "      <td>December</td>\n",
       "      <td>ultra</td>\n",
       "      <td>70</td>\n",
       "      <td>333</td>\n",
       "      <td>9817</td>\n",
       "      <td>1000</td>\n",
       "      <td>30720</td>\n",
       "      <td>3000</td>\n",
       "      <td>1950</td>\n",
       "      <td>...</td>\n",
       "      <td>0</td>\n",
       "      <td>0</td>\n",
       "      <td>1950</td>\n",
       "      <td>52</td>\n",
       "      <td>NaN</td>\n",
       "      <td>краснодар</td>\n",
       "      <td>Рафаил</td>\n",
       "      <td>Верещагин</td>\n",
       "      <td>2018-05-25</td>\n",
       "      <td>ultra</td>\n",
       "    </tr>\n",
       "    <tr>\n",
       "      <th>2</th>\n",
       "      <td>1000</td>\n",
       "      <td>July</td>\n",
       "      <td>ultra</td>\n",
       "      <td>75</td>\n",
       "      <td>340</td>\n",
       "      <td>14003</td>\n",
       "      <td>1000</td>\n",
       "      <td>30720</td>\n",
       "      <td>3000</td>\n",
       "      <td>1950</td>\n",
       "      <td>...</td>\n",
       "      <td>0</td>\n",
       "      <td>0</td>\n",
       "      <td>1950</td>\n",
       "      <td>52</td>\n",
       "      <td>NaN</td>\n",
       "      <td>краснодар</td>\n",
       "      <td>Рафаил</td>\n",
       "      <td>Верещагин</td>\n",
       "      <td>2018-05-25</td>\n",
       "      <td>ultra</td>\n",
       "    </tr>\n",
       "    <tr>\n",
       "      <th>3</th>\n",
       "      <td>1000</td>\n",
       "      <td>June</td>\n",
       "      <td>ultra</td>\n",
       "      <td>60</td>\n",
       "      <td>172</td>\n",
       "      <td>23233</td>\n",
       "      <td>1000</td>\n",
       "      <td>30720</td>\n",
       "      <td>3000</td>\n",
       "      <td>1950</td>\n",
       "      <td>...</td>\n",
       "      <td>0</td>\n",
       "      <td>0</td>\n",
       "      <td>1950</td>\n",
       "      <td>52</td>\n",
       "      <td>NaN</td>\n",
       "      <td>краснодар</td>\n",
       "      <td>Рафаил</td>\n",
       "      <td>Верещагин</td>\n",
       "      <td>2018-05-25</td>\n",
       "      <td>ultra</td>\n",
       "    </tr>\n",
       "    <tr>\n",
       "      <th>4</th>\n",
       "      <td>1000</td>\n",
       "      <td>May</td>\n",
       "      <td>ultra</td>\n",
       "      <td>22</td>\n",
       "      <td>159</td>\n",
       "      <td>2253</td>\n",
       "      <td>1000</td>\n",
       "      <td>30720</td>\n",
       "      <td>3000</td>\n",
       "      <td>1950</td>\n",
       "      <td>...</td>\n",
       "      <td>0</td>\n",
       "      <td>0</td>\n",
       "      <td>1950</td>\n",
       "      <td>52</td>\n",
       "      <td>NaN</td>\n",
       "      <td>краснодар</td>\n",
       "      <td>Рафаил</td>\n",
       "      <td>Верещагин</td>\n",
       "      <td>2018-05-25</td>\n",
       "      <td>ultra</td>\n",
       "    </tr>\n",
       "    <tr>\n",
       "      <th>...</th>\n",
       "      <td>...</td>\n",
       "      <td>...</td>\n",
       "      <td>...</td>\n",
       "      <td>...</td>\n",
       "      <td>...</td>\n",
       "      <td>...</td>\n",
       "      <td>...</td>\n",
       "      <td>...</td>\n",
       "      <td>...</td>\n",
       "      <td>...</td>\n",
       "      <td>...</td>\n",
       "      <td>...</td>\n",
       "      <td>...</td>\n",
       "      <td>...</td>\n",
       "      <td>...</td>\n",
       "      <td>...</td>\n",
       "      <td>...</td>\n",
       "      <td>...</td>\n",
       "      <td>...</td>\n",
       "      <td>...</td>\n",
       "      <td>...</td>\n",
       "    </tr>\n",
       "    <tr>\n",
       "      <th>3209</th>\n",
       "      <td>1494</td>\n",
       "      <td>August</td>\n",
       "      <td>smart</td>\n",
       "      <td>0</td>\n",
       "      <td>262</td>\n",
       "      <td>6590</td>\n",
       "      <td>50</td>\n",
       "      <td>15360</td>\n",
       "      <td>500</td>\n",
       "      <td>550</td>\n",
       "      <td>...</td>\n",
       "      <td>0</td>\n",
       "      <td>0</td>\n",
       "      <td>550</td>\n",
       "      <td>62</td>\n",
       "      <td>NaN</td>\n",
       "      <td>омск</td>\n",
       "      <td>Ренат</td>\n",
       "      <td>Андропов</td>\n",
       "      <td>2018-08-17</td>\n",
       "      <td>smart</td>\n",
       "    </tr>\n",
       "    <tr>\n",
       "      <th>3210</th>\n",
       "      <td>1494</td>\n",
       "      <td>December</td>\n",
       "      <td>smart</td>\n",
       "      <td>0</td>\n",
       "      <td>418</td>\n",
       "      <td>17621</td>\n",
       "      <td>50</td>\n",
       "      <td>15360</td>\n",
       "      <td>500</td>\n",
       "      <td>550</td>\n",
       "      <td>...</td>\n",
       "      <td>2261</td>\n",
       "      <td>600</td>\n",
       "      <td>1150</td>\n",
       "      <td>62</td>\n",
       "      <td>NaN</td>\n",
       "      <td>омск</td>\n",
       "      <td>Ренат</td>\n",
       "      <td>Андропов</td>\n",
       "      <td>2018-08-17</td>\n",
       "      <td>smart</td>\n",
       "    </tr>\n",
       "    <tr>\n",
       "      <th>3211</th>\n",
       "      <td>1494</td>\n",
       "      <td>November</td>\n",
       "      <td>smart</td>\n",
       "      <td>0</td>\n",
       "      <td>411</td>\n",
       "      <td>18052</td>\n",
       "      <td>50</td>\n",
       "      <td>15360</td>\n",
       "      <td>500</td>\n",
       "      <td>550</td>\n",
       "      <td>...</td>\n",
       "      <td>2692</td>\n",
       "      <td>600</td>\n",
       "      <td>1150</td>\n",
       "      <td>62</td>\n",
       "      <td>NaN</td>\n",
       "      <td>омск</td>\n",
       "      <td>Ренат</td>\n",
       "      <td>Андропов</td>\n",
       "      <td>2018-08-17</td>\n",
       "      <td>smart</td>\n",
       "    </tr>\n",
       "    <tr>\n",
       "      <th>3212</th>\n",
       "      <td>1494</td>\n",
       "      <td>October</td>\n",
       "      <td>smart</td>\n",
       "      <td>0</td>\n",
       "      <td>354</td>\n",
       "      <td>17767</td>\n",
       "      <td>50</td>\n",
       "      <td>15360</td>\n",
       "      <td>500</td>\n",
       "      <td>550</td>\n",
       "      <td>...</td>\n",
       "      <td>2407</td>\n",
       "      <td>600</td>\n",
       "      <td>1150</td>\n",
       "      <td>62</td>\n",
       "      <td>NaN</td>\n",
       "      <td>омск</td>\n",
       "      <td>Ренат</td>\n",
       "      <td>Андропов</td>\n",
       "      <td>2018-08-17</td>\n",
       "      <td>smart</td>\n",
       "    </tr>\n",
       "    <tr>\n",
       "      <th>3213</th>\n",
       "      <td>1494</td>\n",
       "      <td>September</td>\n",
       "      <td>smart</td>\n",
       "      <td>0</td>\n",
       "      <td>501</td>\n",
       "      <td>16962</td>\n",
       "      <td>50</td>\n",
       "      <td>15360</td>\n",
       "      <td>500</td>\n",
       "      <td>550</td>\n",
       "      <td>...</td>\n",
       "      <td>1602</td>\n",
       "      <td>400</td>\n",
       "      <td>953</td>\n",
       "      <td>62</td>\n",
       "      <td>NaN</td>\n",
       "      <td>омск</td>\n",
       "      <td>Ренат</td>\n",
       "      <td>Андропов</td>\n",
       "      <td>2018-08-17</td>\n",
       "      <td>smart</td>\n",
       "    </tr>\n",
       "  </tbody>\n",
       "</table>\n",
       "<p>3214 rows × 25 columns</p>\n",
       "</div>"
      ],
      "text/plain": [
       "     user_id      month tariff_name  messages_count  call_duration  mb_used  \\\n",
       "0       1000     August       ultra              81            408    14055   \n",
       "1       1000   December       ultra              70            333     9817   \n",
       "2       1000       July       ultra              75            340    14003   \n",
       "3       1000       June       ultra              60            172    23233   \n",
       "4       1000        May       ultra              22            159     2253   \n",
       "...      ...        ...         ...             ...            ...      ...   \n",
       "3209    1494     August       smart               0            262     6590   \n",
       "3210    1494   December       smart               0            418    17621   \n",
       "3211    1494   November       smart               0            411    18052   \n",
       "3212    1494    October       smart               0            354    17767   \n",
       "3213    1494  September       smart               0            501    16962   \n",
       "\n",
       "      messages_included  mb_per_month_included  minutes_included  \\\n",
       "0                  1000                  30720              3000   \n",
       "1                  1000                  30720              3000   \n",
       "2                  1000                  30720              3000   \n",
       "3                  1000                  30720              3000   \n",
       "4                  1000                  30720              3000   \n",
       "...                 ...                    ...               ...   \n",
       "3209                 50                  15360               500   \n",
       "3210                 50                  15360               500   \n",
       "3211                 50                  15360               500   \n",
       "3212                 50                  15360               500   \n",
       "3213                 50                  15360               500   \n",
       "\n",
       "      rub_monthly_fee  ...  internet_price_mb  internet_price_GB  full_fee  \\\n",
       "0                1950  ...                  0                  0      1950   \n",
       "1                1950  ...                  0                  0      1950   \n",
       "2                1950  ...                  0                  0      1950   \n",
       "3                1950  ...                  0                  0      1950   \n",
       "4                1950  ...                  0                  0      1950   \n",
       "...               ...  ...                ...                ...       ...   \n",
       "3209              550  ...                  0                  0       550   \n",
       "3210              550  ...               2261                600      1150   \n",
       "3211              550  ...               2692                600      1150   \n",
       "3212              550  ...               2407                600      1150   \n",
       "3213              550  ...               1602                400       953   \n",
       "\n",
       "      age  churn_date       city  first_name  last_name   reg_date tariff  \n",
       "0      52         NaN  краснодар      Рафаил  Верещагин 2018-05-25  ultra  \n",
       "1      52         NaN  краснодар      Рафаил  Верещагин 2018-05-25  ultra  \n",
       "2      52         NaN  краснодар      Рафаил  Верещагин 2018-05-25  ultra  \n",
       "3      52         NaN  краснодар      Рафаил  Верещагин 2018-05-25  ultra  \n",
       "4      52         NaN  краснодар      Рафаил  Верещагин 2018-05-25  ultra  \n",
       "...   ...         ...        ...         ...        ...        ...    ...  \n",
       "3209   62         NaN       омск       Ренат   Андропов 2018-08-17  smart  \n",
       "3210   62         NaN       омск       Ренат   Андропов 2018-08-17  smart  \n",
       "3211   62         NaN       омск       Ренат   Андропов 2018-08-17  smart  \n",
       "3212   62         NaN       омск       Ренат   Андропов 2018-08-17  smart  \n",
       "3213   62         NaN       омск       Ренат   Андропов 2018-08-17  smart  \n",
       "\n",
       "[3214 rows x 25 columns]"
      ]
     },
     "execution_count": 99,
     "metadata": {},
     "output_type": "execute_result"
    }
   ],
   "source": [
    "# добавили в датасет users колонку \n",
    "incom_per_month = (incom_per_month\n",
    "        .merge(users,\n",
    "        how='inner',\n",
    "        on=['user_id']\n",
    ")).copy()\n",
    "incom_per_month"
   ]
  },
  {
   "cell_type": "code",
   "execution_count": 100,
   "metadata": {},
   "outputs": [
    {
     "name": "stdout",
     "output_type": "stream",
     "text": [
      "p-значение: 0.5257376663729298\n",
      "Не получилось отвергнуть нулевую гипотезу\n"
     ]
    }
   ],
   "source": [
    "sample_1 = incom_per_month.query('city == \"москва\"')['full_fee']\n",
    "sample_2 = incom_per_month.query('city != \"москва\"')['full_fee']\n",
    "alpha = 0.05\n",
    "results = st.ttest_ind(\n",
    "    sample_1, \n",
    "    sample_2,\n",
    "    equal_var = False)\n",
    "print('p-значение:', results.pvalue)\n",
    "\n",
    "if results.pvalue < alpha:\n",
    "    print(\"Отвергаем нулевую гипотезу\")\n",
    "else:\n",
    "    print(\"Не получилось отвергнуть нулевую гипотезу\") "
   ]
  },
  {
   "cell_type": "markdown",
   "metadata": {},
   "source": [
    "Вывод: Отвергнуть нулевую гипотезу нельзя."
   ]
  },
  {
   "cell_type": "markdown",
   "metadata": {},
   "source": [
    "## Вывод"
   ]
  },
  {
   "cell_type": "markdown",
   "metadata": {},
   "source": [
    "1. Уровень дохода со среднего пользователя тарифа \"Смарт\" составляет 1021 рубля в месяц, а со среднего пользователя тарифа 'Ультра' 1950 рубля в месяц.\n",
    "2. Средний пользователь тарифа 'Ультра' в месяц израсходует 49 смс, 526 минут разговора, 19449 мб интернет трафика, а средний пользователь тарифа \"Смарт\"  33 сообщения, 418 минут разговора и 16200 мб интернет трафика.\n",
    "3. Средний пользователь тарифа \"Смарт\" тратит больше интернет трафика, чем предусматривает его тариф.\n",
    "4. Средняя выручка для пользоваттелей из Москвы отличается от средней выручки для пользователей из других регионов.\n",
    "\n",
    "\n",
    "Более выгодно рекламировать тариф 'Ультра', так как прибыль от него больше. "
   ]
  },
  {
   "cell_type": "code",
   "execution_count": 101,
   "metadata": {},
   "outputs": [
    {
     "name": "stdout",
     "output_type": "stream",
     "text": [
      "Кол-во клентов покинувших компанию за год 38\n",
      "Кол-во клентов покинувших компанию за посл. 4 мес. 2018 г. на двух тарифах 35\n",
      "%  от общего кол-ва всех клиентов, покинувших компанию за посл. 4 мес. 2018 г. на двух тарифах 92.1\n",
      "Распределение оттока клиентов на тарифах за посл. 4 мес. 2018 г.\n"
     ]
    },
    {
     "data": {
      "text/plain": [
       "tariff\n",
       "smart    22\n",
       "ultra    13\n",
       "Name: churn_date, dtype: int64"
      ]
     },
     "execution_count": 101,
     "metadata": {},
     "output_type": "execute_result"
    }
   ],
   "source": [
    "print ('Кол-во клентов покинувших компанию за год', users.churn_date.notna().sum())\n",
    "\n",
    "print ('Кол-во клентов покинувших компанию за посл. 4 мес. 2018 г. на двух тарифах',\n",
    "       users.query('churn_date > \"2018-09-25\"').churn_date.notna().sum()\n",
    "      )\n",
    "print ('%  от общего кол-ва всех клиентов, покинувших компанию за посл. 4 мес. 2018 г. на двух тарифах',\n",
    "    (users.query('churn_date > \"2018-09-25\"').churn_date.notna().sum()/users.churn_date.notna().sum()*100).round(1)\n",
    ")\n",
    "\n",
    "print ('Распределение оттока клиентов на тарифах за посл. 4 мес. 2018 г.')\n",
    "users.query('churn_date > \"2018-09-25\"').groupby('tariff')['churn_date'].count()"
   ]
  },
  {
   "cell_type": "code",
   "execution_count": 102,
   "metadata": {},
   "outputs": [
    {
     "data": {
      "image/png": "[encoded data removed]",
      "text/plain": [
       "<Figure size 360x360 with 1 Axes>"
      ]
     },
     "metadata": {
      "needs_background": "light"
     },
     "output_type": "display_data"
    },
    {
     "data": {
      "image/png": "[encoded data removed]",
      "text/plain": [
       "<Figure size 360x360 with 1 Axes>"
      ]
     },
     "metadata": {
      "needs_background": "light"
     },
     "output_type": "display_data"
    },
    {
     "data": {
      "image/png": "[encoded data removed]",
      "text/plain": [
       "<Figure size 360x360 with 1 Axes>"
      ]
     },
     "metadata": {
      "needs_background": "light"
     },
     "output_type": "display_data"
    },
    {
     "data": {
      "image/png": "[encoded data removed]",
      "text/plain": [
       "<Figure size 360x360 with 1 Axes>"
      ]
     },
     "metadata": {
      "needs_background": "light"
     },
     "output_type": "display_data"
    }
   ],
   "source": [
    "for column in ['messages_count', 'call_duration', 'mb_used', 'full_fee']:    \n",
    "    sns.catplot(y='tariff', x=column, kind=\"box\", data=incom_per_month, orient='h')"
   ]
  }
 ],
 "metadata": {
  "ExecuteTimeLog": [
   {
    "duration": 3,
    "start_time": "2022-02-13T10:24:24.431Z"
   },
   {
    "duration": 2,
    "start_time": "2022-02-13T10:42:49.349Z"
   },
   {
    "duration": 3,
    "start_time": "2022-02-13T10:45:05.334Z"
   },
   {
    "duration": 588,
    "start_time": "2022-02-13T10:48:01.203Z"
   },
   {
    "duration": 147,
    "start_time": "2022-02-13T10:49:04.538Z"
   },
   {
    "duration": 139,
    "start_time": "2022-02-13T10:49:24.324Z"
   },
   {
    "duration": 109,
    "start_time": "2022-02-13T10:50:02.283Z"
   },
   {
    "duration": 120,
    "start_time": "2022-02-13T10:50:20.860Z"
   },
   {
    "duration": 136,
    "start_time": "2022-02-13T10:51:37.585Z"
   },
   {
    "duration": 122,
    "start_time": "2022-02-13T10:51:48.460Z"
   },
   {
    "duration": 80,
    "start_time": "2022-02-13T10:52:41.982Z"
   },
   {
    "duration": 20,
    "start_time": "2022-02-13T10:53:17.574Z"
   },
   {
    "duration": 45,
    "start_time": "2022-02-13T10:54:11.469Z"
   },
   {
    "duration": 150,
    "start_time": "2022-02-13T10:56:33.330Z"
   },
   {
    "duration": 370,
    "start_time": "2022-02-13T10:56:53.973Z"
   },
   {
    "duration": 134,
    "start_time": "2022-02-13T10:57:51.625Z"
   },
   {
    "duration": 92,
    "start_time": "2022-02-13T10:58:56.355Z"
   },
   {
    "duration": 22,
    "start_time": "2022-02-13T11:00:16.978Z"
   },
   {
    "duration": 19,
    "start_time": "2022-02-13T11:00:36.138Z"
   },
   {
    "duration": 20,
    "start_time": "2022-02-13T11:00:41.812Z"
   },
   {
    "duration": 20,
    "start_time": "2022-02-13T11:00:43.574Z"
   },
   {
    "duration": 44,
    "start_time": "2022-02-13T11:01:02.148Z"
   },
   {
    "duration": 4,
    "start_time": "2022-02-13T11:54:46.120Z"
   },
   {
    "duration": 7,
    "start_time": "2022-02-13T11:56:03.457Z"
   },
   {
    "duration": 414,
    "start_time": "2022-02-13T11:56:13.540Z"
   },
   {
    "duration": 16,
    "start_time": "2022-02-13T11:56:17.555Z"
   },
   {
    "duration": 351,
    "start_time": "2022-02-13T12:04:30.587Z"
   },
   {
    "duration": 7,
    "start_time": "2022-02-13T12:04:41.803Z"
   },
   {
    "duration": 4,
    "start_time": "2022-02-13T12:07:43.854Z"
   },
   {
    "duration": 303,
    "start_time": "2022-02-13T12:08:26.839Z"
   },
   {
    "duration": 332,
    "start_time": "2022-02-13T12:08:33.441Z"
   },
   {
    "duration": 4,
    "start_time": "2022-02-13T12:08:46.423Z"
   },
   {
    "duration": 340,
    "start_time": "2022-02-13T12:11:21.631Z"
   },
   {
    "duration": 332,
    "start_time": "2022-02-13T12:11:30.305Z"
   },
   {
    "duration": 6,
    "start_time": "2022-02-13T12:11:45.831Z"
   },
   {
    "duration": 7,
    "start_time": "2022-02-13T12:11:56.375Z"
   },
   {
    "duration": 329,
    "start_time": "2022-02-13T12:12:08.613Z"
   },
   {
    "duration": 332,
    "start_time": "2022-02-13T12:12:13.596Z"
   },
   {
    "duration": 5,
    "start_time": "2022-02-13T12:13:10.507Z"
   },
   {
    "duration": 424,
    "start_time": "2022-02-13T12:17:47.125Z"
   },
   {
    "duration": 13,
    "start_time": "2022-02-13T12:17:53.921Z"
   },
   {
    "duration": 358,
    "start_time": "2022-02-13T12:18:26.241Z"
   },
   {
    "duration": 6,
    "start_time": "2022-02-13T12:18:43.323Z"
   },
   {
    "duration": 5,
    "start_time": "2022-02-13T12:20:26.246Z"
   },
   {
    "duration": 6,
    "start_time": "2022-02-13T12:20:30.043Z"
   },
   {
    "duration": 5,
    "start_time": "2022-02-13T12:21:18.928Z"
   },
   {
    "duration": 5,
    "start_time": "2022-02-13T12:21:38.922Z"
   },
   {
    "duration": 9,
    "start_time": "2022-02-13T12:22:26.000Z"
   },
   {
    "duration": 12,
    "start_time": "2022-02-13T12:31:31.934Z"
   },
   {
    "duration": 410536,
    "start_time": "2022-02-13T12:29:08.824Z"
   },
   {
    "duration": 569,
    "start_time": "2022-02-13T12:36:04.358Z"
   },
   {
    "duration": 508,
    "start_time": "2022-02-13T12:36:15.393Z"
   },
   {
    "duration": 13,
    "start_time": "2022-02-13T12:36:21.265Z"
   },
   {
    "duration": 10,
    "start_time": "2022-02-13T12:37:08.681Z"
   },
   {
    "duration": 26,
    "start_time": "2022-02-13T12:46:49.441Z"
   },
   {
    "duration": 18,
    "start_time": "2022-02-13T12:47:01.883Z"
   },
   {
    "duration": 18,
    "start_time": "2022-02-13T12:49:57.162Z"
   },
   {
    "duration": 30,
    "start_time": "2022-02-13T12:50:11.109Z"
   },
   {
    "duration": 1211,
    "start_time": "2022-02-13T13:20:09.862Z"
   },
   {
    "duration": 2,
    "start_time": "2022-02-13T13:20:31.899Z"
   },
   {
    "duration": 420,
    "start_time": "2022-02-13T13:20:40.666Z"
   },
   {
    "duration": 399,
    "start_time": "2022-02-13T13:24:02.232Z"
   },
   {
    "duration": 6,
    "start_time": "2022-02-13T13:24:09.848Z"
   },
   {
    "duration": 15,
    "start_time": "2022-02-13T13:24:22.506Z"
   },
   {
    "duration": 599,
    "start_time": "2022-02-13T13:24:29.265Z"
   },
   {
    "duration": 162,
    "start_time": "2022-02-13T13:24:29.865Z"
   },
   {
    "duration": 14,
    "start_time": "2022-02-13T13:24:30.029Z"
   },
   {
    "duration": 141,
    "start_time": "2022-02-13T13:24:30.045Z"
   },
   {
    "duration": 15,
    "start_time": "2022-02-13T13:24:30.188Z"
   },
   {
    "duration": 15,
    "start_time": "2022-02-13T13:24:30.205Z"
   },
   {
    "duration": 145,
    "start_time": "2022-02-13T13:24:30.222Z"
   },
   {
    "duration": 23,
    "start_time": "2022-02-13T13:24:30.372Z"
   },
   {
    "duration": 47,
    "start_time": "2022-02-13T13:24:30.397Z"
   },
   {
    "duration": 6,
    "start_time": "2022-02-13T13:24:30.445Z"
   },
   {
    "duration": 12,
    "start_time": "2022-02-13T13:24:30.453Z"
   },
   {
    "duration": 53,
    "start_time": "2022-02-13T13:24:30.467Z"
   },
   {
    "duration": 7,
    "start_time": "2022-02-13T13:24:30.522Z"
   },
   {
    "duration": 29,
    "start_time": "2022-02-13T13:24:30.530Z"
   },
   {
    "duration": 7,
    "start_time": "2022-02-13T13:24:39.193Z"
   },
   {
    "duration": 5,
    "start_time": "2022-02-13T13:26:37.667Z"
   },
   {
    "duration": 10,
    "start_time": "2022-02-13T13:26:48.503Z"
   },
   {
    "duration": 8,
    "start_time": "2022-02-13T13:26:49.916Z"
   },
   {
    "duration": 28,
    "start_time": "2022-02-13T13:26:55.392Z"
   },
   {
    "duration": 18,
    "start_time": "2022-02-13T13:34:08.700Z"
   },
   {
    "duration": 6,
    "start_time": "2022-02-13T13:34:42.042Z"
   },
   {
    "duration": 24,
    "start_time": "2022-02-13T13:36:26.908Z"
   },
   {
    "duration": 14,
    "start_time": "2022-02-13T13:36:42.155Z"
   },
   {
    "duration": 8,
    "start_time": "2022-02-13T13:38:39.837Z"
   },
   {
    "duration": 8,
    "start_time": "2022-02-13T13:41:08.464Z"
   },
   {
    "duration": 22,
    "start_time": "2022-02-13T13:51:18.045Z"
   },
   {
    "duration": 27,
    "start_time": "2022-02-13T13:51:25.430Z"
   },
   {
    "duration": 4380,
    "start_time": "2022-02-13T13:52:28.896Z"
   },
   {
    "duration": 27,
    "start_time": "2022-02-13T13:52:46.506Z"
   },
   {
    "duration": 8340,
    "start_time": "2022-02-13T13:58:28.815Z"
   },
   {
    "duration": 20,
    "start_time": "2022-02-13T13:59:50.452Z"
   },
   {
    "duration": 56,
    "start_time": "2022-02-13T14:00:15.786Z"
   },
   {
    "duration": 50,
    "start_time": "2022-02-13T14:00:22.340Z"
   },
   {
    "duration": 38,
    "start_time": "2022-02-13T14:00:36.547Z"
   },
   {
    "duration": 116,
    "start_time": "2022-02-13T14:05:06.572Z"
   },
   {
    "duration": 30,
    "start_time": "2022-02-13T14:05:36.822Z"
   },
   {
    "duration": 478,
    "start_time": "2022-02-14T17:26:59.290Z"
   },
   {
    "duration": 1133,
    "start_time": "2022-02-14T17:27:06.585Z"
   },
   {
    "duration": 350,
    "start_time": "2022-02-14T17:27:07.723Z"
   },
   {
    "duration": 27,
    "start_time": "2022-02-14T17:27:08.077Z"
   },
   {
    "duration": 220,
    "start_time": "2022-02-14T17:27:08.108Z"
   },
   {
    "duration": 26,
    "start_time": "2022-02-14T17:27:08.331Z"
   },
   {
    "duration": 18,
    "start_time": "2022-02-14T17:27:08.360Z"
   },
   {
    "duration": 154,
    "start_time": "2022-02-14T17:27:08.381Z"
   },
   {
    "duration": 25,
    "start_time": "2022-02-14T17:27:08.537Z"
   },
   {
    "duration": 38,
    "start_time": "2022-02-14T17:27:08.566Z"
   },
   {
    "duration": 14,
    "start_time": "2022-02-14T17:27:08.608Z"
   },
   {
    "duration": 10,
    "start_time": "2022-02-14T17:27:08.650Z"
   },
   {
    "duration": 13,
    "start_time": "2022-02-14T17:27:08.664Z"
   },
   {
    "duration": 77,
    "start_time": "2022-02-14T17:27:08.680Z"
   },
   {
    "duration": 10,
    "start_time": "2022-02-14T17:27:08.759Z"
   },
   {
    "duration": 34,
    "start_time": "2022-02-14T17:27:08.772Z"
   },
   {
    "duration": 54,
    "start_time": "2022-02-14T17:27:08.809Z"
   },
   {
    "duration": 25,
    "start_time": "2022-02-14T17:27:08.866Z"
   },
   {
    "duration": 64,
    "start_time": "2022-02-14T17:27:08.894Z"
   },
   {
    "duration": 12,
    "start_time": "2022-02-14T17:27:08.960Z"
   },
   {
    "duration": 114,
    "start_time": "2022-02-14T17:27:08.974Z"
   },
   {
    "duration": 438,
    "start_time": "2022-02-14T17:27:09.090Z"
   },
   {
    "duration": 412524,
    "start_time": "2022-02-14T17:20:17.007Z"
   },
   {
    "duration": 412522,
    "start_time": "2022-02-14T17:20:17.010Z"
   },
   {
    "duration": 48,
    "start_time": "2022-02-14T17:27:32.887Z"
   },
   {
    "duration": 69,
    "start_time": "2022-02-14T17:27:40.149Z"
   },
   {
    "duration": 304,
    "start_time": "2022-02-14T17:28:43.939Z"
   },
   {
    "duration": 50,
    "start_time": "2022-02-14T17:29:01.817Z"
   },
   {
    "duration": 55,
    "start_time": "2022-02-14T17:29:50.875Z"
   },
   {
    "duration": 55,
    "start_time": "2022-02-14T17:34:16.037Z"
   },
   {
    "duration": 1374,
    "start_time": "2022-02-14T17:35:26.146Z"
   },
   {
    "duration": 30,
    "start_time": "2022-02-14T17:35:57.177Z"
   },
   {
    "duration": 569,
    "start_time": "2022-02-14T17:36:31.008Z"
   },
   {
    "duration": 6,
    "start_time": "2022-02-14T17:36:34.040Z"
   },
   {
    "duration": 4,
    "start_time": "2022-02-14T17:36:48.317Z"
   },
   {
    "duration": 21,
    "start_time": "2022-02-14T17:36:55.627Z"
   },
   {
    "duration": 55,
    "start_time": "2022-02-14T17:40:19.678Z"
   },
   {
    "duration": 71,
    "start_time": "2022-02-14T17:40:22.027Z"
   },
   {
    "duration": 7433,
    "start_time": "2022-02-14T17:47:44.124Z"
   },
   {
    "duration": 68,
    "start_time": "2022-02-14T17:48:03.399Z"
   },
   {
    "duration": 20,
    "start_time": "2022-02-14T17:48:49.545Z"
   },
   {
    "duration": 315,
    "start_time": "2022-02-14T17:51:14.945Z"
   },
   {
    "duration": 42,
    "start_time": "2022-02-14T17:51:37.497Z"
   },
   {
    "duration": 8,
    "start_time": "2022-02-14T17:51:45.627Z"
   },
   {
    "duration": 40,
    "start_time": "2022-02-14T17:51:54.586Z"
   },
   {
    "duration": 98,
    "start_time": "2022-02-14T17:52:00.903Z"
   },
   {
    "duration": 41,
    "start_time": "2022-02-14T17:52:19.884Z"
   },
   {
    "duration": 104,
    "start_time": "2022-02-14T17:56:18.536Z"
   },
   {
    "duration": 7419,
    "start_time": "2022-02-14T17:56:27.254Z"
   },
   {
    "duration": 6,
    "start_time": "2022-02-14T17:57:40.663Z"
   },
   {
    "duration": 33,
    "start_time": "2022-02-14T17:57:47.922Z"
   },
   {
    "duration": 221,
    "start_time": "2022-02-14T18:25:50.517Z"
   },
   {
    "duration": 216,
    "start_time": "2022-02-14T18:26:05.189Z"
   },
   {
    "duration": 555,
    "start_time": "2022-02-14T18:30:55.446Z"
   },
   {
    "duration": 211,
    "start_time": "2022-02-14T18:31:04.624Z"
   },
   {
    "duration": 485,
    "start_time": "2022-02-14T18:31:16.694Z"
   },
   {
    "duration": 176,
    "start_time": "2022-02-14T18:32:34.766Z"
   },
   {
    "duration": 190,
    "start_time": "2022-02-14T18:32:58.253Z"
   },
   {
    "duration": 246,
    "start_time": "2022-02-14T18:33:12.127Z"
   },
   {
    "duration": 520,
    "start_time": "2022-02-14T18:34:54.548Z"
   },
   {
    "duration": 7562,
    "start_time": "2022-02-14T18:35:12.223Z"
   },
   {
    "duration": 8453,
    "start_time": "2022-02-14T18:35:22.378Z"
   },
   {
    "duration": 468,
    "start_time": "2022-02-14T18:35:52.993Z"
   },
   {
    "duration": 495,
    "start_time": "2022-02-14T18:35:57.128Z"
   },
   {
    "duration": 412533,
    "start_time": "2022-02-14T18:29:36.777Z"
   },
   {
    "duration": 9091,
    "start_time": "2022-02-14T18:36:33.238Z"
   },
   {
    "duration": 9823,
    "start_time": "2022-02-14T18:37:19.615Z"
   },
   {
    "duration": 412645,
    "start_time": "2022-02-14T18:30:57.867Z"
   },
   {
    "duration": 8729,
    "start_time": "2022-02-14T18:37:56.237Z"
   },
   {
    "duration": 225,
    "start_time": "2022-02-14T18:40:27.057Z"
   },
   {
    "duration": 25,
    "start_time": "2022-02-14T18:43:49.258Z"
   },
   {
    "duration": 817,
    "start_time": "2022-02-14T18:44:14.561Z"
   },
   {
    "duration": 246,
    "start_time": "2022-02-14T18:44:15.381Z"
   },
   {
    "duration": 38,
    "start_time": "2022-02-14T18:44:15.631Z"
   },
   {
    "duration": 211,
    "start_time": "2022-02-14T18:44:15.673Z"
   },
   {
    "duration": 23,
    "start_time": "2022-02-14T18:44:15.886Z"
   },
   {
    "duration": 49,
    "start_time": "2022-02-14T18:44:15.912Z"
   },
   {
    "duration": 16,
    "start_time": "2022-02-14T18:44:15.964Z"
   },
   {
    "duration": 153,
    "start_time": "2022-02-14T18:44:15.982Z"
   },
   {
    "duration": 30,
    "start_time": "2022-02-14T18:44:16.151Z"
   },
   {
    "duration": 35,
    "start_time": "2022-02-14T18:44:16.184Z"
   },
   {
    "duration": 12,
    "start_time": "2022-02-14T18:44:16.222Z"
   },
   {
    "duration": 21,
    "start_time": "2022-02-14T18:44:16.236Z"
   },
   {
    "duration": 13,
    "start_time": "2022-02-14T18:44:16.260Z"
   },
   {
    "duration": 79,
    "start_time": "2022-02-14T18:44:16.275Z"
   },
   {
    "duration": 11,
    "start_time": "2022-02-14T18:44:16.357Z"
   },
   {
    "duration": 35,
    "start_time": "2022-02-14T18:44:16.371Z"
   },
   {
    "duration": 53,
    "start_time": "2022-02-14T18:44:16.408Z"
   },
   {
    "duration": 27,
    "start_time": "2022-02-14T18:44:16.464Z"
   },
   {
    "duration": 56,
    "start_time": "2022-02-14T18:44:16.494Z"
   },
   {
    "duration": 19,
    "start_time": "2022-02-14T18:44:16.552Z"
   },
   {
    "duration": 108,
    "start_time": "2022-02-14T18:44:16.574Z"
   },
   {
    "duration": 107,
    "start_time": "2022-02-14T18:44:16.684Z"
   },
   {
    "duration": 18,
    "start_time": "2022-02-14T18:44:16.794Z"
   },
   {
    "duration": 84,
    "start_time": "2022-02-14T18:44:16.814Z"
   },
   {
    "duration": 59,
    "start_time": "2022-02-14T18:44:16.900Z"
   },
   {
    "duration": 67,
    "start_time": "2022-02-14T18:44:16.962Z"
   },
   {
    "duration": 97,
    "start_time": "2022-02-14T18:44:17.034Z"
   },
   {
    "duration": 46,
    "start_time": "2022-02-14T18:44:17.134Z"
   },
   {
    "duration": 288,
    "start_time": "2022-02-15T18:31:56.402Z"
   },
   {
    "duration": 656,
    "start_time": "2022-02-15T18:32:07.270Z"
   },
   {
    "duration": 212,
    "start_time": "2022-02-15T18:32:07.930Z"
   },
   {
    "duration": 17,
    "start_time": "2022-02-15T18:32:08.145Z"
   },
   {
    "duration": 188,
    "start_time": "2022-02-15T18:32:08.164Z"
   },
   {
    "duration": 16,
    "start_time": "2022-02-15T18:32:08.354Z"
   },
   {
    "duration": 22,
    "start_time": "2022-02-15T18:32:08.372Z"
   },
   {
    "duration": 23,
    "start_time": "2022-02-15T18:32:08.410Z"
   },
   {
    "duration": 121,
    "start_time": "2022-02-15T18:32:08.436Z"
   },
   {
    "duration": 17,
    "start_time": "2022-02-15T18:32:08.560Z"
   },
   {
    "duration": 37,
    "start_time": "2022-02-15T18:32:08.578Z"
   },
   {
    "duration": 10,
    "start_time": "2022-02-15T18:32:08.617Z"
   },
   {
    "duration": 23,
    "start_time": "2022-02-15T18:32:08.629Z"
   },
   {
    "duration": 21,
    "start_time": "2022-02-15T18:32:08.654Z"
   },
   {
    "duration": 44,
    "start_time": "2022-02-15T18:32:08.677Z"
   },
   {
    "duration": 9,
    "start_time": "2022-02-15T18:32:08.723Z"
   },
   {
    "duration": 46,
    "start_time": "2022-02-15T18:32:08.734Z"
   },
   {
    "duration": 26,
    "start_time": "2022-02-15T18:32:08.782Z"
   },
   {
    "duration": 32,
    "start_time": "2022-02-15T18:32:08.811Z"
   },
   {
    "duration": 29,
    "start_time": "2022-02-15T18:32:08.846Z"
   },
   {
    "duration": 30,
    "start_time": "2022-02-15T18:32:08.877Z"
   },
   {
    "duration": 74,
    "start_time": "2022-02-15T18:32:08.910Z"
   },
   {
    "duration": 87,
    "start_time": "2022-02-15T18:32:08.986Z"
   },
   {
    "duration": 13,
    "start_time": "2022-02-15T18:32:09.074Z"
   },
   {
    "duration": 63,
    "start_time": "2022-02-15T18:32:09.089Z"
   },
   {
    "duration": 38,
    "start_time": "2022-02-15T18:32:09.155Z"
   },
   {
    "duration": 58,
    "start_time": "2022-02-15T18:32:09.212Z"
   },
   {
    "duration": 57,
    "start_time": "2022-02-15T18:32:09.272Z"
   },
   {
    "duration": 23,
    "start_time": "2022-02-15T18:32:09.331Z"
   },
   {
    "duration": 5,
    "start_time": "2022-02-15T18:32:09.356Z"
   },
   {
    "duration": 7,
    "start_time": "2022-02-15T18:33:17.225Z"
   },
   {
    "duration": 5,
    "start_time": "2022-02-15T18:33:31.992Z"
   },
   {
    "duration": 468,
    "start_time": "2022-02-15T18:34:31.820Z"
   },
   {
    "duration": 269,
    "start_time": "2022-02-15T18:34:40.600Z"
   },
   {
    "duration": 4,
    "start_time": "2022-02-15T18:35:02.102Z"
   },
   {
    "duration": 14,
    "start_time": "2022-02-15T18:35:08.127Z"
   },
   {
    "duration": 14,
    "start_time": "2022-02-15T18:35:41.242Z"
   },
   {
    "duration": 262,
    "start_time": "2022-02-15T18:41:46.493Z"
   },
   {
    "duration": 342,
    "start_time": "2022-02-15T18:43:32.998Z"
   },
   {
    "duration": 261,
    "start_time": "2022-02-15T18:45:08.428Z"
   },
   {
    "duration": 323,
    "start_time": "2022-02-15T18:50:26.463Z"
   },
   {
    "duration": 268,
    "start_time": "2022-02-15T18:50:53.959Z"
   },
   {
    "duration": 11,
    "start_time": "2022-02-15T18:51:28.645Z"
   },
   {
    "duration": 25,
    "start_time": "2022-02-15T18:51:35.158Z"
   },
   {
    "duration": 14,
    "start_time": "2022-02-15T18:52:43.775Z"
   },
   {
    "duration": 32,
    "start_time": "2022-02-15T18:52:59.261Z"
   },
   {
    "duration": 78,
    "start_time": "2022-02-15T18:58:49.686Z"
   },
   {
    "duration": 11,
    "start_time": "2022-02-15T18:59:28.664Z"
   },
   {
    "duration": 80,
    "start_time": "2022-02-15T18:59:40.061Z"
   },
   {
    "duration": 84,
    "start_time": "2022-02-15T19:00:22.076Z"
   },
   {
    "duration": 58,
    "start_time": "2022-02-15T19:02:42.359Z"
   },
   {
    "duration": 89,
    "start_time": "2022-02-15T19:02:58.967Z"
   },
   {
    "duration": 278,
    "start_time": "2022-02-15T19:03:12.589Z"
   },
   {
    "duration": 101,
    "start_time": "2022-02-15T19:03:27.419Z"
   },
   {
    "duration": 84,
    "start_time": "2022-02-15T19:04:13.921Z"
   },
   {
    "duration": 39,
    "start_time": "2022-02-15T19:04:21.557Z"
   },
   {
    "duration": 10,
    "start_time": "2022-02-15T19:09:20.734Z"
   },
   {
    "duration": 240,
    "start_time": "2022-02-15T19:09:26.534Z"
   },
   {
    "duration": 21,
    "start_time": "2022-02-15T19:09:31.742Z"
   },
   {
    "duration": 161,
    "start_time": "2022-02-15T19:10:10.879Z"
   },
   {
    "duration": 151,
    "start_time": "2022-02-15T19:10:16.624Z"
   },
   {
    "duration": 748,
    "start_time": "2022-02-15T19:10:35.585Z"
   },
   {
    "duration": 205,
    "start_time": "2022-02-15T19:10:36.336Z"
   },
   {
    "duration": 18,
    "start_time": "2022-02-15T19:10:36.543Z"
   },
   {
    "duration": 185,
    "start_time": "2022-02-15T19:10:36.564Z"
   },
   {
    "duration": 9,
    "start_time": "2022-02-15T19:10:36.751Z"
   },
   {
    "duration": 26,
    "start_time": "2022-02-15T19:10:36.762Z"
   },
   {
    "duration": 26,
    "start_time": "2022-02-15T19:10:36.790Z"
   },
   {
    "duration": 118,
    "start_time": "2022-02-15T19:10:36.819Z"
   },
   {
    "duration": 17,
    "start_time": "2022-02-15T19:10:36.940Z"
   },
   {
    "duration": 32,
    "start_time": "2022-02-15T19:10:36.959Z"
   },
   {
    "duration": 16,
    "start_time": "2022-02-15T19:10:36.993Z"
   },
   {
    "duration": 19,
    "start_time": "2022-02-15T19:10:37.011Z"
   },
   {
    "duration": 14,
    "start_time": "2022-02-15T19:10:37.032Z"
   },
   {
    "duration": 50,
    "start_time": "2022-02-15T19:10:37.048Z"
   },
   {
    "duration": 8,
    "start_time": "2022-02-15T19:10:37.100Z"
   },
   {
    "duration": 28,
    "start_time": "2022-02-15T19:10:37.110Z"
   },
   {
    "duration": 22,
    "start_time": "2022-02-15T19:10:37.140Z"
   },
   {
    "duration": 17,
    "start_time": "2022-02-15T19:10:37.164Z"
   },
   {
    "duration": 38,
    "start_time": "2022-02-15T19:10:37.208Z"
   },
   {
    "duration": 9,
    "start_time": "2022-02-15T19:10:37.248Z"
   },
   {
    "duration": 97,
    "start_time": "2022-02-15T19:10:37.259Z"
   },
   {
    "duration": 74,
    "start_time": "2022-02-15T19:10:37.358Z"
   },
   {
    "duration": 14,
    "start_time": "2022-02-15T19:10:37.435Z"
   },
   {
    "duration": 60,
    "start_time": "2022-02-15T19:10:37.451Z"
   },
   {
    "duration": 48,
    "start_time": "2022-02-15T19:10:37.514Z"
   },
   {
    "duration": 77,
    "start_time": "2022-02-15T19:10:37.564Z"
   },
   {
    "duration": 47,
    "start_time": "2022-02-15T19:10:37.643Z"
   },
   {
    "duration": 43,
    "start_time": "2022-02-15T19:10:37.692Z"
   },
   {
    "duration": 140,
    "start_time": "2022-02-15T19:10:37.737Z"
   },
   {
    "duration": 52,
    "start_time": "2022-02-15T19:10:37.880Z"
   },
   {
    "duration": 21,
    "start_time": "2022-02-15T19:10:37.934Z"
   },
   {
    "duration": 1289,
    "start_time": "2022-02-15T19:12:44.610Z"
   },
   {
    "duration": 31,
    "start_time": "2022-02-15T19:13:54.976Z"
   },
   {
    "duration": 45,
    "start_time": "2022-02-15T19:14:16.306Z"
   },
   {
    "duration": 35,
    "start_time": "2022-02-15T19:16:04.167Z"
   },
   {
    "duration": 245,
    "start_time": "2022-02-15T19:16:23.897Z"
   },
   {
    "duration": 256,
    "start_time": "2022-02-15T19:16:35.240Z"
   },
   {
    "duration": 266,
    "start_time": "2022-02-15T19:16:51.747Z"
   },
   {
    "duration": 268,
    "start_time": "2022-02-15T19:17:23.075Z"
   },
   {
    "duration": 42,
    "start_time": "2022-02-15T19:17:42.975Z"
   },
   {
    "duration": 80,
    "start_time": "2022-02-15T19:18:18.220Z"
   },
   {
    "duration": 68,
    "start_time": "2022-02-15T19:18:25.342Z"
   },
   {
    "duration": 80,
    "start_time": "2022-02-15T19:18:29.224Z"
   },
   {
    "duration": 69,
    "start_time": "2022-02-15T19:18:47.304Z"
   },
   {
    "duration": 307,
    "start_time": "2022-02-15T19:20:01.582Z"
   },
   {
    "duration": 301,
    "start_time": "2022-02-15T19:20:21.573Z"
   },
   {
    "duration": 258,
    "start_time": "2022-02-15T19:21:04.130Z"
   },
   {
    "duration": 250,
    "start_time": "2022-02-15T19:21:06.461Z"
   },
   {
    "duration": 114,
    "start_time": "2022-02-15T19:21:13.108Z"
   },
   {
    "duration": 119,
    "start_time": "2022-02-15T19:21:20.570Z"
   },
   {
    "duration": 294,
    "start_time": "2022-02-15T19:23:09.793Z"
   },
   {
    "duration": 62,
    "start_time": "2022-02-15T19:23:11.389Z"
   },
   {
    "duration": 73,
    "start_time": "2022-02-15T19:23:14.017Z"
   },
   {
    "duration": 74,
    "start_time": "2022-02-15T19:23:26.259Z"
   },
   {
    "duration": 270,
    "start_time": "2022-02-15T19:24:58.521Z"
   },
   {
    "duration": 266,
    "start_time": "2022-02-15T19:25:17.529Z"
   },
   {
    "duration": 1174,
    "start_time": "2022-02-15T19:25:36.686Z"
   },
   {
    "duration": 9,
    "start_time": "2022-02-15T19:28:26.532Z"
   },
   {
    "duration": 19,
    "start_time": "2022-02-15T19:28:32.824Z"
   },
   {
    "duration": 261,
    "start_time": "2022-02-15T19:30:11.077Z"
   },
   {
    "duration": 281,
    "start_time": "2022-02-15T19:30:22.931Z"
   },
   {
    "duration": 1557,
    "start_time": "2022-02-15T19:30:43.261Z"
   },
   {
    "duration": 314,
    "start_time": "2022-02-15T19:32:53.174Z"
   },
   {
    "duration": 89,
    "start_time": "2022-02-15T19:33:14.049Z"
   },
   {
    "duration": 340,
    "start_time": "2022-02-15T19:33:29.667Z"
   },
   {
    "duration": 6299,
    "start_time": "2022-02-15T19:33:37.570Z"
   },
   {
    "duration": 256,
    "start_time": "2022-02-15T19:33:58.458Z"
   },
   {
    "duration": 32,
    "start_time": "2022-02-15T19:36:15.658Z"
   },
   {
    "duration": 29,
    "start_time": "2022-02-15T19:38:17.751Z"
   },
   {
    "duration": 44,
    "start_time": "2022-02-15T19:38:28.869Z"
   },
   {
    "duration": 34,
    "start_time": "2022-02-15T19:42:02.178Z"
   },
   {
    "duration": 17,
    "start_time": "2022-02-15T19:42:16.778Z"
   },
   {
    "duration": 28,
    "start_time": "2022-02-15T19:42:22.652Z"
   },
   {
    "duration": 24,
    "start_time": "2022-02-15T19:42:57.175Z"
   },
   {
    "duration": 2,
    "start_time": "2022-02-15T19:43:48.216Z"
   },
   {
    "duration": 26,
    "start_time": "2022-02-15T19:43:55.915Z"
   },
   {
    "duration": 622,
    "start_time": "2022-02-15T19:44:05.055Z"
   },
   {
    "duration": 204,
    "start_time": "2022-02-15T19:44:05.679Z"
   },
   {
    "duration": 26,
    "start_time": "2022-02-15T19:44:05.885Z"
   },
   {
    "duration": 220,
    "start_time": "2022-02-15T19:44:05.913Z"
   },
   {
    "duration": 10,
    "start_time": "2022-02-15T19:44:06.136Z"
   },
   {
    "duration": 16,
    "start_time": "2022-02-15T19:44:06.149Z"
   },
   {
    "duration": 44,
    "start_time": "2022-02-15T19:44:06.167Z"
   },
   {
    "duration": 107,
    "start_time": "2022-02-15T19:44:06.214Z"
   },
   {
    "duration": 17,
    "start_time": "2022-02-15T19:44:06.323Z"
   },
   {
    "duration": 44,
    "start_time": "2022-02-15T19:44:06.341Z"
   },
   {
    "duration": 9,
    "start_time": "2022-02-15T19:44:06.387Z"
   },
   {
    "duration": 14,
    "start_time": "2022-02-15T19:44:06.398Z"
   },
   {
    "duration": 10,
    "start_time": "2022-02-15T19:44:06.415Z"
   },
   {
    "duration": 41,
    "start_time": "2022-02-15T19:44:06.427Z"
   },
   {
    "duration": 9,
    "start_time": "2022-02-15T19:44:06.470Z"
   },
   {
    "duration": 43,
    "start_time": "2022-02-15T19:44:06.481Z"
   },
   {
    "duration": 23,
    "start_time": "2022-02-15T19:44:06.527Z"
   },
   {
    "duration": 18,
    "start_time": "2022-02-15T19:44:06.552Z"
   },
   {
    "duration": 63,
    "start_time": "2022-02-15T19:44:06.573Z"
   },
   {
    "duration": 10,
    "start_time": "2022-02-15T19:44:06.638Z"
   },
   {
    "duration": 91,
    "start_time": "2022-02-15T19:44:06.651Z"
   },
   {
    "duration": 73,
    "start_time": "2022-02-15T19:44:06.745Z"
   },
   {
    "duration": 2,
    "start_time": "2022-02-15T19:44:06.822Z"
   },
   {
    "duration": 53,
    "start_time": "2022-02-15T19:44:06.826Z"
   },
   {
    "duration": 49,
    "start_time": "2022-02-15T19:44:06.882Z"
   },
   {
    "duration": 50,
    "start_time": "2022-02-15T19:44:06.933Z"
   },
   {
    "duration": 59,
    "start_time": "2022-02-15T19:44:06.985Z"
   },
   {
    "duration": 22,
    "start_time": "2022-02-15T19:44:07.046Z"
   },
   {
    "duration": 104,
    "start_time": "2022-02-15T19:44:07.070Z"
   },
   {
    "duration": 90,
    "start_time": "2022-02-15T19:44:07.176Z"
   },
   {
    "duration": 92,
    "start_time": "2022-02-15T19:44:07.269Z"
   },
   {
    "duration": 123,
    "start_time": "2022-02-15T19:44:07.364Z"
   },
   {
    "duration": 66,
    "start_time": "2022-02-15T19:44:07.489Z"
   },
   {
    "duration": 72,
    "start_time": "2022-02-15T19:44:07.557Z"
   },
   {
    "duration": 34,
    "start_time": "2022-02-15T19:44:07.631Z"
   },
   {
    "duration": 56,
    "start_time": "2022-02-15T19:44:07.667Z"
   },
   {
    "duration": 26,
    "start_time": "2022-02-15T19:44:31.743Z"
   },
   {
    "duration": 25,
    "start_time": "2022-02-15T19:44:46.768Z"
   },
   {
    "duration": 40,
    "start_time": "2022-02-15T19:45:01.129Z"
   },
   {
    "duration": 33,
    "start_time": "2022-02-15T19:45:34.568Z"
   },
   {
    "duration": 5,
    "start_time": "2022-02-15T19:50:45.495Z"
   },
   {
    "duration": 6,
    "start_time": "2022-02-15T19:50:51.933Z"
   },
   {
    "duration": 308,
    "start_time": "2022-02-15T19:55:56.447Z"
   },
   {
    "duration": 4,
    "start_time": "2022-02-15T19:56:11.242Z"
   },
   {
    "duration": 26,
    "start_time": "2022-02-15T20:05:43.819Z"
   },
   {
    "duration": 89,
    "start_time": "2022-02-15T20:08:11.978Z"
   },
   {
    "duration": 80,
    "start_time": "2022-02-15T20:08:38.836Z"
   },
   {
    "duration": 19,
    "start_time": "2022-02-15T20:10:33.960Z"
   },
   {
    "duration": 14,
    "start_time": "2022-02-15T20:11:01.118Z"
   },
   {
    "duration": 256,
    "start_time": "2022-02-15T20:11:13.733Z"
   },
   {
    "duration": 18,
    "start_time": "2022-02-15T20:11:19.981Z"
   },
   {
    "duration": 34,
    "start_time": "2022-02-15T20:11:50.576Z"
   },
   {
    "duration": 7,
    "start_time": "2022-02-15T20:19:11.420Z"
   },
   {
    "duration": 8,
    "start_time": "2022-02-15T20:19:24.248Z"
   },
   {
    "duration": 15,
    "start_time": "2022-02-15T20:20:19.678Z"
   },
   {
    "duration": 105,
    "start_time": "2022-02-15T20:23:16.791Z"
   },
   {
    "duration": 53,
    "start_time": "2022-02-15T20:23:33.873Z"
   },
   {
    "duration": 45,
    "start_time": "2022-02-15T20:23:59.982Z"
   },
   {
    "duration": 49,
    "start_time": "2022-02-15T20:27:53.025Z"
   },
   {
    "duration": 34,
    "start_time": "2022-02-15T20:31:22.729Z"
   },
   {
    "duration": 54,
    "start_time": "2022-02-15T20:31:39.840Z"
   },
   {
    "duration": 46,
    "start_time": "2022-02-15T20:32:44.840Z"
   },
   {
    "duration": 13,
    "start_time": "2022-02-15T20:34:52.372Z"
   },
   {
    "duration": 49,
    "start_time": "2022-02-15T20:35:10.372Z"
   },
   {
    "duration": 17,
    "start_time": "2022-02-15T20:37:12.053Z"
   },
   {
    "duration": 7,
    "start_time": "2022-02-15T20:37:43.890Z"
   },
   {
    "duration": 19,
    "start_time": "2022-02-15T20:39:20.200Z"
   },
   {
    "duration": 255,
    "start_time": "2022-02-15T20:39:29.789Z"
   },
   {
    "duration": 34,
    "start_time": "2022-02-15T20:39:39.035Z"
   },
   {
    "duration": 30,
    "start_time": "2022-02-15T20:41:37.600Z"
   },
   {
    "duration": 36,
    "start_time": "2022-02-15T20:42:02.098Z"
   },
   {
    "duration": 300,
    "start_time": "2022-02-15T20:42:33.185Z"
   },
   {
    "duration": 30,
    "start_time": "2022-02-15T20:42:47.684Z"
   },
   {
    "duration": 16,
    "start_time": "2022-02-15T20:43:04.293Z"
   },
   {
    "duration": 363,
    "start_time": "2022-02-16T16:09:49.523Z"
   },
   {
    "duration": 299,
    "start_time": "2022-02-16T16:09:54.265Z"
   },
   {
    "duration": 614,
    "start_time": "2022-02-16T16:10:00.627Z"
   },
   {
    "duration": 175,
    "start_time": "2022-02-16T16:10:01.243Z"
   },
   {
    "duration": 20,
    "start_time": "2022-02-16T16:10:01.421Z"
   },
   {
    "duration": 139,
    "start_time": "2022-02-16T16:10:01.443Z"
   },
   {
    "duration": 7,
    "start_time": "2022-02-16T16:10:01.584Z"
   },
   {
    "duration": 14,
    "start_time": "2022-02-16T16:10:01.592Z"
   },
   {
    "duration": 31,
    "start_time": "2022-02-16T16:10:01.608Z"
   },
   {
    "duration": 101,
    "start_time": "2022-02-16T16:10:01.641Z"
   },
   {
    "duration": 20,
    "start_time": "2022-02-16T16:10:01.745Z"
   },
   {
    "duration": 62,
    "start_time": "2022-02-16T16:10:01.767Z"
   },
   {
    "duration": 5,
    "start_time": "2022-02-16T16:10:01.831Z"
   },
   {
    "duration": 6,
    "start_time": "2022-02-16T16:10:01.838Z"
   },
   {
    "duration": 7,
    "start_time": "2022-02-16T16:10:01.845Z"
   },
   {
    "duration": 30,
    "start_time": "2022-02-16T16:10:01.854Z"
   },
   {
    "duration": 7,
    "start_time": "2022-02-16T16:10:01.885Z"
   },
   {
    "duration": 55,
    "start_time": "2022-02-16T16:10:01.893Z"
   },
   {
    "duration": 19,
    "start_time": "2022-02-16T16:10:01.949Z"
   },
   {
    "duration": 18,
    "start_time": "2022-02-16T16:10:01.970Z"
   },
   {
    "duration": 49,
    "start_time": "2022-02-16T16:10:01.989Z"
   },
   {
    "duration": 7,
    "start_time": "2022-02-16T16:10:02.040Z"
   },
   {
    "duration": 58,
    "start_time": "2022-02-16T16:10:02.048Z"
   },
   {
    "duration": 59,
    "start_time": "2022-02-16T16:10:02.108Z"
   },
   {
    "duration": 3,
    "start_time": "2022-02-16T16:10:02.168Z"
   },
   {
    "duration": 35,
    "start_time": "2022-02-16T16:10:02.172Z"
   },
   {
    "duration": 44,
    "start_time": "2022-02-16T16:10:02.209Z"
   },
   {
    "duration": 40,
    "start_time": "2022-02-16T16:10:02.255Z"
   },
   {
    "duration": 56,
    "start_time": "2022-02-16T16:10:02.299Z"
   },
   {
    "duration": 15,
    "start_time": "2022-02-16T16:10:02.357Z"
   },
   {
    "duration": 72,
    "start_time": "2022-02-16T16:10:02.374Z"
   },
   {
    "duration": 64,
    "start_time": "2022-02-16T16:10:02.448Z"
   },
   {
    "duration": 81,
    "start_time": "2022-02-16T16:10:02.513Z"
   },
   {
    "duration": 93,
    "start_time": "2022-02-16T16:10:02.596Z"
   },
   {
    "duration": 44,
    "start_time": "2022-02-16T16:10:02.691Z"
   },
   {
    "duration": 49,
    "start_time": "2022-02-16T16:10:02.736Z"
   },
   {
    "duration": 2,
    "start_time": "2022-02-16T16:10:02.787Z"
   },
   {
    "duration": 19,
    "start_time": "2022-02-16T16:10:02.791Z"
   },
   {
    "duration": 404,
    "start_time": "2022-02-16T16:10:02.832Z"
   },
   {
    "duration": 1887,
    "start_time": "2022-02-16T16:10:01.351Z"
   },
   {
    "duration": 14,
    "start_time": "2022-02-16T16:17:08.811Z"
   },
   {
    "duration": 6,
    "start_time": "2022-02-16T16:18:14.657Z"
   },
   {
    "duration": 370,
    "start_time": "2022-02-16T16:18:23.329Z"
   },
   {
    "duration": 15,
    "start_time": "2022-02-16T16:18:35.036Z"
   },
   {
    "duration": 9,
    "start_time": "2022-02-16T16:19:06.446Z"
   },
   {
    "duration": 7,
    "start_time": "2022-02-16T16:19:15.468Z"
   },
   {
    "duration": 5,
    "start_time": "2022-02-16T16:19:40.513Z"
   },
   {
    "duration": 17346,
    "start_time": "2022-02-16T16:19:59.890Z"
   },
   {
    "duration": 6,
    "start_time": "2022-02-16T16:20:24.190Z"
   },
   {
    "duration": 318,
    "start_time": "2022-02-16T16:20:55.916Z"
   },
   {
    "duration": 6,
    "start_time": "2022-02-16T16:21:48.539Z"
   },
   {
    "duration": 5,
    "start_time": "2022-02-16T16:21:54.171Z"
   },
   {
    "duration": 6,
    "start_time": "2022-02-16T16:22:02.525Z"
   },
   {
    "duration": 26,
    "start_time": "2022-02-16T16:25:12.525Z"
   },
   {
    "duration": 325,
    "start_time": "2022-02-16T16:32:06.851Z"
   },
   {
    "duration": 373,
    "start_time": "2022-02-16T16:34:15.096Z"
   },
   {
    "duration": 25,
    "start_time": "2022-02-16T16:34:40.517Z"
   },
   {
    "duration": 8,
    "start_time": "2022-02-16T16:34:47.433Z"
   },
   {
    "duration": 24,
    "start_time": "2022-02-16T16:34:53.963Z"
   },
   {
    "duration": 37,
    "start_time": "2022-02-16T16:39:42.562Z"
   },
   {
    "duration": 304,
    "start_time": "2022-02-16T16:41:59.608Z"
   },
   {
    "duration": 25,
    "start_time": "2022-02-16T16:42:18.041Z"
   },
   {
    "duration": 8262,
    "start_time": "2022-02-16T16:42:45.360Z"
   },
   {
    "duration": 14,
    "start_time": "2022-02-16T16:43:09.995Z"
   },
   {
    "duration": 26,
    "start_time": "2022-02-16T16:43:37.766Z"
   },
   {
    "duration": 26,
    "start_time": "2022-02-16T16:44:13.369Z"
   },
   {
    "duration": 30,
    "start_time": "2022-02-16T16:45:08.902Z"
   },
   {
    "duration": 29,
    "start_time": "2022-02-16T16:45:26.507Z"
   },
   {
    "duration": 28,
    "start_time": "2022-02-16T16:45:55.920Z"
   },
   {
    "duration": 39,
    "start_time": "2022-02-16T16:46:06.066Z"
   },
   {
    "duration": 15,
    "start_time": "2022-02-16T16:50:12.311Z"
   },
   {
    "duration": 15,
    "start_time": "2022-02-16T16:50:25.458Z"
   },
   {
    "duration": 14,
    "start_time": "2022-02-16T16:50:56.261Z"
   },
   {
    "duration": 13,
    "start_time": "2022-02-16T16:51:15.763Z"
   },
   {
    "duration": 14,
    "start_time": "2022-02-16T16:51:51.867Z"
   },
   {
    "duration": 10,
    "start_time": "2022-02-16T16:52:04.253Z"
   },
   {
    "duration": 16,
    "start_time": "2022-02-16T16:52:26.692Z"
   },
   {
    "duration": 14,
    "start_time": "2022-02-16T16:52:45.874Z"
   },
   {
    "duration": 29,
    "start_time": "2022-02-16T16:53:07.640Z"
   },
   {
    "duration": 35,
    "start_time": "2022-02-16T16:53:30.054Z"
   },
   {
    "duration": 580,
    "start_time": "2022-02-16T16:53:41.282Z"
   },
   {
    "duration": 249,
    "start_time": "2022-02-16T16:53:41.864Z"
   },
   {
    "duration": 28,
    "start_time": "2022-02-16T16:53:42.116Z"
   },
   {
    "duration": 183,
    "start_time": "2022-02-16T16:53:42.146Z"
   },
   {
    "duration": 7,
    "start_time": "2022-02-16T16:53:42.330Z"
   },
   {
    "duration": 13,
    "start_time": "2022-02-16T16:53:42.339Z"
   },
   {
    "duration": 10,
    "start_time": "2022-02-16T16:53:42.354Z"
   },
   {
    "duration": 115,
    "start_time": "2022-02-16T16:53:42.365Z"
   },
   {
    "duration": 20,
    "start_time": "2022-02-16T16:53:42.483Z"
   },
   {
    "duration": 38,
    "start_time": "2022-02-16T16:53:42.505Z"
   },
   {
    "duration": 7,
    "start_time": "2022-02-16T16:53:42.544Z"
   },
   {
    "duration": 7,
    "start_time": "2022-02-16T16:53:42.552Z"
   },
   {
    "duration": 5,
    "start_time": "2022-02-16T16:53:42.560Z"
   },
   {
    "duration": 30,
    "start_time": "2022-02-16T16:53:42.566Z"
   },
   {
    "duration": 35,
    "start_time": "2022-02-16T16:53:42.598Z"
   },
   {
    "duration": 19,
    "start_time": "2022-02-16T16:53:42.635Z"
   },
   {
    "duration": 20,
    "start_time": "2022-02-16T16:53:42.655Z"
   },
   {
    "duration": 16,
    "start_time": "2022-02-16T16:53:42.677Z"
   },
   {
    "duration": 49,
    "start_time": "2022-02-16T16:53:42.694Z"
   },
   {
    "duration": 7,
    "start_time": "2022-02-16T16:53:42.745Z"
   },
   {
    "duration": 55,
    "start_time": "2022-02-16T16:53:42.754Z"
   },
   {
    "duration": 66,
    "start_time": "2022-02-16T16:53:42.811Z"
   },
   {
    "duration": 2,
    "start_time": "2022-02-16T16:53:42.879Z"
   },
   {
    "duration": 35,
    "start_time": "2022-02-16T16:53:42.882Z"
   },
   {
    "duration": 39,
    "start_time": "2022-02-16T16:53:42.919Z"
   },
   {
    "duration": 40,
    "start_time": "2022-02-16T16:53:42.959Z"
   },
   {
    "duration": 49,
    "start_time": "2022-02-16T16:53:43.003Z"
   },
   {
    "duration": 15,
    "start_time": "2022-02-16T16:53:43.054Z"
   },
   {
    "duration": 70,
    "start_time": "2022-02-16T16:53:43.071Z"
   },
   {
    "duration": 62,
    "start_time": "2022-02-16T16:53:43.143Z"
   },
   {
    "duration": 78,
    "start_time": "2022-02-16T16:53:43.207Z"
   },
   {
    "duration": 88,
    "start_time": "2022-02-16T16:53:43.287Z"
   },
   {
    "duration": 41,
    "start_time": "2022-02-16T16:53:43.377Z"
   },
   {
    "duration": 62,
    "start_time": "2022-02-16T16:53:43.420Z"
   },
   {
    "duration": 2,
    "start_time": "2022-02-16T16:53:43.484Z"
   },
   {
    "duration": 45,
    "start_time": "2022-02-16T16:53:43.488Z"
   },
   {
    "duration": 19,
    "start_time": "2022-02-16T16:53:43.534Z"
   },
   {
    "duration": 3,
    "start_time": "2022-02-16T16:53:43.554Z"
   },
   {
    "duration": 22,
    "start_time": "2022-02-16T16:54:10.897Z"
   },
   {
    "duration": 26,
    "start_time": "2022-02-16T16:54:17.959Z"
   },
   {
    "duration": 38,
    "start_time": "2022-02-16T16:54:21.324Z"
   },
   {
    "duration": 590,
    "start_time": "2022-02-16T16:54:26.636Z"
   },
   {
    "duration": 176,
    "start_time": "2022-02-16T16:54:27.228Z"
   },
   {
    "duration": 30,
    "start_time": "2022-02-16T16:54:27.407Z"
   },
   {
    "duration": 145,
    "start_time": "2022-02-16T16:54:27.439Z"
   },
   {
    "duration": 10,
    "start_time": "2022-02-16T16:54:27.585Z"
   },
   {
    "duration": 18,
    "start_time": "2022-02-16T16:54:27.597Z"
   },
   {
    "duration": 23,
    "start_time": "2022-02-16T16:54:27.617Z"
   },
   {
    "duration": 97,
    "start_time": "2022-02-16T16:54:27.642Z"
   },
   {
    "duration": 19,
    "start_time": "2022-02-16T16:54:27.742Z"
   },
   {
    "duration": 35,
    "start_time": "2022-02-16T16:54:27.763Z"
   },
   {
    "duration": 6,
    "start_time": "2022-02-16T16:54:27.800Z"
   },
   {
    "duration": 7,
    "start_time": "2022-02-16T16:54:27.808Z"
   },
   {
    "duration": 7,
    "start_time": "2022-02-16T16:54:27.817Z"
   },
   {
    "duration": 31,
    "start_time": "2022-02-16T16:54:27.831Z"
   },
   {
    "duration": 6,
    "start_time": "2022-02-16T16:54:27.864Z"
   },
   {
    "duration": 17,
    "start_time": "2022-02-16T16:54:27.872Z"
   },
   {
    "duration": 41,
    "start_time": "2022-02-16T16:54:27.891Z"
   },
   {
    "duration": 15,
    "start_time": "2022-02-16T16:54:27.934Z"
   },
   {
    "duration": 25,
    "start_time": "2022-02-16T16:54:27.951Z"
   },
   {
    "duration": 8,
    "start_time": "2022-02-16T16:54:27.978Z"
   },
   {
    "duration": 85,
    "start_time": "2022-02-16T16:54:27.988Z"
   },
   {
    "duration": 60,
    "start_time": "2022-02-16T16:54:28.075Z"
   },
   {
    "duration": 2,
    "start_time": "2022-02-16T16:54:28.136Z"
   },
   {
    "duration": 38,
    "start_time": "2022-02-16T16:54:28.140Z"
   },
   {
    "duration": 53,
    "start_time": "2022-02-16T16:54:28.180Z"
   },
   {
    "duration": 42,
    "start_time": "2022-02-16T16:54:28.235Z"
   },
   {
    "duration": 34,
    "start_time": "2022-02-16T16:54:28.280Z"
   },
   {
    "duration": 28,
    "start_time": "2022-02-16T16:54:28.316Z"
   },
   {
    "duration": 56,
    "start_time": "2022-02-16T16:54:28.346Z"
   },
   {
    "duration": 82,
    "start_time": "2022-02-16T16:54:28.403Z"
   },
   {
    "duration": 77,
    "start_time": "2022-02-16T16:54:28.486Z"
   },
   {
    "duration": 95,
    "start_time": "2022-02-16T16:54:28.565Z"
   },
   {
    "duration": 43,
    "start_time": "2022-02-16T16:54:28.662Z"
   },
   {
    "duration": 65,
    "start_time": "2022-02-16T16:54:28.707Z"
   },
   {
    "duration": 2,
    "start_time": "2022-02-16T16:54:28.774Z"
   },
   {
    "duration": 27,
    "start_time": "2022-02-16T16:54:28.778Z"
   },
   {
    "duration": 39,
    "start_time": "2022-02-16T16:54:28.807Z"
   },
   {
    "duration": 3,
    "start_time": "2022-02-16T16:54:28.848Z"
   },
   {
    "duration": 18,
    "start_time": "2022-02-16T17:00:05.268Z"
   },
   {
    "duration": 27,
    "start_time": "2022-02-16T17:00:11.133Z"
   },
   {
    "duration": 19,
    "start_time": "2022-02-16T17:00:19.024Z"
   },
   {
    "duration": 120,
    "start_time": "2022-02-16T17:04:23.088Z"
   },
   {
    "duration": 94,
    "start_time": "2022-02-16T17:04:59.436Z"
   },
   {
    "duration": 116,
    "start_time": "2022-02-16T17:06:05.505Z"
   },
   {
    "duration": 114,
    "start_time": "2022-02-16T17:07:19.211Z"
   },
   {
    "duration": 164,
    "start_time": "2022-02-16T17:07:58.113Z"
   },
   {
    "duration": 4,
    "start_time": "2022-02-16T17:09:50.638Z"
   },
   {
    "duration": 21,
    "start_time": "2022-02-16T17:10:02.362Z"
   },
   {
    "duration": 17,
    "start_time": "2022-02-16T17:10:11.167Z"
   },
   {
    "duration": 3,
    "start_time": "2022-02-16T17:10:16.479Z"
   },
   {
    "duration": 2,
    "start_time": "2022-02-16T17:15:30.718Z"
   },
   {
    "duration": 27,
    "start_time": "2022-02-16T17:15:34.447Z"
   },
   {
    "duration": 648,
    "start_time": "2022-02-16T17:15:37.924Z"
   },
   {
    "duration": 609,
    "start_time": "2022-02-16T17:16:54.526Z"
   },
   {
    "duration": 175,
    "start_time": "2022-02-16T17:16:55.137Z"
   },
   {
    "duration": 23,
    "start_time": "2022-02-16T17:16:55.314Z"
   },
   {
    "duration": 138,
    "start_time": "2022-02-16T17:16:55.339Z"
   },
   {
    "duration": 9,
    "start_time": "2022-02-16T17:16:55.478Z"
   },
   {
    "duration": 24,
    "start_time": "2022-02-16T17:16:55.489Z"
   },
   {
    "duration": 19,
    "start_time": "2022-02-16T17:16:55.515Z"
   },
   {
    "duration": 103,
    "start_time": "2022-02-16T17:16:55.536Z"
   },
   {
    "duration": 20,
    "start_time": "2022-02-16T17:16:55.641Z"
   },
   {
    "duration": 42,
    "start_time": "2022-02-16T17:16:55.663Z"
   },
   {
    "duration": 6,
    "start_time": "2022-02-16T17:16:55.707Z"
   },
   {
    "duration": 19,
    "start_time": "2022-02-16T17:16:55.715Z"
   },
   {
    "duration": 23,
    "start_time": "2022-02-16T17:16:55.735Z"
   },
   {
    "duration": 48,
    "start_time": "2022-02-16T17:16:55.760Z"
   },
   {
    "duration": 7,
    "start_time": "2022-02-16T17:16:55.810Z"
   },
   {
    "duration": 18,
    "start_time": "2022-02-16T17:16:55.819Z"
   },
   {
    "duration": 19,
    "start_time": "2022-02-16T17:16:55.839Z"
   },
   {
    "duration": 16,
    "start_time": "2022-02-16T17:16:55.860Z"
   },
   {
    "duration": 23,
    "start_time": "2022-02-16T17:16:55.878Z"
   },
   {
    "duration": 33,
    "start_time": "2022-02-16T17:16:55.903Z"
   },
   {
    "duration": 59,
    "start_time": "2022-02-16T17:16:55.938Z"
   },
   {
    "duration": 73,
    "start_time": "2022-02-16T17:16:55.999Z"
   },
   {
    "duration": 2,
    "start_time": "2022-02-16T17:16:56.075Z"
   },
   {
    "duration": 39,
    "start_time": "2022-02-16T17:16:56.079Z"
   },
   {
    "duration": 37,
    "start_time": "2022-02-16T17:16:56.131Z"
   },
   {
    "duration": 46,
    "start_time": "2022-02-16T17:16:56.169Z"
   },
   {
    "duration": 60,
    "start_time": "2022-02-16T17:16:56.217Z"
   },
   {
    "duration": 20,
    "start_time": "2022-02-16T17:16:56.279Z"
   },
   {
    "duration": 95,
    "start_time": "2022-02-16T17:16:56.301Z"
   },
   {
    "duration": 80,
    "start_time": "2022-02-16T17:16:56.398Z"
   },
   {
    "duration": 82,
    "start_time": "2022-02-16T17:16:56.479Z"
   },
   {
    "duration": 99,
    "start_time": "2022-02-16T17:16:56.563Z"
   },
   {
    "duration": 43,
    "start_time": "2022-02-16T17:16:56.664Z"
   },
   {
    "duration": 70,
    "start_time": "2022-02-16T17:16:56.709Z"
   },
   {
    "duration": 2,
    "start_time": "2022-02-16T17:16:56.780Z"
   },
   {
    "duration": 25,
    "start_time": "2022-02-16T17:16:56.784Z"
   },
   {
    "duration": 29,
    "start_time": "2022-02-16T17:16:56.810Z"
   },
   {
    "duration": 2,
    "start_time": "2022-02-16T17:16:56.841Z"
   },
   {
    "duration": 101,
    "start_time": "2022-02-16T17:16:56.845Z"
   },
   {
    "duration": 93,
    "start_time": "2022-02-16T17:17:11.095Z"
   },
   {
    "duration": 82,
    "start_time": "2022-02-16T17:17:52.298Z"
   },
   {
    "duration": 479,
    "start_time": "2022-02-16T17:20:44.715Z"
   },
   {
    "duration": 317,
    "start_time": "2022-02-16T17:23:42.770Z"
   },
   {
    "duration": 5,
    "start_time": "2022-02-16T17:23:48.771Z"
   },
   {
    "duration": 6,
    "start_time": "2022-02-16T17:23:54.309Z"
   },
   {
    "duration": 38,
    "start_time": "2022-02-16T17:24:03.697Z"
   },
   {
    "duration": 105,
    "start_time": "2022-02-16T17:26:39.880Z"
   },
   {
    "duration": 7539,
    "start_time": "2022-02-16T17:26:58.019Z"
   },
   {
    "duration": 25,
    "start_time": "2022-02-16T17:27:30.315Z"
   },
   {
    "duration": 76,
    "start_time": "2022-02-16T17:28:38.870Z"
   },
   {
    "duration": 80,
    "start_time": "2022-02-16T17:31:10.023Z"
   },
   {
    "duration": 75,
    "start_time": "2022-02-16T17:44:35.544Z"
   },
   {
    "duration": 3,
    "start_time": "2022-02-16T17:47:03.299Z"
   },
   {
    "duration": 21,
    "start_time": "2022-02-16T17:47:10.702Z"
   },
   {
    "duration": 18,
    "start_time": "2022-02-16T17:48:09.459Z"
   },
   {
    "duration": 74,
    "start_time": "2022-02-16T17:48:12.891Z"
   },
   {
    "duration": 80,
    "start_time": "2022-02-16T17:48:14.740Z"
   },
   {
    "duration": 72,
    "start_time": "2022-02-16T17:48:16.728Z"
   },
   {
    "duration": 18,
    "start_time": "2022-02-16T17:48:20.349Z"
   },
   {
    "duration": 17,
    "start_time": "2022-02-16T17:48:48.058Z"
   },
   {
    "duration": 102,
    "start_time": "2022-02-16T17:49:57.132Z"
   },
   {
    "duration": 90,
    "start_time": "2022-02-16T17:51:37.299Z"
   },
   {
    "duration": 19,
    "start_time": "2022-02-16T17:51:56.915Z"
   },
   {
    "duration": 5,
    "start_time": "2022-02-16T17:55:11.306Z"
   },
   {
    "duration": 18,
    "start_time": "2022-02-16T17:55:18.286Z"
   },
   {
    "duration": 322,
    "start_time": "2022-02-16T18:50:42.894Z"
   },
   {
    "duration": 10,
    "start_time": "2022-02-16T18:50:56.375Z"
   },
   {
    "duration": 342,
    "start_time": "2022-02-16T18:51:12.033Z"
   },
   {
    "duration": 16,
    "start_time": "2022-02-16T18:51:19.972Z"
   },
   {
    "duration": 15,
    "start_time": "2022-02-16T18:54:28.656Z"
   },
   {
    "duration": 5,
    "start_time": "2022-02-16T18:55:31.611Z"
   },
   {
    "duration": 5,
    "start_time": "2022-02-16T18:55:43.416Z"
   },
   {
    "duration": 22,
    "start_time": "2022-02-16T18:56:45.394Z"
   },
   {
    "duration": 4,
    "start_time": "2022-02-16T18:57:05.008Z"
   },
   {
    "duration": 10,
    "start_time": "2022-02-16T18:57:19.142Z"
   },
   {
    "duration": 3,
    "start_time": "2022-02-16T18:57:26.490Z"
   },
   {
    "duration": 5,
    "start_time": "2022-02-16T19:00:42.076Z"
   },
   {
    "duration": 6,
    "start_time": "2022-02-16T19:01:25.038Z"
   },
   {
    "duration": 6,
    "start_time": "2022-02-16T19:04:19.503Z"
   },
   {
    "duration": 6,
    "start_time": "2022-02-16T19:04:45.581Z"
   },
   {
    "duration": 6,
    "start_time": "2022-02-16T19:04:59.024Z"
   },
   {
    "duration": 12,
    "start_time": "2022-02-16T19:11:41.970Z"
   },
   {
    "duration": 311,
    "start_time": "2022-02-16T19:12:06.681Z"
   },
   {
    "duration": 286,
    "start_time": "2022-02-16T19:12:15.906Z"
   },
   {
    "duration": 315,
    "start_time": "2022-02-16T19:13:19.951Z"
   },
   {
    "duration": 23,
    "start_time": "2022-02-16T19:13:40.976Z"
   },
   {
    "duration": 95,
    "start_time": "2022-02-16T19:15:02.849Z"
   },
   {
    "duration": 99,
    "start_time": "2022-02-16T19:15:16.106Z"
   },
   {
    "duration": 221,
    "start_time": "2022-02-16T19:21:42.625Z"
   },
   {
    "duration": 158,
    "start_time": "2022-02-16T19:22:45.155Z"
   },
   {
    "duration": 158,
    "start_time": "2022-02-16T19:23:18.490Z"
   },
   {
    "duration": 4,
    "start_time": "2022-02-16T19:24:47.231Z"
   },
   {
    "duration": 4,
    "start_time": "2022-02-16T19:24:54.719Z"
   },
   {
    "duration": 5,
    "start_time": "2022-02-16T19:25:23.798Z"
   },
   {
    "duration": 5,
    "start_time": "2022-02-16T19:25:42.605Z"
   },
   {
    "duration": 5,
    "start_time": "2022-02-16T19:31:21.181Z"
   },
   {
    "duration": 5,
    "start_time": "2022-02-16T19:32:12.004Z"
   },
   {
    "duration": 4,
    "start_time": "2022-02-16T19:32:19.528Z"
   },
   {
    "duration": 5,
    "start_time": "2022-02-16T19:32:25.400Z"
   },
   {
    "duration": 5,
    "start_time": "2022-02-16T19:33:08.685Z"
   },
   {
    "duration": 4,
    "start_time": "2022-02-16T19:33:18.153Z"
   },
   {
    "duration": 5,
    "start_time": "2022-02-16T19:33:22.195Z"
   },
   {
    "duration": 5,
    "start_time": "2022-02-16T19:33:58.776Z"
   },
   {
    "duration": 5,
    "start_time": "2022-02-16T19:35:48.568Z"
   },
   {
    "duration": 6,
    "start_time": "2022-02-16T19:36:04.789Z"
   },
   {
    "duration": 5,
    "start_time": "2022-02-16T19:39:20.097Z"
   },
   {
    "duration": 19,
    "start_time": "2022-02-16T19:46:26.268Z"
   },
   {
    "duration": 6,
    "start_time": "2022-02-16T19:46:30.920Z"
   },
   {
    "duration": 209,
    "start_time": "2022-02-16T19:46:59.419Z"
   },
   {
    "duration": 181,
    "start_time": "2022-02-16T19:47:05.117Z"
   },
   {
    "duration": 189,
    "start_time": "2022-02-16T19:47:08.627Z"
   },
   {
    "duration": 5,
    "start_time": "2022-02-16T19:47:16.692Z"
   },
   {
    "duration": 4,
    "start_time": "2022-02-16T19:49:19.912Z"
   },
   {
    "duration": 313,
    "start_time": "2022-02-16T19:49:44.043Z"
   },
   {
    "duration": 329,
    "start_time": "2022-02-16T19:50:16.368Z"
   },
   {
    "duration": 4,
    "start_time": "2022-02-16T19:52:14.770Z"
   },
   {
    "duration": 5,
    "start_time": "2022-02-16T19:53:58.185Z"
   },
   {
    "duration": 11,
    "start_time": "2022-02-16T19:57:08.028Z"
   },
   {
    "duration": 9,
    "start_time": "2022-02-16T19:57:10.942Z"
   },
   {
    "duration": 6,
    "start_time": "2022-02-16T19:57:24.710Z"
   },
   {
    "duration": 6,
    "start_time": "2022-02-16T19:57:26.549Z"
   },
   {
    "duration": 168,
    "start_time": "2022-02-16T19:59:22.546Z"
   },
   {
    "duration": 200,
    "start_time": "2022-02-16T19:59:53.258Z"
   },
   {
    "duration": 156,
    "start_time": "2022-02-16T20:00:34.621Z"
   },
   {
    "duration": 5,
    "start_time": "2022-02-16T20:01:48.885Z"
   },
   {
    "duration": 5,
    "start_time": "2022-02-16T20:03:51.282Z"
   },
   {
    "duration": 6,
    "start_time": "2022-02-16T20:04:40.159Z"
   },
   {
    "duration": 6,
    "start_time": "2022-02-16T20:04:48.246Z"
   },
   {
    "duration": 1224,
    "start_time": "2022-02-17T15:16:12.049Z"
   },
   {
    "duration": 1252,
    "start_time": "2022-02-17T15:16:17.717Z"
   },
   {
    "duration": 257,
    "start_time": "2022-02-17T15:16:18.973Z"
   },
   {
    "duration": 31,
    "start_time": "2022-02-17T15:16:19.233Z"
   },
   {
    "duration": 220,
    "start_time": "2022-02-17T15:16:19.268Z"
   },
   {
    "duration": 13,
    "start_time": "2022-02-17T15:16:19.491Z"
   },
   {
    "duration": 43,
    "start_time": "2022-02-17T15:16:19.507Z"
   },
   {
    "duration": 15,
    "start_time": "2022-02-17T15:16:19.552Z"
   },
   {
    "duration": 155,
    "start_time": "2022-02-17T15:16:19.571Z"
   },
   {
    "duration": 27,
    "start_time": "2022-02-17T15:16:19.730Z"
   },
   {
    "duration": 39,
    "start_time": "2022-02-17T15:16:19.760Z"
   },
   {
    "duration": 11,
    "start_time": "2022-02-17T15:16:19.801Z"
   },
   {
    "duration": 16,
    "start_time": "2022-02-17T15:16:19.815Z"
   },
   {
    "duration": 10,
    "start_time": "2022-02-17T15:16:19.849Z"
   },
   {
    "duration": 51,
    "start_time": "2022-02-17T15:16:19.862Z"
   },
   {
    "duration": 38,
    "start_time": "2022-02-17T15:16:19.916Z"
   },
   {
    "duration": 28,
    "start_time": "2022-02-17T15:16:19.957Z"
   },
   {
    "duration": 32,
    "start_time": "2022-02-17T15:16:19.989Z"
   },
   {
    "duration": 24,
    "start_time": "2022-02-17T15:16:20.047Z"
   },
   {
    "duration": 37,
    "start_time": "2022-02-17T15:16:20.073Z"
   },
   {
    "duration": 37,
    "start_time": "2022-02-17T15:16:20.113Z"
   },
   {
    "duration": 121,
    "start_time": "2022-02-17T15:16:20.153Z"
   },
   {
    "duration": 99,
    "start_time": "2022-02-17T15:16:20.277Z"
   },
   {
    "duration": 3,
    "start_time": "2022-02-17T15:16:20.379Z"
   },
   {
    "duration": 104,
    "start_time": "2022-02-17T15:16:20.385Z"
   },
   {
    "duration": 81,
    "start_time": "2022-02-17T15:16:20.493Z"
   },
   {
    "duration": 115,
    "start_time": "2022-02-17T15:16:20.584Z"
   },
   {
    "duration": 68,
    "start_time": "2022-02-17T15:16:20.704Z"
   },
   {
    "duration": 33,
    "start_time": "2022-02-17T15:16:20.775Z"
   },
   {
    "duration": 124,
    "start_time": "2022-02-17T15:16:20.810Z"
   },
   {
    "duration": 129,
    "start_time": "2022-02-17T15:16:20.937Z"
   },
   {
    "duration": 139,
    "start_time": "2022-02-17T15:16:21.069Z"
   },
   {
    "duration": 147,
    "start_time": "2022-02-17T15:16:21.210Z"
   },
   {
    "duration": 89,
    "start_time": "2022-02-17T15:16:21.359Z"
   },
   {
    "duration": 86,
    "start_time": "2022-02-17T15:16:21.450Z"
   },
   {
    "duration": 11,
    "start_time": "2022-02-17T15:16:21.539Z"
   },
   {
    "duration": 67,
    "start_time": "2022-02-17T15:16:21.553Z"
   },
   {
    "duration": 45,
    "start_time": "2022-02-17T15:16:21.623Z"
   },
   {
    "duration": 6,
    "start_time": "2022-02-17T15:16:21.671Z"
   },
   {
    "duration": 39,
    "start_time": "2022-02-17T15:16:21.680Z"
   },
   {
    "duration": 179,
    "start_time": "2022-02-17T15:16:21.722Z"
   },
   {
    "duration": 160,
    "start_time": "2022-02-17T15:16:21.904Z"
   },
   {
    "duration": 139,
    "start_time": "2022-02-17T15:16:22.067Z"
   },
   {
    "duration": 42,
    "start_time": "2022-02-17T15:16:22.208Z"
   },
   {
    "duration": 33,
    "start_time": "2022-02-17T15:16:22.252Z"
   },
   {
    "duration": 61,
    "start_time": "2022-02-17T15:16:22.288Z"
   },
   {
    "duration": 10,
    "start_time": "2022-02-17T15:16:22.351Z"
   },
   {
    "duration": 465,
    "start_time": "2022-02-17T15:16:22.364Z"
   },
   {
    "duration": 322,
    "start_time": "2022-02-17T15:16:22.831Z"
   },
   {
    "duration": 316,
    "start_time": "2022-02-17T15:16:23.156Z"
   },
   {
    "duration": 7,
    "start_time": "2022-02-17T15:16:23.474Z"
   },
   {
    "duration": 7,
    "start_time": "2022-02-17T15:16:23.483Z"
   },
   {
    "duration": 14,
    "start_time": "2022-02-17T15:16:23.492Z"
   },
   {
    "duration": 41,
    "start_time": "2022-02-17T15:16:23.509Z"
   },
   {
    "duration": 313,
    "start_time": "2022-02-17T15:16:23.553Z"
   },
   {
    "duration": 326,
    "start_time": "2022-02-17T15:16:23.869Z"
   },
   {
    "duration": 298,
    "start_time": "2022-02-17T15:16:24.198Z"
   },
   {
    "duration": 8,
    "start_time": "2022-02-17T15:16:24.499Z"
   },
   {
    "duration": 9,
    "start_time": "2022-02-17T15:16:24.509Z"
   },
   {
    "duration": 7,
    "start_time": "2022-02-17T15:23:24.124Z"
   },
   {
    "duration": 38,
    "start_time": "2022-02-17T15:28:10.206Z"
   },
   {
    "duration": 15,
    "start_time": "2022-02-17T15:28:14.394Z"
   },
   {
    "duration": 448,
    "start_time": "2022-02-17T15:28:18.446Z"
   },
   {
    "duration": 306,
    "start_time": "2022-02-17T15:28:26.233Z"
   },
   {
    "duration": 397,
    "start_time": "2022-02-17T15:28:29.726Z"
   },
   {
    "duration": 6,
    "start_time": "2022-02-17T15:28:44.691Z"
   },
   {
    "duration": 9,
    "start_time": "2022-02-17T15:28:48.871Z"
   },
   {
    "duration": 9,
    "start_time": "2022-02-17T15:29:08.565Z"
   },
   {
    "duration": 9,
    "start_time": "2022-02-17T15:29:11.069Z"
   },
   {
    "duration": 441,
    "start_time": "2022-02-17T15:29:17.008Z"
   },
   {
    "duration": 306,
    "start_time": "2022-02-17T15:29:20.015Z"
   },
   {
    "duration": 285,
    "start_time": "2022-02-17T15:29:22.620Z"
   },
   {
    "duration": 8,
    "start_time": "2022-02-17T15:29:25.546Z"
   },
   {
    "duration": 7,
    "start_time": "2022-02-17T15:29:28.519Z"
   },
   {
    "duration": 8,
    "start_time": "2022-02-17T15:29:31.476Z"
   },
   {
    "duration": 8,
    "start_time": "2022-02-17T15:29:50.972Z"
   },
   {
    "duration": 8,
    "start_time": "2022-02-17T15:29:54.858Z"
   },
   {
    "duration": 8,
    "start_time": "2022-02-17T15:31:25.148Z"
   },
   {
    "duration": 433,
    "start_time": "2022-02-17T17:17:24.286Z"
   },
   {
    "duration": 322,
    "start_time": "2022-02-17T17:17:32.270Z"
   },
   {
    "duration": 6,
    "start_time": "2022-02-17T17:17:36.865Z"
   },
   {
    "duration": 28,
    "start_time": "2022-02-17T17:17:43.346Z"
   },
   {
    "duration": 31,
    "start_time": "2022-02-17T17:18:16.632Z"
   },
   {
    "duration": 13,
    "start_time": "2022-02-17T17:19:36.888Z"
   },
   {
    "duration": 8,
    "start_time": "2022-02-17T17:19:56.085Z"
   },
   {
    "duration": 10,
    "start_time": "2022-02-17T17:20:19.975Z"
   },
   {
    "duration": 17,
    "start_time": "2022-02-17T17:20:33.360Z"
   },
   {
    "duration": 8,
    "start_time": "2022-02-17T17:21:28.539Z"
   },
   {
    "duration": 29,
    "start_time": "2022-02-17T17:21:38.794Z"
   },
   {
    "duration": 11,
    "start_time": "2022-02-17T17:21:55.137Z"
   },
   {
    "duration": 30,
    "start_time": "2022-02-17T17:22:06.608Z"
   },
   {
    "duration": 19,
    "start_time": "2022-02-17T17:22:38.186Z"
   },
   {
    "duration": 17,
    "start_time": "2022-02-17T17:22:42.535Z"
   },
   {
    "duration": 26,
    "start_time": "2022-02-17T17:22:55.694Z"
   },
   {
    "duration": 18,
    "start_time": "2022-02-17T17:24:19.343Z"
   },
   {
    "duration": 1256,
    "start_time": "2022-02-17T17:24:27.308Z"
   },
   {
    "duration": 260,
    "start_time": "2022-02-17T17:24:28.568Z"
   },
   {
    "duration": 39,
    "start_time": "2022-02-17T17:24:28.832Z"
   },
   {
    "duration": 226,
    "start_time": "2022-02-17T17:24:28.875Z"
   },
   {
    "duration": 15,
    "start_time": "2022-02-17T17:24:29.104Z"
   },
   {
    "duration": 42,
    "start_time": "2022-02-17T17:24:29.122Z"
   },
   {
    "duration": 14,
    "start_time": "2022-02-17T17:24:29.167Z"
   },
   {
    "duration": 153,
    "start_time": "2022-02-17T17:24:29.185Z"
   },
   {
    "duration": 21,
    "start_time": "2022-02-17T17:24:29.341Z"
   },
   {
    "duration": 53,
    "start_time": "2022-02-17T17:24:29.365Z"
   },
   {
    "duration": 11,
    "start_time": "2022-02-17T17:24:29.420Z"
   },
   {
    "duration": 25,
    "start_time": "2022-02-17T17:24:29.434Z"
   },
   {
    "duration": 33,
    "start_time": "2022-02-17T17:24:29.462Z"
   },
   {
    "duration": 55,
    "start_time": "2022-02-17T17:24:29.498Z"
   },
   {
    "duration": 10,
    "start_time": "2022-02-17T17:24:29.555Z"
   },
   {
    "duration": 35,
    "start_time": "2022-02-17T17:24:29.567Z"
   },
   {
    "duration": 51,
    "start_time": "2022-02-17T17:24:29.604Z"
   },
   {
    "duration": 25,
    "start_time": "2022-02-17T17:24:29.658Z"
   },
   {
    "duration": 39,
    "start_time": "2022-02-17T17:24:29.685Z"
   },
   {
    "duration": 12,
    "start_time": "2022-02-17T17:24:29.749Z"
   },
   {
    "duration": 116,
    "start_time": "2022-02-17T17:24:29.764Z"
   },
   {
    "duration": 101,
    "start_time": "2022-02-17T17:24:29.883Z"
   },
   {
    "duration": 3,
    "start_time": "2022-02-17T17:24:29.990Z"
   },
   {
    "duration": 86,
    "start_time": "2022-02-17T17:24:29.998Z"
   },
   {
    "duration": 67,
    "start_time": "2022-02-17T17:24:30.087Z"
   },
   {
    "duration": 69,
    "start_time": "2022-02-17T17:24:30.158Z"
   },
   {
    "duration": 77,
    "start_time": "2022-02-17T17:24:30.230Z"
   },
   {
    "duration": 44,
    "start_time": "2022-02-17T17:24:30.309Z"
   },
   {
    "duration": 118,
    "start_time": "2022-02-17T17:24:30.355Z"
   },
   {
    "duration": 129,
    "start_time": "2022-02-17T17:24:30.476Z"
   },
   {
    "duration": 139,
    "start_time": "2022-02-17T17:24:30.608Z"
   },
   {
    "duration": 150,
    "start_time": "2022-02-17T17:24:30.749Z"
   },
   {
    "duration": 91,
    "start_time": "2022-02-17T17:24:30.901Z"
   },
   {
    "duration": 104,
    "start_time": "2022-02-17T17:24:30.995Z"
   },
   {
    "duration": 4,
    "start_time": "2022-02-17T17:24:31.102Z"
   },
   {
    "duration": 63,
    "start_time": "2022-02-17T17:24:31.109Z"
   },
   {
    "duration": 33,
    "start_time": "2022-02-17T17:24:31.175Z"
   },
   {
    "duration": 7,
    "start_time": "2022-02-17T17:24:31.211Z"
   },
   {
    "duration": 31,
    "start_time": "2022-02-17T17:24:31.249Z"
   },
   {
    "duration": 165,
    "start_time": "2022-02-17T17:24:31.283Z"
   },
   {
    "duration": 160,
    "start_time": "2022-02-17T17:24:31.451Z"
   },
   {
    "duration": 145,
    "start_time": "2022-02-17T17:24:31.614Z"
   },
   {
    "duration": 33,
    "start_time": "2022-02-17T17:24:31.762Z"
   },
   {
    "duration": 55,
    "start_time": "2022-02-17T17:24:31.798Z"
   },
   {
    "duration": 55,
    "start_time": "2022-02-17T17:24:31.856Z"
   },
   {
    "duration": 21,
    "start_time": "2022-02-17T17:24:31.914Z"
   },
   {
    "duration": 475,
    "start_time": "2022-02-17T17:24:31.938Z"
   },
   {
    "duration": 338,
    "start_time": "2022-02-17T17:24:32.416Z"
   },
   {
    "duration": 334,
    "start_time": "2022-02-17T17:24:32.757Z"
   },
   {
    "duration": 7,
    "start_time": "2022-02-17T17:24:33.094Z"
   },
   {
    "duration": 11,
    "start_time": "2022-02-17T17:24:33.104Z"
   },
   {
    "duration": 32,
    "start_time": "2022-02-17T17:24:33.118Z"
   },
   {
    "duration": 15,
    "start_time": "2022-02-17T17:24:33.153Z"
   },
   {
    "duration": 340,
    "start_time": "2022-02-17T17:24:33.170Z"
   },
   {
    "duration": 354,
    "start_time": "2022-02-17T17:24:33.513Z"
   },
   {
    "duration": 325,
    "start_time": "2022-02-17T17:24:33.870Z"
   },
   {
    "duration": 7,
    "start_time": "2022-02-17T17:24:34.197Z"
   },
   {
    "duration": 10,
    "start_time": "2022-02-17T17:24:34.206Z"
   },
   {
    "duration": 33,
    "start_time": "2022-02-17T17:24:34.218Z"
   },
   {
    "duration": 30,
    "start_time": "2022-02-17T17:24:34.254Z"
   },
   {
    "duration": 18,
    "start_time": "2022-02-17T17:24:34.287Z"
   },
   {
    "duration": 46,
    "start_time": "2022-02-17T17:24:34.309Z"
   },
   {
    "duration": 412,
    "start_time": "2022-02-17T17:36:27.145Z"
   },
   {
    "duration": 12,
    "start_time": "2022-02-17T17:36:43.592Z"
   },
   {
    "duration": 29,
    "start_time": "2022-02-17T17:37:04.613Z"
   },
   {
    "duration": 8,
    "start_time": "2022-02-17T17:37:20.683Z"
   },
   {
    "duration": 6,
    "start_time": "2022-02-17T17:37:27.828Z"
   },
   {
    "duration": 6,
    "start_time": "2022-02-17T17:37:33.283Z"
   },
   {
    "duration": 7,
    "start_time": "2022-02-17T17:37:41.786Z"
   },
   {
    "duration": 8,
    "start_time": "2022-02-17T17:37:46.823Z"
   },
   {
    "duration": 8,
    "start_time": "2022-02-17T17:38:49.140Z"
   },
   {
    "duration": 7,
    "start_time": "2022-02-17T17:38:55.656Z"
   },
   {
    "duration": 6,
    "start_time": "2022-02-17T17:39:45.765Z"
   },
   {
    "duration": 25,
    "start_time": "2022-02-17T17:40:01.803Z"
   },
   {
    "duration": 11,
    "start_time": "2022-02-17T17:40:26.685Z"
   },
   {
    "duration": 10,
    "start_time": "2022-02-17T17:40:59.234Z"
   },
   {
    "duration": 6,
    "start_time": "2022-02-17T17:41:15.590Z"
   },
   {
    "duration": 29,
    "start_time": "2022-02-17T17:41:27.524Z"
   },
   {
    "duration": 29,
    "start_time": "2022-02-17T17:42:17.393Z"
   },
   {
    "duration": 6,
    "start_time": "2022-02-17T17:42:34.952Z"
   },
   {
    "duration": 35,
    "start_time": "2022-02-17T17:43:30.131Z"
   },
   {
    "duration": 52,
    "start_time": "2022-02-17T17:44:17.622Z"
   },
   {
    "duration": 36,
    "start_time": "2022-02-17T17:44:58.891Z"
   },
   {
    "duration": 51,
    "start_time": "2022-02-17T17:45:11.988Z"
   },
   {
    "duration": 289,
    "start_time": "2022-02-17T17:47:07.951Z"
   },
   {
    "duration": 9,
    "start_time": "2022-02-17T17:47:38.401Z"
   },
   {
    "duration": 34,
    "start_time": "2022-02-17T17:49:17.507Z"
   },
   {
    "duration": 314,
    "start_time": "2022-02-17T17:53:11.189Z"
   },
   {
    "duration": 310,
    "start_time": "2022-02-17T17:53:29.074Z"
   },
   {
    "duration": 39,
    "start_time": "2022-02-17T17:53:47.511Z"
   },
   {
    "duration": 38,
    "start_time": "2022-02-17T17:54:20.083Z"
   },
   {
    "duration": 308,
    "start_time": "2022-02-17T17:54:26.557Z"
   },
   {
    "duration": 40,
    "start_time": "2022-02-17T17:54:30.881Z"
   },
   {
    "duration": 39,
    "start_time": "2022-02-17T17:54:50.566Z"
   },
   {
    "duration": 40,
    "start_time": "2022-02-17T17:55:07.183Z"
   },
   {
    "duration": 351,
    "start_time": "2022-02-17T17:55:23.675Z"
   },
   {
    "duration": 39,
    "start_time": "2022-02-17T17:55:29.985Z"
   },
   {
    "duration": 43,
    "start_time": "2022-02-17T17:55:34.833Z"
   },
   {
    "duration": 46,
    "start_time": "2022-02-17T17:55:53.020Z"
   },
   {
    "duration": 8518,
    "start_time": "2022-02-17T17:56:29.589Z"
   },
   {
    "duration": 1274,
    "start_time": "2022-02-17T17:56:58.468Z"
   },
   {
    "duration": 362,
    "start_time": "2022-02-17T17:56:59.746Z"
   },
   {
    "duration": 49,
    "start_time": "2022-02-17T17:57:00.113Z"
   },
   {
    "duration": 247,
    "start_time": "2022-02-17T17:57:00.166Z"
   },
   {
    "duration": 14,
    "start_time": "2022-02-17T17:57:00.417Z"
   },
   {
    "duration": 24,
    "start_time": "2022-02-17T17:57:00.448Z"
   },
   {
    "duration": 19,
    "start_time": "2022-02-17T17:57:00.475Z"
   },
   {
    "duration": 174,
    "start_time": "2022-02-17T17:57:00.498Z"
   },
   {
    "duration": 24,
    "start_time": "2022-02-17T17:57:00.675Z"
   },
   {
    "duration": 48,
    "start_time": "2022-02-17T17:57:00.702Z"
   },
   {
    "duration": 11,
    "start_time": "2022-02-17T17:57:00.752Z"
   },
   {
    "duration": 17,
    "start_time": "2022-02-17T17:57:00.766Z"
   },
   {
    "duration": 14,
    "start_time": "2022-02-17T17:57:00.787Z"
   },
   {
    "duration": 77,
    "start_time": "2022-02-17T17:57:00.803Z"
   },
   {
    "duration": 10,
    "start_time": "2022-02-17T17:57:00.883Z"
   },
   {
    "duration": 31,
    "start_time": "2022-02-17T17:57:00.895Z"
   },
   {
    "duration": 56,
    "start_time": "2022-02-17T17:57:00.928Z"
   },
   {
    "duration": 22,
    "start_time": "2022-02-17T17:57:00.987Z"
   },
   {
    "duration": 58,
    "start_time": "2022-02-17T17:57:01.011Z"
   },
   {
    "duration": 11,
    "start_time": "2022-02-17T17:57:01.071Z"
   },
   {
    "duration": 114,
    "start_time": "2022-02-17T17:57:01.085Z"
   },
   {
    "duration": 93,
    "start_time": "2022-02-17T17:57:01.201Z"
   },
   {
    "duration": 2,
    "start_time": "2022-02-17T17:57:01.300Z"
   },
   {
    "duration": 74,
    "start_time": "2022-02-17T17:57:01.305Z"
   },
   {
    "duration": 69,
    "start_time": "2022-02-17T17:57:01.382Z"
   },
   {
    "duration": 66,
    "start_time": "2022-02-17T17:57:01.453Z"
   },
   {
    "duration": 72,
    "start_time": "2022-02-17T17:57:01.522Z"
   },
   {
    "duration": 27,
    "start_time": "2022-02-17T17:57:01.596Z"
   },
   {
    "duration": 112,
    "start_time": "2022-02-17T17:57:01.625Z"
   },
   {
    "duration": 115,
    "start_time": "2022-02-17T17:57:01.748Z"
   },
   {
    "duration": 126,
    "start_time": "2022-02-17T17:57:01.866Z"
   },
   {
    "duration": 138,
    "start_time": "2022-02-17T17:57:01.994Z"
   },
   {
    "duration": 87,
    "start_time": "2022-02-17T17:57:02.135Z"
   },
   {
    "duration": 98,
    "start_time": "2022-02-17T17:57:02.225Z"
   },
   {
    "duration": 3,
    "start_time": "2022-02-17T17:57:02.326Z"
   },
   {
    "duration": 60,
    "start_time": "2022-02-17T17:57:02.332Z"
   },
   {
    "duration": 30,
    "start_time": "2022-02-17T17:57:02.394Z"
   },
   {
    "duration": 6,
    "start_time": "2022-02-17T17:57:02.449Z"
   },
   {
    "duration": 34,
    "start_time": "2022-02-17T17:57:02.458Z"
   },
   {
    "duration": 162,
    "start_time": "2022-02-17T17:57:02.494Z"
   },
   {
    "duration": 152,
    "start_time": "2022-02-17T17:57:02.659Z"
   },
   {
    "duration": 135,
    "start_time": "2022-02-17T17:57:02.813Z"
   },
   {
    "duration": 32,
    "start_time": "2022-02-17T17:57:02.950Z"
   },
   {
    "duration": 408,
    "start_time": "2022-02-17T17:57:02.985Z"
   },
   {
    "duration": 756,
    "start_time": "2022-02-17T17:57:02.640Z"
   },
   {
    "duration": 755,
    "start_time": "2022-02-17T17:57:02.643Z"
   },
   {
    "duration": 753,
    "start_time": "2022-02-17T17:57:02.647Z"
   },
   {
    "duration": 750,
    "start_time": "2022-02-17T17:57:02.652Z"
   },
   {
    "duration": 747,
    "start_time": "2022-02-17T17:57:02.656Z"
   },
   {
    "duration": 746,
    "start_time": "2022-02-17T17:57:02.659Z"
   },
   {
    "duration": 737,
    "start_time": "2022-02-17T17:57:02.670Z"
   },
   {
    "duration": 734,
    "start_time": "2022-02-17T17:57:02.675Z"
   },
   {
    "duration": 733,
    "start_time": "2022-02-17T17:57:02.677Z"
   },
   {
    "duration": 732,
    "start_time": "2022-02-17T17:57:02.680Z"
   },
   {
    "duration": 730,
    "start_time": "2022-02-17T17:57:02.683Z"
   },
   {
    "duration": 729,
    "start_time": "2022-02-17T17:57:02.686Z"
   },
   {
    "duration": 729,
    "start_time": "2022-02-17T17:57:02.688Z"
   },
   {
    "duration": 725,
    "start_time": "2022-02-17T17:57:02.693Z"
   },
   {
    "duration": 724,
    "start_time": "2022-02-17T17:57:02.696Z"
   },
   {
    "duration": 722,
    "start_time": "2022-02-17T17:57:02.699Z"
   },
   {
    "duration": 721,
    "start_time": "2022-02-17T17:57:02.702Z"
   },
   {
    "duration": 719,
    "start_time": "2022-02-17T17:57:02.705Z"
   },
   {
    "duration": 9,
    "start_time": "2022-02-17T17:57:24.665Z"
   },
   {
    "duration": 10,
    "start_time": "2022-02-17T17:57:36.393Z"
   },
   {
    "duration": 33,
    "start_time": "2022-02-17T17:57:42.084Z"
   },
   {
    "duration": 33,
    "start_time": "2022-02-17T17:57:55.268Z"
   },
   {
    "duration": 33,
    "start_time": "2022-02-17T18:00:40.228Z"
   },
   {
    "duration": 31,
    "start_time": "2022-02-17T18:09:25.162Z"
   },
   {
    "duration": 9,
    "start_time": "2022-02-17T18:09:28.014Z"
   },
   {
    "duration": 491,
    "start_time": "2022-02-17T18:09:34.604Z"
   },
   {
    "duration": 39,
    "start_time": "2022-02-17T18:09:52.670Z"
   },
   {
    "duration": 9,
    "start_time": "2022-02-17T18:09:55.997Z"
   },
   {
    "duration": 294,
    "start_time": "2022-02-17T18:09:58.838Z"
   },
   {
    "duration": 300,
    "start_time": "2022-02-17T18:10:02.533Z"
   },
   {
    "duration": 321,
    "start_time": "2022-02-17T18:10:05.873Z"
   },
   {
    "duration": 7,
    "start_time": "2022-02-17T18:10:14.489Z"
   },
   {
    "duration": 9,
    "start_time": "2022-02-17T18:10:17.628Z"
   },
   {
    "duration": 9,
    "start_time": "2022-02-17T18:10:20.122Z"
   },
   {
    "duration": 13,
    "start_time": "2022-02-17T18:10:22.949Z"
   },
   {
    "duration": 367,
    "start_time": "2022-02-17T18:10:27.153Z"
   },
   {
    "duration": 304,
    "start_time": "2022-02-17T18:10:31.300Z"
   },
   {
    "duration": 455,
    "start_time": "2022-02-17T18:10:34.189Z"
   },
   {
    "duration": 7,
    "start_time": "2022-02-17T18:10:37.481Z"
   },
   {
    "duration": 8,
    "start_time": "2022-02-17T18:10:39.621Z"
   },
   {
    "duration": 8,
    "start_time": "2022-02-17T18:10:42.907Z"
   },
   {
    "duration": 29,
    "start_time": "2022-02-17T18:10:53.915Z"
   },
   {
    "duration": 17,
    "start_time": "2022-02-17T18:10:56.920Z"
   },
   {
    "duration": 17,
    "start_time": "2022-02-17T18:18:31.097Z"
   },
   {
    "duration": 295,
    "start_time": "2022-02-17T18:19:34.419Z"
   },
   {
    "duration": 1251,
    "start_time": "2022-02-17T18:19:45.604Z"
   },
   {
    "duration": 290,
    "start_time": "2022-02-17T18:19:46.858Z"
   },
   {
    "duration": 26,
    "start_time": "2022-02-17T18:19:47.153Z"
   },
   {
    "duration": 308,
    "start_time": "2022-02-17T18:19:47.183Z"
   },
   {
    "duration": 14,
    "start_time": "2022-02-17T18:19:47.494Z"
   },
   {
    "duration": 40,
    "start_time": "2022-02-17T18:19:47.510Z"
   },
   {
    "duration": 16,
    "start_time": "2022-02-17T18:19:47.552Z"
   },
   {
    "duration": 153,
    "start_time": "2022-02-17T18:19:47.571Z"
   },
   {
    "duration": 27,
    "start_time": "2022-02-17T18:19:47.727Z"
   },
   {
    "duration": 38,
    "start_time": "2022-02-17T18:19:47.756Z"
   },
   {
    "duration": 10,
    "start_time": "2022-02-17T18:19:47.797Z"
   },
   {
    "duration": 39,
    "start_time": "2022-02-17T18:19:47.810Z"
   },
   {
    "duration": 10,
    "start_time": "2022-02-17T18:19:47.852Z"
   },
   {
    "duration": 46,
    "start_time": "2022-02-17T18:19:47.865Z"
   },
   {
    "duration": 38,
    "start_time": "2022-02-17T18:19:47.913Z"
   },
   {
    "duration": 27,
    "start_time": "2022-02-17T18:19:47.953Z"
   },
   {
    "duration": 32,
    "start_time": "2022-02-17T18:19:47.983Z"
   },
   {
    "duration": 48,
    "start_time": "2022-02-17T18:19:48.018Z"
   },
   {
    "duration": 36,
    "start_time": "2022-02-17T18:19:48.068Z"
   },
   {
    "duration": 10,
    "start_time": "2022-02-17T18:19:48.107Z"
   },
   {
    "duration": 113,
    "start_time": "2022-02-17T18:19:48.120Z"
   },
   {
    "duration": 83,
    "start_time": "2022-02-17T18:19:48.248Z"
   },
   {
    "duration": 3,
    "start_time": "2022-02-17T18:19:48.350Z"
   },
   {
    "duration": 57,
    "start_time": "2022-02-17T18:19:48.357Z"
   },
   {
    "duration": 67,
    "start_time": "2022-02-17T18:19:48.417Z"
   },
   {
    "duration": 76,
    "start_time": "2022-02-17T18:19:48.486Z"
   },
   {
    "duration": 61,
    "start_time": "2022-02-17T18:19:48.564Z"
   },
   {
    "duration": 46,
    "start_time": "2022-02-17T18:19:48.629Z"
   },
   {
    "duration": 132,
    "start_time": "2022-02-17T18:19:48.678Z"
   },
   {
    "duration": 152,
    "start_time": "2022-02-17T18:19:48.813Z"
   },
   {
    "duration": 138,
    "start_time": "2022-02-17T18:19:48.967Z"
   },
   {
    "duration": 144,
    "start_time": "2022-02-17T18:19:49.107Z"
   },
   {
    "duration": 77,
    "start_time": "2022-02-17T18:19:49.254Z"
   },
   {
    "duration": 100,
    "start_time": "2022-02-17T18:19:49.350Z"
   },
   {
    "duration": 4,
    "start_time": "2022-02-17T18:19:49.453Z"
   },
   {
    "duration": 52,
    "start_time": "2022-02-17T18:19:49.461Z"
   },
   {
    "duration": 56,
    "start_time": "2022-02-17T18:19:49.515Z"
   },
   {
    "duration": 7,
    "start_time": "2022-02-17T18:19:49.574Z"
   },
   {
    "duration": 34,
    "start_time": "2022-02-17T18:19:49.584Z"
   },
   {
    "duration": 184,
    "start_time": "2022-02-17T18:19:49.620Z"
   },
   {
    "duration": 174,
    "start_time": "2022-02-17T18:19:49.806Z"
   },
   {
    "duration": 155,
    "start_time": "2022-02-17T18:19:49.984Z"
   },
   {
    "duration": 42,
    "start_time": "2022-02-17T18:19:50.143Z"
   },
   {
    "duration": 63,
    "start_time": "2022-02-17T18:19:50.188Z"
   },
   {
    "duration": 37,
    "start_time": "2022-02-17T18:19:50.254Z"
   },
   {
    "duration": 10,
    "start_time": "2022-02-17T18:19:50.294Z"
   },
   {
    "duration": 509,
    "start_time": "2022-02-17T18:19:50.307Z"
   },
   {
    "duration": 353,
    "start_time": "2022-02-17T18:19:50.819Z"
   },
   {
    "duration": 338,
    "start_time": "2022-02-17T18:19:51.175Z"
   },
   {
    "duration": 8,
    "start_time": "2022-02-17T18:19:51.517Z"
   },
   {
    "duration": 27,
    "start_time": "2022-02-17T18:19:51.528Z"
   },
   {
    "duration": 25,
    "start_time": "2022-02-17T18:19:51.558Z"
   },
   {
    "duration": 22,
    "start_time": "2022-02-17T18:19:51.586Z"
   },
   {
    "duration": 340,
    "start_time": "2022-02-17T18:19:51.610Z"
   },
   {
    "duration": 318,
    "start_time": "2022-02-17T18:19:51.952Z"
   },
   {
    "duration": 312,
    "start_time": "2022-02-17T18:19:52.273Z"
   },
   {
    "duration": 8,
    "start_time": "2022-02-17T18:19:52.588Z"
   },
   {
    "duration": 17,
    "start_time": "2022-02-17T18:19:52.598Z"
   },
   {
    "duration": 33,
    "start_time": "2022-02-17T18:19:52.618Z"
   },
   {
    "duration": 39,
    "start_time": "2022-02-17T18:19:52.654Z"
   },
   {
    "duration": 27,
    "start_time": "2022-02-17T18:19:52.696Z"
   },
   {
    "duration": 19,
    "start_time": "2022-02-17T18:36:11.334Z"
   },
   {
    "duration": 7368,
    "start_time": "2022-02-17T18:37:34.634Z"
   },
   {
    "duration": 27,
    "start_time": "2022-02-17T18:37:46.242Z"
   },
   {
    "duration": 54,
    "start_time": "2022-02-17T18:47:41.188Z"
   },
   {
    "duration": 3,
    "start_time": "2022-02-17T18:49:03.132Z"
   },
   {
    "duration": 69,
    "start_time": "2022-02-17T18:50:50.503Z"
   },
   {
    "duration": 286,
    "start_time": "2022-02-17T18:51:27.689Z"
   },
   {
    "duration": 841,
    "start_time": "2022-02-17T18:51:49.942Z"
   },
   {
    "duration": 67,
    "start_time": "2022-02-17T18:53:42.730Z"
   },
   {
    "duration": 344,
    "start_time": "2022-02-17T18:54:59.918Z"
   },
   {
    "duration": 69,
    "start_time": "2022-02-17T18:57:22.436Z"
   },
   {
    "duration": 69,
    "start_time": "2022-02-17T18:59:02.247Z"
   },
   {
    "duration": 82,
    "start_time": "2022-02-17T19:00:34.129Z"
   },
   {
    "duration": 84,
    "start_time": "2022-02-17T19:01:11.862Z"
   },
   {
    "duration": 82,
    "start_time": "2022-02-17T19:01:49.171Z"
   },
   {
    "duration": 324,
    "start_time": "2022-02-17T19:05:59.382Z"
   },
   {
    "duration": 1199,
    "start_time": "2022-02-17T19:09:28.869Z"
   },
   {
    "duration": 254,
    "start_time": "2022-02-17T19:09:30.071Z"
   },
   {
    "duration": 34,
    "start_time": "2022-02-17T19:09:30.329Z"
   },
   {
    "duration": 230,
    "start_time": "2022-02-17T19:09:30.366Z"
   },
   {
    "duration": 15,
    "start_time": "2022-02-17T19:09:30.599Z"
   },
   {
    "duration": 45,
    "start_time": "2022-02-17T19:09:30.618Z"
   },
   {
    "duration": 17,
    "start_time": "2022-02-17T19:09:30.666Z"
   },
   {
    "duration": 175,
    "start_time": "2022-02-17T19:09:30.686Z"
   },
   {
    "duration": 23,
    "start_time": "2022-02-17T19:09:30.864Z"
   },
   {
    "duration": 52,
    "start_time": "2022-02-17T19:09:30.891Z"
   },
   {
    "duration": 14,
    "start_time": "2022-02-17T19:09:30.949Z"
   },
   {
    "duration": 13,
    "start_time": "2022-02-17T19:09:30.965Z"
   },
   {
    "duration": 13,
    "start_time": "2022-02-17T19:09:30.981Z"
   },
   {
    "duration": 84,
    "start_time": "2022-02-17T19:09:30.996Z"
   },
   {
    "duration": 9,
    "start_time": "2022-02-17T19:09:31.083Z"
   },
   {
    "duration": 30,
    "start_time": "2022-02-17T19:09:31.095Z"
   },
   {
    "duration": 33,
    "start_time": "2022-02-17T19:09:31.148Z"
   },
   {
    "duration": 22,
    "start_time": "2022-02-17T19:09:31.183Z"
   },
   {
    "duration": 64,
    "start_time": "2022-02-17T19:09:31.208Z"
   },
   {
    "duration": 10,
    "start_time": "2022-02-17T19:09:31.275Z"
   },
   {
    "duration": 106,
    "start_time": "2022-02-17T19:09:31.287Z"
   },
   {
    "duration": 666,
    "start_time": "2022-02-17T19:09:31.396Z"
   },
   {
    "duration": 894,
    "start_time": "2022-02-17T19:09:31.172Z"
   },
   {
    "duration": 892,
    "start_time": "2022-02-17T19:09:31.176Z"
   },
   {
    "duration": 890,
    "start_time": "2022-02-17T19:09:31.180Z"
   },
   {
    "duration": 888,
    "start_time": "2022-02-17T19:09:31.183Z"
   },
   {
    "duration": 880,
    "start_time": "2022-02-17T19:09:31.192Z"
   },
   {
    "duration": 879,
    "start_time": "2022-02-17T19:09:31.195Z"
   },
   {
    "duration": 879,
    "start_time": "2022-02-17T19:09:31.197Z"
   },
   {
    "duration": 877,
    "start_time": "2022-02-17T19:09:31.200Z"
   },
   {
    "duration": 877,
    "start_time": "2022-02-17T19:09:31.202Z"
   },
   {
    "duration": 876,
    "start_time": "2022-02-17T19:09:31.205Z"
   },
   {
    "duration": 875,
    "start_time": "2022-02-17T19:09:31.207Z"
   },
   {
    "duration": 874,
    "start_time": "2022-02-17T19:09:31.210Z"
   },
   {
    "duration": 872,
    "start_time": "2022-02-17T19:09:31.213Z"
   },
   {
    "duration": 871,
    "start_time": "2022-02-17T19:09:31.216Z"
   },
   {
    "duration": 871,
    "start_time": "2022-02-17T19:09:31.218Z"
   },
   {
    "duration": 833,
    "start_time": "2022-02-17T19:09:31.257Z"
   },
   {
    "duration": 831,
    "start_time": "2022-02-17T19:09:31.261Z"
   },
   {
    "duration": 830,
    "start_time": "2022-02-17T19:09:31.263Z"
   },
   {
    "duration": 828,
    "start_time": "2022-02-17T19:09:31.266Z"
   },
   {
    "duration": 828,
    "start_time": "2022-02-17T19:09:31.268Z"
   },
   {
    "duration": 826,
    "start_time": "2022-02-17T19:09:31.271Z"
   },
   {
    "duration": 827,
    "start_time": "2022-02-17T19:09:31.274Z"
   },
   {
    "duration": 826,
    "start_time": "2022-02-17T19:09:31.276Z"
   },
   {
    "duration": 870,
    "start_time": "2022-02-17T19:09:31.278Z"
   },
   {
    "duration": 869,
    "start_time": "2022-02-17T19:09:31.281Z"
   },
   {
    "duration": 869,
    "start_time": "2022-02-17T19:09:31.283Z"
   },
   {
    "duration": 867,
    "start_time": "2022-02-17T19:09:31.286Z"
   },
   {
    "duration": 866,
    "start_time": "2022-02-17T19:09:31.289Z"
   },
   {
    "duration": 865,
    "start_time": "2022-02-17T19:09:31.291Z"
   },
   {
    "duration": 852,
    "start_time": "2022-02-17T19:09:31.306Z"
   },
   {
    "duration": 25,
    "start_time": "2022-02-17T19:13:29.242Z"
   },
   {
    "duration": 79,
    "start_time": "2022-02-17T19:13:30.953Z"
   },
   {
    "duration": 90,
    "start_time": "2022-02-17T19:13:38.699Z"
   },
   {
    "duration": 31,
    "start_time": "2022-02-17T19:15:50.259Z"
   },
   {
    "duration": 88,
    "start_time": "2022-02-17T19:15:51.297Z"
   },
   {
    "duration": 68,
    "start_time": "2022-02-17T19:16:20.672Z"
   },
   {
    "duration": 86,
    "start_time": "2022-02-17T19:16:22.705Z"
   },
   {
    "duration": 106,
    "start_time": "2022-02-17T19:16:26.652Z"
   },
   {
    "duration": 92,
    "start_time": "2022-02-17T19:16:39.207Z"
   },
   {
    "duration": 104,
    "start_time": "2022-02-17T19:16:40.317Z"
   },
   {
    "duration": 137,
    "start_time": "2022-02-17T19:16:43.780Z"
   },
   {
    "duration": 56,
    "start_time": "2022-02-17T19:18:02.420Z"
   },
   {
    "duration": 69,
    "start_time": "2022-02-17T19:18:03.444Z"
   },
   {
    "duration": 92,
    "start_time": "2022-02-17T19:18:08.146Z"
   },
   {
    "duration": 392,
    "start_time": "2022-02-17T19:18:11.144Z"
   },
   {
    "duration": 314,
    "start_time": "2022-02-17T19:19:47.672Z"
   },
   {
    "duration": 1251,
    "start_time": "2022-02-17T19:19:59.011Z"
   },
   {
    "duration": 256,
    "start_time": "2022-02-17T19:20:00.265Z"
   },
   {
    "duration": 43,
    "start_time": "2022-02-17T19:20:00.525Z"
   },
   {
    "duration": 215,
    "start_time": "2022-02-17T19:20:00.572Z"
   },
   {
    "duration": 15,
    "start_time": "2022-02-17T19:20:00.790Z"
   },
   {
    "duration": 47,
    "start_time": "2022-02-17T19:20:00.807Z"
   },
   {
    "duration": 13,
    "start_time": "2022-02-17T19:20:00.857Z"
   },
   {
    "duration": 155,
    "start_time": "2022-02-17T19:20:00.874Z"
   },
   {
    "duration": 26,
    "start_time": "2022-02-17T19:20:01.033Z"
   },
   {
    "duration": 37,
    "start_time": "2022-02-17T19:20:01.061Z"
   },
   {
    "duration": 10,
    "start_time": "2022-02-17T19:20:01.101Z"
   },
   {
    "duration": 36,
    "start_time": "2022-02-17T19:20:01.114Z"
   },
   {
    "duration": 24,
    "start_time": "2022-02-17T19:20:01.152Z"
   },
   {
    "duration": 46,
    "start_time": "2022-02-17T19:20:01.179Z"
   },
   {
    "duration": 27,
    "start_time": "2022-02-17T19:20:01.227Z"
   },
   {
    "duration": 35,
    "start_time": "2022-02-17T19:20:01.257Z"
   },
   {
    "duration": 29,
    "start_time": "2022-02-17T19:20:01.295Z"
   },
   {
    "duration": 45,
    "start_time": "2022-02-17T19:20:01.326Z"
   },
   {
    "duration": 41,
    "start_time": "2022-02-17T19:20:01.374Z"
   },
   {
    "duration": 37,
    "start_time": "2022-02-17T19:20:01.418Z"
   },
   {
    "duration": 70,
    "start_time": "2022-02-17T19:20:01.457Z"
   },
   {
    "duration": 119,
    "start_time": "2022-02-17T19:20:01.530Z"
   },
   {
    "duration": 109,
    "start_time": "2022-02-17T19:20:01.656Z"
   },
   {
    "duration": 95,
    "start_time": "2022-02-17T19:20:01.768Z"
   },
   {
    "duration": 122,
    "start_time": "2022-02-17T19:20:01.866Z"
   },
   {
    "duration": 209,
    "start_time": "2022-02-17T19:20:01.991Z"
   },
   {
    "duration": 84,
    "start_time": "2022-02-17T19:20:02.203Z"
   },
   {
    "duration": 105,
    "start_time": "2022-02-17T19:20:02.290Z"
   },
   {
    "duration": 140,
    "start_time": "2022-02-17T19:20:02.398Z"
   },
   {
    "duration": 510,
    "start_time": "2022-02-17T19:20:02.548Z"
   },
   {
    "duration": 877,
    "start_time": "2022-02-17T19:20:02.184Z"
   },
   {
    "duration": 873,
    "start_time": "2022-02-17T19:20:02.190Z"
   },
   {
    "duration": 871,
    "start_time": "2022-02-17T19:20:02.194Z"
   },
   {
    "duration": 857,
    "start_time": "2022-02-17T19:20:02.210Z"
   },
   {
    "duration": 854,
    "start_time": "2022-02-17T19:20:02.215Z"
   },
   {
    "duration": 852,
    "start_time": "2022-02-17T19:20:02.219Z"
   },
   {
    "duration": 850,
    "start_time": "2022-02-17T19:20:02.223Z"
   },
   {
    "duration": 847,
    "start_time": "2022-02-17T19:20:02.228Z"
   },
   {
    "duration": 845,
    "start_time": "2022-02-17T19:20:02.232Z"
   },
   {
    "duration": 831,
    "start_time": "2022-02-17T19:20:02.248Z"
   },
   {
    "duration": 830,
    "start_time": "2022-02-17T19:20:02.251Z"
   },
   {
    "duration": 828,
    "start_time": "2022-02-17T19:20:02.255Z"
   },
   {
    "duration": 824,
    "start_time": "2022-02-17T19:20:02.260Z"
   },
   {
    "duration": 811,
    "start_time": "2022-02-17T19:20:02.276Z"
   },
   {
    "duration": 808,
    "start_time": "2022-02-17T19:20:02.280Z"
   },
   {
    "duration": 809,
    "start_time": "2022-02-17T19:20:02.283Z"
   },
   {
    "duration": 807,
    "start_time": "2022-02-17T19:20:02.286Z"
   },
   {
    "duration": 857,
    "start_time": "2022-02-17T19:20:02.290Z"
   },
   {
    "duration": 857,
    "start_time": "2022-02-17T19:20:02.293Z"
   },
   {
    "duration": 855,
    "start_time": "2022-02-17T19:20:02.297Z"
   },
   {
    "duration": 842,
    "start_time": "2022-02-17T19:20:02.312Z"
   },
   {
    "duration": 841,
    "start_time": "2022-02-17T19:20:02.315Z"
   },
   {
    "duration": 838,
    "start_time": "2022-02-17T19:20:02.320Z"
   },
   {
    "duration": 835,
    "start_time": "2022-02-17T19:20:02.325Z"
   },
   {
    "duration": 833,
    "start_time": "2022-02-17T19:20:02.329Z"
   },
   {
    "duration": 334,
    "start_time": "2022-02-17T19:21:20.374Z"
   },
   {
    "duration": 420,
    "start_time": "2022-02-17T19:21:42.951Z"
   },
   {
    "duration": 345,
    "start_time": "2022-02-17T19:22:00.461Z"
   },
   {
    "duration": 67,
    "start_time": "2022-02-17T19:23:49.192Z"
   },
   {
    "duration": 48,
    "start_time": "2022-02-17T19:24:19.336Z"
   },
   {
    "duration": 47,
    "start_time": "2022-02-17T19:25:12.907Z"
   },
   {
    "duration": 325,
    "start_time": "2022-02-17T19:25:43.995Z"
   },
   {
    "duration": 52,
    "start_time": "2022-02-17T19:26:15.078Z"
   },
   {
    "duration": 46,
    "start_time": "2022-02-17T19:26:22.828Z"
   },
   {
    "duration": 47,
    "start_time": "2022-02-17T19:27:23.358Z"
   },
   {
    "duration": 32,
    "start_time": "2022-02-17T19:27:58.471Z"
   },
   {
    "duration": 35,
    "start_time": "2022-02-17T19:28:17.888Z"
   },
   {
    "duration": 7,
    "start_time": "2022-02-17T19:28:53.446Z"
   },
   {
    "duration": 345,
    "start_time": "2022-02-17T19:28:55.207Z"
   },
   {
    "duration": 43,
    "start_time": "2022-02-17T19:29:05.333Z"
   },
   {
    "duration": 31,
    "start_time": "2022-02-17T19:31:01.131Z"
   },
   {
    "duration": 517,
    "start_time": "2022-02-17T19:31:09.055Z"
   },
   {
    "duration": 1385,
    "start_time": "2022-02-17T19:32:08.730Z"
   },
   {
    "duration": 244,
    "start_time": "2022-02-17T19:32:10.118Z"
   },
   {
    "duration": 21,
    "start_time": "2022-02-17T19:32:10.366Z"
   },
   {
    "duration": 229,
    "start_time": "2022-02-17T19:32:10.390Z"
   },
   {
    "duration": 30,
    "start_time": "2022-02-17T19:32:10.621Z"
   },
   {
    "duration": 31,
    "start_time": "2022-02-17T19:32:10.654Z"
   },
   {
    "duration": 15,
    "start_time": "2022-02-17T19:32:10.687Z"
   },
   {
    "duration": 157,
    "start_time": "2022-02-17T19:32:10.705Z"
   },
   {
    "duration": 22,
    "start_time": "2022-02-17T19:32:10.866Z"
   },
   {
    "duration": 39,
    "start_time": "2022-02-17T19:32:10.892Z"
   },
   {
    "duration": 13,
    "start_time": "2022-02-17T19:32:10.950Z"
   },
   {
    "duration": 18,
    "start_time": "2022-02-17T19:32:10.966Z"
   },
   {
    "duration": 15,
    "start_time": "2022-02-17T19:32:10.987Z"
   },
   {
    "duration": 76,
    "start_time": "2022-02-17T19:32:11.005Z"
   },
   {
    "duration": 12,
    "start_time": "2022-02-17T19:32:11.084Z"
   },
   {
    "duration": 56,
    "start_time": "2022-02-17T19:32:11.099Z"
   },
   {
    "duration": 34,
    "start_time": "2022-02-17T19:32:11.157Z"
   },
   {
    "duration": 23,
    "start_time": "2022-02-17T19:32:11.194Z"
   },
   {
    "duration": 67,
    "start_time": "2022-02-17T19:32:11.220Z"
   },
   {
    "duration": 15,
    "start_time": "2022-02-17T19:32:11.290Z"
   },
   {
    "duration": 103,
    "start_time": "2022-02-17T19:32:11.308Z"
   },
   {
    "duration": 112,
    "start_time": "2022-02-17T19:32:11.415Z"
   },
   {
    "duration": 124,
    "start_time": "2022-02-17T19:32:11.529Z"
   },
   {
    "duration": 105,
    "start_time": "2022-02-17T19:32:11.655Z"
   },
   {
    "duration": 120,
    "start_time": "2022-02-17T19:32:11.763Z"
   },
   {
    "duration": 620,
    "start_time": "2022-02-17T19:32:11.885Z"
   },
   {
    "duration": 912,
    "start_time": "2022-02-17T19:32:11.597Z"
   },
   {
    "duration": 884,
    "start_time": "2022-02-17T19:32:11.626Z"
   },
   {
    "duration": 883,
    "start_time": "2022-02-17T19:32:11.629Z"
   },
   {
    "duration": 881,
    "start_time": "2022-02-17T19:32:11.633Z"
   },
   {
    "duration": 877,
    "start_time": "2022-02-17T19:32:11.639Z"
   },
   {
    "duration": 874,
    "start_time": "2022-02-17T19:32:11.644Z"
   },
   {
    "duration": 873,
    "start_time": "2022-02-17T19:32:11.647Z"
   },
   {
    "duration": 872,
    "start_time": "2022-02-17T19:32:11.650Z"
   },
   {
    "duration": 870,
    "start_time": "2022-02-17T19:32:11.653Z"
   },
   {
    "duration": 866,
    "start_time": "2022-02-17T19:32:11.659Z"
   },
   {
    "duration": 849,
    "start_time": "2022-02-17T19:32:11.677Z"
   },
   {
    "duration": 848,
    "start_time": "2022-02-17T19:32:11.680Z"
   },
   {
    "duration": 845,
    "start_time": "2022-02-17T19:32:11.684Z"
   },
   {
    "duration": 840,
    "start_time": "2022-02-17T19:32:11.690Z"
   },
   {
    "duration": 827,
    "start_time": "2022-02-17T19:32:11.705Z"
   },
   {
    "duration": 824,
    "start_time": "2022-02-17T19:32:11.709Z"
   },
   {
    "duration": 812,
    "start_time": "2022-02-17T19:32:11.723Z"
   },
   {
    "duration": 810,
    "start_time": "2022-02-17T19:32:11.726Z"
   },
   {
    "duration": 794,
    "start_time": "2022-02-17T19:32:11.744Z"
   },
   {
    "duration": 793,
    "start_time": "2022-02-17T19:32:11.747Z"
   },
   {
    "duration": 789,
    "start_time": "2022-02-17T19:32:11.752Z"
   },
   {
    "duration": 787,
    "start_time": "2022-02-17T19:32:11.756Z"
   },
   {
    "duration": 785,
    "start_time": "2022-02-17T19:32:11.760Z"
   },
   {
    "duration": 783,
    "start_time": "2022-02-17T19:32:11.764Z"
   },
   {
    "duration": 780,
    "start_time": "2022-02-17T19:32:11.768Z"
   },
   {
    "duration": 776,
    "start_time": "2022-02-17T19:32:11.774Z"
   },
   {
    "duration": 775,
    "start_time": "2022-02-17T19:32:11.778Z"
   },
   {
    "duration": 774,
    "start_time": "2022-02-17T19:32:11.781Z"
   },
   {
    "duration": 772,
    "start_time": "2022-02-17T19:32:11.785Z"
   },
   {
    "duration": 769,
    "start_time": "2022-02-17T19:32:11.790Z"
   },
   {
    "duration": 70,
    "start_time": "2022-02-17T19:33:04.654Z"
   },
   {
    "duration": 48,
    "start_time": "2022-02-17T19:33:08.667Z"
   },
   {
    "duration": 60,
    "start_time": "2022-02-17T19:33:10.014Z"
   },
   {
    "duration": 68,
    "start_time": "2022-02-17T19:33:10.648Z"
   },
   {
    "duration": 97,
    "start_time": "2022-02-17T19:33:14.753Z"
   },
   {
    "duration": 45,
    "start_time": "2022-02-17T19:33:18.123Z"
   },
   {
    "duration": 33,
    "start_time": "2022-02-17T19:33:19.243Z"
   },
   {
    "duration": 7,
    "start_time": "2022-02-17T19:33:26.668Z"
   },
   {
    "duration": 30,
    "start_time": "2022-02-17T19:33:27.443Z"
   },
   {
    "duration": 143,
    "start_time": "2022-02-17T19:33:27.853Z"
   },
   {
    "duration": 150,
    "start_time": "2022-02-17T19:33:29.508Z"
   },
   {
    "duration": 133,
    "start_time": "2022-02-17T19:33:30.272Z"
   },
   {
    "duration": 137,
    "start_time": "2022-02-17T19:33:49.379Z"
   },
   {
    "duration": 44,
    "start_time": "2022-02-17T19:34:24.624Z"
   },
   {
    "duration": 388,
    "start_time": "2022-02-17T19:34:46.246Z"
   },
   {
    "duration": 38,
    "start_time": "2022-02-17T19:34:55.128Z"
   },
   {
    "duration": 326,
    "start_time": "2022-02-17T19:49:36.593Z"
   },
   {
    "duration": 302,
    "start_time": "2022-02-17T19:49:44.345Z"
   },
   {
    "duration": 284,
    "start_time": "2022-02-17T19:49:50.148Z"
   },
   {
    "duration": 34,
    "start_time": "2022-02-17T19:50:13.808Z"
   },
   {
    "duration": 396,
    "start_time": "2022-02-17T19:50:22.804Z"
   },
   {
    "duration": 11,
    "start_time": "2022-02-17T19:50:28.949Z"
   },
   {
    "duration": 317,
    "start_time": "2022-02-17T19:51:25.236Z"
   },
   {
    "duration": 467,
    "start_time": "2022-02-17T19:51:30.569Z"
   },
   {
    "duration": 308,
    "start_time": "2022-02-17T19:51:36.666Z"
   },
   {
    "duration": 296,
    "start_time": "2022-02-17T19:51:41.081Z"
   },
   {
    "duration": 307,
    "start_time": "2022-02-17T19:51:45.189Z"
   },
   {
    "duration": 311,
    "start_time": "2022-02-17T19:54:38.062Z"
   },
   {
    "duration": 340,
    "start_time": "2022-02-17T20:06:28.272Z"
   },
   {
    "duration": 357,
    "start_time": "2022-02-17T20:08:03.186Z"
   },
   {
    "duration": 7,
    "start_time": "2022-02-17T20:08:17.861Z"
   },
   {
    "duration": 11,
    "start_time": "2022-02-17T20:11:29.042Z"
   },
   {
    "duration": 13,
    "start_time": "2022-02-17T20:11:47.169Z"
   },
   {
    "duration": 8,
    "start_time": "2022-02-17T20:12:06.262Z"
   },
   {
    "duration": 435,
    "start_time": "2022-02-17T20:12:12.246Z"
   },
   {
    "duration": 7,
    "start_time": "2022-02-17T20:12:20.964Z"
   },
   {
    "duration": 7,
    "start_time": "2022-02-17T20:13:57.206Z"
   },
   {
    "duration": 301,
    "start_time": "2022-02-17T20:14:28.213Z"
   },
   {
    "duration": 297,
    "start_time": "2022-02-17T20:14:32.940Z"
   },
   {
    "duration": 11,
    "start_time": "2022-02-17T20:14:37.438Z"
   },
   {
    "duration": 10,
    "start_time": "2022-02-17T20:15:01.444Z"
   },
   {
    "duration": 612,
    "start_time": "2022-02-17T20:15:05.946Z"
   },
   {
    "duration": 9,
    "start_time": "2022-02-17T20:15:11.017Z"
   },
   {
    "duration": 317,
    "start_time": "2022-02-17T20:15:48.734Z"
   },
   {
    "duration": 336,
    "start_time": "2022-02-17T20:15:52.154Z"
   },
   {
    "duration": 315,
    "start_time": "2022-02-17T20:15:55.894Z"
   },
   {
    "duration": 299,
    "start_time": "2022-02-17T20:15:59.085Z"
   },
   {
    "duration": 295,
    "start_time": "2022-02-17T20:16:36.827Z"
   },
   {
    "duration": 7,
    "start_time": "2022-02-17T20:16:47.644Z"
   },
   {
    "duration": 304,
    "start_time": "2022-02-17T20:17:18.778Z"
   },
   {
    "duration": 9,
    "start_time": "2022-02-17T20:17:27.095Z"
   },
   {
    "duration": 297,
    "start_time": "2022-02-17T20:18:42.300Z"
   },
   {
    "duration": 8,
    "start_time": "2022-02-17T20:18:49.920Z"
   },
   {
    "duration": 28,
    "start_time": "2022-02-17T20:18:58.168Z"
   },
   {
    "duration": 16,
    "start_time": "2022-02-17T20:19:01.408Z"
   },
   {
    "duration": 4,
    "start_time": "2022-02-17T20:19:42.513Z"
   },
   {
    "duration": 6,
    "start_time": "2022-02-17T20:20:17.637Z"
   },
   {
    "duration": 98,
    "start_time": "2022-02-18T15:06:52.565Z"
   },
   {
    "duration": 1253,
    "start_time": "2022-02-18T15:07:30.492Z"
   },
   {
    "duration": 241,
    "start_time": "2022-02-18T15:07:31.748Z"
   },
   {
    "duration": 20,
    "start_time": "2022-02-18T15:07:31.992Z"
   },
   {
    "duration": 233,
    "start_time": "2022-02-18T15:07:32.015Z"
   },
   {
    "duration": 14,
    "start_time": "2022-02-18T15:07:32.262Z"
   },
   {
    "duration": 18,
    "start_time": "2022-02-18T15:07:32.279Z"
   },
   {
    "duration": 19,
    "start_time": "2022-02-18T15:07:32.300Z"
   },
   {
    "duration": 221,
    "start_time": "2022-02-18T15:07:32.324Z"
   },
   {
    "duration": 25,
    "start_time": "2022-02-18T15:07:32.549Z"
   },
   {
    "duration": 58,
    "start_time": "2022-02-18T15:07:32.577Z"
   },
   {
    "duration": 10,
    "start_time": "2022-02-18T15:07:32.637Z"
   },
   {
    "duration": 16,
    "start_time": "2022-02-18T15:07:32.650Z"
   },
   {
    "duration": 15,
    "start_time": "2022-02-18T15:07:32.668Z"
   },
   {
    "duration": 75,
    "start_time": "2022-02-18T15:07:32.686Z"
   },
   {
    "duration": 12,
    "start_time": "2022-02-18T15:07:32.764Z"
   },
   {
    "duration": 27,
    "start_time": "2022-02-18T15:07:32.778Z"
   },
   {
    "duration": 63,
    "start_time": "2022-02-18T15:07:32.808Z"
   },
   {
    "duration": 22,
    "start_time": "2022-02-18T15:07:32.873Z"
   },
   {
    "duration": 72,
    "start_time": "2022-02-18T15:07:32.898Z"
   },
   {
    "duration": 14,
    "start_time": "2022-02-18T15:07:32.973Z"
   },
   {
    "duration": 93,
    "start_time": "2022-02-18T15:07:32.990Z"
   },
   {
    "duration": 105,
    "start_time": "2022-02-18T15:07:33.086Z"
   },
   {
    "duration": 118,
    "start_time": "2022-02-18T15:07:33.197Z"
   },
   {
    "duration": 126,
    "start_time": "2022-02-18T15:07:33.318Z"
   },
   {
    "duration": 144,
    "start_time": "2022-02-18T15:07:33.447Z"
   },
   {
    "duration": 191,
    "start_time": "2022-02-18T15:07:33.593Z"
   },
   {
    "duration": 48,
    "start_time": "2022-02-18T15:07:33.787Z"
   },
   {
    "duration": 76,
    "start_time": "2022-02-18T15:07:33.838Z"
   },
   {
    "duration": 85,
    "start_time": "2022-02-18T15:07:33.916Z"
   },
   {
    "duration": 105,
    "start_time": "2022-02-18T15:07:34.003Z"
   },
   {
    "duration": 58,
    "start_time": "2022-02-18T15:07:34.111Z"
   },
   {
    "duration": 32,
    "start_time": "2022-02-18T15:07:34.172Z"
   },
   {
    "duration": 6,
    "start_time": "2022-02-18T15:07:34.206Z"
   },
   {
    "duration": 59,
    "start_time": "2022-02-18T15:07:34.214Z"
   },
   {
    "duration": 146,
    "start_time": "2022-02-18T15:07:34.275Z"
   },
   {
    "duration": 171,
    "start_time": "2022-02-18T15:07:34.423Z"
   },
   {
    "duration": 153,
    "start_time": "2022-02-18T15:07:34.596Z"
   },
   {
    "duration": 35,
    "start_time": "2022-02-18T15:07:34.751Z"
   },
   {
    "duration": 31,
    "start_time": "2022-02-18T15:07:34.788Z"
   },
   {
    "duration": 93,
    "start_time": "2022-02-18T15:07:34.821Z"
   },
   {
    "duration": 903,
    "start_time": "2022-02-18T15:07:34.013Z"
   },
   {
    "duration": 861,
    "start_time": "2022-02-18T15:07:34.057Z"
   },
   {
    "duration": 858,
    "start_time": "2022-02-18T15:07:34.061Z"
   },
   {
    "duration": 826,
    "start_time": "2022-02-18T15:07:34.094Z"
   },
   {
    "duration": 823,
    "start_time": "2022-02-18T15:07:34.099Z"
   },
   {
    "duration": 821,
    "start_time": "2022-02-18T15:07:34.102Z"
   },
   {
    "duration": 819,
    "start_time": "2022-02-18T15:07:34.106Z"
   },
   {
    "duration": 808,
    "start_time": "2022-02-18T15:07:34.118Z"
   },
   {
    "duration": 803,
    "start_time": "2022-02-18T15:07:34.124Z"
   },
   {
    "duration": 802,
    "start_time": "2022-02-18T15:07:34.127Z"
   },
   {
    "duration": 799,
    "start_time": "2022-02-18T15:07:34.131Z"
   },
   {
    "duration": 796,
    "start_time": "2022-02-18T15:07:34.135Z"
   },
   {
    "duration": 795,
    "start_time": "2022-02-18T15:07:34.139Z"
   },
   {
    "duration": 793,
    "start_time": "2022-02-18T15:07:34.142Z"
   },
   {
    "duration": 791,
    "start_time": "2022-02-18T15:07:34.145Z"
   },
   {
    "duration": 789,
    "start_time": "2022-02-18T15:07:34.148Z"
   },
   {
    "duration": 787,
    "start_time": "2022-02-18T15:07:34.151Z"
   },
   {
    "duration": 785,
    "start_time": "2022-02-18T15:07:34.154Z"
   },
   {
    "duration": 46,
    "start_time": "2022-02-18T15:07:45.987Z"
   },
   {
    "duration": 1557,
    "start_time": "2022-02-18T15:07:52.706Z"
   },
   {
    "duration": 241,
    "start_time": "2022-02-18T15:07:54.267Z"
   },
   {
    "duration": 20,
    "start_time": "2022-02-18T15:07:54.511Z"
   },
   {
    "duration": 228,
    "start_time": "2022-02-18T15:07:54.533Z"
   },
   {
    "duration": 13,
    "start_time": "2022-02-18T15:07:54.764Z"
   },
   {
    "duration": 20,
    "start_time": "2022-02-18T15:07:54.780Z"
   },
   {
    "duration": 15,
    "start_time": "2022-02-18T15:07:54.803Z"
   },
   {
    "duration": 145,
    "start_time": "2022-02-18T15:07:54.860Z"
   },
   {
    "duration": 21,
    "start_time": "2022-02-18T15:07:55.009Z"
   },
   {
    "duration": 50,
    "start_time": "2022-02-18T15:07:55.033Z"
   },
   {
    "duration": 11,
    "start_time": "2022-02-18T15:07:55.085Z"
   },
   {
    "duration": 11,
    "start_time": "2022-02-18T15:07:55.099Z"
   },
   {
    "duration": 14,
    "start_time": "2022-02-18T15:07:55.112Z"
   },
   {
    "duration": 75,
    "start_time": "2022-02-18T15:07:55.128Z"
   },
   {
    "duration": 10,
    "start_time": "2022-02-18T15:07:55.206Z"
   },
   {
    "duration": 61,
    "start_time": "2022-02-18T15:07:55.219Z"
   },
   {
    "duration": 31,
    "start_time": "2022-02-18T15:07:55.282Z"
   },
   {
    "duration": 47,
    "start_time": "2022-02-18T15:07:55.316Z"
   },
   {
    "duration": 36,
    "start_time": "2022-02-18T15:07:55.365Z"
   },
   {
    "duration": 12,
    "start_time": "2022-02-18T15:07:55.404Z"
   },
   {
    "duration": 104,
    "start_time": "2022-02-18T15:07:55.419Z"
   },
   {
    "duration": 107,
    "start_time": "2022-02-18T15:07:55.526Z"
   },
   {
    "duration": 121,
    "start_time": "2022-02-18T15:07:55.641Z"
   },
   {
    "duration": 152,
    "start_time": "2022-02-18T15:07:55.767Z"
   },
   {
    "duration": 145,
    "start_time": "2022-02-18T15:07:55.922Z"
   },
   {
    "duration": 196,
    "start_time": "2022-02-18T15:07:56.070Z"
   },
   {
    "duration": 63,
    "start_time": "2022-02-18T15:07:56.269Z"
   },
   {
    "duration": 99,
    "start_time": "2022-02-18T15:07:56.334Z"
   },
   {
    "duration": 87,
    "start_time": "2022-02-18T15:07:56.436Z"
   },
   {
    "duration": 105,
    "start_time": "2022-02-18T15:07:56.526Z"
   },
   {
    "duration": 63,
    "start_time": "2022-02-18T15:07:56.633Z"
   },
   {
    "duration": 35,
    "start_time": "2022-02-18T15:07:56.699Z"
   },
   {
    "duration": 27,
    "start_time": "2022-02-18T15:07:56.736Z"
   },
   {
    "duration": 30,
    "start_time": "2022-02-18T15:07:56.766Z"
   },
   {
    "duration": 171,
    "start_time": "2022-02-18T15:07:56.798Z"
   },
   {
    "duration": 166,
    "start_time": "2022-02-18T15:07:56.971Z"
   },
   {
    "duration": 153,
    "start_time": "2022-02-18T15:07:57.140Z"
   },
   {
    "duration": 36,
    "start_time": "2022-02-18T15:07:57.295Z"
   },
   {
    "duration": 50,
    "start_time": "2022-02-18T15:07:57.334Z"
   },
   {
    "duration": 32,
    "start_time": "2022-02-18T15:07:57.387Z"
   },
   {
    "duration": 10,
    "start_time": "2022-02-18T15:07:57.422Z"
   },
   {
    "duration": 470,
    "start_time": "2022-02-18T15:07:57.462Z"
   },
   {
    "duration": 308,
    "start_time": "2022-02-18T15:07:57.935Z"
   },
   {
    "duration": 332,
    "start_time": "2022-02-18T15:07:58.247Z"
   },
   {
    "duration": 8,
    "start_time": "2022-02-18T15:07:58.582Z"
   },
   {
    "duration": 9,
    "start_time": "2022-02-18T15:07:58.592Z"
   },
   {
    "duration": 12,
    "start_time": "2022-02-18T15:07:58.604Z"
   },
   {
    "duration": 49,
    "start_time": "2022-02-18T15:07:58.619Z"
   },
   {
    "duration": 312,
    "start_time": "2022-02-18T15:07:58.671Z"
   },
   {
    "duration": 312,
    "start_time": "2022-02-18T15:07:58.986Z"
   },
   {
    "duration": 297,
    "start_time": "2022-02-18T15:07:59.301Z"
   },
   {
    "duration": 8,
    "start_time": "2022-02-18T15:07:59.600Z"
   },
   {
    "duration": 9,
    "start_time": "2022-02-18T15:07:59.611Z"
   },
   {
    "duration": 11,
    "start_time": "2022-02-18T15:07:59.623Z"
   },
   {
    "duration": 5,
    "start_time": "2022-02-18T15:07:59.662Z"
   },
   {
    "duration": 29,
    "start_time": "2022-02-18T15:07:59.670Z"
   },
   {
    "duration": 14,
    "start_time": "2022-02-18T15:07:59.701Z"
   },
   {
    "duration": 30,
    "start_time": "2022-02-18T15:25:58.058Z"
   },
   {
    "duration": 9,
    "start_time": "2022-02-18T15:26:01.772Z"
   },
   {
    "duration": 314,
    "start_time": "2022-02-18T15:26:22.898Z"
   },
   {
    "duration": 292,
    "start_time": "2022-02-18T15:26:47.154Z"
   },
   {
    "duration": 313,
    "start_time": "2022-02-18T15:27:30.777Z"
   },
   {
    "duration": 7,
    "start_time": "2022-02-18T15:27:36.441Z"
   },
   {
    "duration": 9,
    "start_time": "2022-02-18T15:27:37.799Z"
   },
   {
    "duration": 9,
    "start_time": "2022-02-18T15:27:39.310Z"
   },
   {
    "duration": 8,
    "start_time": "2022-02-18T15:27:40.468Z"
   },
   {
    "duration": 379,
    "start_time": "2022-02-18T15:27:42.204Z"
   },
   {
    "duration": 290,
    "start_time": "2022-02-18T15:27:56.724Z"
   },
   {
    "duration": 290,
    "start_time": "2022-02-18T15:27:59.434Z"
   },
   {
    "duration": 282,
    "start_time": "2022-02-18T15:28:02.269Z"
   },
   {
    "duration": 7,
    "start_time": "2022-02-18T15:28:07.108Z"
   },
   {
    "duration": 8,
    "start_time": "2022-02-18T15:28:09.303Z"
   },
   {
    "duration": 4,
    "start_time": "2022-02-18T15:34:01.385Z"
   },
   {
    "duration": 5,
    "start_time": "2022-02-18T15:36:03.154Z"
   },
   {
    "duration": 7,
    "start_time": "2022-02-18T15:36:06.971Z"
   },
   {
    "duration": 122,
    "start_time": "2022-02-18T15:36:59.961Z"
   },
   {
    "duration": 86,
    "start_time": "2022-02-18T15:38:07.717Z"
   },
   {
    "duration": 6,
    "start_time": "2022-02-18T15:38:32.073Z"
   },
   {
    "duration": 99,
    "start_time": "2022-02-18T15:45:34.081Z"
   },
   {
    "duration": 335,
    "start_time": "2022-02-18T15:46:58.154Z"
   },
   {
    "duration": 311,
    "start_time": "2022-02-18T15:47:57.607Z"
   },
   {
    "duration": 7,
    "start_time": "2022-02-18T15:52:28.246Z"
   },
   {
    "duration": 11,
    "start_time": "2022-02-18T15:52:32.489Z"
   },
   {
    "duration": 278,
    "start_time": "2022-02-18T15:53:03.056Z"
   },
   {
    "duration": 371,
    "start_time": "2022-02-18T15:53:19.754Z"
   },
   {
    "duration": 285,
    "start_time": "2022-02-18T15:53:28.216Z"
   },
   {
    "duration": 325,
    "start_time": "2022-02-18T15:54:37.957Z"
   },
   {
    "duration": 89,
    "start_time": "2022-02-18T15:59:08.830Z"
   },
   {
    "duration": 300,
    "start_time": "2022-02-18T15:59:39.312Z"
   },
   {
    "duration": 92,
    "start_time": "2022-02-18T16:02:13.674Z"
   },
   {
    "duration": 7,
    "start_time": "2022-02-18T16:02:27.991Z"
   },
   {
    "duration": 8,
    "start_time": "2022-02-18T16:02:31.103Z"
   },
   {
    "duration": 95,
    "start_time": "2022-02-18T16:03:01.277Z"
   },
   {
    "duration": 379,
    "start_time": "2022-02-18T16:11:54.024Z"
   },
   {
    "duration": 449,
    "start_time": "2022-02-18T16:38:53.356Z"
   },
   {
    "duration": 6,
    "start_time": "2022-02-18T16:39:15.763Z"
   },
   {
    "duration": 7,
    "start_time": "2022-02-18T16:41:17.010Z"
   },
   {
    "duration": 90,
    "start_time": "2022-02-18T16:51:03.548Z"
   },
   {
    "duration": 96,
    "start_time": "2022-02-18T16:51:18.635Z"
   },
   {
    "duration": 102,
    "start_time": "2022-02-18T16:51:43.569Z"
   },
   {
    "duration": 90,
    "start_time": "2022-02-18T16:51:58.648Z"
   },
   {
    "duration": 89,
    "start_time": "2022-02-18T16:53:12.951Z"
   },
   {
    "duration": 91,
    "start_time": "2022-02-18T16:53:31.469Z"
   },
   {
    "duration": 290,
    "start_time": "2022-02-18T16:53:54.818Z"
   },
   {
    "duration": 292,
    "start_time": "2022-02-18T16:54:34.992Z"
   },
   {
    "duration": 17,
    "start_time": "2022-02-18T16:55:26.414Z"
   },
   {
    "duration": 57,
    "start_time": "2022-02-18T16:55:38.986Z"
   },
   {
    "duration": 1249,
    "start_time": "2022-02-18T16:56:26.238Z"
   },
   {
    "duration": 248,
    "start_time": "2022-02-18T16:56:27.491Z"
   },
   {
    "duration": 35,
    "start_time": "2022-02-18T16:56:27.743Z"
   },
   {
    "duration": 215,
    "start_time": "2022-02-18T16:56:27.780Z"
   },
   {
    "duration": 13,
    "start_time": "2022-02-18T16:56:27.998Z"
   },
   {
    "duration": 20,
    "start_time": "2022-02-18T16:56:28.013Z"
   },
   {
    "duration": 38,
    "start_time": "2022-02-18T16:56:28.035Z"
   },
   {
    "duration": 151,
    "start_time": "2022-02-18T16:56:28.077Z"
   },
   {
    "duration": 30,
    "start_time": "2022-02-18T16:56:28.231Z"
   },
   {
    "duration": 44,
    "start_time": "2022-02-18T16:56:28.264Z"
   },
   {
    "duration": 11,
    "start_time": "2022-02-18T16:56:28.310Z"
   },
   {
    "duration": 10,
    "start_time": "2022-02-18T16:56:28.323Z"
   },
   {
    "duration": 35,
    "start_time": "2022-02-18T16:56:28.335Z"
   },
   {
    "duration": 44,
    "start_time": "2022-02-18T16:56:28.373Z"
   },
   {
    "duration": 9,
    "start_time": "2022-02-18T16:56:28.420Z"
   },
   {
    "duration": 26,
    "start_time": "2022-02-18T16:56:28.461Z"
   },
   {
    "duration": 31,
    "start_time": "2022-02-18T16:56:28.489Z"
   },
   {
    "duration": 50,
    "start_time": "2022-02-18T16:56:28.523Z"
   },
   {
    "duration": 35,
    "start_time": "2022-02-18T16:56:28.576Z"
   },
   {
    "duration": 12,
    "start_time": "2022-02-18T16:56:28.613Z"
   },
   {
    "duration": 96,
    "start_time": "2022-02-18T16:56:28.627Z"
   },
   {
    "duration": 100,
    "start_time": "2022-02-18T16:56:28.726Z"
   },
   {
    "duration": 117,
    "start_time": "2022-02-18T16:56:28.832Z"
   },
   {
    "duration": 96,
    "start_time": "2022-02-18T16:56:28.953Z"
   },
   {
    "duration": 120,
    "start_time": "2022-02-18T16:56:29.052Z"
   },
   {
    "duration": 163,
    "start_time": "2022-02-18T16:56:29.175Z"
   },
   {
    "duration": 59,
    "start_time": "2022-02-18T16:56:29.341Z"
   },
   {
    "duration": 60,
    "start_time": "2022-02-18T16:56:29.402Z"
   },
   {
    "duration": 74,
    "start_time": "2022-02-18T16:56:29.465Z"
   },
   {
    "duration": 102,
    "start_time": "2022-02-18T16:56:29.542Z"
   },
   {
    "duration": 57,
    "start_time": "2022-02-18T16:56:29.646Z"
   },
   {
    "duration": 56,
    "start_time": "2022-02-18T16:56:29.705Z"
   },
   {
    "duration": 6,
    "start_time": "2022-02-18T16:56:29.763Z"
   },
   {
    "duration": 29,
    "start_time": "2022-02-18T16:56:29.772Z"
   },
   {
    "duration": 175,
    "start_time": "2022-02-18T16:56:29.803Z"
   },
   {
    "duration": 154,
    "start_time": "2022-02-18T16:56:29.981Z"
   },
   {
    "duration": 152,
    "start_time": "2022-02-18T16:56:30.137Z"
   },
   {
    "duration": 37,
    "start_time": "2022-02-18T16:56:30.292Z"
   },
   {
    "duration": 46,
    "start_time": "2022-02-18T16:56:30.331Z"
   },
   {
    "duration": 33,
    "start_time": "2022-02-18T16:56:30.381Z"
   },
   {
    "duration": 10,
    "start_time": "2022-02-18T16:56:30.416Z"
   },
   {
    "duration": 555,
    "start_time": "2022-02-18T16:56:30.428Z"
   },
   {
    "duration": 333,
    "start_time": "2022-02-18T16:56:30.986Z"
   },
   {
    "duration": 349,
    "start_time": "2022-02-18T16:56:31.322Z"
   },
   {
    "duration": 8,
    "start_time": "2022-02-18T16:56:31.673Z"
   },
   {
    "duration": 10,
    "start_time": "2022-02-18T16:56:31.683Z"
   },
   {
    "duration": 10,
    "start_time": "2022-02-18T16:56:31.696Z"
   },
   {
    "duration": 54,
    "start_time": "2022-02-18T16:56:31.709Z"
   },
   {
    "duration": 306,
    "start_time": "2022-02-18T16:56:31.766Z"
   },
   {
    "duration": 340,
    "start_time": "2022-02-18T16:56:32.075Z"
   },
   {
    "duration": 338,
    "start_time": "2022-02-18T16:56:32.418Z"
   },
   {
    "duration": 8,
    "start_time": "2022-02-18T16:56:32.761Z"
   },
   {
    "duration": 11,
    "start_time": "2022-02-18T16:56:32.772Z"
   },
   {
    "duration": 332,
    "start_time": "2022-02-18T16:56:32.786Z"
   },
   {
    "duration": 8,
    "start_time": "2022-02-18T16:56:33.121Z"
   },
   {
    "duration": 28,
    "start_time": "2022-02-18T16:56:33.132Z"
   },
   {
    "duration": 6,
    "start_time": "2022-02-18T16:56:33.163Z"
   },
   {
    "duration": 55,
    "start_time": "2022-02-18T16:56:33.172Z"
   },
   {
    "duration": 8112,
    "start_time": "2022-02-18T16:56:33.229Z"
   },
   {
    "duration": 19,
    "start_time": "2022-02-18T17:00:55.179Z"
   },
   {
    "duration": 309,
    "start_time": "2022-02-18T17:07:36.253Z"
   },
   {
    "duration": 647,
    "start_time": "2022-02-18T17:08:11.857Z"
   },
   {
    "duration": 11,
    "start_time": "2022-02-18T17:08:39.059Z"
   },
   {
    "duration": 19,
    "start_time": "2022-02-18T17:10:29.792Z"
   },
   {
    "duration": 130,
    "start_time": "2022-02-18T17:31:03.800Z"
   },
   {
    "duration": 124,
    "start_time": "2022-02-28T10:56:53.766Z"
   },
   {
    "duration": 77,
    "start_time": "2022-02-28T11:25:23.414Z"
   },
   {
    "duration": 85,
    "start_time": "2022-02-28T11:28:29.015Z"
   },
   {
    "duration": 1192,
    "start_time": "2022-02-28T11:30:54.903Z"
   },
   {
    "duration": 246,
    "start_time": "2022-02-28T11:30:56.097Z"
   },
   {
    "duration": 32,
    "start_time": "2022-02-28T11:30:56.346Z"
   },
   {
    "duration": 207,
    "start_time": "2022-02-28T11:30:56.382Z"
   },
   {
    "duration": 13,
    "start_time": "2022-02-28T11:30:56.592Z"
   },
   {
    "duration": 19,
    "start_time": "2022-02-28T11:30:56.608Z"
   },
   {
    "duration": 47,
    "start_time": "2022-02-28T11:30:56.629Z"
   },
   {
    "duration": 149,
    "start_time": "2022-02-28T11:30:56.678Z"
   },
   {
    "duration": 22,
    "start_time": "2022-02-28T11:30:56.831Z"
   },
   {
    "duration": 56,
    "start_time": "2022-02-28T11:30:56.856Z"
   },
   {
    "duration": 11,
    "start_time": "2022-02-28T11:30:56.915Z"
   },
   {
    "duration": 12,
    "start_time": "2022-02-28T11:30:56.929Z"
   },
   {
    "duration": 38,
    "start_time": "2022-02-28T11:30:56.943Z"
   },
   {
    "duration": 55,
    "start_time": "2022-02-28T11:30:56.983Z"
   },
   {
    "duration": 10,
    "start_time": "2022-02-28T11:30:57.040Z"
   },
   {
    "duration": 44,
    "start_time": "2022-02-28T11:30:57.052Z"
   },
   {
    "duration": 33,
    "start_time": "2022-02-28T11:30:57.098Z"
   },
   {
    "duration": 46,
    "start_time": "2022-02-28T11:30:57.133Z"
   },
   {
    "duration": 37,
    "start_time": "2022-02-28T11:30:57.181Z"
   },
   {
    "duration": 12,
    "start_time": "2022-02-28T11:30:57.221Z"
   },
   {
    "duration": 96,
    "start_time": "2022-02-28T11:30:57.236Z"
   },
   {
    "duration": 113,
    "start_time": "2022-02-28T11:30:57.335Z"
   },
   {
    "duration": 111,
    "start_time": "2022-02-28T11:30:57.451Z"
   },
   {
    "duration": 103,
    "start_time": "2022-02-28T11:30:57.573Z"
   },
   {
    "duration": 121,
    "start_time": "2022-02-28T11:30:57.679Z"
   },
   {
    "duration": 175,
    "start_time": "2022-02-28T11:30:57.804Z"
   },
   {
    "duration": 47,
    "start_time": "2022-02-28T11:30:57.985Z"
   },
   {
    "duration": 73,
    "start_time": "2022-02-28T11:30:58.036Z"
   },
   {
    "duration": 86,
    "start_time": "2022-02-28T11:30:58.111Z"
   },
   {
    "duration": 98,
    "start_time": "2022-02-28T11:30:58.199Z"
   },
   {
    "duration": 48,
    "start_time": "2022-02-28T11:30:58.300Z"
   },
   {
    "duration": 52,
    "start_time": "2022-02-28T11:30:58.350Z"
   },
   {
    "duration": 5,
    "start_time": "2022-02-28T11:30:58.405Z"
   },
   {
    "duration": 28,
    "start_time": "2022-02-28T11:30:58.413Z"
   },
   {
    "duration": 146,
    "start_time": "2022-02-28T11:30:58.473Z"
   },
   {
    "duration": 155,
    "start_time": "2022-02-28T11:30:58.622Z"
   },
   {
    "duration": 148,
    "start_time": "2022-02-28T11:30:58.779Z"
   },
   {
    "duration": 27,
    "start_time": "2022-02-28T11:30:58.929Z"
   },
   {
    "duration": 32,
    "start_time": "2022-02-28T11:30:58.973Z"
   },
   {
    "duration": 29,
    "start_time": "2022-02-28T11:30:59.008Z"
   },
   {
    "duration": 58,
    "start_time": "2022-02-28T11:30:59.039Z"
   },
   {
    "duration": 8,
    "start_time": "2022-02-28T11:30:59.099Z"
   },
   {
    "duration": 487,
    "start_time": "2022-02-28T11:30:59.109Z"
   },
   {
    "duration": 327,
    "start_time": "2022-02-28T11:30:59.599Z"
   },
   {
    "duration": 325,
    "start_time": "2022-02-28T11:30:59.929Z"
   },
   {
    "duration": 17,
    "start_time": "2022-02-28T11:31:00.257Z"
   },
   {
    "duration": 14,
    "start_time": "2022-02-28T11:31:00.277Z"
   },
   {
    "duration": 26,
    "start_time": "2022-02-28T11:31:00.293Z"
   },
   {
    "duration": 25,
    "start_time": "2022-02-28T11:31:00.322Z"
   },
   {
    "duration": 295,
    "start_time": "2022-02-28T11:31:00.349Z"
   },
   {
    "duration": 331,
    "start_time": "2022-02-28T11:31:00.646Z"
   },
   {
    "duration": 321,
    "start_time": "2022-02-28T11:31:00.979Z"
   },
   {
    "duration": 7,
    "start_time": "2022-02-28T11:31:01.303Z"
   },
   {
    "duration": 28,
    "start_time": "2022-02-28T11:31:01.313Z"
   },
   {
    "duration": 340,
    "start_time": "2022-02-28T11:31:01.343Z"
   },
   {
    "duration": 8,
    "start_time": "2022-02-28T11:31:01.685Z"
   },
   {
    "duration": 14,
    "start_time": "2022-02-28T11:31:01.695Z"
   },
   {
    "duration": 14,
    "start_time": "2022-02-28T11:31:01.711Z"
   },
   {
    "duration": 80,
    "start_time": "2022-02-28T11:31:01.727Z"
   },
   {
    "duration": 16,
    "start_time": "2022-02-28T11:31:01.809Z"
   },
   {
    "duration": 89,
    "start_time": "2022-02-28T11:35:30.104Z"
   },
   {
    "duration": 1171,
    "start_time": "2022-02-28T11:47:36.225Z"
   },
   {
    "duration": 260,
    "start_time": "2022-02-28T11:47:37.399Z"
   },
   {
    "duration": 29,
    "start_time": "2022-02-28T11:47:37.662Z"
   },
   {
    "duration": 232,
    "start_time": "2022-02-28T11:47:37.694Z"
   },
   {
    "duration": 15,
    "start_time": "2022-02-28T11:47:37.929Z"
   },
   {
    "duration": 40,
    "start_time": "2022-02-28T11:47:37.946Z"
   },
   {
    "duration": 14,
    "start_time": "2022-02-28T11:47:37.988Z"
   },
   {
    "duration": 157,
    "start_time": "2022-02-28T11:47:38.004Z"
   },
   {
    "duration": 21,
    "start_time": "2022-02-28T11:47:38.173Z"
   },
   {
    "duration": 38,
    "start_time": "2022-02-28T11:47:38.197Z"
   },
   {
    "duration": 11,
    "start_time": "2022-02-28T11:47:38.237Z"
   },
   {
    "duration": 32,
    "start_time": "2022-02-28T11:47:38.250Z"
   },
   {
    "duration": 11,
    "start_time": "2022-02-28T11:47:38.285Z"
   },
   {
    "duration": 80,
    "start_time": "2022-02-28T11:47:38.298Z"
   },
   {
    "duration": 9,
    "start_time": "2022-02-28T11:47:38.381Z"
   },
   {
    "duration": 27,
    "start_time": "2022-02-28T11:47:38.392Z"
   },
   {
    "duration": 61,
    "start_time": "2022-02-28T11:47:38.422Z"
   },
   {
    "duration": 24,
    "start_time": "2022-02-28T11:47:38.485Z"
   },
   {
    "duration": 64,
    "start_time": "2022-02-28T11:47:38.512Z"
   },
   {
    "duration": 12,
    "start_time": "2022-02-28T11:47:38.579Z"
   },
   {
    "duration": 88,
    "start_time": "2022-02-28T11:47:38.593Z"
   },
   {
    "duration": 111,
    "start_time": "2022-02-28T11:47:38.684Z"
   },
   {
    "duration": 118,
    "start_time": "2022-02-28T11:47:38.797Z"
   },
   {
    "duration": 95,
    "start_time": "2022-02-28T11:47:38.917Z"
   },
   {
    "duration": 131,
    "start_time": "2022-02-28T11:47:39.014Z"
   },
   {
    "duration": 162,
    "start_time": "2022-02-28T11:47:39.147Z"
   },
   {
    "duration": 61,
    "start_time": "2022-02-28T11:47:39.315Z"
   },
   {
    "duration": 57,
    "start_time": "2022-02-28T11:47:39.379Z"
   },
   {
    "duration": 89,
    "start_time": "2022-02-28T11:47:39.439Z"
   },
   {
    "duration": 101,
    "start_time": "2022-02-28T11:47:39.531Z"
   },
   {
    "duration": 60,
    "start_time": "2022-02-28T11:47:39.635Z"
   },
   {
    "duration": 33,
    "start_time": "2022-02-28T11:47:39.697Z"
   },
   {
    "duration": 6,
    "start_time": "2022-02-28T11:47:39.732Z"
   },
   {
    "duration": 55,
    "start_time": "2022-02-28T11:47:39.741Z"
   },
   {
    "duration": 156,
    "start_time": "2022-02-28T11:47:39.798Z"
   },
   {
    "duration": 148,
    "start_time": "2022-02-28T11:47:39.957Z"
   },
   {
    "duration": 136,
    "start_time": "2022-02-28T11:47:40.107Z"
   },
   {
    "duration": 40,
    "start_time": "2022-02-28T11:47:40.245Z"
   },
   {
    "duration": 30,
    "start_time": "2022-02-28T11:47:40.287Z"
   },
   {
    "duration": 54,
    "start_time": "2022-02-28T11:47:40.319Z"
   },
   {
    "duration": 9,
    "start_time": "2022-02-28T11:47:40.375Z"
   },
   {
    "duration": 489,
    "start_time": "2022-02-28T11:47:40.386Z"
   },
   {
    "duration": 322,
    "start_time": "2022-02-28T11:47:40.878Z"
   },
   {
    "duration": 347,
    "start_time": "2022-02-28T11:47:41.203Z"
   },
   {
    "duration": 20,
    "start_time": "2022-02-28T11:47:41.553Z"
   },
   {
    "duration": 8,
    "start_time": "2022-02-28T11:47:41.576Z"
   },
   {
    "duration": 11,
    "start_time": "2022-02-28T11:47:41.586Z"
   },
   {
    "duration": 9,
    "start_time": "2022-02-28T11:47:41.600Z"
   },
   {
    "duration": 337,
    "start_time": "2022-02-28T11:47:41.611Z"
   },
   {
    "duration": 333,
    "start_time": "2022-02-28T11:47:41.951Z"
   },
   {
    "duration": 319,
    "start_time": "2022-02-28T11:47:42.287Z"
   },
   {
    "duration": 8,
    "start_time": "2022-02-28T11:47:42.609Z"
   },
   {
    "duration": 10,
    "start_time": "2022-02-28T11:47:42.619Z"
   },
   {
    "duration": 341,
    "start_time": "2022-02-28T11:47:42.632Z"
   },
   {
    "duration": 13,
    "start_time": "2022-02-28T11:47:42.976Z"
   },
   {
    "duration": 8,
    "start_time": "2022-02-28T11:47:42.992Z"
   },
   {
    "duration": 8,
    "start_time": "2022-02-28T11:47:43.002Z"
   },
   {
    "duration": 91,
    "start_time": "2022-02-28T11:47:43.013Z"
   },
   {
    "duration": 16,
    "start_time": "2022-02-28T11:47:43.107Z"
   },
   {
    "duration": 646,
    "start_time": "2022-02-28T11:47:50.717Z"
   },
   {
    "duration": 298,
    "start_time": "2022-02-28T11:48:09.813Z"
   },
   {
    "duration": 562,
    "start_time": "2022-02-28T11:48:15.957Z"
   },
   {
    "duration": 543,
    "start_time": "2022-02-28T11:48:23.797Z"
   },
   {
    "duration": 697,
    "start_time": "2022-02-28T12:04:37.682Z"
   },
   {
    "duration": 301,
    "start_time": "2022-02-28T12:04:49.665Z"
   },
   {
    "duration": 83,
    "start_time": "2022-02-28T12:05:35.059Z"
   },
   {
    "duration": 601,
    "start_time": "2022-02-28T12:08:04.281Z"
   },
   {
    "duration": 422,
    "start_time": "2022-02-28T12:08:15.458Z"
   },
   {
    "duration": 340,
    "start_time": "2022-02-28T12:11:01.567Z"
   },
   {
    "duration": 414,
    "start_time": "2022-02-28T12:11:20.472Z"
   },
   {
    "duration": 9,
    "start_time": "2022-02-28T12:11:31.297Z"
   },
   {
    "duration": 9,
    "start_time": "2022-02-28T12:11:40.913Z"
   },
   {
    "duration": 261,
    "start_time": "2022-02-28T12:12:32.371Z"
   },
   {
    "duration": 100,
    "start_time": "2022-02-28T12:14:00.631Z"
   },
   {
    "duration": 85,
    "start_time": "2022-02-28T12:14:09.526Z"
   },
   {
    "duration": 237,
    "start_time": "2022-02-28T12:14:13.735Z"
   },
   {
    "duration": 6,
    "start_time": "2022-02-28T12:14:33.023Z"
   },
   {
    "duration": 5,
    "start_time": "2022-02-28T12:14:41.103Z"
   },
   {
    "duration": 9,
    "start_time": "2022-02-28T12:14:54.827Z"
   },
   {
    "duration": 9,
    "start_time": "2022-02-28T12:15:07.886Z"
   },
   {
    "duration": 13,
    "start_time": "2022-02-28T12:15:44.994Z"
   },
   {
    "duration": 8,
    "start_time": "2022-02-28T12:16:09.458Z"
   },
   {
    "duration": 233,
    "start_time": "2022-02-28T12:16:38.980Z"
   },
   {
    "duration": 247,
    "start_time": "2022-02-28T12:16:42.108Z"
   },
   {
    "duration": 8,
    "start_time": "2022-02-28T12:16:58.991Z"
   },
   {
    "duration": 8,
    "start_time": "2022-02-28T12:17:07.606Z"
   },
   {
    "duration": 5,
    "start_time": "2022-02-28T12:17:20.748Z"
   },
   {
    "duration": 290,
    "start_time": "2022-02-28T12:19:09.113Z"
   },
   {
    "duration": 6,
    "start_time": "2022-02-28T12:20:54.262Z"
   },
   {
    "duration": 24,
    "start_time": "2022-02-28T12:21:04.799Z"
   },
   {
    "duration": 67,
    "start_time": "2022-02-28T12:21:15.414Z"
   },
   {
    "duration": 193,
    "start_time": "2022-02-28T12:21:25.317Z"
   },
   {
    "duration": 73,
    "start_time": "2022-02-28T12:22:54.305Z"
   },
   {
    "duration": 317,
    "start_time": "2022-02-28T12:24:32.926Z"
   },
   {
    "duration": 222,
    "start_time": "2022-02-28T12:24:43.453Z"
   },
   {
    "duration": 264,
    "start_time": "2022-02-28T12:24:55.397Z"
   },
   {
    "duration": 247,
    "start_time": "2022-02-28T12:24:58.870Z"
   },
   {
    "duration": 2377,
    "start_time": "2022-02-28T12:25:05.663Z"
   },
   {
    "duration": 80,
    "start_time": "2022-02-28T12:25:26.295Z"
   },
   {
    "duration": 233,
    "start_time": "2022-02-28T12:25:36.487Z"
   },
   {
    "duration": 235,
    "start_time": "2022-02-28T12:25:41.488Z"
   },
   {
    "duration": 264,
    "start_time": "2022-02-28T12:25:45.086Z"
   },
   {
    "duration": 100,
    "start_time": "2022-02-28T12:25:49.311Z"
   },
   {
    "duration": 557,
    "start_time": "2022-02-28T12:27:19.060Z"
   },
   {
    "duration": 317,
    "start_time": "2022-02-28T12:27:27.059Z"
   },
   {
    "duration": 74,
    "start_time": "2022-02-28T12:27:50.196Z"
   },
   {
    "duration": 567,
    "start_time": "2022-02-28T12:41:54.164Z"
   },
   {
    "duration": 294,
    "start_time": "2022-02-28T12:42:07.517Z"
   },
   {
    "duration": 84,
    "start_time": "2022-02-28T13:54:35.507Z"
   },
   {
    "duration": 91,
    "start_time": "2022-02-28T14:09:36.476Z"
   },
   {
    "duration": 123,
    "start_time": "2022-02-28T14:09:45.364Z"
   },
   {
    "duration": 45,
    "start_time": "2022-02-28T14:10:28.222Z"
   },
   {
    "duration": 246,
    "start_time": "2022-02-28T14:10:41.103Z"
   },
   {
    "duration": 6,
    "start_time": "2022-02-28T14:10:45.541Z"
   },
   {
    "duration": 262,
    "start_time": "2022-02-28T14:11:23.104Z"
   },
   {
    "duration": 2052,
    "start_time": "2022-02-28T14:11:34.464Z"
   },
   {
    "duration": 1903,
    "start_time": "2022-02-28T14:12:06.970Z"
   },
   {
    "duration": 252,
    "start_time": "2022-02-28T14:12:14.168Z"
   },
   {
    "duration": 24,
    "start_time": "2022-02-28T14:12:55.764Z"
   },
   {
    "duration": 1907,
    "start_time": "2022-02-28T14:13:44.044Z"
   },
   {
    "duration": 1313,
    "start_time": "2022-02-28T14:23:44.573Z"
   },
   {
    "duration": 256,
    "start_time": "2022-02-28T14:23:45.889Z"
   },
   {
    "duration": 34,
    "start_time": "2022-02-28T14:23:46.148Z"
   },
   {
    "duration": 217,
    "start_time": "2022-02-28T14:23:46.185Z"
   },
   {
    "duration": 14,
    "start_time": "2022-02-28T14:23:46.405Z"
   },
   {
    "duration": 23,
    "start_time": "2022-02-28T14:23:46.422Z"
   },
   {
    "duration": 36,
    "start_time": "2022-02-28T14:23:46.448Z"
   },
   {
    "duration": 152,
    "start_time": "2022-02-28T14:23:46.488Z"
   },
   {
    "duration": 30,
    "start_time": "2022-02-28T14:23:46.643Z"
   },
   {
    "duration": 43,
    "start_time": "2022-02-28T14:23:46.675Z"
   },
   {
    "duration": 12,
    "start_time": "2022-02-28T14:23:46.720Z"
   },
   {
    "duration": 14,
    "start_time": "2022-02-28T14:23:46.734Z"
   },
   {
    "duration": 11,
    "start_time": "2022-02-28T14:23:46.774Z"
   },
   {
    "duration": 49,
    "start_time": "2022-02-28T14:23:46.787Z"
   },
   {
    "duration": 37,
    "start_time": "2022-02-28T14:23:46.838Z"
   },
   {
    "duration": 28,
    "start_time": "2022-02-28T14:23:46.877Z"
   },
   {
    "duration": 32,
    "start_time": "2022-02-28T14:23:46.907Z"
   },
   {
    "duration": 46,
    "start_time": "2022-02-28T14:23:46.941Z"
   },
   {
    "duration": 36,
    "start_time": "2022-02-28T14:23:46.990Z"
   },
   {
    "duration": 11,
    "start_time": "2022-02-28T14:23:47.029Z"
   },
   {
    "duration": 95,
    "start_time": "2022-02-28T14:23:47.042Z"
   },
   {
    "duration": 114,
    "start_time": "2022-02-28T14:23:47.139Z"
   },
   {
    "duration": 126,
    "start_time": "2022-02-28T14:23:47.259Z"
   },
   {
    "duration": 104,
    "start_time": "2022-02-28T14:23:47.390Z"
   },
   {
    "duration": 131,
    "start_time": "2022-02-28T14:23:47.497Z"
   },
   {
    "duration": 177,
    "start_time": "2022-02-28T14:23:47.631Z"
   },
   {
    "duration": 85,
    "start_time": "2022-02-28T14:23:47.810Z"
   },
   {
    "duration": 56,
    "start_time": "2022-02-28T14:23:47.898Z"
   },
   {
    "duration": 85,
    "start_time": "2022-02-28T14:23:47.957Z"
   },
   {
    "duration": 114,
    "start_time": "2022-02-28T14:23:48.045Z"
   },
   {
    "duration": 54,
    "start_time": "2022-02-28T14:23:48.161Z"
   },
   {
    "duration": 35,
    "start_time": "2022-02-28T14:23:48.217Z"
   },
   {
    "duration": 7,
    "start_time": "2022-02-28T14:23:48.254Z"
   },
   {
    "duration": 32,
    "start_time": "2022-02-28T14:23:48.274Z"
   },
   {
    "duration": 157,
    "start_time": "2022-02-28T14:23:48.308Z"
   },
   {
    "duration": 144,
    "start_time": "2022-02-28T14:23:48.468Z"
   },
   {
    "duration": 132,
    "start_time": "2022-02-28T14:23:48.615Z"
   },
   {
    "duration": 38,
    "start_time": "2022-02-28T14:23:48.749Z"
   },
   {
    "duration": 33,
    "start_time": "2022-02-28T14:23:48.789Z"
   },
   {
    "duration": 63,
    "start_time": "2022-02-28T14:23:48.824Z"
   },
   {
    "duration": 9,
    "start_time": "2022-02-28T14:23:48.889Z"
   },
   {
    "duration": 732,
    "start_time": "2022-02-28T14:23:48.900Z"
   },
   {
    "duration": 586,
    "start_time": "2022-02-28T14:23:49.634Z"
   },
   {
    "duration": 335,
    "start_time": "2022-02-28T14:23:50.223Z"
   },
   {
    "duration": 338,
    "start_time": "2022-02-28T14:23:50.560Z"
   },
   {
    "duration": 8,
    "start_time": "2022-02-28T14:23:50.900Z"
   },
   {
    "duration": 8,
    "start_time": "2022-02-28T14:23:50.910Z"
   },
   {
    "duration": 182,
    "start_time": "2022-02-28T14:23:50.920Z"
   },
   {
    "duration": 10,
    "start_time": "2022-02-28T14:23:51.105Z"
   },
   {
    "duration": 59,
    "start_time": "2022-02-28T14:23:51.118Z"
   },
   {
    "duration": 326,
    "start_time": "2022-02-28T14:23:51.180Z"
   },
   {
    "duration": 339,
    "start_time": "2022-02-28T14:23:51.508Z"
   },
   {
    "duration": 330,
    "start_time": "2022-02-28T14:23:51.850Z"
   },
   {
    "duration": 8,
    "start_time": "2022-02-28T14:23:52.182Z"
   },
   {
    "duration": 11,
    "start_time": "2022-02-28T14:23:52.192Z"
   },
   {
    "duration": 343,
    "start_time": "2022-02-28T14:23:52.205Z"
   },
   {
    "duration": 8,
    "start_time": "2022-02-28T14:23:52.551Z"
   },
   {
    "duration": 5,
    "start_time": "2022-02-28T14:23:52.574Z"
   },
   {
    "duration": 7,
    "start_time": "2022-02-28T14:23:52.582Z"
   },
   {
    "duration": 156,
    "start_time": "2022-02-28T14:23:52.592Z"
   },
   {
    "duration": 27,
    "start_time": "2022-02-28T14:23:52.751Z"
   },
   {
    "duration": 25,
    "start_time": "2022-02-28T14:23:52.781Z"
   },
   {
    "duration": 142,
    "start_time": "2022-02-28T14:23:52.809Z"
   },
   {
    "duration": 1883,
    "start_time": "2022-02-28T14:23:52.954Z"
   },
   {
    "duration": 255,
    "start_time": "2022-02-28T15:16:03.088Z"
   },
   {
    "duration": 980,
    "start_time": "2022-02-28T15:16:16.768Z"
   },
   {
    "duration": 187,
    "start_time": "2022-02-28T15:16:20.728Z"
   },
   {
    "duration": 179,
    "start_time": "2022-02-28T15:16:54.528Z"
   },
   {
    "duration": 25,
    "start_time": "2022-02-28T15:16:57.958Z"
   },
   {
    "duration": 209,
    "start_time": "2022-02-28T15:17:01.124Z"
   },
   {
    "duration": 2,
    "start_time": "2022-02-28T15:17:11.769Z"
   },
   {
    "duration": 15,
    "start_time": "2022-02-28T15:17:16.913Z"
   },
   {
    "duration": 13,
    "start_time": "2022-02-28T15:17:20.968Z"
   },
   {
    "duration": 248,
    "start_time": "2022-02-28T15:19:04.589Z"
   },
   {
    "duration": 17,
    "start_time": "2022-02-28T15:19:21.135Z"
   },
   {
    "duration": 20,
    "start_time": "2022-02-28T15:19:28.535Z"
   },
   {
    "duration": 221,
    "start_time": "2022-02-28T15:19:37.913Z"
   },
   {
    "duration": 30,
    "start_time": "2022-02-28T15:19:45.484Z"
   },
   {
    "duration": 9,
    "start_time": "2022-02-28T15:19:49.522Z"
   },
   {
    "duration": 8,
    "start_time": "2022-02-28T15:19:52.873Z"
   },
   {
    "duration": 9,
    "start_time": "2022-02-28T15:19:55.788Z"
   },
   {
    "duration": 33,
    "start_time": "2022-02-28T15:20:47.208Z"
   },
   {
    "duration": 8,
    "start_time": "2022-02-28T15:21:01.918Z"
   },
   {
    "duration": 70,
    "start_time": "2022-02-28T15:22:39.351Z"
   },
   {
    "duration": 23,
    "start_time": "2022-02-28T15:23:33.274Z"
   },
   {
    "duration": 24,
    "start_time": "2022-02-28T15:23:37.073Z"
   },
   {
    "duration": 222,
    "start_time": "2022-02-28T15:26:04.193Z"
   },
   {
    "duration": 1091,
    "start_time": "2022-02-28T15:26:22.262Z"
   },
   {
    "duration": 202,
    "start_time": "2022-02-28T15:26:23.355Z"
   },
   {
    "duration": 18,
    "start_time": "2022-02-28T15:26:23.560Z"
   },
   {
    "duration": 185,
    "start_time": "2022-02-28T15:26:23.580Z"
   },
   {
    "duration": 3,
    "start_time": "2022-02-28T15:26:23.767Z"
   },
   {
    "duration": 34,
    "start_time": "2022-02-28T15:26:23.772Z"
   },
   {
    "duration": 12,
    "start_time": "2022-02-28T15:26:23.808Z"
   },
   {
    "duration": 126,
    "start_time": "2022-02-28T15:26:23.823Z"
   },
   {
    "duration": 18,
    "start_time": "2022-02-28T15:26:23.952Z"
   },
   {
    "duration": 34,
    "start_time": "2022-02-28T15:26:23.972Z"
   },
   {
    "duration": 9,
    "start_time": "2022-02-28T15:26:24.009Z"
   },
   {
    "duration": 25,
    "start_time": "2022-02-28T15:26:24.021Z"
   },
   {
    "duration": 10,
    "start_time": "2022-02-28T15:26:24.048Z"
   },
   {
    "duration": 53,
    "start_time": "2022-02-28T15:26:24.060Z"
   },
   {
    "duration": 9,
    "start_time": "2022-02-28T15:26:24.116Z"
   },
   {
    "duration": 26,
    "start_time": "2022-02-28T15:26:24.127Z"
   },
   {
    "duration": 49,
    "start_time": "2022-02-28T15:26:24.155Z"
   },
   {
    "duration": 3,
    "start_time": "2022-02-28T15:26:24.206Z"
   },
   {
    "duration": 42,
    "start_time": "2022-02-28T15:26:24.211Z"
   },
   {
    "duration": 10,
    "start_time": "2022-02-28T15:26:24.255Z"
   },
   {
    "duration": 66,
    "start_time": "2022-02-28T15:26:24.266Z"
   },
   {
    "duration": 79,
    "start_time": "2022-02-28T15:26:24.334Z"
   },
   {
    "duration": 73,
    "start_time": "2022-02-28T15:26:24.415Z"
   },
   {
    "duration": 71,
    "start_time": "2022-02-28T15:26:24.490Z"
   },
   {
    "duration": 97,
    "start_time": "2022-02-28T15:26:24.563Z"
   },
   {
    "duration": 117,
    "start_time": "2022-02-28T15:26:24.661Z"
   },
   {
    "duration": 40,
    "start_time": "2022-02-28T15:26:24.782Z"
   },
   {
    "duration": 40,
    "start_time": "2022-02-28T15:26:24.825Z"
   },
   {
    "duration": 67,
    "start_time": "2022-02-28T15:26:24.867Z"
   },
   {
    "duration": 81,
    "start_time": "2022-02-28T15:26:24.936Z"
   },
   {
    "duration": 33,
    "start_time": "2022-02-28T15:26:25.019Z"
   },
   {
    "duration": 24,
    "start_time": "2022-02-28T15:26:25.054Z"
   },
   {
    "duration": 5,
    "start_time": "2022-02-28T15:26:25.102Z"
   },
   {
    "duration": 23,
    "start_time": "2022-02-28T15:26:25.109Z"
   },
   {
    "duration": 110,
    "start_time": "2022-02-28T15:26:25.134Z"
   },
   {
    "duration": 100,
    "start_time": "2022-02-28T15:26:25.246Z"
   },
   {
    "duration": 91,
    "start_time": "2022-02-28T15:26:25.348Z"
   },
   {
    "duration": 24,
    "start_time": "2022-02-28T15:26:25.441Z"
   },
   {
    "duration": 37,
    "start_time": "2022-02-28T15:26:25.466Z"
   },
   {
    "duration": 24,
    "start_time": "2022-02-28T15:26:25.506Z"
   },
   {
    "duration": 6,
    "start_time": "2022-02-28T15:26:25.532Z"
   },
   {
    "duration": 361,
    "start_time": "2022-02-28T15:26:25.540Z"
   },
   {
    "duration": 373,
    "start_time": "2022-02-28T15:26:25.903Z"
   },
   {
    "duration": 330,
    "start_time": "2022-02-28T15:26:26.278Z"
   },
   {
    "duration": 364,
    "start_time": "2022-02-28T15:26:26.611Z"
   },
   {
    "duration": 8,
    "start_time": "2022-02-28T15:26:26.978Z"
   },
   {
    "duration": 22,
    "start_time": "2022-02-28T15:26:26.988Z"
   },
   {
    "duration": 119,
    "start_time": "2022-02-28T15:26:27.012Z"
   },
   {
    "duration": 6,
    "start_time": "2022-02-28T15:26:27.133Z"
   },
   {
    "duration": 22,
    "start_time": "2022-02-28T15:26:27.141Z"
   },
   {
    "duration": 231,
    "start_time": "2022-02-28T15:26:27.165Z"
   },
   {
    "duration": 219,
    "start_time": "2022-02-28T15:26:27.401Z"
   },
   {
    "duration": 212,
    "start_time": "2022-02-28T15:26:27.622Z"
   },
   {
    "duration": 6,
    "start_time": "2022-02-28T15:26:27.836Z"
   },
   {
    "duration": 11,
    "start_time": "2022-02-28T15:26:27.844Z"
   },
   {
    "duration": 401,
    "start_time": "2022-02-28T15:26:27.858Z"
   },
   {
    "duration": 8,
    "start_time": "2022-02-28T15:26:28.262Z"
   },
   {
    "duration": 9,
    "start_time": "2022-02-28T15:26:28.271Z"
   },
   {
    "duration": 22,
    "start_time": "2022-02-28T15:26:28.283Z"
   },
   {
    "duration": 54,
    "start_time": "2022-02-28T15:26:28.308Z"
   },
   {
    "duration": 15,
    "start_time": "2022-02-28T15:26:28.364Z"
   },
   {
    "duration": 36,
    "start_time": "2022-02-28T15:26:28.381Z"
   },
   {
    "duration": 114,
    "start_time": "2022-02-28T15:26:28.419Z"
   },
   {
    "duration": 1354,
    "start_time": "2022-02-28T15:26:28.535Z"
   },
   {
    "duration": 104,
    "start_time": "2022-02-28T15:34:53.865Z"
   },
   {
    "duration": 51,
    "start_time": "2022-02-28T15:40:32.140Z"
   },
   {
    "duration": 319,
    "start_time": "2022-02-28T15:40:34.811Z"
   },
   {
    "duration": 254,
    "start_time": "2022-02-28T15:42:04.831Z"
   },
   {
    "duration": 69,
    "start_time": "2022-02-28T15:42:19.431Z"
   },
   {
    "duration": 4412,
    "start_time": "2022-02-28T15:42:48.291Z"
   },
   {
    "duration": 251,
    "start_time": "2022-02-28T15:42:56.403Z"
   },
   {
    "duration": 59,
    "start_time": "2022-02-28T15:43:02.087Z"
   },
   {
    "duration": 61,
    "start_time": "2022-02-28T15:43:12.143Z"
   },
   {
    "duration": 358,
    "start_time": "2022-02-28T15:44:03.870Z"
   },
   {
    "duration": 273,
    "start_time": "2022-02-28T15:44:09.566Z"
   },
   {
    "duration": 421,
    "start_time": "2022-02-28T15:44:57.743Z"
   },
   {
    "duration": 362,
    "start_time": "2022-02-28T15:45:16.583Z"
   },
   {
    "duration": 340,
    "start_time": "2022-02-28T15:45:45.091Z"
   },
   {
    "duration": 260,
    "start_time": "2022-02-28T15:45:51.391Z"
   },
   {
    "duration": 491,
    "start_time": "2022-02-28T15:45:57.931Z"
   },
   {
    "duration": 339,
    "start_time": "2022-02-28T15:46:34.381Z"
   },
   {
    "duration": 28,
    "start_time": "2022-02-28T15:48:54.547Z"
   },
   {
    "duration": 79,
    "start_time": "2022-02-28T15:54:43.851Z"
   },
   {
    "duration": 50,
    "start_time": "2022-02-28T15:55:21.759Z"
   },
   {
    "duration": 70,
    "start_time": "2022-02-28T15:55:37.870Z"
   },
   {
    "duration": 143,
    "start_time": "2022-02-28T15:55:49.010Z"
   },
   {
    "duration": 983,
    "start_time": "2022-02-28T15:56:54.494Z"
   },
   {
    "duration": 196,
    "start_time": "2022-02-28T15:56:55.480Z"
   },
   {
    "duration": 31,
    "start_time": "2022-02-28T15:56:55.678Z"
   },
   {
    "duration": 178,
    "start_time": "2022-02-28T15:56:55.711Z"
   },
   {
    "duration": 3,
    "start_time": "2022-02-28T15:56:55.890Z"
   },
   {
    "duration": 25,
    "start_time": "2022-02-28T15:56:55.901Z"
   },
   {
    "duration": 14,
    "start_time": "2022-02-28T15:56:55.927Z"
   },
   {
    "duration": 128,
    "start_time": "2022-02-28T15:56:55.944Z"
   },
   {
    "duration": 17,
    "start_time": "2022-02-28T15:56:56.074Z"
   },
   {
    "duration": 36,
    "start_time": "2022-02-28T15:56:56.093Z"
   },
   {
    "duration": 8,
    "start_time": "2022-02-28T15:56:56.130Z"
   },
   {
    "duration": 10,
    "start_time": "2022-02-28T15:56:56.140Z"
   },
   {
    "duration": 14,
    "start_time": "2022-02-28T15:56:56.152Z"
   },
   {
    "duration": 52,
    "start_time": "2022-02-28T15:56:56.168Z"
   },
   {
    "duration": 8,
    "start_time": "2022-02-28T15:56:56.222Z"
   },
   {
    "duration": 23,
    "start_time": "2022-02-28T15:56:56.231Z"
   },
   {
    "duration": 49,
    "start_time": "2022-02-28T15:56:56.255Z"
   },
   {
    "duration": 3,
    "start_time": "2022-02-28T15:56:56.306Z"
   },
   {
    "duration": 37,
    "start_time": "2022-02-28T15:56:56.311Z"
   },
   {
    "duration": 8,
    "start_time": "2022-02-28T15:56:56.350Z"
   },
   {
    "duration": 62,
    "start_time": "2022-02-28T15:56:56.360Z"
   },
   {
    "duration": 85,
    "start_time": "2022-02-28T15:56:56.424Z"
   },
   {
    "duration": 97,
    "start_time": "2022-02-28T15:56:56.514Z"
   },
   {
    "duration": 67,
    "start_time": "2022-02-28T15:56:56.614Z"
   },
   {
    "duration": 91,
    "start_time": "2022-02-28T15:56:56.683Z"
   },
   {
    "duration": 137,
    "start_time": "2022-02-28T15:56:56.777Z"
   },
   {
    "duration": 42,
    "start_time": "2022-02-28T15:56:56.916Z"
   },
   {
    "duration": 54,
    "start_time": "2022-02-28T15:56:56.960Z"
   },
   {
    "duration": 50,
    "start_time": "2022-02-28T15:56:57.016Z"
   },
   {
    "duration": 94,
    "start_time": "2022-02-28T15:56:57.067Z"
   },
   {
    "duration": 43,
    "start_time": "2022-02-28T15:56:57.163Z"
   },
   {
    "duration": 22,
    "start_time": "2022-02-28T15:56:57.208Z"
   },
   {
    "duration": 5,
    "start_time": "2022-02-28T15:56:57.232Z"
   },
   {
    "duration": 30,
    "start_time": "2022-02-28T15:56:57.238Z"
   },
   {
    "duration": 107,
    "start_time": "2022-02-28T15:56:57.270Z"
   },
   {
    "duration": 95,
    "start_time": "2022-02-28T15:56:57.379Z"
   },
   {
    "duration": 89,
    "start_time": "2022-02-28T15:56:57.476Z"
   },
   {
    "duration": 23,
    "start_time": "2022-02-28T15:56:57.567Z"
   },
   {
    "duration": 27,
    "start_time": "2022-02-28T15:56:57.592Z"
   },
   {
    "duration": 20,
    "start_time": "2022-02-28T15:56:57.622Z"
   },
   {
    "duration": 6,
    "start_time": "2022-02-28T15:56:57.645Z"
   },
   {
    "duration": 430,
    "start_time": "2022-02-28T15:56:57.653Z"
   },
   {
    "duration": 388,
    "start_time": "2022-02-28T15:56:58.085Z"
   },
   {
    "duration": 400,
    "start_time": "2022-02-28T15:56:58.475Z"
   },
   {
    "duration": 365,
    "start_time": "2022-02-28T15:56:58.877Z"
   },
   {
    "duration": 6,
    "start_time": "2022-02-28T15:56:59.244Z"
   },
   {
    "duration": 11,
    "start_time": "2022-02-28T15:56:59.252Z"
   },
   {
    "duration": 140,
    "start_time": "2022-02-28T15:56:59.265Z"
   },
   {
    "duration": 6,
    "start_time": "2022-02-28T15:56:59.407Z"
   },
   {
    "duration": 10,
    "start_time": "2022-02-28T15:56:59.414Z"
   },
   {
    "duration": 269,
    "start_time": "2022-02-28T15:56:59.427Z"
   },
   {
    "duration": 441,
    "start_time": "2022-02-28T15:56:59.700Z"
   },
   {
    "duration": 360,
    "start_time": "2022-02-28T15:57:00.143Z"
   },
   {
    "duration": 6,
    "start_time": "2022-02-28T15:57:00.505Z"
   },
   {
    "duration": 17,
    "start_time": "2022-02-28T15:57:00.513Z"
   },
   {
    "duration": 202,
    "start_time": "2022-02-28T15:57:00.533Z"
   },
   {
    "duration": 7,
    "start_time": "2022-02-28T15:57:00.737Z"
   },
   {
    "duration": 15,
    "start_time": "2022-02-28T15:57:00.745Z"
   },
   {
    "duration": 18,
    "start_time": "2022-02-28T15:57:00.762Z"
   },
   {
    "duration": 49,
    "start_time": "2022-02-28T15:57:00.782Z"
   },
   {
    "duration": 12,
    "start_time": "2022-02-28T15:57:00.833Z"
   },
   {
    "duration": 40,
    "start_time": "2022-02-28T15:57:00.847Z"
   },
   {
    "duration": 106,
    "start_time": "2022-02-28T15:57:00.889Z"
   },
   {
    "duration": 1312,
    "start_time": "2022-02-28T15:57:00.997Z"
   },
   {
    "duration": 309,
    "start_time": "2022-02-28T16:04:45.671Z"
   },
   {
    "duration": 212,
    "start_time": "2022-02-28T16:05:22.858Z"
   },
   {
    "duration": 259,
    "start_time": "2022-02-28T16:06:29.923Z"
   },
   {
    "duration": 66,
    "start_time": "2022-02-28T16:08:12.751Z"
   },
   {
    "duration": 253,
    "start_time": "2022-02-28T16:08:26.310Z"
   },
   {
    "duration": 220,
    "start_time": "2022-02-28T16:08:41.868Z"
   },
   {
    "duration": 291,
    "start_time": "2022-02-28T16:09:16.391Z"
   },
   {
    "duration": 12,
    "start_time": "2022-02-28T16:09:35.492Z"
   },
   {
    "duration": 207,
    "start_time": "2022-02-28T16:09:41.905Z"
   },
   {
    "duration": 240,
    "start_time": "2022-02-28T16:31:51.000Z"
   },
   {
    "duration": 97,
    "start_time": "2022-02-28T16:32:00.904Z"
   },
   {
    "duration": 9,
    "start_time": "2022-02-28T16:32:21.864Z"
   },
   {
    "duration": 9,
    "start_time": "2022-02-28T16:35:28.975Z"
   },
   {
    "duration": 14,
    "start_time": "2022-02-28T16:36:44.702Z"
   },
   {
    "duration": 44,
    "start_time": "2022-02-28T17:11:52.691Z"
   },
   {
    "duration": 42,
    "start_time": "2022-02-28T17:12:27.446Z"
   },
   {
    "duration": 947,
    "start_time": "2022-02-28T17:12:57.155Z"
   },
   {
    "duration": 203,
    "start_time": "2022-02-28T17:12:58.105Z"
   },
   {
    "duration": 18,
    "start_time": "2022-02-28T17:12:58.311Z"
   },
   {
    "duration": 227,
    "start_time": "2022-02-28T17:12:58.331Z"
   },
   {
    "duration": 3,
    "start_time": "2022-02-28T17:12:58.560Z"
   },
   {
    "duration": 40,
    "start_time": "2022-02-28T17:12:58.565Z"
   },
   {
    "duration": 13,
    "start_time": "2022-02-28T17:12:58.607Z"
   },
   {
    "duration": 112,
    "start_time": "2022-02-28T17:12:58.622Z"
   },
   {
    "duration": 17,
    "start_time": "2022-02-28T17:12:58.737Z"
   },
   {
    "duration": 52,
    "start_time": "2022-02-28T17:12:58.757Z"
   },
   {
    "duration": 8,
    "start_time": "2022-02-28T17:12:58.811Z"
   },
   {
    "duration": 25,
    "start_time": "2022-02-28T17:12:58.821Z"
   },
   {
    "duration": 24,
    "start_time": "2022-02-28T17:12:58.848Z"
   },
   {
    "duration": 63,
    "start_time": "2022-02-28T17:12:58.874Z"
   },
   {
    "duration": 8,
    "start_time": "2022-02-28T17:12:58.939Z"
   },
   {
    "duration": 39,
    "start_time": "2022-02-28T17:12:58.949Z"
   },
   {
    "duration": 27,
    "start_time": "2022-02-28T17:12:58.990Z"
   },
   {
    "duration": 23,
    "start_time": "2022-02-28T17:12:59.019Z"
   },
   {
    "duration": 43,
    "start_time": "2022-02-28T17:12:59.044Z"
   },
   {
    "duration": 13,
    "start_time": "2022-02-28T17:12:59.089Z"
   },
   {
    "duration": 78,
    "start_time": "2022-02-28T17:12:59.104Z"
   },
   {
    "duration": 72,
    "start_time": "2022-02-28T17:12:59.184Z"
   },
   {
    "duration": 88,
    "start_time": "2022-02-28T17:12:59.258Z"
   },
   {
    "duration": 69,
    "start_time": "2022-02-28T17:12:59.348Z"
   },
   {
    "duration": 83,
    "start_time": "2022-02-28T17:12:59.419Z"
   },
   {
    "duration": 120,
    "start_time": "2022-02-28T17:12:59.504Z"
   },
   {
    "duration": 42,
    "start_time": "2022-02-28T17:12:59.628Z"
   },
   {
    "duration": 40,
    "start_time": "2022-02-28T17:12:59.673Z"
   },
   {
    "duration": 66,
    "start_time": "2022-02-28T17:12:59.715Z"
   },
   {
    "duration": 74,
    "start_time": "2022-02-28T17:12:59.783Z"
   },
   {
    "duration": 33,
    "start_time": "2022-02-28T17:12:59.859Z"
   },
   {
    "duration": 14,
    "start_time": "2022-02-28T17:12:59.894Z"
   },
   {
    "duration": 43,
    "start_time": "2022-02-28T17:12:59.910Z"
   },
   {
    "duration": 413,
    "start_time": "2022-02-28T17:12:59.954Z"
   },
   {
    "duration": -930,
    "start_time": "2022-02-28T17:13:01.299Z"
   },
   {
    "duration": -932,
    "start_time": "2022-02-28T17:13:01.303Z"
   },
   {
    "duration": -934,
    "start_time": "2022-02-28T17:13:01.306Z"
   },
   {
    "duration": -940,
    "start_time": "2022-02-28T17:13:01.313Z"
   },
   {
    "duration": -943,
    "start_time": "2022-02-28T17:13:01.317Z"
   },
   {
    "duration": -946,
    "start_time": "2022-02-28T17:13:01.321Z"
   },
   {
    "duration": -947,
    "start_time": "2022-02-28T17:13:01.324Z"
   },
   {
    "duration": -950,
    "start_time": "2022-02-28T17:13:01.328Z"
   },
   {
    "duration": -952,
    "start_time": "2022-02-28T17:13:01.331Z"
   },
   {
    "duration": -954,
    "start_time": "2022-02-28T17:13:01.334Z"
   },
   {
    "duration": -956,
    "start_time": "2022-02-28T17:13:01.337Z"
   },
   {
    "duration": -959,
    "start_time": "2022-02-28T17:13:01.341Z"
   },
   {
    "duration": -961,
    "start_time": "2022-02-28T17:13:01.344Z"
   },
   {
    "duration": -963,
    "start_time": "2022-02-28T17:13:01.347Z"
   },
   {
    "duration": -966,
    "start_time": "2022-02-28T17:13:01.351Z"
   },
   {
    "duration": -968,
    "start_time": "2022-02-28T17:13:01.354Z"
   },
   {
    "duration": -970,
    "start_time": "2022-02-28T17:13:01.357Z"
   },
   {
    "duration": -972,
    "start_time": "2022-02-28T17:13:01.360Z"
   },
   {
    "duration": -980,
    "start_time": "2022-02-28T17:13:01.369Z"
   },
   {
    "duration": -981,
    "start_time": "2022-02-28T17:13:01.372Z"
   },
   {
    "duration": -1045,
    "start_time": "2022-02-28T17:13:01.437Z"
   },
   {
    "duration": -1083,
    "start_time": "2022-02-28T17:13:01.476Z"
   },
   {
    "duration": -1086,
    "start_time": "2022-02-28T17:13:01.480Z"
   },
   {
    "duration": -1089,
    "start_time": "2022-02-28T17:13:01.484Z"
   },
   {
    "duration": -1091,
    "start_time": "2022-02-28T17:13:01.487Z"
   },
   {
    "duration": -1094,
    "start_time": "2022-02-28T17:13:01.491Z"
   },
   {
    "duration": -1096,
    "start_time": "2022-02-28T17:13:01.494Z"
   },
   {
    "duration": -1098,
    "start_time": "2022-02-28T17:13:01.497Z"
   },
   {
    "duration": -1100,
    "start_time": "2022-02-28T17:13:01.500Z"
   },
   {
    "duration": -1103,
    "start_time": "2022-02-28T17:13:01.504Z"
   },
   {
    "duration": -1105,
    "start_time": "2022-02-28T17:13:01.507Z"
   },
   {
    "duration": -1123,
    "start_time": "2022-02-28T17:13:01.525Z"
   },
   {
    "duration": -1128,
    "start_time": "2022-02-28T17:13:01.531Z"
   },
   {
    "duration": 19,
    "start_time": "2022-02-28T17:13:31.295Z"
   },
   {
    "duration": 22,
    "start_time": "2022-02-28T17:15:56.691Z"
   },
   {
    "duration": 7,
    "start_time": "2022-02-28T17:16:06.522Z"
   },
   {
    "duration": 21,
    "start_time": "2022-02-28T17:16:12.782Z"
   },
   {
    "duration": 93,
    "start_time": "2022-02-28T17:16:17.162Z"
   },
   {
    "duration": 89,
    "start_time": "2022-02-28T17:16:21.294Z"
   },
   {
    "duration": 81,
    "start_time": "2022-02-28T17:16:24.023Z"
   },
   {
    "duration": 21,
    "start_time": "2022-02-28T17:17:46.686Z"
   },
   {
    "duration": 21,
    "start_time": "2022-02-28T17:18:05.271Z"
   },
   {
    "duration": 20,
    "start_time": "2022-02-28T17:18:39.054Z"
   },
   {
    "duration": 7,
    "start_time": "2022-02-28T17:18:42.362Z"
   },
   {
    "duration": 384,
    "start_time": "2022-02-28T17:18:44.628Z"
   },
   {
    "duration": 332,
    "start_time": "2022-02-28T17:18:58.540Z"
   },
   {
    "duration": 21,
    "start_time": "2022-02-28T17:19:05.304Z"
   },
   {
    "duration": 20,
    "start_time": "2022-02-28T17:19:09.163Z"
   },
   {
    "duration": 272,
    "start_time": "2022-02-28T17:19:17.304Z"
   },
   {
    "duration": 371,
    "start_time": "2022-02-28T17:19:34.135Z"
   },
   {
    "duration": 7,
    "start_time": "2022-02-28T17:19:47.627Z"
   },
   {
    "duration": 5,
    "start_time": "2022-02-28T17:19:50.348Z"
   },
   {
    "duration": 100,
    "start_time": "2022-02-28T17:19:56.715Z"
   },
   {
    "duration": 6,
    "start_time": "2022-02-28T17:20:29.724Z"
   },
   {
    "duration": 7,
    "start_time": "2022-02-28T17:20:32.486Z"
   },
   {
    "duration": 238,
    "start_time": "2022-02-28T17:20:36.414Z"
   },
   {
    "duration": 418,
    "start_time": "2022-02-28T17:20:40.489Z"
   },
   {
    "duration": 337,
    "start_time": "2022-02-28T17:20:46.220Z"
   },
   {
    "duration": 108,
    "start_time": "2022-02-28T17:21:35.513Z"
   },
   {
    "duration": 246,
    "start_time": "2022-02-28T17:24:37.116Z"
   },
   {
    "duration": 17,
    "start_time": "2022-02-28T17:25:46.352Z"
   },
   {
    "duration": 183,
    "start_time": "2022-02-28T17:29:51.672Z"
   },
   {
    "duration": 353,
    "start_time": "2022-02-28T17:29:58.153Z"
   },
   {
    "duration": 259,
    "start_time": "2022-02-28T17:30:04.612Z"
   },
   {
    "duration": 5,
    "start_time": "2022-02-28T17:31:04.485Z"
   },
   {
    "duration": 5,
    "start_time": "2022-02-28T17:31:18.005Z"
   },
   {
    "duration": 213,
    "start_time": "2022-02-28T17:35:48.350Z"
   },
   {
    "duration": 16,
    "start_time": "2022-02-28T17:44:46.802Z"
   },
   {
    "duration": 16,
    "start_time": "2022-02-28T17:45:08.902Z"
   },
   {
    "duration": 212,
    "start_time": "2022-02-28T17:55:28.982Z"
   },
   {
    "duration": 3,
    "start_time": "2022-02-28T17:56:14.845Z"
   },
   {
    "duration": 208,
    "start_time": "2022-02-28T17:56:38.935Z"
   },
   {
    "duration": 167,
    "start_time": "2022-02-28T17:57:19.465Z"
   },
   {
    "duration": 794,
    "start_time": "2022-02-28T17:57:27.762Z"
   },
   {
    "duration": 881,
    "start_time": "2022-02-28T18:00:21.720Z"
   },
   {
    "duration": 765,
    "start_time": "2022-02-28T18:00:53.099Z"
   },
   {
    "duration": 804,
    "start_time": "2022-02-28T18:01:04.265Z"
   },
   {
    "duration": 70,
    "start_time": "2022-02-28T18:02:43.042Z"
   },
   {
    "duration": 71,
    "start_time": "2022-02-28T18:02:51.309Z"
   },
   {
    "duration": 70,
    "start_time": "2022-02-28T18:02:54.882Z"
   },
   {
    "duration": 1213,
    "start_time": "2022-02-28T18:03:01.440Z"
   },
   {
    "duration": 1114,
    "start_time": "2022-02-28T18:03:52.834Z"
   },
   {
    "duration": 1144,
    "start_time": "2022-02-28T18:04:03.502Z"
   },
   {
    "duration": 11,
    "start_time": "2022-02-28T18:18:17.749Z"
   },
   {
    "duration": 6,
    "start_time": "2022-02-28T18:22:54.054Z"
   },
   {
    "duration": 6,
    "start_time": "2022-02-28T18:23:12.120Z"
   },
   {
    "duration": 9,
    "start_time": "2022-02-28T18:23:15.376Z"
   },
   {
    "duration": 12,
    "start_time": "2022-02-28T18:25:16.428Z"
   },
   {
    "duration": 10,
    "start_time": "2022-02-28T18:25:25.352Z"
   },
   {
    "duration": 9,
    "start_time": "2022-02-28T18:25:35.620Z"
   },
   {
    "duration": 239,
    "start_time": "2022-02-28T18:26:42.283Z"
   },
   {
    "duration": 234,
    "start_time": "2022-02-28T18:26:50.421Z"
   },
   {
    "duration": 13,
    "start_time": "2022-02-28T18:27:13.393Z"
   },
   {
    "duration": 241,
    "start_time": "2022-02-28T18:27:29.000Z"
   },
   {
    "duration": 181,
    "start_time": "2022-02-28T18:28:01.759Z"
   },
   {
    "duration": 1215,
    "start_time": "2022-02-28T18:31:17.530Z"
   },
   {
    "duration": 1132,
    "start_time": "2022-02-28T18:32:34.735Z"
   },
   {
    "duration": 3447,
    "start_time": "2022-02-28T18:35:33.513Z"
   },
   {
    "duration": 3422,
    "start_time": "2022-02-28T18:39:50.964Z"
   },
   {
    "duration": 3569,
    "start_time": "2022-02-28T18:41:39.606Z"
   },
   {
    "duration": 3578,
    "start_time": "2022-02-28T18:44:21.040Z"
   },
   {
    "duration": 2690,
    "start_time": "2022-02-28T18:45:19.498Z"
   },
   {
    "duration": 2623,
    "start_time": "2022-02-28T18:45:47.542Z"
   },
   {
    "duration": 2808,
    "start_time": "2022-02-28T18:46:21.508Z"
   },
   {
    "duration": 33,
    "start_time": "2022-02-28T18:56:05.098Z"
   },
   {
    "duration": 269,
    "start_time": "2022-02-28T18:56:10.634Z"
   },
   {
    "duration": 19,
    "start_time": "2022-02-28T19:00:33.304Z"
   },
   {
    "duration": 3,
    "start_time": "2022-02-28T19:01:19.638Z"
   },
   {
    "duration": 1272,
    "start_time": "2022-02-28T19:01:22.506Z"
   },
   {
    "duration": 73,
    "start_time": "2022-02-28T19:03:07.472Z"
   },
   {
    "duration": 70,
    "start_time": "2022-02-28T19:29:44.485Z"
   },
   {
    "duration": 1114,
    "start_time": "2022-02-28T19:41:54.538Z"
   },
   {
    "duration": 187,
    "start_time": "2022-02-28T19:41:55.654Z"
   },
   {
    "duration": 17,
    "start_time": "2022-02-28T19:41:55.843Z"
   },
   {
    "duration": 182,
    "start_time": "2022-02-28T19:41:55.862Z"
   },
   {
    "duration": 3,
    "start_time": "2022-02-28T19:41:56.046Z"
   },
   {
    "duration": 21,
    "start_time": "2022-02-28T19:41:56.051Z"
   },
   {
    "duration": 35,
    "start_time": "2022-02-28T19:41:56.074Z"
   },
   {
    "duration": 113,
    "start_time": "2022-02-28T19:41:56.113Z"
   },
   {
    "duration": 19,
    "start_time": "2022-02-28T19:41:56.229Z"
   },
   {
    "duration": 30,
    "start_time": "2022-02-28T19:41:56.250Z"
   },
   {
    "duration": 22,
    "start_time": "2022-02-28T19:41:56.282Z"
   },
   {
    "duration": 10,
    "start_time": "2022-02-28T19:41:56.307Z"
   },
   {
    "duration": 11,
    "start_time": "2022-02-28T19:41:56.319Z"
   },
   {
    "duration": 37,
    "start_time": "2022-02-28T19:41:56.332Z"
   },
   {
    "duration": 38,
    "start_time": "2022-02-28T19:41:56.371Z"
   },
   {
    "duration": 25,
    "start_time": "2022-02-28T19:41:56.411Z"
   },
   {
    "duration": 24,
    "start_time": "2022-02-28T19:41:56.438Z"
   },
   {
    "duration": 2,
    "start_time": "2022-02-28T19:41:56.464Z"
   },
   {
    "duration": 58,
    "start_time": "2022-02-28T19:41:56.468Z"
   },
   {
    "duration": 9,
    "start_time": "2022-02-28T19:41:56.528Z"
   },
   {
    "duration": 72,
    "start_time": "2022-02-28T19:41:56.538Z"
   },
   {
    "duration": 71,
    "start_time": "2022-02-28T19:41:56.612Z"
   },
   {
    "duration": 104,
    "start_time": "2022-02-28T19:41:56.687Z"
   },
   {
    "duration": 78,
    "start_time": "2022-02-28T19:41:56.794Z"
   },
   {
    "duration": 100,
    "start_time": "2022-02-28T19:41:56.874Z"
   },
   {
    "duration": 125,
    "start_time": "2022-02-28T19:41:56.977Z"
   },
   {
    "duration": 40,
    "start_time": "2022-02-28T19:41:57.104Z"
   },
   {
    "duration": 58,
    "start_time": "2022-02-28T19:41:57.146Z"
   },
   {
    "duration": 49,
    "start_time": "2022-02-28T19:41:57.206Z"
   },
   {
    "duration": 91,
    "start_time": "2022-02-28T19:41:57.257Z"
   },
   {
    "duration": 52,
    "start_time": "2022-02-28T19:41:57.350Z"
   },
   {
    "duration": 9,
    "start_time": "2022-02-28T19:41:57.404Z"
   },
   {
    "duration": 21,
    "start_time": "2022-02-28T19:41:57.415Z"
   },
   {
    "duration": 23,
    "start_time": "2022-02-28T19:41:57.438Z"
   },
   {
    "duration": 50,
    "start_time": "2022-02-28T19:41:57.463Z"
   },
   {
    "duration": 6,
    "start_time": "2022-02-28T19:41:57.515Z"
   },
   {
    "duration": 28,
    "start_time": "2022-02-28T19:41:57.523Z"
   },
   {
    "duration": 106,
    "start_time": "2022-02-28T19:41:57.553Z"
   },
   {
    "duration": 94,
    "start_time": "2022-02-28T19:41:57.661Z"
   },
   {
    "duration": 91,
    "start_time": "2022-02-28T19:41:57.756Z"
   },
   {
    "duration": 21,
    "start_time": "2022-02-28T19:41:57.849Z"
   },
   {
    "duration": 38,
    "start_time": "2022-02-28T19:41:57.873Z"
   },
   {
    "duration": 23,
    "start_time": "2022-02-28T19:41:57.913Z"
   },
   {
    "duration": 7,
    "start_time": "2022-02-28T19:41:57.938Z"
   },
   {
    "duration": 309,
    "start_time": "2022-02-28T19:41:57.947Z"
   },
   {
    "duration": 431,
    "start_time": "2022-02-28T19:41:58.259Z"
   },
   {
    "duration": 377,
    "start_time": "2022-02-28T19:41:58.692Z"
   },
   {
    "duration": 465,
    "start_time": "2022-02-28T19:41:59.071Z"
   },
   {
    "duration": 6,
    "start_time": "2022-02-28T19:41:59.538Z"
   },
   {
    "duration": 12,
    "start_time": "2022-02-28T19:41:59.546Z"
   },
   {
    "duration": 42,
    "start_time": "2022-02-28T19:41:59.560Z"
   },
   {
    "duration": 7,
    "start_time": "2022-02-28T19:41:59.604Z"
   },
   {
    "duration": 12,
    "start_time": "2022-02-28T19:41:59.613Z"
   },
   {
    "duration": 280,
    "start_time": "2022-02-28T19:41:59.627Z"
   },
   {
    "duration": 370,
    "start_time": "2022-02-28T19:41:59.909Z"
   },
   {
    "duration": 467,
    "start_time": "2022-02-28T19:42:00.281Z"
   },
   {
    "duration": 16,
    "start_time": "2022-02-28T19:42:00.749Z"
   },
   {
    "duration": 3,
    "start_time": "2022-02-28T19:42:00.767Z"
   },
   {
    "duration": 29,
    "start_time": "2022-02-28T19:42:00.771Z"
   },
   {
    "duration": 1270,
    "start_time": "2022-02-28T19:42:00.803Z"
   },
   {
    "duration": 3108,
    "start_time": "2022-02-28T19:42:02.075Z"
   },
   {
    "duration": 282,
    "start_time": "2022-02-28T19:42:05.186Z"
   },
   {
    "duration": 6,
    "start_time": "2022-02-28T19:42:05.470Z"
   },
   {
    "duration": 11,
    "start_time": "2022-02-28T19:42:05.477Z"
   },
   {
    "duration": 5,
    "start_time": "2022-02-28T19:42:05.502Z"
   },
   {
    "duration": 39,
    "start_time": "2022-02-28T19:42:05.508Z"
   },
   {
    "duration": 13,
    "start_time": "2022-02-28T19:42:05.548Z"
   },
   {
    "duration": 44,
    "start_time": "2022-02-28T19:42:05.567Z"
   },
   {
    "duration": 8,
    "start_time": "2022-02-28T19:42:05.612Z"
   },
   {
    "duration": 1354,
    "start_time": "2022-02-28T19:42:05.622Z"
   },
   {
    "duration": 1083,
    "start_time": "2022-02-28T21:18:09.796Z"
   },
   {
    "duration": 169,
    "start_time": "2022-02-28T21:18:10.881Z"
   },
   {
    "duration": 19,
    "start_time": "2022-02-28T21:18:11.052Z"
   },
   {
    "duration": 150,
    "start_time": "2022-02-28T21:18:11.072Z"
   },
   {
    "duration": 2,
    "start_time": "2022-02-28T21:18:11.224Z"
   },
   {
    "duration": 14,
    "start_time": "2022-02-28T21:18:11.227Z"
   },
   {
    "duration": 25,
    "start_time": "2022-02-28T21:18:11.243Z"
   },
   {
    "duration": 105,
    "start_time": "2022-02-28T21:18:11.270Z"
   },
   {
    "duration": 14,
    "start_time": "2022-02-28T21:18:11.377Z"
   },
   {
    "duration": 25,
    "start_time": "2022-02-28T21:18:11.393Z"
   },
   {
    "duration": 6,
    "start_time": "2022-02-28T21:18:11.420Z"
   },
   {
    "duration": 6,
    "start_time": "2022-02-28T21:18:11.428Z"
   },
   {
    "duration": 23,
    "start_time": "2022-02-28T21:18:11.436Z"
   },
   {
    "duration": 33,
    "start_time": "2022-02-28T21:18:11.460Z"
   },
   {
    "duration": 7,
    "start_time": "2022-02-28T21:18:11.495Z"
   },
   {
    "duration": 19,
    "start_time": "2022-02-28T21:18:11.504Z"
   },
   {
    "duration": 45,
    "start_time": "2022-02-28T21:18:11.525Z"
   },
   {
    "duration": 2,
    "start_time": "2022-02-28T21:18:11.572Z"
   },
   {
    "duration": 29,
    "start_time": "2022-02-28T21:18:11.576Z"
   },
   {
    "duration": 7,
    "start_time": "2022-02-28T21:18:11.607Z"
   },
   {
    "duration": 66,
    "start_time": "2022-02-28T21:18:11.616Z"
   },
   {
    "duration": 62,
    "start_time": "2022-02-28T21:18:11.684Z"
   },
   {
    "duration": 80,
    "start_time": "2022-02-28T21:18:11.760Z"
   },
   {
    "duration": 72,
    "start_time": "2022-02-28T21:18:11.842Z"
   },
   {
    "duration": 86,
    "start_time": "2022-02-28T21:18:11.916Z"
   },
   {
    "duration": 125,
    "start_time": "2022-02-28T21:18:12.004Z"
   },
   {
    "duration": 46,
    "start_time": "2022-02-28T21:18:12.131Z"
   },
   {
    "duration": 36,
    "start_time": "2022-02-28T21:18:12.179Z"
   },
   {
    "duration": 54,
    "start_time": "2022-02-28T21:18:12.217Z"
   },
   {
    "duration": 70,
    "start_time": "2022-02-28T21:18:12.273Z"
   },
   {
    "duration": 39,
    "start_time": "2022-02-28T21:18:12.345Z"
   },
   {
    "duration": 8,
    "start_time": "2022-02-28T21:18:12.385Z"
   },
   {
    "duration": 12,
    "start_time": "2022-02-28T21:18:12.395Z"
   },
   {
    "duration": 17,
    "start_time": "2022-02-28T21:18:12.408Z"
   },
   {
    "duration": 48,
    "start_time": "2022-02-28T21:18:12.427Z"
   },
   {
    "duration": 5,
    "start_time": "2022-02-28T21:18:12.476Z"
   },
   {
    "duration": 22,
    "start_time": "2022-02-28T21:18:12.482Z"
   },
   {
    "duration": 96,
    "start_time": "2022-02-28T21:18:12.506Z"
   },
   {
    "duration": 90,
    "start_time": "2022-02-28T21:18:12.603Z"
   },
   {
    "duration": 79,
    "start_time": "2022-02-28T21:18:12.695Z"
   },
   {
    "duration": 17,
    "start_time": "2022-02-28T21:18:12.776Z"
   },
   {
    "duration": 17,
    "start_time": "2022-02-28T21:18:12.795Z"
   },
   {
    "duration": 17,
    "start_time": "2022-02-28T21:18:12.813Z"
   },
   {
    "duration": 30,
    "start_time": "2022-02-28T21:18:12.831Z"
   },
   {
    "duration": 263,
    "start_time": "2022-02-28T21:18:12.863Z"
   },
   {
    "duration": 344,
    "start_time": "2022-02-28T21:18:13.127Z"
   },
   {
    "duration": 359,
    "start_time": "2022-02-28T21:18:13.473Z"
   },
   {
    "duration": 431,
    "start_time": "2022-02-28T21:18:13.833Z"
   },
   {
    "duration": 6,
    "start_time": "2022-02-28T21:18:14.266Z"
   },
   {
    "duration": 6,
    "start_time": "2022-02-28T21:18:14.274Z"
   },
   {
    "duration": 15,
    "start_time": "2022-02-28T21:18:14.282Z"
   },
   {
    "duration": 5,
    "start_time": "2022-02-28T21:18:14.298Z"
   },
   {
    "duration": 9,
    "start_time": "2022-02-28T21:18:14.305Z"
   },
   {
    "duration": 287,
    "start_time": "2022-02-28T21:18:14.316Z"
   },
   {
    "duration": 363,
    "start_time": "2022-02-28T21:18:14.604Z"
   },
   {
    "duration": 344,
    "start_time": "2022-02-28T21:18:14.969Z"
   },
   {
    "duration": 15,
    "start_time": "2022-02-28T21:18:15.315Z"
   },
   {
    "duration": 2,
    "start_time": "2022-02-28T21:18:15.332Z"
   },
   {
    "duration": 3,
    "start_time": "2022-02-28T21:18:15.358Z"
   },
   {
    "duration": 1080,
    "start_time": "2022-02-28T21:18:15.362Z"
   },
   {
    "duration": 2615,
    "start_time": "2022-02-28T21:18:16.444Z"
   },
   {
    "duration": 253,
    "start_time": "2022-02-28T21:18:19.060Z"
   },
   {
    "duration": 5,
    "start_time": "2022-02-28T21:18:19.315Z"
   },
   {
    "duration": 5,
    "start_time": "2022-02-28T21:18:19.322Z"
   },
   {
    "duration": 5,
    "start_time": "2022-02-28T21:18:19.328Z"
   },
   {
    "duration": 36,
    "start_time": "2022-02-28T21:18:19.334Z"
   },
   {
    "duration": 10,
    "start_time": "2022-02-28T21:18:19.372Z"
   },
   {
    "duration": 14,
    "start_time": "2022-02-28T21:18:19.386Z"
   },
   {
    "duration": 10,
    "start_time": "2022-02-28T21:18:19.401Z"
   },
   {
    "duration": 1478,
    "start_time": "2022-02-28T21:18:19.413Z"
   },
   {
    "duration": 6,
    "start_time": "2022-02-28T21:23:39.329Z"
   },
   {
    "duration": 60,
    "start_time": "2022-02-28T21:23:47.967Z"
   },
   {
    "duration": 66,
    "start_time": "2022-02-28T21:26:01.182Z"
   },
   {
    "duration": 24,
    "start_time": "2022-02-28T21:28:39.820Z"
   },
   {
    "duration": 4,
    "start_time": "2022-02-28T21:28:48.578Z"
   },
   {
    "duration": 70,
    "start_time": "2022-02-28T21:32:01.955Z"
   },
   {
    "duration": 5,
    "start_time": "2022-02-28T21:33:41.070Z"
   },
   {
    "duration": 5,
    "start_time": "2022-02-28T21:33:50.923Z"
   },
   {
    "duration": 4,
    "start_time": "2022-02-28T21:36:59.614Z"
   },
   {
    "duration": 4,
    "start_time": "2022-02-28T21:37:04.294Z"
   },
   {
    "duration": 316,
    "start_time": "2022-02-28T21:37:12.838Z"
   },
   {
    "duration": 205,
    "start_time": "2022-02-28T21:37:20.975Z"
   },
   {
    "duration": 183,
    "start_time": "2022-02-28T21:37:29.039Z"
   },
   {
    "duration": 4,
    "start_time": "2022-02-28T21:37:33.359Z"
   },
   {
    "duration": 5,
    "start_time": "2022-02-28T21:38:35.065Z"
   },
   {
    "duration": 4,
    "start_time": "2022-02-28T21:38:46.658Z"
   },
   {
    "duration": 4,
    "start_time": "2022-02-28T21:38:50.937Z"
   },
   {
    "duration": 6,
    "start_time": "2022-02-28T21:39:02.874Z"
   },
   {
    "duration": 6,
    "start_time": "2022-02-28T21:39:10.674Z"
   },
   {
    "duration": 5,
    "start_time": "2022-02-28T21:39:56.620Z"
   },
   {
    "duration": 6,
    "start_time": "2022-02-28T21:40:07.293Z"
   },
   {
    "duration": 6,
    "start_time": "2022-02-28T21:40:35.286Z"
   },
   {
    "duration": 9,
    "start_time": "2022-02-28T21:41:09.327Z"
   },
   {
    "duration": 15,
    "start_time": "2022-02-28T21:41:16.933Z"
   },
   {
    "duration": 15,
    "start_time": "2022-02-28T21:41:34.536Z"
   },
   {
    "duration": 196,
    "start_time": "2022-02-28T21:41:48.457Z"
   },
   {
    "duration": 220,
    "start_time": "2022-02-28T21:41:55.649Z"
   },
   {
    "duration": 213,
    "start_time": "2022-02-28T21:42:03.689Z"
   },
   {
    "duration": 15,
    "start_time": "2022-02-28T21:42:13.586Z"
   },
   {
    "duration": 15,
    "start_time": "2022-02-28T21:42:22.882Z"
   },
   {
    "duration": 16,
    "start_time": "2022-02-28T21:42:29.330Z"
   },
   {
    "duration": 328,
    "start_time": "2022-03-01T07:00:02.634Z"
   },
   {
    "duration": 1422,
    "start_time": "2022-03-01T07:00:12.132Z"
   },
   {
    "duration": 275,
    "start_time": "2022-03-01T07:00:13.557Z"
   },
   {
    "duration": 20,
    "start_time": "2022-03-01T07:00:13.835Z"
   },
   {
    "duration": 258,
    "start_time": "2022-03-01T07:00:13.859Z"
   },
   {
    "duration": 3,
    "start_time": "2022-03-01T07:00:14.120Z"
   },
   {
    "duration": 21,
    "start_time": "2022-03-01T07:00:14.126Z"
   },
   {
    "duration": 38,
    "start_time": "2022-03-01T07:00:14.149Z"
   },
   {
    "duration": 137,
    "start_time": "2022-03-01T07:00:14.190Z"
   },
   {
    "duration": 21,
    "start_time": "2022-03-01T07:00:14.331Z"
   },
   {
    "duration": 42,
    "start_time": "2022-03-01T07:00:14.355Z"
   },
   {
    "duration": 10,
    "start_time": "2022-03-01T07:00:14.400Z"
   },
   {
    "duration": 9,
    "start_time": "2022-03-01T07:00:14.412Z"
   },
   {
    "duration": 10,
    "start_time": "2022-03-01T07:00:14.424Z"
   },
   {
    "duration": 82,
    "start_time": "2022-03-01T07:00:14.437Z"
   },
   {
    "duration": 9,
    "start_time": "2022-03-01T07:00:14.522Z"
   },
   {
    "duration": 53,
    "start_time": "2022-03-01T07:00:14.533Z"
   },
   {
    "duration": 32,
    "start_time": "2022-03-01T07:00:14.589Z"
   },
   {
    "duration": 3,
    "start_time": "2022-03-01T07:00:14.623Z"
   },
   {
    "duration": 67,
    "start_time": "2022-03-01T07:00:14.629Z"
   },
   {
    "duration": 12,
    "start_time": "2022-03-01T07:00:14.699Z"
   },
   {
    "duration": 87,
    "start_time": "2022-03-01T07:00:14.714Z"
   },
   {
    "duration": 98,
    "start_time": "2022-03-01T07:00:14.803Z"
   },
   {
    "duration": 125,
    "start_time": "2022-03-01T07:00:14.908Z"
   },
   {
    "duration": 96,
    "start_time": "2022-03-01T07:00:15.037Z"
   },
   {
    "duration": 126,
    "start_time": "2022-03-01T07:00:15.135Z"
   },
   {
    "duration": 171,
    "start_time": "2022-03-01T07:00:15.263Z"
   },
   {
    "duration": 64,
    "start_time": "2022-03-01T07:00:15.436Z"
   },
   {
    "duration": 54,
    "start_time": "2022-03-01T07:00:15.502Z"
   },
   {
    "duration": 82,
    "start_time": "2022-03-01T07:00:15.559Z"
   },
   {
    "duration": 112,
    "start_time": "2022-03-01T07:00:15.643Z"
   },
   {
    "duration": 57,
    "start_time": "2022-03-01T07:00:15.758Z"
   },
   {
    "duration": 10,
    "start_time": "2022-03-01T07:00:15.818Z"
   },
   {
    "duration": 22,
    "start_time": "2022-03-01T07:00:15.830Z"
   },
   {
    "duration": 52,
    "start_time": "2022-03-01T07:00:15.854Z"
   },
   {
    "duration": 30,
    "start_time": "2022-03-01T07:00:15.908Z"
   },
   {
    "duration": 41,
    "start_time": "2022-03-01T07:00:15.941Z"
   },
   {
    "duration": 28,
    "start_time": "2022-03-01T07:00:15.985Z"
   },
   {
    "duration": 159,
    "start_time": "2022-03-01T07:00:16.016Z"
   },
   {
    "duration": 182,
    "start_time": "2022-03-01T07:00:16.178Z"
   },
   {
    "duration": 251,
    "start_time": "2022-03-01T07:00:16.363Z"
   },
   {
    "duration": 38,
    "start_time": "2022-03-01T07:00:16.617Z"
   },
   {
    "duration": 58,
    "start_time": "2022-03-01T07:00:16.657Z"
   },
   {
    "duration": 42,
    "start_time": "2022-03-01T07:00:16.719Z"
   },
   {
    "duration": 10,
    "start_time": "2022-03-01T07:00:16.783Z"
   },
   {
    "duration": 415,
    "start_time": "2022-03-01T07:00:16.796Z"
   },
   {
    "duration": 657,
    "start_time": "2022-03-01T07:00:17.213Z"
   },
   {
    "duration": 571,
    "start_time": "2022-03-01T07:00:17.872Z"
   },
   {
    "duration": 656,
    "start_time": "2022-03-01T07:00:18.446Z"
   },
   {
    "duration": 8,
    "start_time": "2022-03-01T07:00:19.105Z"
   },
   {
    "duration": 13,
    "start_time": "2022-03-01T07:00:19.116Z"
   },
   {
    "duration": 61,
    "start_time": "2022-03-01T07:00:19.132Z"
   },
   {
    "duration": 10,
    "start_time": "2022-03-01T07:00:19.196Z"
   },
   {
    "duration": 13,
    "start_time": "2022-03-01T07:00:19.209Z"
   },
   {
    "duration": 625,
    "start_time": "2022-03-01T07:00:19.225Z"
   },
   {
    "duration": 544,
    "start_time": "2022-03-01T07:00:19.853Z"
   },
   {
    "duration": 566,
    "start_time": "2022-03-01T07:00:20.401Z"
   },
   {
    "duration": 31,
    "start_time": "2022-03-01T07:00:20.969Z"
   },
   {
    "duration": 3,
    "start_time": "2022-03-01T07:00:21.002Z"
   },
   {
    "duration": 9,
    "start_time": "2022-03-01T07:00:21.008Z"
   },
   {
    "duration": 1910,
    "start_time": "2022-03-01T07:00:21.019Z"
   },
   {
    "duration": 4298,
    "start_time": "2022-03-01T07:00:22.931Z"
   },
   {
    "duration": 405,
    "start_time": "2022-03-01T07:00:27.232Z"
   },
   {
    "duration": 8,
    "start_time": "2022-03-01T07:00:27.640Z"
   },
   {
    "duration": 19,
    "start_time": "2022-03-01T07:00:27.650Z"
   },
   {
    "duration": 27,
    "start_time": "2022-03-01T07:00:27.671Z"
   },
   {
    "duration": 50,
    "start_time": "2022-03-01T07:00:27.700Z"
   },
   {
    "duration": 30,
    "start_time": "2022-03-01T07:00:27.753Z"
   },
   {
    "duration": 424,
    "start_time": "2022-03-01T07:00:27.791Z"
   },
   {
    "duration": 620,
    "start_time": "2022-03-01T07:00:27.597Z"
   },
   {
    "duration": 615,
    "start_time": "2022-03-01T07:00:27.604Z"
   },
   {
    "duration": 611,
    "start_time": "2022-03-01T07:00:27.609Z"
   },
   {
    "duration": 606,
    "start_time": "2022-03-01T07:00:27.616Z"
   },
   {
    "duration": 21,
    "start_time": "2022-03-01T07:01:52.873Z"
   },
   {
    "duration": 16,
    "start_time": "2022-03-01T07:02:30.943Z"
   },
   {
    "duration": 15,
    "start_time": "2022-03-01T07:02:37.295Z"
   },
   {
    "duration": 24,
    "start_time": "2022-03-01T07:03:06.550Z"
   },
   {
    "duration": 9,
    "start_time": "2022-03-01T07:04:12.089Z"
   },
   {
    "duration": 346,
    "start_time": "2022-03-01T12:12:16.404Z"
   },
   {
    "duration": 1480,
    "start_time": "2022-03-01T12:12:22.925Z"
   },
   {
    "duration": 239,
    "start_time": "2022-03-01T12:12:24.408Z"
   },
   {
    "duration": 19,
    "start_time": "2022-03-01T12:12:24.650Z"
   },
   {
    "duration": 217,
    "start_time": "2022-03-01T12:12:24.672Z"
   },
   {
    "duration": 3,
    "start_time": "2022-03-01T12:12:24.892Z"
   },
   {
    "duration": 36,
    "start_time": "2022-03-01T12:12:24.897Z"
   },
   {
    "duration": 14,
    "start_time": "2022-03-01T12:12:24.935Z"
   },
   {
    "duration": 151,
    "start_time": "2022-03-01T12:12:24.953Z"
   },
   {
    "duration": 42,
    "start_time": "2022-03-01T12:12:25.107Z"
   },
   {
    "duration": 61,
    "start_time": "2022-03-01T12:12:25.152Z"
   },
   {
    "duration": 9,
    "start_time": "2022-03-01T12:12:25.215Z"
   },
   {
    "duration": 9,
    "start_time": "2022-03-01T12:12:25.226Z"
   },
   {
    "duration": 11,
    "start_time": "2022-03-01T12:12:25.237Z"
   },
   {
    "duration": 45,
    "start_time": "2022-03-01T12:12:25.251Z"
   },
   {
    "duration": 9,
    "start_time": "2022-03-01T12:12:25.298Z"
   },
   {
    "duration": 26,
    "start_time": "2022-03-01T12:12:25.334Z"
   },
   {
    "duration": 30,
    "start_time": "2022-03-01T12:12:25.363Z"
   },
   {
    "duration": 3,
    "start_time": "2022-03-01T12:12:25.395Z"
   },
   {
    "duration": 65,
    "start_time": "2022-03-01T12:12:25.401Z"
   },
   {
    "duration": 10,
    "start_time": "2022-03-01T12:12:25.469Z"
   },
   {
    "duration": 86,
    "start_time": "2022-03-01T12:12:25.482Z"
   },
   {
    "duration": 105,
    "start_time": "2022-03-01T12:12:25.570Z"
   },
   {
    "duration": 120,
    "start_time": "2022-03-01T12:12:25.681Z"
   },
   {
    "duration": 94,
    "start_time": "2022-03-01T12:12:25.806Z"
   },
   {
    "duration": 130,
    "start_time": "2022-03-01T12:12:25.902Z"
   },
   {
    "duration": 171,
    "start_time": "2022-03-01T12:12:26.034Z"
   },
   {
    "duration": 65,
    "start_time": "2022-03-01T12:12:26.208Z"
   },
   {
    "duration": 65,
    "start_time": "2022-03-01T12:12:26.276Z"
   },
   {
    "duration": 68,
    "start_time": "2022-03-01T12:12:26.344Z"
   },
   {
    "duration": 106,
    "start_time": "2022-03-01T12:12:26.432Z"
   },
   {
    "duration": 47,
    "start_time": "2022-03-01T12:12:26.540Z"
   },
   {
    "duration": 11,
    "start_time": "2022-03-01T12:12:26.589Z"
   },
   {
    "duration": 47,
    "start_time": "2022-03-01T12:12:26.603Z"
   },
   {
    "duration": 26,
    "start_time": "2022-03-01T12:12:26.652Z"
   },
   {
    "duration": 56,
    "start_time": "2022-03-01T12:12:26.680Z"
   },
   {
    "duration": 7,
    "start_time": "2022-03-01T12:12:26.739Z"
   },
   {
    "duration": 24,
    "start_time": "2022-03-01T12:12:26.748Z"
   },
   {
    "duration": 168,
    "start_time": "2022-03-01T12:12:26.775Z"
   },
   {
    "duration": 147,
    "start_time": "2022-03-01T12:12:26.945Z"
   },
   {
    "duration": 138,
    "start_time": "2022-03-01T12:12:27.094Z"
   },
   {
    "duration": 30,
    "start_time": "2022-03-01T12:12:27.235Z"
   },
   {
    "duration": 28,
    "start_time": "2022-03-01T12:12:27.268Z"
   },
   {
    "duration": 56,
    "start_time": "2022-03-01T12:12:27.299Z"
   },
   {
    "duration": 9,
    "start_time": "2022-03-01T12:12:27.357Z"
   },
   {
    "duration": 430,
    "start_time": "2022-03-01T12:12:27.368Z"
   },
   {
    "duration": 546,
    "start_time": "2022-03-01T12:12:27.800Z"
   },
   {
    "duration": 559,
    "start_time": "2022-03-01T12:12:28.349Z"
   },
   {
    "duration": 628,
    "start_time": "2022-03-01T12:12:28.911Z"
   },
   {
    "duration": 8,
    "start_time": "2022-03-01T12:12:29.541Z"
   },
   {
    "duration": 9,
    "start_time": "2022-03-01T12:12:29.551Z"
   },
   {
    "duration": 20,
    "start_time": "2022-03-01T12:12:29.563Z"
   },
   {
    "duration": 49,
    "start_time": "2022-03-01T12:12:29.585Z"
   },
   {
    "duration": 11,
    "start_time": "2022-03-01T12:12:29.637Z"
   },
   {
    "duration": 403,
    "start_time": "2022-03-01T12:12:29.650Z"
   },
   {
    "duration": 554,
    "start_time": "2022-03-01T12:12:30.056Z"
   },
   {
    "duration": 556,
    "start_time": "2022-03-01T12:12:30.613Z"
   },
   {
    "duration": 21,
    "start_time": "2022-03-01T12:12:31.171Z"
   },
   {
    "duration": 3,
    "start_time": "2022-03-01T12:12:31.194Z"
   },
   {
    "duration": 34,
    "start_time": "2022-03-01T12:12:31.199Z"
   },
   {
    "duration": 1823,
    "start_time": "2022-03-01T12:12:31.236Z"
   },
   {
    "duration": 4182,
    "start_time": "2022-03-01T12:12:33.061Z"
   },
   {
    "duration": 406,
    "start_time": "2022-03-01T12:12:37.245Z"
   },
   {
    "duration": 7,
    "start_time": "2022-03-01T12:12:37.654Z"
   },
   {
    "duration": 7,
    "start_time": "2022-03-01T12:12:37.663Z"
   },
   {
    "duration": 6,
    "start_time": "2022-03-01T12:12:37.672Z"
   },
   {
    "duration": 85,
    "start_time": "2022-03-01T12:12:37.680Z"
   },
   {
    "duration": 457,
    "start_time": "2022-03-01T12:12:37.767Z"
   },
   {
    "duration": 840,
    "start_time": "2022-03-01T12:12:37.386Z"
   },
   {
    "duration": 810,
    "start_time": "2022-03-01T12:12:37.419Z"
   },
   {
    "duration": 805,
    "start_time": "2022-03-01T12:12:37.425Z"
   },
   {
    "duration": 800,
    "start_time": "2022-03-01T12:12:37.431Z"
   },
   {
    "duration": 797,
    "start_time": "2022-03-01T12:12:37.436Z"
   },
   {
    "duration": 16,
    "start_time": "2022-03-01T12:15:00.560Z"
   },
   {
    "duration": 1785,
    "start_time": "2022-03-01T19:24:13.631Z"
   }
  ],
  "kernelspec": {
   "display_name": "Python 3 (ipykernel)",
   "language": "python",
   "name": "python3"
  },
  "language_info": {
   "codemirror_mode": {
    "name": "ipython",
    "version": 3
   },
   "file_extension": ".py",
   "mimetype": "text/x-python",
   "name": "python",
   "nbconvert_exporter": "python",
   "pygments_lexer": "ipython3",
   "version": "3.9.12"
  },
  "toc": {
   "base_numbering": 1,
   "nav_menu": {},
   "number_sections": true,
   "sideBar": true,
   "skip_h1_title": true,
   "title_cell": "Table of Contents",
   "title_sidebar": "Contents",
   "toc_cell": false,
   "toc_position": {
    "height": "calc(100% - 180px)",
    "left": "10px",
    "top": "150px",
    "width": "270.391px"
   },
   "toc_section_display": true,
   "toc_window_display": false
  }
 },
 "nbformat": 4,
 "nbformat_minor": 2
}

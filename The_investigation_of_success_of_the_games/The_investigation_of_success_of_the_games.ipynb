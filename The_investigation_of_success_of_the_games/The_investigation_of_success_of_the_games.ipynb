{
 "cells": [
  {
   "cell_type": "markdown",
   "id": "e3bed249",
   "metadata": {},
   "source": [
    "# *Исследование закономерностей определяющих успешность игры*\n",
    "\n",
    "**Цель** \n",
    "* Выявить определяющие успешность игры закономерности. Это позволит сделать ставку на потенциально популярный продукт и спланировать рекламные кампании.\n",
    "\n",
    "Перед нами данные до 2016 года. Исследование поможет в планировании рекламной компании на 2017 год."
   ]
  },
  {
   "cell_type": "markdown",
   "id": "50f4c6e5",
   "metadata": {},
   "source": [
    "## Изучение данных из файла"
   ]
  },
  {
   "cell_type": "code",
   "execution_count": 1,
   "id": "ae76149f",
   "metadata": {
    "code_folding": []
   },
   "outputs": [],
   "source": [
    "# импортируем необходимые библиотеки\n",
    "import pandas as pd\n",
    "import matplotlib.pyplot as plt\n",
    "import numpy as np\n",
    "from scipy import stats as st\n",
    "import seaborn as sns"
   ]
  },
  {
   "cell_type": "code",
   "execution_count": 2,
   "id": "f26c6644",
   "metadata": {},
   "outputs": [],
   "source": [
    "pd.options.display.float_format = '{:,.2f}'.format"
   ]
  },
  {
   "cell_type": "code",
   "execution_count": 3,
   "id": "dd36ead1",
   "metadata": {
    "code_folding": []
   },
   "outputs": [
    {
     "data": {
      "text/html": [
       "<div>\n",
       "<style scoped>\n",
       "    .dataframe tbody tr th:only-of-type {\n",
       "        vertical-align: middle;\n",
       "    }\n",
       "\n",
       "    .dataframe tbody tr th {\n",
       "        vertical-align: top;\n",
       "    }\n",
       "\n",
       "    .dataframe thead th {\n",
       "        text-align: right;\n",
       "    }\n",
       "</style>\n",
       "<table border=\"1\" class=\"dataframe\">\n",
       "  <thead>\n",
       "    <tr style=\"text-align: right;\">\n",
       "      <th></th>\n",
       "      <th>Name</th>\n",
       "      <th>Platform</th>\n",
       "      <th>Year_of_Release</th>\n",
       "      <th>Genre</th>\n",
       "      <th>NA_sales</th>\n",
       "      <th>EU_sales</th>\n",
       "      <th>JP_sales</th>\n",
       "      <th>Other_sales</th>\n",
       "      <th>Critic_Score</th>\n",
       "      <th>User_Score</th>\n",
       "      <th>Rating</th>\n",
       "    </tr>\n",
       "  </thead>\n",
       "  <tbody>\n",
       "    <tr>\n",
       "      <th>0</th>\n",
       "      <td>Wii Sports</td>\n",
       "      <td>Wii</td>\n",
       "      <td>2,006.00</td>\n",
       "      <td>Sports</td>\n",
       "      <td>41.36</td>\n",
       "      <td>28.96</td>\n",
       "      <td>3.77</td>\n",
       "      <td>8.45</td>\n",
       "      <td>76.00</td>\n",
       "      <td>8</td>\n",
       "      <td>E</td>\n",
       "    </tr>\n",
       "    <tr>\n",
       "      <th>1</th>\n",
       "      <td>Super Mario Bros.</td>\n",
       "      <td>NES</td>\n",
       "      <td>1,985.00</td>\n",
       "      <td>Platform</td>\n",
       "      <td>29.08</td>\n",
       "      <td>3.58</td>\n",
       "      <td>6.81</td>\n",
       "      <td>0.77</td>\n",
       "      <td>NaN</td>\n",
       "      <td>NaN</td>\n",
       "      <td>NaN</td>\n",
       "    </tr>\n",
       "    <tr>\n",
       "      <th>2</th>\n",
       "      <td>Mario Kart Wii</td>\n",
       "      <td>Wii</td>\n",
       "      <td>2,008.00</td>\n",
       "      <td>Racing</td>\n",
       "      <td>15.68</td>\n",
       "      <td>12.76</td>\n",
       "      <td>3.79</td>\n",
       "      <td>3.29</td>\n",
       "      <td>82.00</td>\n",
       "      <td>8.3</td>\n",
       "      <td>E</td>\n",
       "    </tr>\n",
       "    <tr>\n",
       "      <th>3</th>\n",
       "      <td>Wii Sports Resort</td>\n",
       "      <td>Wii</td>\n",
       "      <td>2,009.00</td>\n",
       "      <td>Sports</td>\n",
       "      <td>15.61</td>\n",
       "      <td>10.93</td>\n",
       "      <td>3.28</td>\n",
       "      <td>2.95</td>\n",
       "      <td>80.00</td>\n",
       "      <td>8</td>\n",
       "      <td>E</td>\n",
       "    </tr>\n",
       "    <tr>\n",
       "      <th>4</th>\n",
       "      <td>Pokemon Red/Pokemon Blue</td>\n",
       "      <td>GB</td>\n",
       "      <td>1,996.00</td>\n",
       "      <td>Role-Playing</td>\n",
       "      <td>11.27</td>\n",
       "      <td>8.89</td>\n",
       "      <td>10.22</td>\n",
       "      <td>1.00</td>\n",
       "      <td>NaN</td>\n",
       "      <td>NaN</td>\n",
       "      <td>NaN</td>\n",
       "    </tr>\n",
       "    <tr>\n",
       "      <th>...</th>\n",
       "      <td>...</td>\n",
       "      <td>...</td>\n",
       "      <td>...</td>\n",
       "      <td>...</td>\n",
       "      <td>...</td>\n",
       "      <td>...</td>\n",
       "      <td>...</td>\n",
       "      <td>...</td>\n",
       "      <td>...</td>\n",
       "      <td>...</td>\n",
       "      <td>...</td>\n",
       "    </tr>\n",
       "    <tr>\n",
       "      <th>16710</th>\n",
       "      <td>Samurai Warriors: Sanada Maru</td>\n",
       "      <td>PS3</td>\n",
       "      <td>2,016.00</td>\n",
       "      <td>Action</td>\n",
       "      <td>0.00</td>\n",
       "      <td>0.00</td>\n",
       "      <td>0.01</td>\n",
       "      <td>0.00</td>\n",
       "      <td>NaN</td>\n",
       "      <td>NaN</td>\n",
       "      <td>NaN</td>\n",
       "    </tr>\n",
       "    <tr>\n",
       "      <th>16711</th>\n",
       "      <td>LMA Manager 2007</td>\n",
       "      <td>X360</td>\n",
       "      <td>2,006.00</td>\n",
       "      <td>Sports</td>\n",
       "      <td>0.00</td>\n",
       "      <td>0.01</td>\n",
       "      <td>0.00</td>\n",
       "      <td>0.00</td>\n",
       "      <td>NaN</td>\n",
       "      <td>NaN</td>\n",
       "      <td>NaN</td>\n",
       "    </tr>\n",
       "    <tr>\n",
       "      <th>16712</th>\n",
       "      <td>Haitaka no Psychedelica</td>\n",
       "      <td>PSV</td>\n",
       "      <td>2,016.00</td>\n",
       "      <td>Adventure</td>\n",
       "      <td>0.00</td>\n",
       "      <td>0.00</td>\n",
       "      <td>0.01</td>\n",
       "      <td>0.00</td>\n",
       "      <td>NaN</td>\n",
       "      <td>NaN</td>\n",
       "      <td>NaN</td>\n",
       "    </tr>\n",
       "    <tr>\n",
       "      <th>16713</th>\n",
       "      <td>Spirits &amp; Spells</td>\n",
       "      <td>GBA</td>\n",
       "      <td>2,003.00</td>\n",
       "      <td>Platform</td>\n",
       "      <td>0.01</td>\n",
       "      <td>0.00</td>\n",
       "      <td>0.00</td>\n",
       "      <td>0.00</td>\n",
       "      <td>NaN</td>\n",
       "      <td>NaN</td>\n",
       "      <td>NaN</td>\n",
       "    </tr>\n",
       "    <tr>\n",
       "      <th>16714</th>\n",
       "      <td>Winning Post 8 2016</td>\n",
       "      <td>PSV</td>\n",
       "      <td>2,016.00</td>\n",
       "      <td>Simulation</td>\n",
       "      <td>0.00</td>\n",
       "      <td>0.00</td>\n",
       "      <td>0.01</td>\n",
       "      <td>0.00</td>\n",
       "      <td>NaN</td>\n",
       "      <td>NaN</td>\n",
       "      <td>NaN</td>\n",
       "    </tr>\n",
       "  </tbody>\n",
       "</table>\n",
       "<p>16715 rows × 11 columns</p>\n",
       "</div>"
      ],
      "text/plain": [
       "                                Name Platform  Year_of_Release         Genre  \\\n",
       "0                         Wii Sports      Wii         2,006.00        Sports   \n",
       "1                  Super Mario Bros.      NES         1,985.00      Platform   \n",
       "2                     Mario Kart Wii      Wii         2,008.00        Racing   \n",
       "3                  Wii Sports Resort      Wii         2,009.00        Sports   \n",
       "4           Pokemon Red/Pokemon Blue       GB         1,996.00  Role-Playing   \n",
       "...                              ...      ...              ...           ...   \n",
       "16710  Samurai Warriors: Sanada Maru      PS3         2,016.00        Action   \n",
       "16711               LMA Manager 2007     X360         2,006.00        Sports   \n",
       "16712        Haitaka no Psychedelica      PSV         2,016.00     Adventure   \n",
       "16713               Spirits & Spells      GBA         2,003.00      Platform   \n",
       "16714            Winning Post 8 2016      PSV         2,016.00    Simulation   \n",
       "\n",
       "       NA_sales  EU_sales  JP_sales  Other_sales  Critic_Score User_Score  \\\n",
       "0         41.36     28.96      3.77         8.45         76.00          8   \n",
       "1         29.08      3.58      6.81         0.77           NaN        NaN   \n",
       "2         15.68     12.76      3.79         3.29         82.00        8.3   \n",
       "3         15.61     10.93      3.28         2.95         80.00          8   \n",
       "4         11.27      8.89     10.22         1.00           NaN        NaN   \n",
       "...         ...       ...       ...          ...           ...        ...   \n",
       "16710      0.00      0.00      0.01         0.00           NaN        NaN   \n",
       "16711      0.00      0.01      0.00         0.00           NaN        NaN   \n",
       "16712      0.00      0.00      0.01         0.00           NaN        NaN   \n",
       "16713      0.01      0.00      0.00         0.00           NaN        NaN   \n",
       "16714      0.00      0.00      0.01         0.00           NaN        NaN   \n",
       "\n",
       "      Rating  \n",
       "0          E  \n",
       "1        NaN  \n",
       "2          E  \n",
       "3          E  \n",
       "4        NaN  \n",
       "...      ...  \n",
       "16710    NaN  \n",
       "16711    NaN  \n",
       "16712    NaN  \n",
       "16713    NaN  \n",
       "16714    NaN  \n",
       "\n",
       "[16715 rows x 11 columns]"
      ]
     },
     "execution_count": 3,
     "metadata": {},
     "output_type": "execute_result"
    }
   ],
   "source": [
    "# чтение файла с данными и сохранение в data\n",
    "data = pd.read_csv('games.csv')\n",
    "data"
   ]
  },
  {
   "cell_type": "code",
   "execution_count": 4,
   "id": "0163aa37",
   "metadata": {},
   "outputs": [
    {
     "name": "stdout",
     "output_type": "stream",
     "text": [
      "<class 'pandas.core.frame.DataFrame'>\n",
      "RangeIndex: 16715 entries, 0 to 16714\n",
      "Data columns (total 11 columns):\n",
      " #   Column           Non-Null Count  Dtype  \n",
      "---  ------           --------------  -----  \n",
      " 0   Name             16713 non-null  object \n",
      " 1   Platform         16715 non-null  object \n",
      " 2   Year_of_Release  16446 non-null  float64\n",
      " 3   Genre            16713 non-null  object \n",
      " 4   NA_sales         16715 non-null  float64\n",
      " 5   EU_sales         16715 non-null  float64\n",
      " 6   JP_sales         16715 non-null  float64\n",
      " 7   Other_sales      16715 non-null  float64\n",
      " 8   Critic_Score     8137 non-null   float64\n",
      " 9   User_Score       10014 non-null  object \n",
      " 10  Rating           9949 non-null   object \n",
      "dtypes: float64(6), object(5)\n",
      "memory usage: 1.4+ MB\n"
     ]
    },
    {
     "data": {
      "text/plain": [
       "Index(['Name', 'Platform', 'Year_of_Release', 'Genre', 'NA_sales', 'EU_sales',\n",
       "       'JP_sales', 'Other_sales', 'Critic_Score', 'User_Score', 'Rating'],\n",
       "      dtype='object')"
      ]
     },
     "execution_count": 4,
     "metadata": {},
     "output_type": "execute_result"
    }
   ],
   "source": [
    "# Общая информация о датасете\n",
    "data.info()\n",
    "data.columns"
   ]
  },
  {
   "cell_type": "markdown",
   "id": "401d1c58",
   "metadata": {},
   "source": [
    "Согласно документации к данным:\n",
    "\n",
    "* `Name` — название игры \n",
    "* `Platform` — платформа \n",
    "* `Year_of_Release` — год выпуска \n",
    "* `Genre` — жанр игры\n",
    "* `NA_sales` — продажи в Северной Америке (миллионы проданных копий) \n",
    "* `EU_sales` — продажи в Европе (миллионы проданных копий)\n",
    "* `JP_sales` — продажи в Японии (миллионы проданных копий) \n",
    "* `Other_sales` — продажи в других странах (миллионы проданных копий) \n",
    "* `Critic_Score` — оценка критиков (максимум 100)\n",
    "* `user_Score` — оценка пользователей (максимум 10)\n",
    "* `Rting` — рейтинг от организации ESRB (англ. Entertainment Software Rating Board). Эта ассоциация определяет рейтинг компьютерных игр и присваивает им подходящую возрастную категорию.\n",
    "\n",
    "В названиях колонок видно нарушения стиля:\n",
    "* Строчные буквы сочитаются с прописными\n",
    "\n",
    "Необходимо преобразовать данные к нужным типам:\n",
    "* `Year_of_Release` к типу int, так как год не может быть дробным\n",
    "* `user_Score` к типу данных int, так как оценка пользователя варьируется от 0 до 10"
   ]
  },
  {
   "cell_type": "code",
   "execution_count": 5,
   "id": "ee637207",
   "metadata": {},
   "outputs": [
    {
     "data": {
      "text/plain": [
       "Index(['name', 'platform', 'year_of_release', 'genre', 'na_sales', 'eu_sales',\n",
       "       'jp_sales', 'other_sales', 'critic_score', 'user_score', 'rating'],\n",
       "      dtype='object')"
      ]
     },
     "execution_count": 5,
     "metadata": {},
     "output_type": "execute_result"
    }
   ],
   "source": [
    "# приведем название колонок к нижнему регистру\n",
    "column = ['Name', 'Platform', 'Year_of_Release', 'Genre', 'NA_sales', 'EU_sales',\n",
    "       'JP_sales', 'Other_sales', 'Critic_Score', 'User_Score', 'Rating']\n",
    "# columns_lower = [i.lower() for i in column]\n",
    "# data = data.rename(columns= dict(zip(column, columns_lower)))\n",
    "data.columns = data.columns.str.lower()\n",
    "data.columns"
   ]
  },
  {
   "cell_type": "code",
   "execution_count": 6,
   "id": "0b953bdf",
   "metadata": {},
   "outputs": [
    {
     "data": {
      "text/plain": [
       "name                  2\n",
       "platform              0\n",
       "year_of_release     269\n",
       "genre                 2\n",
       "na_sales              0\n",
       "eu_sales              0\n",
       "jp_sales              0\n",
       "other_sales           0\n",
       "critic_score       8578\n",
       "user_score         6701\n",
       "rating             6766\n",
       "dtype: int64"
      ]
     },
     "execution_count": 6,
     "metadata": {},
     "output_type": "execute_result"
    }
   ],
   "source": [
    "# находим количество пропущенных значений в каждом столбце\n",
    "data.isna().sum()"
   ]
  },
  {
   "cell_type": "markdown",
   "id": "311a2b60",
   "metadata": {},
   "source": [
    "Большое количество пропусков в колонках `critic_score`, `user_score`, `rating`"
   ]
  },
  {
   "cell_type": "code",
   "execution_count": 7,
   "id": "07182d35",
   "metadata": {},
   "outputs": [
    {
     "data": {
      "text/plain": [
       "array(['E', nan, 'M', 'T', 'E10+', 'K-A', 'AO', 'EC', 'RP'], dtype=object)"
      ]
     },
     "execution_count": 7,
     "metadata": {},
     "output_type": "execute_result"
    }
   ],
   "source": [
    "# уникальные значения клонки rating\n",
    "data.rating.unique()"
   ]
  },
  {
   "cell_type": "markdown",
   "id": "6fd7747f",
   "metadata": {},
   "source": [
    "Где буквенные значения обозначают:\n",
    "* EC» («Early childhood») — «Для детей младшего возраста» \n",
    "* «E» («Everyone») — «Для всех» = \"K-A\" (\"Kids to Adults\")\n",
    "* E10+» («Everyone 10 and older») — «Для всех от 10 лет и старше»\n",
    "* «T» («Teen») — «Подросткам»\n",
    "* «M» («Mature») — «Для взрослых»\n",
    "* «AO» («Adults Only 18+») — «Только для взрослых»\n",
    "* «RP» («Rating Pending») — «Рейтинг ожидается»\n"
   ]
  },
  {
   "cell_type": "code",
   "execution_count": 8,
   "id": "09f7e010",
   "metadata": {},
   "outputs": [
    {
     "data": {
      "text/plain": [
       "array(['8', nan, '8.3', '8.5', '6.6', '8.4', '8.6', '7.7', '6.3', '7.4',\n",
       "       '8.2', '9', '7.9', '8.1', '8.7', '7.1', '3.4', '5.3', '4.8', '3.2',\n",
       "       '8.9', '6.4', '7.8', '7.5', '2.6', '7.2', '9.2', '7', '7.3', '4.3',\n",
       "       '7.6', '5.7', '5', '9.1', '6.5', 'tbd', '8.8', '6.9', '9.4', '6.8',\n",
       "       '6.1', '6.7', '5.4', '4', '4.9', '4.5', '9.3', '6.2', '4.2', '6',\n",
       "       '3.7', '4.1', '5.8', '5.6', '5.5', '4.4', '4.6', '5.9', '3.9',\n",
       "       '3.1', '2.9', '5.2', '3.3', '4.7', '5.1', '3.5', '2.5', '1.9', '3',\n",
       "       '2.7', '2.2', '2', '9.5', '2.1', '3.6', '2.8', '1.8', '3.8', '0',\n",
       "       '1.6', '9.6', '2.4', '1.7', '1.1', '0.3', '1.5', '0.7', '1.2',\n",
       "       '2.3', '0.5', '1.3', '0.2', '0.6', '1.4', '0.9', '1', '9.7'],\n",
       "      dtype=object)"
      ]
     },
     "execution_count": 8,
     "metadata": {},
     "output_type": "execute_result"
    }
   ],
   "source": [
    "# уникальные значения колонки user_score\n",
    "data.user_score.unique()"
   ]
  },
  {
   "cell_type": "markdown",
   "id": "ac338458",
   "metadata": {},
   "source": [
    "Значение tbd означает “to be announced” and “to be determined”, тоесть оценка данной игре еще не объявлена."
   ]
  },
  {
   "cell_type": "code",
   "execution_count": 9,
   "id": "ef5ba0b6",
   "metadata": {},
   "outputs": [
    {
     "data": {
      "text/html": [
       "<div>\n",
       "<style scoped>\n",
       "    .dataframe tbody tr th:only-of-type {\n",
       "        vertical-align: middle;\n",
       "    }\n",
       "\n",
       "    .dataframe tbody tr th {\n",
       "        vertical-align: top;\n",
       "    }\n",
       "\n",
       "    .dataframe thead th {\n",
       "        text-align: right;\n",
       "    }\n",
       "</style>\n",
       "<table border=\"1\" class=\"dataframe\">\n",
       "  <thead>\n",
       "    <tr style=\"text-align: right;\">\n",
       "      <th></th>\n",
       "      <th>name</th>\n",
       "      <th>platform</th>\n",
       "      <th>year_of_release</th>\n",
       "      <th>genre</th>\n",
       "      <th>na_sales</th>\n",
       "      <th>eu_sales</th>\n",
       "      <th>jp_sales</th>\n",
       "      <th>other_sales</th>\n",
       "      <th>critic_score</th>\n",
       "      <th>user_score</th>\n",
       "      <th>rating</th>\n",
       "    </tr>\n",
       "  </thead>\n",
       "  <tbody>\n",
       "    <tr>\n",
       "      <th>119</th>\n",
       "      <td>Zumba Fitness</td>\n",
       "      <td>Wii</td>\n",
       "      <td>2,010.00</td>\n",
       "      <td>Sports</td>\n",
       "      <td>3.45</td>\n",
       "      <td>2.59</td>\n",
       "      <td>0.00</td>\n",
       "      <td>0.66</td>\n",
       "      <td>NaN</td>\n",
       "      <td>tbd</td>\n",
       "      <td>E</td>\n",
       "    </tr>\n",
       "    <tr>\n",
       "      <th>301</th>\n",
       "      <td>Namco Museum: 50th Anniversary</td>\n",
       "      <td>PS2</td>\n",
       "      <td>2,005.00</td>\n",
       "      <td>Misc</td>\n",
       "      <td>2.08</td>\n",
       "      <td>1.35</td>\n",
       "      <td>0.00</td>\n",
       "      <td>0.54</td>\n",
       "      <td>61.00</td>\n",
       "      <td>tbd</td>\n",
       "      <td>E10+</td>\n",
       "    </tr>\n",
       "    <tr>\n",
       "      <th>520</th>\n",
       "      <td>Zumba Fitness 2</td>\n",
       "      <td>Wii</td>\n",
       "      <td>2,011.00</td>\n",
       "      <td>Sports</td>\n",
       "      <td>1.51</td>\n",
       "      <td>1.03</td>\n",
       "      <td>0.00</td>\n",
       "      <td>0.27</td>\n",
       "      <td>NaN</td>\n",
       "      <td>tbd</td>\n",
       "      <td>T</td>\n",
       "    </tr>\n",
       "    <tr>\n",
       "      <th>645</th>\n",
       "      <td>uDraw Studio</td>\n",
       "      <td>Wii</td>\n",
       "      <td>2,010.00</td>\n",
       "      <td>Misc</td>\n",
       "      <td>1.65</td>\n",
       "      <td>0.57</td>\n",
       "      <td>0.00</td>\n",
       "      <td>0.20</td>\n",
       "      <td>71.00</td>\n",
       "      <td>tbd</td>\n",
       "      <td>E</td>\n",
       "    </tr>\n",
       "    <tr>\n",
       "      <th>657</th>\n",
       "      <td>Frogger's Adventures: Temple of the Frog</td>\n",
       "      <td>GBA</td>\n",
       "      <td>NaN</td>\n",
       "      <td>Adventure</td>\n",
       "      <td>2.15</td>\n",
       "      <td>0.18</td>\n",
       "      <td>0.00</td>\n",
       "      <td>0.07</td>\n",
       "      <td>73.00</td>\n",
       "      <td>tbd</td>\n",
       "      <td>E</td>\n",
       "    </tr>\n",
       "    <tr>\n",
       "      <th>...</th>\n",
       "      <td>...</td>\n",
       "      <td>...</td>\n",
       "      <td>...</td>\n",
       "      <td>...</td>\n",
       "      <td>...</td>\n",
       "      <td>...</td>\n",
       "      <td>...</td>\n",
       "      <td>...</td>\n",
       "      <td>...</td>\n",
       "      <td>...</td>\n",
       "      <td>...</td>\n",
       "    </tr>\n",
       "    <tr>\n",
       "      <th>16695</th>\n",
       "      <td>Planet Monsters</td>\n",
       "      <td>GBA</td>\n",
       "      <td>2,001.00</td>\n",
       "      <td>Action</td>\n",
       "      <td>0.01</td>\n",
       "      <td>0.00</td>\n",
       "      <td>0.00</td>\n",
       "      <td>0.00</td>\n",
       "      <td>67.00</td>\n",
       "      <td>tbd</td>\n",
       "      <td>E</td>\n",
       "    </tr>\n",
       "    <tr>\n",
       "      <th>16697</th>\n",
       "      <td>Bust-A-Move 3000</td>\n",
       "      <td>GC</td>\n",
       "      <td>2,003.00</td>\n",
       "      <td>Puzzle</td>\n",
       "      <td>0.01</td>\n",
       "      <td>0.00</td>\n",
       "      <td>0.00</td>\n",
       "      <td>0.00</td>\n",
       "      <td>53.00</td>\n",
       "      <td>tbd</td>\n",
       "      <td>E</td>\n",
       "    </tr>\n",
       "    <tr>\n",
       "      <th>16698</th>\n",
       "      <td>Mega Brain Boost</td>\n",
       "      <td>DS</td>\n",
       "      <td>2,008.00</td>\n",
       "      <td>Puzzle</td>\n",
       "      <td>0.01</td>\n",
       "      <td>0.00</td>\n",
       "      <td>0.00</td>\n",
       "      <td>0.00</td>\n",
       "      <td>48.00</td>\n",
       "      <td>tbd</td>\n",
       "      <td>E</td>\n",
       "    </tr>\n",
       "    <tr>\n",
       "      <th>16704</th>\n",
       "      <td>Plushees</td>\n",
       "      <td>DS</td>\n",
       "      <td>2,008.00</td>\n",
       "      <td>Simulation</td>\n",
       "      <td>0.01</td>\n",
       "      <td>0.00</td>\n",
       "      <td>0.00</td>\n",
       "      <td>0.00</td>\n",
       "      <td>NaN</td>\n",
       "      <td>tbd</td>\n",
       "      <td>E</td>\n",
       "    </tr>\n",
       "    <tr>\n",
       "      <th>16706</th>\n",
       "      <td>Men in Black II: Alien Escape</td>\n",
       "      <td>GC</td>\n",
       "      <td>2,003.00</td>\n",
       "      <td>Shooter</td>\n",
       "      <td>0.01</td>\n",
       "      <td>0.00</td>\n",
       "      <td>0.00</td>\n",
       "      <td>0.00</td>\n",
       "      <td>NaN</td>\n",
       "      <td>tbd</td>\n",
       "      <td>T</td>\n",
       "    </tr>\n",
       "  </tbody>\n",
       "</table>\n",
       "<p>2424 rows × 11 columns</p>\n",
       "</div>"
      ],
      "text/plain": [
       "                                           name platform  year_of_release  \\\n",
       "119                               Zumba Fitness      Wii         2,010.00   \n",
       "301              Namco Museum: 50th Anniversary      PS2         2,005.00   \n",
       "520                             Zumba Fitness 2      Wii         2,011.00   \n",
       "645                                uDraw Studio      Wii         2,010.00   \n",
       "657    Frogger's Adventures: Temple of the Frog      GBA              NaN   \n",
       "...                                         ...      ...              ...   \n",
       "16695                           Planet Monsters      GBA         2,001.00   \n",
       "16697                          Bust-A-Move 3000       GC         2,003.00   \n",
       "16698                          Mega Brain Boost       DS         2,008.00   \n",
       "16704                                  Plushees       DS         2,008.00   \n",
       "16706             Men in Black II: Alien Escape       GC         2,003.00   \n",
       "\n",
       "            genre  na_sales  eu_sales  jp_sales  other_sales  critic_score  \\\n",
       "119        Sports      3.45      2.59      0.00         0.66           NaN   \n",
       "301          Misc      2.08      1.35      0.00         0.54         61.00   \n",
       "520        Sports      1.51      1.03      0.00         0.27           NaN   \n",
       "645          Misc      1.65      0.57      0.00         0.20         71.00   \n",
       "657     Adventure      2.15      0.18      0.00         0.07         73.00   \n",
       "...           ...       ...       ...       ...          ...           ...   \n",
       "16695      Action      0.01      0.00      0.00         0.00         67.00   \n",
       "16697      Puzzle      0.01      0.00      0.00         0.00         53.00   \n",
       "16698      Puzzle      0.01      0.00      0.00         0.00         48.00   \n",
       "16704  Simulation      0.01      0.00      0.00         0.00           NaN   \n",
       "16706     Shooter      0.01      0.00      0.00         0.00           NaN   \n",
       "\n",
       "      user_score rating  \n",
       "119          tbd      E  \n",
       "301          tbd   E10+  \n",
       "520          tbd      T  \n",
       "645          tbd      E  \n",
       "657          tbd      E  \n",
       "...          ...    ...  \n",
       "16695        tbd      E  \n",
       "16697        tbd      E  \n",
       "16698        tbd      E  \n",
       "16704        tbd      E  \n",
       "16706        tbd      T  \n",
       "\n",
       "[2424 rows x 11 columns]"
      ]
     },
     "execution_count": 9,
     "metadata": {},
     "output_type": "execute_result"
    }
   ],
   "source": [
    "data.query('user_score == \"tbd\"')"
   ]
  },
  {
   "cell_type": "markdown",
   "id": "fff1904c",
   "metadata": {},
   "source": [
    "Сток со значением колонки `user_score` 'tbd' - 2424. Довольно много. Заменить tbd на какое-либо значение мы не можем."
   ]
  },
  {
   "cell_type": "code",
   "execution_count": 10,
   "id": "1ca1d69c",
   "metadata": {},
   "outputs": [
    {
     "data": {
      "text/plain": [
       "array(['Sports', 'Platform', 'Racing', 'Role-Playing', 'Puzzle', 'Misc',\n",
       "       'Shooter', 'Simulation', 'Action', 'Fighting', 'Adventure',\n",
       "       'Strategy', nan], dtype=object)"
      ]
     },
     "execution_count": 10,
     "metadata": {},
     "output_type": "execute_result"
    }
   ],
   "source": [
    "# уникальные значения колонки genre\n",
    "data.genre.unique()"
   ]
  },
  {
   "cell_type": "code",
   "execution_count": 11,
   "id": "5797cb6c",
   "metadata": {},
   "outputs": [
    {
     "data": {
      "text/plain": [
       "0"
      ]
     },
     "execution_count": 11,
     "metadata": {},
     "output_type": "execute_result"
    }
   ],
   "source": [
    "# Проверка дубликатов \n",
    "data.duplicated().sum()"
   ]
  },
  {
   "cell_type": "markdown",
   "id": "e4725dd6",
   "metadata": {},
   "source": [
    "## Вывод: \n",
    "   1. Нарушение стиля в названиях колонки было исправлено. Название колонок было приведено к нижнему регистру.\n",
    "   2. Оценено количество пропусков в колонках `critic_score` - 8578, `user_score` - 6701, `rating`- 6766, `year_of_release`- 269.\n",
    "   3. Даны пояснения значениям находящися в колонке `rating` и значению tbd в колонке  `user_score`\n",
    "   4. Явных дубликатов в исходных данных нет."
   ]
  },
  {
   "cell_type": "markdown",
   "id": "91fa6904",
   "metadata": {},
   "source": [
    "# Предобработка данных"
   ]
  },
  {
   "cell_type": "markdown",
   "id": "f7ca50cb",
   "metadata": {},
   "source": [
    "## Заполнение пропусков"
   ]
  },
  {
   "cell_type": "markdown",
   "id": "b6b47dd3",
   "metadata": {},
   "source": [
    "* Заменить пропуски в колонке name мы может только на unknown, так как сложно сказать какой именно игре соответствуют данные."
   ]
  },
  {
   "cell_type": "code",
   "execution_count": 12,
   "id": "f40d00cb",
   "metadata": {},
   "outputs": [
    {
     "data": {
      "text/html": [
       "<div>\n",
       "<style scoped>\n",
       "    .dataframe tbody tr th:only-of-type {\n",
       "        vertical-align: middle;\n",
       "    }\n",
       "\n",
       "    .dataframe tbody tr th {\n",
       "        vertical-align: top;\n",
       "    }\n",
       "\n",
       "    .dataframe thead th {\n",
       "        text-align: right;\n",
       "    }\n",
       "</style>\n",
       "<table border=\"1\" class=\"dataframe\">\n",
       "  <thead>\n",
       "    <tr style=\"text-align: right;\">\n",
       "      <th></th>\n",
       "      <th>name</th>\n",
       "      <th>platform</th>\n",
       "      <th>year_of_release</th>\n",
       "      <th>genre</th>\n",
       "      <th>na_sales</th>\n",
       "      <th>eu_sales</th>\n",
       "      <th>jp_sales</th>\n",
       "      <th>other_sales</th>\n",
       "      <th>critic_score</th>\n",
       "      <th>user_score</th>\n",
       "      <th>rating</th>\n",
       "    </tr>\n",
       "  </thead>\n",
       "  <tbody>\n",
       "    <tr>\n",
       "      <th>659</th>\n",
       "      <td>NaN</td>\n",
       "      <td>GEN</td>\n",
       "      <td>1,993.00</td>\n",
       "      <td>NaN</td>\n",
       "      <td>1.78</td>\n",
       "      <td>0.53</td>\n",
       "      <td>0.00</td>\n",
       "      <td>0.08</td>\n",
       "      <td>NaN</td>\n",
       "      <td>NaN</td>\n",
       "      <td>NaN</td>\n",
       "    </tr>\n",
       "    <tr>\n",
       "      <th>14244</th>\n",
       "      <td>NaN</td>\n",
       "      <td>GEN</td>\n",
       "      <td>1,993.00</td>\n",
       "      <td>NaN</td>\n",
       "      <td>0.00</td>\n",
       "      <td>0.00</td>\n",
       "      <td>0.03</td>\n",
       "      <td>0.00</td>\n",
       "      <td>NaN</td>\n",
       "      <td>NaN</td>\n",
       "      <td>NaN</td>\n",
       "    </tr>\n",
       "  </tbody>\n",
       "</table>\n",
       "</div>"
      ],
      "text/plain": [
       "      name platform  year_of_release genre  na_sales  eu_sales  jp_sales  \\\n",
       "659    NaN      GEN         1,993.00   NaN      1.78      0.53      0.00   \n",
       "14244  NaN      GEN         1,993.00   NaN      0.00      0.00      0.03   \n",
       "\n",
       "       other_sales  critic_score user_score rating  \n",
       "659           0.08           NaN        NaN    NaN  \n",
       "14244         0.00           NaN        NaN    NaN  "
      ]
     },
     "execution_count": 12,
     "metadata": {},
     "output_type": "execute_result"
    }
   ],
   "source": [
    "# пропуски в колонке name\n",
    "data[data['name'].isna()]"
   ]
  },
  {
   "cell_type": "code",
   "execution_count": 13,
   "id": "8d3c4730",
   "metadata": {},
   "outputs": [],
   "source": [
    "# заменим пропуски в колонке name на 'unknown'\n",
    "data['name'] = data['name'].fillna('unknown')"
   ]
  },
  {
   "cell_type": "markdown",
   "id": "985738fc",
   "metadata": {},
   "source": [
    "* Для игр, которых не известно название, не известен и жанр, поэтому заменим пропуски в колонке genre на unknown."
   ]
  },
  {
   "cell_type": "code",
   "execution_count": 14,
   "id": "f90c956b",
   "metadata": {},
   "outputs": [
    {
     "data": {
      "text/html": [
       "<div>\n",
       "<style scoped>\n",
       "    .dataframe tbody tr th:only-of-type {\n",
       "        vertical-align: middle;\n",
       "    }\n",
       "\n",
       "    .dataframe tbody tr th {\n",
       "        vertical-align: top;\n",
       "    }\n",
       "\n",
       "    .dataframe thead th {\n",
       "        text-align: right;\n",
       "    }\n",
       "</style>\n",
       "<table border=\"1\" class=\"dataframe\">\n",
       "  <thead>\n",
       "    <tr style=\"text-align: right;\">\n",
       "      <th></th>\n",
       "      <th>name</th>\n",
       "      <th>platform</th>\n",
       "      <th>year_of_release</th>\n",
       "      <th>genre</th>\n",
       "      <th>na_sales</th>\n",
       "      <th>eu_sales</th>\n",
       "      <th>jp_sales</th>\n",
       "      <th>other_sales</th>\n",
       "      <th>critic_score</th>\n",
       "      <th>user_score</th>\n",
       "      <th>rating</th>\n",
       "    </tr>\n",
       "  </thead>\n",
       "  <tbody>\n",
       "    <tr>\n",
       "      <th>145</th>\n",
       "      <td>Sonic the Hedgehog 2</td>\n",
       "      <td>GEN</td>\n",
       "      <td>1,992.00</td>\n",
       "      <td>Platform</td>\n",
       "      <td>4.47</td>\n",
       "      <td>1.20</td>\n",
       "      <td>0.16</td>\n",
       "      <td>0.19</td>\n",
       "      <td>NaN</td>\n",
       "      <td>NaN</td>\n",
       "      <td>NaN</td>\n",
       "    </tr>\n",
       "    <tr>\n",
       "      <th>257</th>\n",
       "      <td>Sonic the Hedgehog</td>\n",
       "      <td>GEN</td>\n",
       "      <td>1,991.00</td>\n",
       "      <td>Platform</td>\n",
       "      <td>3.03</td>\n",
       "      <td>0.91</td>\n",
       "      <td>0.26</td>\n",
       "      <td>0.13</td>\n",
       "      <td>NaN</td>\n",
       "      <td>NaN</td>\n",
       "      <td>NaN</td>\n",
       "    </tr>\n",
       "    <tr>\n",
       "      <th>564</th>\n",
       "      <td>Mortal Kombat</td>\n",
       "      <td>GEN</td>\n",
       "      <td>1,992.00</td>\n",
       "      <td>Fighting</td>\n",
       "      <td>1.95</td>\n",
       "      <td>0.63</td>\n",
       "      <td>0.00</td>\n",
       "      <td>0.09</td>\n",
       "      <td>NaN</td>\n",
       "      <td>NaN</td>\n",
       "      <td>NaN</td>\n",
       "    </tr>\n",
       "    <tr>\n",
       "      <th>588</th>\n",
       "      <td>Streets of Rage</td>\n",
       "      <td>GEN</td>\n",
       "      <td>1,990.00</td>\n",
       "      <td>Action</td>\n",
       "      <td>1.86</td>\n",
       "      <td>0.55</td>\n",
       "      <td>0.11</td>\n",
       "      <td>0.08</td>\n",
       "      <td>NaN</td>\n",
       "      <td>NaN</td>\n",
       "      <td>NaN</td>\n",
       "    </tr>\n",
       "    <tr>\n",
       "      <th>659</th>\n",
       "      <td>unknown</td>\n",
       "      <td>GEN</td>\n",
       "      <td>1,993.00</td>\n",
       "      <td>NaN</td>\n",
       "      <td>1.78</td>\n",
       "      <td>0.53</td>\n",
       "      <td>0.00</td>\n",
       "      <td>0.08</td>\n",
       "      <td>NaN</td>\n",
       "      <td>NaN</td>\n",
       "      <td>NaN</td>\n",
       "    </tr>\n",
       "    <tr>\n",
       "      <th>832</th>\n",
       "      <td>NBA Jam</td>\n",
       "      <td>GEN</td>\n",
       "      <td>1,992.00</td>\n",
       "      <td>Sports</td>\n",
       "      <td>1.75</td>\n",
       "      <td>0.25</td>\n",
       "      <td>0.00</td>\n",
       "      <td>0.05</td>\n",
       "      <td>NaN</td>\n",
       "      <td>NaN</td>\n",
       "      <td>NaN</td>\n",
       "    </tr>\n",
       "    <tr>\n",
       "      <th>960</th>\n",
       "      <td>Sonic &amp; Knuckles</td>\n",
       "      <td>GEN</td>\n",
       "      <td>1,994.00</td>\n",
       "      <td>Platform</td>\n",
       "      <td>1.24</td>\n",
       "      <td>0.43</td>\n",
       "      <td>0.03</td>\n",
       "      <td>0.12</td>\n",
       "      <td>NaN</td>\n",
       "      <td>NaN</td>\n",
       "      <td>NaN</td>\n",
       "    </tr>\n",
       "    <tr>\n",
       "      <th>996</th>\n",
       "      <td>Sonic the Hedgehog 3</td>\n",
       "      <td>GEN</td>\n",
       "      <td>1,994.00</td>\n",
       "      <td>Platform</td>\n",
       "      <td>1.02</td>\n",
       "      <td>0.47</td>\n",
       "      <td>0.20</td>\n",
       "      <td>0.07</td>\n",
       "      <td>NaN</td>\n",
       "      <td>NaN</td>\n",
       "      <td>NaN</td>\n",
       "    </tr>\n",
       "    <tr>\n",
       "      <th>1099</th>\n",
       "      <td>Street Fighter II': Special Champion Edition</td>\n",
       "      <td>GEN</td>\n",
       "      <td>1,992.00</td>\n",
       "      <td>Fighting</td>\n",
       "      <td>1.00</td>\n",
       "      <td>0.30</td>\n",
       "      <td>0.31</td>\n",
       "      <td>0.04</td>\n",
       "      <td>NaN</td>\n",
       "      <td>NaN</td>\n",
       "      <td>NaN</td>\n",
       "    </tr>\n",
       "    <tr>\n",
       "      <th>1365</th>\n",
       "      <td>Disney's The Lion King</td>\n",
       "      <td>GEN</td>\n",
       "      <td>1,994.00</td>\n",
       "      <td>Platform</td>\n",
       "      <td>0.97</td>\n",
       "      <td>0.37</td>\n",
       "      <td>0.03</td>\n",
       "      <td>0.05</td>\n",
       "      <td>NaN</td>\n",
       "      <td>NaN</td>\n",
       "      <td>NaN</td>\n",
       "    </tr>\n",
       "    <tr>\n",
       "      <th>1453</th>\n",
       "      <td>Mortal Kombat 3</td>\n",
       "      <td>GEN</td>\n",
       "      <td>1,994.00</td>\n",
       "      <td>Fighting</td>\n",
       "      <td>1.03</td>\n",
       "      <td>0.27</td>\n",
       "      <td>0.00</td>\n",
       "      <td>0.04</td>\n",
       "      <td>NaN</td>\n",
       "      <td>NaN</td>\n",
       "      <td>NaN</td>\n",
       "    </tr>\n",
       "    <tr>\n",
       "      <th>1842</th>\n",
       "      <td>NBA Jam Tournament Edition</td>\n",
       "      <td>GEN</td>\n",
       "      <td>1,994.00</td>\n",
       "      <td>Sports</td>\n",
       "      <td>0.95</td>\n",
       "      <td>0.14</td>\n",
       "      <td>0.00</td>\n",
       "      <td>0.03</td>\n",
       "      <td>NaN</td>\n",
       "      <td>NaN</td>\n",
       "      <td>NaN</td>\n",
       "    </tr>\n",
       "    <tr>\n",
       "      <th>6451</th>\n",
       "      <td>Virtua Racing</td>\n",
       "      <td>GEN</td>\n",
       "      <td>1,994.00</td>\n",
       "      <td>Racing</td>\n",
       "      <td>0.00</td>\n",
       "      <td>0.00</td>\n",
       "      <td>0.26</td>\n",
       "      <td>0.00</td>\n",
       "      <td>NaN</td>\n",
       "      <td>NaN</td>\n",
       "      <td>NaN</td>\n",
       "    </tr>\n",
       "    <tr>\n",
       "      <th>7885</th>\n",
       "      <td>Shining Force II</td>\n",
       "      <td>GEN</td>\n",
       "      <td>1,993.00</td>\n",
       "      <td>Strategy</td>\n",
       "      <td>0.00</td>\n",
       "      <td>0.00</td>\n",
       "      <td>0.19</td>\n",
       "      <td>0.00</td>\n",
       "      <td>NaN</td>\n",
       "      <td>NaN</td>\n",
       "      <td>NaN</td>\n",
       "    </tr>\n",
       "    <tr>\n",
       "      <th>8893</th>\n",
       "      <td>Super Street Fighter II</td>\n",
       "      <td>GEN</td>\n",
       "      <td>1,993.00</td>\n",
       "      <td>Fighting</td>\n",
       "      <td>0.00</td>\n",
       "      <td>0.00</td>\n",
       "      <td>0.15</td>\n",
       "      <td>0.00</td>\n",
       "      <td>NaN</td>\n",
       "      <td>NaN</td>\n",
       "      <td>NaN</td>\n",
       "    </tr>\n",
       "    <tr>\n",
       "      <th>9000</th>\n",
       "      <td>Lunar 2: Eternal Blue(sales, but wrong system)</td>\n",
       "      <td>GEN</td>\n",
       "      <td>1,994.00</td>\n",
       "      <td>Role-Playing</td>\n",
       "      <td>0.00</td>\n",
       "      <td>0.00</td>\n",
       "      <td>0.14</td>\n",
       "      <td>0.00</td>\n",
       "      <td>NaN</td>\n",
       "      <td>NaN</td>\n",
       "      <td>NaN</td>\n",
       "    </tr>\n",
       "    <tr>\n",
       "      <th>9563</th>\n",
       "      <td>Gunstar Heroes</td>\n",
       "      <td>GEN</td>\n",
       "      <td>1,992.00</td>\n",
       "      <td>Shooter</td>\n",
       "      <td>0.00</td>\n",
       "      <td>0.00</td>\n",
       "      <td>0.13</td>\n",
       "      <td>0.00</td>\n",
       "      <td>NaN</td>\n",
       "      <td>NaN</td>\n",
       "      <td>NaN</td>\n",
       "    </tr>\n",
       "    <tr>\n",
       "      <th>9787</th>\n",
       "      <td>Ecco the Dolphin</td>\n",
       "      <td>GEN</td>\n",
       "      <td>1,992.00</td>\n",
       "      <td>Adventure</td>\n",
       "      <td>0.00</td>\n",
       "      <td>0.00</td>\n",
       "      <td>0.12</td>\n",
       "      <td>0.00</td>\n",
       "      <td>NaN</td>\n",
       "      <td>NaN</td>\n",
       "      <td>NaN</td>\n",
       "    </tr>\n",
       "    <tr>\n",
       "      <th>11563</th>\n",
       "      <td>Yuu Yuu Hakusho: Makyo Toitsusen</td>\n",
       "      <td>GEN</td>\n",
       "      <td>1,994.00</td>\n",
       "      <td>Fighting</td>\n",
       "      <td>0.00</td>\n",
       "      <td>0.00</td>\n",
       "      <td>0.08</td>\n",
       "      <td>0.00</td>\n",
       "      <td>NaN</td>\n",
       "      <td>NaN</td>\n",
       "      <td>NaN</td>\n",
       "    </tr>\n",
       "    <tr>\n",
       "      <th>11660</th>\n",
       "      <td>Dragon Slayer: The Legend of Heroes</td>\n",
       "      <td>GEN</td>\n",
       "      <td>1,994.00</td>\n",
       "      <td>Role-Playing</td>\n",
       "      <td>0.00</td>\n",
       "      <td>0.00</td>\n",
       "      <td>0.08</td>\n",
       "      <td>0.00</td>\n",
       "      <td>NaN</td>\n",
       "      <td>NaN</td>\n",
       "      <td>NaN</td>\n",
       "    </tr>\n",
       "    <tr>\n",
       "      <th>11986</th>\n",
       "      <td>Ecco: The Tides of Time</td>\n",
       "      <td>GEN</td>\n",
       "      <td>1,993.00</td>\n",
       "      <td>Adventure</td>\n",
       "      <td>0.00</td>\n",
       "      <td>0.00</td>\n",
       "      <td>0.07</td>\n",
       "      <td>0.00</td>\n",
       "      <td>NaN</td>\n",
       "      <td>NaN</td>\n",
       "      <td>NaN</td>\n",
       "    </tr>\n",
       "    <tr>\n",
       "      <th>12098</th>\n",
       "      <td>Street Fighter II': Special Champion Edition (...</td>\n",
       "      <td>GEN</td>\n",
       "      <td>1,993.00</td>\n",
       "      <td>Action</td>\n",
       "      <td>0.00</td>\n",
       "      <td>0.00</td>\n",
       "      <td>0.07</td>\n",
       "      <td>0.00</td>\n",
       "      <td>NaN</td>\n",
       "      <td>NaN</td>\n",
       "      <td>NaN</td>\n",
       "    </tr>\n",
       "    <tr>\n",
       "      <th>12264</th>\n",
       "      <td>Streets of Rage 3</td>\n",
       "      <td>GEN</td>\n",
       "      <td>1,993.00</td>\n",
       "      <td>Action</td>\n",
       "      <td>0.00</td>\n",
       "      <td>0.00</td>\n",
       "      <td>0.07</td>\n",
       "      <td>0.00</td>\n",
       "      <td>NaN</td>\n",
       "      <td>NaN</td>\n",
       "      <td>NaN</td>\n",
       "    </tr>\n",
       "    <tr>\n",
       "      <th>12984</th>\n",
       "      <td>Dynamite Headdy</td>\n",
       "      <td>GEN</td>\n",
       "      <td>1,993.00</td>\n",
       "      <td>Platform</td>\n",
       "      <td>0.00</td>\n",
       "      <td>0.00</td>\n",
       "      <td>0.05</td>\n",
       "      <td>0.00</td>\n",
       "      <td>NaN</td>\n",
       "      <td>NaN</td>\n",
       "      <td>NaN</td>\n",
       "    </tr>\n",
       "    <tr>\n",
       "      <th>13343</th>\n",
       "      <td>Beyond Oasis</td>\n",
       "      <td>GEN</td>\n",
       "      <td>1,993.00</td>\n",
       "      <td>Role-Playing</td>\n",
       "      <td>0.00</td>\n",
       "      <td>0.00</td>\n",
       "      <td>0.05</td>\n",
       "      <td>0.00</td>\n",
       "      <td>NaN</td>\n",
       "      <td>NaN</td>\n",
       "      <td>NaN</td>\n",
       "    </tr>\n",
       "    <tr>\n",
       "      <th>14085</th>\n",
       "      <td>J-League Pro Striker 2</td>\n",
       "      <td>GEN</td>\n",
       "      <td>1,994.00</td>\n",
       "      <td>Sports</td>\n",
       "      <td>0.00</td>\n",
       "      <td>0.00</td>\n",
       "      <td>0.04</td>\n",
       "      <td>0.00</td>\n",
       "      <td>NaN</td>\n",
       "      <td>NaN</td>\n",
       "      <td>NaN</td>\n",
       "    </tr>\n",
       "    <tr>\n",
       "      <th>14132</th>\n",
       "      <td>Castlevania Bloodlines</td>\n",
       "      <td>GEN</td>\n",
       "      <td>1,994.00</td>\n",
       "      <td>Platform</td>\n",
       "      <td>0.00</td>\n",
       "      <td>0.00</td>\n",
       "      <td>0.04</td>\n",
       "      <td>0.00</td>\n",
       "      <td>NaN</td>\n",
       "      <td>NaN</td>\n",
       "      <td>NaN</td>\n",
       "    </tr>\n",
       "    <tr>\n",
       "      <th>14244</th>\n",
       "      <td>unknown</td>\n",
       "      <td>GEN</td>\n",
       "      <td>1,993.00</td>\n",
       "      <td>NaN</td>\n",
       "      <td>0.00</td>\n",
       "      <td>0.00</td>\n",
       "      <td>0.03</td>\n",
       "      <td>0.00</td>\n",
       "      <td>NaN</td>\n",
       "      <td>NaN</td>\n",
       "      <td>NaN</td>\n",
       "    </tr>\n",
       "    <tr>\n",
       "      <th>14488</th>\n",
       "      <td>Puzzle &amp; Action: Tant-R</td>\n",
       "      <td>GEN</td>\n",
       "      <td>1,994.00</td>\n",
       "      <td>Misc</td>\n",
       "      <td>0.00</td>\n",
       "      <td>0.00</td>\n",
       "      <td>0.03</td>\n",
       "      <td>0.00</td>\n",
       "      <td>NaN</td>\n",
       "      <td>NaN</td>\n",
       "      <td>NaN</td>\n",
       "    </tr>\n",
       "  </tbody>\n",
       "</table>\n",
       "</div>"
      ],
      "text/plain": [
       "                                                    name platform  \\\n",
       "145                                 Sonic the Hedgehog 2      GEN   \n",
       "257                                   Sonic the Hedgehog      GEN   \n",
       "564                                        Mortal Kombat      GEN   \n",
       "588                                      Streets of Rage      GEN   \n",
       "659                                              unknown      GEN   \n",
       "832                                              NBA Jam      GEN   \n",
       "960                                     Sonic & Knuckles      GEN   \n",
       "996                                 Sonic the Hedgehog 3      GEN   \n",
       "1099        Street Fighter II': Special Champion Edition      GEN   \n",
       "1365                              Disney's The Lion King      GEN   \n",
       "1453                                     Mortal Kombat 3      GEN   \n",
       "1842                          NBA Jam Tournament Edition      GEN   \n",
       "6451                                       Virtua Racing      GEN   \n",
       "7885                                    Shining Force II      GEN   \n",
       "8893                             Super Street Fighter II      GEN   \n",
       "9000      Lunar 2: Eternal Blue(sales, but wrong system)      GEN   \n",
       "9563                                      Gunstar Heroes      GEN   \n",
       "9787                                    Ecco the Dolphin      GEN   \n",
       "11563                   Yuu Yuu Hakusho: Makyo Toitsusen      GEN   \n",
       "11660                Dragon Slayer: The Legend of Heroes      GEN   \n",
       "11986                            Ecco: The Tides of Time      GEN   \n",
       "12098  Street Fighter II': Special Champion Edition (...      GEN   \n",
       "12264                                  Streets of Rage 3      GEN   \n",
       "12984                                    Dynamite Headdy      GEN   \n",
       "13343                                       Beyond Oasis      GEN   \n",
       "14085                             J-League Pro Striker 2      GEN   \n",
       "14132                             Castlevania Bloodlines      GEN   \n",
       "14244                                            unknown      GEN   \n",
       "14488                            Puzzle & Action: Tant-R      GEN   \n",
       "\n",
       "       year_of_release         genre  na_sales  eu_sales  jp_sales  \\\n",
       "145           1,992.00      Platform      4.47      1.20      0.16   \n",
       "257           1,991.00      Platform      3.03      0.91      0.26   \n",
       "564           1,992.00      Fighting      1.95      0.63      0.00   \n",
       "588           1,990.00        Action      1.86      0.55      0.11   \n",
       "659           1,993.00           NaN      1.78      0.53      0.00   \n",
       "832           1,992.00        Sports      1.75      0.25      0.00   \n",
       "960           1,994.00      Platform      1.24      0.43      0.03   \n",
       "996           1,994.00      Platform      1.02      0.47      0.20   \n",
       "1099          1,992.00      Fighting      1.00      0.30      0.31   \n",
       "1365          1,994.00      Platform      0.97      0.37      0.03   \n",
       "1453          1,994.00      Fighting      1.03      0.27      0.00   \n",
       "1842          1,994.00        Sports      0.95      0.14      0.00   \n",
       "6451          1,994.00        Racing      0.00      0.00      0.26   \n",
       "7885          1,993.00      Strategy      0.00      0.00      0.19   \n",
       "8893          1,993.00      Fighting      0.00      0.00      0.15   \n",
       "9000          1,994.00  Role-Playing      0.00      0.00      0.14   \n",
       "9563          1,992.00       Shooter      0.00      0.00      0.13   \n",
       "9787          1,992.00     Adventure      0.00      0.00      0.12   \n",
       "11563         1,994.00      Fighting      0.00      0.00      0.08   \n",
       "11660         1,994.00  Role-Playing      0.00      0.00      0.08   \n",
       "11986         1,993.00     Adventure      0.00      0.00      0.07   \n",
       "12098         1,993.00        Action      0.00      0.00      0.07   \n",
       "12264         1,993.00        Action      0.00      0.00      0.07   \n",
       "12984         1,993.00      Platform      0.00      0.00      0.05   \n",
       "13343         1,993.00  Role-Playing      0.00      0.00      0.05   \n",
       "14085         1,994.00        Sports      0.00      0.00      0.04   \n",
       "14132         1,994.00      Platform      0.00      0.00      0.04   \n",
       "14244         1,993.00           NaN      0.00      0.00      0.03   \n",
       "14488         1,994.00          Misc      0.00      0.00      0.03   \n",
       "\n",
       "       other_sales  critic_score user_score rating  \n",
       "145           0.19           NaN        NaN    NaN  \n",
       "257           0.13           NaN        NaN    NaN  \n",
       "564           0.09           NaN        NaN    NaN  \n",
       "588           0.08           NaN        NaN    NaN  \n",
       "659           0.08           NaN        NaN    NaN  \n",
       "832           0.05           NaN        NaN    NaN  \n",
       "960           0.12           NaN        NaN    NaN  \n",
       "996           0.07           NaN        NaN    NaN  \n",
       "1099          0.04           NaN        NaN    NaN  \n",
       "1365          0.05           NaN        NaN    NaN  \n",
       "1453          0.04           NaN        NaN    NaN  \n",
       "1842          0.03           NaN        NaN    NaN  \n",
       "6451          0.00           NaN        NaN    NaN  \n",
       "7885          0.00           NaN        NaN    NaN  \n",
       "8893          0.00           NaN        NaN    NaN  \n",
       "9000          0.00           NaN        NaN    NaN  \n",
       "9563          0.00           NaN        NaN    NaN  \n",
       "9787          0.00           NaN        NaN    NaN  \n",
       "11563         0.00           NaN        NaN    NaN  \n",
       "11660         0.00           NaN        NaN    NaN  \n",
       "11986         0.00           NaN        NaN    NaN  \n",
       "12098         0.00           NaN        NaN    NaN  \n",
       "12264         0.00           NaN        NaN    NaN  \n",
       "12984         0.00           NaN        NaN    NaN  \n",
       "13343         0.00           NaN        NaN    NaN  \n",
       "14085         0.00           NaN        NaN    NaN  \n",
       "14132         0.00           NaN        NaN    NaN  \n",
       "14244         0.00           NaN        NaN    NaN  \n",
       "14488         0.00           NaN        NaN    NaN  "
      ]
     },
     "execution_count": 14,
     "metadata": {},
     "output_type": "execute_result"
    }
   ],
   "source": [
    "data.query('platform == \"GEN\"')"
   ]
  },
  {
   "cell_type": "code",
   "execution_count": 15,
   "id": "e951ac76",
   "metadata": {},
   "outputs": [
    {
     "data": {
      "text/plain": [
       "name               0\n",
       "platform           0\n",
       "year_of_release    0\n",
       "genre              0\n",
       "na_sales           0\n",
       "eu_sales           0\n",
       "jp_sales           0\n",
       "other_sales        0\n",
       "critic_score       0\n",
       "user_score         0\n",
       "rating             0\n",
       "dtype: int64"
      ]
     },
     "execution_count": 15,
     "metadata": {},
     "output_type": "execute_result"
    }
   ],
   "source": [
    "# удалим колонки с пропусками в названии игры\n",
    "data = data.dropna(subset=['name'])\n",
    "data[data.name.isna()].count()"
   ]
  },
  {
   "cell_type": "code",
   "execution_count": 16,
   "id": "3562e46c",
   "metadata": {},
   "outputs": [],
   "source": [
    "# заменим пропуски в колонке genre на 'unknown'\n",
    "data['genre'] = data['genre'].fillna('unknown')"
   ]
  },
  {
   "cell_type": "markdown",
   "id": "ff60d637",
   "metadata": {},
   "source": [
    "* Название одной и той же игры встречается несколько раз, так как игра выпускалась на разных платформах. Предположим, что одна и таже игра на разных платформах выходила в один и тот же год, тогда мы сможем заполнить пропуски такого рода. Оставшиеся пропуски заполним значением -1. Данное значение резко отличается от других значений в колонке, но позволит нам привести к нужному типу данных (int) и работать с этой колонкой дальше."
   ]
  },
  {
   "cell_type": "code",
   "execution_count": 17,
   "id": "b1f4aeaf",
   "metadata": {},
   "outputs": [
    {
     "data": {
      "text/html": [
       "<div>\n",
       "<style scoped>\n",
       "    .dataframe tbody tr th:only-of-type {\n",
       "        vertical-align: middle;\n",
       "    }\n",
       "\n",
       "    .dataframe tbody tr th {\n",
       "        vertical-align: top;\n",
       "    }\n",
       "\n",
       "    .dataframe thead th {\n",
       "        text-align: right;\n",
       "    }\n",
       "</style>\n",
       "<table border=\"1\" class=\"dataframe\">\n",
       "  <thead>\n",
       "    <tr style=\"text-align: right;\">\n",
       "      <th></th>\n",
       "      <th>name</th>\n",
       "      <th>platform</th>\n",
       "      <th>year_of_release</th>\n",
       "      <th>genre</th>\n",
       "      <th>na_sales</th>\n",
       "      <th>eu_sales</th>\n",
       "      <th>jp_sales</th>\n",
       "      <th>other_sales</th>\n",
       "      <th>critic_score</th>\n",
       "      <th>user_score</th>\n",
       "      <th>rating</th>\n",
       "    </tr>\n",
       "  </thead>\n",
       "  <tbody>\n",
       "    <tr>\n",
       "      <th>183</th>\n",
       "      <td>Madden NFL 2004</td>\n",
       "      <td>PS2</td>\n",
       "      <td>NaN</td>\n",
       "      <td>Sports</td>\n",
       "      <td>4.26</td>\n",
       "      <td>0.26</td>\n",
       "      <td>0.01</td>\n",
       "      <td>0.71</td>\n",
       "      <td>94.00</td>\n",
       "      <td>8.5</td>\n",
       "      <td>E</td>\n",
       "    </tr>\n",
       "    <tr>\n",
       "      <th>377</th>\n",
       "      <td>FIFA Soccer 2004</td>\n",
       "      <td>PS2</td>\n",
       "      <td>NaN</td>\n",
       "      <td>Sports</td>\n",
       "      <td>0.59</td>\n",
       "      <td>2.36</td>\n",
       "      <td>0.04</td>\n",
       "      <td>0.51</td>\n",
       "      <td>84.00</td>\n",
       "      <td>6.4</td>\n",
       "      <td>E</td>\n",
       "    </tr>\n",
       "    <tr>\n",
       "      <th>456</th>\n",
       "      <td>LEGO Batman: The Videogame</td>\n",
       "      <td>Wii</td>\n",
       "      <td>NaN</td>\n",
       "      <td>Action</td>\n",
       "      <td>1.80</td>\n",
       "      <td>0.97</td>\n",
       "      <td>0.00</td>\n",
       "      <td>0.29</td>\n",
       "      <td>74.00</td>\n",
       "      <td>7.9</td>\n",
       "      <td>E10+</td>\n",
       "    </tr>\n",
       "    <tr>\n",
       "      <th>475</th>\n",
       "      <td>wwe Smackdown vs. Raw 2006</td>\n",
       "      <td>PS2</td>\n",
       "      <td>NaN</td>\n",
       "      <td>Fighting</td>\n",
       "      <td>1.57</td>\n",
       "      <td>1.02</td>\n",
       "      <td>0.00</td>\n",
       "      <td>0.41</td>\n",
       "      <td>NaN</td>\n",
       "      <td>NaN</td>\n",
       "      <td>NaN</td>\n",
       "    </tr>\n",
       "    <tr>\n",
       "      <th>609</th>\n",
       "      <td>Space Invaders</td>\n",
       "      <td>2600</td>\n",
       "      <td>NaN</td>\n",
       "      <td>Shooter</td>\n",
       "      <td>2.36</td>\n",
       "      <td>0.14</td>\n",
       "      <td>0.00</td>\n",
       "      <td>0.03</td>\n",
       "      <td>NaN</td>\n",
       "      <td>NaN</td>\n",
       "      <td>NaN</td>\n",
       "    </tr>\n",
       "    <tr>\n",
       "      <th>...</th>\n",
       "      <td>...</td>\n",
       "      <td>...</td>\n",
       "      <td>...</td>\n",
       "      <td>...</td>\n",
       "      <td>...</td>\n",
       "      <td>...</td>\n",
       "      <td>...</td>\n",
       "      <td>...</td>\n",
       "      <td>...</td>\n",
       "      <td>...</td>\n",
       "      <td>...</td>\n",
       "    </tr>\n",
       "    <tr>\n",
       "      <th>16373</th>\n",
       "      <td>PDC World Championship Darts 2008</td>\n",
       "      <td>PSP</td>\n",
       "      <td>NaN</td>\n",
       "      <td>Sports</td>\n",
       "      <td>0.01</td>\n",
       "      <td>0.00</td>\n",
       "      <td>0.00</td>\n",
       "      <td>0.00</td>\n",
       "      <td>43.00</td>\n",
       "      <td>tbd</td>\n",
       "      <td>E10+</td>\n",
       "    </tr>\n",
       "    <tr>\n",
       "      <th>16405</th>\n",
       "      <td>Freaky Flyers</td>\n",
       "      <td>GC</td>\n",
       "      <td>NaN</td>\n",
       "      <td>Racing</td>\n",
       "      <td>0.01</td>\n",
       "      <td>0.00</td>\n",
       "      <td>0.00</td>\n",
       "      <td>0.00</td>\n",
       "      <td>69.00</td>\n",
       "      <td>6.5</td>\n",
       "      <td>T</td>\n",
       "    </tr>\n",
       "    <tr>\n",
       "      <th>16448</th>\n",
       "      <td>Inversion</td>\n",
       "      <td>PC</td>\n",
       "      <td>NaN</td>\n",
       "      <td>Shooter</td>\n",
       "      <td>0.01</td>\n",
       "      <td>0.00</td>\n",
       "      <td>0.00</td>\n",
       "      <td>0.00</td>\n",
       "      <td>59.00</td>\n",
       "      <td>6.7</td>\n",
       "      <td>M</td>\n",
       "    </tr>\n",
       "    <tr>\n",
       "      <th>16458</th>\n",
       "      <td>Hakuouki: Shinsengumi Kitan</td>\n",
       "      <td>PS3</td>\n",
       "      <td>NaN</td>\n",
       "      <td>Adventure</td>\n",
       "      <td>0.01</td>\n",
       "      <td>0.00</td>\n",
       "      <td>0.00</td>\n",
       "      <td>0.00</td>\n",
       "      <td>NaN</td>\n",
       "      <td>NaN</td>\n",
       "      <td>NaN</td>\n",
       "    </tr>\n",
       "    <tr>\n",
       "      <th>16522</th>\n",
       "      <td>Virtua Quest</td>\n",
       "      <td>GC</td>\n",
       "      <td>NaN</td>\n",
       "      <td>Role-Playing</td>\n",
       "      <td>0.01</td>\n",
       "      <td>0.00</td>\n",
       "      <td>0.00</td>\n",
       "      <td>0.00</td>\n",
       "      <td>55.00</td>\n",
       "      <td>5.5</td>\n",
       "      <td>T</td>\n",
       "    </tr>\n",
       "  </tbody>\n",
       "</table>\n",
       "<p>269 rows × 11 columns</p>\n",
       "</div>"
      ],
      "text/plain": [
       "                                    name platform  year_of_release  \\\n",
       "183                      Madden NFL 2004      PS2              NaN   \n",
       "377                     FIFA Soccer 2004      PS2              NaN   \n",
       "456           LEGO Batman: The Videogame      Wii              NaN   \n",
       "475           wwe Smackdown vs. Raw 2006      PS2              NaN   \n",
       "609                       Space Invaders     2600              NaN   \n",
       "...                                  ...      ...              ...   \n",
       "16373  PDC World Championship Darts 2008      PSP              NaN   \n",
       "16405                      Freaky Flyers       GC              NaN   \n",
       "16448                          Inversion       PC              NaN   \n",
       "16458        Hakuouki: Shinsengumi Kitan      PS3              NaN   \n",
       "16522                       Virtua Quest       GC              NaN   \n",
       "\n",
       "              genre  na_sales  eu_sales  jp_sales  other_sales  critic_score  \\\n",
       "183          Sports      4.26      0.26      0.01         0.71         94.00   \n",
       "377          Sports      0.59      2.36      0.04         0.51         84.00   \n",
       "456          Action      1.80      0.97      0.00         0.29         74.00   \n",
       "475        Fighting      1.57      1.02      0.00         0.41           NaN   \n",
       "609         Shooter      2.36      0.14      0.00         0.03           NaN   \n",
       "...             ...       ...       ...       ...          ...           ...   \n",
       "16373        Sports      0.01      0.00      0.00         0.00         43.00   \n",
       "16405        Racing      0.01      0.00      0.00         0.00         69.00   \n",
       "16448       Shooter      0.01      0.00      0.00         0.00         59.00   \n",
       "16458     Adventure      0.01      0.00      0.00         0.00           NaN   \n",
       "16522  Role-Playing      0.01      0.00      0.00         0.00         55.00   \n",
       "\n",
       "      user_score rating  \n",
       "183          8.5      E  \n",
       "377          6.4      E  \n",
       "456          7.9   E10+  \n",
       "475          NaN    NaN  \n",
       "609          NaN    NaN  \n",
       "...          ...    ...  \n",
       "16373        tbd   E10+  \n",
       "16405        6.5      T  \n",
       "16448        6.7      M  \n",
       "16458        NaN    NaN  \n",
       "16522        5.5      T  \n",
       "\n",
       "[269 rows x 11 columns]"
      ]
     },
     "execution_count": 17,
     "metadata": {},
     "output_type": "execute_result"
    }
   ],
   "source": [
    "# пропуски в колонке year_of_release\n",
    "data[data.year_of_release.isna()]"
   ]
  },
  {
   "cell_type": "code",
   "execution_count": 18,
   "id": "936298fb",
   "metadata": {},
   "outputs": [
    {
     "data": {
      "text/html": [
       "<div>\n",
       "<style scoped>\n",
       "    .dataframe tbody tr th:only-of-type {\n",
       "        vertical-align: middle;\n",
       "    }\n",
       "\n",
       "    .dataframe tbody tr th {\n",
       "        vertical-align: top;\n",
       "    }\n",
       "\n",
       "    .dataframe thead th {\n",
       "        text-align: right;\n",
       "    }\n",
       "</style>\n",
       "<table border=\"1\" class=\"dataframe\">\n",
       "  <thead>\n",
       "    <tr style=\"text-align: right;\">\n",
       "      <th></th>\n",
       "      <th>name</th>\n",
       "      <th>platform</th>\n",
       "      <th>year_of_release</th>\n",
       "      <th>genre</th>\n",
       "      <th>na_sales</th>\n",
       "      <th>eu_sales</th>\n",
       "      <th>jp_sales</th>\n",
       "      <th>other_sales</th>\n",
       "      <th>critic_score</th>\n",
       "      <th>user_score</th>\n",
       "      <th>rating</th>\n",
       "    </tr>\n",
       "  </thead>\n",
       "  <tbody>\n",
       "    <tr>\n",
       "      <th>12146</th>\n",
       "      <td>Inversion</td>\n",
       "      <td>PS3</td>\n",
       "      <td>2,012.00</td>\n",
       "      <td>Shooter</td>\n",
       "      <td>0.03</td>\n",
       "      <td>0.03</td>\n",
       "      <td>0.00</td>\n",
       "      <td>0.01</td>\n",
       "      <td>56.00</td>\n",
       "      <td>5.4</td>\n",
       "      <td>M</td>\n",
       "    </tr>\n",
       "    <tr>\n",
       "      <th>12678</th>\n",
       "      <td>Inversion</td>\n",
       "      <td>X360</td>\n",
       "      <td>2,012.00</td>\n",
       "      <td>Shooter</td>\n",
       "      <td>0.03</td>\n",
       "      <td>0.02</td>\n",
       "      <td>0.00</td>\n",
       "      <td>0.01</td>\n",
       "      <td>53.00</td>\n",
       "      <td>6.5</td>\n",
       "      <td>M</td>\n",
       "    </tr>\n",
       "    <tr>\n",
       "      <th>16448</th>\n",
       "      <td>Inversion</td>\n",
       "      <td>PC</td>\n",
       "      <td>NaN</td>\n",
       "      <td>Shooter</td>\n",
       "      <td>0.01</td>\n",
       "      <td>0.00</td>\n",
       "      <td>0.00</td>\n",
       "      <td>0.00</td>\n",
       "      <td>59.00</td>\n",
       "      <td>6.7</td>\n",
       "      <td>M</td>\n",
       "    </tr>\n",
       "  </tbody>\n",
       "</table>\n",
       "</div>"
      ],
      "text/plain": [
       "            name platform  year_of_release    genre  na_sales  eu_sales  \\\n",
       "12146  Inversion      PS3         2,012.00  Shooter      0.03      0.03   \n",
       "12678  Inversion     X360         2,012.00  Shooter      0.03      0.02   \n",
       "16448  Inversion       PC              NaN  Shooter      0.01      0.00   \n",
       "\n",
       "       jp_sales  other_sales  critic_score user_score rating  \n",
       "12146      0.00         0.01         56.00        5.4      M  \n",
       "12678      0.00         0.01         53.00        6.5      M  \n",
       "16448      0.00         0.00         59.00        6.7      M  "
      ]
     },
     "execution_count": 18,
     "metadata": {},
     "output_type": "execute_result"
    }
   ],
   "source": [
    "data.query('name == \"Inversion\"')"
   ]
  },
  {
   "cell_type": "code",
   "execution_count": 19,
   "id": "319ddea4",
   "metadata": {},
   "outputs": [
    {
     "data": {
      "text/html": [
       "<div>\n",
       "<style scoped>\n",
       "    .dataframe tbody tr th:only-of-type {\n",
       "        vertical-align: middle;\n",
       "    }\n",
       "\n",
       "    .dataframe tbody tr th {\n",
       "        vertical-align: top;\n",
       "    }\n",
       "\n",
       "    .dataframe thead th {\n",
       "        text-align: right;\n",
       "    }\n",
       "</style>\n",
       "<table border=\"1\" class=\"dataframe\">\n",
       "  <thead>\n",
       "    <tr style=\"text-align: right;\">\n",
       "      <th></th>\n",
       "      <th>name</th>\n",
       "      <th>platform</th>\n",
       "      <th>year_of_release</th>\n",
       "      <th>genre</th>\n",
       "      <th>na_sales</th>\n",
       "      <th>eu_sales</th>\n",
       "      <th>jp_sales</th>\n",
       "      <th>other_sales</th>\n",
       "      <th>critic_score</th>\n",
       "      <th>user_score</th>\n",
       "      <th>rating</th>\n",
       "    </tr>\n",
       "  </thead>\n",
       "  <tbody>\n",
       "    <tr>\n",
       "      <th>15754</th>\n",
       "      <td>Virtua Quest</td>\n",
       "      <td>PS2</td>\n",
       "      <td>NaN</td>\n",
       "      <td>Role-Playing</td>\n",
       "      <td>0.01</td>\n",
       "      <td>0.01</td>\n",
       "      <td>0.00</td>\n",
       "      <td>0.00</td>\n",
       "      <td>53.00</td>\n",
       "      <td>7.6</td>\n",
       "      <td>T</td>\n",
       "    </tr>\n",
       "    <tr>\n",
       "      <th>16522</th>\n",
       "      <td>Virtua Quest</td>\n",
       "      <td>GC</td>\n",
       "      <td>NaN</td>\n",
       "      <td>Role-Playing</td>\n",
       "      <td>0.01</td>\n",
       "      <td>0.00</td>\n",
       "      <td>0.00</td>\n",
       "      <td>0.00</td>\n",
       "      <td>55.00</td>\n",
       "      <td>5.5</td>\n",
       "      <td>T</td>\n",
       "    </tr>\n",
       "  </tbody>\n",
       "</table>\n",
       "</div>"
      ],
      "text/plain": [
       "               name platform  year_of_release         genre  na_sales  \\\n",
       "15754  Virtua Quest      PS2              NaN  Role-Playing      0.01   \n",
       "16522  Virtua Quest       GC              NaN  Role-Playing      0.01   \n",
       "\n",
       "       eu_sales  jp_sales  other_sales  critic_score user_score rating  \n",
       "15754      0.01      0.00         0.00         53.00        7.6      T  \n",
       "16522      0.00      0.00         0.00         55.00        5.5      T  "
      ]
     },
     "execution_count": 19,
     "metadata": {},
     "output_type": "execute_result"
    }
   ],
   "source": [
    "data.query('name == \"Virtua Quest\"')"
   ]
  },
  {
   "cell_type": "code",
   "execution_count": 20,
   "id": "da784d49",
   "metadata": {},
   "outputs": [
    {
     "data": {
      "text/plain": [
       "11560"
      ]
     },
     "execution_count": 20,
     "metadata": {},
     "output_type": "execute_result"
    }
   ],
   "source": [
    "# всего уникальных значений в name\n",
    "len(data['name'].unique())"
   ]
  },
  {
   "cell_type": "code",
   "execution_count": 21,
   "id": "a2bf400c",
   "metadata": {},
   "outputs": [
    {
     "data": {
      "text/plain": [
       "name                  0\n",
       "platform              0\n",
       "year_of_release       0\n",
       "genre                 0\n",
       "na_sales              0\n",
       "eu_sales              0\n",
       "jp_sales              0\n",
       "other_sales           0\n",
       "critic_score       8463\n",
       "user_score         6607\n",
       "rating             6678\n",
       "dtype: int64"
      ]
     },
     "execution_count": 21,
     "metadata": {},
     "output_type": "execute_result"
    }
   ],
   "source": [
    "# удалим пропуски в колонке year_of_release\n",
    "data = data.dropna(subset = ['year_of_release'])\n",
    "data.isna().sum()"
   ]
  },
  {
   "cell_type": "markdown",
   "id": "273e4a59",
   "metadata": {},
   "source": [
    "Пропуски в колонке `user_score`  Примем, что скорее всего оценка пользователей конкретной игры не сильно отличается от платформы к платформе. Заполним возможные пропуски средней оценкой по игре, вычисленной по тем платформам по которым имеются данные для этой игры. Остальные пропуски заполнить -1 мы не можем, так как при вычислении средней оценки это повлияет на результат. В данной колонке есть значение tbd, его заменить на определенную оценку мы так же не можем, однако, что бы привести клонку к типу float и работать с ней дальше, мы можем заменить tbd на Nan.\n",
    "\n",
    "Похожая ситуация с пропусками в колонке `critic_score`. Возможные значения Nan заполним средней оценкой для этой игры исходя из данных для других платформ."
   ]
  },
  {
   "cell_type": "code",
   "execution_count": 22,
   "id": "32843c67",
   "metadata": {},
   "outputs": [],
   "source": [
    "# заменяем значение tdb на nan\n",
    "data.loc[data.loc[:,'user_score'] == 'tbd','user_score'] = np.nan"
   ]
  },
  {
   "cell_type": "markdown",
   "id": "bdee0653",
   "metadata": {},
   "source": [
    "* Для дальнейшей замены пропусков, необходимо привести данные к нужному типу"
   ]
  },
  {
   "cell_type": "markdown",
   "id": "26edfe85",
   "metadata": {},
   "source": [
    "## Преобразование данных в нужные типы"
   ]
  },
  {
   "cell_type": "markdown",
   "id": "98e96542",
   "metadata": {},
   "source": [
    "После замены возможных пропусков, можно привести к необходимому типу данных колонки `year_of_release` и `user_score`."
   ]
  },
  {
   "cell_type": "code",
   "execution_count": 23,
   "id": "8195989a",
   "metadata": {},
   "outputs": [
    {
     "name": "stdout",
     "output_type": "stream",
     "text": [
      "Возникла ошибка с приведением типов\n",
      "<class 'pandas.core.frame.DataFrame'>\n",
      "Int64Index: 16446 entries, 0 to 16714\n",
      "Data columns (total 11 columns):\n",
      " #   Column           Non-Null Count  Dtype  \n",
      "---  ------           --------------  -----  \n",
      " 0   name             16446 non-null  object \n",
      " 1   platform         16446 non-null  object \n",
      " 2   year_of_release  16446 non-null  int64  \n",
      " 3   genre            16446 non-null  object \n",
      " 4   na_sales         16446 non-null  float64\n",
      " 5   eu_sales         16446 non-null  float64\n",
      " 6   jp_sales         16446 non-null  float64\n",
      " 7   other_sales      16446 non-null  float64\n",
      " 8   critic_score     7983 non-null   float64\n",
      " 9   user_score       7463 non-null   float64\n",
      " 10  rating           9768 non-null   object \n",
      "dtypes: float64(6), int64(1), object(4)\n",
      "memory usage: 1.5+ MB\n"
     ]
    }
   ],
   "source": [
    "try:\n",
    "    data['year_of_release'] = data['year_of_release'].astype('int')\n",
    "    data['user_score'] = data['user_score'].astype('float')\n",
    "    data['critic_score'] = data['critic_score'].astypetupe('float')\n",
    "except:\n",
    "     print('Возникла ошибка с приведением типов')\n",
    "data.info()"
   ]
  },
  {
   "cell_type": "markdown",
   "id": "9bc0ca91",
   "metadata": {},
   "source": [
    "* Продолжаем заполнять пропуски в колонках `user_score` и `critic_score`"
   ]
  },
  {
   "cell_type": "code",
   "execution_count": 24,
   "id": "5adf53ec",
   "metadata": {},
   "outputs": [
    {
     "data": {
      "text/plain": [
       "7922"
      ]
     },
     "execution_count": 24,
     "metadata": {},
     "output_type": "execute_result"
    }
   ],
   "source": [
    "# заменяем возможные пропуски в колонке `user_score` на среднее значение\n",
    "data['user_score'] = (data['user_score']\n",
    "                              .fillna(data.groupby('name')['user_score']\n",
    "                                      .transform('mean')))\n",
    "data['user_score'].isna().sum()"
   ]
  },
  {
   "cell_type": "code",
   "execution_count": 25,
   "id": "7f8ecc76",
   "metadata": {},
   "outputs": [
    {
     "data": {
      "text/plain": [
       "array([8.        ,        nan, 8.3       , 8.5       , 6.6       ,\n",
       "       8.4       , 8.6       , 7.7       , 6.3       , 7.4       ,\n",
       "       8.2       , 9.        , 7.9       , 8.1       , 8.7       ,\n",
       "       7.1       , 3.4       , 5.3       , 4.8       , 3.2       ,\n",
       "       8.9       , 6.4       , 7.8       , 7.5       , 2.6       ,\n",
       "       7.2       , 9.2       , 7.        , 7.3       , 4.3       ,\n",
       "       7.6       , 5.7       , 5.        , 9.1       , 6.5       ,\n",
       "       4.65      , 8.8       , 6.9       , 9.4       , 6.8       ,\n",
       "       6.1       , 6.7       , 5.4       , 4.        , 4.25      ,\n",
       "       4.9       , 4.5       , 9.3       , 6.2       , 4.2       ,\n",
       "       8.475     , 6.        , 3.7       , 4.1       , 5.8       ,\n",
       "       5.6       , 5.5       , 4.4       , 4.6       , 5.9       ,\n",
       "       3.9       , 4.15      , 8.37777778, 8.16666667, 3.1       ,\n",
       "       6.875     , 2.9       , 8.56666667, 5.2       , 6.25      ,\n",
       "       7.35      , 7.575     , 3.3       , 2.2       , 4.7       ,\n",
       "       5.66666667, 5.1       , 7.05      , 3.5       , 7.38333333,\n",
       "       2.5       , 1.9       , 3.        , 8.43333333, 6.02      ,\n",
       "       2.7       , 7.56666667, 8.76666667, 7.63333333, 2.        ,\n",
       "       7.56      , 6.68333333, 9.5       , 4.35      , 7.15      ,\n",
       "       2.1       , 7.28      , 3.6       , 9.7       , 5.13333333,\n",
       "       2.8       , 5.775     , 7.65      , 8.65      , 5.88333333,\n",
       "       7.9       , 6.85      , 1.8       , 5.95      , 8.35      ,\n",
       "       3.8       , 7.375     , 8.33333333, 6.86666667, 7.66666667,\n",
       "       8.25      , 0.        , 7.08333333, 3.32      , 3.6       ,\n",
       "       1.6       , 7.82      , 7.425     , 7.1       , 7.25      ,\n",
       "       6.65      , 6.56666667, 7.95      , 9.6       , 6.8       ,\n",
       "       6.75      , 6.4       , 8.85      , 7.45      , 5.65      ,\n",
       "       7.85      , 7.0125    , 5.76666667, 6.9       , 7.675     ,\n",
       "       7.36666667, 6.46      , 2.4       , 8.95      , 6.96666667,\n",
       "       6.35      , 7.93333333, 6.43333333, 1.7       , 5.45      ,\n",
       "       6.05      , 6.85      , 6.73333333, 7.13333333, 5.23333333,\n",
       "       6.26666667, 8.63333333, 1.1       , 6.68      , 7.8       ,\n",
       "       8.7       , 5.85      , 6.53333333, 6.95      , 0.3       ,\n",
       "       5.35      , 5.2       , 7.75      , 6.05      , 6.06666667,\n",
       "       8.06666667, 7.55      , 8.08      , 5.6       , 6.83333333,\n",
       "       1.3       , 6.45      , 6.58571429, 3.9       , 6.46666667,\n",
       "       6.22      , 5.93333333, 8.36666667, 4.3375    , 7.4       ,\n",
       "       7.48      , 5.86666667, 7.775     , 4.825     , 6.15      ,\n",
       "       1.4       , 5.675     , 1.5       , 7.43333333, 8.66666667,\n",
       "       4.26666667, 5.33333333, 7.85      , 4.45      , 5.75      ,\n",
       "       6.36666667, 4.93333333, 0.7       , 1.2       , 6.16666667,\n",
       "       6.33333333, 2.3       , 9.1       , 0.5       , 4.05      ,\n",
       "       6.475     , 6.93333333, 5.16666667, 8.53333333, 8.65      ,\n",
       "       8.83333333, 7.16      , 4.05      , 7.73333333, 7.2       ,\n",
       "       0.2       , 6.95      , 8.075     , 8.45      , 8.46666667,\n",
       "       0.6       , 3.25      , 6.7       , 5.63333333, 0.9       ,\n",
       "       6.45      , 1.        , 8.23333333, 4.9       , 7.23333333,\n",
       "       8.24      , 6.6       , 8.36666667, 8.55      , 4.6       ,\n",
       "       7.6       , 6.12      , 6.725     , 4.8       , 8.05      ,\n",
       "       6.2       , 3.95      , 8.15      , 3.75      , 7.95      ,\n",
       "       5.93333333, 4.53333333, 8.75      , 6.85      , 6.625     ,\n",
       "       7.05      , 5.475     ])"
      ]
     },
     "execution_count": 25,
     "metadata": {},
     "output_type": "execute_result"
    }
   ],
   "source": [
    "# проверяем уникальные значения в колонке, на отсутствие tbd\n",
    "data['user_score'].unique()"
   ]
  },
  {
   "cell_type": "code",
   "execution_count": 26,
   "id": "34baad0f",
   "metadata": {},
   "outputs": [
    {
     "data": {
      "text/plain": [
       "7524"
      ]
     },
     "execution_count": 26,
     "metadata": {},
     "output_type": "execute_result"
    }
   ],
   "source": [
    "# заполнение возможных пропусков в колонке critic_score\n",
    "data['critic_score'] = (data['critic_score']\n",
    "                              .fillna(data.groupby('name')['critic_score']\n",
    "                                      .transform('mean')))\n",
    "data['critic_score'].isna().sum()"
   ]
  },
  {
   "cell_type": "markdown",
   "id": "e473f2ac",
   "metadata": {},
   "source": [
    "## Замена пропусков в колонке rating"
   ]
  },
  {
   "cell_type": "code",
   "execution_count": 27,
   "id": "0186dfc3",
   "metadata": {},
   "outputs": [
    {
     "name": "stdout",
     "output_type": "stream",
     "text": [
      "Частота встречаемости E 39.41%\n",
      "Частота встречаемости M 15.44%\n",
      "Частота встречаемости T 29.20%\n",
      "Частота встречаемости E10+ 14.00%\n",
      "Частота встречаемости K-A 0.03%\n",
      "Частота встречаемости AO 0.01%\n",
      "Частота встречаемости EC 0.08%\n",
      "Частота встречаемости RP 0.01%\n"
     ]
    }
   ],
   "source": [
    "rating = [\"E\", \"M\", \"T\", \"E10+\", \"K-A\", \"AO\", \"EC\", \"RP\"]\n",
    "for i in rating:\n",
    "    frequency = data[data.rating == i]['rating'].count()\n",
    "    result = (frequency/9949)\n",
    "    print(f'Частота встречаемости {i} {result:.2%}')"
   ]
  },
  {
   "cell_type": "markdown",
   "id": "545979fb",
   "metadata": {},
   "source": [
    "Наиболее встречаемый рейтинг игр это Е, то есть для всех. Затем T (для подростков) и M (для взрослых). Около 1,8% пропусков. Пропуски в колонке rating можно заменить на unknown"
   ]
  },
  {
   "cell_type": "code",
   "execution_count": 28,
   "id": "113f14a4",
   "metadata": {},
   "outputs": [
    {
     "data": {
      "text/plain": [
       "0"
      ]
     },
     "execution_count": 28,
     "metadata": {},
     "output_type": "execute_result"
    }
   ],
   "source": [
    "data['rating'] = data['rating'].fillna('unknown')\n",
    "data['rating'].isna().sum()"
   ]
  },
  {
   "cell_type": "markdown",
   "id": "af38dfde",
   "metadata": {},
   "source": [
    "## Создаем колонку с общими продажами игры"
   ]
  },
  {
   "cell_type": "code",
   "execution_count": 29,
   "id": "8a0388fd",
   "metadata": {},
   "outputs": [
    {
     "data": {
      "text/html": [
       "<div>\n",
       "<style scoped>\n",
       "    .dataframe tbody tr th:only-of-type {\n",
       "        vertical-align: middle;\n",
       "    }\n",
       "\n",
       "    .dataframe tbody tr th {\n",
       "        vertical-align: top;\n",
       "    }\n",
       "\n",
       "    .dataframe thead th {\n",
       "        text-align: right;\n",
       "    }\n",
       "</style>\n",
       "<table border=\"1\" class=\"dataframe\">\n",
       "  <thead>\n",
       "    <tr style=\"text-align: right;\">\n",
       "      <th></th>\n",
       "      <th>name</th>\n",
       "      <th>platform</th>\n",
       "      <th>year_of_release</th>\n",
       "      <th>genre</th>\n",
       "      <th>na_sales</th>\n",
       "      <th>eu_sales</th>\n",
       "      <th>jp_sales</th>\n",
       "      <th>other_sales</th>\n",
       "      <th>critic_score</th>\n",
       "      <th>user_score</th>\n",
       "      <th>rating</th>\n",
       "      <th>general_sales</th>\n",
       "    </tr>\n",
       "  </thead>\n",
       "  <tbody>\n",
       "    <tr>\n",
       "      <th>0</th>\n",
       "      <td>Wii Sports</td>\n",
       "      <td>Wii</td>\n",
       "      <td>2006</td>\n",
       "      <td>Sports</td>\n",
       "      <td>41.36</td>\n",
       "      <td>28.96</td>\n",
       "      <td>3.77</td>\n",
       "      <td>8.45</td>\n",
       "      <td>76.00</td>\n",
       "      <td>8.00</td>\n",
       "      <td>E</td>\n",
       "      <td>82.54</td>\n",
       "    </tr>\n",
       "    <tr>\n",
       "      <th>1</th>\n",
       "      <td>Super Mario Bros.</td>\n",
       "      <td>NES</td>\n",
       "      <td>1985</td>\n",
       "      <td>Platform</td>\n",
       "      <td>29.08</td>\n",
       "      <td>3.58</td>\n",
       "      <td>6.81</td>\n",
       "      <td>0.77</td>\n",
       "      <td>NaN</td>\n",
       "      <td>NaN</td>\n",
       "      <td>unknown</td>\n",
       "      <td>40.24</td>\n",
       "    </tr>\n",
       "    <tr>\n",
       "      <th>2</th>\n",
       "      <td>Mario Kart Wii</td>\n",
       "      <td>Wii</td>\n",
       "      <td>2008</td>\n",
       "      <td>Racing</td>\n",
       "      <td>15.68</td>\n",
       "      <td>12.76</td>\n",
       "      <td>3.79</td>\n",
       "      <td>3.29</td>\n",
       "      <td>82.00</td>\n",
       "      <td>8.30</td>\n",
       "      <td>E</td>\n",
       "      <td>35.52</td>\n",
       "    </tr>\n",
       "    <tr>\n",
       "      <th>3</th>\n",
       "      <td>Wii Sports Resort</td>\n",
       "      <td>Wii</td>\n",
       "      <td>2009</td>\n",
       "      <td>Sports</td>\n",
       "      <td>15.61</td>\n",
       "      <td>10.93</td>\n",
       "      <td>3.28</td>\n",
       "      <td>2.95</td>\n",
       "      <td>80.00</td>\n",
       "      <td>8.00</td>\n",
       "      <td>E</td>\n",
       "      <td>32.77</td>\n",
       "    </tr>\n",
       "    <tr>\n",
       "      <th>4</th>\n",
       "      <td>Pokemon Red/Pokemon Blue</td>\n",
       "      <td>GB</td>\n",
       "      <td>1996</td>\n",
       "      <td>Role-Playing</td>\n",
       "      <td>11.27</td>\n",
       "      <td>8.89</td>\n",
       "      <td>10.22</td>\n",
       "      <td>1.00</td>\n",
       "      <td>NaN</td>\n",
       "      <td>NaN</td>\n",
       "      <td>unknown</td>\n",
       "      <td>31.38</td>\n",
       "    </tr>\n",
       "  </tbody>\n",
       "</table>\n",
       "</div>"
      ],
      "text/plain": [
       "                       name platform  year_of_release         genre  na_sales  \\\n",
       "0                Wii Sports      Wii             2006        Sports     41.36   \n",
       "1         Super Mario Bros.      NES             1985      Platform     29.08   \n",
       "2            Mario Kart Wii      Wii             2008        Racing     15.68   \n",
       "3         Wii Sports Resort      Wii             2009        Sports     15.61   \n",
       "4  Pokemon Red/Pokemon Blue       GB             1996  Role-Playing     11.27   \n",
       "\n",
       "   eu_sales  jp_sales  other_sales  critic_score  user_score   rating  \\\n",
       "0     28.96      3.77         8.45         76.00        8.00        E   \n",
       "1      3.58      6.81         0.77           NaN         NaN  unknown   \n",
       "2     12.76      3.79         3.29         82.00        8.30        E   \n",
       "3     10.93      3.28         2.95         80.00        8.00        E   \n",
       "4      8.89     10.22         1.00           NaN         NaN  unknown   \n",
       "\n",
       "   general_sales  \n",
       "0          82.54  \n",
       "1          40.24  \n",
       "2          35.52  \n",
       "3          32.77  \n",
       "4          31.38  "
      ]
     },
     "execution_count": 29,
     "metadata": {},
     "output_type": "execute_result"
    }
   ],
   "source": [
    "data['general_sales'] =(data['na_sales'] + \n",
    "                        data['eu_sales'] + \n",
    "                        data['jp_sales'] + \n",
    "                        data['other_sales'])\n",
    "data.head()"
   ]
  },
  {
   "cell_type": "markdown",
   "id": "aa139d2a",
   "metadata": {},
   "source": [
    "## Вывод:\n",
    "* Пропуски в колонке `name` удалены, а в `genre` заполнены на unknown.\n",
    "* Значение tbd в колонке `user_score` заполнены на Nan, что бы можно было привести данные к типу float.\n",
    "* Пропуски в колонке `year_of_release` удалены.\n",
    "* Пропуски в колонке `critic_score` заполнили средней оценкой для игр, для которых были данные по другим платформам, остальные пропуски заполнить не предоставляется возможным. \n",
    "* Замена пропусков в колонке  `rating` на значение самого распространненного рейтинга среди игр Е."
   ]
  },
  {
   "cell_type": "markdown",
   "id": "b68f5c30",
   "metadata": {},
   "source": [
    "# Исследовательский анализ данных"
   ]
  },
  {
   "cell_type": "markdown",
   "id": "11ac2581",
   "metadata": {},
   "source": [
    "## Количество выпущенных игр по годам"
   ]
  },
  {
   "cell_type": "markdown",
   "id": "6fa5d6ce",
   "metadata": {},
   "source": [
    "Посмотрим сколько игр выпускалось в разные года. Мы знаем, что в колонке `name` повторяющиеся названия игр (для разных платформ) то будем считать, что нас интересует выпуск именно игры, неважно на какой платформе. Для этого создадим новый датафрейм только с уникальными названиями игр и посчитаем количество выпущенных игр по годам."
   ]
  },
  {
   "cell_type": "code",
   "execution_count": 37,
   "id": "749a3de8",
   "metadata": {},
   "outputs": [
    {
     "data": {
      "image/png": "[encoded data removed]",
      "text/plain": [
       "<Figure size 864x432 with 1 Axes>"
      ]
     },
     "metadata": {
      "needs_background": "light"
     },
     "output_type": "display_data"
    }
   ],
   "source": [
    "data_name_unique = data.drop_duplicates(subset='name').copy()\n",
    "ax = (\n",
    "    data_name_unique\n",
    "    .pivot_table(index='year_of_release', values = 'name', aggfunc='count')\n",
    "    .plot.bar(grid=True, figsize=(12,6), title = 'Количество выпущенных игр по годам')    \n",
    ")\n",
    "plt.ylabel('Quantity of games in year');"
   ]
  },
  {
   "cell_type": "markdown",
   "id": "36e0e636",
   "metadata": {},
   "source": [
    "Пик по количеству выпущенных игр приходится на 2008 год. С 2012 года выпуск игр резко умешьшился. Данные за все периоды позволяют смотреть общую тенденцию количества выпущенных компьютерных игр. Общая тенденция позволяет понять как внешние факторы могли отразится на выпуске компьютерных игр."
   ]
  },
  {
   "cell_type": "markdown",
   "id": "f0723eee",
   "metadata": {},
   "source": [
    "## Изменение продаж по платформам"
   ]
  },
  {
   "cell_type": "code",
   "execution_count": 38,
   "id": "c79851f0",
   "metadata": {},
   "outputs": [
    {
     "data": {
      "image/png": "[encoded data removed]",
      "text/plain": [
       "<Figure size 864x432 with 1 Axes>"
      ]
     },
     "metadata": {
      "needs_background": "light"
     },
     "output_type": "display_data"
    }
   ],
   "source": [
    "ax = (\n",
    "     data_name_unique\n",
    "    .pivot_table(index='platform', values = 'general_sales', aggfunc='sum')\n",
    "    .plot.bar(grid=True, figsize=(12,6), title='Продажи по платформам')\n",
    ")\n",
    "ax.set_xlabel('Платформа');\n",
    "ax.set_ylabel('Общие число продаж по всем регионам');"
   ]
  },
  {
   "cell_type": "markdown",
   "id": "21c5d812",
   "metadata": {},
   "source": [
    "Больше всего продаж пришлось на платформы PS2, PS, PS3, DC, Wii, X360. "
   ]
  },
  {
   "cell_type": "code",
   "execution_count": 39,
   "id": "558c4cf6",
   "metadata": {},
   "outputs": [
    {
     "data": {
      "text/html": [
       "<div>\n",
       "<style scoped>\n",
       "    .dataframe tbody tr th:only-of-type {\n",
       "        vertical-align: middle;\n",
       "    }\n",
       "\n",
       "    .dataframe tbody tr th {\n",
       "        vertical-align: top;\n",
       "    }\n",
       "\n",
       "    .dataframe thead th {\n",
       "        text-align: right;\n",
       "    }\n",
       "</style>\n",
       "<table border=\"1\" class=\"dataframe\">\n",
       "  <thead>\n",
       "    <tr style=\"text-align: right;\">\n",
       "      <th></th>\n",
       "      <th>general_sales</th>\n",
       "    </tr>\n",
       "    <tr>\n",
       "      <th>platform</th>\n",
       "      <th></th>\n",
       "    </tr>\n",
       "  </thead>\n",
       "  <tbody>\n",
       "    <tr>\n",
       "      <th>PS2</th>\n",
       "      <td>1,233.56</td>\n",
       "    </tr>\n",
       "    <tr>\n",
       "      <th>X360</th>\n",
       "      <td>961.24</td>\n",
       "    </tr>\n",
       "    <tr>\n",
       "      <th>PS3</th>\n",
       "      <td>931.34</td>\n",
       "    </tr>\n",
       "    <tr>\n",
       "      <th>Wii</th>\n",
       "      <td>891.18</td>\n",
       "    </tr>\n",
       "    <tr>\n",
       "      <th>DS</th>\n",
       "      <td>802.78</td>\n",
       "    </tr>\n",
       "    <tr>\n",
       "      <th>PS</th>\n",
       "      <td>727.58</td>\n",
       "    </tr>\n",
       "    <tr>\n",
       "      <th>PS4</th>\n",
       "      <td>314.14</td>\n",
       "    </tr>\n",
       "    <tr>\n",
       "      <th>GBA</th>\n",
       "      <td>312.88</td>\n",
       "    </tr>\n",
       "    <tr>\n",
       "      <th>PSP</th>\n",
       "      <td>289.53</td>\n",
       "    </tr>\n",
       "    <tr>\n",
       "      <th>3DS</th>\n",
       "      <td>257.81</td>\n",
       "    </tr>\n",
       "    <tr>\n",
       "      <th>PC</th>\n",
       "      <td>255.76</td>\n",
       "    </tr>\n",
       "    <tr>\n",
       "      <th>GB</th>\n",
       "      <td>254.43</td>\n",
       "    </tr>\n",
       "    <tr>\n",
       "      <th>XB</th>\n",
       "      <td>251.57</td>\n",
       "    </tr>\n",
       "    <tr>\n",
       "      <th>NES</th>\n",
       "      <td>251.05</td>\n",
       "    </tr>\n",
       "    <tr>\n",
       "      <th>N64</th>\n",
       "      <td>218.01</td>\n",
       "    </tr>\n",
       "    <tr>\n",
       "      <th>SNES</th>\n",
       "      <td>200.04</td>\n",
       "    </tr>\n",
       "    <tr>\n",
       "      <th>GC</th>\n",
       "      <td>196.73</td>\n",
       "    </tr>\n",
       "    <tr>\n",
       "      <th>XOne</th>\n",
       "      <td>159.32</td>\n",
       "    </tr>\n",
       "    <tr>\n",
       "      <th>2600</th>\n",
       "      <td>86.48</td>\n",
       "    </tr>\n",
       "    <tr>\n",
       "      <th>WiiU</th>\n",
       "      <td>82.19</td>\n",
       "    </tr>\n",
       "    <tr>\n",
       "      <th>PSV</th>\n",
       "      <td>53.81</td>\n",
       "    </tr>\n",
       "    <tr>\n",
       "      <th>SAT</th>\n",
       "      <td>33.59</td>\n",
       "    </tr>\n",
       "    <tr>\n",
       "      <th>GEN</th>\n",
       "      <td>30.77</td>\n",
       "    </tr>\n",
       "    <tr>\n",
       "      <th>DC</th>\n",
       "      <td>15.95</td>\n",
       "    </tr>\n",
       "    <tr>\n",
       "      <th>SCD</th>\n",
       "      <td>1.86</td>\n",
       "    </tr>\n",
       "    <tr>\n",
       "      <th>NG</th>\n",
       "      <td>1.44</td>\n",
       "    </tr>\n",
       "    <tr>\n",
       "      <th>WS</th>\n",
       "      <td>1.42</td>\n",
       "    </tr>\n",
       "    <tr>\n",
       "      <th>TG16</th>\n",
       "      <td>0.16</td>\n",
       "    </tr>\n",
       "    <tr>\n",
       "      <th>3DO</th>\n",
       "      <td>0.10</td>\n",
       "    </tr>\n",
       "    <tr>\n",
       "      <th>GG</th>\n",
       "      <td>0.04</td>\n",
       "    </tr>\n",
       "    <tr>\n",
       "      <th>PCFX</th>\n",
       "      <td>0.03</td>\n",
       "    </tr>\n",
       "  </tbody>\n",
       "</table>\n",
       "</div>"
      ],
      "text/plain": [
       "          general_sales\n",
       "platform               \n",
       "PS2            1,233.56\n",
       "X360             961.24\n",
       "PS3              931.34\n",
       "Wii              891.18\n",
       "DS               802.78\n",
       "PS               727.58\n",
       "PS4              314.14\n",
       "GBA              312.88\n",
       "PSP              289.53\n",
       "3DS              257.81\n",
       "PC               255.76\n",
       "GB               254.43\n",
       "XB               251.57\n",
       "NES              251.05\n",
       "N64              218.01\n",
       "SNES             200.04\n",
       "GC               196.73\n",
       "XOne             159.32\n",
       "2600              86.48\n",
       "WiiU              82.19\n",
       "PSV               53.81\n",
       "SAT               33.59\n",
       "GEN               30.77\n",
       "DC                15.95\n",
       "SCD                1.86\n",
       "NG                 1.44\n",
       "WS                 1.42\n",
       "TG16               0.16\n",
       "3DO                0.10\n",
       "GG                 0.04\n",
       "PCFX               0.03"
      ]
     },
     "execution_count": 39,
     "metadata": {},
     "output_type": "execute_result"
    }
   ],
   "source": [
    "# Выберем платформы с наибольшими суммарными продажами\n",
    "data_platform_sales = (\n",
    "    data\n",
    "    .pivot_table(index='platform' , values = 'general_sales', aggfunc='sum')\n",
    "    .sort_values(by='general_sales', ascending=False)\n",
    ").copy()\n",
    "data_platform_sales"
   ]
  },
  {
   "cell_type": "markdown",
   "id": "db8e6ca3",
   "metadata": {},
   "source": [
    "* Выберем платформы для которых суммарные продажи составляют более 700 млн. \n",
    "* Для выбранных платформ определим характерный срок их жизни."
   ]
  },
  {
   "cell_type": "code",
   "execution_count": 40,
   "id": "0826e46f",
   "metadata": {},
   "outputs": [
    {
     "data": {
      "image/png": "[encoded data removed]",
      "text/plain": [
       "<Figure size 2160x720 with 1 Axes>"
      ]
     },
     "metadata": {
      "needs_background": "light"
     },
     "output_type": "display_data"
    },
    {
     "name": "stdout",
     "output_type": "stream",
     "text": [
      "Количество лет от появления платформы и до полного исчезновения - 13.166666666666666\n"
     ]
    }
   ],
   "source": [
    "platform = ['PS2', 'X360', 'PS3', 'Wii', 'DS', 'PS'] \n",
    "fig = plt.figure(figsize=(30, 10))\n",
    "sns.barplot(x='platform', y ='general_sales', hue='year_of_release',\n",
    "           estimator= np.sum,\n",
    "           data=data.query('platform == @platform & year_of_release != -1'),ci=0, ec='black')\n",
    "plt.title('Срок жизни платформы', fontsize = 30)\n",
    "plt.xlabel('Год выпуска игры', fontsize = 20)\n",
    "plt.ylabel('Суммарные продажи', fontsize = 20)\n",
    "plt.show()\n",
    "year=[]\n",
    "for i in platform:\n",
    "    d = data[\n",
    "        (data['platform'] == i) \n",
    "        & (data.year_of_release > -1)\n",
    "    ].pivot_table(\n",
    "        index='year_of_release', \n",
    "        values = 'general_sales', \n",
    "        aggfunc='sum'\n",
    "    )\n",
    "    year.append(max(d.index.tolist())-min(d.index.tolist()))\n",
    "year_mean = sum(year)/len(year)\n",
    "print(f'Количество лет от появления платформы и до полного исчезновения - {year_mean}')"
   ]
  },
  {
   "cell_type": "markdown",
   "id": "212a3ac5",
   "metadata": {},
   "source": [
    "Однако в среднем от пика популярности платформы и до снижения ее продаж проходит 8 лет. Исходя из этих данных актуальным периодом будем читать 2011-2016 года"
   ]
  },
  {
   "cell_type": "code",
   "execution_count": 41,
   "id": "4e68050a",
   "metadata": {},
   "outputs": [],
   "source": [
    "# Выбираем данные за актуальный период\n",
    "data_actually = data.query('2011 <= year_of_release <= 2016').copy()"
   ]
  },
  {
   "cell_type": "code",
   "execution_count": 42,
   "id": "69d2723a",
   "metadata": {},
   "outputs": [
    {
     "data": {
      "text/html": [
       "<div>\n",
       "<style scoped>\n",
       "    .dataframe tbody tr th:only-of-type {\n",
       "        vertical-align: middle;\n",
       "    }\n",
       "\n",
       "    .dataframe tbody tr th {\n",
       "        vertical-align: top;\n",
       "    }\n",
       "\n",
       "    .dataframe thead th {\n",
       "        text-align: right;\n",
       "    }\n",
       "</style>\n",
       "<table border=\"1\" class=\"dataframe\">\n",
       "  <thead>\n",
       "    <tr style=\"text-align: right;\">\n",
       "      <th></th>\n",
       "      <th>general_sales</th>\n",
       "    </tr>\n",
       "    <tr>\n",
       "      <th>platform</th>\n",
       "      <th></th>\n",
       "    </tr>\n",
       "  </thead>\n",
       "  <tbody>\n",
       "    <tr>\n",
       "      <th>PS3</th>\n",
       "      <td>445.57</td>\n",
       "    </tr>\n",
       "    <tr>\n",
       "      <th>X360</th>\n",
       "      <td>380.38</td>\n",
       "    </tr>\n",
       "    <tr>\n",
       "      <th>PS4</th>\n",
       "      <td>314.14</td>\n",
       "    </tr>\n",
       "    <tr>\n",
       "      <th>3DS</th>\n",
       "      <td>257.81</td>\n",
       "    </tr>\n",
       "    <tr>\n",
       "      <th>XOne</th>\n",
       "      <td>159.32</td>\n",
       "    </tr>\n",
       "    <tr>\n",
       "      <th>PC</th>\n",
       "      <td>97.68</td>\n",
       "    </tr>\n",
       "    <tr>\n",
       "      <th>Wii</th>\n",
       "      <td>95.02</td>\n",
       "    </tr>\n",
       "    <tr>\n",
       "      <th>WiiU</th>\n",
       "      <td>82.19</td>\n",
       "    </tr>\n",
       "    <tr>\n",
       "      <th>PSV</th>\n",
       "      <td>53.81</td>\n",
       "    </tr>\n",
       "    <tr>\n",
       "      <th>DS</th>\n",
       "      <td>38.73</td>\n",
       "    </tr>\n",
       "    <tr>\n",
       "      <th>PSP</th>\n",
       "      <td>29.01</td>\n",
       "    </tr>\n",
       "    <tr>\n",
       "      <th>PS2</th>\n",
       "      <td>0.45</td>\n",
       "    </tr>\n",
       "  </tbody>\n",
       "</table>\n",
       "</div>"
      ],
      "text/plain": [
       "          general_sales\n",
       "platform               \n",
       "PS3              445.57\n",
       "X360             380.38\n",
       "PS4              314.14\n",
       "3DS              257.81\n",
       "XOne             159.32\n",
       "PC                97.68\n",
       "Wii               95.02\n",
       "WiiU              82.19\n",
       "PSV               53.81\n",
       "DS                38.73\n",
       "PSP               29.01\n",
       "PS2                0.45"
      ]
     },
     "execution_count": 42,
     "metadata": {},
     "output_type": "execute_result"
    }
   ],
   "source": [
    "# Найдем наиболее популярные платформы по суммарным продажам за актуальный промежуток времени\n",
    "data_actually_platform = data_actually.pivot_table(\n",
    "    index='platform',\n",
    "    values='general_sales',\n",
    "    aggfunc='sum').sort_values(by='general_sales', ascending=False).copy()\n",
    "data_actually_platform"
   ]
  },
  {
   "cell_type": "code",
   "execution_count": 43,
   "id": "69fb7529",
   "metadata": {},
   "outputs": [
    {
     "data": {
      "image/png": "[encoded data removed]",
      "text/plain": [
       "<Figure size 864x432 with 1 Axes>"
      ]
     },
     "metadata": {
      "needs_background": "light"
     },
     "output_type": "display_data"
    }
   ],
   "source": [
    "ax = data_actually.pivot_table(\n",
    "    index='platform',\n",
    "    values='general_sales',\n",
    "    aggfunc='mean').plot.bar(grid=True, figsize=(12,6), title='Продажи по платформам')\n",
    "ax.set_xlabel('Платформа');\n",
    "ax.set_ylabel('Значение средних продаж');"
   ]
  },
  {
   "cell_type": "markdown",
   "id": "55c041e7",
   "metadata": {},
   "source": [
    "Выберем все платформы, за исключением PS2, так как для мало данных(всего одна строка). Рассматривает почти все платформы, так как какая-то платформа могла выйти на рынок относительно недавно и для таких платформ глобальные продажи будут ниже, чем для платформ, которые на рынке уже давно. Платформы, которые появились на рынке недавно, могут оказать более перспективными в будущем. По средним продажам ледируют платформы PS4, X360, PS3, XOne, WiiU."
   ]
  },
  {
   "cell_type": "code",
   "execution_count": 44,
   "id": "7328052f",
   "metadata": {},
   "outputs": [
    {
     "data": {
      "image/png": "[encoded data removed]",
      "text/plain": [
       "<Figure size 2160x720 with 1 Axes>"
      ]
     },
     "metadata": {
      "needs_background": "light"
     },
     "output_type": "display_data"
    }
   ],
   "source": [
    "platform = ['PS4', 'X360', 'PS3', 'XOne', 'WiiU', 'Wii']\n",
    "\n",
    "fig = plt.figure(figsize=(30, 10))\n",
    "sns.barplot(x='platform', y ='general_sales', hue='year_of_release',\n",
    "           data=data_actually.query('platform == @platform'),ci=0, ec='black')\n",
    "plt.title('Продажи популярных платформ за актуальный промежуток времени', fontsize = 30)\n",
    "plt.xlabel('Платформа', fontsize = 20)\n",
    "plt.ylabel('Суммарные продажи', fontsize = 20)\n",
    "plt.show()"
   ]
  },
  {
   "cell_type": "markdown",
   "id": "b0e125f0",
   "metadata": {},
   "source": [
    "У всех платформ наблюдается тенденция к уменьшению общих продаж к 2016 году. Наиболее прибыльной к 2016 году является платформа  PS4, для нее в 2016 году общие продажи составили больше, чем для остальных платформ. Если считать, что время полной жизни платформы 14 лет, а пик ее пупулярнойсти приходит на 5 лет, то самой перспективными будут платформа PS4, XOne, WiiU  для них высокие продажи к 2016 году и на рынок они вышли недавно 4-5 лет назад."
   ]
  },
  {
   "cell_type": "markdown",
   "id": "aab51967",
   "metadata": {},
   "source": [
    "* **Построение графика «ящик с усами» по глобальным продажам игр в разбивке по платформам.** "
   ]
  },
  {
   "cell_type": "code",
   "execution_count": 45,
   "id": "e9de4102",
   "metadata": {},
   "outputs": [
    {
     "data": {
      "image/png": "[encoded data removed]",
      "text/plain": [
       "<Figure size 720x432 with 1 Axes>"
      ]
     },
     "metadata": {
      "needs_background": "light"
     },
     "output_type": "display_data"
    }
   ],
   "source": [
    "data_actually.boxplot(\n",
    "    by='platform', \n",
    "    column='general_sales',\n",
    "    figsize=(10, 6)\n",
    ");\n"
   ]
  },
  {
   "cell_type": "markdown",
   "id": "7c9de60a",
   "metadata": {},
   "source": [
    "Наблюдаем большое количество выбросов. Случаи суммарных продаж копий превышающих 5 млн довольно редки. Для платформ XB и DC за актуальный переод доступно только одно значение, поэтому график для него выглядит таким образом."
   ]
  },
  {
   "cell_type": "code",
   "execution_count": 48,
   "id": "a1ca614a",
   "metadata": {},
   "outputs": [
    {
     "data": {
      "image/png": "[encoded data removed]",
      "text/plain": [
       "<Figure size 720x432 with 1 Axes>"
      ]
     },
     "metadata": {
      "needs_background": "light"
     },
     "output_type": "display_data"
    }
   ],
   "source": [
    "# построим ящик с усами, убрав явные выбросы\n",
    "ax = data_actually.boxplot(\n",
    "    by='platform', \n",
    "    column='general_sales',\n",
    "    figsize=(10, 6)\n",
    ")\n",
    "ax.set_ylim(0,1.75);"
   ]
  },
  {
   "cell_type": "markdown",
   "id": "cef168e0",
   "metadata": {},
   "source": [
    "Медианное значение для глобальных продаж по платформам тяготеет к нижнему квартилю. Так же можно заметить, что медианное значение глобальных продаж для платформ X360, WiiU, Xone, PS4 превышает медианные значения продаж для остальных платформ. Так же для платформ (PS3, PS4, X360, XOne, WiiU) сам boxplot больше, следовательно количество игр проданных за актуальный промежуток на этих платформах больше."
   ]
  },
  {
   "cell_type": "markdown",
   "id": "bfe61bed",
   "metadata": {},
   "source": [
    "## Влияние отзывов на продажи"
   ]
  },
  {
   "cell_type": "code",
   "execution_count": 49,
   "id": "44805aa6",
   "metadata": {},
   "outputs": [
    {
     "data": {
      "text/html": [
       "<div>\n",
       "<style scoped>\n",
       "    .dataframe tbody tr th:only-of-type {\n",
       "        vertical-align: middle;\n",
       "    }\n",
       "\n",
       "    .dataframe tbody tr th {\n",
       "        vertical-align: top;\n",
       "    }\n",
       "\n",
       "    .dataframe thead th {\n",
       "        text-align: right;\n",
       "    }\n",
       "</style>\n",
       "<table border=\"1\" class=\"dataframe\">\n",
       "  <thead>\n",
       "    <tr style=\"text-align: right;\">\n",
       "      <th></th>\n",
       "      <th>name</th>\n",
       "      <th>platform</th>\n",
       "      <th>year_of_release</th>\n",
       "      <th>genre</th>\n",
       "      <th>na_sales</th>\n",
       "      <th>eu_sales</th>\n",
       "      <th>jp_sales</th>\n",
       "      <th>other_sales</th>\n",
       "      <th>critic_score</th>\n",
       "      <th>user_score</th>\n",
       "      <th>rating</th>\n",
       "      <th>general_sales</th>\n",
       "    </tr>\n",
       "  </thead>\n",
       "  <tbody>\n",
       "    <tr>\n",
       "      <th>31</th>\n",
       "      <td>Call of Duty: Black Ops 3</td>\n",
       "      <td>PS4</td>\n",
       "      <td>2015</td>\n",
       "      <td>Shooter</td>\n",
       "      <td>6.03</td>\n",
       "      <td>5.86</td>\n",
       "      <td>0.36</td>\n",
       "      <td>2.38</td>\n",
       "      <td>NaN</td>\n",
       "      <td>NaN</td>\n",
       "      <td>unknown</td>\n",
       "      <td>14.63</td>\n",
       "    </tr>\n",
       "    <tr>\n",
       "      <th>42</th>\n",
       "      <td>Grand Theft Auto V</td>\n",
       "      <td>PS4</td>\n",
       "      <td>2014</td>\n",
       "      <td>Action</td>\n",
       "      <td>3.96</td>\n",
       "      <td>6.31</td>\n",
       "      <td>0.38</td>\n",
       "      <td>1.97</td>\n",
       "      <td>97.00</td>\n",
       "      <td>8.30</td>\n",
       "      <td>M</td>\n",
       "      <td>12.62</td>\n",
       "    </tr>\n",
       "    <tr>\n",
       "      <th>77</th>\n",
       "      <td>FIFA 16</td>\n",
       "      <td>PS4</td>\n",
       "      <td>2015</td>\n",
       "      <td>Sports</td>\n",
       "      <td>1.12</td>\n",
       "      <td>6.12</td>\n",
       "      <td>0.06</td>\n",
       "      <td>1.28</td>\n",
       "      <td>82.00</td>\n",
       "      <td>4.30</td>\n",
       "      <td>E</td>\n",
       "      <td>8.58</td>\n",
       "    </tr>\n",
       "    <tr>\n",
       "      <th>87</th>\n",
       "      <td>Star Wars Battlefront (2015)</td>\n",
       "      <td>PS4</td>\n",
       "      <td>2015</td>\n",
       "      <td>Shooter</td>\n",
       "      <td>2.99</td>\n",
       "      <td>3.49</td>\n",
       "      <td>0.22</td>\n",
       "      <td>1.28</td>\n",
       "      <td>NaN</td>\n",
       "      <td>NaN</td>\n",
       "      <td>unknown</td>\n",
       "      <td>7.98</td>\n",
       "    </tr>\n",
       "    <tr>\n",
       "      <th>92</th>\n",
       "      <td>Call of Duty: Advanced Warfare</td>\n",
       "      <td>PS4</td>\n",
       "      <td>2014</td>\n",
       "      <td>Shooter</td>\n",
       "      <td>2.81</td>\n",
       "      <td>3.48</td>\n",
       "      <td>0.14</td>\n",
       "      <td>1.23</td>\n",
       "      <td>83.00</td>\n",
       "      <td>5.70</td>\n",
       "      <td>M</td>\n",
       "      <td>7.66</td>\n",
       "    </tr>\n",
       "    <tr>\n",
       "      <th>...</th>\n",
       "      <td>...</td>\n",
       "      <td>...</td>\n",
       "      <td>...</td>\n",
       "      <td>...</td>\n",
       "      <td>...</td>\n",
       "      <td>...</td>\n",
       "      <td>...</td>\n",
       "      <td>...</td>\n",
       "      <td>...</td>\n",
       "      <td>...</td>\n",
       "      <td>...</td>\n",
       "      <td>...</td>\n",
       "    </tr>\n",
       "    <tr>\n",
       "      <th>16500</th>\n",
       "      <td>Root Letter</td>\n",
       "      <td>PS4</td>\n",
       "      <td>2016</td>\n",
       "      <td>Adventure</td>\n",
       "      <td>0.00</td>\n",
       "      <td>0.00</td>\n",
       "      <td>0.01</td>\n",
       "      <td>0.00</td>\n",
       "      <td>69.00</td>\n",
       "      <td>7.50</td>\n",
       "      <td>unknown</td>\n",
       "      <td>0.01</td>\n",
       "    </tr>\n",
       "    <tr>\n",
       "      <th>16503</th>\n",
       "      <td>Shin Hayarigami 2</td>\n",
       "      <td>PS4</td>\n",
       "      <td>2016</td>\n",
       "      <td>Adventure</td>\n",
       "      <td>0.00</td>\n",
       "      <td>0.00</td>\n",
       "      <td>0.01</td>\n",
       "      <td>0.00</td>\n",
       "      <td>NaN</td>\n",
       "      <td>NaN</td>\n",
       "      <td>unknown</td>\n",
       "      <td>0.01</td>\n",
       "    </tr>\n",
       "    <tr>\n",
       "      <th>16526</th>\n",
       "      <td>Dungeons 2</td>\n",
       "      <td>PS4</td>\n",
       "      <td>2016</td>\n",
       "      <td>Role-Playing</td>\n",
       "      <td>0.01</td>\n",
       "      <td>0.00</td>\n",
       "      <td>0.00</td>\n",
       "      <td>0.00</td>\n",
       "      <td>61.00</td>\n",
       "      <td>7.90</td>\n",
       "      <td>T</td>\n",
       "      <td>0.01</td>\n",
       "    </tr>\n",
       "    <tr>\n",
       "      <th>16530</th>\n",
       "      <td>Carmageddon: Max Damage</td>\n",
       "      <td>PS4</td>\n",
       "      <td>2016</td>\n",
       "      <td>Action</td>\n",
       "      <td>0.01</td>\n",
       "      <td>0.00</td>\n",
       "      <td>0.00</td>\n",
       "      <td>0.00</td>\n",
       "      <td>51.00</td>\n",
       "      <td>5.50</td>\n",
       "      <td>M</td>\n",
       "      <td>0.01</td>\n",
       "    </tr>\n",
       "    <tr>\n",
       "      <th>16585</th>\n",
       "      <td>Farming 2017 - The Simulation</td>\n",
       "      <td>PS4</td>\n",
       "      <td>2016</td>\n",
       "      <td>Simulation</td>\n",
       "      <td>0.00</td>\n",
       "      <td>0.01</td>\n",
       "      <td>0.00</td>\n",
       "      <td>0.00</td>\n",
       "      <td>NaN</td>\n",
       "      <td>NaN</td>\n",
       "      <td>unknown</td>\n",
       "      <td>0.01</td>\n",
       "    </tr>\n",
       "  </tbody>\n",
       "</table>\n",
       "<p>392 rows × 12 columns</p>\n",
       "</div>"
      ],
      "text/plain": [
       "                                 name platform  year_of_release         genre  \\\n",
       "31          Call of Duty: Black Ops 3      PS4             2015       Shooter   \n",
       "42                 Grand Theft Auto V      PS4             2014        Action   \n",
       "77                            FIFA 16      PS4             2015        Sports   \n",
       "87       Star Wars Battlefront (2015)      PS4             2015       Shooter   \n",
       "92     Call of Duty: Advanced Warfare      PS4             2014       Shooter   \n",
       "...                               ...      ...              ...           ...   \n",
       "16500                     Root Letter      PS4             2016     Adventure   \n",
       "16503               Shin Hayarigami 2      PS4             2016     Adventure   \n",
       "16526                      Dungeons 2      PS4             2016  Role-Playing   \n",
       "16530         Carmageddon: Max Damage      PS4             2016        Action   \n",
       "16585   Farming 2017 - The Simulation      PS4             2016    Simulation   \n",
       "\n",
       "       na_sales  eu_sales  jp_sales  other_sales  critic_score  user_score  \\\n",
       "31         6.03      5.86      0.36         2.38           NaN         NaN   \n",
       "42         3.96      6.31      0.38         1.97         97.00        8.30   \n",
       "77         1.12      6.12      0.06         1.28         82.00        4.30   \n",
       "87         2.99      3.49      0.22         1.28           NaN         NaN   \n",
       "92         2.81      3.48      0.14         1.23         83.00        5.70   \n",
       "...         ...       ...       ...          ...           ...         ...   \n",
       "16500      0.00      0.00      0.01         0.00         69.00        7.50   \n",
       "16503      0.00      0.00      0.01         0.00           NaN         NaN   \n",
       "16526      0.01      0.00      0.00         0.00         61.00        7.90   \n",
       "16530      0.01      0.00      0.00         0.00         51.00        5.50   \n",
       "16585      0.00      0.01      0.00         0.00           NaN         NaN   \n",
       "\n",
       "        rating  general_sales  \n",
       "31     unknown          14.63  \n",
       "42           M          12.62  \n",
       "77           E           8.58  \n",
       "87     unknown           7.98  \n",
       "92           M           7.66  \n",
       "...        ...            ...  \n",
       "16500  unknown           0.01  \n",
       "16503  unknown           0.01  \n",
       "16526        T           0.01  \n",
       "16530        M           0.01  \n",
       "16585  unknown           0.01  \n",
       "\n",
       "[392 rows x 12 columns]"
      ]
     },
     "execution_count": 49,
     "metadata": {},
     "output_type": "execute_result"
    }
   ],
   "source": [
    "data_ps4 = data_actually.query('platform == \"PS4\"')\n",
    "data_ps4"
   ]
  },
  {
   "cell_type": "code",
   "execution_count": 50,
   "id": "12aa1b54",
   "metadata": {},
   "outputs": [
    {
     "name": "stdout",
     "output_type": "stream",
     "text": [
      " Коэффициент корреляции: 0.39126521038185785\n"
     ]
    },
    {
     "data": {
      "image/png": "[encoded data removed]",
      "text/plain": [
       "<Figure size 432x288 with 1 Axes>"
      ]
     },
     "metadata": {
      "needs_background": "light"
     },
     "output_type": "display_data"
    }
   ],
   "source": [
    "# Корреляция между общими продажами и оценкой критиков\n",
    "print(f' Коэффициент корреляции: {data_ps4.general_sales.corr(data_ps4.critic_score)}')\n",
    "data_ps4.plot(x='critic_score', y='general_sales', kind='scatter', alpha=0.5); "
   ]
  },
  {
   "cell_type": "markdown",
   "id": "e6c63b70",
   "metadata": {},
   "source": [
    "Наблюдается слабая корреляция между отзывами критиков и общими продажами. Чем выше оценка критика, тем больше продажи. "
   ]
  },
  {
   "cell_type": "code",
   "execution_count": 51,
   "id": "3bdc77eb",
   "metadata": {},
   "outputs": [
    {
     "name": "stdout",
     "output_type": "stream",
     "text": [
      " Коэффициент корреляции: -0.02293797593157938\n"
     ]
    },
    {
     "data": {
      "image/png": "[encoded data removed]",
      "text/plain": [
       "<Figure size 432x288 with 1 Axes>"
      ]
     },
     "metadata": {
      "needs_background": "light"
     },
     "output_type": "display_data"
    }
   ],
   "source": [
    "# Корреляция между общими продажами и оценкой пользователей\n",
    "print(f' Коэффициент корреляции: {data_ps4.general_sales.corr(data_ps4.user_score)}')\n",
    "data_ps4.plot(x='user_score', y='general_sales', kind='scatter', alpha=0.5);"
   ]
  },
  {
   "cell_type": "markdown",
   "id": "967dd542",
   "metadata": {},
   "source": [
    "Корреляции практически не наблюдается. Возможно, недостаточно данных, много пропусков.\n",
    "\n",
    "Отзыв критиков больше влияет на продажи, чем отзывы пользователей."
   ]
  },
  {
   "cell_type": "markdown",
   "id": "bfac3cdd",
   "metadata": {},
   "source": [
    "* **Соотнесем выводы по продажам на других платформах**"
   ]
  },
  {
   "cell_type": "code",
   "execution_count": 52,
   "id": "afd495d3",
   "metadata": {},
   "outputs": [
    {
     "name": "stdout",
     "output_type": "stream",
     "text": [
      " Коэффициент корреляции: 0.37518895898626164\n",
      " Коэффициент корреляции: 0.32749655500689184\n",
      " Коэффициент корреляции: 0.364366066682003\n",
      " Коэффициент корреляции: 0.3471998167863232\n",
      " Коэффициент корреляции по всем платформам: 0.30992098929684664\n"
     ]
    },
    {
     "data": {
      "image/png": "[encoded data removed]",
      "text/plain": [
       "<Figure size 432x288 with 1 Axes>"
      ]
     },
     "metadata": {
      "needs_background": "light"
     },
     "output_type": "display_data"
    },
    {
     "data": {
      "image/png": "[encoded data removed]",
      "text/plain": [
       "<Figure size 432x288 with 1 Axes>"
      ]
     },
     "metadata": {
      "needs_background": "light"
     },
     "output_type": "display_data"
    },
    {
     "data": {
      "image/png": "[encoded data removed]",
      "text/plain": [
       "<Figure size 432x288 with 1 Axes>"
      ]
     },
     "metadata": {
      "needs_background": "light"
     },
     "output_type": "display_data"
    },
    {
     "data": {
      "image/png": "[encoded data removed]",
      "text/plain": [
       "<Figure size 432x288 with 1 Axes>"
      ]
     },
     "metadata": {
      "needs_background": "light"
     },
     "output_type": "display_data"
    }
   ],
   "source": [
    "# Поиск корреляции  между отзывами критиков и продажами вне зависимости от платфоры\n",
    "platform_actually = ['XOne', 'WiiU', 'X360', 'PS3']\n",
    "for i in platform_actually:\n",
    "    data_pl = data_actually[data_actually['platform'] == i]\n",
    "    print(f' Коэффициент корреляции: {data_pl.general_sales.corr(data_pl.critic_score)}')\n",
    "    data_actually.plot(x='critic_score', y='general_sales', kind='scatter', alpha=0.2, title = i) \n",
    "print(f' Коэффициент корреляции по всем платформам: {data_actually.general_sales.corr(data_actually.critic_score)}')"
   ]
  },
  {
   "cell_type": "markdown",
   "id": "9d8cf84b",
   "metadata": {},
   "source": [
    "Коэфициент корреляции между оценкой критиков и продажами не значительно отличается от платформы к платформе. Общая тенденция сохраняется и на остальных платформах. "
   ]
  },
  {
   "cell_type": "code",
   "execution_count": 53,
   "id": "db378c28",
   "metadata": {},
   "outputs": [
    {
     "name": "stdout",
     "output_type": "stream",
     "text": [
      " Коэффициент корреляции: XOne -0.09402739254121933\n",
      " Коэффициент корреляции: WiiU 0.3668819759743242\n",
      " Коэффициент корреляции: X360 0.043753366320192104\n",
      " Коэффициент корреляции: PS3 0.02340129433189055\n",
      " Коэффициент корреляции по всем платформам: 0.04023642494300305\n"
     ]
    },
    {
     "data": {
      "image/png": "[encoded data removed]",
      "text/plain": [
       "<Figure size 432x288 with 1 Axes>"
      ]
     },
     "metadata": {
      "needs_background": "light"
     },
     "output_type": "display_data"
    },
    {
     "data": {
      "image/png": "[encoded data removed]",
      "text/plain": [
       "<Figure size 432x288 with 1 Axes>"
      ]
     },
     "metadata": {
      "needs_background": "light"
     },
     "output_type": "display_data"
    },
    {
     "data": {
      "image/png": "[encoded data removed]",
      "text/plain": [
       "<Figure size 432x288 with 1 Axes>"
      ]
     },
     "metadata": {
      "needs_background": "light"
     },
     "output_type": "display_data"
    },
    {
     "data": {
      "image/png": "[encoded data removed]",
      "text/plain": [
       "<Figure size 432x288 with 1 Axes>"
      ]
     },
     "metadata": {
      "needs_background": "light"
     },
     "output_type": "display_data"
    }
   ],
   "source": [
    "# Корреляция между общими продажами и оценкой пользователей на остальных платформах\n",
    "platform_actually = ['XOne', 'WiiU', 'X360', 'PS3']\n",
    "for i in platform_actually:\n",
    "    data_pl = data_actually[data_actually['platform'] == i]\n",
    "    print(f' Коэффициент корреляции: {i} {data_pl.general_sales.corr(data_pl.user_score)}')\n",
    "    data_actually.plot(x='user_score', y='general_sales', kind='scatter', alpha=0.2, title = i) \n",
    "print(f' Коэффициент корреляции по всем платформам: {data_actually.general_sales.corr(data_actually.user_score)}')"
   ]
  },
  {
   "cell_type": "markdown",
   "id": "aebe8f91",
   "metadata": {},
   "source": [
    "Коэффициент корреляции между продажами и оценкой пользователя различается от платформы к платформе. Для таких платформ как WiiU наблюдается слабая корреляция, а для XOne и PS4 корреляции практически не наблюдается. Мы знаем, что в колонке с оценкой пользователей было значение tbd, возможно для некоторых платформ оценка пользователей только ожидается и поэтому коэффициенты корреляции различаются от платформы к платформе. "
   ]
  },
  {
   "cell_type": "markdown",
   "id": "da54b21c",
   "metadata": {},
   "source": [
    "## Распределение игр по жанрам"
   ]
  },
  {
   "cell_type": "markdown",
   "id": "bf03a1d8",
   "metadata": {},
   "source": [
    "Поскольку одна и таже игра может повторяться для разных платформфах и для нее будет один и тот же жанр, то будем работать только с уникальными названиями игр, что бы жанр одной и тойже игры не повторялся. \n",
    "\n",
    "Будем сравнивать медианное значение продаж. "
   ]
  },
  {
   "cell_type": "code",
   "execution_count": 54,
   "id": "d8614139",
   "metadata": {},
   "outputs": [
    {
     "data": {
      "image/png": "[encoded data removed]",
      "text/plain": [
       "<Figure size 864x432 with 1 Axes>"
      ]
     },
     "metadata": {
      "needs_background": "light"
     },
     "output_type": "display_data"
    }
   ],
   "source": [
    "data_name_actually = data_name_unique.query('2011 <= year_of_release <= 2016').copy()\n",
    "(\n",
    "    data_name_actually.pivot_table(index='genre',\n",
    "                          values=['general_sales'] , \n",
    "                          aggfunc=['median'])\n",
    "    .sort_values(by=('median','general_sales'), ascending = False)\n",
    "    .plot.bar(grid=True, figsize=(12,6), title='Медианное значение продаж по жанрам игр')\n",
    ");\n",
    "plt.xlabel('Жанр игры', fontsize = 10)\n",
    "plt.ylabel('Медианное значение продаж', fontsize = 10)\n",
    "plt.show()"
   ]
  },
  {
   "cell_type": "markdown",
   "id": "e49a4e0e",
   "metadata": {},
   "source": [
    "По количеству и продажам самый популярный жанр это Shooter, Sports, Racing."
   ]
  },
  {
   "cell_type": "code",
   "execution_count": 55,
   "id": "075cd69f",
   "metadata": {},
   "outputs": [
    {
     "data": {
      "image/png": "[encoded data removed]",
      "text/plain": [
       "<Figure size 720x432 with 1 Axes>"
      ]
     },
     "metadata": {
      "needs_background": "light"
     },
     "output_type": "display_data"
    }
   ],
   "source": [
    "# построим диаграмму размаха\n",
    "ax = data_name_actually.boxplot(\n",
    "     by='genre', \n",
    "     column='general_sales',\n",
    "     figsize=(10, 6));\n",
    "ax.set_ylim(0, 4);"
   ]
  },
  {
   "cell_type": "markdown",
   "id": "683a74b3",
   "metadata": {},
   "source": [
    "Медианное значение продаж превышает для жанра игр Shooter, затем Platform, RacingRole-playing. Количество проданных копий игр с этими жанрами превышает все остальные жанры, несмотря на то, что медианные значение распределены по-другому."
   ]
  },
  {
   "cell_type": "markdown",
   "id": "34c82bda",
   "metadata": {},
   "source": [
    "# Портрет пользователя каждого региона "
   ]
  },
  {
   "cell_type": "markdown",
   "id": "0405a473",
   "metadata": {},
   "source": [
    "##  Популярные платформы"
   ]
  },
  {
   "cell_type": "code",
   "execution_count": 56,
   "id": "121baea2",
   "metadata": {},
   "outputs": [
    {
     "data": {
      "text/html": [
       "<div>\n",
       "<style scoped>\n",
       "    .dataframe tbody tr th:only-of-type {\n",
       "        vertical-align: middle;\n",
       "    }\n",
       "\n",
       "    .dataframe tbody tr th {\n",
       "        vertical-align: top;\n",
       "    }\n",
       "\n",
       "    .dataframe thead th {\n",
       "        text-align: right;\n",
       "    }\n",
       "</style>\n",
       "<table border=\"1\" class=\"dataframe\">\n",
       "  <thead>\n",
       "    <tr style=\"text-align: right;\">\n",
       "      <th></th>\n",
       "      <th>na_sales</th>\n",
       "      <th>proportion_of_sales</th>\n",
       "    </tr>\n",
       "    <tr>\n",
       "      <th>platform</th>\n",
       "      <th></th>\n",
       "      <th></th>\n",
       "    </tr>\n",
       "  </thead>\n",
       "  <tbody>\n",
       "    <tr>\n",
       "      <th>X360</th>\n",
       "      <td>0.66</td>\n",
       "      <td>22.91%</td>\n",
       "    </tr>\n",
       "    <tr>\n",
       "      <th>XOne</th>\n",
       "      <td>0.57</td>\n",
       "      <td>19.76%</td>\n",
       "    </tr>\n",
       "    <tr>\n",
       "      <th>WiiU</th>\n",
       "      <td>0.41</td>\n",
       "      <td>14.50%</td>\n",
       "    </tr>\n",
       "    <tr>\n",
       "      <th>Wii</th>\n",
       "      <td>0.33</td>\n",
       "      <td>11.43%</td>\n",
       "    </tr>\n",
       "    <tr>\n",
       "      <th>PS4</th>\n",
       "      <td>0.30</td>\n",
       "      <td>10.33%</td>\n",
       "    </tr>\n",
       "  </tbody>\n",
       "</table>\n",
       "</div>"
      ],
      "text/plain": [
       "          na_sales proportion_of_sales\n",
       "platform                              \n",
       "X360          0.66              22.91%\n",
       "XOne          0.57              19.76%\n",
       "WiiU          0.41              14.50%\n",
       "Wii           0.33              11.43%\n",
       "PS4           0.30              10.33%"
      ]
     },
     "metadata": {},
     "output_type": "display_data"
    },
    {
     "data": {
      "text/html": [
       "<div>\n",
       "<style scoped>\n",
       "    .dataframe tbody tr th:only-of-type {\n",
       "        vertical-align: middle;\n",
       "    }\n",
       "\n",
       "    .dataframe tbody tr th {\n",
       "        vertical-align: top;\n",
       "    }\n",
       "\n",
       "    .dataframe thead th {\n",
       "        text-align: right;\n",
       "    }\n",
       "</style>\n",
       "<table border=\"1\" class=\"dataframe\">\n",
       "  <thead>\n",
       "    <tr style=\"text-align: right;\">\n",
       "      <th></th>\n",
       "      <th>eu_sales</th>\n",
       "      <th>proportion_of_sales</th>\n",
       "    </tr>\n",
       "    <tr>\n",
       "      <th>platform</th>\n",
       "      <th></th>\n",
       "      <th></th>\n",
       "    </tr>\n",
       "  </thead>\n",
       "  <tbody>\n",
       "    <tr>\n",
       "      <th>PS4</th>\n",
       "      <td>0.39</td>\n",
       "      <td>19.24%</td>\n",
       "    </tr>\n",
       "    <tr>\n",
       "      <th>XOne</th>\n",
       "      <td>0.31</td>\n",
       "      <td>15.09%</td>\n",
       "    </tr>\n",
       "    <tr>\n",
       "      <th>WiiU</th>\n",
       "      <td>0.27</td>\n",
       "      <td>13.14%</td>\n",
       "    </tr>\n",
       "    <tr>\n",
       "      <th>X360</th>\n",
       "      <td>0.26</td>\n",
       "      <td>13.05%</td>\n",
       "    </tr>\n",
       "    <tr>\n",
       "      <th>PS3</th>\n",
       "      <td>0.25</td>\n",
       "      <td>12.25%</td>\n",
       "    </tr>\n",
       "  </tbody>\n",
       "</table>\n",
       "</div>"
      ],
      "text/plain": [
       "          eu_sales proportion_of_sales\n",
       "platform                              \n",
       "PS4           0.39              19.24%\n",
       "XOne          0.31              15.09%\n",
       "WiiU          0.27              13.14%\n",
       "X360          0.26              13.05%\n",
       "PS3           0.25              12.25%"
      ]
     },
     "metadata": {},
     "output_type": "display_data"
    },
    {
     "data": {
      "text/html": [
       "<div>\n",
       "<style scoped>\n",
       "    .dataframe tbody tr th:only-of-type {\n",
       "        vertical-align: middle;\n",
       "    }\n",
       "\n",
       "    .dataframe tbody tr th {\n",
       "        vertical-align: top;\n",
       "    }\n",
       "\n",
       "    .dataframe thead th {\n",
       "        text-align: right;\n",
       "    }\n",
       "</style>\n",
       "<table border=\"1\" class=\"dataframe\">\n",
       "  <thead>\n",
       "    <tr style=\"text-align: right;\">\n",
       "      <th></th>\n",
       "      <th>jp_sales</th>\n",
       "      <th>proportion_of_sales</th>\n",
       "    </tr>\n",
       "    <tr>\n",
       "      <th>platform</th>\n",
       "      <th></th>\n",
       "      <th></th>\n",
       "    </tr>\n",
       "  </thead>\n",
       "  <tbody>\n",
       "    <tr>\n",
       "      <th>3DS</th>\n",
       "      <td>0.23</td>\n",
       "      <td>27.00%</td>\n",
       "    </tr>\n",
       "    <tr>\n",
       "      <th>WiiU</th>\n",
       "      <td>0.18</td>\n",
       "      <td>21.84%</td>\n",
       "    </tr>\n",
       "    <tr>\n",
       "      <th>PS3</th>\n",
       "      <td>0.10</td>\n",
       "      <td>11.30%</td>\n",
       "    </tr>\n",
       "    <tr>\n",
       "      <th>PSP</th>\n",
       "      <td>0.08</td>\n",
       "      <td>9.11%</td>\n",
       "    </tr>\n",
       "    <tr>\n",
       "      <th>Wii</th>\n",
       "      <td>0.07</td>\n",
       "      <td>8.67%</td>\n",
       "    </tr>\n",
       "  </tbody>\n",
       "</table>\n",
       "</div>"
      ],
      "text/plain": [
       "          jp_sales proportion_of_sales\n",
       "platform                              \n",
       "3DS           0.23              27.00%\n",
       "WiiU          0.18              21.84%\n",
       "PS3           0.10              11.30%\n",
       "PSP           0.08               9.11%\n",
       "Wii           0.07               8.67%"
      ]
     },
     "metadata": {},
     "output_type": "display_data"
    }
   ],
   "source": [
    "# Находим топ-5 платформ для каждого региона\n",
    "regions = ['na_sales', 'eu_sales', 'jp_sales']\n",
    "for i in regions:\n",
    "    data_name_actually_region = (\n",
    "        data_name_actually\n",
    "        .pivot_table(index='platform', values = i, aggfunc='mean')\n",
    "        .sort_values(by=i, ascending=False)\n",
    "    )\n",
    "    data_name_actually_region['proportion_of_sales'] = (\n",
    "        data_name_actually_region[i] / data_name_actually_region[i].sum()\n",
    "    ) * 100 \n",
    "    data_name_actually_region['proportion_of_sales'] = (\n",
    "        data_name_actually_region['proportion_of_sales']\n",
    "        .apply(lambda x: '{:.2f}%'.format(x))\n",
    "    )\n",
    "    display(data_name_actually_region.head())"
   ]
  },
  {
   "cell_type": "markdown",
   "id": "f1a020d3",
   "metadata": {},
   "source": [
    "Платформы, которые мы определили ранеее в список популярных и перспективных начали выпускаться с 2012 года. Можно посмотреть топ-5 популярных платформ по регионам именно в промежуток выхода новых платформ 2012-2016. "
   ]
  },
  {
   "cell_type": "code",
   "execution_count": 57,
   "id": "e8aca6f4",
   "metadata": {},
   "outputs": [],
   "source": [
    "# Находим топ-5 платформ для каждого региона с 2012-2016 год\n",
    "regions = ['na_sales', 'eu_sales', 'jp_sales']\n",
    "for i in regions:\n",
    "    data_name_actually_region = (\n",
    "        data_name_actually\n",
    "        .query('2012 <= year_of_release <= 2016')\n",
    "        .pivot_table(index='platform', values = i, aggfunc='mean')\n",
    "        .sort_values(by=i, ascending=False)\n",
    "    )\n",
    "    data_name_actually_region['proportion_of_sales'] = (\n",
    "        data_name_actually_region[i] / data_name_actually_region[i].sum()\n",
    "    ) * 100 \n",
    "    data_name_actually_region['proportion_of_sales'] = (\n",
    "        data_name_actually_region['proportion_of_sales']\n",
    "        .apply(lambda x: '{:.2f}%'.format(x))\n",
    "    )\n",
    "    data_name_actually_region.head()"
   ]
  },
  {
   "cell_type": "code",
   "execution_count": 58,
   "id": "243425e3",
   "metadata": {},
   "outputs": [
    {
     "data": {
      "image/png": "[encoded data removed]",
      "text/plain": [
       "<Figure size 432x288 with 1 Axes>"
      ]
     },
     "metadata": {},
     "output_type": "display_data"
    }
   ],
   "source": [
    "# Популярные платформы для Северной Америки\n",
    "df = [23.25, 17.73, 16.45, 13.02, 9.27, 20.28]\n",
    "labels = ['X360', 'XOne', 'Wii', 'WiiU', 'PS4', 'Other']\n",
    "colors = sns.color_palette('pastel')[0:6]\n",
    "plt.pie(df, labels = labels, colors = colors, autopct='%.0f%%')\n",
    "plt.title(\"Популярные платформы для Северной Америки\")\n",
    "plt.show()"
   ]
  },
  {
   "cell_type": "code",
   "execution_count": 59,
   "id": "93dfebd1",
   "metadata": {},
   "outputs": [
    {
     "data": {
      "image/png": "[encoded data removed]",
      "text/plain": [
       "<Figure size 432x288 with 1 Axes>"
      ]
     },
     "metadata": {},
     "output_type": "display_data"
    }
   ],
   "source": [
    "# Популярные платформы для Европы\n",
    "df = [19.24, 15.09, 13.14, 13.05, 12.25, 27.23]\n",
    "labels = ['PS4', 'XOne', 'WiiU', 'X360', 'PS3', 'Other']\n",
    "colors = sns.color_palette('pastel')[0:6]\n",
    "plt.pie(df, labels = labels, colors = colors, autopct='%.0f%%')\n",
    "plt.title(\"Популярные платформы для Европы\")\n",
    "plt.show()"
   ]
  },
  {
   "cell_type": "code",
   "execution_count": 60,
   "id": "74368ad2",
   "metadata": {},
   "outputs": [
    {
     "data": {
      "image/png": "[encoded data removed]",
      "text/plain": [
       "<Figure size 432x288 with 1 Axes>"
      ]
     },
     "metadata": {},
     "output_type": "display_data"
    }
   ],
   "source": [
    "# Популярные платформы для Японии\n",
    "df = [27, 21.84, 11.30, 9.11, 8.67, 22.08]\n",
    "labels = ['3DS', 'WiiU', 'PS3', 'PSP', 'Wii', 'Other']\n",
    "colors = sns.color_palette('pastel')[0:6]\n",
    "plt.pie(df, labels = labels, colors = colors, autopct='%.0f%%')\n",
    "plt.title(\"Популярные платформы для Японии\")\n",
    "plt.show()"
   ]
  },
  {
   "cell_type": "markdown",
   "id": "a82db230",
   "metadata": {},
   "source": [
    "**Находим топ-5 жанров игр по регионам**"
   ]
  },
  {
   "cell_type": "code",
   "execution_count": 61,
   "id": "c29f9ccd",
   "metadata": {},
   "outputs": [
    {
     "name": "stderr",
     "output_type": "stream",
     "text": [
      "/var/folders/vf/z1gk_tyn2zsf73w6bspmxgjm0000gn/T/ipykernel_38278/1723385299.py:20: FutureWarning: The frame.append method is deprecated and will be removed from pandas in a future version. Use pandas.concat instead.\n",
      "  df_top_5 = df_top_5.append(new_row, ignore_index=False).copy()\n"
     ]
    },
    {
     "data": {
      "image/png": "[encoded data removed]",
      "text/plain": [
       "<Figure size 432x288 with 1 Axes>"
      ]
     },
     "metadata": {},
     "output_type": "display_data"
    },
    {
     "data": {
      "text/html": [
       "<div>\n",
       "<style scoped>\n",
       "    .dataframe tbody tr th:only-of-type {\n",
       "        vertical-align: middle;\n",
       "    }\n",
       "\n",
       "    .dataframe tbody tr th {\n",
       "        vertical-align: top;\n",
       "    }\n",
       "\n",
       "    .dataframe thead th {\n",
       "        text-align: right;\n",
       "    }\n",
       "</style>\n",
       "<table border=\"1\" class=\"dataframe\">\n",
       "  <thead>\n",
       "    <tr style=\"text-align: right;\">\n",
       "      <th></th>\n",
       "      <th>na_sales</th>\n",
       "      <th>proportion_of_sales</th>\n",
       "    </tr>\n",
       "    <tr>\n",
       "      <th>genre</th>\n",
       "      <th></th>\n",
       "      <th></th>\n",
       "    </tr>\n",
       "  </thead>\n",
       "  <tbody>\n",
       "    <tr>\n",
       "      <th>Shooter</th>\n",
       "      <td>0.72</td>\n",
       "      <td>25.76</td>\n",
       "    </tr>\n",
       "    <tr>\n",
       "      <th>Platform</th>\n",
       "      <td>0.44</td>\n",
       "      <td>15.70</td>\n",
       "    </tr>\n",
       "    <tr>\n",
       "      <th>Sports</th>\n",
       "      <td>0.33</td>\n",
       "      <td>11.97</td>\n",
       "    </tr>\n",
       "    <tr>\n",
       "      <th>Racing</th>\n",
       "      <td>0.31</td>\n",
       "      <td>10.99</td>\n",
       "    </tr>\n",
       "    <tr>\n",
       "      <th>Fighting</th>\n",
       "      <td>0.21</td>\n",
       "      <td>7.38</td>\n",
       "    </tr>\n",
       "    <tr>\n",
       "      <th>Other</th>\n",
       "      <td>0</td>\n",
       "      <td>28.20</td>\n",
       "    </tr>\n",
       "  </tbody>\n",
       "</table>\n",
       "</div>"
      ],
      "text/plain": [
       "         na_sales  proportion_of_sales\n",
       "genre                                 \n",
       "Shooter      0.72                25.76\n",
       "Platform     0.44                15.70\n",
       "Sports       0.33                11.97\n",
       "Racing       0.31                10.99\n",
       "Fighting     0.21                 7.38\n",
       "Other           0                28.20"
      ]
     },
     "metadata": {},
     "output_type": "display_data"
    },
    {
     "name": "stderr",
     "output_type": "stream",
     "text": [
      "/var/folders/vf/z1gk_tyn2zsf73w6bspmxgjm0000gn/T/ipykernel_38278/1723385299.py:20: FutureWarning: The frame.append method is deprecated and will be removed from pandas in a future version. Use pandas.concat instead.\n",
      "  df_top_5 = df_top_5.append(new_row, ignore_index=False).copy()\n"
     ]
    },
    {
     "data": {
      "image/png": "[encoded data removed]",
      "text/plain": [
       "<Figure size 432x288 with 1 Axes>"
      ]
     },
     "metadata": {},
     "output_type": "display_data"
    },
    {
     "data": {
      "text/html": [
       "<div>\n",
       "<style scoped>\n",
       "    .dataframe tbody tr th:only-of-type {\n",
       "        vertical-align: middle;\n",
       "    }\n",
       "\n",
       "    .dataframe tbody tr th {\n",
       "        vertical-align: top;\n",
       "    }\n",
       "\n",
       "    .dataframe thead th {\n",
       "        text-align: right;\n",
       "    }\n",
       "</style>\n",
       "<table border=\"1\" class=\"dataframe\">\n",
       "  <thead>\n",
       "    <tr style=\"text-align: right;\">\n",
       "      <th></th>\n",
       "      <th>eu_sales</th>\n",
       "      <th>proportion_of_sales</th>\n",
       "    </tr>\n",
       "    <tr>\n",
       "      <th>genre</th>\n",
       "      <th></th>\n",
       "      <th></th>\n",
       "    </tr>\n",
       "  </thead>\n",
       "  <tbody>\n",
       "    <tr>\n",
       "      <th>Shooter</th>\n",
       "      <td>0.55</td>\n",
       "      <td>22.76</td>\n",
       "    </tr>\n",
       "    <tr>\n",
       "      <th>Racing</th>\n",
       "      <td>0.38</td>\n",
       "      <td>16.04</td>\n",
       "    </tr>\n",
       "    <tr>\n",
       "      <th>Platform</th>\n",
       "      <td>0.33</td>\n",
       "      <td>13.76</td>\n",
       "    </tr>\n",
       "    <tr>\n",
       "      <th>Sports</th>\n",
       "      <td>0.31</td>\n",
       "      <td>12.85</td>\n",
       "    </tr>\n",
       "    <tr>\n",
       "      <th>Simulation</th>\n",
       "      <td>0.16</td>\n",
       "      <td>6.87</td>\n",
       "    </tr>\n",
       "    <tr>\n",
       "      <th>Other</th>\n",
       "      <td>0</td>\n",
       "      <td>27.72</td>\n",
       "    </tr>\n",
       "  </tbody>\n",
       "</table>\n",
       "</div>"
      ],
      "text/plain": [
       "           eu_sales  proportion_of_sales\n",
       "genre                                   \n",
       "Shooter        0.55                22.76\n",
       "Racing         0.38                16.04\n",
       "Platform       0.33                13.76\n",
       "Sports         0.31                12.85\n",
       "Simulation     0.16                 6.87\n",
       "Other             0                27.72"
      ]
     },
     "metadata": {},
     "output_type": "display_data"
    },
    {
     "name": "stderr",
     "output_type": "stream",
     "text": [
      "/var/folders/vf/z1gk_tyn2zsf73w6bspmxgjm0000gn/T/ipykernel_38278/1723385299.py:20: FutureWarning: The frame.append method is deprecated and will be removed from pandas in a future version. Use pandas.concat instead.\n",
      "  df_top_5 = df_top_5.append(new_row, ignore_index=False).copy()\n"
     ]
    },
    {
     "data": {
      "image/png": "[encoded data removed]",
      "text/plain": [
       "<Figure size 432x288 with 1 Axes>"
      ]
     },
     "metadata": {},
     "output_type": "display_data"
    },
    {
     "data": {
      "text/html": [
       "<div>\n",
       "<style scoped>\n",
       "    .dataframe tbody tr th:only-of-type {\n",
       "        vertical-align: middle;\n",
       "    }\n",
       "\n",
       "    .dataframe tbody tr th {\n",
       "        vertical-align: top;\n",
       "    }\n",
       "\n",
       "    .dataframe thead th {\n",
       "        text-align: right;\n",
       "    }\n",
       "</style>\n",
       "<table border=\"1\" class=\"dataframe\">\n",
       "  <thead>\n",
       "    <tr style=\"text-align: right;\">\n",
       "      <th></th>\n",
       "      <th>jp_sales</th>\n",
       "      <th>proportion_of_sales</th>\n",
       "    </tr>\n",
       "    <tr>\n",
       "      <th>genre</th>\n",
       "      <th></th>\n",
       "      <th></th>\n",
       "    </tr>\n",
       "  </thead>\n",
       "  <tbody>\n",
       "    <tr>\n",
       "      <th>Role-Playing</th>\n",
       "      <td>0.22</td>\n",
       "      <td>20.86</td>\n",
       "    </tr>\n",
       "    <tr>\n",
       "      <th>Platform</th>\n",
       "      <td>0.17</td>\n",
       "      <td>15.93</td>\n",
       "    </tr>\n",
       "    <tr>\n",
       "      <th>Fighting</th>\n",
       "      <td>0.12</td>\n",
       "      <td>11.02</td>\n",
       "    </tr>\n",
       "    <tr>\n",
       "      <th>Simulation</th>\n",
       "      <td>0.11</td>\n",
       "      <td>10.30</td>\n",
       "    </tr>\n",
       "    <tr>\n",
       "      <th>Action</th>\n",
       "      <td>0.08</td>\n",
       "      <td>7.33</td>\n",
       "    </tr>\n",
       "    <tr>\n",
       "      <th>Other</th>\n",
       "      <td>0</td>\n",
       "      <td>34.56</td>\n",
       "    </tr>\n",
       "  </tbody>\n",
       "</table>\n",
       "</div>"
      ],
      "text/plain": [
       "             jp_sales  proportion_of_sales\n",
       "genre                                     \n",
       "Role-Playing     0.22                20.86\n",
       "Platform         0.17                15.93\n",
       "Fighting         0.12                11.02\n",
       "Simulation       0.11                10.30\n",
       "Action           0.08                 7.33\n",
       "Other               0                34.56"
      ]
     },
     "metadata": {},
     "output_type": "display_data"
    }
   ],
   "source": [
    "# Находим топ-5 жанров игр для каждого региона 2011-2016 год\n",
    "regions = ['na_sales', 'eu_sales', 'jp_sales']\n",
    "for i in regions:\n",
    "    data_name_actually_genre = (\n",
    "        data_name_actually\n",
    "        .pivot_table(index='genre', values = i, aggfunc='mean')\n",
    "        .sort_values(by=i, ascending=False)\n",
    "    )\n",
    "    data_name_actually_genre['proportion_of_sales'] = (\n",
    "        data_name_actually_genre[i] / data_name_actually_genre[i].sum()\n",
    "    ) * 100 \n",
    "    data_name_actually_genre['proportion_of_sales'] = (\n",
    "        data_name_actually_genre['proportion_of_sales']\n",
    "        .apply(lambda x: float('{:.2f}'.format(x)))\n",
    "    )\n",
    "    \n",
    "    df_top_5 = data_name_actually_genre.head().copy()\n",
    "    other_sum = 100 - df_top_5['proportion_of_sales'].sum()\n",
    "    new_row = pd.Series(data={i:'0', 'proportion_of_sales': other_sum}, name='Other')\n",
    "    df_top_5 = df_top_5.append(new_row, ignore_index=False).copy()\n",
    "    \n",
    "    df = df_top_5['proportion_of_sales'].values\n",
    "    labels = df_top_5.index\n",
    "    colors = sns.color_palette('pastel')[0:6]\n",
    "    plt.pie(df, labels = labels, colors = colors, autopct='%.0f%%')\n",
    "    plt.title(f'Популярные жанры для {i}')\n",
    "    plt.show()                    \n",
    "    display(df_top_5.head(6))"
   ]
  },
  {
   "cell_type": "markdown",
   "id": "7de80922",
   "metadata": {},
   "source": [
    "## Влияние рейтинга ESRB на продажи в отдельном регионе"
   ]
  },
  {
   "cell_type": "code",
   "execution_count": 62,
   "id": "fccee048",
   "metadata": {},
   "outputs": [
    {
     "name": "stdout",
     "output_type": "stream",
     "text": [
      "unknown    1205\n",
      "T           351\n",
      "E           317\n",
      "M           262\n",
      "E10+        201\n",
      "EC            1\n",
      "RP            1\n",
      "Name: rating, dtype: int64\n",
      "Всего пропусков 0\n",
      "Доля пропусков 0.0\n"
     ]
    }
   ],
   "source": [
    "print(data_name_actually.rating.value_counts())\n",
    "print('Всего пропусков', data_name_actually.rating.isna().sum())\n",
    "print('Доля пропусков', data_name_actually.rating.isna().sum()/len(data_name_actually))"
   ]
  },
  {
   "cell_type": "code",
   "execution_count": 63,
   "id": "44251178",
   "metadata": {},
   "outputs": [
    {
     "data": {
      "text/html": [
       "<div>\n",
       "<style scoped>\n",
       "    .dataframe tbody tr th:only-of-type {\n",
       "        vertical-align: middle;\n",
       "    }\n",
       "\n",
       "    .dataframe tbody tr th {\n",
       "        vertical-align: top;\n",
       "    }\n",
       "\n",
       "    .dataframe thead th {\n",
       "        text-align: right;\n",
       "    }\n",
       "</style>\n",
       "<table border=\"1\" class=\"dataframe\">\n",
       "  <thead>\n",
       "    <tr style=\"text-align: right;\">\n",
       "      <th></th>\n",
       "      <th>na_sales</th>\n",
       "    </tr>\n",
       "    <tr>\n",
       "      <th>rating</th>\n",
       "      <th></th>\n",
       "    </tr>\n",
       "  </thead>\n",
       "  <tbody>\n",
       "    <tr>\n",
       "      <th>M</th>\n",
       "      <td>159.69</td>\n",
       "    </tr>\n",
       "    <tr>\n",
       "      <th>E</th>\n",
       "      <td>110.90</td>\n",
       "    </tr>\n",
       "    <tr>\n",
       "      <th>T</th>\n",
       "      <td>72.97</td>\n",
       "    </tr>\n",
       "    <tr>\n",
       "      <th>unknown</th>\n",
       "      <td>69.22</td>\n",
       "    </tr>\n",
       "    <tr>\n",
       "      <th>E10+</th>\n",
       "      <td>65.65</td>\n",
       "    </tr>\n",
       "    <tr>\n",
       "      <th>EC</th>\n",
       "      <td>0.42</td>\n",
       "    </tr>\n",
       "    <tr>\n",
       "      <th>RP</th>\n",
       "      <td>0.00</td>\n",
       "    </tr>\n",
       "  </tbody>\n",
       "</table>\n",
       "</div>"
      ],
      "text/plain": [
       "         na_sales\n",
       "rating           \n",
       "M          159.69\n",
       "E          110.90\n",
       "T           72.97\n",
       "unknown     69.22\n",
       "E10+        65.65\n",
       "EC           0.42\n",
       "RP           0.00"
      ]
     },
     "metadata": {},
     "output_type": "display_data"
    },
    {
     "data": {
      "text/html": [
       "<div>\n",
       "<style scoped>\n",
       "    .dataframe tbody tr th:only-of-type {\n",
       "        vertical-align: middle;\n",
       "    }\n",
       "\n",
       "    .dataframe tbody tr th {\n",
       "        vertical-align: top;\n",
       "    }\n",
       "\n",
       "    .dataframe thead th {\n",
       "        text-align: right;\n",
       "    }\n",
       "</style>\n",
       "<table border=\"1\" class=\"dataframe\">\n",
       "  <thead>\n",
       "    <tr style=\"text-align: right;\">\n",
       "      <th></th>\n",
       "      <th>eu_sales</th>\n",
       "    </tr>\n",
       "    <tr>\n",
       "      <th>rating</th>\n",
       "      <th></th>\n",
       "    </tr>\n",
       "  </thead>\n",
       "  <tbody>\n",
       "    <tr>\n",
       "      <th>M</th>\n",
       "      <td>132.10</td>\n",
       "    </tr>\n",
       "    <tr>\n",
       "      <th>E</th>\n",
       "      <td>96.32</td>\n",
       "    </tr>\n",
       "    <tr>\n",
       "      <th>unknown</th>\n",
       "      <td>67.75</td>\n",
       "    </tr>\n",
       "    <tr>\n",
       "      <th>T</th>\n",
       "      <td>60.44</td>\n",
       "    </tr>\n",
       "    <tr>\n",
       "      <th>E10+</th>\n",
       "      <td>41.53</td>\n",
       "    </tr>\n",
       "    <tr>\n",
       "      <th>RP</th>\n",
       "      <td>0.03</td>\n",
       "    </tr>\n",
       "    <tr>\n",
       "      <th>EC</th>\n",
       "      <td>0.00</td>\n",
       "    </tr>\n",
       "  </tbody>\n",
       "</table>\n",
       "</div>"
      ],
      "text/plain": [
       "         eu_sales\n",
       "rating           \n",
       "M          132.10\n",
       "E           96.32\n",
       "unknown     67.75\n",
       "T           60.44\n",
       "E10+        41.53\n",
       "RP           0.03\n",
       "EC           0.00"
      ]
     },
     "metadata": {},
     "output_type": "display_data"
    },
    {
     "data": {
      "text/html": [
       "<div>\n",
       "<style scoped>\n",
       "    .dataframe tbody tr th:only-of-type {\n",
       "        vertical-align: middle;\n",
       "    }\n",
       "\n",
       "    .dataframe tbody tr th {\n",
       "        vertical-align: top;\n",
       "    }\n",
       "\n",
       "    .dataframe thead th {\n",
       "        text-align: right;\n",
       "    }\n",
       "</style>\n",
       "<table border=\"1\" class=\"dataframe\">\n",
       "  <thead>\n",
       "    <tr style=\"text-align: right;\">\n",
       "      <th></th>\n",
       "      <th>jp_sales</th>\n",
       "    </tr>\n",
       "    <tr>\n",
       "      <th>rating</th>\n",
       "      <th></th>\n",
       "    </tr>\n",
       "  </thead>\n",
       "  <tbody>\n",
       "    <tr>\n",
       "      <th>unknown</th>\n",
       "      <td>115.69</td>\n",
       "    </tr>\n",
       "    <tr>\n",
       "      <th>E</th>\n",
       "      <td>34.31</td>\n",
       "    </tr>\n",
       "    <tr>\n",
       "      <th>T</th>\n",
       "      <td>27.36</td>\n",
       "    </tr>\n",
       "    <tr>\n",
       "      <th>M</th>\n",
       "      <td>19.16</td>\n",
       "    </tr>\n",
       "    <tr>\n",
       "      <th>E10+</th>\n",
       "      <td>10.41</td>\n",
       "    </tr>\n",
       "    <tr>\n",
       "      <th>EC</th>\n",
       "      <td>0.00</td>\n",
       "    </tr>\n",
       "    <tr>\n",
       "      <th>RP</th>\n",
       "      <td>0.00</td>\n",
       "    </tr>\n",
       "  </tbody>\n",
       "</table>\n",
       "</div>"
      ],
      "text/plain": [
       "         jp_sales\n",
       "rating           \n",
       "unknown    115.69\n",
       "E           34.31\n",
       "T           27.36\n",
       "M           19.16\n",
       "E10+        10.41\n",
       "EC           0.00\n",
       "RP           0.00"
      ]
     },
     "metadata": {},
     "output_type": "display_data"
    }
   ],
   "source": [
    "regions = ['na_sales', 'eu_sales', 'jp_sales']\n",
    "for i in regions:\n",
    "    data_name_actually_genre = (\n",
    "        data_name_actually\n",
    "        .pivot_table(index='rating', values = i, aggfunc='sum')\n",
    "        .sort_values(by=i, ascending=False)\n",
    "    )\n",
    "    display(data_name_actually_genre)\n"
   ]
  },
  {
   "cell_type": "markdown",
   "id": "dc726636",
   "metadata": {},
   "source": [
    "Больше всего игр продается с рейтенгом (М) для взрослых, для всех (E), для подростков (T). В Японии свой рейтинг."
   ]
  },
  {
   "cell_type": "markdown",
   "id": "fa6d0c02",
   "metadata": {},
   "source": [
    "## Проверка гипотез\n",
    "* Средние пользовательские рейтинги платформ Xbox One и PC одинаковые; "
   ]
  },
  {
   "cell_type": "markdown",
   "id": "c3e12583",
   "metadata": {},
   "source": [
    "* Нулевая гипотеза: средние пользовательские рейтинги платформ Xbox One и PC равны\n",
    "* Альтернативная гипотеза: средние пользовательские рейтинги платформ Xbox One и PC  не равны\n",
    "    "
   ]
  },
  {
   "cell_type": "code",
   "execution_count": 64,
   "id": "afd0266e",
   "metadata": {},
   "outputs": [
    {
     "name": "stdout",
     "output_type": "stream",
     "text": [
      "p-значение:  0.2759272782775782\n",
      "Не получилось отвергнуть нулевую гипотезу\n"
     ]
    }
   ],
   "source": [
    "sample_1 = (\n",
    "    data_actually\n",
    "    .query('platform == \"PC\" & ~user_score.isna()', engine='python')['user_score']\n",
    ")\n",
    "sample_2 = (data_actually\n",
    "            .query('platform == \"XOne\" & ~user_score.isna()', engine='python')['user_score']\n",
    "           )\n",
    "alpha = .05\n",
    "results = st.ttest_ind(\n",
    "    sample_1, \n",
    "    sample_2,\n",
    "    equal_var = True)\n",
    "print('p-значение: ', results.pvalue)\n",
    "\n",
    "if results.pvalue < alpha:\n",
    "    print(\"Отвергаем нулевую гипотезу\")\n",
    "else:\n",
    "    print(\"Не получилось отвергнуть нулевую гипотезу\") "
   ]
  },
  {
   "cell_type": "markdown",
   "id": "ddf3773c",
   "metadata": {},
   "source": [
    "Полученное значение p-value говорит о том, что вероятность допустить ошибку первого рода состаляет 27,6%. Вероятность совершить ошибку первого рода достаточно большая, поэтому мы не можем отвергнуть нулевую гипотезу."
   ]
  },
  {
   "cell_type": "code",
   "execution_count": 65,
   "id": "921585cb",
   "metadata": {},
   "outputs": [
    {
     "name": "stdout",
     "output_type": "stream",
     "text": [
      "Средняя оценка пользовательского рейттинга платформы PC:\n",
      "6.445324813631522\n",
      "Средняя оценка пользовательского рейттинга платформы Xbox One:\n",
      "6.594837398373981\n"
     ]
    }
   ],
   "source": [
    "# средний пользовательский рейтинг по платформам Xbox One и PC:\n",
    "average_user_score_PC = (\n",
    "    data_actually\n",
    "    .query('platform == \"PC\" & ~user_score.isna()', engine='python')['user_score']\n",
    "    .mean()\n",
    ")\n",
    "average_user_score_XOne = (data_actually\n",
    "            .query('platform == \"XOne\" & ~user_score.isna()', engine='python')['user_score']\n",
    "            .mean()\n",
    "                          )\n",
    "print('Средняя оценка пользовательского рейттинга платформы PC:', average_user_score_PC,\n",
    "      'Средняя оценка пользовательского рейттинга платформы Xbox One:', average_user_score_XOne, sep='\\n')"
   ]
  },
  {
   "cell_type": "markdown",
   "id": "db07beee",
   "metadata": {},
   "source": [
    "Пользовательские рейтинги для двух платформ очень близки, поэтому мы подтверждаем, что мы не можем отвергнуть нулевую гипотезу."
   ]
  },
  {
   "cell_type": "markdown",
   "id": "5a44158a",
   "metadata": {},
   "source": [
    "Средние пользовательские рейтинги жанров Action (англ. «действие», экшен-игры) и Sports (англ. «спортивные соревнования») разные.\n",
    "\n",
    "\n",
    "* Нулевая гипотеза: Средние пользовательские рейтинги жанров Action и Sports равны\n",
    "* Альтернативная гипотеза: Средние пользовательские рейтинги жанров Action и Sports различаются"
   ]
  },
  {
   "cell_type": "code",
   "execution_count": 66,
   "id": "003c7805",
   "metadata": {},
   "outputs": [
    {
     "name": "stdout",
     "output_type": "stream",
     "text": [
      "p-значение:  1.563333926213334e-28\n",
      "Отвергаем нулевую гипотезу\n"
     ]
    }
   ],
   "source": [
    "sample_1 = (\n",
    "    data_actually\n",
    "    .query('genre == \"Action\" & ~user_score.isna()', engine='python')['user_score']\n",
    ")\n",
    "sample_2 =(\n",
    "    data_actually\n",
    "    .query('genre == \"Sports\" & ~user_score.isna()', engine='python')['user_score']\n",
    ")\n",
    "alpha = .05\n",
    "results = st.ttest_ind(\n",
    "    sample_1, \n",
    "    sample_2,\n",
    "    equal_var = True)\n",
    "print('p-значение: ', results.pvalue)\n",
    "\n",
    "if results.pvalue < alpha:\n",
    "    print(\"Отвергаем нулевую гипотезу\")\n",
    "else:\n",
    "    print(\"Не получилось отвергнуть нулевую гипотезу\") "
   ]
  },
  {
   "cell_type": "markdown",
   "id": "8df10390",
   "metadata": {},
   "source": [
    "Вероятность совершить ошибку первого рода очень маленькая, поэтому мы отвергаем нулевую гипотезу."
   ]
  },
  {
   "cell_type": "code",
   "execution_count": 67,
   "id": "56be8cbe",
   "metadata": {},
   "outputs": [
    {
     "name": "stdout",
     "output_type": "stream",
     "text": [
      "Средняя оценка пользовательского рейттинга жанров Action:\n",
      "6.776318261249468\n",
      "Средняя оценка пользовательского рейттинга жанров Sports:\n",
      "5.637109374999997\n"
     ]
    }
   ],
   "source": [
    "#  Средние пользовательские рейтинги жанров Action и Sports\n",
    "average_user_score_action = (\n",
    "    data_actually\n",
    "    .query('genre == \"Action\" & ~user_score.isna()', engine='python')['user_score']\n",
    "    .mean()\n",
    ")\n",
    "average_user_score_sports =(\n",
    "    data_actually\n",
    "    .query('genre == \"Sports\" & ~user_score.isna()', engine='python')['user_score']\n",
    "    .mean()\n",
    ")\n",
    "print('Средняя оценка пользовательского рейттинга жанров Action:', average_user_score_action,\n",
    "      'Средняя оценка пользовательского рейттинга жанров Sports:', average_user_score_sports, sep='\\n')"
   ]
  },
  {
   "cell_type": "markdown",
   "id": "99c9b259",
   "metadata": {},
   "source": [
    "Подтверждаем, что пользовательские рейтинги жанров Action и Sports значительно различаются."
   ]
  },
  {
   "cell_type": "markdown",
   "id": "e1fe5b5a",
   "metadata": {},
   "source": [
    "# Вывод:"
   ]
  },
  {
   "cell_type": "markdown",
   "id": "6be8abc2",
   "metadata": {},
   "source": [
    "1. Пик по количеству выпущенных игр пришелся на 2008 год. После 2008 года количество выпущенных игр снижается.\n",
    "2. Больше всего продаж с 1980 года пришлось на следующие платформы PS2, PS, PS3, DC, Wii, X360. \n",
    "3. Среднее значение количества лет от появления платформы и до полного исчезновения  составляет 14 лет. Однако пик популярности и снижение продаж во сновном происходит за приблизительно 5 лет. С учетом этого был выбран актуальный переод для определения закономерностей, влияющих на успешность игры.\n",
    "4. Наиболее прибыльной к 2016 году является платформа PS4, для нее в 2016 году общие продажи составили больше копий, чем для остальных платформ. Если считать, что время полной жизни платформы 14 лет, а пик ее пупулярнойсти приходит на 5 лет, то самыми перспективными будут платформа PS4, XOne, WiiU для них высокие продажи к 2016 году и на рынок они вышли недавно 4-5 лет назад, так же можно выделить платформу 3DS для которой продажи в 2016 году сравнимы с продажами платформ PS4, XOne, WiiU, но на рынке она уже 7 лет.\n",
    "5. Отзыв критиков больше влияет на продажи, чем отзывы пользователей.\n",
    "6. По количеству и продажам по всем регионам самый популярный жанр это Shooter, затем Platform, RacingRole-playing."
   ]
  },
  {
   "cell_type": "code",
   "execution_count": 68,
   "id": "0231e71e",
   "metadata": {
    "code_folding": []
   },
   "outputs": [
    {
     "name": "stdout",
     "output_type": "stream",
     "text": [
      " Коэффициент корреляции: 0.39126521038185785\n"
     ]
    },
    {
     "data": {
      "image/png": "[encoded data removed]",
      "text/plain": [
       "<Figure size 432x288 with 1 Axes>"
      ]
     },
     "metadata": {
      "needs_background": "light"
     },
     "output_type": "display_data"
    }
   ],
   "source": [
    "# Корреляция между общими продажами и оценкой критиков\n",
    "print(f' Коэффициент корреляции: {data_ps4.general_sales.corr(data_ps4.critic_score)}')\n",
    "data_ps4.plot(x='critic_score', y='general_sales', kind='scatter', alpha=0.5,\n",
    "              title = 'Зависимость продаж от оценки критиков'); "
   ]
  },
  {
   "cell_type": "markdown",
   "id": "560a658d",
   "metadata": {},
   "source": [
    "Средний потрет пользователя каждого региона.\n",
    "\n",
    "* Средний пользователь региона Северная Америка предпочитает игры на платформе Х360 и ХОne, в Европе предпочитают платформу PS4, а пользователи из Японии предпочитают платформу 3DS. \n",
    "* Самый популярный жанр игры среди пользователей в Северной Америке и Европе Shooter, в Японии Role-Playing. \n",
    "* В Северной Америке и Европе предпочитают игры с рейтингом ESRB - M(для взрослых). А в Японии игры, которые не класифицируются рейтингом ESRB."
   ]
  },
  {
   "cell_type": "markdown",
   "id": "65b764a2",
   "metadata": {},
   "source": [
    "Потенциально прибыльным продуктом в 2017 году могут являться следующие игры:\n",
    "* Игры на платформах, которые вошли в топ-5 по регионам с 2012-2016 год, однако лидирующими могут стать платформы PS4, XOne, WiiU так как они недавно вышли на рынок, в отличии от остальных платформ. И PS4 и WiiU уже вошли в топ-5 по продажам в Северной Америке и Японии.\n",
    "* Игры жанра Shooter , для Японии Role-Playin\n",
    "* Так же стоит учесть рейтинг критиков и рейтинг ESRB. Охотнее всего покупают игры с категорией для взрослых и высоким рейтингом критиков. В Японии рейтинг ESRB не играет важную роль, большинство продоваемых игр не имеет рейтинга ESRB. "
   ]
  }
 ],
 "metadata": {
  "ExecuteTimeLog": [
   {
    "duration": 1201,
    "start_time": "2022-03-10T16:20:41.042Z"
   },
   {
    "duration": 3,
    "start_time": "2022-03-10T16:20:42.246Z"
   },
   {
    "duration": 53,
    "start_time": "2022-03-10T16:20:42.259Z"
   },
   {
    "duration": 12,
    "start_time": "2022-03-10T16:20:42.313Z"
   },
   {
    "duration": 18,
    "start_time": "2022-03-10T16:20:42.326Z"
   },
   {
    "duration": 25,
    "start_time": "2022-03-10T16:20:42.346Z"
   },
   {
    "duration": 24,
    "start_time": "2022-03-10T16:20:42.375Z"
   },
   {
    "duration": 11,
    "start_time": "2022-03-10T16:20:42.401Z"
   },
   {
    "duration": 33,
    "start_time": "2022-03-10T16:20:42.414Z"
   },
   {
    "duration": 5,
    "start_time": "2022-03-10T16:20:42.448Z"
   },
   {
    "duration": 26,
    "start_time": "2022-03-10T16:20:42.454Z"
   },
   {
    "duration": 21,
    "start_time": "2022-03-10T16:20:42.482Z"
   },
   {
    "duration": 22,
    "start_time": "2022-03-10T16:20:42.505Z"
   },
   {
    "duration": 33,
    "start_time": "2022-03-10T16:20:42.528Z"
   },
   {
    "duration": 13,
    "start_time": "2022-03-10T16:20:42.563Z"
   },
   {
    "duration": 16,
    "start_time": "2022-03-10T16:20:42.578Z"
   },
   {
    "duration": 21,
    "start_time": "2022-03-10T16:20:42.596Z"
   },
   {
    "duration": 5,
    "start_time": "2022-03-10T16:20:42.619Z"
   },
   {
    "duration": 22,
    "start_time": "2022-03-10T16:20:42.626Z"
   },
   {
    "duration": 24,
    "start_time": "2022-03-10T16:20:42.660Z"
   },
   {
    "duration": 28,
    "start_time": "2022-03-10T16:20:42.686Z"
   },
   {
    "duration": 20,
    "start_time": "2022-03-10T16:20:42.718Z"
   },
   {
    "duration": 19,
    "start_time": "2022-03-10T16:20:42.740Z"
   },
   {
    "duration": 30,
    "start_time": "2022-03-10T16:20:42.761Z"
   },
   {
    "duration": 36,
    "start_time": "2022-03-10T16:20:42.793Z"
   },
   {
    "duration": 472,
    "start_time": "2022-03-10T16:20:42.831Z"
   },
   {
    "duration": 410,
    "start_time": "2022-03-10T16:20:43.305Z"
   },
   {
    "duration": 15,
    "start_time": "2022-03-10T16:20:43.717Z"
   },
   {
    "duration": 2600,
    "start_time": "2022-03-10T16:20:43.734Z"
   },
   {
    "duration": 8,
    "start_time": "2022-03-10T16:20:46.335Z"
   },
   {
    "duration": 26,
    "start_time": "2022-03-10T16:20:46.345Z"
   },
   {
    "duration": 2676,
    "start_time": "2022-03-10T16:20:46.373Z"
   },
   {
    "duration": 458,
    "start_time": "2022-03-10T16:20:49.051Z"
   },
   {
    "duration": 453,
    "start_time": "2022-03-10T16:20:49.511Z"
   },
   {
    "duration": 19,
    "start_time": "2022-03-10T16:20:49.965Z"
   },
   {
    "duration": 315,
    "start_time": "2022-03-10T16:20:49.986Z"
   },
   {
    "duration": 285,
    "start_time": "2022-03-10T16:20:50.303Z"
   },
   {
    "duration": 1145,
    "start_time": "2022-03-10T16:20:50.591Z"
   },
   {
    "duration": 1041,
    "start_time": "2022-03-10T16:20:51.738Z"
   },
   {
    "duration": 287,
    "start_time": "2022-03-10T16:20:52.780Z"
   },
   {
    "duration": 38,
    "start_time": "2022-03-10T16:20:53.068Z"
   },
   {
    "duration": 71,
    "start_time": "2022-03-10T16:20:53.108Z"
   },
   {
    "duration": 36,
    "start_time": "2022-03-10T16:20:53.181Z"
   },
   {
    "duration": 55,
    "start_time": "2022-03-10T16:20:53.219Z"
   },
   {
    "duration": 13,
    "start_time": "2022-03-10T16:20:53.276Z"
   },
   {
    "duration": 13,
    "start_time": "2022-03-10T16:20:53.291Z"
   },
   {
    "duration": 306,
    "start_time": "2022-03-10T16:20:53.306Z"
   },
   {
    "duration": 3,
    "start_time": "2022-03-10T16:21:42.964Z"
   },
   {
    "duration": 7,
    "start_time": "2022-03-10T16:21:46.338Z"
   },
   {
    "duration": 6,
    "start_time": "2022-03-10T16:22:25.195Z"
   },
   {
    "duration": 7,
    "start_time": "2022-03-10T16:24:41.097Z"
   },
   {
    "duration": 7,
    "start_time": "2022-03-10T16:27:40.244Z"
   },
   {
    "duration": 3,
    "start_time": "2022-03-10T16:27:47.482Z"
   },
   {
    "duration": 7,
    "start_time": "2022-03-10T16:27:50.224Z"
   },
   {
    "duration": 2,
    "start_time": "2022-03-10T16:27:58.765Z"
   },
   {
    "duration": 9,
    "start_time": "2022-03-10T16:28:01.741Z"
   },
   {
    "duration": 5,
    "start_time": "2022-03-10T16:33:01.948Z"
   },
   {
    "duration": 5,
    "start_time": "2022-03-10T18:11:03.283Z"
   },
   {
    "duration": 4,
    "start_time": "2022-03-10T18:11:40.783Z"
   },
   {
    "duration": 5,
    "start_time": "2022-03-10T18:43:20.418Z"
   },
   {
    "duration": 367,
    "start_time": "2022-03-10T18:44:30.895Z"
   },
   {
    "duration": 178,
    "start_time": "2022-03-10T18:45:20.793Z"
   },
   {
    "duration": 192,
    "start_time": "2022-03-10T18:46:27.796Z"
   },
   {
    "duration": 4,
    "start_time": "2022-03-10T18:46:48.645Z"
   },
   {
    "duration": 7,
    "start_time": "2022-03-10T18:47:27.995Z"
   },
   {
    "duration": 7,
    "start_time": "2022-03-10T18:49:05.845Z"
   },
   {
    "duration": 7,
    "start_time": "2022-03-10T18:49:23.074Z"
   },
   {
    "duration": 6,
    "start_time": "2022-03-10T18:49:47.352Z"
   },
   {
    "duration": 6,
    "start_time": "2022-03-10T18:50:09.559Z"
   },
   {
    "duration": 8,
    "start_time": "2022-03-10T18:50:56.741Z"
   },
   {
    "duration": 8,
    "start_time": "2022-03-10T18:51:11.408Z"
   },
   {
    "duration": 7,
    "start_time": "2022-03-10T18:56:06.081Z"
   },
   {
    "duration": 13,
    "start_time": "2022-03-10T18:57:40.537Z"
   },
   {
    "duration": 7,
    "start_time": "2022-03-10T18:58:26.781Z"
   },
   {
    "duration": 1160,
    "start_time": "2022-03-11T12:20:55.580Z"
   },
   {
    "duration": 3,
    "start_time": "2022-03-11T12:20:56.742Z"
   },
   {
    "duration": 67,
    "start_time": "2022-03-11T12:20:56.746Z"
   },
   {
    "duration": 12,
    "start_time": "2022-03-11T12:20:56.815Z"
   },
   {
    "duration": 4,
    "start_time": "2022-03-11T12:20:56.829Z"
   },
   {
    "duration": 8,
    "start_time": "2022-03-11T12:20:56.834Z"
   },
   {
    "duration": 5,
    "start_time": "2022-03-11T12:20:56.844Z"
   },
   {
    "duration": 6,
    "start_time": "2022-03-11T12:20:56.851Z"
   },
   {
    "duration": 51,
    "start_time": "2022-03-11T12:20:56.858Z"
   },
   {
    "duration": 6,
    "start_time": "2022-03-11T12:20:56.911Z"
   },
   {
    "duration": 15,
    "start_time": "2022-03-11T12:20:56.918Z"
   },
   {
    "duration": 5,
    "start_time": "2022-03-11T12:20:56.935Z"
   },
   {
    "duration": 20,
    "start_time": "2022-03-11T12:20:56.942Z"
   },
   {
    "duration": 17,
    "start_time": "2022-03-11T12:20:56.963Z"
   },
   {
    "duration": 10,
    "start_time": "2022-03-11T12:20:56.982Z"
   },
   {
    "duration": 13,
    "start_time": "2022-03-11T12:20:57.001Z"
   },
   {
    "duration": 19,
    "start_time": "2022-03-11T12:20:57.017Z"
   },
   {
    "duration": 4,
    "start_time": "2022-03-11T12:20:57.038Z"
   },
   {
    "duration": 6,
    "start_time": "2022-03-11T12:20:57.044Z"
   },
   {
    "duration": 9,
    "start_time": "2022-03-11T12:20:57.051Z"
   },
   {
    "duration": 15,
    "start_time": "2022-03-11T12:20:57.062Z"
   },
   {
    "duration": 46,
    "start_time": "2022-03-11T12:20:57.078Z"
   },
   {
    "duration": 6,
    "start_time": "2022-03-11T12:20:57.127Z"
   },
   {
    "duration": 7,
    "start_time": "2022-03-11T12:20:57.134Z"
   },
   {
    "duration": 20,
    "start_time": "2022-03-11T12:20:57.142Z"
   },
   {
    "duration": 11,
    "start_time": "2022-03-11T12:20:57.163Z"
   },
   {
    "duration": 418,
    "start_time": "2022-03-11T12:20:57.175Z"
   },
   {
    "duration": 341,
    "start_time": "2022-03-11T12:20:57.595Z"
   },
   {
    "duration": 13,
    "start_time": "2022-03-11T12:20:57.938Z"
   },
   {
    "duration": 2318,
    "start_time": "2022-03-11T12:20:57.953Z"
   },
   {
    "duration": 7,
    "start_time": "2022-03-11T12:21:00.272Z"
   },
   {
    "duration": 34,
    "start_time": "2022-03-11T12:21:00.281Z"
   },
   {
    "duration": 2378,
    "start_time": "2022-03-11T12:21:00.316Z"
   },
   {
    "duration": 391,
    "start_time": "2022-03-11T12:21:02.696Z"
   },
   {
    "duration": 382,
    "start_time": "2022-03-11T12:21:03.089Z"
   },
   {
    "duration": 16,
    "start_time": "2022-03-11T12:21:03.473Z"
   },
   {
    "duration": 322,
    "start_time": "2022-03-11T12:21:03.491Z"
   },
   {
    "duration": 289,
    "start_time": "2022-03-11T12:21:03.815Z"
   },
   {
    "duration": 1080,
    "start_time": "2022-03-11T12:21:04.106Z"
   },
   {
    "duration": 1033,
    "start_time": "2022-03-11T12:21:05.187Z"
   },
   {
    "duration": 258,
    "start_time": "2022-03-11T12:21:06.221Z"
   },
   {
    "duration": 39,
    "start_time": "2022-03-11T12:21:06.481Z"
   },
   {
    "duration": 41,
    "start_time": "2022-03-11T12:21:06.521Z"
   },
   {
    "duration": 55,
    "start_time": "2022-03-11T12:21:06.564Z"
   },
   {
    "duration": 7,
    "start_time": "2022-03-11T12:21:06.620Z"
   },
   {
    "duration": 27,
    "start_time": "2022-03-11T12:21:06.628Z"
   },
   {
    "duration": 14,
    "start_time": "2022-03-11T12:21:06.656Z"
   },
   {
    "duration": 42,
    "start_time": "2022-03-11T12:21:06.671Z"
   },
   {
    "duration": 301,
    "start_time": "2022-03-11T12:21:06.714Z"
   },
   {
    "duration": 14,
    "start_time": "2022-03-11T12:22:34.232Z"
   },
   {
    "duration": 13,
    "start_time": "2022-03-11T12:22:39.946Z"
   },
   {
    "duration": 546,
    "start_time": "2022-03-11T12:32:04.829Z"
   },
   {
    "duration": 17,
    "start_time": "2022-03-11T12:32:27.662Z"
   },
   {
    "duration": 402,
    "start_time": "2022-03-11T12:36:19.431Z"
   },
   {
    "duration": 7,
    "start_time": "2022-03-11T12:36:24.224Z"
   },
   {
    "duration": 9,
    "start_time": "2022-03-11T12:37:01.399Z"
   },
   {
    "duration": 18,
    "start_time": "2022-03-11T12:37:09.072Z"
   },
   {
    "duration": 19,
    "start_time": "2022-03-11T12:47:38.021Z"
   },
   {
    "duration": 9,
    "start_time": "2022-03-11T12:47:51.018Z"
   },
   {
    "duration": 15,
    "start_time": "2022-03-11T12:48:17.009Z"
   },
   {
    "duration": 11,
    "start_time": "2022-03-11T12:48:24.687Z"
   },
   {
    "duration": 11,
    "start_time": "2022-03-11T12:49:10.101Z"
   },
   {
    "duration": 11,
    "start_time": "2022-03-11T12:49:16.642Z"
   },
   {
    "duration": 4,
    "start_time": "2022-03-11T12:49:29.303Z"
   },
   {
    "duration": 7,
    "start_time": "2022-03-11T12:49:35.091Z"
   },
   {
    "duration": 1123,
    "start_time": "2022-03-11T12:51:38.626Z"
   },
   {
    "duration": 3,
    "start_time": "2022-03-11T12:51:39.750Z"
   },
   {
    "duration": 66,
    "start_time": "2022-03-11T12:51:39.755Z"
   },
   {
    "duration": 10,
    "start_time": "2022-03-11T12:51:39.823Z"
   },
   {
    "duration": 12,
    "start_time": "2022-03-11T12:51:39.835Z"
   },
   {
    "duration": 11,
    "start_time": "2022-03-11T12:51:39.848Z"
   },
   {
    "duration": 10,
    "start_time": "2022-03-11T12:51:39.861Z"
   },
   {
    "duration": 5,
    "start_time": "2022-03-11T12:51:39.873Z"
   },
   {
    "duration": 31,
    "start_time": "2022-03-11T12:51:39.880Z"
   },
   {
    "duration": 4,
    "start_time": "2022-03-11T12:51:39.913Z"
   },
   {
    "duration": 24,
    "start_time": "2022-03-11T12:51:39.918Z"
   },
   {
    "duration": 9,
    "start_time": "2022-03-11T12:51:39.943Z"
   },
   {
    "duration": 10,
    "start_time": "2022-03-11T12:51:39.953Z"
   },
   {
    "duration": 39,
    "start_time": "2022-03-11T12:51:39.964Z"
   },
   {
    "duration": 27,
    "start_time": "2022-03-11T12:51:40.004Z"
   },
   {
    "duration": 20,
    "start_time": "2022-03-11T12:51:40.032Z"
   },
   {
    "duration": 27,
    "start_time": "2022-03-11T12:51:40.053Z"
   },
   {
    "duration": 23,
    "start_time": "2022-03-11T12:51:40.081Z"
   },
   {
    "duration": 16,
    "start_time": "2022-03-11T12:51:40.105Z"
   },
   {
    "duration": 35,
    "start_time": "2022-03-11T12:51:40.122Z"
   },
   {
    "duration": 5,
    "start_time": "2022-03-11T12:51:40.158Z"
   },
   {
    "duration": 23,
    "start_time": "2022-03-11T12:51:40.164Z"
   },
   {
    "duration": 13,
    "start_time": "2022-03-11T12:51:40.190Z"
   },
   {
    "duration": 29,
    "start_time": "2022-03-11T12:51:40.204Z"
   },
   {
    "duration": 20,
    "start_time": "2022-03-11T12:51:40.235Z"
   },
   {
    "duration": 13,
    "start_time": "2022-03-11T12:51:40.256Z"
   },
   {
    "duration": 25,
    "start_time": "2022-03-11T12:51:40.270Z"
   },
   {
    "duration": 26,
    "start_time": "2022-03-11T12:51:40.296Z"
   },
   {
    "duration": 23,
    "start_time": "2022-03-11T12:51:40.323Z"
   },
   {
    "duration": 373,
    "start_time": "2022-03-11T12:51:40.348Z"
   },
   {
    "duration": 344,
    "start_time": "2022-03-11T12:51:40.723Z"
   },
   {
    "duration": 13,
    "start_time": "2022-03-11T12:51:41.069Z"
   },
   {
    "duration": 2157,
    "start_time": "2022-03-11T12:51:41.083Z"
   },
   {
    "duration": 6,
    "start_time": "2022-03-11T12:51:43.242Z"
   },
   {
    "duration": 12,
    "start_time": "2022-03-11T12:51:43.250Z"
   },
   {
    "duration": 2412,
    "start_time": "2022-03-11T12:51:43.263Z"
   },
   {
    "duration": 375,
    "start_time": "2022-03-11T12:51:45.677Z"
   },
   {
    "duration": 373,
    "start_time": "2022-03-11T12:51:46.053Z"
   },
   {
    "duration": 17,
    "start_time": "2022-03-11T12:51:46.428Z"
   },
   {
    "duration": 270,
    "start_time": "2022-03-11T12:51:46.446Z"
   },
   {
    "duration": 267,
    "start_time": "2022-03-11T12:51:46.718Z"
   },
   {
    "duration": 970,
    "start_time": "2022-03-11T12:51:46.987Z"
   },
   {
    "duration": 1024,
    "start_time": "2022-03-11T12:51:47.959Z"
   },
   {
    "duration": 249,
    "start_time": "2022-03-11T12:51:48.985Z"
   },
   {
    "duration": 36,
    "start_time": "2022-03-11T12:51:49.236Z"
   },
   {
    "duration": 61,
    "start_time": "2022-03-11T12:51:49.273Z"
   },
   {
    "duration": 34,
    "start_time": "2022-03-11T12:51:49.335Z"
   },
   {
    "duration": 30,
    "start_time": "2022-03-11T12:51:49.371Z"
   },
   {
    "duration": 29,
    "start_time": "2022-03-11T12:51:49.403Z"
   },
   {
    "duration": 12,
    "start_time": "2022-03-11T12:51:49.434Z"
   },
   {
    "duration": 16,
    "start_time": "2022-03-11T12:51:49.447Z"
   },
   {
    "duration": 329,
    "start_time": "2022-03-11T12:51:49.464Z"
   },
   {
    "duration": 97,
    "start_time": "2022-03-11T13:24:06.778Z"
   },
   {
    "duration": 18,
    "start_time": "2022-03-11T13:24:11.980Z"
   },
   {
    "duration": 17,
    "start_time": "2022-03-11T13:24:56.195Z"
   },
   {
    "duration": 9,
    "start_time": "2022-03-11T13:31:32.612Z"
   },
   {
    "duration": 12,
    "start_time": "2022-03-11T13:31:48.250Z"
   },
   {
    "duration": 4,
    "start_time": "2022-03-11T13:36:50.733Z"
   },
   {
    "duration": 4,
    "start_time": "2022-03-11T13:36:53.438Z"
   },
   {
    "duration": 4,
    "start_time": "2022-03-11T13:37:02.829Z"
   },
   {
    "duration": 1127,
    "start_time": "2022-03-11T13:37:17.503Z"
   },
   {
    "duration": 2,
    "start_time": "2022-03-11T13:37:18.632Z"
   },
   {
    "duration": 55,
    "start_time": "2022-03-11T13:37:18.636Z"
   },
   {
    "duration": 10,
    "start_time": "2022-03-11T13:37:18.693Z"
   },
   {
    "duration": 4,
    "start_time": "2022-03-11T13:37:18.704Z"
   },
   {
    "duration": 12,
    "start_time": "2022-03-11T13:37:18.709Z"
   },
   {
    "duration": 6,
    "start_time": "2022-03-11T13:37:18.722Z"
   },
   {
    "duration": 4,
    "start_time": "2022-03-11T13:37:18.730Z"
   },
   {
    "duration": 17,
    "start_time": "2022-03-11T13:37:18.737Z"
   },
   {
    "duration": 5,
    "start_time": "2022-03-11T13:37:18.756Z"
   },
   {
    "duration": 51,
    "start_time": "2022-03-11T13:37:18.762Z"
   },
   {
    "duration": 10,
    "start_time": "2022-03-11T13:37:18.814Z"
   },
   {
    "duration": 5,
    "start_time": "2022-03-11T13:37:18.825Z"
   },
   {
    "duration": 18,
    "start_time": "2022-03-11T13:37:18.832Z"
   },
   {
    "duration": 10,
    "start_time": "2022-03-11T13:37:18.852Z"
   },
   {
    "duration": 3,
    "start_time": "2022-03-11T13:37:18.863Z"
   },
   {
    "duration": 41,
    "start_time": "2022-03-11T13:37:18.868Z"
   },
   {
    "duration": 11,
    "start_time": "2022-03-11T13:37:18.911Z"
   },
   {
    "duration": 11,
    "start_time": "2022-03-11T13:37:18.923Z"
   },
   {
    "duration": 2,
    "start_time": "2022-03-11T13:37:18.935Z"
   },
   {
    "duration": 11,
    "start_time": "2022-03-11T13:37:18.938Z"
   },
   {
    "duration": 5,
    "start_time": "2022-03-11T13:37:18.951Z"
   },
   {
    "duration": 18,
    "start_time": "2022-03-11T13:37:18.959Z"
   },
   {
    "duration": 5,
    "start_time": "2022-03-11T13:37:18.979Z"
   },
   {
    "duration": 11,
    "start_time": "2022-03-11T13:37:19.000Z"
   },
   {
    "duration": 15,
    "start_time": "2022-03-11T13:37:19.013Z"
   },
   {
    "duration": 2,
    "start_time": "2022-03-11T13:37:19.030Z"
   },
   {
    "duration": 10,
    "start_time": "2022-03-11T13:37:19.033Z"
   },
   {
    "duration": 20,
    "start_time": "2022-03-11T13:37:19.044Z"
   },
   {
    "duration": 10,
    "start_time": "2022-03-11T13:37:19.066Z"
   },
   {
    "duration": 370,
    "start_time": "2022-03-11T13:37:19.101Z"
   },
   {
    "duration": 323,
    "start_time": "2022-03-11T13:37:19.473Z"
   },
   {
    "duration": 13,
    "start_time": "2022-03-11T13:37:19.802Z"
   },
   {
    "duration": 2171,
    "start_time": "2022-03-11T13:37:19.816Z"
   },
   {
    "duration": 15,
    "start_time": "2022-03-11T13:37:21.988Z"
   },
   {
    "duration": 10,
    "start_time": "2022-03-11T13:37:22.005Z"
   },
   {
    "duration": 2258,
    "start_time": "2022-03-11T13:37:22.017Z"
   },
   {
    "duration": 381,
    "start_time": "2022-03-11T13:37:24.276Z"
   },
   {
    "duration": 374,
    "start_time": "2022-03-11T13:37:24.658Z"
   },
   {
    "duration": 17,
    "start_time": "2022-03-11T13:37:25.034Z"
   },
   {
    "duration": 331,
    "start_time": "2022-03-11T13:37:25.052Z"
   },
   {
    "duration": 285,
    "start_time": "2022-03-11T13:37:25.401Z"
   },
   {
    "duration": 981,
    "start_time": "2022-03-11T13:37:25.687Z"
   },
   {
    "duration": 886,
    "start_time": "2022-03-11T13:37:26.670Z"
   },
   {
    "duration": 246,
    "start_time": "2022-03-11T13:37:27.558Z"
   },
   {
    "duration": 34,
    "start_time": "2022-03-11T13:37:27.806Z"
   },
   {
    "duration": 64,
    "start_time": "2022-03-11T13:37:27.841Z"
   },
   {
    "duration": 35,
    "start_time": "2022-03-11T13:37:27.907Z"
   },
   {
    "duration": 7,
    "start_time": "2022-03-11T13:37:27.944Z"
   },
   {
    "duration": 57,
    "start_time": "2022-03-11T13:37:27.952Z"
   },
   {
    "duration": 12,
    "start_time": "2022-03-11T13:37:28.011Z"
   },
   {
    "duration": 25,
    "start_time": "2022-03-11T13:37:28.025Z"
   },
   {
    "duration": 315,
    "start_time": "2022-03-11T13:37:28.052Z"
   },
   {
    "duration": 7,
    "start_time": "2022-03-11T13:38:49.613Z"
   },
   {
    "duration": 4,
    "start_time": "2022-03-11T13:39:28.626Z"
   },
   {
    "duration": 6,
    "start_time": "2022-03-11T13:39:31.499Z"
   },
   {
    "duration": 3,
    "start_time": "2022-03-11T13:45:56.546Z"
   },
   {
    "duration": 447,
    "start_time": "2022-03-11T13:47:33.387Z"
   },
   {
    "duration": 18,
    "start_time": "2022-03-11T13:47:41.366Z"
   },
   {
    "duration": 9,
    "start_time": "2022-03-11T13:47:51.496Z"
   },
   {
    "duration": 2094,
    "start_time": "2022-03-11T13:50:43.604Z"
   },
   {
    "duration": 330,
    "start_time": "2022-03-11T13:51:14.143Z"
   },
   {
    "duration": 8,
    "start_time": "2022-03-11T13:51:26.358Z"
   },
   {
    "duration": 94,
    "start_time": "2022-03-11T13:53:49.551Z"
   },
   {
    "duration": 19,
    "start_time": "2022-03-11T13:53:54.920Z"
   },
   {
    "duration": 817,
    "start_time": "2022-03-11T13:58:26.904Z"
   },
   {
    "duration": 791,
    "start_time": "2022-03-11T13:58:40.336Z"
   },
   {
    "duration": 20,
    "start_time": "2022-03-11T14:00:26.319Z"
   },
   {
    "duration": 19,
    "start_time": "2022-03-11T14:00:40.168Z"
   },
   {
    "duration": 19,
    "start_time": "2022-03-11T14:11:20.931Z"
   },
   {
    "duration": 19,
    "start_time": "2022-03-11T14:11:29.182Z"
   },
   {
    "duration": 321,
    "start_time": "2022-03-11T14:11:35.156Z"
   },
   {
    "duration": 315,
    "start_time": "2022-03-11T14:11:39.787Z"
   },
   {
    "duration": 17,
    "start_time": "2022-03-11T14:11:43.970Z"
   },
   {
    "duration": 5,
    "start_time": "2022-03-11T14:15:36.689Z"
   },
   {
    "duration": 7,
    "start_time": "2022-03-11T14:15:51.218Z"
   },
   {
    "duration": 8,
    "start_time": "2022-03-11T14:15:57.018Z"
   },
   {
    "duration": 102,
    "start_time": "2022-03-11T14:21:55.614Z"
   },
   {
    "duration": 118,
    "start_time": "2022-03-11T14:26:38.635Z"
   },
   {
    "duration": 325,
    "start_time": "2022-03-11T14:26:55.110Z"
   },
   {
    "duration": 334,
    "start_time": "2022-03-11T14:28:00.987Z"
   },
   {
    "duration": 319,
    "start_time": "2022-03-11T14:28:12.754Z"
   },
   {
    "duration": 331,
    "start_time": "2022-03-11T14:28:20.086Z"
   },
   {
    "duration": 405,
    "start_time": "2022-03-11T14:28:23.658Z"
   },
   {
    "duration": 337,
    "start_time": "2022-03-11T14:28:43.918Z"
   },
   {
    "duration": 103,
    "start_time": "2022-03-11T14:32:32.648Z"
   },
   {
    "duration": 6,
    "start_time": "2022-03-11T14:33:15.203Z"
   },
   {
    "duration": 12,
    "start_time": "2022-03-11T14:33:18.070Z"
   },
   {
    "duration": 7,
    "start_time": "2022-03-11T14:33:55.164Z"
   },
   {
    "duration": 7,
    "start_time": "2022-03-11T14:34:02.137Z"
   },
   {
    "duration": 13,
    "start_time": "2022-03-11T14:34:04.134Z"
   },
   {
    "duration": 6,
    "start_time": "2022-03-11T14:34:10.655Z"
   },
   {
    "duration": 12,
    "start_time": "2022-03-11T14:34:12.528Z"
   },
   {
    "duration": 6,
    "start_time": "2022-03-11T14:34:19.053Z"
   },
   {
    "duration": 13,
    "start_time": "2022-03-11T14:34:20.816Z"
   },
   {
    "duration": 1698,
    "start_time": "2022-03-11T14:35:20.559Z"
   },
   {
    "duration": 1698,
    "start_time": "2022-03-11T14:36:26.509Z"
   },
   {
    "duration": 1669,
    "start_time": "2022-03-11T14:36:37.809Z"
   },
   {
    "duration": 327,
    "start_time": "2022-03-11T14:44:33.166Z"
   },
   {
    "duration": 107,
    "start_time": "2022-03-11T14:45:46.562Z"
   },
   {
    "duration": 229,
    "start_time": "2022-03-11T14:45:51.066Z"
   },
   {
    "duration": 13,
    "start_time": "2022-03-11T14:54:54.219Z"
   },
   {
    "duration": 13,
    "start_time": "2022-03-11T14:55:10.806Z"
   },
   {
    "duration": 13,
    "start_time": "2022-03-11T14:56:57.475Z"
   },
   {
    "duration": 14,
    "start_time": "2022-03-11T14:57:03.719Z"
   },
   {
    "duration": 231,
    "start_time": "2022-03-11T14:57:17.099Z"
   },
   {
    "duration": 101,
    "start_time": "2022-03-11T15:15:45.199Z"
   },
   {
    "duration": 98,
    "start_time": "2022-03-11T15:16:07.988Z"
   },
   {
    "duration": 106,
    "start_time": "2022-03-11T15:16:18.249Z"
   },
   {
    "duration": 1654,
    "start_time": "2022-03-11T15:17:06.995Z"
   },
   {
    "duration": 979,
    "start_time": "2022-03-11T15:24:53.432Z"
   },
   {
    "duration": 1658,
    "start_time": "2022-03-11T15:25:38.682Z"
   },
   {
    "duration": 1078,
    "start_time": "2022-03-11T15:28:12.453Z"
   },
   {
    "duration": 427,
    "start_time": "2022-03-11T15:30:37.156Z"
   },
   {
    "duration": 333,
    "start_time": "2022-03-11T15:31:01.108Z"
   },
   {
    "duration": 484,
    "start_time": "2022-03-11T15:31:50.208Z"
   },
   {
    "duration": 494,
    "start_time": "2022-03-11T15:33:42.821Z"
   },
   {
    "duration": 329,
    "start_time": "2022-03-11T15:37:11.128Z"
   },
   {
    "duration": 324,
    "start_time": "2022-03-11T15:37:20.205Z"
   },
   {
    "duration": 94,
    "start_time": "2022-03-11T15:43:32.664Z"
   },
   {
    "duration": 97,
    "start_time": "2022-03-11T15:44:03.748Z"
   },
   {
    "duration": 113,
    "start_time": "2022-03-11T15:45:31.935Z"
   },
   {
    "duration": 756,
    "start_time": "2022-03-11T15:45:40.967Z"
   },
   {
    "duration": 334,
    "start_time": "2022-03-11T15:49:59.843Z"
   },
   {
    "duration": 424,
    "start_time": "2022-03-11T15:50:53.258Z"
   },
   {
    "duration": 329,
    "start_time": "2022-03-11T15:51:14.755Z"
   },
   {
    "duration": 347,
    "start_time": "2022-03-11T15:51:29.309Z"
   },
   {
    "duration": 329,
    "start_time": "2022-03-11T15:51:46.648Z"
   },
   {
    "duration": 18,
    "start_time": "2022-03-11T15:54:07.399Z"
   },
   {
    "duration": 371,
    "start_time": "2022-03-11T15:54:12.217Z"
   },
   {
    "duration": 291,
    "start_time": "2022-03-11T15:54:18.381Z"
   },
   {
    "duration": 1147,
    "start_time": "2022-03-11T15:57:24.244Z"
   },
   {
    "duration": 968,
    "start_time": "2022-03-11T15:58:02.975Z"
   },
   {
    "duration": 902,
    "start_time": "2022-03-11T15:58:37.956Z"
   },
   {
    "duration": 903,
    "start_time": "2022-03-11T15:59:18.629Z"
   },
   {
    "duration": 354,
    "start_time": "2022-03-11T16:00:25.483Z"
   },
   {
    "duration": 234,
    "start_time": "2022-03-11T16:01:51.156Z"
   },
   {
    "duration": 238,
    "start_time": "2022-03-11T16:08:22.912Z"
   },
   {
    "duration": 240,
    "start_time": "2022-03-11T16:09:27.048Z"
   },
   {
    "duration": 253,
    "start_time": "2022-03-11T16:09:36.582Z"
   },
   {
    "duration": 251,
    "start_time": "2022-03-11T16:11:23.568Z"
   },
   {
    "duration": 254,
    "start_time": "2022-03-11T16:11:31.630Z"
   },
   {
    "duration": 368,
    "start_time": "2022-03-11T16:12:39.679Z"
   },
   {
    "duration": 104,
    "start_time": "2022-03-11T16:14:10.179Z"
   },
   {
    "duration": 267,
    "start_time": "2022-03-11T16:14:24.279Z"
   },
   {
    "duration": 323,
    "start_time": "2022-03-11T16:14:34.419Z"
   },
   {
    "duration": 538,
    "start_time": "2022-03-11T16:14:52.467Z"
   },
   {
    "duration": 497,
    "start_time": "2022-03-11T16:15:07.300Z"
   },
   {
    "duration": 9,
    "start_time": "2022-03-11T16:16:16.330Z"
   },
   {
    "duration": 13,
    "start_time": "2022-03-11T16:16:20.267Z"
   },
   {
    "duration": 469,
    "start_time": "2022-03-11T16:17:31.776Z"
   },
   {
    "duration": 575,
    "start_time": "2022-03-11T16:17:48.074Z"
   },
   {
    "duration": 304,
    "start_time": "2022-03-11T16:18:07.019Z"
   },
   {
    "duration": 11,
    "start_time": "2022-03-11T16:18:12.626Z"
   },
   {
    "duration": 102,
    "start_time": "2022-03-11T16:18:34.148Z"
   },
   {
    "duration": 497,
    "start_time": "2022-03-11T16:18:50.969Z"
   },
   {
    "duration": 578,
    "start_time": "2022-03-11T16:19:04.785Z"
   },
   {
    "duration": 10,
    "start_time": "2022-03-11T16:19:22.263Z"
   },
   {
    "duration": 340,
    "start_time": "2022-03-11T16:21:27.083Z"
   },
   {
    "duration": 2392,
    "start_time": "2022-03-11T16:21:39.625Z"
   },
   {
    "duration": 13,
    "start_time": "2022-03-11T16:21:47.434Z"
   },
   {
    "duration": 688,
    "start_time": "2022-03-11T16:22:39.387Z"
   },
   {
    "duration": 12,
    "start_time": "2022-03-11T16:24:46.546Z"
   },
   {
    "duration": 339,
    "start_time": "2022-03-11T16:24:54.538Z"
   },
   {
    "duration": 14,
    "start_time": "2022-03-11T16:25:00.759Z"
   },
   {
    "duration": 12,
    "start_time": "2022-03-11T16:25:10.384Z"
   },
   {
    "duration": 347,
    "start_time": "2022-03-11T16:25:49.255Z"
   },
   {
    "duration": 357,
    "start_time": "2022-03-11T16:25:56.961Z"
   },
   {
    "duration": 12,
    "start_time": "2022-03-11T16:26:10.235Z"
   },
   {
    "duration": 501,
    "start_time": "2022-03-11T16:27:15.264Z"
   },
   {
    "duration": 311,
    "start_time": "2022-03-11T16:27:50.316Z"
   },
   {
    "duration": 517,
    "start_time": "2022-03-11T16:30:16.694Z"
   },
   {
    "duration": 553,
    "start_time": "2022-03-11T16:30:34.982Z"
   },
   {
    "duration": 21,
    "start_time": "2022-03-11T16:32:13.232Z"
   },
   {
    "duration": 15,
    "start_time": "2022-03-11T16:32:32.831Z"
   },
   {
    "duration": 16,
    "start_time": "2022-03-11T16:32:43.394Z"
   },
   {
    "duration": 336,
    "start_time": "2022-03-11T16:32:48.817Z"
   },
   {
    "duration": 18,
    "start_time": "2022-03-11T16:33:04.058Z"
   },
   {
    "duration": 14,
    "start_time": "2022-03-11T16:33:14.915Z"
   },
   {
    "duration": 317,
    "start_time": "2022-03-11T16:33:22.488Z"
   },
   {
    "duration": 317,
    "start_time": "2022-03-11T16:33:33.722Z"
   },
   {
    "duration": 13,
    "start_time": "2022-03-11T16:33:37.963Z"
   },
   {
    "duration": 15,
    "start_time": "2022-03-11T16:35:09.892Z"
   },
   {
    "duration": 3,
    "start_time": "2022-03-11T16:35:29.532Z"
   },
   {
    "duration": 147,
    "start_time": "2022-03-11T16:35:46.288Z"
   },
   {
    "duration": 324,
    "start_time": "2022-03-11T16:35:53.321Z"
   },
   {
    "duration": 433,
    "start_time": "2022-03-11T16:36:03.314Z"
   },
   {
    "duration": 334,
    "start_time": "2022-03-11T16:36:09.542Z"
   },
   {
    "duration": 459,
    "start_time": "2022-03-11T16:36:22.457Z"
   },
   {
    "duration": 339,
    "start_time": "2022-03-11T16:36:33.773Z"
   },
   {
    "duration": 336,
    "start_time": "2022-03-11T16:36:37.392Z"
   },
   {
    "duration": 331,
    "start_time": "2022-03-11T16:37:08.232Z"
   },
   {
    "duration": 451,
    "start_time": "2022-03-11T16:37:18.217Z"
   },
   {
    "duration": 348,
    "start_time": "2022-03-11T16:37:24.441Z"
   },
   {
    "duration": 33,
    "start_time": "2022-03-11T16:46:26.327Z"
   },
   {
    "duration": 1092,
    "start_time": "2022-03-11T16:56:19.140Z"
   },
   {
    "duration": 3,
    "start_time": "2022-03-11T16:56:20.234Z"
   },
   {
    "duration": 74,
    "start_time": "2022-03-11T16:56:20.239Z"
   },
   {
    "duration": 9,
    "start_time": "2022-03-11T16:56:20.315Z"
   },
   {
    "duration": 26,
    "start_time": "2022-03-11T16:56:20.325Z"
   },
   {
    "duration": 27,
    "start_time": "2022-03-11T16:56:20.352Z"
   },
   {
    "duration": 12,
    "start_time": "2022-03-11T16:56:20.381Z"
   },
   {
    "duration": 18,
    "start_time": "2022-03-11T16:56:20.395Z"
   },
   {
    "duration": 25,
    "start_time": "2022-03-11T16:56:20.416Z"
   },
   {
    "duration": 4,
    "start_time": "2022-03-11T16:56:20.443Z"
   },
   {
    "duration": 28,
    "start_time": "2022-03-11T16:56:20.448Z"
   },
   {
    "duration": 19,
    "start_time": "2022-03-11T16:56:20.477Z"
   },
   {
    "duration": 12,
    "start_time": "2022-03-11T16:56:20.498Z"
   },
   {
    "duration": 31,
    "start_time": "2022-03-11T16:56:20.511Z"
   },
   {
    "duration": 39,
    "start_time": "2022-03-11T16:56:20.544Z"
   },
   {
    "duration": 8,
    "start_time": "2022-03-11T16:56:20.584Z"
   },
   {
    "duration": 28,
    "start_time": "2022-03-11T16:56:20.594Z"
   },
   {
    "duration": 19,
    "start_time": "2022-03-11T16:56:20.624Z"
   },
   {
    "duration": 21,
    "start_time": "2022-03-11T16:56:20.645Z"
   },
   {
    "duration": 17,
    "start_time": "2022-03-11T16:56:20.667Z"
   },
   {
    "duration": 24,
    "start_time": "2022-03-11T16:56:20.685Z"
   },
   {
    "duration": 18,
    "start_time": "2022-03-11T16:56:20.710Z"
   },
   {
    "duration": 26,
    "start_time": "2022-03-11T16:56:20.729Z"
   },
   {
    "duration": 6,
    "start_time": "2022-03-11T16:56:20.757Z"
   },
   {
    "duration": 25,
    "start_time": "2022-03-11T16:56:20.765Z"
   },
   {
    "duration": 15,
    "start_time": "2022-03-11T16:56:20.791Z"
   },
   {
    "duration": 8,
    "start_time": "2022-03-11T16:56:20.810Z"
   },
   {
    "duration": 18,
    "start_time": "2022-03-11T16:56:20.820Z"
   },
   {
    "duration": 29,
    "start_time": "2022-03-11T16:56:20.839Z"
   },
   {
    "duration": 24,
    "start_time": "2022-03-11T16:56:20.870Z"
   },
   {
    "duration": 13,
    "start_time": "2022-03-11T16:56:20.895Z"
   },
   {
    "duration": 15,
    "start_time": "2022-03-11T16:56:20.909Z"
   },
   {
    "duration": 400,
    "start_time": "2022-03-11T16:56:20.925Z"
   },
   {
    "duration": 323,
    "start_time": "2022-03-11T16:56:21.327Z"
   },
   {
    "duration": 13,
    "start_time": "2022-03-11T16:56:21.651Z"
   },
   {
    "duration": 2365,
    "start_time": "2022-03-11T16:56:21.665Z"
   },
   {
    "duration": 5,
    "start_time": "2022-03-11T16:56:24.032Z"
   },
   {
    "duration": 25,
    "start_time": "2022-03-11T16:56:24.039Z"
   },
   {
    "duration": 249,
    "start_time": "2022-03-11T16:56:24.065Z"
   },
   {
    "duration": 1068,
    "start_time": "2022-03-11T16:56:24.315Z"
   },
   {
    "duration": 334,
    "start_time": "2022-03-11T16:56:25.385Z"
   },
   {
    "duration": 353,
    "start_time": "2022-03-11T16:56:25.721Z"
   },
   {
    "duration": 26,
    "start_time": "2022-03-11T16:56:26.076Z"
   },
   {
    "duration": 285,
    "start_time": "2022-03-11T16:56:26.103Z"
   },
   {
    "duration": 292,
    "start_time": "2022-03-11T16:56:26.389Z"
   },
   {
    "duration": 1131,
    "start_time": "2022-03-11T16:56:26.683Z"
   },
   {
    "duration": 1035,
    "start_time": "2022-03-11T16:56:27.816Z"
   },
   {
    "duration": 260,
    "start_time": "2022-03-11T16:56:28.852Z"
   },
   {
    "duration": 371,
    "start_time": "2022-03-11T16:56:29.114Z"
   },
   {
    "duration": 38,
    "start_time": "2022-03-11T16:56:29.487Z"
   },
   {
    "duration": 39,
    "start_time": "2022-03-11T16:56:29.527Z"
   },
   {
    "duration": 59,
    "start_time": "2022-03-11T16:56:29.567Z"
   },
   {
    "duration": 7,
    "start_time": "2022-03-11T16:56:29.627Z"
   },
   {
    "duration": 28,
    "start_time": "2022-03-11T16:56:29.635Z"
   },
   {
    "duration": 37,
    "start_time": "2022-03-11T16:56:29.665Z"
   },
   {
    "duration": 12,
    "start_time": "2022-03-11T16:56:29.704Z"
   },
   {
    "duration": 294,
    "start_time": "2022-03-11T16:56:29.718Z"
   },
   {
    "duration": 355,
    "start_time": "2022-03-11T17:05:28.860Z"
   },
   {
    "duration": 251,
    "start_time": "2022-03-11T17:11:14.736Z"
   },
   {
    "duration": 541,
    "start_time": "2022-03-11T17:11:29.495Z"
   },
   {
    "duration": 253,
    "start_time": "2022-03-11T17:15:21.901Z"
   },
   {
    "duration": 327,
    "start_time": "2022-03-11T17:15:27.077Z"
   },
   {
    "duration": 33,
    "start_time": "2022-03-11T17:15:31.369Z"
   },
   {
    "duration": 33,
    "start_time": "2022-03-11T17:15:58.430Z"
   },
   {
    "duration": 38,
    "start_time": "2022-03-11T17:16:24.447Z"
   },
   {
    "duration": 34,
    "start_time": "2022-03-11T17:17:35.947Z"
   },
   {
    "duration": 32,
    "start_time": "2022-03-11T17:18:10.072Z"
   },
   {
    "duration": 33,
    "start_time": "2022-03-11T17:19:26.649Z"
   },
   {
    "duration": 98,
    "start_time": "2022-03-11T17:23:18.952Z"
   },
   {
    "duration": 8,
    "start_time": "2022-03-11T17:23:24.799Z"
   },
   {
    "duration": 9,
    "start_time": "2022-03-11T17:23:31.063Z"
   },
   {
    "duration": 101,
    "start_time": "2022-03-11T17:27:18.571Z"
   },
   {
    "duration": 108,
    "start_time": "2022-03-11T17:27:51.228Z"
   },
   {
    "duration": 13,
    "start_time": "2022-03-11T17:28:46.245Z"
   },
   {
    "duration": 14,
    "start_time": "2022-03-11T17:30:03.100Z"
   },
   {
    "duration": 11,
    "start_time": "2022-03-11T17:39:39.918Z"
   },
   {
    "duration": 12,
    "start_time": "2022-03-11T17:40:43.279Z"
   },
   {
    "duration": 13,
    "start_time": "2022-03-11T17:41:36.496Z"
   },
   {
    "duration": 31,
    "start_time": "2022-03-11T17:52:29.998Z"
   },
   {
    "duration": 27,
    "start_time": "2022-03-11T17:53:26.457Z"
   },
   {
    "duration": 7,
    "start_time": "2022-03-11T17:54:57.688Z"
   },
   {
    "duration": 29,
    "start_time": "2022-03-11T17:55:18.860Z"
   },
   {
    "duration": 1113,
    "start_time": "2022-03-11T17:55:57.914Z"
   },
   {
    "duration": 2,
    "start_time": "2022-03-11T17:55:59.029Z"
   },
   {
    "duration": 51,
    "start_time": "2022-03-11T17:55:59.033Z"
   },
   {
    "duration": 10,
    "start_time": "2022-03-11T17:55:59.085Z"
   },
   {
    "duration": 7,
    "start_time": "2022-03-11T17:55:59.096Z"
   },
   {
    "duration": 8,
    "start_time": "2022-03-11T17:55:59.104Z"
   },
   {
    "duration": 4,
    "start_time": "2022-03-11T17:55:59.114Z"
   },
   {
    "duration": 4,
    "start_time": "2022-03-11T17:55:59.120Z"
   },
   {
    "duration": 17,
    "start_time": "2022-03-11T17:55:59.125Z"
   },
   {
    "duration": 4,
    "start_time": "2022-03-11T17:55:59.143Z"
   },
   {
    "duration": 18,
    "start_time": "2022-03-11T17:55:59.148Z"
   },
   {
    "duration": 41,
    "start_time": "2022-03-11T17:55:59.167Z"
   },
   {
    "duration": 7,
    "start_time": "2022-03-11T17:55:59.210Z"
   },
   {
    "duration": 18,
    "start_time": "2022-03-11T17:55:59.218Z"
   },
   {
    "duration": 10,
    "start_time": "2022-03-11T17:55:59.237Z"
   },
   {
    "duration": 7,
    "start_time": "2022-03-11T17:55:59.248Z"
   },
   {
    "duration": 19,
    "start_time": "2022-03-11T17:55:59.256Z"
   },
   {
    "duration": 26,
    "start_time": "2022-03-11T17:55:59.276Z"
   },
   {
    "duration": 10,
    "start_time": "2022-03-11T17:55:59.304Z"
   },
   {
    "duration": 2,
    "start_time": "2022-03-11T17:55:59.315Z"
   },
   {
    "duration": 11,
    "start_time": "2022-03-11T17:55:59.319Z"
   },
   {
    "duration": 9,
    "start_time": "2022-03-11T17:55:59.331Z"
   },
   {
    "duration": 15,
    "start_time": "2022-03-11T17:55:59.343Z"
   },
   {
    "duration": 5,
    "start_time": "2022-03-11T17:55:59.360Z"
   },
   {
    "duration": 15,
    "start_time": "2022-03-11T17:55:59.367Z"
   },
   {
    "duration": 33,
    "start_time": "2022-03-11T17:55:59.383Z"
   },
   {
    "duration": 6,
    "start_time": "2022-03-11T17:55:59.418Z"
   },
   {
    "duration": 7,
    "start_time": "2022-03-11T17:55:59.425Z"
   },
   {
    "duration": 31,
    "start_time": "2022-03-11T17:55:59.434Z"
   },
   {
    "duration": 41,
    "start_time": "2022-03-11T17:55:59.466Z"
   },
   {
    "duration": 6,
    "start_time": "2022-03-11T17:55:59.508Z"
   },
   {
    "duration": 13,
    "start_time": "2022-03-11T17:55:59.515Z"
   },
   {
    "duration": 417,
    "start_time": "2022-03-11T17:55:59.529Z"
   },
   {
    "duration": 339,
    "start_time": "2022-03-11T17:55:59.947Z"
   },
   {
    "duration": 22,
    "start_time": "2022-03-11T17:56:00.287Z"
   },
   {
    "duration": 2194,
    "start_time": "2022-03-11T17:56:00.311Z"
   },
   {
    "duration": 6,
    "start_time": "2022-03-11T17:56:02.507Z"
   },
   {
    "duration": 13,
    "start_time": "2022-03-11T17:56:02.514Z"
   },
   {
    "duration": 257,
    "start_time": "2022-03-11T17:56:02.529Z"
   },
   {
    "duration": 1105,
    "start_time": "2022-03-11T17:56:02.787Z"
   },
   {
    "duration": 347,
    "start_time": "2022-03-11T17:56:03.894Z"
   },
   {
    "duration": 359,
    "start_time": "2022-03-11T17:56:04.242Z"
   },
   {
    "duration": 16,
    "start_time": "2022-03-11T17:56:04.603Z"
   },
   {
    "duration": 297,
    "start_time": "2022-03-11T17:56:04.621Z"
   },
   {
    "duration": 289,
    "start_time": "2022-03-11T17:56:04.920Z"
   },
   {
    "duration": 1281,
    "start_time": "2022-03-11T17:56:05.210Z"
   },
   {
    "duration": 1175,
    "start_time": "2022-03-11T17:56:06.493Z"
   },
   {
    "duration": 249,
    "start_time": "2022-03-11T17:56:07.670Z"
   },
   {
    "duration": 348,
    "start_time": "2022-03-11T17:56:07.921Z"
   },
   {
    "duration": 43,
    "start_time": "2022-03-11T17:56:08.270Z"
   },
   {
    "duration": 37,
    "start_time": "2022-03-11T17:56:08.314Z"
   },
   {
    "duration": 64,
    "start_time": "2022-03-11T17:56:08.353Z"
   },
   {
    "duration": 6,
    "start_time": "2022-03-11T17:56:08.418Z"
   },
   {
    "duration": 26,
    "start_time": "2022-03-11T17:56:08.426Z"
   },
   {
    "duration": 11,
    "start_time": "2022-03-11T17:56:08.453Z"
   },
   {
    "duration": 36,
    "start_time": "2022-03-11T17:56:08.466Z"
   },
   {
    "duration": 13,
    "start_time": "2022-03-11T17:56:08.504Z"
   },
   {
    "duration": 12,
    "start_time": "2022-03-11T17:56:08.519Z"
   },
   {
    "duration": 291,
    "start_time": "2022-03-11T17:56:08.533Z"
   },
   {
    "duration": 503,
    "start_time": "2022-03-11T18:07:38.466Z"
   },
   {
    "duration": 70,
    "start_time": "2022-03-11T18:08:06.392Z"
   },
   {
    "duration": 79,
    "start_time": "2022-03-11T18:18:21.394Z"
   },
   {
    "duration": 527,
    "start_time": "2022-03-11T18:29:01.187Z"
   },
   {
    "duration": 489,
    "start_time": "2022-03-11T18:29:39.878Z"
   },
   {
    "duration": 392,
    "start_time": "2022-03-11T18:29:50.002Z"
   },
   {
    "duration": 337,
    "start_time": "2022-03-11T18:30:02.871Z"
   },
   {
    "duration": 366,
    "start_time": "2022-03-11T18:31:04.746Z"
   },
   {
    "duration": 328,
    "start_time": "2022-03-11T18:32:40.578Z"
   },
   {
    "duration": 28,
    "start_time": "2022-03-11T18:32:58.387Z"
   },
   {
    "duration": 39,
    "start_time": "2022-03-11T18:33:12.328Z"
   },
   {
    "duration": 29,
    "start_time": "2022-03-11T18:33:32.040Z"
   },
   {
    "duration": 39,
    "start_time": "2022-03-11T18:33:52.570Z"
   },
   {
    "duration": 312,
    "start_time": "2022-03-11T18:44:11.982Z"
   },
   {
    "duration": 78,
    "start_time": "2022-03-11T18:46:02.878Z"
   },
   {
    "duration": 29,
    "start_time": "2022-03-11T18:47:15.915Z"
   },
   {
    "duration": 78,
    "start_time": "2022-03-11T18:52:38.650Z"
   },
   {
    "duration": 161,
    "start_time": "2022-03-11T18:56:24.175Z"
   },
   {
    "duration": 77,
    "start_time": "2022-03-11T18:56:31.636Z"
   },
   {
    "duration": 333,
    "start_time": "2022-03-11T19:05:49.027Z"
   },
   {
    "duration": 315,
    "start_time": "2022-03-11T19:06:14.194Z"
   },
   {
    "duration": 98,
    "start_time": "2022-03-11T19:07:43.507Z"
   },
   {
    "duration": 109,
    "start_time": "2022-03-11T19:07:55.373Z"
   },
   {
    "duration": 31,
    "start_time": "2022-03-11T19:08:06.634Z"
   },
   {
    "duration": 102,
    "start_time": "2022-03-11T19:09:22.839Z"
   },
   {
    "duration": 100,
    "start_time": "2022-03-11T19:09:35.426Z"
   },
   {
    "duration": 337,
    "start_time": "2022-03-11T19:09:50.538Z"
   },
   {
    "duration": 318,
    "start_time": "2022-03-11T19:12:16.961Z"
   },
   {
    "duration": 153,
    "start_time": "2022-03-11T19:19:38.790Z"
   },
   {
    "duration": 95,
    "start_time": "2022-03-11T19:19:50.067Z"
   },
   {
    "duration": 43,
    "start_time": "2022-03-11T19:20:46.492Z"
   },
   {
    "duration": 42,
    "start_time": "2022-03-11T19:21:35.779Z"
   },
   {
    "duration": 39,
    "start_time": "2022-03-11T19:21:46.321Z"
   },
   {
    "duration": 319,
    "start_time": "2022-03-11T19:23:35.402Z"
   },
   {
    "duration": 42,
    "start_time": "2022-03-11T19:23:54.529Z"
   },
   {
    "duration": 357,
    "start_time": "2022-03-11T19:28:28.283Z"
   },
   {
    "duration": 325,
    "start_time": "2022-03-11T19:28:45.382Z"
   },
   {
    "duration": 272,
    "start_time": "2022-03-11T19:28:53.861Z"
   },
   {
    "duration": 274,
    "start_time": "2022-03-11T19:30:30.329Z"
   },
   {
    "duration": 97,
    "start_time": "2022-03-11T19:49:49.539Z"
   },
   {
    "duration": 1116,
    "start_time": "2022-03-11T19:52:38.729Z"
   },
   {
    "duration": 3,
    "start_time": "2022-03-11T19:52:39.847Z"
   },
   {
    "duration": 54,
    "start_time": "2022-03-11T19:52:39.851Z"
   },
   {
    "duration": 10,
    "start_time": "2022-03-11T19:52:39.907Z"
   },
   {
    "duration": 4,
    "start_time": "2022-03-11T19:52:39.918Z"
   },
   {
    "duration": 11,
    "start_time": "2022-03-11T19:52:39.924Z"
   },
   {
    "duration": 4,
    "start_time": "2022-03-11T19:52:39.937Z"
   },
   {
    "duration": 4,
    "start_time": "2022-03-11T19:52:39.943Z"
   },
   {
    "duration": 17,
    "start_time": "2022-03-11T19:52:39.949Z"
   },
   {
    "duration": 4,
    "start_time": "2022-03-11T19:52:39.967Z"
   },
   {
    "duration": 42,
    "start_time": "2022-03-11T19:52:39.972Z"
   },
   {
    "duration": 9,
    "start_time": "2022-03-11T19:52:40.016Z"
   },
   {
    "duration": 6,
    "start_time": "2022-03-11T19:52:40.026Z"
   },
   {
    "duration": 21,
    "start_time": "2022-03-11T19:52:40.033Z"
   },
   {
    "duration": 12,
    "start_time": "2022-03-11T19:52:40.055Z"
   },
   {
    "duration": 4,
    "start_time": "2022-03-11T19:52:40.069Z"
   },
   {
    "duration": 39,
    "start_time": "2022-03-11T19:52:40.074Z"
   },
   {
    "duration": 11,
    "start_time": "2022-03-11T19:52:40.114Z"
   },
   {
    "duration": 11,
    "start_time": "2022-03-11T19:52:40.126Z"
   },
   {
    "duration": 2,
    "start_time": "2022-03-11T19:52:40.138Z"
   },
   {
    "duration": 10,
    "start_time": "2022-03-11T19:52:40.142Z"
   },
   {
    "duration": 6,
    "start_time": "2022-03-11T19:52:40.154Z"
   },
   {
    "duration": 21,
    "start_time": "2022-03-11T19:52:40.163Z"
   },
   {
    "duration": 17,
    "start_time": "2022-03-11T19:52:40.186Z"
   },
   {
    "duration": 13,
    "start_time": "2022-03-11T19:52:40.205Z"
   },
   {
    "duration": 17,
    "start_time": "2022-03-11T19:52:40.219Z"
   },
   {
    "duration": 5,
    "start_time": "2022-03-11T19:52:40.238Z"
   },
   {
    "duration": 6,
    "start_time": "2022-03-11T19:52:40.245Z"
   },
   {
    "duration": 22,
    "start_time": "2022-03-11T19:52:40.252Z"
   },
   {
    "duration": 39,
    "start_time": "2022-03-11T19:52:40.276Z"
   },
   {
    "duration": 5,
    "start_time": "2022-03-11T19:52:40.317Z"
   },
   {
    "duration": 14,
    "start_time": "2022-03-11T19:52:40.324Z"
   },
   {
    "duration": 394,
    "start_time": "2022-03-11T19:52:40.340Z"
   },
   {
    "duration": 329,
    "start_time": "2022-03-11T19:52:40.736Z"
   },
   {
    "duration": 13,
    "start_time": "2022-03-11T19:52:41.067Z"
   },
   {
    "duration": 2124,
    "start_time": "2022-03-11T19:52:41.082Z"
   },
   {
    "duration": 7,
    "start_time": "2022-03-11T19:52:43.208Z"
   },
   {
    "duration": 15,
    "start_time": "2022-03-11T19:52:43.216Z"
   },
   {
    "duration": 256,
    "start_time": "2022-03-11T19:52:43.233Z"
   },
   {
    "duration": 1106,
    "start_time": "2022-03-11T19:52:43.491Z"
   },
   {
    "duration": 334,
    "start_time": "2022-03-11T19:52:44.601Z"
   },
   {
    "duration": 336,
    "start_time": "2022-03-11T19:52:44.936Z"
   },
   {
    "duration": 16,
    "start_time": "2022-03-11T19:52:45.273Z"
   },
   {
    "duration": 287,
    "start_time": "2022-03-11T19:52:45.290Z"
   },
   {
    "duration": 299,
    "start_time": "2022-03-11T19:52:45.578Z"
   },
   {
    "duration": 1058,
    "start_time": "2022-03-11T19:52:45.879Z"
   },
   {
    "duration": 1206,
    "start_time": "2022-03-11T19:52:46.939Z"
   },
   {
    "duration": 253,
    "start_time": "2022-03-11T19:52:48.146Z"
   },
   {
    "duration": 382,
    "start_time": "2022-03-11T19:52:48.401Z"
   },
   {
    "duration": 56,
    "start_time": "2022-03-11T19:52:48.785Z"
   },
   {
    "duration": 29,
    "start_time": "2022-03-11T19:52:48.842Z"
   },
   {
    "duration": 102,
    "start_time": "2022-03-11T19:52:48.873Z"
   },
   {
    "duration": 87,
    "start_time": "2022-03-11T19:52:48.977Z"
   },
   {
    "duration": 87,
    "start_time": "2022-03-11T19:52:49.065Z"
   },
   {
    "duration": 368,
    "start_time": "2022-03-11T19:52:49.154Z"
   },
   {
    "duration": 6,
    "start_time": "2022-03-11T19:52:49.524Z"
   },
   {
    "duration": 36,
    "start_time": "2022-03-11T19:52:49.532Z"
   },
   {
    "duration": 40,
    "start_time": "2022-03-11T19:52:49.570Z"
   },
   {
    "duration": 12,
    "start_time": "2022-03-11T19:52:49.611Z"
   },
   {
    "duration": 15,
    "start_time": "2022-03-11T19:52:49.625Z"
   },
   {
    "duration": 11,
    "start_time": "2022-03-11T19:52:49.642Z"
   },
   {
    "duration": 371,
    "start_time": "2022-03-11T19:52:49.655Z"
   }
  ],
  "kernelspec": {
   "display_name": "Python 3 (ipykernel)",
   "language": "python",
   "name": "python3"
  },
  "language_info": {
   "codemirror_mode": {
    "name": "ipython",
    "version": 3
   },
   "file_extension": ".py",
   "mimetype": "text/x-python",
   "name": "python",
   "nbconvert_exporter": "python",
   "pygments_lexer": "ipython3",
   "version": "3.9.12"
  },
  "toc": {
   "base_numbering": 1,
   "nav_menu": {
    "height": "207px",
    "width": "308px"
   },
   "number_sections": true,
   "sideBar": true,
   "skip_h1_title": false,
   "title_cell": "Table of Contents",
   "title_sidebar": "Contents",
   "toc_cell": false,
   "toc_position": {
    "height": "calc(100% - 180px)",
    "left": "10px",
    "top": "150px",
    "width": "287.984px"
   },
   "toc_section_display": true,
   "toc_window_display": true
  }
 },
 "nbformat": 4,
 "nbformat_minor": 5
}

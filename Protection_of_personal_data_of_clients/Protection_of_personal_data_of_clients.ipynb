{
 "cells": [
  {
   "cell_type": "markdown",
   "metadata": {
    "toc": true
   },
   "source": [
    "<h1>Содержание<span class=\"tocSkip\"></span></h1>\n",
    "<div class=\"toc\"><ul class=\"toc-item\"><li><span><a href=\"#Загрузка-данных\" data-toc-modified-id=\"Загрузка-данных-1\"><span class=\"toc-item-num\">1&nbsp;&nbsp;</span>Загрузка данных</a></span></li><li><span><a href=\"#Умножение-матриц\" data-toc-modified-id=\"Умножение-матриц-2\"><span class=\"toc-item-num\">2&nbsp;&nbsp;</span>Умножение матриц</a></span></li><li><span><a href=\"#Алгоритм-преобразования\" data-toc-modified-id=\"Алгоритм-преобразования-3\"><span class=\"toc-item-num\">3&nbsp;&nbsp;</span>Алгоритм преобразования</a></span></li><li><span><a href=\"#Проверка-алгоритма\" data-toc-modified-id=\"Проверка-алгоритма-4\"><span class=\"toc-item-num\">4&nbsp;&nbsp;</span>Проверка алгоритма</a></span></li></ul></div>"
   ]
  },
  {
   "cell_type": "markdown",
   "metadata": {},
   "source": [
    "# Защита персональных данных клиентов"
   ]
  },
  {
   "cell_type": "markdown",
   "metadata": {},
   "source": [
    "**Цель**\n",
    "* Защитить данные клиентов страховой компании. Разработать такой метод преобразования данных, чтобы по ним было сложно восстановить персональную информацию.\n",
    "\n",
    "Нужно защитить данные, чтобы при преобразовании качество моделей машинного обучения не ухудшилось. П"
   ]
  },
  {
   "cell_type": "markdown",
   "metadata": {},
   "source": [
    "## Загрузка данных"
   ]
  },
  {
   "cell_type": "code",
   "execution_count": 1,
   "metadata": {},
   "outputs": [],
   "source": [
    "# импортттируем необходимые библиотеки, алгоритмы, функции\n",
    "import pandas as pd\n",
    "import numpy as np\n",
    "import seaborn as sns\n",
    "\n",
    "from sklearn.linear_model import LinearRegression\n",
    "\n",
    "from sklearn.model_selection import train_test_split\n",
    "from sklearn.metrics import r2_score\n",
    "from sklearn.preprocessing import StandardScaler"
   ]
  },
  {
   "cell_type": "code",
   "execution_count": 2,
   "metadata": {},
   "outputs": [],
   "source": [
    "data = pd.read_csv('/datasets/insurance.csv')"
   ]
  },
  {
   "cell_type": "code",
   "execution_count": 3,
   "metadata": {},
   "outputs": [
    {
     "name": "stdout",
     "output_type": "stream",
     "text": [
      "<class 'pandas.core.frame.DataFrame'>\n",
      "RangeIndex: 5000 entries, 0 to 4999\n",
      "Data columns (total 5 columns):\n",
      " #   Column             Non-Null Count  Dtype  \n",
      "---  ------             --------------  -----  \n",
      " 0   Пол                5000 non-null   int64  \n",
      " 1   Возраст            5000 non-null   float64\n",
      " 2   Зарплата           5000 non-null   float64\n",
      " 3   Члены семьи        5000 non-null   int64  \n",
      " 4   Страховые выплаты  5000 non-null   int64  \n",
      "dtypes: float64(2), int64(3)\n",
      "memory usage: 195.4 KB\n"
     ]
    },
    {
     "data": {
      "text/html": [
       "<div>\n",
       "<style scoped>\n",
       "    .dataframe tbody tr th:only-of-type {\n",
       "        vertical-align: middle;\n",
       "    }\n",
       "\n",
       "    .dataframe tbody tr th {\n",
       "        vertical-align: top;\n",
       "    }\n",
       "\n",
       "    .dataframe thead th {\n",
       "        text-align: right;\n",
       "    }\n",
       "</style>\n",
       "<table border=\"1\" class=\"dataframe\">\n",
       "  <thead>\n",
       "    <tr style=\"text-align: right;\">\n",
       "      <th></th>\n",
       "      <th>Пол</th>\n",
       "      <th>Возраст</th>\n",
       "      <th>Зарплата</th>\n",
       "      <th>Члены семьи</th>\n",
       "      <th>Страховые выплаты</th>\n",
       "    </tr>\n",
       "  </thead>\n",
       "  <tbody>\n",
       "    <tr>\n",
       "      <th>0</th>\n",
       "      <td>1</td>\n",
       "      <td>41.0</td>\n",
       "      <td>49600.0</td>\n",
       "      <td>1</td>\n",
       "      <td>0</td>\n",
       "    </tr>\n",
       "    <tr>\n",
       "      <th>1</th>\n",
       "      <td>0</td>\n",
       "      <td>46.0</td>\n",
       "      <td>38000.0</td>\n",
       "      <td>1</td>\n",
       "      <td>1</td>\n",
       "    </tr>\n",
       "    <tr>\n",
       "      <th>2</th>\n",
       "      <td>0</td>\n",
       "      <td>29.0</td>\n",
       "      <td>21000.0</td>\n",
       "      <td>0</td>\n",
       "      <td>0</td>\n",
       "    </tr>\n",
       "    <tr>\n",
       "      <th>3</th>\n",
       "      <td>0</td>\n",
       "      <td>21.0</td>\n",
       "      <td>41700.0</td>\n",
       "      <td>2</td>\n",
       "      <td>0</td>\n",
       "    </tr>\n",
       "    <tr>\n",
       "      <th>4</th>\n",
       "      <td>1</td>\n",
       "      <td>28.0</td>\n",
       "      <td>26100.0</td>\n",
       "      <td>0</td>\n",
       "      <td>0</td>\n",
       "    </tr>\n",
       "  </tbody>\n",
       "</table>\n",
       "</div>"
      ],
      "text/plain": [
       "   Пол  Возраст  Зарплата  Члены семьи  Страховые выплаты\n",
       "0    1     41.0   49600.0            1                  0\n",
       "1    0     46.0   38000.0            1                  1\n",
       "2    0     29.0   21000.0            0                  0\n",
       "3    0     21.0   41700.0            2                  0\n",
       "4    1     28.0   26100.0            0                  0"
      ]
     },
     "metadata": {},
     "output_type": "display_data"
    }
   ],
   "source": [
    "# общая информация о датасете\n",
    "data.info()\n",
    "display(data.head())"
   ]
  },
  {
   "cell_type": "code",
   "execution_count": 4,
   "metadata": {},
   "outputs": [],
   "source": [
    "# выделяем общие признаки и целевой признак в отдельные переменные\n",
    "features = data.drop('Страховые выплаты', axis=1)\n",
    "target = data['Страховые выплаты']"
   ]
  },
  {
   "cell_type": "code",
   "execution_count": 5,
   "metadata": {},
   "outputs": [
    {
     "data": {
      "text/plain": [
       "<AxesSubplot:>"
      ]
     },
     "execution_count": 5,
     "metadata": {},
     "output_type": "execute_result"
    },
    {
     "data": {
      "image/png": "[encoded data removed]",
      "text/plain": [
       "<Figure size 360x360 with 2 Axes>"
      ]
     },
     "metadata": {},
     "output_type": "display_data"
    }
   ],
   "source": [
    "sns.set(rc={'figure.figsize': (5,5)})\n",
    "sns.heatmap(data.corr(),annot = True, fmt = '.1f')"
   ]
  },
  {
   "cell_type": "markdown",
   "metadata": {},
   "source": [
    "Корреляция средней силы между страховыми выплатами и возрастом клиента. Коэффициент корреляции составляет 0.7.\n",
    "\n",
    "То есть корреляция между одним из признаков и целевым признаком"
   ]
  },
  {
   "cell_type": "markdown",
   "metadata": {},
   "source": [
    "## Умножение матриц"
   ]
  },
  {
   "cell_type": "markdown",
   "metadata": {},
   "source": [
    "Обозначения:\n",
    "\n",
    "- $X$ — матрица признаков (нулевой столбец состоит из единиц)\n",
    "\n",
    "- $y$ — вектор целевого признака\n",
    "\n",
    "- $P$ — матрица, на которую умножаются признаки\n",
    "\n",
    "- $w$ — вектор весов линейной регрессии (нулевой элемент равен сдвигу)"
   ]
  },
  {
   "cell_type": "markdown",
   "metadata": {},
   "source": [
    "Предсказания:\n",
    "\n",
    "$$\n",
    "a = Xw\n",
    "$$\n",
    "\n",
    "Задача обучения:\n",
    "\n",
    "$$\n",
    "w = \\arg\\min_w MSE(Xw, y)\n",
    "$$\n",
    "\n",
    "Формула обучения:\n",
    "\n",
    "$$\n",
    "w = (X^T X)^{-1} X^T y\n",
    "$$"
   ]
  },
  {
   "cell_type": "markdown",
   "metadata": {},
   "source": [
    "**Ответ:** Качество линейной регрессии не измениться.\n",
    "\n",
    "**Обоснование:** \n",
    "\n",
    "* в формуле задачи обучения матрицу признаков X умножим на P-обратимую матрицу:\n",
    "\n",
    "\n",
    "$$\n",
    "w' = ((XP)^{T} (XP))^{-1} (XP)^{T} y \n",
    "$$ \n",
    "\n",
    "\n",
    "* Результат умножения не зависит от расстановки скобок (если не изменять порядок матриц)\n",
    "* Нам известно, что матрица P обратима, тогда умножение матрицы на свою обратную матрицу равно единичной матрице E\n",
    "\n",
    "\n",
    "\n",
    "$$\n",
    "= (P^{T} X^{T} X P)^{-1} P^{T} X^{T} y = (P^{T} (X^{T} X) P)^{-1} P^{T} X^{T} y = P^{-1} (X^{T} X)^{-1} P^{T} P^{-1T} X^{T} y = P^{-1} (X^{T} X)^{-1} E X^{T} y = P^{-1} (X^{T} X)^{-1} X^{T} y\n",
    "$$\n"
   ]
  },
  {
   "cell_type": "markdown",
   "metadata": {},
   "source": [
    "* подставим  w в наше выражение\n",
    "$$\n",
    "w' = P^{-1} w\n",
    "$$\n",
    "\n",
    "* подставим в формулу предсказания \n",
    "$$\n",
    "a = X P P^{-1} w = X E w = X w\n",
    "$$\n",
    "\n",
    "\n",
    "*  в итоге мы пришли к такму же выражению для предсказания. Это доказывает, то что при умножении признаков на обратимую матрицу качество линейной регрессии не изменится"
   ]
  },
  {
   "cell_type": "markdown",
   "metadata": {},
   "source": [
    "## Алгоритм преобразования"
   ]
  },
  {
   "cell_type": "markdown",
   "metadata": {},
   "source": [
    "**Алгоритм**\n",
    "\n",
    "* Обучить модель линейной регресии без изменения матрицы признаков. Расчитать метрику R2.\n",
    "* Создать обратимую рандомную матрицу и умножить признаки на нее\n",
    "* Обучить модель на измененных данных и расчитать метрику R2.\n",
    "* Сравнить метрики полученные в двух случаях."
   ]
  },
  {
   "cell_type": "markdown",
   "metadata": {},
   "source": [
    "**Обоснование**\n",
    "\n",
    "По полученным выше данным, формула предсказаний не изменится, если домножить матрицу признаков на обратимую матрицу."
   ]
  },
  {
   "cell_type": "markdown",
   "metadata": {},
   "source": [
    "## Проверка алгоритма"
   ]
  },
  {
   "cell_type": "code",
   "execution_count": 6,
   "metadata": {},
   "outputs": [
    {
     "name": "stdout",
     "output_type": "stream",
     "text": [
      "0.42494550286668\n"
     ]
    }
   ],
   "source": [
    "# обучаем модель линейной регресии\n",
    "model = LinearRegression()\n",
    "model.fit(features, target)\n",
    "prediction = model.predict(features)\n",
    "print(r2_score(target, prediction))"
   ]
  },
  {
   "cell_type": "markdown",
   "metadata": {},
   "source": [
    "Качество модели оцениваем по метрике R2. Для исходно обученной модели значение метрики составило 0.425."
   ]
  },
  {
   "cell_type": "code",
   "execution_count": 7,
   "metadata": {},
   "outputs": [],
   "source": [
    "#создаем случайную квадратную обратимую матрицу\n",
    "matrix = np.random.normal(size=(4,4))"
   ]
  },
  {
   "cell_type": "code",
   "execution_count": 8,
   "metadata": {},
   "outputs": [
    {
     "name": "stdout",
     "output_type": "stream",
     "text": [
      "Матрицы обратима\n"
     ]
    }
   ],
   "source": [
    "if np.linalg.det(matrix) !=0:\n",
    "    print('Матрицы обратима')\n",
    "else:\n",
    "    print('Матрица необратитма')"
   ]
  },
  {
   "cell_type": "code",
   "execution_count": 9,
   "metadata": {},
   "outputs": [],
   "source": [
    "# умножаем признаки на обратимую матрицу\n",
    "features_transform = features @ matrix"
   ]
  },
  {
   "cell_type": "code",
   "execution_count": 10,
   "metadata": {},
   "outputs": [
    {
     "name": "stdout",
     "output_type": "stream",
     "text": [
      "0.42494550286666966\n"
     ]
    }
   ],
   "source": [
    "# обучаем модель и вычисляем метрику\n",
    "model_mat = LinearRegression()\n",
    "model_mat.fit(features_transform, target)\n",
    "prediction = model_mat.predict(features_transform)\n",
    "print(r2_score(target, prediction))"
   ]
  },
  {
   "cell_type": "markdown",
   "metadata": {},
   "source": [
    "Метрика R2 для модели с преобразованными признаками равна 0.425. Для исходно обученной модели значение метрики составило 0.425. Значение метрик одинаково, преобразование признаков не повлияло на качество."
   ]
  },
  {
   "cell_type": "markdown",
   "metadata": {},
   "source": [
    "# Вывод"
   ]
  },
  {
   "cell_type": "markdown",
   "metadata": {},
   "source": [
    "В случае умножения признаков на обратимую матрицу качество модели не изменяется."
   ]
  }
 ],
 "metadata": {
  "ExecuteTimeLog": [
   {
    "duration": 343,
    "start_time": "2022-05-13T13:47:55.636Z"
   },
   {
    "duration": 12,
    "start_time": "2022-05-13T13:47:57.659Z"
   },
   {
    "duration": 12,
    "start_time": "2022-05-13T13:52:50.623Z"
   },
   {
    "duration": 684,
    "start_time": "2022-05-13T13:59:30.735Z"
   },
   {
    "duration": 99,
    "start_time": "2022-05-13T13:59:35.379Z"
   },
   {
    "duration": 4,
    "start_time": "2022-05-13T14:01:00.695Z"
   },
   {
    "duration": 8,
    "start_time": "2022-05-13T14:01:02.374Z"
   },
   {
    "duration": 10,
    "start_time": "2022-05-13T14:01:55.147Z"
   },
   {
    "duration": 3,
    "start_time": "2022-05-13T14:08:10.001Z"
   },
   {
    "duration": 9,
    "start_time": "2022-05-13T14:08:41.687Z"
   },
   {
    "duration": 16,
    "start_time": "2022-05-13T14:09:34.218Z"
   },
   {
    "duration": 23,
    "start_time": "2022-05-13T14:09:44.763Z"
   },
   {
    "duration": 3,
    "start_time": "2022-05-13T14:11:09.356Z"
   },
   {
    "duration": 14,
    "start_time": "2022-05-13T14:15:23.964Z"
   },
   {
    "duration": 9,
    "start_time": "2022-05-13T14:15:41.854Z"
   },
   {
    "duration": 1155,
    "start_time": "2022-05-13T14:15:48.571Z"
   },
   {
    "duration": 18,
    "start_time": "2022-05-13T14:15:49.728Z"
   },
   {
    "duration": 41,
    "start_time": "2022-05-13T14:15:49.747Z"
   },
   {
    "duration": 4,
    "start_time": "2022-05-13T14:15:49.789Z"
   },
   {
    "duration": 7,
    "start_time": "2022-05-13T14:15:49.795Z"
   },
   {
    "duration": 12,
    "start_time": "2022-05-13T14:15:49.803Z"
   },
   {
    "duration": 23,
    "start_time": "2022-05-13T14:15:49.816Z"
   },
   {
    "duration": 12,
    "start_time": "2022-05-13T14:16:04.635Z"
   },
   {
    "duration": 10,
    "start_time": "2022-05-13T14:16:17.934Z"
   },
   {
    "duration": 16,
    "start_time": "2022-05-13T14:16:41.934Z"
   },
   {
    "duration": 9,
    "start_time": "2022-05-13T14:16:49.693Z"
   },
   {
    "duration": 1127,
    "start_time": "2022-05-13T14:16:54.652Z"
   },
   {
    "duration": 13,
    "start_time": "2022-05-13T14:16:55.781Z"
   },
   {
    "duration": 22,
    "start_time": "2022-05-13T14:16:55.795Z"
   },
   {
    "duration": 3,
    "start_time": "2022-05-13T14:16:55.819Z"
   },
   {
    "duration": 7,
    "start_time": "2022-05-13T14:16:55.824Z"
   },
   {
    "duration": 45,
    "start_time": "2022-05-13T14:16:55.832Z"
   },
   {
    "duration": 8,
    "start_time": "2022-05-13T14:16:55.879Z"
   },
   {
    "duration": 3,
    "start_time": "2022-05-13T14:21:20.346Z"
   },
   {
    "duration": 91,
    "start_time": "2022-05-13T14:26:08.920Z"
   },
   {
    "duration": 3,
    "start_time": "2022-05-13T14:26:49.503Z"
   },
   {
    "duration": 134,
    "start_time": "2022-05-13T14:26:53.986Z"
   },
   {
    "duration": 1173,
    "start_time": "2022-05-13T14:28:35.889Z"
   },
   {
    "duration": 47,
    "start_time": "2022-05-13T14:28:37.064Z"
   },
   {
    "duration": 30,
    "start_time": "2022-05-13T14:28:37.114Z"
   },
   {
    "duration": 4,
    "start_time": "2022-05-13T14:28:37.146Z"
   },
   {
    "duration": 8,
    "start_time": "2022-05-13T14:28:37.153Z"
   },
   {
    "duration": 34,
    "start_time": "2022-05-13T14:28:37.163Z"
   },
   {
    "duration": 18,
    "start_time": "2022-05-13T14:28:37.199Z"
   },
   {
    "duration": 4,
    "start_time": "2022-05-13T14:28:37.220Z"
   },
   {
    "duration": 270,
    "start_time": "2022-05-13T14:28:37.231Z"
   },
   {
    "duration": 9,
    "start_time": "2022-05-13T14:31:48.127Z"
   },
   {
    "duration": 13,
    "start_time": "2022-05-13T14:31:52.045Z"
   },
   {
    "duration": 3,
    "start_time": "2022-05-13T14:31:56.582Z"
   },
   {
    "duration": 139,
    "start_time": "2022-05-13T14:31:58.252Z"
   },
   {
    "duration": 18,
    "start_time": "2022-05-13T14:47:38.568Z"
   },
   {
    "duration": 14,
    "start_time": "2022-05-13T14:47:58.062Z"
   },
   {
    "duration": 444,
    "start_time": "2022-05-13T14:53:08.783Z"
   },
   {
    "duration": 3,
    "start_time": "2022-05-13T17:16:54.731Z"
   },
   {
    "duration": 3,
    "start_time": "2022-05-13T17:17:55.808Z"
   },
   {
    "duration": 12,
    "start_time": "2022-05-13T17:18:34.953Z"
   },
   {
    "duration": 3,
    "start_time": "2022-05-13T17:18:45.748Z"
   },
   {
    "duration": 4,
    "start_time": "2022-05-13T17:18:47.637Z"
   },
   {
    "duration": 5,
    "start_time": "2022-05-13T17:19:57.571Z"
   },
   {
    "duration": 435,
    "start_time": "2022-05-13T17:20:25.699Z"
   },
   {
    "duration": 3,
    "start_time": "2022-05-13T17:21:12.377Z"
   },
   {
    "duration": 431,
    "start_time": "2022-05-13T17:21:14.345Z"
   },
   {
    "duration": 4,
    "start_time": "2022-05-13T17:22:51.849Z"
   },
   {
    "duration": 430,
    "start_time": "2022-05-13T17:23:13.177Z"
   },
   {
    "duration": 1117,
    "start_time": "2022-05-13T17:23:30.231Z"
   },
   {
    "duration": 18,
    "start_time": "2022-05-13T17:23:31.349Z"
   },
   {
    "duration": 23,
    "start_time": "2022-05-13T17:23:31.369Z"
   },
   {
    "duration": 4,
    "start_time": "2022-05-13T17:23:31.393Z"
   },
   {
    "duration": 8,
    "start_time": "2022-05-13T17:23:31.399Z"
   },
   {
    "duration": 23,
    "start_time": "2022-05-13T17:23:31.409Z"
   },
   {
    "duration": 40,
    "start_time": "2022-05-13T17:23:31.434Z"
   },
   {
    "duration": 3,
    "start_time": "2022-05-13T17:23:31.476Z"
   },
   {
    "duration": 5,
    "start_time": "2022-05-13T17:23:31.480Z"
   },
   {
    "duration": 5,
    "start_time": "2022-05-13T17:23:31.487Z"
   },
   {
    "duration": 5,
    "start_time": "2022-05-13T17:23:31.493Z"
   },
   {
    "duration": 6,
    "start_time": "2022-05-13T17:23:31.500Z"
   },
   {
    "duration": 68,
    "start_time": "2022-05-13T17:23:31.507Z"
   },
   {
    "duration": 3,
    "start_time": "2022-05-13T17:25:43.261Z"
   },
   {
    "duration": 4,
    "start_time": "2022-05-13T17:25:45.160Z"
   },
   {
    "duration": 12,
    "start_time": "2022-05-13T17:25:46.822Z"
   },
   {
    "duration": 1113,
    "start_time": "2022-05-13T17:26:11.381Z"
   },
   {
    "duration": 12,
    "start_time": "2022-05-13T17:26:12.496Z"
   },
   {
    "duration": 22,
    "start_time": "2022-05-13T17:26:12.510Z"
   },
   {
    "duration": 4,
    "start_time": "2022-05-13T17:26:12.534Z"
   },
   {
    "duration": 32,
    "start_time": "2022-05-13T17:26:12.539Z"
   },
   {
    "duration": 18,
    "start_time": "2022-05-13T17:26:12.573Z"
   },
   {
    "duration": 9,
    "start_time": "2022-05-13T17:26:12.593Z"
   },
   {
    "duration": 2,
    "start_time": "2022-05-13T17:26:12.604Z"
   },
   {
    "duration": 6,
    "start_time": "2022-05-13T17:26:12.607Z"
   },
   {
    "duration": 8,
    "start_time": "2022-05-13T17:26:12.615Z"
   },
   {
    "duration": 49,
    "start_time": "2022-05-13T17:26:12.624Z"
   },
   {
    "duration": 8,
    "start_time": "2022-05-13T17:26:12.674Z"
   },
   {
    "duration": 96,
    "start_time": "2022-05-13T17:26:12.684Z"
   },
   {
    "duration": 2,
    "start_time": "2022-05-13T17:26:30.976Z"
   },
   {
    "duration": 140,
    "start_time": "2022-05-13T17:27:58.702Z"
   },
   {
    "duration": 3,
    "start_time": "2022-05-13T17:28:07.002Z"
   },
   {
    "duration": 9,
    "start_time": "2022-05-13T17:28:10.115Z"
   },
   {
    "duration": 63,
    "start_time": "2022-05-13T17:28:19.209Z"
   },
   {
    "duration": 1129,
    "start_time": "2022-05-13T17:28:24.642Z"
   },
   {
    "duration": 13,
    "start_time": "2022-05-13T17:28:25.773Z"
   },
   {
    "duration": 24,
    "start_time": "2022-05-13T17:28:25.788Z"
   },
   {
    "duration": 4,
    "start_time": "2022-05-13T17:28:25.814Z"
   },
   {
    "duration": 11,
    "start_time": "2022-05-13T17:28:25.820Z"
   },
   {
    "duration": 43,
    "start_time": "2022-05-13T17:28:25.833Z"
   },
   {
    "duration": 9,
    "start_time": "2022-05-13T17:28:25.878Z"
   },
   {
    "duration": 5,
    "start_time": "2022-05-13T17:28:25.889Z"
   },
   {
    "duration": 8,
    "start_time": "2022-05-13T17:28:25.895Z"
   },
   {
    "duration": 8,
    "start_time": "2022-05-13T17:28:25.905Z"
   },
   {
    "duration": 7,
    "start_time": "2022-05-13T17:28:25.914Z"
   },
   {
    "duration": 12,
    "start_time": "2022-05-13T17:28:25.923Z"
   },
   {
    "duration": 136,
    "start_time": "2022-05-13T17:28:25.936Z"
   },
   {
    "duration": 1116,
    "start_time": "2022-05-13T17:28:39.481Z"
   },
   {
    "duration": 12,
    "start_time": "2022-05-13T17:28:40.600Z"
   },
   {
    "duration": 22,
    "start_time": "2022-05-13T17:28:40.614Z"
   },
   {
    "duration": 4,
    "start_time": "2022-05-13T17:28:40.638Z"
   },
   {
    "duration": 29,
    "start_time": "2022-05-13T17:28:40.644Z"
   },
   {
    "duration": 17,
    "start_time": "2022-05-13T17:28:40.675Z"
   },
   {
    "duration": 8,
    "start_time": "2022-05-13T17:28:40.694Z"
   },
   {
    "duration": 4,
    "start_time": "2022-05-13T17:28:40.704Z"
   },
   {
    "duration": 12,
    "start_time": "2022-05-13T17:28:40.709Z"
   },
   {
    "duration": 7,
    "start_time": "2022-05-13T17:28:40.722Z"
   },
   {
    "duration": 6,
    "start_time": "2022-05-13T17:28:40.731Z"
   },
   {
    "duration": 4,
    "start_time": "2022-05-13T17:28:40.771Z"
   },
   {
    "duration": 19,
    "start_time": "2022-05-13T17:28:40.776Z"
   },
   {
    "duration": 1447,
    "start_time": "2022-05-13T17:28:47.680Z"
   },
   {
    "duration": 20,
    "start_time": "2022-05-13T17:28:49.130Z"
   },
   {
    "duration": 34,
    "start_time": "2022-05-13T17:28:49.152Z"
   },
   {
    "duration": 4,
    "start_time": "2022-05-13T17:28:49.188Z"
   },
   {
    "duration": 11,
    "start_time": "2022-05-13T17:28:49.194Z"
   },
   {
    "duration": 25,
    "start_time": "2022-05-13T17:28:49.206Z"
   },
   {
    "duration": 9,
    "start_time": "2022-05-13T17:28:49.232Z"
   },
   {
    "duration": 29,
    "start_time": "2022-05-13T17:28:49.242Z"
   },
   {
    "duration": 17,
    "start_time": "2022-05-13T17:28:49.273Z"
   },
   {
    "duration": 6,
    "start_time": "2022-05-13T17:28:49.291Z"
   },
   {
    "duration": 5,
    "start_time": "2022-05-13T17:28:49.299Z"
   },
   {
    "duration": 15,
    "start_time": "2022-05-13T17:28:49.306Z"
   },
   {
    "duration": 148,
    "start_time": "2022-05-13T17:28:49.323Z"
   },
   {
    "duration": 272,
    "start_time": "2022-05-13T17:32:23.328Z"
   },
   {
    "duration": 1072,
    "start_time": "2022-05-13T17:32:35.286Z"
   },
   {
    "duration": 22,
    "start_time": "2022-05-13T17:32:36.360Z"
   },
   {
    "duration": 23,
    "start_time": "2022-05-13T17:32:36.386Z"
   },
   {
    "duration": 4,
    "start_time": "2022-05-13T17:32:36.411Z"
   },
   {
    "duration": 5,
    "start_time": "2022-05-13T17:32:36.418Z"
   },
   {
    "duration": 6,
    "start_time": "2022-05-13T17:32:36.424Z"
   },
   {
    "duration": 7,
    "start_time": "2022-05-13T17:32:36.431Z"
   },
   {
    "duration": 5,
    "start_time": "2022-05-13T17:32:36.439Z"
   },
   {
    "duration": 299,
    "start_time": "2022-05-13T17:32:36.446Z"
   },
   {
    "duration": 0,
    "start_time": "2022-05-13T17:32:36.746Z"
   },
   {
    "duration": 0,
    "start_time": "2022-05-13T17:32:36.747Z"
   },
   {
    "duration": 0,
    "start_time": "2022-05-13T17:32:36.748Z"
   },
   {
    "duration": 0,
    "start_time": "2022-05-13T17:32:36.749Z"
   },
   {
    "duration": 9,
    "start_time": "2022-05-13T17:32:43.189Z"
   },
   {
    "duration": 4,
    "start_time": "2022-05-13T17:33:09.926Z"
   },
   {
    "duration": 3,
    "start_time": "2022-05-13T17:33:30.480Z"
   },
   {
    "duration": 3,
    "start_time": "2022-05-13T17:33:35.090Z"
   },
   {
    "duration": 12,
    "start_time": "2022-05-13T17:33:45.478Z"
   },
   {
    "duration": 18,
    "start_time": "2022-05-13T17:37:19.478Z"
   },
   {
    "duration": 53,
    "start_time": "2022-05-13T17:37:44.920Z"
   },
   {
    "duration": 3,
    "start_time": "2022-05-13T17:39:37.725Z"
   },
   {
    "duration": 447,
    "start_time": "2022-05-13T17:39:56.271Z"
   },
   {
    "duration": 682,
    "start_time": "2022-05-13T17:40:18.361Z"
   },
   {
    "duration": 139,
    "start_time": "2022-05-13T17:40:21.937Z"
   },
   {
    "duration": 7,
    "start_time": "2022-05-13T17:40:25.334Z"
   },
   {
    "duration": 1090,
    "start_time": "2022-05-13T17:40:31.597Z"
   },
   {
    "duration": 17,
    "start_time": "2022-05-13T17:40:32.689Z"
   },
   {
    "duration": 22,
    "start_time": "2022-05-13T17:40:32.708Z"
   },
   {
    "duration": 3,
    "start_time": "2022-05-13T17:40:32.732Z"
   },
   {
    "duration": 5,
    "start_time": "2022-05-13T17:40:32.737Z"
   },
   {
    "duration": 6,
    "start_time": "2022-05-13T17:40:32.743Z"
   },
   {
    "duration": 21,
    "start_time": "2022-05-13T17:40:32.750Z"
   },
   {
    "duration": 2,
    "start_time": "2022-05-13T17:40:32.773Z"
   },
   {
    "duration": 23,
    "start_time": "2022-05-13T17:40:32.777Z"
   },
   {
    "duration": 728,
    "start_time": "2022-05-13T17:40:32.873Z"
   },
   {
    "duration": 176,
    "start_time": "2022-05-13T17:40:33.603Z"
   },
   {
    "duration": 101,
    "start_time": "2022-05-13T17:40:33.782Z"
   },
   {
    "duration": 95,
    "start_time": "2022-05-13T17:41:01.088Z"
   },
   {
    "duration": 1073,
    "start_time": "2022-05-13T17:41:07.312Z"
   },
   {
    "duration": 12,
    "start_time": "2022-05-13T17:41:08.387Z"
   },
   {
    "duration": 22,
    "start_time": "2022-05-13T17:41:08.400Z"
   },
   {
    "duration": 4,
    "start_time": "2022-05-13T17:41:08.423Z"
   },
   {
    "duration": 6,
    "start_time": "2022-05-13T17:41:08.429Z"
   },
   {
    "duration": 8,
    "start_time": "2022-05-13T17:41:08.436Z"
   },
   {
    "duration": 11,
    "start_time": "2022-05-13T17:41:08.446Z"
   },
   {
    "duration": 6,
    "start_time": "2022-05-13T17:41:08.458Z"
   },
   {
    "duration": 17,
    "start_time": "2022-05-13T17:41:08.471Z"
   },
   {
    "duration": 9,
    "start_time": "2022-05-13T17:41:08.571Z"
   },
   {
    "duration": 4,
    "start_time": "2022-05-13T17:41:08.671Z"
   },
   {
    "duration": 11,
    "start_time": "2022-05-13T17:41:08.677Z"
   },
   {
    "duration": 1108,
    "start_time": "2022-05-13T17:44:01.401Z"
   },
   {
    "duration": 12,
    "start_time": "2022-05-13T17:44:02.510Z"
   },
   {
    "duration": 22,
    "start_time": "2022-05-13T17:44:02.523Z"
   },
   {
    "duration": 3,
    "start_time": "2022-05-13T17:44:02.547Z"
   },
   {
    "duration": 7,
    "start_time": "2022-05-13T17:44:02.552Z"
   },
   {
    "duration": 2,
    "start_time": "2022-05-13T17:44:02.571Z"
   },
   {
    "duration": 5,
    "start_time": "2022-05-13T17:44:02.575Z"
   },
   {
    "duration": 6,
    "start_time": "2022-05-13T17:44:02.581Z"
   },
   {
    "duration": 7,
    "start_time": "2022-05-13T17:44:02.588Z"
   },
   {
    "duration": 4,
    "start_time": "2022-05-13T17:44:02.597Z"
   },
   {
    "duration": 5,
    "start_time": "2022-05-13T17:44:02.603Z"
   },
   {
    "duration": 120,
    "start_time": "2022-05-13T17:44:02.610Z"
   },
   {
    "duration": 18,
    "start_time": "2022-05-13T17:44:16.818Z"
   },
   {
    "duration": 112,
    "start_time": "2022-05-13T17:53:13.350Z"
   },
   {
    "duration": 13,
    "start_time": "2022-05-13T17:54:54.113Z"
   },
   {
    "duration": 1064,
    "start_time": "2022-05-13T17:55:00.030Z"
   },
   {
    "duration": 11,
    "start_time": "2022-05-13T17:55:01.096Z"
   },
   {
    "duration": 23,
    "start_time": "2022-05-13T17:55:01.109Z"
   },
   {
    "duration": 4,
    "start_time": "2022-05-13T17:55:01.134Z"
   },
   {
    "duration": 36,
    "start_time": "2022-05-13T17:55:01.141Z"
   },
   {
    "duration": 4,
    "start_time": "2022-05-13T17:55:01.179Z"
   },
   {
    "duration": 186,
    "start_time": "2022-05-13T17:55:01.185Z"
   },
   {
    "duration": 10,
    "start_time": "2022-05-13T17:55:01.373Z"
   },
   {
    "duration": 1047,
    "start_time": "2022-05-13T18:05:48.235Z"
   },
   {
    "duration": 12,
    "start_time": "2022-05-13T18:05:49.285Z"
   },
   {
    "duration": 23,
    "start_time": "2022-05-13T18:05:49.299Z"
   },
   {
    "duration": 3,
    "start_time": "2022-05-13T18:05:49.324Z"
   },
   {
    "duration": 48,
    "start_time": "2022-05-13T18:05:49.329Z"
   },
   {
    "duration": 93,
    "start_time": "2022-05-13T18:05:49.379Z"
   },
   {
    "duration": 7,
    "start_time": "2022-05-13T18:05:49.474Z"
   },
   {
    "duration": 14,
    "start_time": "2022-05-13T18:05:49.483Z"
   },
   {
    "duration": 1676,
    "start_time": "2022-05-14T11:48:45.383Z"
   },
   {
    "duration": 1521,
    "start_time": "2022-05-14T11:48:55.980Z"
   },
   {
    "duration": 74,
    "start_time": "2022-05-14T11:48:57.503Z"
   },
   {
    "duration": 18,
    "start_time": "2022-05-14T11:48:57.578Z"
   },
   {
    "duration": 3,
    "start_time": "2022-05-14T11:48:57.597Z"
   },
   {
    "duration": 431,
    "start_time": "2022-05-14T11:48:57.602Z"
   },
   {
    "duration": 9,
    "start_time": "2022-05-14T11:48:58.035Z"
   },
   {
    "duration": 156,
    "start_time": "2022-05-14T11:48:58.045Z"
   },
   {
    "duration": 7,
    "start_time": "2022-05-14T11:48:58.203Z"
   },
   {
    "duration": 9,
    "start_time": "2022-05-14T11:48:58.212Z"
   },
   {
    "duration": 378,
    "start_time": "2022-05-14T11:49:08.079Z"
   },
   {
    "duration": 305,
    "start_time": "2022-05-14T11:49:16.845Z"
   },
   {
    "duration": 57,
    "start_time": "2022-05-14T15:05:29.024Z"
   },
   {
    "duration": 1727,
    "start_time": "2022-05-14T15:05:38.268Z"
   },
   {
    "duration": 1555,
    "start_time": "2022-05-14T15:05:44.544Z"
   },
   {
    "duration": 13,
    "start_time": "2022-05-14T15:05:46.101Z"
   },
   {
    "duration": 19,
    "start_time": "2022-05-14T15:05:46.116Z"
   },
   {
    "duration": 4,
    "start_time": "2022-05-14T15:05:46.137Z"
   },
   {
    "duration": 361,
    "start_time": "2022-05-14T15:05:46.148Z"
   },
   {
    "duration": 43,
    "start_time": "2022-05-14T15:05:46.511Z"
   },
   {
    "duration": 4,
    "start_time": "2022-05-14T15:05:46.557Z"
   },
   {
    "duration": 23581,
    "start_time": "2022-05-14T15:05:46.567Z"
   },
   {
    "duration": 0,
    "start_time": "2022-05-14T15:06:10.151Z"
   },
   {
    "duration": 0,
    "start_time": "2022-05-14T15:06:10.152Z"
   },
   {
    "duration": 3,
    "start_time": "2022-05-14T15:06:19.665Z"
   },
   {
    "duration": 10697,
    "start_time": "2022-05-14T15:07:52.135Z"
   },
   {
    "duration": 4,
    "start_time": "2022-05-14T15:08:33.419Z"
   },
   {
    "duration": 9,
    "start_time": "2022-05-14T15:14:24.909Z"
   },
   {
    "duration": 3,
    "start_time": "2022-05-14T15:14:31.020Z"
   },
   {
    "duration": 11097,
    "start_time": "2022-05-14T15:14:32.600Z"
   },
   {
    "duration": 5085,
    "start_time": "2022-05-14T15:15:18.773Z"
   },
   {
    "duration": 3,
    "start_time": "2022-05-14T15:16:42.482Z"
   },
   {
    "duration": 1603,
    "start_time": "2022-05-14T15:21:37.509Z"
   },
   {
    "duration": 15,
    "start_time": "2022-05-14T15:21:39.114Z"
   },
   {
    "duration": 37,
    "start_time": "2022-05-14T15:21:39.131Z"
   },
   {
    "duration": 10,
    "start_time": "2022-05-14T15:21:39.171Z"
   },
   {
    "duration": 393,
    "start_time": "2022-05-14T15:21:39.183Z"
   },
   {
    "duration": 70,
    "start_time": "2022-05-14T15:21:39.578Z"
   },
   {
    "duration": 12,
    "start_time": "2022-05-14T15:21:39.742Z"
   },
   {
    "duration": 24,
    "start_time": "2022-05-14T15:21:39.756Z"
   },
   {
    "duration": 33,
    "start_time": "2022-05-14T15:21:39.782Z"
   },
   {
    "duration": 16,
    "start_time": "2022-05-14T15:21:39.817Z"
   },
   {
    "duration": 155,
    "start_time": "2022-05-14T15:38:56.625Z"
   }
  ],
  "kernelspec": {
   "display_name": "Python 3 (ipykernel)",
   "language": "python",
   "name": "python3"
  },
  "language_info": {
   "codemirror_mode": {
    "name": "ipython",
    "version": 3
   },
   "file_extension": ".py",
   "mimetype": "text/x-python",
   "name": "python",
   "nbconvert_exporter": "python",
   "pygments_lexer": "ipython3",
   "version": "3.9.5"
  },
  "toc": {
   "base_numbering": 1,
   "nav_menu": {},
   "number_sections": true,
   "sideBar": true,
   "skip_h1_title": true,
   "title_cell": "Содержание",
   "title_sidebar": "Contents",
   "toc_cell": true,
   "toc_position": {},
   "toc_section_display": true,
   "toc_window_display": true
  }
 },
 "nbformat": 4,
 "nbformat_minor": 2
}
